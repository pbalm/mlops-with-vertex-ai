{
 "cells": [
  {
   "cell_type": "markdown",
   "id": "e8ba7f4f",
   "metadata": {},
   "source": [
    "# 01 - Data Analysis and Preparation\n",
    "\n",
    "This notebook covers the following tasks:\n",
    "\n",
    "1. Perform exploratory data analysis and visualization.\n",
    "2. Prepare the data for the ML task in BigQuery.\n",
    "3. Generate and fix a ` TFDV schema` for the source data.\n",
    "4. Create a `Vertex Dataset resource` dataset.\n"
   ]
  },
  {
   "cell_type": "markdown",
   "id": "b481a247",
   "metadata": {},
   "source": [
    "## Dataset\n",
    "\n",
    "Credit Card Fraud https://www.kaggle.com/datasets/mlg-ulb/creditcardfraud\n",
    "\n",
    "Load the data:\n",
    "\n",
    "```\n",
    "$ bq load --skip_leading_rows=1 vertex_eu.creditcards creditcard.csv Time:STRING,V1:FLOAT,V2:FLOAT,V3:FLOAT,V4:FLOAT,V5:FLOAT,V6:FLOAT,V7:FLOAT,V8:FLOAT,V9:FLOAT,V10:FLOAT,V11:FLOAT,V12:FLOAT,V13:FLOAT,V14:FLOAT,V15:FLOAT,V16:FLOAT,V17:FLOAT,V18:FLOAT,V19:FLOAT,V20:FLOAT,V21:FLOAT,V22:FLOAT,V23:FLOAT,V24:FLOAT,V25:FLOAT,V26:FLOAT,V27:FLOAT,V28:FLOAT,Amount:FLOAT,Class:STRING\n",
    "```\n",
    "\n",
    "The ML task is to predict whether a given operation is fraudulent."
   ]
  },
  {
   "cell_type": "markdown",
   "id": "4fedd0ac",
   "metadata": {},
   "source": [
    "## Setup"
   ]
  },
  {
   "cell_type": "markdown",
   "id": "b25967c9",
   "metadata": {},
   "source": [
    "### Import libraries"
   ]
  },
  {
   "cell_type": "code",
   "execution_count": 1,
   "id": "fa2cf3f1",
   "metadata": {},
   "outputs": [],
   "source": [
    "import os\n",
    "import pandas as pd\n",
    "import tensorflow as tf\n",
    "import tensorflow_data_validation as tfdv\n",
    "from google.cloud import bigquery\n",
    "import matplotlib.pyplot as plt\n",
    "\n",
    "from google.cloud import aiplatform as vertex_ai"
   ]
  },
  {
   "cell_type": "markdown",
   "id": "9bd0ee37",
   "metadata": {},
   "source": [
    "### Setup Google Cloud project"
   ]
  },
  {
   "cell_type": "code",
   "execution_count": 2,
   "id": "c7e4712e",
   "metadata": {},
   "outputs": [
    {
     "name": "stdout",
     "output_type": "stream",
     "text": [
      "Project ID: pbalm-cxb-aa\n",
      "Region: europe-west4\n"
     ]
    }
   ],
   "source": [
    "#PROJECT = 'cxb1-prj-test-no-vpcsc' \n",
    "PROJECT = 'pbalm-cxb-aa' \n",
    "REGION = 'europe-west4' \n",
    "\n",
    "if PROJECT == \"\" or PROJECT is None or PROJECT == \"[your-project-id]\":\n",
    "    # Get your GCP project id from gcloud\n",
    "    shell_output = !gcloud config list --format 'value(core.project)' 2>/dev/null\n",
    "    PROJECT = shell_output[0]\n",
    "    \n",
    "print(\"Project ID:\", PROJECT)\n",
    "print(\"Region:\", REGION)"
   ]
  },
  {
   "cell_type": "markdown",
   "id": "384a817b",
   "metadata": {},
   "source": [
    "### Set configurations"
   ]
  },
  {
   "cell_type": "code",
   "execution_count": 3,
   "id": "b71d0738",
   "metadata": {},
   "outputs": [],
   "source": [
    "BQ_SOURCE_TABLE= 'creditcards'\n",
    "ML_TABLE = 'creditcards_ml'\n",
    "\n",
    "BQ_DATASET_NAME = 'vertex_eu' # Change to your BQ dataset name.\n",
    "BQ_LOCATION = 'EU'\n",
    "\n",
    "VERTEX_DATASET_NAME = 'creditcards'\n",
    "\n",
    "RAW_SCHEMA_DIR = 'src/raw_schema'"
   ]
  },
  {
   "cell_type": "code",
   "execution_count": 4,
   "id": "a6af5833-867c-4702-96c8-5feaf221dc1b",
   "metadata": {},
   "outputs": [
    {
     "name": "stdout",
     "output_type": "stream",
     "text": [
      "Updated property [core/project].\n",
      "yes: standard output: Broken pipe\n"
     ]
    }
   ],
   "source": [
    "!yes | gcloud config set project {PROJECT}"
   ]
  },
  {
   "cell_type": "markdown",
   "id": "39395512",
   "metadata": {},
   "source": [
    "## 1. Explore the data in BigQuery"
   ]
  },
  {
   "cell_type": "code",
   "execution_count": 5,
   "id": "5c1881cd-188a-4c54-8b1a-900f25696e20",
   "metadata": {},
   "outputs": [
    {
     "name": "stdout",
     "output_type": "stream",
     "text": [
      "SELECT * FROM `pbalm-cxb-aa.vertex_eu.creditcards` LIMIT 10\n"
     ]
    }
   ],
   "source": [
    "from google.cloud import bigquery\n",
    "\n",
    "client = bigquery.Client()  \n",
    "\n",
    "sql = f\"SELECT * FROM `{PROJECT}.{BQ_DATASET_NAME}.{BQ_SOURCE_TABLE}` LIMIT 10\"\n",
    "print(sql)\n",
    "\n",
    "query_job = client.query(sql, location=BQ_LOCATION)\n",
    "df = query_job.result().to_dataframe()"
   ]
  },
  {
   "cell_type": "code",
   "execution_count": 6,
   "id": "127b3370-1f3f-4364-a247-1ec3f98c83f7",
   "metadata": {},
   "outputs": [
    {
     "data": {
      "text/html": [
       "<div>\n",
       "<style scoped>\n",
       "    .dataframe tbody tr th:only-of-type {\n",
       "        vertical-align: middle;\n",
       "    }\n",
       "\n",
       "    .dataframe tbody tr th {\n",
       "        vertical-align: top;\n",
       "    }\n",
       "\n",
       "    .dataframe thead th {\n",
       "        text-align: right;\n",
       "    }\n",
       "</style>\n",
       "<table border=\"1\" class=\"dataframe\">\n",
       "  <thead>\n",
       "    <tr style=\"text-align: right;\">\n",
       "      <th></th>\n",
       "      <th>Time</th>\n",
       "      <th>V1</th>\n",
       "      <th>V2</th>\n",
       "      <th>V3</th>\n",
       "      <th>V4</th>\n",
       "      <th>V5</th>\n",
       "      <th>V6</th>\n",
       "      <th>V7</th>\n",
       "      <th>V8</th>\n",
       "      <th>V9</th>\n",
       "      <th>...</th>\n",
       "      <th>V21</th>\n",
       "      <th>V22</th>\n",
       "      <th>V23</th>\n",
       "      <th>V24</th>\n",
       "      <th>V25</th>\n",
       "      <th>V26</th>\n",
       "      <th>V27</th>\n",
       "      <th>V28</th>\n",
       "      <th>Amount</th>\n",
       "      <th>Class</th>\n",
       "    </tr>\n",
       "  </thead>\n",
       "  <tbody>\n",
       "    <tr>\n",
       "      <th>0</th>\n",
       "      <td>282</td>\n",
       "      <td>-0.356466</td>\n",
       "      <td>0.725418</td>\n",
       "      <td>1.971749</td>\n",
       "      <td>0.831343</td>\n",
       "      <td>0.369681</td>\n",
       "      <td>-0.107776</td>\n",
       "      <td>0.751610</td>\n",
       "      <td>-0.120166</td>\n",
       "      <td>-0.420675</td>\n",
       "      <td>...</td>\n",
       "      <td>0.020804</td>\n",
       "      <td>0.424312</td>\n",
       "      <td>-0.015989</td>\n",
       "      <td>0.466754</td>\n",
       "      <td>-0.809962</td>\n",
       "      <td>0.657334</td>\n",
       "      <td>-0.043150</td>\n",
       "      <td>-0.046401</td>\n",
       "      <td>0.0</td>\n",
       "      <td>0</td>\n",
       "    </tr>\n",
       "    <tr>\n",
       "      <th>1</th>\n",
       "      <td>380</td>\n",
       "      <td>-1.299837</td>\n",
       "      <td>0.881817</td>\n",
       "      <td>1.452842</td>\n",
       "      <td>-1.293698</td>\n",
       "      <td>-0.025105</td>\n",
       "      <td>-1.170103</td>\n",
       "      <td>0.861610</td>\n",
       "      <td>-0.193934</td>\n",
       "      <td>0.592001</td>\n",
       "      <td>...</td>\n",
       "      <td>-0.272563</td>\n",
       "      <td>-0.360853</td>\n",
       "      <td>0.223911</td>\n",
       "      <td>0.598930</td>\n",
       "      <td>-0.397705</td>\n",
       "      <td>0.637141</td>\n",
       "      <td>0.234872</td>\n",
       "      <td>0.021379</td>\n",
       "      <td>0.0</td>\n",
       "      <td>0</td>\n",
       "    </tr>\n",
       "    <tr>\n",
       "      <th>2</th>\n",
       "      <td>403</td>\n",
       "      <td>1.237413</td>\n",
       "      <td>0.512365</td>\n",
       "      <td>0.687746</td>\n",
       "      <td>1.693872</td>\n",
       "      <td>-0.236323</td>\n",
       "      <td>-0.650232</td>\n",
       "      <td>0.118066</td>\n",
       "      <td>-0.230545</td>\n",
       "      <td>-0.808523</td>\n",
       "      <td>...</td>\n",
       "      <td>-0.077543</td>\n",
       "      <td>-0.178220</td>\n",
       "      <td>0.038722</td>\n",
       "      <td>0.471218</td>\n",
       "      <td>0.289249</td>\n",
       "      <td>0.871803</td>\n",
       "      <td>-0.066884</td>\n",
       "      <td>0.012986</td>\n",
       "      <td>0.0</td>\n",
       "      <td>0</td>\n",
       "    </tr>\n",
       "    <tr>\n",
       "      <th>3</th>\n",
       "      <td>430</td>\n",
       "      <td>-1.860258</td>\n",
       "      <td>-0.629859</td>\n",
       "      <td>0.966570</td>\n",
       "      <td>0.844632</td>\n",
       "      <td>0.759983</td>\n",
       "      <td>-1.481173</td>\n",
       "      <td>-0.509681</td>\n",
       "      <td>0.540722</td>\n",
       "      <td>-0.733623</td>\n",
       "      <td>...</td>\n",
       "      <td>0.268028</td>\n",
       "      <td>0.125515</td>\n",
       "      <td>-0.225029</td>\n",
       "      <td>0.586664</td>\n",
       "      <td>-0.031598</td>\n",
       "      <td>0.570168</td>\n",
       "      <td>-0.043007</td>\n",
       "      <td>-0.223739</td>\n",
       "      <td>0.0</td>\n",
       "      <td>0</td>\n",
       "    </tr>\n",
       "    <tr>\n",
       "      <th>4</th>\n",
       "      <td>711</td>\n",
       "      <td>-0.431349</td>\n",
       "      <td>1.027694</td>\n",
       "      <td>2.670816</td>\n",
       "      <td>2.084787</td>\n",
       "      <td>-0.274567</td>\n",
       "      <td>0.286856</td>\n",
       "      <td>0.152110</td>\n",
       "      <td>0.200872</td>\n",
       "      <td>-0.596505</td>\n",
       "      <td>...</td>\n",
       "      <td>0.001241</td>\n",
       "      <td>0.154170</td>\n",
       "      <td>-0.141533</td>\n",
       "      <td>0.384610</td>\n",
       "      <td>-0.147132</td>\n",
       "      <td>-0.087100</td>\n",
       "      <td>0.101117</td>\n",
       "      <td>0.077944</td>\n",
       "      <td>0.0</td>\n",
       "      <td>0</td>\n",
       "    </tr>\n",
       "  </tbody>\n",
       "</table>\n",
       "<p>5 rows × 31 columns</p>\n",
       "</div>"
      ],
      "text/plain": [
       "  Time        V1        V2        V3        V4        V5        V6        V7  \\\n",
       "0  282 -0.356466  0.725418  1.971749  0.831343  0.369681 -0.107776  0.751610   \n",
       "1  380 -1.299837  0.881817  1.452842 -1.293698 -0.025105 -1.170103  0.861610   \n",
       "2  403  1.237413  0.512365  0.687746  1.693872 -0.236323 -0.650232  0.118066   \n",
       "3  430 -1.860258 -0.629859  0.966570  0.844632  0.759983 -1.481173 -0.509681   \n",
       "4  711 -0.431349  1.027694  2.670816  2.084787 -0.274567  0.286856  0.152110   \n",
       "\n",
       "         V8        V9  ...       V21       V22       V23       V24       V25  \\\n",
       "0 -0.120166 -0.420675  ...  0.020804  0.424312 -0.015989  0.466754 -0.809962   \n",
       "1 -0.193934  0.592001  ... -0.272563 -0.360853  0.223911  0.598930 -0.397705   \n",
       "2 -0.230545 -0.808523  ... -0.077543 -0.178220  0.038722  0.471218  0.289249   \n",
       "3  0.540722 -0.733623  ...  0.268028  0.125515 -0.225029  0.586664 -0.031598   \n",
       "4  0.200872 -0.596505  ...  0.001241  0.154170 -0.141533  0.384610 -0.147132   \n",
       "\n",
       "        V26       V27       V28  Amount  Class  \n",
       "0  0.657334 -0.043150 -0.046401     0.0      0  \n",
       "1  0.637141  0.234872  0.021379     0.0      0  \n",
       "2  0.871803 -0.066884  0.012986     0.0      0  \n",
       "3  0.570168 -0.043007 -0.223739     0.0      0  \n",
       "4 -0.087100  0.101117  0.077944     0.0      0  \n",
       "\n",
       "[5 rows x 31 columns]"
      ]
     },
     "execution_count": 6,
     "metadata": {},
     "output_type": "execute_result"
    }
   ],
   "source": [
    "df.head()"
   ]
  },
  {
   "cell_type": "code",
   "execution_count": 7,
   "id": "10804c34-e9c6-4c92-88da-3c8c24f650b3",
   "metadata": {},
   "outputs": [
    {
     "name": "stdout",
     "output_type": "stream",
     "text": [
      "Executing query with job ID: 70a44d42-c779-48af-a220-f067759d9d6a\n",
      "Query executing: 0.51s\n",
      "Query complete after 0.69s\n"
     ]
    },
    {
     "name": "stderr",
     "output_type": "stream",
     "text": [
      "Query complete after 0.00s: 100%|██████████| 2/2 [00:00<00:00, 901.03query/s]                         \n",
      "Downloading: 100%|██████████| 2/2 [00:01<00:00,  1.91rows/s]\n"
     ]
    }
   ],
   "source": [
    "%%bigquery data --project {PROJECT} --verbose\n",
    "\n",
    "SELECT \n",
    "  Class, count(*) as n\n",
    "FROM `vertex_eu.creditcards`\n",
    "GROUP BY Class\n"
   ]
  },
  {
   "cell_type": "code",
   "execution_count": 8,
   "id": "699804c5",
   "metadata": {},
   "outputs": [
    {
     "data": {
      "text/html": [
       "<div>\n",
       "<style scoped>\n",
       "    .dataframe tbody tr th:only-of-type {\n",
       "        vertical-align: middle;\n",
       "    }\n",
       "\n",
       "    .dataframe tbody tr th {\n",
       "        vertical-align: top;\n",
       "    }\n",
       "\n",
       "    .dataframe thead th {\n",
       "        text-align: right;\n",
       "    }\n",
       "</style>\n",
       "<table border=\"1\" class=\"dataframe\">\n",
       "  <thead>\n",
       "    <tr style=\"text-align: right;\">\n",
       "      <th></th>\n",
       "      <th>Class</th>\n",
       "      <th>n</th>\n",
       "    </tr>\n",
       "  </thead>\n",
       "  <tbody>\n",
       "    <tr>\n",
       "      <th>0</th>\n",
       "      <td>0</td>\n",
       "      <td>284315</td>\n",
       "    </tr>\n",
       "    <tr>\n",
       "      <th>1</th>\n",
       "      <td>1</td>\n",
       "      <td>492</td>\n",
       "    </tr>\n",
       "  </tbody>\n",
       "</table>\n",
       "</div>"
      ],
      "text/plain": [
       "  Class       n\n",
       "0     0  284315\n",
       "1     1     492"
      ]
     },
     "execution_count": 8,
     "metadata": {},
     "output_type": "execute_result"
    }
   ],
   "source": [
    "data"
   ]
  },
  {
   "cell_type": "code",
   "execution_count": 9,
   "id": "a7f2447e",
   "metadata": {},
   "outputs": [
    {
     "data": {
      "text/plain": [
       "<AxesSubplot:xlabel='Class'>"
      ]
     },
     "execution_count": 9,
     "metadata": {},
     "output_type": "execute_result"
    },
    {
     "data": {
      "image/png": "[encoded data removed]",
      "text/plain": [
       "<Figure size 432x288 with 1 Axes>"
      ]
     },
     "metadata": {
      "needs_background": "light"
     },
     "output_type": "display_data"
    }
   ],
   "source": [
    "data.plot(kind='bar', x='Class', y='n', logy=True)"
   ]
  },
  {
   "cell_type": "markdown",
   "id": "a7782c69",
   "metadata": {},
   "source": [
    "## 2. Create data for the ML task\n",
    "\n",
    "We add a `ML_use` column for pre-splitting the data, where 80% of the datsa items are set to `UNASSIGNED` while the other 20% is set to `TEST`.\n",
    "\n",
    "This column is used during training to split the dataset for training and test.\n",
    "\n",
    "In the training phase, the `UNASSIGNED` are split into `train` and `eval`. The `TEST` split is will be used for the final model validation."
   ]
  },
  {
   "cell_type": "code",
   "execution_count": 10,
   "id": "1b19789f",
   "metadata": {},
   "outputs": [],
   "source": [
    "sql_script = f'''\n",
    "CREATE OR REPLACE TABLE `{PROJECT}.{BQ_DATASET_NAME}.{ML_TABLE}` \n",
    "AS (\n",
    "    SELECT\n",
    "      * EXCEPT(Class),\n",
    "      CAST(Class AS FLOAT64) as Class,\n",
    "      IF(ABS(MOD(FARM_FINGERPRINT(Time), 100)) <= 80, 'UNASSIGNED', 'TEST') AS ML_use\n",
    "    FROM\n",
    "      `{PROJECT}.{BQ_DATASET_NAME}.{BQ_SOURCE_TABLE}`\n",
    ")\n",
    "'''"
   ]
  },
  {
   "cell_type": "code",
   "execution_count": 11,
   "id": "88f31e8c",
   "metadata": {},
   "outputs": [
    {
     "data": {
      "text/plain": [
       "<google.cloud.bigquery.table._EmptyRowIterator at 0x7f0edfe8abd0>"
      ]
     },
     "execution_count": 11,
     "metadata": {},
     "output_type": "execute_result"
    }
   ],
   "source": [
    "bq_client = bigquery.Client(project=PROJECT, location=BQ_LOCATION)\n",
    "job = bq_client.query(sql_script)\n",
    "job.result()"
   ]
  },
  {
   "cell_type": "code",
   "execution_count": 12,
   "id": "b32eea6f",
   "metadata": {},
   "outputs": [
    {
     "name": "stderr",
     "output_type": "stream",
     "text": [
      "Query complete after 0.00s: 100%|██████████| 2/2 [00:00<00:00, 686.30query/s]                         \n",
      "Downloading: 100%|██████████| 4/4 [00:01<00:00,  3.76rows/s]\n"
     ]
    },
    {
     "data": {
      "text/html": [
       "<div>\n",
       "<style scoped>\n",
       "    .dataframe tbody tr th:only-of-type {\n",
       "        vertical-align: middle;\n",
       "    }\n",
       "\n",
       "    .dataframe tbody tr th {\n",
       "        vertical-align: top;\n",
       "    }\n",
       "\n",
       "    .dataframe thead th {\n",
       "        text-align: right;\n",
       "    }\n",
       "</style>\n",
       "<table border=\"1\" class=\"dataframe\">\n",
       "  <thead>\n",
       "    <tr style=\"text-align: right;\">\n",
       "      <th></th>\n",
       "      <th>ML_use</th>\n",
       "      <th>Class</th>\n",
       "      <th>n</th>\n",
       "    </tr>\n",
       "  </thead>\n",
       "  <tbody>\n",
       "    <tr>\n",
       "      <th>0</th>\n",
       "      <td>TEST</td>\n",
       "      <td>0.0</td>\n",
       "      <td>53405</td>\n",
       "    </tr>\n",
       "    <tr>\n",
       "      <th>1</th>\n",
       "      <td>TEST</td>\n",
       "      <td>1.0</td>\n",
       "      <td>90</td>\n",
       "    </tr>\n",
       "    <tr>\n",
       "      <th>2</th>\n",
       "      <td>UNASSIGNED</td>\n",
       "      <td>0.0</td>\n",
       "      <td>230910</td>\n",
       "    </tr>\n",
       "    <tr>\n",
       "      <th>3</th>\n",
       "      <td>UNASSIGNED</td>\n",
       "      <td>1.0</td>\n",
       "      <td>402</td>\n",
       "    </tr>\n",
       "  </tbody>\n",
       "</table>\n",
       "</div>"
      ],
      "text/plain": [
       "       ML_use  Class       n\n",
       "0        TEST    0.0   53405\n",
       "1        TEST    1.0      90\n",
       "2  UNASSIGNED    0.0  230910\n",
       "3  UNASSIGNED    1.0     402"
      ]
     },
     "execution_count": 12,
     "metadata": {},
     "output_type": "execute_result"
    }
   ],
   "source": [
    "%%bigquery --project {PROJECT}\n",
    "\n",
    "SELECT ML_use, Class, COUNT(*) as n\n",
    "FROM vertex_eu.creditcards_ml\n",
    "GROUP BY ML_use, Class"
   ]
  },
  {
   "cell_type": "markdown",
   "id": "7fcc75fc",
   "metadata": {},
   "source": [
    "### Load a sample data to a Pandas DataFrame"
   ]
  },
  {
   "cell_type": "code",
   "execution_count": 13,
   "id": "f252a846",
   "metadata": {},
   "outputs": [
    {
     "name": "stderr",
     "output_type": "stream",
     "text": [
      "Query complete after 0.00s: 100%|██████████| 1/1 [00:00<00:00, 327.30query/s]                          \n",
      "Downloading: 100%|██████████| 1000/1000 [00:01<00:00, 829.66rows/s]\n"
     ]
    }
   ],
   "source": [
    "%%bigquery sample_data --project {PROJECT}\n",
    "\n",
    "SELECT * EXCEPT (Time, ML_use)\n",
    "FROM vertex_eu.creditcards_ml limit 1000"
   ]
  },
  {
   "cell_type": "code",
   "execution_count": 14,
   "id": "798809d2",
   "metadata": {},
   "outputs": [
    {
     "data": {
      "text/html": [
       "<div>\n",
       "<style scoped>\n",
       "    .dataframe tbody tr th:only-of-type {\n",
       "        vertical-align: middle;\n",
       "    }\n",
       "\n",
       "    .dataframe tbody tr th {\n",
       "        vertical-align: top;\n",
       "    }\n",
       "\n",
       "    .dataframe thead th {\n",
       "        text-align: right;\n",
       "    }\n",
       "</style>\n",
       "<table border=\"1\" class=\"dataframe\">\n",
       "  <thead>\n",
       "    <tr style=\"text-align: right;\">\n",
       "      <th></th>\n",
       "      <th>0</th>\n",
       "      <th>1</th>\n",
       "      <th>2</th>\n",
       "      <th>3</th>\n",
       "      <th>4</th>\n",
       "    </tr>\n",
       "  </thead>\n",
       "  <tbody>\n",
       "    <tr>\n",
       "      <th>V1</th>\n",
       "      <td>-0.610353</td>\n",
       "      <td>1.240561</td>\n",
       "      <td>-2.481639</td>\n",
       "      <td>1.293253</td>\n",
       "      <td>2.014471</td>\n",
       "    </tr>\n",
       "    <tr>\n",
       "      <th>V2</th>\n",
       "      <td>0.876268</td>\n",
       "      <td>0.068147</td>\n",
       "      <td>-2.439949</td>\n",
       "      <td>-0.291475</td>\n",
       "      <td>-0.482079</td>\n",
       "    </tr>\n",
       "    <tr>\n",
       "      <th>V3</th>\n",
       "      <td>3.134572</td>\n",
       "      <td>0.501235</td>\n",
       "      <td>0.363642</td>\n",
       "      <td>0.835247</td>\n",
       "      <td>-0.437049</td>\n",
       "    </tr>\n",
       "    <tr>\n",
       "      <th>V4</th>\n",
       "      <td>2.260169</td>\n",
       "      <td>0.020097</td>\n",
       "      <td>1.216827</td>\n",
       "      <td>-0.045487</td>\n",
       "      <td>0.107415</td>\n",
       "    </tr>\n",
       "    <tr>\n",
       "      <th>V5</th>\n",
       "      <td>0.001185</td>\n",
       "      <td>-0.602573</td>\n",
       "      <td>2.572442</td>\n",
       "      <td>-0.768061</td>\n",
       "      <td>-0.574444</td>\n",
       "    </tr>\n",
       "    <tr>\n",
       "      <th>V6</th>\n",
       "      <td>0.268439</td>\n",
       "      <td>-0.906269</td>\n",
       "      <td>-1.264220</td>\n",
       "      <td>0.025849</td>\n",
       "      <td>-0.154628</td>\n",
       "    </tr>\n",
       "    <tr>\n",
       "      <th>V7</th>\n",
       "      <td>0.127094</td>\n",
       "      <td>-0.087944</td>\n",
       "      <td>-0.443652</td>\n",
       "      <td>-0.688790</td>\n",
       "      <td>-0.729919</td>\n",
       "    </tr>\n",
       "    <tr>\n",
       "      <th>V8</th>\n",
       "      <td>-0.008680</td>\n",
       "      <td>-0.119053</td>\n",
       "      <td>0.075853</td>\n",
       "      <td>0.072451</td>\n",
       "      <td>0.063661</td>\n",
       "    </tr>\n",
       "    <tr>\n",
       "      <th>V9</th>\n",
       "      <td>0.952802</td>\n",
       "      <td>-0.154755</td>\n",
       "      <td>0.073188</td>\n",
       "      <td>1.079223</td>\n",
       "      <td>1.540706</td>\n",
       "    </tr>\n",
       "    <tr>\n",
       "      <th>V10</th>\n",
       "      <td>-0.144997</td>\n",
       "      <td>0.029915</td>\n",
       "      <td>0.097421</td>\n",
       "      <td>-0.397296</td>\n",
       "      <td>-0.215780</td>\n",
       "    </tr>\n",
       "    <tr>\n",
       "      <th>V11</th>\n",
       "      <td>-0.181353</td>\n",
       "      <td>1.714812</td>\n",
       "      <td>-1.339838</td>\n",
       "      <td>-1.316704</td>\n",
       "      <td>-1.008057</td>\n",
       "    </tr>\n",
       "    <tr>\n",
       "      <th>V12</th>\n",
       "      <td>-3.071173</td>\n",
       "      <td>1.163308</td>\n",
       "      <td>-0.596440</td>\n",
       "      <td>0.429092</td>\n",
       "      <td>0.326379</td>\n",
       "    </tr>\n",
       "    <tr>\n",
       "      <th>V13</th>\n",
       "      <td>1.004767</td>\n",
       "      <td>0.393239</td>\n",
       "      <td>-0.692792</td>\n",
       "      <td>0.684279</td>\n",
       "      <td>-0.061673</td>\n",
       "    </tr>\n",
       "    <tr>\n",
       "      <th>V14</th>\n",
       "      <td>0.841753</td>\n",
       "      <td>0.361693</td>\n",
       "      <td>0.278758</td>\n",
       "      <td>-0.595114</td>\n",
       "      <td>-0.192539</td>\n",
       "    </tr>\n",
       "    <tr>\n",
       "      <th>V15</th>\n",
       "      <td>-1.141020</td>\n",
       "      <td>0.331358</td>\n",
       "      <td>0.871242</td>\n",
       "      <td>0.304742</td>\n",
       "      <td>0.620059</td>\n",
       "    </tr>\n",
       "    <tr>\n",
       "      <th>V16</th>\n",
       "      <td>0.397014</td>\n",
       "      <td>0.411851</td>\n",
       "      <td>-0.750009</td>\n",
       "      <td>0.383325</td>\n",
       "      <td>0.087405</td>\n",
       "    </tr>\n",
       "    <tr>\n",
       "      <th>V17</th>\n",
       "      <td>0.290109</td>\n",
       "      <td>-0.524089</td>\n",
       "      <td>0.282120</td>\n",
       "      <td>-0.406836</td>\n",
       "      <td>-0.432623</td>\n",
       "    </tr>\n",
       "    <tr>\n",
       "      <th>V18</th>\n",
       "      <td>0.303356</td>\n",
       "      <td>-0.117672</td>\n",
       "      <td>-0.317401</td>\n",
       "      <td>-0.176135</td>\n",
       "      <td>0.106495</td>\n",
       "    </tr>\n",
       "    <tr>\n",
       "      <th>V19</th>\n",
       "      <td>-0.819222</td>\n",
       "      <td>0.212199</td>\n",
       "      <td>1.357643</td>\n",
       "      <td>0.548001</td>\n",
       "      <td>-0.160253</td>\n",
       "    </tr>\n",
       "    <tr>\n",
       "      <th>V20</th>\n",
       "      <td>-0.055314</td>\n",
       "      <td>-0.048069</td>\n",
       "      <td>-0.221691</td>\n",
       "      <td>-0.024009</td>\n",
       "      <td>-0.211948</td>\n",
       "    </tr>\n",
       "    <tr>\n",
       "      <th>V21</th>\n",
       "      <td>-0.202280</td>\n",
       "      <td>-0.040656</td>\n",
       "      <td>-0.039426</td>\n",
       "      <td>-0.173214</td>\n",
       "      <td>0.168426</td>\n",
       "    </tr>\n",
       "    <tr>\n",
       "      <th>V22</th>\n",
       "      <td>-0.122893</td>\n",
       "      <td>-0.115151</td>\n",
       "      <td>0.480591</td>\n",
       "      <td>-0.258439</td>\n",
       "      <td>0.720739</td>\n",
       "    </tr>\n",
       "    <tr>\n",
       "      <th>V23</th>\n",
       "      <td>-0.183132</td>\n",
       "      <td>0.056183</td>\n",
       "      <td>1.779358</td>\n",
       "      <td>-0.041012</td>\n",
       "      <td>0.181453</td>\n",
       "    </tr>\n",
       "    <tr>\n",
       "      <th>V24</th>\n",
       "      <td>0.295979</td>\n",
       "      <td>0.602817</td>\n",
       "      <td>-0.756700</td>\n",
       "      <td>-0.354428</td>\n",
       "      <td>0.710160</td>\n",
       "    </tr>\n",
       "    <tr>\n",
       "      <th>V25</th>\n",
       "      <td>-0.159989</td>\n",
       "      <td>0.201565</td>\n",
       "      <td>-0.161099</td>\n",
       "      <td>0.243380</td>\n",
       "      <td>-0.162247</td>\n",
       "    </tr>\n",
       "    <tr>\n",
       "      <th>V26</th>\n",
       "      <td>-0.130196</td>\n",
       "      <td>0.897550</td>\n",
       "      <td>0.685617</td>\n",
       "      <td>1.041266</td>\n",
       "      <td>0.099248</td>\n",
       "    </tr>\n",
       "    <tr>\n",
       "      <th>V27</th>\n",
       "      <td>-0.076139</td>\n",
       "      <td>-0.081943</td>\n",
       "      <td>0.223071</td>\n",
       "      <td>-0.030509</td>\n",
       "      <td>0.014587</td>\n",
       "    </tr>\n",
       "    <tr>\n",
       "      <th>V28</th>\n",
       "      <td>-0.109076</td>\n",
       "      <td>-0.003223</td>\n",
       "      <td>0.139619</td>\n",
       "      <td>0.007451</td>\n",
       "      <td>-0.037794</td>\n",
       "    </tr>\n",
       "    <tr>\n",
       "      <th>Amount</th>\n",
       "      <td>0.000000</td>\n",
       "      <td>0.000000</td>\n",
       "      <td>0.000000</td>\n",
       "      <td>0.000000</td>\n",
       "      <td>0.000000</td>\n",
       "    </tr>\n",
       "    <tr>\n",
       "      <th>Class</th>\n",
       "      <td>0.000000</td>\n",
       "      <td>0.000000</td>\n",
       "      <td>0.000000</td>\n",
       "      <td>0.000000</td>\n",
       "      <td>0.000000</td>\n",
       "    </tr>\n",
       "  </tbody>\n",
       "</table>\n",
       "</div>"
      ],
      "text/plain": [
       "               0         1         2         3         4\n",
       "V1     -0.610353  1.240561 -2.481639  1.293253  2.014471\n",
       "V2      0.876268  0.068147 -2.439949 -0.291475 -0.482079\n",
       "V3      3.134572  0.501235  0.363642  0.835247 -0.437049\n",
       "V4      2.260169  0.020097  1.216827 -0.045487  0.107415\n",
       "V5      0.001185 -0.602573  2.572442 -0.768061 -0.574444\n",
       "V6      0.268439 -0.906269 -1.264220  0.025849 -0.154628\n",
       "V7      0.127094 -0.087944 -0.443652 -0.688790 -0.729919\n",
       "V8     -0.008680 -0.119053  0.075853  0.072451  0.063661\n",
       "V9      0.952802 -0.154755  0.073188  1.079223  1.540706\n",
       "V10    -0.144997  0.029915  0.097421 -0.397296 -0.215780\n",
       "V11    -0.181353  1.714812 -1.339838 -1.316704 -1.008057\n",
       "V12    -3.071173  1.163308 -0.596440  0.429092  0.326379\n",
       "V13     1.004767  0.393239 -0.692792  0.684279 -0.061673\n",
       "V14     0.841753  0.361693  0.278758 -0.595114 -0.192539\n",
       "V15    -1.141020  0.331358  0.871242  0.304742  0.620059\n",
       "V16     0.397014  0.411851 -0.750009  0.383325  0.087405\n",
       "V17     0.290109 -0.524089  0.282120 -0.406836 -0.432623\n",
       "V18     0.303356 -0.117672 -0.317401 -0.176135  0.106495\n",
       "V19    -0.819222  0.212199  1.357643  0.548001 -0.160253\n",
       "V20    -0.055314 -0.048069 -0.221691 -0.024009 -0.211948\n",
       "V21    -0.202280 -0.040656 -0.039426 -0.173214  0.168426\n",
       "V22    -0.122893 -0.115151  0.480591 -0.258439  0.720739\n",
       "V23    -0.183132  0.056183  1.779358 -0.041012  0.181453\n",
       "V24     0.295979  0.602817 -0.756700 -0.354428  0.710160\n",
       "V25    -0.159989  0.201565 -0.161099  0.243380 -0.162247\n",
       "V26    -0.130196  0.897550  0.685617  1.041266  0.099248\n",
       "V27    -0.076139 -0.081943  0.223071 -0.030509  0.014587\n",
       "V28    -0.109076 -0.003223  0.139619  0.007451 -0.037794\n",
       "Amount  0.000000  0.000000  0.000000  0.000000  0.000000\n",
       "Class   0.000000  0.000000  0.000000  0.000000  0.000000"
      ]
     },
     "execution_count": 14,
     "metadata": {},
     "output_type": "execute_result"
    }
   ],
   "source": [
    "sample_data.head().T"
   ]
  },
  {
   "cell_type": "code",
   "execution_count": 15,
   "id": "23595838",
   "metadata": {},
   "outputs": [
    {
     "data": {
      "text/plain": [
       "0.0    995\n",
       "1.0      5\n",
       "Name: Class, dtype: int64"
      ]
     },
     "execution_count": 15,
     "metadata": {},
     "output_type": "execute_result"
    }
   ],
   "source": [
    "sample_data.Class.value_counts()"
   ]
  },
  {
   "cell_type": "code",
   "execution_count": 16,
   "id": "3d06bb64",
   "metadata": {},
   "outputs": [
    {
     "data": {
      "text/plain": [
       "<AxesSubplot:>"
      ]
     },
     "execution_count": 16,
     "metadata": {},
     "output_type": "execute_result"
    },
    {
     "data": {
      "image/png": "[encoded data removed]",
      "text/plain": [
       "<Figure size 432x288 with 1 Axes>"
      ]
     },
     "metadata": {
      "needs_background": "light"
     },
     "output_type": "display_data"
    }
   ],
   "source": [
    "sample_data.V4.hist()"
   ]
  },
  {
   "cell_type": "markdown",
   "id": "10aae180",
   "metadata": {},
   "source": [
    "## 3. Generate raw data schema\n",
    "\n",
    "The [TensorFlow Data Validation (TFDV)](https://www.tensorflow.org/tfx/data_validation/get_started) data schema will be used in:\n",
    "1. Identify the raw data types and shapes in the data transformation.\n",
    "2. Create the serving input signature for the custom model.\n",
    "3. Validate the new raw training data in the TFX pipeline."
   ]
  },
  {
   "cell_type": "code",
   "execution_count": 17,
   "id": "4087d5fa",
   "metadata": {},
   "outputs": [],
   "source": [
    "stats = tfdv.generate_statistics_from_dataframe(\n",
    "    dataframe=sample_data,\n",
    "    stats_options=tfdv.StatsOptions(\n",
    "        label_feature='Class',\n",
    "        weight_feature=None,\n",
    "        sample_rate=1,\n",
    "        num_top_values=50\n",
    "    )\n",
    ")"
   ]
  },
  {
   "cell_type": "code",
   "execution_count": 18,
   "id": "091fbd77",
   "metadata": {},
   "outputs": [
    {
     "data": {
      "text/html": [
       "<iframe id='facets-iframe' width=\"100%\" height=\"500px\"></iframe>\n",
       "        <script>\n",
       "        facets_iframe = document.getElementById('facets-iframe');\n",
       "        facets_html = '<script src=\"https://cdnjs.cloudflare.com/ajax/libs/webcomponentsjs/1.3.3/webcomponents-lite.js\"><\\/script><link rel=\"import\" href=\"https://raw.githubusercontent.com/PAIR-code/facets/master/facets-dist/facets-jupyter.html\"><facets-overview proto-input=\"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\"></facets-overview>';\n",
       "        facets_iframe.srcdoc = facets_html;\n",
       "         facets_iframe.id = \"\";\n",
       "         setTimeout(() => {\n",
       "           facets_iframe.setAttribute('height', facets_iframe.contentWindow.document.body.offsetHeight + 'px')\n",
       "         }, 1500)\n",
       "         </script>"
      ],
      "text/plain": [
       "<IPython.core.display.HTML object>"
      ]
     },
     "metadata": {},
     "output_type": "display_data"
    }
   ],
   "source": [
    "tfdv.visualize_statistics(stats)"
   ]
  },
  {
   "cell_type": "code",
   "execution_count": 19,
   "id": "d251e09b",
   "metadata": {},
   "outputs": [
    {
     "data": {
      "text/html": [
       "<div>\n",
       "<style scoped>\n",
       "    .dataframe tbody tr th:only-of-type {\n",
       "        vertical-align: middle;\n",
       "    }\n",
       "\n",
       "    .dataframe tbody tr th {\n",
       "        vertical-align: top;\n",
       "    }\n",
       "\n",
       "    .dataframe thead th {\n",
       "        text-align: right;\n",
       "    }\n",
       "</style>\n",
       "<table border=\"1\" class=\"dataframe\">\n",
       "  <thead>\n",
       "    <tr style=\"text-align: right;\">\n",
       "      <th></th>\n",
       "      <th>Type</th>\n",
       "      <th>Presence</th>\n",
       "      <th>Valency</th>\n",
       "      <th>Domain</th>\n",
       "    </tr>\n",
       "    <tr>\n",
       "      <th>Feature name</th>\n",
       "      <th></th>\n",
       "      <th></th>\n",
       "      <th></th>\n",
       "      <th></th>\n",
       "    </tr>\n",
       "  </thead>\n",
       "  <tbody>\n",
       "    <tr>\n",
       "      <th>'V1'</th>\n",
       "      <td>FLOAT</td>\n",
       "      <td>required</td>\n",
       "      <td></td>\n",
       "      <td>-</td>\n",
       "    </tr>\n",
       "    <tr>\n",
       "      <th>'V2'</th>\n",
       "      <td>FLOAT</td>\n",
       "      <td>required</td>\n",
       "      <td></td>\n",
       "      <td>-</td>\n",
       "    </tr>\n",
       "    <tr>\n",
       "      <th>'V3'</th>\n",
       "      <td>FLOAT</td>\n",
       "      <td>required</td>\n",
       "      <td></td>\n",
       "      <td>-</td>\n",
       "    </tr>\n",
       "    <tr>\n",
       "      <th>'V4'</th>\n",
       "      <td>FLOAT</td>\n",
       "      <td>required</td>\n",
       "      <td></td>\n",
       "      <td>-</td>\n",
       "    </tr>\n",
       "    <tr>\n",
       "      <th>'V5'</th>\n",
       "      <td>FLOAT</td>\n",
       "      <td>required</td>\n",
       "      <td></td>\n",
       "      <td>-</td>\n",
       "    </tr>\n",
       "    <tr>\n",
       "      <th>'V6'</th>\n",
       "      <td>FLOAT</td>\n",
       "      <td>required</td>\n",
       "      <td></td>\n",
       "      <td>-</td>\n",
       "    </tr>\n",
       "    <tr>\n",
       "      <th>'V7'</th>\n",
       "      <td>FLOAT</td>\n",
       "      <td>required</td>\n",
       "      <td></td>\n",
       "      <td>-</td>\n",
       "    </tr>\n",
       "    <tr>\n",
       "      <th>'V8'</th>\n",
       "      <td>FLOAT</td>\n",
       "      <td>required</td>\n",
       "      <td></td>\n",
       "      <td>-</td>\n",
       "    </tr>\n",
       "    <tr>\n",
       "      <th>'V9'</th>\n",
       "      <td>FLOAT</td>\n",
       "      <td>required</td>\n",
       "      <td></td>\n",
       "      <td>-</td>\n",
       "    </tr>\n",
       "    <tr>\n",
       "      <th>'V10'</th>\n",
       "      <td>FLOAT</td>\n",
       "      <td>required</td>\n",
       "      <td></td>\n",
       "      <td>-</td>\n",
       "    </tr>\n",
       "    <tr>\n",
       "      <th>'V11'</th>\n",
       "      <td>FLOAT</td>\n",
       "      <td>required</td>\n",
       "      <td></td>\n",
       "      <td>-</td>\n",
       "    </tr>\n",
       "    <tr>\n",
       "      <th>'V12'</th>\n",
       "      <td>FLOAT</td>\n",
       "      <td>required</td>\n",
       "      <td></td>\n",
       "      <td>-</td>\n",
       "    </tr>\n",
       "    <tr>\n",
       "      <th>'V13'</th>\n",
       "      <td>FLOAT</td>\n",
       "      <td>required</td>\n",
       "      <td></td>\n",
       "      <td>-</td>\n",
       "    </tr>\n",
       "    <tr>\n",
       "      <th>'V14'</th>\n",
       "      <td>FLOAT</td>\n",
       "      <td>required</td>\n",
       "      <td></td>\n",
       "      <td>-</td>\n",
       "    </tr>\n",
       "    <tr>\n",
       "      <th>'V15'</th>\n",
       "      <td>FLOAT</td>\n",
       "      <td>required</td>\n",
       "      <td></td>\n",
       "      <td>-</td>\n",
       "    </tr>\n",
       "    <tr>\n",
       "      <th>'V16'</th>\n",
       "      <td>FLOAT</td>\n",
       "      <td>required</td>\n",
       "      <td></td>\n",
       "      <td>-</td>\n",
       "    </tr>\n",
       "    <tr>\n",
       "      <th>'V17'</th>\n",
       "      <td>FLOAT</td>\n",
       "      <td>required</td>\n",
       "      <td></td>\n",
       "      <td>-</td>\n",
       "    </tr>\n",
       "    <tr>\n",
       "      <th>'V18'</th>\n",
       "      <td>FLOAT</td>\n",
       "      <td>required</td>\n",
       "      <td></td>\n",
       "      <td>-</td>\n",
       "    </tr>\n",
       "    <tr>\n",
       "      <th>'V19'</th>\n",
       "      <td>FLOAT</td>\n",
       "      <td>required</td>\n",
       "      <td></td>\n",
       "      <td>-</td>\n",
       "    </tr>\n",
       "    <tr>\n",
       "      <th>'V20'</th>\n",
       "      <td>FLOAT</td>\n",
       "      <td>required</td>\n",
       "      <td></td>\n",
       "      <td>-</td>\n",
       "    </tr>\n",
       "    <tr>\n",
       "      <th>'V21'</th>\n",
       "      <td>FLOAT</td>\n",
       "      <td>required</td>\n",
       "      <td></td>\n",
       "      <td>-</td>\n",
       "    </tr>\n",
       "    <tr>\n",
       "      <th>'V22'</th>\n",
       "      <td>FLOAT</td>\n",
       "      <td>required</td>\n",
       "      <td></td>\n",
       "      <td>-</td>\n",
       "    </tr>\n",
       "    <tr>\n",
       "      <th>'V23'</th>\n",
       "      <td>FLOAT</td>\n",
       "      <td>required</td>\n",
       "      <td></td>\n",
       "      <td>-</td>\n",
       "    </tr>\n",
       "    <tr>\n",
       "      <th>'V24'</th>\n",
       "      <td>FLOAT</td>\n",
       "      <td>required</td>\n",
       "      <td></td>\n",
       "      <td>-</td>\n",
       "    </tr>\n",
       "    <tr>\n",
       "      <th>'V25'</th>\n",
       "      <td>FLOAT</td>\n",
       "      <td>required</td>\n",
       "      <td></td>\n",
       "      <td>-</td>\n",
       "    </tr>\n",
       "    <tr>\n",
       "      <th>'V26'</th>\n",
       "      <td>FLOAT</td>\n",
       "      <td>required</td>\n",
       "      <td></td>\n",
       "      <td>-</td>\n",
       "    </tr>\n",
       "    <tr>\n",
       "      <th>'V27'</th>\n",
       "      <td>FLOAT</td>\n",
       "      <td>required</td>\n",
       "      <td></td>\n",
       "      <td>-</td>\n",
       "    </tr>\n",
       "    <tr>\n",
       "      <th>'V28'</th>\n",
       "      <td>FLOAT</td>\n",
       "      <td>required</td>\n",
       "      <td></td>\n",
       "      <td>-</td>\n",
       "    </tr>\n",
       "    <tr>\n",
       "      <th>'Amount'</th>\n",
       "      <td>FLOAT</td>\n",
       "      <td>required</td>\n",
       "      <td></td>\n",
       "      <td>-</td>\n",
       "    </tr>\n",
       "    <tr>\n",
       "      <th>'Class'</th>\n",
       "      <td>FLOAT</td>\n",
       "      <td>required</td>\n",
       "      <td></td>\n",
       "      <td>-</td>\n",
       "    </tr>\n",
       "  </tbody>\n",
       "</table>\n",
       "</div>"
      ],
      "text/plain": [
       "               Type  Presence Valency Domain\n",
       "Feature name                                \n",
       "'V1'          FLOAT  required              -\n",
       "'V2'          FLOAT  required              -\n",
       "'V3'          FLOAT  required              -\n",
       "'V4'          FLOAT  required              -\n",
       "'V5'          FLOAT  required              -\n",
       "'V6'          FLOAT  required              -\n",
       "'V7'          FLOAT  required              -\n",
       "'V8'          FLOAT  required              -\n",
       "'V9'          FLOAT  required              -\n",
       "'V10'         FLOAT  required              -\n",
       "'V11'         FLOAT  required              -\n",
       "'V12'         FLOAT  required              -\n",
       "'V13'         FLOAT  required              -\n",
       "'V14'         FLOAT  required              -\n",
       "'V15'         FLOAT  required              -\n",
       "'V16'         FLOAT  required              -\n",
       "'V17'         FLOAT  required              -\n",
       "'V18'         FLOAT  required              -\n",
       "'V19'         FLOAT  required              -\n",
       "'V20'         FLOAT  required              -\n",
       "'V21'         FLOAT  required              -\n",
       "'V22'         FLOAT  required              -\n",
       "'V23'         FLOAT  required              -\n",
       "'V24'         FLOAT  required              -\n",
       "'V25'         FLOAT  required              -\n",
       "'V26'         FLOAT  required              -\n",
       "'V27'         FLOAT  required              -\n",
       "'V28'         FLOAT  required              -\n",
       "'Amount'      FLOAT  required              -\n",
       "'Class'       FLOAT  required              -"
      ]
     },
     "metadata": {},
     "output_type": "display_data"
    }
   ],
   "source": [
    "schema = tfdv.infer_schema(statistics=stats)\n",
    "tfdv.display_schema(schema=schema)"
   ]
  },
  {
   "cell_type": "code",
   "execution_count": 20,
   "id": "502c49f1",
   "metadata": {},
   "outputs": [],
   "source": [
    "raw_schema_location = os.path.join(RAW_SCHEMA_DIR, 'schema.pbtxt')\n",
    "tfdv.write_schema_text(schema, raw_schema_location)"
   ]
  },
  {
   "cell_type": "markdown",
   "id": "59df0723",
   "metadata": {},
   "source": [
    "## 4. Create Vertex Dataset resource"
   ]
  },
  {
   "cell_type": "code",
   "execution_count": 21,
   "id": "90d9b605",
   "metadata": {},
   "outputs": [
    {
     "name": "stdout",
     "output_type": "stream",
     "text": [
      "Project ID: pbalm-cxb-aa\n",
      "Region: europe-west4\n"
     ]
    }
   ],
   "source": [
    "print(\"Project ID:\", PROJECT)\n",
    "print(\"Region:\", REGION)\n",
    "\n",
    "vertex_ai.init(\n",
    "    project=PROJECT,\n",
    "    location=REGION\n",
    ")"
   ]
  },
  {
   "cell_type": "markdown",
   "id": "464ab920",
   "metadata": {},
   "source": [
    "### Create the dataset resource"
   ]
  },
  {
   "cell_type": "code",
   "execution_count": 22,
   "id": "a0a1707a",
   "metadata": {},
   "outputs": [
    {
     "name": "stdout",
     "output_type": "stream",
     "text": [
      "Creating TabularDataset\n",
      "Create TabularDataset backing LRO: projects/188940921537/locations/europe-west4/datasets/3341191536439197696/operations/1756070152895463424\n",
      "TabularDataset created. Resource name: projects/188940921537/locations/europe-west4/datasets/3341191536439197696\n",
      "To use this TabularDataset in another session:\n",
      "ds = aiplatform.TabularDataset('projects/188940921537/locations/europe-west4/datasets/3341191536439197696')\n"
     ]
    },
    {
     "data": {
      "text/plain": [
       "name: \"projects/188940921537/locations/europe-west4/datasets/3341191536439197696\"\n",
       "display_name: \"creditcards\"\n",
       "metadata_schema_uri: \"gs://google-cloud-aiplatform/schema/dataset/metadata/tabular_1.0.0.yaml\"\n",
       "create_time {\n",
       "  seconds: 1656414660\n",
       "  nanos: 525307000\n",
       "}\n",
       "update_time {\n",
       "  seconds: 1656414661\n",
       "  nanos: 393775000\n",
       "}\n",
       "etag: \"AMEw9yNtWConVTHWS27rYgeRo6MjFDmZaZMB-DtwWPdcU5bxkPk6L4lurWCynmQEVPJ1\"\n",
       "labels {\n",
       "  key: \"aiplatform.googleapis.com/dataset_metadata_schema\"\n",
       "  value: \"TABLE\"\n",
       "}\n",
       "metadata {\n",
       "  struct_value {\n",
       "    fields {\n",
       "      key: \"inputConfig\"\n",
       "      value {\n",
       "        struct_value {\n",
       "          fields {\n",
       "            key: \"bigquerySource\"\n",
       "            value {\n",
       "              struct_value {\n",
       "                fields {\n",
       "                  key: \"uri\"\n",
       "                  value {\n",
       "                    string_value: \"bq://pbalm-cxb-aa.vertex_eu.creditcards_ml\"\n",
       "                  }\n",
       "                }\n",
       "              }\n",
       "            }\n",
       "          }\n",
       "        }\n",
       "      }\n",
       "    }\n",
       "  }\n",
       "}"
      ]
     },
     "execution_count": 22,
     "metadata": {},
     "output_type": "execute_result"
    }
   ],
   "source": [
    "bq_uri = f\"bq://{PROJECT}.{BQ_DATASET_NAME}.{ML_TABLE}\"\n",
    "\n",
    "dataset = vertex_ai.TabularDataset.create(\n",
    "    display_name=VERTEX_DATASET_NAME, bq_source=bq_uri)\n",
    "\n",
    "dataset.gca_resource"
   ]
  },
  {
   "cell_type": "markdown",
   "id": "c761fadb",
   "metadata": {},
   "source": [
    "### Get the dataset resource\n",
    "\n",
    "The dataset resource is retrieved by display name. Because multiple datasets can have the same display name, we retrieve the most recent updated one."
   ]
  },
  {
   "cell_type": "code",
   "execution_count": 23,
   "id": "d78b7f4d",
   "metadata": {},
   "outputs": [
    {
     "name": "stdout",
     "output_type": "stream",
     "text": [
      "Dataset resource name: projects/188940921537/locations/europe-west4/datasets/3341191536439197696\n",
      "Dataset BigQuery source: bq://pbalm-cxb-aa.vertex_eu.creditcards_ml\n"
     ]
    }
   ],
   "source": [
    "dataset = vertex_ai.TabularDataset.list(\n",
    "    filter=f\"display_name={VERTEX_DATASET_NAME}\", \n",
    "    order_by=\"update_time\")[-1]\n",
    "\n",
    "print(\"Dataset resource name:\", dataset.resource_name)\n",
    "print(\"Dataset BigQuery source:\", dataset.gca_resource.metadata['inputConfig']['bigquerySource']['uri'])"
   ]
  }
 ],
 "metadata": {
  "environment": {
   "kernel": "python3",
   "name": "tf2-gpu.2-8.m93",
   "type": "gcloud",
   "uri": "gcr.io/deeplearning-platform-release/tf2-gpu.2-8:m93"
  },
  "kernelspec": {
   "display_name": "Python 3",
   "language": "python",
   "name": "python3"
  },
  "language_info": {
   "codemirror_mode": {
    "name": "ipython",
    "version": 3
   },
   "file_extension": ".py",
   "mimetype": "text/x-python",
   "name": "python",
   "nbconvert_exporter": "python",
   "pygments_lexer": "ipython3",
   "version": "3.7.12"
  }
 },
 "nbformat": 4,
 "nbformat_minor": 5
}
