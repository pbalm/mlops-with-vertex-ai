{
 "cells": [
  {
   "cell_type": "markdown",
   "id": "e8ba7f4f",
   "metadata": {},
   "source": [
    "# 01 - Data Analysis and Preparation\n",
    "\n",
    "This notebook covers the following tasks:\n",
    "\n",
    "1. Perform exploratory data analysis and visualization.\n",
    "2. Prepare the data for the ML task in BigQuery.\n",
    "3. Generate and fix a ` TFDV schema` for the source data.\n",
    "4. Create a `Vertex Dataset resource` dataset.\n"
   ]
  },
  {
   "cell_type": "markdown",
   "id": "b481a247",
   "metadata": {},
   "source": [
    "## Dataset\n",
    "\n",
    "Credit Card Fraud https://www.kaggle.com/datasets/mlg-ulb/creditcardfraud\n",
    "\n",
    "Load the data:\n",
    "\n",
    "```\n",
    "$ bq load --skip_leading_rows=1 vertex_eu.creditcards creditcard.csv Time:STRING,V1:FLOAT,V2:FLOAT,V3:FLOAT,V4:FLOAT,V5:FLOAT,V6:FLOAT,V7:FLOAT,V8:FLOAT,V9:FLOAT,V10:FLOAT,V11:FLOAT,V12:FLOAT,V13:FLOAT,V14:FLOAT,V15:FLOAT,V16:FLOAT,V17:FLOAT,V18:FLOAT,V19:FLOAT,V20:FLOAT,V21:FLOAT,V22:FLOAT,V23:FLOAT,V24:FLOAT,V25:FLOAT,V26:FLOAT,V27:FLOAT,V28:FLOAT,Amount:FLOAT,Class:STRING\n",
    "```\n",
    "\n",
    "The ML task is to predict whether a given operation is fraudulent."
   ]
  },
  {
   "cell_type": "markdown",
   "id": "4fedd0ac",
   "metadata": {},
   "source": [
    "## Setup"
   ]
  },
  {
   "cell_type": "markdown",
   "id": "b25967c9",
   "metadata": {},
   "source": [
    "### Import libraries"
   ]
  },
  {
   "cell_type": "code",
   "execution_count": 2,
   "id": "fa2cf3f1",
   "metadata": {},
   "outputs": [],
   "source": [
    "import os\n",
    "import pandas as pd\n",
    "import tensorflow as tf\n",
    "import tensorflow_data_validation as tfdv\n",
    "from google.cloud import bigquery\n",
    "import matplotlib.pyplot as plt\n",
    "\n",
    "from google.cloud import aiplatform as vertex_ai"
   ]
  },
  {
   "cell_type": "markdown",
   "id": "9bd0ee37",
   "metadata": {},
   "source": [
    "### Setup Google Cloud project"
   ]
  },
  {
   "cell_type": "code",
   "execution_count": 3,
   "id": "c7e4712e",
   "metadata": {},
   "outputs": [
    {
     "name": "stdout",
     "output_type": "stream",
     "text": [
      "Project ID: cxb1-prj-test-no-vpcsc\n",
      "Region: europe-west1\n"
     ]
    }
   ],
   "source": [
    "PROJECT = 'cxb1-prj-test-no-vpcsc' # Change to your project id.\n",
    "REGION = 'europe-west1' # Change to your region.\n",
    "\n",
    "if PROJECT == \"\" or PROJECT is None or PROJECT == \"[your-project-id]\":\n",
    "    # Get your GCP project id from gcloud\n",
    "    shell_output = !gcloud config list --format 'value(core.project)' 2>/dev/null\n",
    "    PROJECT = shell_output[0]\n",
    "    \n",
    "print(\"Project ID:\", PROJECT)\n",
    "print(\"Region:\", REGION)"
   ]
  },
  {
   "cell_type": "markdown",
   "id": "384a817b",
   "metadata": {},
   "source": [
    "### Set configurations"
   ]
  },
  {
   "cell_type": "code",
   "execution_count": 4,
   "id": "b71d0738",
   "metadata": {},
   "outputs": [],
   "source": [
    "BQ_SOURCE_TABLE= 'creditcards'\n",
    "ML_TABLE = 'creditcards_ml'\n",
    "\n",
    "BQ_DATASET_NAME = 'vertex_eu' # Change to your BQ dataset name.\n",
    "BQ_LOCATION = 'EU'\n",
    "\n",
    "VERTEX_DATASET_NAME = 'creditcards'\n",
    "\n",
    "RAW_SCHEMA_DIR = 'src/raw_schema'"
   ]
  },
  {
   "cell_type": "code",
   "execution_count": 5,
   "id": "a6af5833-867c-4702-96c8-5feaf221dc1b",
   "metadata": {},
   "outputs": [
    {
     "name": "stdout",
     "output_type": "stream",
     "text": [
      "Updated property [core/project].\n",
      "yes: standard output: Broken pipe\n"
     ]
    }
   ],
   "source": [
    "!yes | gcloud config set project {PROJECT}"
   ]
  },
  {
   "cell_type": "markdown",
   "id": "39395512",
   "metadata": {},
   "source": [
    "## 1. Explore the data in BigQuery"
   ]
  },
  {
   "cell_type": "code",
   "execution_count": 6,
   "id": "5c1881cd-188a-4c54-8b1a-900f25696e20",
   "metadata": {},
   "outputs": [
    {
     "name": "stdout",
     "output_type": "stream",
     "text": [
      "SELECT * FROM `cxb1-prj-test-no-vpcsc.vertex_eu.creditcards` LIMIT 10\n"
     ]
    }
   ],
   "source": [
    "from google.cloud import bigquery\n",
    "\n",
    "client = bigquery.Client()  \n",
    "\n",
    "sql = f\"SELECT * FROM `{PROJECT}.{BQ_DATASET_NAME}.{BQ_SOURCE_TABLE}` LIMIT 10\"\n",
    "print(sql)\n",
    "\n",
    "query_job = client.query(sql, location=BQ_LOCATION)\n",
    "df = query_job.result().to_dataframe()"
   ]
  },
  {
   "cell_type": "code",
   "execution_count": 7,
   "id": "127b3370-1f3f-4364-a247-1ec3f98c83f7",
   "metadata": {},
   "outputs": [
    {
     "data": {
      "text/html": [
       "<div>\n",
       "<style scoped>\n",
       "    .dataframe tbody tr th:only-of-type {\n",
       "        vertical-align: middle;\n",
       "    }\n",
       "\n",
       "    .dataframe tbody tr th {\n",
       "        vertical-align: top;\n",
       "    }\n",
       "\n",
       "    .dataframe thead th {\n",
       "        text-align: right;\n",
       "    }\n",
       "</style>\n",
       "<table border=\"1\" class=\"dataframe\">\n",
       "  <thead>\n",
       "    <tr style=\"text-align: right;\">\n",
       "      <th></th>\n",
       "      <th>Time</th>\n",
       "      <th>V1</th>\n",
       "      <th>V2</th>\n",
       "      <th>V3</th>\n",
       "      <th>V4</th>\n",
       "      <th>V5</th>\n",
       "      <th>V6</th>\n",
       "      <th>V7</th>\n",
       "      <th>V8</th>\n",
       "      <th>V9</th>\n",
       "      <th>...</th>\n",
       "      <th>V21</th>\n",
       "      <th>V22</th>\n",
       "      <th>V23</th>\n",
       "      <th>V24</th>\n",
       "      <th>V25</th>\n",
       "      <th>V26</th>\n",
       "      <th>V27</th>\n",
       "      <th>V28</th>\n",
       "      <th>Amount</th>\n",
       "      <th>Class</th>\n",
       "    </tr>\n",
       "  </thead>\n",
       "  <tbody>\n",
       "    <tr>\n",
       "      <th>0</th>\n",
       "      <td>282</td>\n",
       "      <td>-0.356466</td>\n",
       "      <td>0.725418</td>\n",
       "      <td>1.971749</td>\n",
       "      <td>0.831343</td>\n",
       "      <td>0.369681</td>\n",
       "      <td>-0.107776</td>\n",
       "      <td>0.751610</td>\n",
       "      <td>-0.120166</td>\n",
       "      <td>-0.420675</td>\n",
       "      <td>...</td>\n",
       "      <td>0.020804</td>\n",
       "      <td>0.424312</td>\n",
       "      <td>-0.015989</td>\n",
       "      <td>0.466754</td>\n",
       "      <td>-0.809962</td>\n",
       "      <td>0.657334</td>\n",
       "      <td>-0.043150</td>\n",
       "      <td>-0.046401</td>\n",
       "      <td>0.0</td>\n",
       "      <td>0</td>\n",
       "    </tr>\n",
       "    <tr>\n",
       "      <th>1</th>\n",
       "      <td>380</td>\n",
       "      <td>-1.299837</td>\n",
       "      <td>0.881817</td>\n",
       "      <td>1.452842</td>\n",
       "      <td>-1.293698</td>\n",
       "      <td>-0.025105</td>\n",
       "      <td>-1.170103</td>\n",
       "      <td>0.861610</td>\n",
       "      <td>-0.193934</td>\n",
       "      <td>0.592001</td>\n",
       "      <td>...</td>\n",
       "      <td>-0.272563</td>\n",
       "      <td>-0.360853</td>\n",
       "      <td>0.223911</td>\n",
       "      <td>0.598930</td>\n",
       "      <td>-0.397705</td>\n",
       "      <td>0.637141</td>\n",
       "      <td>0.234872</td>\n",
       "      <td>0.021379</td>\n",
       "      <td>0.0</td>\n",
       "      <td>0</td>\n",
       "    </tr>\n",
       "    <tr>\n",
       "      <th>2</th>\n",
       "      <td>403</td>\n",
       "      <td>1.237413</td>\n",
       "      <td>0.512365</td>\n",
       "      <td>0.687746</td>\n",
       "      <td>1.693872</td>\n",
       "      <td>-0.236323</td>\n",
       "      <td>-0.650232</td>\n",
       "      <td>0.118066</td>\n",
       "      <td>-0.230545</td>\n",
       "      <td>-0.808523</td>\n",
       "      <td>...</td>\n",
       "      <td>-0.077543</td>\n",
       "      <td>-0.178220</td>\n",
       "      <td>0.038722</td>\n",
       "      <td>0.471218</td>\n",
       "      <td>0.289249</td>\n",
       "      <td>0.871803</td>\n",
       "      <td>-0.066884</td>\n",
       "      <td>0.012986</td>\n",
       "      <td>0.0</td>\n",
       "      <td>0</td>\n",
       "    </tr>\n",
       "    <tr>\n",
       "      <th>3</th>\n",
       "      <td>430</td>\n",
       "      <td>-1.860258</td>\n",
       "      <td>-0.629859</td>\n",
       "      <td>0.966570</td>\n",
       "      <td>0.844632</td>\n",
       "      <td>0.759983</td>\n",
       "      <td>-1.481173</td>\n",
       "      <td>-0.509681</td>\n",
       "      <td>0.540722</td>\n",
       "      <td>-0.733623</td>\n",
       "      <td>...</td>\n",
       "      <td>0.268028</td>\n",
       "      <td>0.125515</td>\n",
       "      <td>-0.225029</td>\n",
       "      <td>0.586664</td>\n",
       "      <td>-0.031598</td>\n",
       "      <td>0.570168</td>\n",
       "      <td>-0.043007</td>\n",
       "      <td>-0.223739</td>\n",
       "      <td>0.0</td>\n",
       "      <td>0</td>\n",
       "    </tr>\n",
       "    <tr>\n",
       "      <th>4</th>\n",
       "      <td>711</td>\n",
       "      <td>-0.431349</td>\n",
       "      <td>1.027694</td>\n",
       "      <td>2.670816</td>\n",
       "      <td>2.084787</td>\n",
       "      <td>-0.274567</td>\n",
       "      <td>0.286856</td>\n",
       "      <td>0.152110</td>\n",
       "      <td>0.200872</td>\n",
       "      <td>-0.596505</td>\n",
       "      <td>...</td>\n",
       "      <td>0.001241</td>\n",
       "      <td>0.154170</td>\n",
       "      <td>-0.141533</td>\n",
       "      <td>0.384610</td>\n",
       "      <td>-0.147132</td>\n",
       "      <td>-0.087100</td>\n",
       "      <td>0.101117</td>\n",
       "      <td>0.077944</td>\n",
       "      <td>0.0</td>\n",
       "      <td>0</td>\n",
       "    </tr>\n",
       "  </tbody>\n",
       "</table>\n",
       "<p>5 rows × 31 columns</p>\n",
       "</div>"
      ],
      "text/plain": [
       "  Time        V1        V2        V3        V4        V5        V6        V7  \\\n",
       "0  282 -0.356466  0.725418  1.971749  0.831343  0.369681 -0.107776  0.751610   \n",
       "1  380 -1.299837  0.881817  1.452842 -1.293698 -0.025105 -1.170103  0.861610   \n",
       "2  403  1.237413  0.512365  0.687746  1.693872 -0.236323 -0.650232  0.118066   \n",
       "3  430 -1.860258 -0.629859  0.966570  0.844632  0.759983 -1.481173 -0.509681   \n",
       "4  711 -0.431349  1.027694  2.670816  2.084787 -0.274567  0.286856  0.152110   \n",
       "\n",
       "         V8        V9  ...       V21       V22       V23       V24       V25  \\\n",
       "0 -0.120166 -0.420675  ...  0.020804  0.424312 -0.015989  0.466754 -0.809962   \n",
       "1 -0.193934  0.592001  ... -0.272563 -0.360853  0.223911  0.598930 -0.397705   \n",
       "2 -0.230545 -0.808523  ... -0.077543 -0.178220  0.038722  0.471218  0.289249   \n",
       "3  0.540722 -0.733623  ...  0.268028  0.125515 -0.225029  0.586664 -0.031598   \n",
       "4  0.200872 -0.596505  ...  0.001241  0.154170 -0.141533  0.384610 -0.147132   \n",
       "\n",
       "        V26       V27       V28  Amount  Class  \n",
       "0  0.657334 -0.043150 -0.046401     0.0      0  \n",
       "1  0.637141  0.234872  0.021379     0.0      0  \n",
       "2  0.871803 -0.066884  0.012986     0.0      0  \n",
       "3  0.570168 -0.043007 -0.223739     0.0      0  \n",
       "4 -0.087100  0.101117  0.077944     0.0      0  \n",
       "\n",
       "[5 rows x 31 columns]"
      ]
     },
     "execution_count": 7,
     "metadata": {},
     "output_type": "execute_result"
    }
   ],
   "source": [
    "df.head()"
   ]
  },
  {
   "cell_type": "code",
   "execution_count": 8,
   "id": "10804c34-e9c6-4c92-88da-3c8c24f650b3",
   "metadata": {},
   "outputs": [
    {
     "name": "stdout",
     "output_type": "stream",
     "text": [
      "Executing query with job ID: 5dc2d565-4835-4b36-b895-1be67ef0e4e7\n",
      "Query executing: 0.44s\n",
      "Query complete after 0.65s\n"
     ]
    },
    {
     "name": "stderr",
     "output_type": "stream",
     "text": [
      "Query complete after 0.00s: 100%|██████████| 2/2 [00:00<00:00, 847.25query/s]                         \n",
      "Downloading: 100%|██████████| 2/2 [00:01<00:00,  1.87rows/s]\n"
     ]
    }
   ],
   "source": [
    "%%bigquery data --project {PROJECT} --verbose\n",
    "\n",
    "SELECT \n",
    "  Class, count(*) as n\n",
    "FROM `vertex_eu.creditcards`\n",
    "GROUP BY Class\n"
   ]
  },
  {
   "cell_type": "code",
   "execution_count": 9,
   "id": "699804c5",
   "metadata": {},
   "outputs": [
    {
     "data": {
      "text/html": [
       "<div>\n",
       "<style scoped>\n",
       "    .dataframe tbody tr th:only-of-type {\n",
       "        vertical-align: middle;\n",
       "    }\n",
       "\n",
       "    .dataframe tbody tr th {\n",
       "        vertical-align: top;\n",
       "    }\n",
       "\n",
       "    .dataframe thead th {\n",
       "        text-align: right;\n",
       "    }\n",
       "</style>\n",
       "<table border=\"1\" class=\"dataframe\">\n",
       "  <thead>\n",
       "    <tr style=\"text-align: right;\">\n",
       "      <th></th>\n",
       "      <th>Class</th>\n",
       "      <th>n</th>\n",
       "    </tr>\n",
       "  </thead>\n",
       "  <tbody>\n",
       "    <tr>\n",
       "      <th>0</th>\n",
       "      <td>0</td>\n",
       "      <td>284315</td>\n",
       "    </tr>\n",
       "    <tr>\n",
       "      <th>1</th>\n",
       "      <td>1</td>\n",
       "      <td>492</td>\n",
       "    </tr>\n",
       "  </tbody>\n",
       "</table>\n",
       "</div>"
      ],
      "text/plain": [
       "  Class       n\n",
       "0     0  284315\n",
       "1     1     492"
      ]
     },
     "execution_count": 9,
     "metadata": {},
     "output_type": "execute_result"
    }
   ],
   "source": [
    "data"
   ]
  },
  {
   "cell_type": "code",
   "execution_count": 11,
   "id": "a7f2447e",
   "metadata": {},
   "outputs": [
    {
     "data": {
      "text/plain": [
       "<AxesSubplot:xlabel='Class'>"
      ]
     },
     "execution_count": 11,
     "metadata": {},
     "output_type": "execute_result"
    },
    {
     "data": {
      "image/png": "[encoded data removed]",
      "text/plain": [
       "<Figure size 432x288 with 1 Axes>"
      ]
     },
     "metadata": {
      "needs_background": "light"
     },
     "output_type": "display_data"
    }
   ],
   "source": [
    "data.plot(kind='bar', x='Class', y='n', logy=True)"
   ]
  },
  {
   "cell_type": "markdown",
   "id": "a7782c69",
   "metadata": {},
   "source": [
    "## 2. Create data for the ML task\n",
    "\n",
    "We add a `ML_use` column for pre-splitting the data, where 80% of the datsa items are set to `UNASSIGNED` while the other 20% is set to `TEST`.\n",
    "\n",
    "This column is used during training to split the dataset for training and test.\n",
    "\n",
    "In the training phase, the `UNASSIGNED` are split into `train` and `eval`. The `TEST` split is will be used for the final model validation."
   ]
  },
  {
   "cell_type": "code",
   "execution_count": 12,
   "id": "1b19789f",
   "metadata": {},
   "outputs": [],
   "source": [
    "sql_script = f'''\n",
    "CREATE OR REPLACE TABLE `{PROJECT}.{BQ_DATASET_NAME}.{ML_TABLE}` \n",
    "AS (\n",
    "    SELECT\n",
    "      * EXCEPT(Class),\n",
    "      CAST(Class AS FLOAT64) as Class,\n",
    "      IF(ABS(MOD(FARM_FINGERPRINT(Time), 100)) <= 80, 'UNASSIGNED', 'TEST') AS ML_use\n",
    "    FROM\n",
    "      `{PROJECT}.{BQ_DATASET_NAME}.{BQ_SOURCE_TABLE}`\n",
    ")\n",
    "'''"
   ]
  },
  {
   "cell_type": "code",
   "execution_count": 13,
   "id": "88f31e8c",
   "metadata": {},
   "outputs": [
    {
     "data": {
      "text/plain": [
       "<google.cloud.bigquery.table._EmptyRowIterator at 0x7fa3edc08350>"
      ]
     },
     "execution_count": 13,
     "metadata": {},
     "output_type": "execute_result"
    }
   ],
   "source": [
    "bq_client = bigquery.Client(project=PROJECT, location=BQ_LOCATION)\n",
    "job = bq_client.query(sql_script)\n",
    "job.result()"
   ]
  },
  {
   "cell_type": "code",
   "execution_count": 14,
   "id": "b32eea6f",
   "metadata": {},
   "outputs": [
    {
     "name": "stderr",
     "output_type": "stream",
     "text": [
      "Query complete after 0.00s: 100%|██████████| 2/2 [00:00<00:00, 887.03query/s]                         \n",
      "Downloading: 100%|██████████| 4/4 [00:01<00:00,  2.90rows/s]\n"
     ]
    },
    {
     "data": {
      "text/html": [
       "<div>\n",
       "<style scoped>\n",
       "    .dataframe tbody tr th:only-of-type {\n",
       "        vertical-align: middle;\n",
       "    }\n",
       "\n",
       "    .dataframe tbody tr th {\n",
       "        vertical-align: top;\n",
       "    }\n",
       "\n",
       "    .dataframe thead th {\n",
       "        text-align: right;\n",
       "    }\n",
       "</style>\n",
       "<table border=\"1\" class=\"dataframe\">\n",
       "  <thead>\n",
       "    <tr style=\"text-align: right;\">\n",
       "      <th></th>\n",
       "      <th>ML_use</th>\n",
       "      <th>Class</th>\n",
       "      <th>n</th>\n",
       "    </tr>\n",
       "  </thead>\n",
       "  <tbody>\n",
       "    <tr>\n",
       "      <th>0</th>\n",
       "      <td>TEST</td>\n",
       "      <td>0.0</td>\n",
       "      <td>53405</td>\n",
       "    </tr>\n",
       "    <tr>\n",
       "      <th>1</th>\n",
       "      <td>TEST</td>\n",
       "      <td>1.0</td>\n",
       "      <td>90</td>\n",
       "    </tr>\n",
       "    <tr>\n",
       "      <th>2</th>\n",
       "      <td>UNASSIGNED</td>\n",
       "      <td>0.0</td>\n",
       "      <td>230910</td>\n",
       "    </tr>\n",
       "    <tr>\n",
       "      <th>3</th>\n",
       "      <td>UNASSIGNED</td>\n",
       "      <td>1.0</td>\n",
       "      <td>402</td>\n",
       "    </tr>\n",
       "  </tbody>\n",
       "</table>\n",
       "</div>"
      ],
      "text/plain": [
       "       ML_use  Class       n\n",
       "0        TEST    0.0   53405\n",
       "1        TEST    1.0      90\n",
       "2  UNASSIGNED    0.0  230910\n",
       "3  UNASSIGNED    1.0     402"
      ]
     },
     "execution_count": 14,
     "metadata": {},
     "output_type": "execute_result"
    }
   ],
   "source": [
    "%%bigquery --project {PROJECT}\n",
    "\n",
    "SELECT ML_use, Class, COUNT(*) as n\n",
    "FROM vertex_eu.creditcards_ml\n",
    "GROUP BY ML_use, Class"
   ]
  },
  {
   "cell_type": "markdown",
   "id": "7fcc75fc",
   "metadata": {},
   "source": [
    "### Load a sample data to a Pandas DataFrame"
   ]
  },
  {
   "cell_type": "code",
   "execution_count": 15,
   "id": "f252a846",
   "metadata": {},
   "outputs": [
    {
     "name": "stderr",
     "output_type": "stream",
     "text": [
      "Query complete after 0.00s: 100%|██████████| 1/1 [00:00<00:00, 385.36query/s]                          \n",
      "Downloading: 100%|██████████| 1000/1000 [00:01<00:00, 776.40rows/s]\n"
     ]
    }
   ],
   "source": [
    "%%bigquery sample_data --project {PROJECT}\n",
    "\n",
    "SELECT * EXCEPT (Time, ML_use)\n",
    "FROM vertex_eu.creditcards_ml limit 1000"
   ]
  },
  {
   "cell_type": "code",
   "execution_count": 16,
   "id": "798809d2",
   "metadata": {},
   "outputs": [
    {
     "data": {
      "text/html": [
       "<div>\n",
       "<style scoped>\n",
       "    .dataframe tbody tr th:only-of-type {\n",
       "        vertical-align: middle;\n",
       "    }\n",
       "\n",
       "    .dataframe tbody tr th {\n",
       "        vertical-align: top;\n",
       "    }\n",
       "\n",
       "    .dataframe thead th {\n",
       "        text-align: right;\n",
       "    }\n",
       "</style>\n",
       "<table border=\"1\" class=\"dataframe\">\n",
       "  <thead>\n",
       "    <tr style=\"text-align: right;\">\n",
       "      <th></th>\n",
       "      <th>0</th>\n",
       "      <th>1</th>\n",
       "      <th>2</th>\n",
       "      <th>3</th>\n",
       "      <th>4</th>\n",
       "    </tr>\n",
       "  </thead>\n",
       "  <tbody>\n",
       "    <tr>\n",
       "      <th>V1</th>\n",
       "      <td>-2.843294</td>\n",
       "      <td>-0.908505</td>\n",
       "      <td>-2.271400</td>\n",
       "      <td>-1.902416</td>\n",
       "      <td>0.074208</td>\n",
       "    </tr>\n",
       "    <tr>\n",
       "      <th>V2</th>\n",
       "      <td>-1.779524</td>\n",
       "      <td>1.161986</td>\n",
       "      <td>2.010716</td>\n",
       "      <td>0.278644</td>\n",
       "      <td>0.646433</td>\n",
       "    </tr>\n",
       "    <tr>\n",
       "      <th>V3</th>\n",
       "      <td>3.007061</td>\n",
       "      <td>1.928416</td>\n",
       "      <td>-0.120050</td>\n",
       "      <td>3.217737</td>\n",
       "      <td>0.595510</td>\n",
       "    </tr>\n",
       "    <tr>\n",
       "      <th>V4</th>\n",
       "      <td>3.262775</td>\n",
       "      <td>0.497961</td>\n",
       "      <td>1.300351</td>\n",
       "      <td>2.420889</td>\n",
       "      <td>0.907236</td>\n",
       "    </tr>\n",
       "    <tr>\n",
       "      <th>V5</th>\n",
       "      <td>2.686766</td>\n",
       "      <td>-0.530008</td>\n",
       "      <td>0.599707</td>\n",
       "      <td>2.032306</td>\n",
       "      <td>0.584523</td>\n",
       "    </tr>\n",
       "    <tr>\n",
       "      <th>V6</th>\n",
       "      <td>-0.703574</td>\n",
       "      <td>-0.192915</td>\n",
       "      <td>0.479458</td>\n",
       "      <td>2.278804</td>\n",
       "      <td>0.103284</td>\n",
       "    </tr>\n",
       "    <tr>\n",
       "      <th>V7</th>\n",
       "      <td>-2.170584</td>\n",
       "      <td>0.096970</td>\n",
       "      <td>-4.883396</td>\n",
       "      <td>-0.781996</td>\n",
       "      <td>0.521797</td>\n",
       "    </tr>\n",
       "    <tr>\n",
       "      <th>V8</th>\n",
       "      <td>0.134784</td>\n",
       "      <td>0.527777</td>\n",
       "      <td>-7.048197</td>\n",
       "      <td>0.575785</td>\n",
       "      <td>0.158224</td>\n",
       "    </tr>\n",
       "    <tr>\n",
       "      <th>V9</th>\n",
       "      <td>1.130517</td>\n",
       "      <td>-0.832962</td>\n",
       "      <td>-0.750341</td>\n",
       "      <td>0.630086</td>\n",
       "      <td>-1.070885</td>\n",
       "    </tr>\n",
       "    <tr>\n",
       "      <th>V10</th>\n",
       "      <td>0.903954</td>\n",
       "      <td>-0.661922</td>\n",
       "      <td>-1.610680</td>\n",
       "      <td>0.249473</td>\n",
       "      <td>0.602072</td>\n",
       "    </tr>\n",
       "    <tr>\n",
       "      <th>V11</th>\n",
       "      <td>2.162009</td>\n",
       "      <td>1.109628</td>\n",
       "      <td>-0.954187</td>\n",
       "      <td>0.051046</td>\n",
       "      <td>-0.219435</td>\n",
       "    </tr>\n",
       "    <tr>\n",
       "      <th>V12</th>\n",
       "      <td>-1.655292</td>\n",
       "      <td>1.324143</td>\n",
       "      <td>-0.138428</td>\n",
       "      <td>-2.951381</td>\n",
       "      <td>-0.517730</td>\n",
       "    </tr>\n",
       "    <tr>\n",
       "      <th>V13</th>\n",
       "      <td>1.701155</td>\n",
       "      <td>0.481335</td>\n",
       "      <td>-3.785719</td>\n",
       "      <td>1.835863</td>\n",
       "      <td>-1.377671</td>\n",
       "    </tr>\n",
       "    <tr>\n",
       "      <th>V14</th>\n",
       "      <td>0.920723</td>\n",
       "      <td>0.233049</td>\n",
       "      <td>2.511904</td>\n",
       "      <td>0.557891</td>\n",
       "      <td>0.148020</td>\n",
       "    </tr>\n",
       "    <tr>\n",
       "      <th>V15</th>\n",
       "      <td>-1.094008</td>\n",
       "      <td>-0.732199</td>\n",
       "      <td>0.624251</td>\n",
       "      <td>-0.369237</td>\n",
       "      <td>-2.287750</td>\n",
       "    </tr>\n",
       "    <tr>\n",
       "      <th>V16</th>\n",
       "      <td>0.039115</td>\n",
       "      <td>-0.339732</td>\n",
       "      <td>-0.780822</td>\n",
       "      <td>0.872293</td>\n",
       "      <td>0.889504</td>\n",
       "    </tr>\n",
       "    <tr>\n",
       "      <th>V17</th>\n",
       "      <td>0.556227</td>\n",
       "      <td>0.261351</td>\n",
       "      <td>1.630232</td>\n",
       "      <td>0.029118</td>\n",
       "      <td>-0.589296</td>\n",
       "    </tr>\n",
       "    <tr>\n",
       "      <th>V18</th>\n",
       "      <td>0.133817</td>\n",
       "      <td>-0.074232</td>\n",
       "      <td>-0.788537</td>\n",
       "      <td>-0.688160</td>\n",
       "      <td>-0.261183</td>\n",
       "    </tr>\n",
       "    <tr>\n",
       "      <th>V19</th>\n",
       "      <td>-0.161095</td>\n",
       "      <td>1.319598</td>\n",
       "      <td>-0.690468</td>\n",
       "      <td>-3.735679</td>\n",
       "      <td>-0.479716</td>\n",
       "    </tr>\n",
       "    <tr>\n",
       "      <th>V20</th>\n",
       "      <td>-0.976606</td>\n",
       "      <td>-0.016917</td>\n",
       "      <td>1.354725</td>\n",
       "      <td>-0.529255</td>\n",
       "      <td>-0.226148</td>\n",
       "    </tr>\n",
       "    <tr>\n",
       "      <th>V21</th>\n",
       "      <td>-0.366195</td>\n",
       "      <td>-0.131507</td>\n",
       "      <td>-3.537259</td>\n",
       "      <td>0.030064</td>\n",
       "      <td>0.083198</td>\n",
       "    </tr>\n",
       "    <tr>\n",
       "      <th>V22</th>\n",
       "      <td>0.180246</td>\n",
       "      <td>-0.364673</td>\n",
       "      <td>1.467651</td>\n",
       "      <td>0.640520</td>\n",
       "      <td>0.250755</td>\n",
       "    </tr>\n",
       "    <tr>\n",
       "      <th>V23</th>\n",
       "      <td>-0.880263</td>\n",
       "      <td>-0.159579</td>\n",
       "      <td>-1.619612</td>\n",
       "      <td>-0.558592</td>\n",
       "      <td>-0.123609</td>\n",
       "    </tr>\n",
       "    <tr>\n",
       "      <th>V24</th>\n",
       "      <td>0.299514</td>\n",
       "      <td>0.574868</td>\n",
       "      <td>0.096777</td>\n",
       "      <td>-0.492099</td>\n",
       "      <td>-0.311190</td>\n",
       "    </tr>\n",
       "    <tr>\n",
       "      <th>V25</th>\n",
       "      <td>-0.754976</td>\n",
       "      <td>0.147281</td>\n",
       "      <td>-1.475821</td>\n",
       "      <td>0.075063</td>\n",
       "      <td>-0.649348</td>\n",
       "    </tr>\n",
       "    <tr>\n",
       "      <th>V26</th>\n",
       "      <td>-0.059395</td>\n",
       "      <td>0.284884</td>\n",
       "      <td>-0.396756</td>\n",
       "      <td>0.003276</td>\n",
       "      <td>2.274925</td>\n",
       "    </tr>\n",
       "    <tr>\n",
       "      <th>V27</th>\n",
       "      <td>0.300787</td>\n",
       "      <td>-0.079363</td>\n",
       "      <td>0.107312</td>\n",
       "      <td>-0.190018</td>\n",
       "      <td>-0.130737</td>\n",
       "    </tr>\n",
       "    <tr>\n",
       "      <th>V28</th>\n",
       "      <td>-0.227858</td>\n",
       "      <td>0.001679</td>\n",
       "      <td>0.310246</td>\n",
       "      <td>-0.180510</td>\n",
       "      <td>-0.007134</td>\n",
       "    </tr>\n",
       "    <tr>\n",
       "      <th>Amount</th>\n",
       "      <td>0.000000</td>\n",
       "      <td>0.000000</td>\n",
       "      <td>0.000000</td>\n",
       "      <td>0.000000</td>\n",
       "      <td>0.000000</td>\n",
       "    </tr>\n",
       "    <tr>\n",
       "      <th>Class</th>\n",
       "      <td>0.000000</td>\n",
       "      <td>0.000000</td>\n",
       "      <td>0.000000</td>\n",
       "      <td>0.000000</td>\n",
       "      <td>0.000000</td>\n",
       "    </tr>\n",
       "  </tbody>\n",
       "</table>\n",
       "</div>"
      ],
      "text/plain": [
       "               0         1         2         3         4\n",
       "V1     -2.843294 -0.908505 -2.271400 -1.902416  0.074208\n",
       "V2     -1.779524  1.161986  2.010716  0.278644  0.646433\n",
       "V3      3.007061  1.928416 -0.120050  3.217737  0.595510\n",
       "V4      3.262775  0.497961  1.300351  2.420889  0.907236\n",
       "V5      2.686766 -0.530008  0.599707  2.032306  0.584523\n",
       "V6     -0.703574 -0.192915  0.479458  2.278804  0.103284\n",
       "V7     -2.170584  0.096970 -4.883396 -0.781996  0.521797\n",
       "V8      0.134784  0.527777 -7.048197  0.575785  0.158224\n",
       "V9      1.130517 -0.832962 -0.750341  0.630086 -1.070885\n",
       "V10     0.903954 -0.661922 -1.610680  0.249473  0.602072\n",
       "V11     2.162009  1.109628 -0.954187  0.051046 -0.219435\n",
       "V12    -1.655292  1.324143 -0.138428 -2.951381 -0.517730\n",
       "V13     1.701155  0.481335 -3.785719  1.835863 -1.377671\n",
       "V14     0.920723  0.233049  2.511904  0.557891  0.148020\n",
       "V15    -1.094008 -0.732199  0.624251 -0.369237 -2.287750\n",
       "V16     0.039115 -0.339732 -0.780822  0.872293  0.889504\n",
       "V17     0.556227  0.261351  1.630232  0.029118 -0.589296\n",
       "V18     0.133817 -0.074232 -0.788537 -0.688160 -0.261183\n",
       "V19    -0.161095  1.319598 -0.690468 -3.735679 -0.479716\n",
       "V20    -0.976606 -0.016917  1.354725 -0.529255 -0.226148\n",
       "V21    -0.366195 -0.131507 -3.537259  0.030064  0.083198\n",
       "V22     0.180246 -0.364673  1.467651  0.640520  0.250755\n",
       "V23    -0.880263 -0.159579 -1.619612 -0.558592 -0.123609\n",
       "V24     0.299514  0.574868  0.096777 -0.492099 -0.311190\n",
       "V25    -0.754976  0.147281 -1.475821  0.075063 -0.649348\n",
       "V26    -0.059395  0.284884 -0.396756  0.003276  2.274925\n",
       "V27     0.300787 -0.079363  0.107312 -0.190018 -0.130737\n",
       "V28    -0.227858  0.001679  0.310246 -0.180510 -0.007134\n",
       "Amount  0.000000  0.000000  0.000000  0.000000  0.000000\n",
       "Class   0.000000  0.000000  0.000000  0.000000  0.000000"
      ]
     },
     "execution_count": 16,
     "metadata": {},
     "output_type": "execute_result"
    }
   ],
   "source": [
    "sample_data.head().T"
   ]
  },
  {
   "cell_type": "code",
   "execution_count": 17,
   "id": "23595838",
   "metadata": {},
   "outputs": [
    {
     "data": {
      "text/plain": [
       "0.0    995\n",
       "1.0      5\n",
       "Name: Class, dtype: int64"
      ]
     },
     "execution_count": 17,
     "metadata": {},
     "output_type": "execute_result"
    }
   ],
   "source": [
    "sample_data.Class.value_counts()"
   ]
  },
  {
   "cell_type": "code",
   "execution_count": 18,
   "id": "3d06bb64",
   "metadata": {},
   "outputs": [
    {
     "data": {
      "text/plain": [
       "<AxesSubplot:>"
      ]
     },
     "execution_count": 18,
     "metadata": {},
     "output_type": "execute_result"
    },
    {
     "data": {
      "image/png": "[encoded data removed]",
      "text/plain": [
       "<Figure size 432x288 with 1 Axes>"
      ]
     },
     "metadata": {
      "needs_background": "light"
     },
     "output_type": "display_data"
    }
   ],
   "source": [
    "sample_data.V4.hist()"
   ]
  },
  {
   "cell_type": "markdown",
   "id": "10aae180",
   "metadata": {},
   "source": [
    "## 3. Generate raw data schema\n",
    "\n",
    "The [TensorFlow Data Validation (TFDV)](https://www.tensorflow.org/tfx/data_validation/get_started) data schema will be used in:\n",
    "1. Identify the raw data types and shapes in the data transformation.\n",
    "2. Create the serving input signature for the custom model.\n",
    "3. Validate the new raw training data in the TFX pipeline."
   ]
  },
  {
   "cell_type": "code",
   "execution_count": 19,
   "id": "4087d5fa",
   "metadata": {},
   "outputs": [],
   "source": [
    "stats = tfdv.generate_statistics_from_dataframe(\n",
    "    dataframe=sample_data,\n",
    "    stats_options=tfdv.StatsOptions(\n",
    "        label_feature='Class',\n",
    "        weight_feature=None,\n",
    "        sample_rate=1,\n",
    "        num_top_values=50\n",
    "    )\n",
    ")"
   ]
  },
  {
   "cell_type": "code",
   "execution_count": 20,
   "id": "091fbd77",
   "metadata": {},
   "outputs": [
    {
     "data": {
      "text/html": [
       "<iframe id='facets-iframe' width=\"100%\" height=\"500px\"></iframe>\n",
       "        <script>\n",
       "        facets_iframe = document.getElementById('facets-iframe');\n",
       "        facets_html = '<script src=\"https://cdnjs.cloudflare.com/ajax/libs/webcomponentsjs/1.3.3/webcomponents-lite.js\"><\\/script><link rel=\"import\" href=\"https://raw.githubusercontent.com/PAIR-code/facets/master/facets-dist/facets-jupyter.html\"><facets-overview proto-input=\"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\"></facets-overview>';\n",
       "        facets_iframe.srcdoc = facets_html;\n",
       "         facets_iframe.id = \"\";\n",
       "         setTimeout(() => {\n",
       "           facets_iframe.setAttribute('height', facets_iframe.contentWindow.document.body.offsetHeight + 'px')\n",
       "         }, 1500)\n",
       "         </script>"
      ],
      "text/plain": [
       "<IPython.core.display.HTML object>"
      ]
     },
     "metadata": {},
     "output_type": "display_data"
    }
   ],
   "source": [
    "tfdv.visualize_statistics(stats)"
   ]
  },
  {
   "cell_type": "code",
   "execution_count": 21,
   "id": "d251e09b",
   "metadata": {},
   "outputs": [
    {
     "data": {
      "text/html": [
       "<div>\n",
       "<style scoped>\n",
       "    .dataframe tbody tr th:only-of-type {\n",
       "        vertical-align: middle;\n",
       "    }\n",
       "\n",
       "    .dataframe tbody tr th {\n",
       "        vertical-align: top;\n",
       "    }\n",
       "\n",
       "    .dataframe thead th {\n",
       "        text-align: right;\n",
       "    }\n",
       "</style>\n",
       "<table border=\"1\" class=\"dataframe\">\n",
       "  <thead>\n",
       "    <tr style=\"text-align: right;\">\n",
       "      <th></th>\n",
       "      <th>Type</th>\n",
       "      <th>Presence</th>\n",
       "      <th>Valency</th>\n",
       "      <th>Domain</th>\n",
       "    </tr>\n",
       "    <tr>\n",
       "      <th>Feature name</th>\n",
       "      <th></th>\n",
       "      <th></th>\n",
       "      <th></th>\n",
       "      <th></th>\n",
       "    </tr>\n",
       "  </thead>\n",
       "  <tbody>\n",
       "    <tr>\n",
       "      <th>'V1'</th>\n",
       "      <td>FLOAT</td>\n",
       "      <td>required</td>\n",
       "      <td></td>\n",
       "      <td>-</td>\n",
       "    </tr>\n",
       "    <tr>\n",
       "      <th>'V2'</th>\n",
       "      <td>FLOAT</td>\n",
       "      <td>required</td>\n",
       "      <td></td>\n",
       "      <td>-</td>\n",
       "    </tr>\n",
       "    <tr>\n",
       "      <th>'V3'</th>\n",
       "      <td>FLOAT</td>\n",
       "      <td>required</td>\n",
       "      <td></td>\n",
       "      <td>-</td>\n",
       "    </tr>\n",
       "    <tr>\n",
       "      <th>'V4'</th>\n",
       "      <td>FLOAT</td>\n",
       "      <td>required</td>\n",
       "      <td></td>\n",
       "      <td>-</td>\n",
       "    </tr>\n",
       "    <tr>\n",
       "      <th>'V5'</th>\n",
       "      <td>FLOAT</td>\n",
       "      <td>required</td>\n",
       "      <td></td>\n",
       "      <td>-</td>\n",
       "    </tr>\n",
       "    <tr>\n",
       "      <th>'V6'</th>\n",
       "      <td>FLOAT</td>\n",
       "      <td>required</td>\n",
       "      <td></td>\n",
       "      <td>-</td>\n",
       "    </tr>\n",
       "    <tr>\n",
       "      <th>'V7'</th>\n",
       "      <td>FLOAT</td>\n",
       "      <td>required</td>\n",
       "      <td></td>\n",
       "      <td>-</td>\n",
       "    </tr>\n",
       "    <tr>\n",
       "      <th>'V8'</th>\n",
       "      <td>FLOAT</td>\n",
       "      <td>required</td>\n",
       "      <td></td>\n",
       "      <td>-</td>\n",
       "    </tr>\n",
       "    <tr>\n",
       "      <th>'V9'</th>\n",
       "      <td>FLOAT</td>\n",
       "      <td>required</td>\n",
       "      <td></td>\n",
       "      <td>-</td>\n",
       "    </tr>\n",
       "    <tr>\n",
       "      <th>'V10'</th>\n",
       "      <td>FLOAT</td>\n",
       "      <td>required</td>\n",
       "      <td></td>\n",
       "      <td>-</td>\n",
       "    </tr>\n",
       "    <tr>\n",
       "      <th>'V11'</th>\n",
       "      <td>FLOAT</td>\n",
       "      <td>required</td>\n",
       "      <td></td>\n",
       "      <td>-</td>\n",
       "    </tr>\n",
       "    <tr>\n",
       "      <th>'V12'</th>\n",
       "      <td>FLOAT</td>\n",
       "      <td>required</td>\n",
       "      <td></td>\n",
       "      <td>-</td>\n",
       "    </tr>\n",
       "    <tr>\n",
       "      <th>'V13'</th>\n",
       "      <td>FLOAT</td>\n",
       "      <td>required</td>\n",
       "      <td></td>\n",
       "      <td>-</td>\n",
       "    </tr>\n",
       "    <tr>\n",
       "      <th>'V14'</th>\n",
       "      <td>FLOAT</td>\n",
       "      <td>required</td>\n",
       "      <td></td>\n",
       "      <td>-</td>\n",
       "    </tr>\n",
       "    <tr>\n",
       "      <th>'V15'</th>\n",
       "      <td>FLOAT</td>\n",
       "      <td>required</td>\n",
       "      <td></td>\n",
       "      <td>-</td>\n",
       "    </tr>\n",
       "    <tr>\n",
       "      <th>'V16'</th>\n",
       "      <td>FLOAT</td>\n",
       "      <td>required</td>\n",
       "      <td></td>\n",
       "      <td>-</td>\n",
       "    </tr>\n",
       "    <tr>\n",
       "      <th>'V17'</th>\n",
       "      <td>FLOAT</td>\n",
       "      <td>required</td>\n",
       "      <td></td>\n",
       "      <td>-</td>\n",
       "    </tr>\n",
       "    <tr>\n",
       "      <th>'V18'</th>\n",
       "      <td>FLOAT</td>\n",
       "      <td>required</td>\n",
       "      <td></td>\n",
       "      <td>-</td>\n",
       "    </tr>\n",
       "    <tr>\n",
       "      <th>'V19'</th>\n",
       "      <td>FLOAT</td>\n",
       "      <td>required</td>\n",
       "      <td></td>\n",
       "      <td>-</td>\n",
       "    </tr>\n",
       "    <tr>\n",
       "      <th>'V20'</th>\n",
       "      <td>FLOAT</td>\n",
       "      <td>required</td>\n",
       "      <td></td>\n",
       "      <td>-</td>\n",
       "    </tr>\n",
       "    <tr>\n",
       "      <th>'V21'</th>\n",
       "      <td>FLOAT</td>\n",
       "      <td>required</td>\n",
       "      <td></td>\n",
       "      <td>-</td>\n",
       "    </tr>\n",
       "    <tr>\n",
       "      <th>'V22'</th>\n",
       "      <td>FLOAT</td>\n",
       "      <td>required</td>\n",
       "      <td></td>\n",
       "      <td>-</td>\n",
       "    </tr>\n",
       "    <tr>\n",
       "      <th>'V23'</th>\n",
       "      <td>FLOAT</td>\n",
       "      <td>required</td>\n",
       "      <td></td>\n",
       "      <td>-</td>\n",
       "    </tr>\n",
       "    <tr>\n",
       "      <th>'V24'</th>\n",
       "      <td>FLOAT</td>\n",
       "      <td>required</td>\n",
       "      <td></td>\n",
       "      <td>-</td>\n",
       "    </tr>\n",
       "    <tr>\n",
       "      <th>'V25'</th>\n",
       "      <td>FLOAT</td>\n",
       "      <td>required</td>\n",
       "      <td></td>\n",
       "      <td>-</td>\n",
       "    </tr>\n",
       "    <tr>\n",
       "      <th>'V26'</th>\n",
       "      <td>FLOAT</td>\n",
       "      <td>required</td>\n",
       "      <td></td>\n",
       "      <td>-</td>\n",
       "    </tr>\n",
       "    <tr>\n",
       "      <th>'V27'</th>\n",
       "      <td>FLOAT</td>\n",
       "      <td>required</td>\n",
       "      <td></td>\n",
       "      <td>-</td>\n",
       "    </tr>\n",
       "    <tr>\n",
       "      <th>'V28'</th>\n",
       "      <td>FLOAT</td>\n",
       "      <td>required</td>\n",
       "      <td></td>\n",
       "      <td>-</td>\n",
       "    </tr>\n",
       "    <tr>\n",
       "      <th>'Amount'</th>\n",
       "      <td>FLOAT</td>\n",
       "      <td>required</td>\n",
       "      <td></td>\n",
       "      <td>-</td>\n",
       "    </tr>\n",
       "    <tr>\n",
       "      <th>'Class'</th>\n",
       "      <td>FLOAT</td>\n",
       "      <td>required</td>\n",
       "      <td></td>\n",
       "      <td>-</td>\n",
       "    </tr>\n",
       "  </tbody>\n",
       "</table>\n",
       "</div>"
      ],
      "text/plain": [
       "               Type  Presence Valency Domain\n",
       "Feature name                                \n",
       "'V1'          FLOAT  required              -\n",
       "'V2'          FLOAT  required              -\n",
       "'V3'          FLOAT  required              -\n",
       "'V4'          FLOAT  required              -\n",
       "'V5'          FLOAT  required              -\n",
       "'V6'          FLOAT  required              -\n",
       "'V7'          FLOAT  required              -\n",
       "'V8'          FLOAT  required              -\n",
       "'V9'          FLOAT  required              -\n",
       "'V10'         FLOAT  required              -\n",
       "'V11'         FLOAT  required              -\n",
       "'V12'         FLOAT  required              -\n",
       "'V13'         FLOAT  required              -\n",
       "'V14'         FLOAT  required              -\n",
       "'V15'         FLOAT  required              -\n",
       "'V16'         FLOAT  required              -\n",
       "'V17'         FLOAT  required              -\n",
       "'V18'         FLOAT  required              -\n",
       "'V19'         FLOAT  required              -\n",
       "'V20'         FLOAT  required              -\n",
       "'V21'         FLOAT  required              -\n",
       "'V22'         FLOAT  required              -\n",
       "'V23'         FLOAT  required              -\n",
       "'V24'         FLOAT  required              -\n",
       "'V25'         FLOAT  required              -\n",
       "'V26'         FLOAT  required              -\n",
       "'V27'         FLOAT  required              -\n",
       "'V28'         FLOAT  required              -\n",
       "'Amount'      FLOAT  required              -\n",
       "'Class'       FLOAT  required              -"
      ]
     },
     "metadata": {},
     "output_type": "display_data"
    }
   ],
   "source": [
    "schema = tfdv.infer_schema(statistics=stats)\n",
    "tfdv.display_schema(schema=schema)"
   ]
  },
  {
   "cell_type": "code",
   "execution_count": 22,
   "id": "502c49f1",
   "metadata": {},
   "outputs": [],
   "source": [
    "raw_schema_location = os.path.join(RAW_SCHEMA_DIR, 'schema.pbtxt')\n",
    "tfdv.write_schema_text(schema, raw_schema_location)"
   ]
  },
  {
   "cell_type": "markdown",
   "id": "59df0723",
   "metadata": {},
   "source": [
    "## 4. Create Vertex Dataset resource"
   ]
  },
  {
   "cell_type": "code",
   "execution_count": 30,
   "id": "90d9b605",
   "metadata": {},
   "outputs": [
    {
     "name": "stdout",
     "output_type": "stream",
     "text": [
      "Project ID: cxb1-prj-test-no-vpcsc\n",
      "Region: europe-west1\n"
     ]
    }
   ],
   "source": [
    "print(\"Project ID:\", PROJECT)\n",
    "print(\"Region:\", REGION)\n",
    "\n",
    "vertex_ai.init(\n",
    "    project=PROJECT,\n",
    "    location=REGION\n",
    ")"
   ]
  },
  {
   "cell_type": "markdown",
   "id": "464ab920",
   "metadata": {},
   "source": [
    "### Create the dataset resource"
   ]
  },
  {
   "cell_type": "code",
   "execution_count": 35,
   "id": "a0a1707a",
   "metadata": {},
   "outputs": [
    {
     "name": "stdout",
     "output_type": "stream",
     "text": [
      "Creating TabularDataset\n",
      "Create TabularDataset backing LRO: projects/1031952735253/locations/europe-west1/datasets/5180019180778291200/operations/973958395000258560\n",
      "TabularDataset created. Resource name: projects/1031952735253/locations/europe-west1/datasets/5180019180778291200\n",
      "To use this TabularDataset in another session:\n",
      "ds = aiplatform.TabularDataset('projects/1031952735253/locations/europe-west1/datasets/5180019180778291200')\n"
     ]
    },
    {
     "data": {
      "text/plain": [
       "name: \"projects/1031952735253/locations/europe-west1/datasets/5180019180778291200\"\n",
       "display_name: \"creditcards\"\n",
       "metadata_schema_uri: \"gs://google-cloud-aiplatform/schema/dataset/metadata/tabular_1.0.0.yaml\"\n",
       "create_time {\n",
       "  seconds: 1654781039\n",
       "  nanos: 424907000\n",
       "}\n",
       "update_time {\n",
       "  seconds: 1654781048\n",
       "  nanos: 754180000\n",
       "}\n",
       "etag: \"AMEw9yOcuW5VLAmBys8XR1_4_J1tsuSc1L5HyaunrOmy5lNSa25O7IZd2C-WT_5216_-\"\n",
       "labels {\n",
       "  key: \"aiplatform.googleapis.com/dataset_metadata_schema\"\n",
       "  value: \"TABLE\"\n",
       "}\n",
       "metadata {\n",
       "  struct_value {\n",
       "    fields {\n",
       "      key: \"inputConfig\"\n",
       "      value {\n",
       "        struct_value {\n",
       "          fields {\n",
       "            key: \"bigquerySource\"\n",
       "            value {\n",
       "              struct_value {\n",
       "                fields {\n",
       "                  key: \"uri\"\n",
       "                  value {\n",
       "                    string_value: \"bq://cxb1-prj-test-no-vpcsc.vertex_eu.creditcards_ml\"\n",
       "                  }\n",
       "                }\n",
       "              }\n",
       "            }\n",
       "          }\n",
       "        }\n",
       "      }\n",
       "    }\n",
       "  }\n",
       "}"
      ]
     },
     "execution_count": 35,
     "metadata": {},
     "output_type": "execute_result"
    }
   ],
   "source": [
    "bq_uri = f\"bq://{PROJECT}.{BQ_DATASET_NAME}.{ML_TABLE}\"\n",
    "\n",
    "dataset = vertex_ai.TabularDataset.create(\n",
    "    display_name=VERTEX_DATASET_NAME, bq_source=bq_uri)\n",
    "\n",
    "dataset.gca_resource"
   ]
  },
  {
   "cell_type": "markdown",
   "id": "c761fadb",
   "metadata": {},
   "source": [
    "### Get the dataset resource\n",
    "\n",
    "The dataset resource is retrieved by display name. Because multiple datasets can have the same display name, we retrieve the most recent updated one."
   ]
  },
  {
   "cell_type": "code",
   "execution_count": 37,
   "id": "d78b7f4d",
   "metadata": {},
   "outputs": [
    {
     "name": "stdout",
     "output_type": "stream",
     "text": [
      "Dataset resource name: projects/1031952735253/locations/europe-west1/datasets/5180019180778291200\n",
      "Dataset BigQuery source: bq://cxb1-prj-test-no-vpcsc.vertex_eu.creditcards_ml\n"
     ]
    }
   ],
   "source": [
    "dataset = vertex_ai.TabularDataset.list(\n",
    "    filter=f\"display_name={VERTEX_DATASET_NAME}\", \n",
    "    order_by=\"update_time\")[-1]\n",
    "\n",
    "print(\"Dataset resource name:\", dataset.resource_name)\n",
    "print(\"Dataset BigQuery source:\", dataset.gca_resource.metadata['inputConfig']['bigquerySource']['uri'])"
   ]
  },
  {
   "cell_type": "code",
   "execution_count": null,
   "id": "569249de",
   "metadata": {},
   "outputs": [],
   "source": []
  }
 ],
 "metadata": {
  "environment": {
   "kernel": "python3",
   "name": "common-cpu.m87",
   "type": "gcloud",
   "uri": "gcr.io/deeplearning-platform-release/base-cpu:m87"
  },
  "kernelspec": {
   "display_name": "TensorFlow 2 (Local)",
   "language": "python",
   "name": "local-tf2"
  },
  "language_info": {
   "codemirror_mode": {
    "name": "ipython",
    "version": 3
   },
   "file_extension": ".py",
   "mimetype": "text/x-python",
   "name": "python",
   "nbconvert_exporter": "python",
   "pygments_lexer": "ipython3",
   "version": "3.7.12"
  }
 },
 "nbformat": 4,
 "nbformat_minor": 5
}
