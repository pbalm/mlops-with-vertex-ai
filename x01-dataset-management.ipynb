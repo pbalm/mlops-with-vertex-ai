{
 "cells": [
  {
   "cell_type": "markdown",
   "id": "e8ba7f4f",
   "metadata": {},
   "source": [
    "# 01 - Data Analysis and Preparation\n",
    "\n",
    "This notebook covers the following tasks:\n",
    "\n",
    "1. Perform exploratory data analysis and visualization.\n",
    "2. Prepare the data for the ML task in BigQuery.\n",
    "3. Generate and fix a ` TFDV schema` for the source data.\n",
    "4. Create a `Vertex Dataset resource` dataset.\n"
   ]
  },
  {
   "cell_type": "markdown",
   "id": "b481a247",
   "metadata": {},
   "source": [
    "## Dataset\n",
    "\n",
    "Credit Card Fraud https://www.kaggle.com/datasets/mlg-ulb/creditcardfraud\n",
    "\n",
    "Load the data:\n",
    "\n",
    "```\n",
    "$ bq load --skip_leading_rows=1 vertex_eu.creditcards creditcard.csv Time:STRING,V1:FLOAT,V2:FLOAT,V3:FLOAT,V4:FLOAT,V5:FLOAT,V6:FLOAT,V7:FLOAT,V8:FLOAT,V9:FLOAT,V10:FLOAT,V11:FLOAT,V12:FLOAT,V13:FLOAT,V14:FLOAT,V15:FLOAT,V16:FLOAT,V17:FLOAT,V18:FLOAT,V19:FLOAT,V20:FLOAT,V21:FLOAT,V22:FLOAT,V23:FLOAT,V24:FLOAT,V25:FLOAT,V26:FLOAT,V27:FLOAT,V28:FLOAT,Amount:FLOAT,Class:STRING\n",
    "```\n",
    "\n",
    "The ML task is to predict whether a given operation is fraudulent."
   ]
  },
  {
   "cell_type": "markdown",
   "id": "4fedd0ac",
   "metadata": {},
   "source": [
    "## Setup"
   ]
  },
  {
   "cell_type": "markdown",
   "id": "b25967c9",
   "metadata": {},
   "source": [
    "### Import libraries"
   ]
  },
  {
   "cell_type": "code",
   "execution_count": 1,
   "id": "fa2cf3f1",
   "metadata": {},
   "outputs": [],
   "source": [
    "import os\n",
    "import pandas as pd\n",
    "import tensorflow as tf\n",
    "import tensorflow_data_validation as tfdv\n",
    "from google.cloud import bigquery\n",
    "import matplotlib.pyplot as plt\n",
    "\n",
    "from google.cloud import aiplatform as vertex_ai"
   ]
  },
  {
   "cell_type": "markdown",
   "id": "9bd0ee37",
   "metadata": {},
   "source": [
    "### Setup Google Cloud project"
   ]
  },
  {
   "cell_type": "code",
   "execution_count": 2,
   "id": "c7e4712e",
   "metadata": {},
   "outputs": [
    {
     "name": "stdout",
     "output_type": "stream",
     "text": [
      "Project ID: pbalm-cxb-aa\n",
      "Region: europe-west4\n"
     ]
    }
   ],
   "source": [
    "#PROJECT = 'cxb1-prj-test-no-vpcsc' \n",
    "PROJECT = 'pbalm-cxb-aa' \n",
    "REGION = 'europe-west4' \n",
    "\n",
    "if PROJECT == \"\" or PROJECT is None or PROJECT == \"[your-project-id]\":\n",
    "    # Get your GCP project id from gcloud\n",
    "    shell_output = !gcloud config list --format 'value(core.project)' 2>/dev/null\n",
    "    PROJECT = shell_output[0]\n",
    "    \n",
    "print(\"Project ID:\", PROJECT)\n",
    "print(\"Region:\", REGION)"
   ]
  },
  {
   "cell_type": "markdown",
   "id": "384a817b",
   "metadata": {},
   "source": [
    "### Set configurations"
   ]
  },
  {
   "cell_type": "code",
   "execution_count": 3,
   "id": "b71d0738",
   "metadata": {},
   "outputs": [],
   "source": [
    "BQ_SOURCE_TABLE= 'creditcards'\n",
    "ML_TABLE = 'creditcards_ml'\n",
    "\n",
    "BQ_DATASET_NAME = 'vertex_eu' # Change to your BQ dataset name.\n",
    "BQ_LOCATION = 'EU'\n",
    "\n",
    "VERTEX_DATASET_NAME = 'creditcards'\n",
    "\n",
    "RAW_SCHEMA_DIR = 'src/raw_schema'"
   ]
  },
  {
   "cell_type": "code",
   "execution_count": 5,
   "id": "a6af5833-867c-4702-96c8-5feaf221dc1b",
   "metadata": {},
   "outputs": [
    {
     "name": "stdout",
     "output_type": "stream",
     "text": [
      "\u001b[1;33mWARNING:\u001b[0m You do not appear to have access to project [pbalm-cxb-aa] or it does not exist.\n",
      "Updated property [core/project].\n",
      "yes: standard output: Broken pipe\n"
     ]
    }
   ],
   "source": [
    "!yes | gcloud config set project {PROJECT}"
   ]
  },
  {
   "cell_type": "markdown",
   "id": "39395512",
   "metadata": {},
   "source": [
    "## 1. Explore the data in BigQuery"
   ]
  },
  {
   "cell_type": "code",
   "execution_count": 6,
   "id": "5c1881cd-188a-4c54-8b1a-900f25696e20",
   "metadata": {},
   "outputs": [
    {
     "name": "stdout",
     "output_type": "stream",
     "text": [
      "SELECT * FROM `pbalm-cxb-aa.vertex_eu.creditcards` LIMIT 10\n"
     ]
    }
   ],
   "source": [
    "from google.cloud import bigquery\n",
    "\n",
    "client = bigquery.Client()  \n",
    "\n",
    "sql = f\"SELECT * FROM `{PROJECT}.{BQ_DATASET_NAME}.{BQ_SOURCE_TABLE}` LIMIT 10\"\n",
    "print(sql)\n",
    "\n",
    "query_job = client.query(sql, location=BQ_LOCATION)\n",
    "df = query_job.result().to_dataframe()"
   ]
  },
  {
   "cell_type": "code",
   "execution_count": 7,
   "id": "127b3370-1f3f-4364-a247-1ec3f98c83f7",
   "metadata": {},
   "outputs": [
    {
     "data": {
      "text/html": [
       "<div>\n",
       "<style scoped>\n",
       "    .dataframe tbody tr th:only-of-type {\n",
       "        vertical-align: middle;\n",
       "    }\n",
       "\n",
       "    .dataframe tbody tr th {\n",
       "        vertical-align: top;\n",
       "    }\n",
       "\n",
       "    .dataframe thead th {\n",
       "        text-align: right;\n",
       "    }\n",
       "</style>\n",
       "<table border=\"1\" class=\"dataframe\">\n",
       "  <thead>\n",
       "    <tr style=\"text-align: right;\">\n",
       "      <th></th>\n",
       "      <th>Time</th>\n",
       "      <th>V1</th>\n",
       "      <th>V2</th>\n",
       "      <th>V3</th>\n",
       "      <th>V4</th>\n",
       "      <th>V5</th>\n",
       "      <th>V6</th>\n",
       "      <th>V7</th>\n",
       "      <th>V8</th>\n",
       "      <th>V9</th>\n",
       "      <th>...</th>\n",
       "      <th>V21</th>\n",
       "      <th>V22</th>\n",
       "      <th>V23</th>\n",
       "      <th>V24</th>\n",
       "      <th>V25</th>\n",
       "      <th>V26</th>\n",
       "      <th>V27</th>\n",
       "      <th>V28</th>\n",
       "      <th>Amount</th>\n",
       "      <th>Class</th>\n",
       "    </tr>\n",
       "  </thead>\n",
       "  <tbody>\n",
       "    <tr>\n",
       "      <th>0</th>\n",
       "      <td>282</td>\n",
       "      <td>-0.356466</td>\n",
       "      <td>0.725418</td>\n",
       "      <td>1.971749</td>\n",
       "      <td>0.831343</td>\n",
       "      <td>0.369681</td>\n",
       "      <td>-0.107776</td>\n",
       "      <td>0.751610</td>\n",
       "      <td>-0.120166</td>\n",
       "      <td>-0.420675</td>\n",
       "      <td>...</td>\n",
       "      <td>0.020804</td>\n",
       "      <td>0.424312</td>\n",
       "      <td>-0.015989</td>\n",
       "      <td>0.466754</td>\n",
       "      <td>-0.809962</td>\n",
       "      <td>0.657334</td>\n",
       "      <td>-0.043150</td>\n",
       "      <td>-0.046401</td>\n",
       "      <td>0.0</td>\n",
       "      <td>0</td>\n",
       "    </tr>\n",
       "    <tr>\n",
       "      <th>1</th>\n",
       "      <td>380</td>\n",
       "      <td>-1.299837</td>\n",
       "      <td>0.881817</td>\n",
       "      <td>1.452842</td>\n",
       "      <td>-1.293698</td>\n",
       "      <td>-0.025105</td>\n",
       "      <td>-1.170103</td>\n",
       "      <td>0.861610</td>\n",
       "      <td>-0.193934</td>\n",
       "      <td>0.592001</td>\n",
       "      <td>...</td>\n",
       "      <td>-0.272563</td>\n",
       "      <td>-0.360853</td>\n",
       "      <td>0.223911</td>\n",
       "      <td>0.598930</td>\n",
       "      <td>-0.397705</td>\n",
       "      <td>0.637141</td>\n",
       "      <td>0.234872</td>\n",
       "      <td>0.021379</td>\n",
       "      <td>0.0</td>\n",
       "      <td>0</td>\n",
       "    </tr>\n",
       "    <tr>\n",
       "      <th>2</th>\n",
       "      <td>403</td>\n",
       "      <td>1.237413</td>\n",
       "      <td>0.512365</td>\n",
       "      <td>0.687746</td>\n",
       "      <td>1.693872</td>\n",
       "      <td>-0.236323</td>\n",
       "      <td>-0.650232</td>\n",
       "      <td>0.118066</td>\n",
       "      <td>-0.230545</td>\n",
       "      <td>-0.808523</td>\n",
       "      <td>...</td>\n",
       "      <td>-0.077543</td>\n",
       "      <td>-0.178220</td>\n",
       "      <td>0.038722</td>\n",
       "      <td>0.471218</td>\n",
       "      <td>0.289249</td>\n",
       "      <td>0.871803</td>\n",
       "      <td>-0.066884</td>\n",
       "      <td>0.012986</td>\n",
       "      <td>0.0</td>\n",
       "      <td>0</td>\n",
       "    </tr>\n",
       "    <tr>\n",
       "      <th>3</th>\n",
       "      <td>430</td>\n",
       "      <td>-1.860258</td>\n",
       "      <td>-0.629859</td>\n",
       "      <td>0.966570</td>\n",
       "      <td>0.844632</td>\n",
       "      <td>0.759983</td>\n",
       "      <td>-1.481173</td>\n",
       "      <td>-0.509681</td>\n",
       "      <td>0.540722</td>\n",
       "      <td>-0.733623</td>\n",
       "      <td>...</td>\n",
       "      <td>0.268028</td>\n",
       "      <td>0.125515</td>\n",
       "      <td>-0.225029</td>\n",
       "      <td>0.586664</td>\n",
       "      <td>-0.031598</td>\n",
       "      <td>0.570168</td>\n",
       "      <td>-0.043007</td>\n",
       "      <td>-0.223739</td>\n",
       "      <td>0.0</td>\n",
       "      <td>0</td>\n",
       "    </tr>\n",
       "    <tr>\n",
       "      <th>4</th>\n",
       "      <td>711</td>\n",
       "      <td>-0.431349</td>\n",
       "      <td>1.027694</td>\n",
       "      <td>2.670816</td>\n",
       "      <td>2.084787</td>\n",
       "      <td>-0.274567</td>\n",
       "      <td>0.286856</td>\n",
       "      <td>0.152110</td>\n",
       "      <td>0.200872</td>\n",
       "      <td>-0.596505</td>\n",
       "      <td>...</td>\n",
       "      <td>0.001241</td>\n",
       "      <td>0.154170</td>\n",
       "      <td>-0.141533</td>\n",
       "      <td>0.384610</td>\n",
       "      <td>-0.147132</td>\n",
       "      <td>-0.087100</td>\n",
       "      <td>0.101117</td>\n",
       "      <td>0.077944</td>\n",
       "      <td>0.0</td>\n",
       "      <td>0</td>\n",
       "    </tr>\n",
       "  </tbody>\n",
       "</table>\n",
       "<p>5 rows × 31 columns</p>\n",
       "</div>"
      ],
      "text/plain": [
       "  Time        V1        V2        V3        V4        V5        V6        V7  \\\n",
       "0  282 -0.356466  0.725418  1.971749  0.831343  0.369681 -0.107776  0.751610   \n",
       "1  380 -1.299837  0.881817  1.452842 -1.293698 -0.025105 -1.170103  0.861610   \n",
       "2  403  1.237413  0.512365  0.687746  1.693872 -0.236323 -0.650232  0.118066   \n",
       "3  430 -1.860258 -0.629859  0.966570  0.844632  0.759983 -1.481173 -0.509681   \n",
       "4  711 -0.431349  1.027694  2.670816  2.084787 -0.274567  0.286856  0.152110   \n",
       "\n",
       "         V8        V9  ...       V21       V22       V23       V24       V25  \\\n",
       "0 -0.120166 -0.420675  ...  0.020804  0.424312 -0.015989  0.466754 -0.809962   \n",
       "1 -0.193934  0.592001  ... -0.272563 -0.360853  0.223911  0.598930 -0.397705   \n",
       "2 -0.230545 -0.808523  ... -0.077543 -0.178220  0.038722  0.471218  0.289249   \n",
       "3  0.540722 -0.733623  ...  0.268028  0.125515 -0.225029  0.586664 -0.031598   \n",
       "4  0.200872 -0.596505  ...  0.001241  0.154170 -0.141533  0.384610 -0.147132   \n",
       "\n",
       "        V26       V27       V28  Amount  Class  \n",
       "0  0.657334 -0.043150 -0.046401     0.0      0  \n",
       "1  0.637141  0.234872  0.021379     0.0      0  \n",
       "2  0.871803 -0.066884  0.012986     0.0      0  \n",
       "3  0.570168 -0.043007 -0.223739     0.0      0  \n",
       "4 -0.087100  0.101117  0.077944     0.0      0  \n",
       "\n",
       "[5 rows x 31 columns]"
      ]
     },
     "execution_count": 7,
     "metadata": {},
     "output_type": "execute_result"
    }
   ],
   "source": [
    "df.head()"
   ]
  },
  {
   "cell_type": "code",
   "execution_count": 8,
   "id": "10804c34-e9c6-4c92-88da-3c8c24f650b3",
   "metadata": {},
   "outputs": [
    {
     "name": "stdout",
     "output_type": "stream",
     "text": [
      "Executing query with job ID: 078b8f0d-6e6e-4fb5-aaf7-ab79303d6e0d\n",
      "Query executing: 0.27s\n",
      "Query complete after 0.54s\n"
     ]
    },
    {
     "name": "stderr",
     "output_type": "stream",
     "text": [
      "Query complete after 0.00s: 100%|██████████| 1/1 [00:00<00:00, 534.17query/s] \n",
      "Downloading: 100%|██████████| 2/2 [00:01<00:00,  1.81rows/s]\n"
     ]
    }
   ],
   "source": [
    "%%bigquery data --project {PROJECT} --verbose\n",
    "\n",
    "SELECT \n",
    "  Class, count(*) as n\n",
    "FROM `vertex_eu.creditcards`\n",
    "GROUP BY Class\n"
   ]
  },
  {
   "cell_type": "code",
   "execution_count": 9,
   "id": "699804c5",
   "metadata": {},
   "outputs": [
    {
     "data": {
      "text/html": [
       "<div>\n",
       "<style scoped>\n",
       "    .dataframe tbody tr th:only-of-type {\n",
       "        vertical-align: middle;\n",
       "    }\n",
       "\n",
       "    .dataframe tbody tr th {\n",
       "        vertical-align: top;\n",
       "    }\n",
       "\n",
       "    .dataframe thead th {\n",
       "        text-align: right;\n",
       "    }\n",
       "</style>\n",
       "<table border=\"1\" class=\"dataframe\">\n",
       "  <thead>\n",
       "    <tr style=\"text-align: right;\">\n",
       "      <th></th>\n",
       "      <th>Class</th>\n",
       "      <th>n</th>\n",
       "    </tr>\n",
       "  </thead>\n",
       "  <tbody>\n",
       "    <tr>\n",
       "      <th>0</th>\n",
       "      <td>0</td>\n",
       "      <td>284315</td>\n",
       "    </tr>\n",
       "    <tr>\n",
       "      <th>1</th>\n",
       "      <td>1</td>\n",
       "      <td>492</td>\n",
       "    </tr>\n",
       "  </tbody>\n",
       "</table>\n",
       "</div>"
      ],
      "text/plain": [
       "  Class       n\n",
       "0     0  284315\n",
       "1     1     492"
      ]
     },
     "execution_count": 9,
     "metadata": {},
     "output_type": "execute_result"
    }
   ],
   "source": [
    "data"
   ]
  },
  {
   "cell_type": "code",
   "execution_count": 10,
   "id": "a7f2447e",
   "metadata": {},
   "outputs": [
    {
     "data": {
      "text/plain": [
       "<AxesSubplot:xlabel='Class'>"
      ]
     },
     "execution_count": 10,
     "metadata": {},
     "output_type": "execute_result"
    },
    {
     "data": {
      "image/png": "[encoded data removed]",
      "text/plain": [
       "<Figure size 432x288 with 1 Axes>"
      ]
     },
     "metadata": {
      "needs_background": "light"
     },
     "output_type": "display_data"
    }
   ],
   "source": [
    "data.plot(kind='bar', x='Class', y='n', logy=True)"
   ]
  },
  {
   "cell_type": "markdown",
   "id": "a7782c69",
   "metadata": {},
   "source": [
    "## 2. Create data for the ML task\n",
    "\n",
    "We add a `ML_use` column for pre-splitting the data, where 80% of the datsa items are set to `UNASSIGNED` while the other 20% is set to `TEST`.\n",
    "\n",
    "This column is used during training to split the dataset for training and test.\n",
    "\n",
    "In the training phase, the `UNASSIGNED` are split into `train` and `eval`. The `TEST` split is will be used for the final model validation."
   ]
  },
  {
   "cell_type": "code",
   "execution_count": 11,
   "id": "1b19789f",
   "metadata": {},
   "outputs": [],
   "source": [
    "sql_script = f'''\n",
    "CREATE OR REPLACE TABLE `{PROJECT}.{BQ_DATASET_NAME}.{ML_TABLE}` \n",
    "AS (\n",
    "    SELECT\n",
    "      * EXCEPT(Class),\n",
    "      CAST(Class AS FLOAT64) as Class,\n",
    "      IF(ABS(MOD(FARM_FINGERPRINT(Time), 100)) <= 80, 'UNASSIGNED', 'TEST') AS ML_use\n",
    "    FROM\n",
    "      `{PROJECT}.{BQ_DATASET_NAME}.{BQ_SOURCE_TABLE}`\n",
    ")\n",
    "'''"
   ]
  },
  {
   "cell_type": "code",
   "execution_count": 12,
   "id": "88f31e8c",
   "metadata": {},
   "outputs": [
    {
     "data": {
      "text/plain": [
       "<google.cloud.bigquery.table._EmptyRowIterator at 0x7f5ead8ec2d0>"
      ]
     },
     "execution_count": 12,
     "metadata": {},
     "output_type": "execute_result"
    }
   ],
   "source": [
    "bq_client = bigquery.Client(project=PROJECT, location=BQ_LOCATION)\n",
    "job = bq_client.query(sql_script)\n",
    "job.result()"
   ]
  },
  {
   "cell_type": "code",
   "execution_count": 13,
   "id": "b32eea6f",
   "metadata": {},
   "outputs": [
    {
     "name": "stderr",
     "output_type": "stream",
     "text": [
      "Query complete after 0.00s: 100%|██████████| 2/2 [00:00<00:00, 894.69query/s]                         \n",
      "Downloading: 100%|██████████| 4/4 [00:01<00:00,  3.77rows/s]\n"
     ]
    },
    {
     "data": {
      "text/html": [
       "<div>\n",
       "<style scoped>\n",
       "    .dataframe tbody tr th:only-of-type {\n",
       "        vertical-align: middle;\n",
       "    }\n",
       "\n",
       "    .dataframe tbody tr th {\n",
       "        vertical-align: top;\n",
       "    }\n",
       "\n",
       "    .dataframe thead th {\n",
       "        text-align: right;\n",
       "    }\n",
       "</style>\n",
       "<table border=\"1\" class=\"dataframe\">\n",
       "  <thead>\n",
       "    <tr style=\"text-align: right;\">\n",
       "      <th></th>\n",
       "      <th>ML_use</th>\n",
       "      <th>Class</th>\n",
       "      <th>n</th>\n",
       "    </tr>\n",
       "  </thead>\n",
       "  <tbody>\n",
       "    <tr>\n",
       "      <th>0</th>\n",
       "      <td>TEST</td>\n",
       "      <td>0.0</td>\n",
       "      <td>53405</td>\n",
       "    </tr>\n",
       "    <tr>\n",
       "      <th>1</th>\n",
       "      <td>TEST</td>\n",
       "      <td>1.0</td>\n",
       "      <td>90</td>\n",
       "    </tr>\n",
       "    <tr>\n",
       "      <th>2</th>\n",
       "      <td>UNASSIGNED</td>\n",
       "      <td>0.0</td>\n",
       "      <td>230910</td>\n",
       "    </tr>\n",
       "    <tr>\n",
       "      <th>3</th>\n",
       "      <td>UNASSIGNED</td>\n",
       "      <td>1.0</td>\n",
       "      <td>402</td>\n",
       "    </tr>\n",
       "  </tbody>\n",
       "</table>\n",
       "</div>"
      ],
      "text/plain": [
       "       ML_use  Class       n\n",
       "0        TEST    0.0   53405\n",
       "1        TEST    1.0      90\n",
       "2  UNASSIGNED    0.0  230910\n",
       "3  UNASSIGNED    1.0     402"
      ]
     },
     "execution_count": 13,
     "metadata": {},
     "output_type": "execute_result"
    }
   ],
   "source": [
    "%%bigquery --project {PROJECT}\n",
    "\n",
    "SELECT ML_use, Class, COUNT(*) as n\n",
    "FROM vertex_eu.creditcards_ml\n",
    "GROUP BY ML_use, Class"
   ]
  },
  {
   "cell_type": "markdown",
   "id": "7fcc75fc",
   "metadata": {},
   "source": [
    "### Load a sample data to a Pandas DataFrame"
   ]
  },
  {
   "cell_type": "code",
   "execution_count": 14,
   "id": "f252a846",
   "metadata": {},
   "outputs": [
    {
     "name": "stderr",
     "output_type": "stream",
     "text": [
      "Query complete after 0.00s: 100%|██████████| 1/1 [00:00<00:00, 395.69query/s]                          \n",
      "Downloading: 100%|██████████| 1000/1000 [00:01<00:00, 872.54rows/s]\n"
     ]
    }
   ],
   "source": [
    "%%bigquery sample_data --project {PROJECT}\n",
    "\n",
    "SELECT * EXCEPT (Time, ML_use)\n",
    "FROM vertex_eu.creditcards_ml limit 1000"
   ]
  },
  {
   "cell_type": "code",
   "execution_count": 15,
   "id": "798809d2",
   "metadata": {},
   "outputs": [
    {
     "data": {
      "text/html": [
       "<div>\n",
       "<style scoped>\n",
       "    .dataframe tbody tr th:only-of-type {\n",
       "        vertical-align: middle;\n",
       "    }\n",
       "\n",
       "    .dataframe tbody tr th {\n",
       "        vertical-align: top;\n",
       "    }\n",
       "\n",
       "    .dataframe thead th {\n",
       "        text-align: right;\n",
       "    }\n",
       "</style>\n",
       "<table border=\"1\" class=\"dataframe\">\n",
       "  <thead>\n",
       "    <tr style=\"text-align: right;\">\n",
       "      <th></th>\n",
       "      <th>0</th>\n",
       "      <th>1</th>\n",
       "      <th>2</th>\n",
       "      <th>3</th>\n",
       "      <th>4</th>\n",
       "    </tr>\n",
       "  </thead>\n",
       "  <tbody>\n",
       "    <tr>\n",
       "      <th>V1</th>\n",
       "      <td>1.047303</td>\n",
       "      <td>1.114352</td>\n",
       "      <td>1.309590</td>\n",
       "      <td>1.747061</td>\n",
       "      <td>1.930478</td>\n",
       "    </tr>\n",
       "    <tr>\n",
       "      <th>V2</th>\n",
       "      <td>0.080162</td>\n",
       "      <td>0.217501</td>\n",
       "      <td>-0.873058</td>\n",
       "      <td>0.372566</td>\n",
       "      <td>0.173452</td>\n",
       "    </tr>\n",
       "    <tr>\n",
       "      <th>V3</th>\n",
       "      <td>1.605951</td>\n",
       "      <td>1.525827</td>\n",
       "      <td>1.239225</td>\n",
       "      <td>0.262220</td>\n",
       "      <td>-0.237074</td>\n",
       "    </tr>\n",
       "    <tr>\n",
       "      <th>V4</th>\n",
       "      <td>2.941356</td>\n",
       "      <td>2.901716</td>\n",
       "      <td>-0.462648</td>\n",
       "      <td>3.857256</td>\n",
       "      <td>3.611991</td>\n",
       "    </tr>\n",
       "    <tr>\n",
       "      <th>V5</th>\n",
       "      <td>-0.806507</td>\n",
       "      <td>-0.714512</td>\n",
       "      <td>-1.713881</td>\n",
       "      <td>0.465517</td>\n",
       "      <td>0.213580</td>\n",
       "    </tr>\n",
       "    <tr>\n",
       "      <th>V6</th>\n",
       "      <td>0.669142</td>\n",
       "      <td>0.417171</td>\n",
       "      <td>-0.253322</td>\n",
       "      <td>1.596578</td>\n",
       "      <td>1.071615</td>\n",
       "    </tr>\n",
       "    <tr>\n",
       "      <th>V7</th>\n",
       "      <td>-0.688054</td>\n",
       "      <td>-0.525759</td>\n",
       "      <td>-1.335062</td>\n",
       "      <td>-0.663518</td>\n",
       "      <td>-0.659003</td>\n",
       "    </tr>\n",
       "    <tr>\n",
       "      <th>V8</th>\n",
       "      <td>0.329593</td>\n",
       "      <td>0.135248</td>\n",
       "      <td>0.213236</td>\n",
       "      <td>0.437938</td>\n",
       "      <td>0.328462</td>\n",
       "    </tr>\n",
       "    <tr>\n",
       "      <th>V9</th>\n",
       "      <td>0.454050</td>\n",
       "      <td>0.276007</td>\n",
       "      <td>0.104325</td>\n",
       "      <td>0.789845</td>\n",
       "      <td>-0.064064</td>\n",
       "    </tr>\n",
       "    <tr>\n",
       "      <th>V10</th>\n",
       "      <td>0.343653</td>\n",
       "      <td>0.348667</td>\n",
       "      <td>0.511733</td>\n",
       "      <td>0.874323</td>\n",
       "      <td>1.404958</td>\n",
       "    </tr>\n",
       "    <tr>\n",
       "      <th>V11</th>\n",
       "      <td>-0.869138</td>\n",
       "      <td>-1.151507</td>\n",
       "      <td>-0.303404</td>\n",
       "      <td>0.442983</td>\n",
       "      <td>-2.218224</td>\n",
       "    </tr>\n",
       "    <tr>\n",
       "      <th>V12</th>\n",
       "      <td>0.447934</td>\n",
       "      <td>0.972136</td>\n",
       "      <td>-1.065922</td>\n",
       "      <td>-2.476418</td>\n",
       "      <td>-1.129747</td>\n",
       "    </tr>\n",
       "    <tr>\n",
       "      <th>V13</th>\n",
       "      <td>-0.337217</td>\n",
       "      <td>1.087241</td>\n",
       "      <td>-1.330014</td>\n",
       "      <td>1.424379</td>\n",
       "      <td>-1.053161</td>\n",
       "    </tr>\n",
       "    <tr>\n",
       "      <th>V14</th>\n",
       "      <td>-0.649105</td>\n",
       "      <td>-0.965158</td>\n",
       "      <td>-0.372006</td>\n",
       "      <td>1.508622</td>\n",
       "      <td>-0.046503</td>\n",
       "    </tr>\n",
       "    <tr>\n",
       "      <th>V15</th>\n",
       "      <td>-1.243660</td>\n",
       "      <td>-1.619662</td>\n",
       "      <td>0.749087</td>\n",
       "      <td>-0.327615</td>\n",
       "      <td>-0.339454</td>\n",
       "    </tr>\n",
       "    <tr>\n",
       "      <th>V16</th>\n",
       "      <td>-0.351134</td>\n",
       "      <td>-0.027022</td>\n",
       "      <td>0.864776</td>\n",
       "      <td>0.310630</td>\n",
       "      <td>1.378760</td>\n",
       "    </tr>\n",
       "    <tr>\n",
       "      <th>V17</th>\n",
       "      <td>0.408332</td>\n",
       "      <td>-0.065314</td>\n",
       "      <td>0.793580</td>\n",
       "      <td>0.704197</td>\n",
       "      <td>-1.049386</td>\n",
       "    </tr>\n",
       "    <tr>\n",
       "      <th>V18</th>\n",
       "      <td>-0.848503</td>\n",
       "      <td>-0.458783</td>\n",
       "      <td>-1.400572</td>\n",
       "      <td>-1.597564</td>\n",
       "      <td>0.373273</td>\n",
       "    </tr>\n",
       "    <tr>\n",
       "      <th>V19</th>\n",
       "      <td>-1.046269</td>\n",
       "      <td>-0.574379</td>\n",
       "      <td>-0.008423</td>\n",
       "      <td>-2.911257</td>\n",
       "      <td>-1.527090</td>\n",
       "    </tr>\n",
       "    <tr>\n",
       "      <th>V20</th>\n",
       "      <td>-0.239340</td>\n",
       "      <td>-0.110696</td>\n",
       "      <td>-0.084273</td>\n",
       "      <td>-0.455534</td>\n",
       "      <td>-0.329528</td>\n",
       "    </tr>\n",
       "    <tr>\n",
       "      <th>V21</th>\n",
       "      <td>0.068201</td>\n",
       "      <td>0.034681</td>\n",
       "      <td>0.333338</td>\n",
       "      <td>-0.312175</td>\n",
       "      <td>0.142184</td>\n",
       "    </tr>\n",
       "    <tr>\n",
       "      <th>V22</th>\n",
       "      <td>0.585590</td>\n",
       "      <td>0.521657</td>\n",
       "      <td>1.020985</td>\n",
       "      <td>-0.540458</td>\n",
       "      <td>0.458328</td>\n",
       "    </tr>\n",
       "    <tr>\n",
       "      <th>V23</th>\n",
       "      <td>-0.057060</td>\n",
       "      <td>-0.142970</td>\n",
       "      <td>-0.006482</td>\n",
       "      <td>0.574894</td>\n",
       "      <td>0.130996</td>\n",
       "    </tr>\n",
       "    <tr>\n",
       "      <th>V24</th>\n",
       "      <td>0.452360</td>\n",
       "      <td>0.474580</td>\n",
       "      <td>0.423790</td>\n",
       "      <td>-1.129732</td>\n",
       "      <td>-0.027272</td>\n",
       "    </tr>\n",
       "    <tr>\n",
       "      <th>V25</th>\n",
       "      <td>0.496524</td>\n",
       "      <td>0.658368</td>\n",
       "      <td>0.293948</td>\n",
       "      <td>-0.843720</td>\n",
       "      <td>-0.120538</td>\n",
       "    </tr>\n",
       "    <tr>\n",
       "      <th>V26</th>\n",
       "      <td>0.222903</td>\n",
       "      <td>0.208863</td>\n",
       "      <td>-0.031240</td>\n",
       "      <td>-0.365410</td>\n",
       "      <td>0.090862</td>\n",
       "    </tr>\n",
       "    <tr>\n",
       "      <th>V27</th>\n",
       "      <td>0.064771</td>\n",
       "      <td>0.056672</td>\n",
       "      <td>0.058966</td>\n",
       "      <td>0.031205</td>\n",
       "      <td>0.003066</td>\n",
       "    </tr>\n",
       "    <tr>\n",
       "      <th>V28</th>\n",
       "      <td>0.026564</td>\n",
       "      <td>0.029571</td>\n",
       "      <td>0.020618</td>\n",
       "      <td>-0.044458</td>\n",
       "      <td>-0.037405</td>\n",
       "    </tr>\n",
       "    <tr>\n",
       "      <th>Amount</th>\n",
       "      <td>0.000000</td>\n",
       "      <td>0.000000</td>\n",
       "      <td>0.000000</td>\n",
       "      <td>0.000000</td>\n",
       "      <td>0.000000</td>\n",
       "    </tr>\n",
       "    <tr>\n",
       "      <th>Class</th>\n",
       "      <td>0.000000</td>\n",
       "      <td>0.000000</td>\n",
       "      <td>0.000000</td>\n",
       "      <td>0.000000</td>\n",
       "      <td>0.000000</td>\n",
       "    </tr>\n",
       "  </tbody>\n",
       "</table>\n",
       "</div>"
      ],
      "text/plain": [
       "               0         1         2         3         4\n",
       "V1      1.047303  1.114352  1.309590  1.747061  1.930478\n",
       "V2      0.080162  0.217501 -0.873058  0.372566  0.173452\n",
       "V3      1.605951  1.525827  1.239225  0.262220 -0.237074\n",
       "V4      2.941356  2.901716 -0.462648  3.857256  3.611991\n",
       "V5     -0.806507 -0.714512 -1.713881  0.465517  0.213580\n",
       "V6      0.669142  0.417171 -0.253322  1.596578  1.071615\n",
       "V7     -0.688054 -0.525759 -1.335062 -0.663518 -0.659003\n",
       "V8      0.329593  0.135248  0.213236  0.437938  0.328462\n",
       "V9      0.454050  0.276007  0.104325  0.789845 -0.064064\n",
       "V10     0.343653  0.348667  0.511733  0.874323  1.404958\n",
       "V11    -0.869138 -1.151507 -0.303404  0.442983 -2.218224\n",
       "V12     0.447934  0.972136 -1.065922 -2.476418 -1.129747\n",
       "V13    -0.337217  1.087241 -1.330014  1.424379 -1.053161\n",
       "V14    -0.649105 -0.965158 -0.372006  1.508622 -0.046503\n",
       "V15    -1.243660 -1.619662  0.749087 -0.327615 -0.339454\n",
       "V16    -0.351134 -0.027022  0.864776  0.310630  1.378760\n",
       "V17     0.408332 -0.065314  0.793580  0.704197 -1.049386\n",
       "V18    -0.848503 -0.458783 -1.400572 -1.597564  0.373273\n",
       "V19    -1.046269 -0.574379 -0.008423 -2.911257 -1.527090\n",
       "V20    -0.239340 -0.110696 -0.084273 -0.455534 -0.329528\n",
       "V21     0.068201  0.034681  0.333338 -0.312175  0.142184\n",
       "V22     0.585590  0.521657  1.020985 -0.540458  0.458328\n",
       "V23    -0.057060 -0.142970 -0.006482  0.574894  0.130996\n",
       "V24     0.452360  0.474580  0.423790 -1.129732 -0.027272\n",
       "V25     0.496524  0.658368  0.293948 -0.843720 -0.120538\n",
       "V26     0.222903  0.208863 -0.031240 -0.365410  0.090862\n",
       "V27     0.064771  0.056672  0.058966  0.031205  0.003066\n",
       "V28     0.026564  0.029571  0.020618 -0.044458 -0.037405\n",
       "Amount  0.000000  0.000000  0.000000  0.000000  0.000000\n",
       "Class   0.000000  0.000000  0.000000  0.000000  0.000000"
      ]
     },
     "execution_count": 15,
     "metadata": {},
     "output_type": "execute_result"
    }
   ],
   "source": [
    "sample_data.head().T"
   ]
  },
  {
   "cell_type": "code",
   "execution_count": 16,
   "id": "23595838",
   "metadata": {},
   "outputs": [
    {
     "data": {
      "text/plain": [
       "0.0    995\n",
       "1.0      5\n",
       "Name: Class, dtype: int64"
      ]
     },
     "execution_count": 16,
     "metadata": {},
     "output_type": "execute_result"
    }
   ],
   "source": [
    "sample_data.Class.value_counts()"
   ]
  },
  {
   "cell_type": "code",
   "execution_count": 17,
   "id": "3d06bb64",
   "metadata": {},
   "outputs": [
    {
     "data": {
      "text/plain": [
       "<AxesSubplot:>"
      ]
     },
     "execution_count": 17,
     "metadata": {},
     "output_type": "execute_result"
    },
    {
     "data": {
      "image/png": "[encoded data removed]",
      "text/plain": [
       "<Figure size 432x288 with 1 Axes>"
      ]
     },
     "metadata": {
      "needs_background": "light"
     },
     "output_type": "display_data"
    }
   ],
   "source": [
    "sample_data.V4.hist()"
   ]
  },
  {
   "cell_type": "markdown",
   "id": "10aae180",
   "metadata": {},
   "source": [
    "## 3. Generate raw data schema\n",
    "\n",
    "The [TensorFlow Data Validation (TFDV)](https://www.tensorflow.org/tfx/data_validation/get_started) data schema will be used in:\n",
    "1. Identify the raw data types and shapes in the data transformation.\n",
    "2. Create the serving input signature for the custom model.\n",
    "3. Validate the new raw training data in the TFX pipeline."
   ]
  },
  {
   "cell_type": "code",
   "execution_count": 18,
   "id": "4087d5fa",
   "metadata": {},
   "outputs": [],
   "source": [
    "stats = tfdv.generate_statistics_from_dataframe(\n",
    "    dataframe=sample_data,\n",
    "    stats_options=tfdv.StatsOptions(\n",
    "        label_feature='Class',\n",
    "        weight_feature=None,\n",
    "        sample_rate=1,\n",
    "        num_top_values=50\n",
    "    )\n",
    ")"
   ]
  },
  {
   "cell_type": "code",
   "execution_count": 19,
   "id": "091fbd77",
   "metadata": {},
   "outputs": [
    {
     "data": {
      "text/html": [
       "<iframe id='facets-iframe' width=\"100%\" height=\"500px\"></iframe>\n",
       "        <script>\n",
       "        facets_iframe = document.getElementById('facets-iframe');\n",
       "        facets_html = '<script src=\"https://cdnjs.cloudflare.com/ajax/libs/webcomponentsjs/1.3.3/webcomponents-lite.js\"><\\/script><link rel=\"import\" href=\"https://raw.githubusercontent.com/PAIR-code/facets/master/facets-dist/facets-jupyter.html\"><facets-overview proto-input=\"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\"></facets-overview>';\n",
       "        facets_iframe.srcdoc = facets_html;\n",
       "         facets_iframe.id = \"\";\n",
       "         setTimeout(() => {\n",
       "           facets_iframe.setAttribute('height', facets_iframe.contentWindow.document.body.offsetHeight + 'px')\n",
       "         }, 1500)\n",
       "         </script>"
      ],
      "text/plain": [
       "<IPython.core.display.HTML object>"
      ]
     },
     "metadata": {},
     "output_type": "display_data"
    }
   ],
   "source": [
    "tfdv.visualize_statistics(stats)"
   ]
  },
  {
   "cell_type": "code",
   "execution_count": 20,
   "id": "d251e09b",
   "metadata": {},
   "outputs": [
    {
     "data": {
      "text/html": [
       "<div>\n",
       "<style scoped>\n",
       "    .dataframe tbody tr th:only-of-type {\n",
       "        vertical-align: middle;\n",
       "    }\n",
       "\n",
       "    .dataframe tbody tr th {\n",
       "        vertical-align: top;\n",
       "    }\n",
       "\n",
       "    .dataframe thead th {\n",
       "        text-align: right;\n",
       "    }\n",
       "</style>\n",
       "<table border=\"1\" class=\"dataframe\">\n",
       "  <thead>\n",
       "    <tr style=\"text-align: right;\">\n",
       "      <th></th>\n",
       "      <th>Type</th>\n",
       "      <th>Presence</th>\n",
       "      <th>Valency</th>\n",
       "      <th>Domain</th>\n",
       "    </tr>\n",
       "    <tr>\n",
       "      <th>Feature name</th>\n",
       "      <th></th>\n",
       "      <th></th>\n",
       "      <th></th>\n",
       "      <th></th>\n",
       "    </tr>\n",
       "  </thead>\n",
       "  <tbody>\n",
       "    <tr>\n",
       "      <th>'V1'</th>\n",
       "      <td>FLOAT</td>\n",
       "      <td>required</td>\n",
       "      <td></td>\n",
       "      <td>-</td>\n",
       "    </tr>\n",
       "    <tr>\n",
       "      <th>'V2'</th>\n",
       "      <td>FLOAT</td>\n",
       "      <td>required</td>\n",
       "      <td></td>\n",
       "      <td>-</td>\n",
       "    </tr>\n",
       "    <tr>\n",
       "      <th>'V3'</th>\n",
       "      <td>FLOAT</td>\n",
       "      <td>required</td>\n",
       "      <td></td>\n",
       "      <td>-</td>\n",
       "    </tr>\n",
       "    <tr>\n",
       "      <th>'V4'</th>\n",
       "      <td>FLOAT</td>\n",
       "      <td>required</td>\n",
       "      <td></td>\n",
       "      <td>-</td>\n",
       "    </tr>\n",
       "    <tr>\n",
       "      <th>'V5'</th>\n",
       "      <td>FLOAT</td>\n",
       "      <td>required</td>\n",
       "      <td></td>\n",
       "      <td>-</td>\n",
       "    </tr>\n",
       "    <tr>\n",
       "      <th>'V6'</th>\n",
       "      <td>FLOAT</td>\n",
       "      <td>required</td>\n",
       "      <td></td>\n",
       "      <td>-</td>\n",
       "    </tr>\n",
       "    <tr>\n",
       "      <th>'V7'</th>\n",
       "      <td>FLOAT</td>\n",
       "      <td>required</td>\n",
       "      <td></td>\n",
       "      <td>-</td>\n",
       "    </tr>\n",
       "    <tr>\n",
       "      <th>'V8'</th>\n",
       "      <td>FLOAT</td>\n",
       "      <td>required</td>\n",
       "      <td></td>\n",
       "      <td>-</td>\n",
       "    </tr>\n",
       "    <tr>\n",
       "      <th>'V9'</th>\n",
       "      <td>FLOAT</td>\n",
       "      <td>required</td>\n",
       "      <td></td>\n",
       "      <td>-</td>\n",
       "    </tr>\n",
       "    <tr>\n",
       "      <th>'V10'</th>\n",
       "      <td>FLOAT</td>\n",
       "      <td>required</td>\n",
       "      <td></td>\n",
       "      <td>-</td>\n",
       "    </tr>\n",
       "    <tr>\n",
       "      <th>'V11'</th>\n",
       "      <td>FLOAT</td>\n",
       "      <td>required</td>\n",
       "      <td></td>\n",
       "      <td>-</td>\n",
       "    </tr>\n",
       "    <tr>\n",
       "      <th>'V12'</th>\n",
       "      <td>FLOAT</td>\n",
       "      <td>required</td>\n",
       "      <td></td>\n",
       "      <td>-</td>\n",
       "    </tr>\n",
       "    <tr>\n",
       "      <th>'V13'</th>\n",
       "      <td>FLOAT</td>\n",
       "      <td>required</td>\n",
       "      <td></td>\n",
       "      <td>-</td>\n",
       "    </tr>\n",
       "    <tr>\n",
       "      <th>'V14'</th>\n",
       "      <td>FLOAT</td>\n",
       "      <td>required</td>\n",
       "      <td></td>\n",
       "      <td>-</td>\n",
       "    </tr>\n",
       "    <tr>\n",
       "      <th>'V15'</th>\n",
       "      <td>FLOAT</td>\n",
       "      <td>required</td>\n",
       "      <td></td>\n",
       "      <td>-</td>\n",
       "    </tr>\n",
       "    <tr>\n",
       "      <th>'V16'</th>\n",
       "      <td>FLOAT</td>\n",
       "      <td>required</td>\n",
       "      <td></td>\n",
       "      <td>-</td>\n",
       "    </tr>\n",
       "    <tr>\n",
       "      <th>'V17'</th>\n",
       "      <td>FLOAT</td>\n",
       "      <td>required</td>\n",
       "      <td></td>\n",
       "      <td>-</td>\n",
       "    </tr>\n",
       "    <tr>\n",
       "      <th>'V18'</th>\n",
       "      <td>FLOAT</td>\n",
       "      <td>required</td>\n",
       "      <td></td>\n",
       "      <td>-</td>\n",
       "    </tr>\n",
       "    <tr>\n",
       "      <th>'V19'</th>\n",
       "      <td>FLOAT</td>\n",
       "      <td>required</td>\n",
       "      <td></td>\n",
       "      <td>-</td>\n",
       "    </tr>\n",
       "    <tr>\n",
       "      <th>'V20'</th>\n",
       "      <td>FLOAT</td>\n",
       "      <td>required</td>\n",
       "      <td></td>\n",
       "      <td>-</td>\n",
       "    </tr>\n",
       "    <tr>\n",
       "      <th>'V21'</th>\n",
       "      <td>FLOAT</td>\n",
       "      <td>required</td>\n",
       "      <td></td>\n",
       "      <td>-</td>\n",
       "    </tr>\n",
       "    <tr>\n",
       "      <th>'V22'</th>\n",
       "      <td>FLOAT</td>\n",
       "      <td>required</td>\n",
       "      <td></td>\n",
       "      <td>-</td>\n",
       "    </tr>\n",
       "    <tr>\n",
       "      <th>'V23'</th>\n",
       "      <td>FLOAT</td>\n",
       "      <td>required</td>\n",
       "      <td></td>\n",
       "      <td>-</td>\n",
       "    </tr>\n",
       "    <tr>\n",
       "      <th>'V24'</th>\n",
       "      <td>FLOAT</td>\n",
       "      <td>required</td>\n",
       "      <td></td>\n",
       "      <td>-</td>\n",
       "    </tr>\n",
       "    <tr>\n",
       "      <th>'V25'</th>\n",
       "      <td>FLOAT</td>\n",
       "      <td>required</td>\n",
       "      <td></td>\n",
       "      <td>-</td>\n",
       "    </tr>\n",
       "    <tr>\n",
       "      <th>'V26'</th>\n",
       "      <td>FLOAT</td>\n",
       "      <td>required</td>\n",
       "      <td></td>\n",
       "      <td>-</td>\n",
       "    </tr>\n",
       "    <tr>\n",
       "      <th>'V27'</th>\n",
       "      <td>FLOAT</td>\n",
       "      <td>required</td>\n",
       "      <td></td>\n",
       "      <td>-</td>\n",
       "    </tr>\n",
       "    <tr>\n",
       "      <th>'V28'</th>\n",
       "      <td>FLOAT</td>\n",
       "      <td>required</td>\n",
       "      <td></td>\n",
       "      <td>-</td>\n",
       "    </tr>\n",
       "    <tr>\n",
       "      <th>'Amount'</th>\n",
       "      <td>FLOAT</td>\n",
       "      <td>required</td>\n",
       "      <td></td>\n",
       "      <td>-</td>\n",
       "    </tr>\n",
       "    <tr>\n",
       "      <th>'Class'</th>\n",
       "      <td>FLOAT</td>\n",
       "      <td>required</td>\n",
       "      <td></td>\n",
       "      <td>-</td>\n",
       "    </tr>\n",
       "  </tbody>\n",
       "</table>\n",
       "</div>"
      ],
      "text/plain": [
       "               Type  Presence Valency Domain\n",
       "Feature name                                \n",
       "'V1'          FLOAT  required              -\n",
       "'V2'          FLOAT  required              -\n",
       "'V3'          FLOAT  required              -\n",
       "'V4'          FLOAT  required              -\n",
       "'V5'          FLOAT  required              -\n",
       "'V6'          FLOAT  required              -\n",
       "'V7'          FLOAT  required              -\n",
       "'V8'          FLOAT  required              -\n",
       "'V9'          FLOAT  required              -\n",
       "'V10'         FLOAT  required              -\n",
       "'V11'         FLOAT  required              -\n",
       "'V12'         FLOAT  required              -\n",
       "'V13'         FLOAT  required              -\n",
       "'V14'         FLOAT  required              -\n",
       "'V15'         FLOAT  required              -\n",
       "'V16'         FLOAT  required              -\n",
       "'V17'         FLOAT  required              -\n",
       "'V18'         FLOAT  required              -\n",
       "'V19'         FLOAT  required              -\n",
       "'V20'         FLOAT  required              -\n",
       "'V21'         FLOAT  required              -\n",
       "'V22'         FLOAT  required              -\n",
       "'V23'         FLOAT  required              -\n",
       "'V24'         FLOAT  required              -\n",
       "'V25'         FLOAT  required              -\n",
       "'V26'         FLOAT  required              -\n",
       "'V27'         FLOAT  required              -\n",
       "'V28'         FLOAT  required              -\n",
       "'Amount'      FLOAT  required              -\n",
       "'Class'       FLOAT  required              -"
      ]
     },
     "metadata": {},
     "output_type": "display_data"
    }
   ],
   "source": [
    "schema = tfdv.infer_schema(statistics=stats)\n",
    "tfdv.display_schema(schema=schema)"
   ]
  },
  {
   "cell_type": "code",
   "execution_count": 21,
   "id": "502c49f1",
   "metadata": {},
   "outputs": [],
   "source": [
    "raw_schema_location = os.path.join(RAW_SCHEMA_DIR, 'schema.pbtxt')\n",
    "tfdv.write_schema_text(schema, raw_schema_location)"
   ]
  },
  {
   "cell_type": "markdown",
   "id": "59df0723",
   "metadata": {},
   "source": [
    "## 4. Create Vertex Dataset resource"
   ]
  },
  {
   "cell_type": "code",
   "execution_count": 8,
   "id": "90d9b605",
   "metadata": {},
   "outputs": [
    {
     "name": "stdout",
     "output_type": "stream",
     "text": [
      "Project ID: pbalm-cxb-aa\n",
      "Region: europe-west4\n"
     ]
    }
   ],
   "source": [
    "print(\"Project ID:\", PROJECT)\n",
    "print(\"Region:\", REGION)\n",
    "\n",
    "vertex_ai.init(\n",
    "    project=PROJECT,\n",
    "    location=REGION\n",
    ")"
   ]
  },
  {
   "cell_type": "markdown",
   "id": "464ab920",
   "metadata": {},
   "source": [
    "### Create the dataset resource"
   ]
  },
  {
   "cell_type": "code",
   "execution_count": 25,
   "id": "a0a1707a",
   "metadata": {},
   "outputs": [
    {
     "name": "stdout",
     "output_type": "stream",
     "text": [
      "Creating TabularDataset\n",
      "Create TabularDataset backing LRO: projects/188940921537/locations/europe-west4/datasets/5463301754605010944/operations/5300842864287154176\n",
      "TabularDataset created. Resource name: projects/188940921537/locations/europe-west4/datasets/5463301754605010944\n",
      "To use this TabularDataset in another session:\n",
      "ds = aiplatform.TabularDataset('projects/188940921537/locations/europe-west4/datasets/5463301754605010944')\n"
     ]
    },
    {
     "data": {
      "text/plain": [
       "name: \"projects/188940921537/locations/europe-west4/datasets/5463301754605010944\"\n",
       "display_name: \"creditcards\"\n",
       "metadata_schema_uri: \"gs://google-cloud-aiplatform/schema/dataset/metadata/tabular_1.0.0.yaml\"\n",
       "create_time {\n",
       "  seconds: 1655388212\n",
       "  nanos: 956899000\n",
       "}\n",
       "update_time {\n",
       "  seconds: 1655388220\n",
       "  nanos: 16916000\n",
       "}\n",
       "etag: \"AMEw9yNfT4MbtFognOHnv4pc2EzuwRJ9GMnlZNvVO4yIoRnAMkH-rEEWSztrm1d7xI4=\"\n",
       "labels {\n",
       "  key: \"aiplatform.googleapis.com/dataset_metadata_schema\"\n",
       "  value: \"TABLE\"\n",
       "}\n",
       "metadata {\n",
       "  struct_value {\n",
       "    fields {\n",
       "      key: \"inputConfig\"\n",
       "      value {\n",
       "        struct_value {\n",
       "          fields {\n",
       "            key: \"bigquerySource\"\n",
       "            value {\n",
       "              struct_value {\n",
       "                fields {\n",
       "                  key: \"uri\"\n",
       "                  value {\n",
       "                    string_value: \"bq://pbalm-cxb-aa.vertex_eu.creditcards_ml\"\n",
       "                  }\n",
       "                }\n",
       "              }\n",
       "            }\n",
       "          }\n",
       "        }\n",
       "      }\n",
       "    }\n",
       "  }\n",
       "}"
      ]
     },
     "execution_count": 25,
     "metadata": {},
     "output_type": "execute_result"
    }
   ],
   "source": [
    "bq_uri = f\"bq://{PROJECT}.{BQ_DATASET_NAME}.{ML_TABLE}\"\n",
    "\n",
    "dataset = vertex_ai.TabularDataset.create(\n",
    "    display_name=VERTEX_DATASET_NAME, bq_source=bq_uri)\n",
    "\n",
    "dataset.gca_resource"
   ]
  },
  {
   "cell_type": "markdown",
   "id": "c761fadb",
   "metadata": {},
   "source": [
    "### Get the dataset resource\n",
    "\n",
    "The dataset resource is retrieved by display name. Because multiple datasets can have the same display name, we retrieve the most recent updated one."
   ]
  },
  {
   "cell_type": "code",
   "execution_count": 9,
   "id": "d78b7f4d",
   "metadata": {},
   "outputs": [
    {
     "name": "stdout",
     "output_type": "stream",
     "text": [
      "Dataset resource name: projects/188940921537/locations/europe-west4/datasets/5463301754605010944\n",
      "Dataset BigQuery source: bq://pbalm-cxb-aa.vertex_eu.creditcards_ml\n"
     ]
    }
   ],
   "source": [
    "dataset = vertex_ai.TabularDataset.list(\n",
    "    filter=f\"display_name={VERTEX_DATASET_NAME}\", \n",
    "    order_by=\"update_time\")[-1]\n",
    "\n",
    "print(\"Dataset resource name:\", dataset.resource_name)\n",
    "print(\"Dataset BigQuery source:\", dataset.gca_resource.metadata['inputConfig']['bigquerySource']['uri'])"
   ]
  }
 ],
 "metadata": {
  "environment": {
   "kernel": "python3",
   "name": "tf2-gpu.2-8.m93",
   "type": "gcloud",
   "uri": "gcr.io/deeplearning-platform-release/tf2-gpu.2-8:m93"
  },
  "kernelspec": {
   "display_name": "Python 3",
   "language": "python",
   "name": "python3"
  },
  "language_info": {
   "codemirror_mode": {
    "name": "ipython",
    "version": 3
   },
   "file_extension": ".py",
   "mimetype": "text/x-python",
   "name": "python",
   "nbconvert_exporter": "python",
   "pygments_lexer": "ipython3",
   "version": "3.7.12"
  }
 },
 "nbformat": 4,
 "nbformat_minor": 5
}
