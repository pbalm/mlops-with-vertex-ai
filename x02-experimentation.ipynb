{
 "cells": [
  {
   "cell_type": "markdown",
   "id": "1eae86f7",
   "metadata": {},
   "source": [
    "# 02 - ML Experimentation with Custom Model\n",
    "\n",
    "The purpose of this notebook is to use [custom training](https://cloud.google.com/ai-platform-unified/docs/training/custom-training) to train a keras classifier to predict whether a given trip will result in a tip > 20%. The notebook covers the following tasks:\n",
    "1. Preprocess the data locally using Apache Beam.\n",
    "2. Train and test custom model locally using a Keras implementation.\n",
    "3. Submit a Dataflow job to preprocess the data at scale.\n",
    "4. Submit a custom training job to Vertex AI using a [pre-built container](https://cloud.google.com/ai-platform-unified/docs/training/pre-built-containers).\n",
    "5. Upload the trained model to Vertex AI.\n",
    "6. Track experiment parameters from [Vertex AI Metadata](https://cloud.google.com/vertex-ai/docs/ml-metadata/introduction).\n",
    "7. Submit a [hyperparameter tuning job](https://cloud.google.com/vertex-ai/docs/training/hyperparameter-tuning-overview) to Vertex AI.\n",
    "\n",
    "We use [Vertex TensorBoard](https://cloud.google.com/vertex-ai/docs/experiments/tensorboard-overview) \n",
    "and [Vertex ML Metadata](https://cloud.google.com/vertex-ai/docs/ml-metadata/introduction) to  track, visualize, and compare ML experiments."
   ]
  },
  {
   "cell_type": "markdown",
   "id": "b5205917",
   "metadata": {},
   "source": [
    "## Setup"
   ]
  },
  {
   "cell_type": "markdown",
   "id": "624c6cfe",
   "metadata": {},
   "source": [
    "### Import libraries"
   ]
  },
  {
   "cell_type": "code",
   "execution_count": 1,
   "id": "4171d42a",
   "metadata": {},
   "outputs": [
    {
     "name": "stdout",
     "output_type": "stream",
     "text": [
      "TensorFlow: 2.8.1\n",
      "TensorFlow Transform: 1.8.0\n"
     ]
    }
   ],
   "source": [
    "%load_ext autoreload\n",
    "%autoreload 2\n",
    "\n",
    "import os\n",
    "import logging\n",
    "from datetime import datetime\n",
    "import numpy as np\n",
    "\n",
    "import tensorflow as tf\n",
    "import tensorflow_transform as tft\n",
    "import tensorflow.keras as keras\n",
    "\n",
    "from google.cloud import aiplatform as vertex_ai\n",
    "from google.cloud.aiplatform import hyperparameter_tuning as hp_tuning\n",
    "\n",
    "from src.common import features, datasource_utils\n",
    "from src.model_training import data, model, defaults, trainer, exporter\n",
    "from src.preprocessing import etl\n",
    "\n",
    "logging.getLogger().setLevel(logging.INFO)\n",
    "tf.get_logger().setLevel('INFO')\n",
    "\n",
    "print(f\"TensorFlow: {tf.__version__}\")\n",
    "print(f\"TensorFlow Transform: {tft.__version__}\")"
   ]
  },
  {
   "cell_type": "markdown",
   "id": "fde361cf",
   "metadata": {},
   "source": [
    "### Setup Google Cloud project"
   ]
  },
  {
   "cell_type": "code",
   "execution_count": 47,
   "id": "31fce242",
   "metadata": {},
   "outputs": [
    {
     "name": "stdout",
     "output_type": "stream",
     "text": [
      "Project ID: pbalm-cxb-aa\n",
      "Region: europe-west4\n",
      "Bucket name: pbalm-cxb-aa-eu\n",
      "Service Account: 188940921537-compute@developer.gserviceaccount.com\n",
      "Vertex API Parent URI: projects/pbalm-cxb-aa/locations/europe-west4\n"
     ]
    }
   ],
   "source": [
    "PROJECT = 'pbalm-cxb-aa'\n",
    "REGION = 'europe-west4'\n",
    "BUCKET = PROJECT + '-eu'\n",
    "SERVICE_ACCOUNT = \"188940921537-compute@developer.gserviceaccount.com\"\n",
    "#SERVICE_ACCOUNT = \"sa-mlops@cxb1-prj-test-no-vpcsc.iam.gserviceaccount.com\"\n",
    "#SERVICE_ACCOUNT = \"\" # This will trigger use of user account\n",
    "\n",
    "\n",
    "if PROJECT == \"\" or PROJECT is None or PROJECT == \"[your-project-id]\":\n",
    "    # Get your GCP project id from gcloud\n",
    "    shell_output = !gcloud config list --format 'value(core.project)' 2>/dev/null\n",
    "    PROJECT = shell_output[0]\n",
    "    \n",
    "if SERVICE_ACCOUNT == \"\" or SERVICE_ACCOUNT is None or SERVICE_ACCOUNT == \"[your-service-account]\":\n",
    "    # Get your GCP project id from gcloud\n",
    "    shell_output = !gcloud config list --format 'value(core.account)' 2>/dev/null\n",
    "    SERVICE_ACCOUNT = shell_output[0]\n",
    "    \n",
    "if BUCKET == \"\" or BUCKET is None or BUCKET == \"[your-bucket-name]\":\n",
    "    # Get your bucket name to GCP projet id\n",
    "    BUCKET = PROJECT\n",
    "    # Try to create the bucket if it doesn'exists\n",
    "    ! gsutil mb -l $REGION gs://$BUCKET\n",
    "    print(\"\")\n",
    "    \n",
    "PARENT = f\"projects/{PROJECT}/locations/{REGION}\"\n",
    "    \n",
    "print(\"Project ID:\", PROJECT)\n",
    "print(\"Region:\", REGION)\n",
    "print(\"Bucket name:\", BUCKET)\n",
    "print(\"Service Account:\", SERVICE_ACCOUNT)\n",
    "print(\"Vertex API Parent URI:\", PARENT)"
   ]
  },
  {
   "cell_type": "markdown",
   "id": "26cfd33f",
   "metadata": {},
   "source": [
    "### Set configurations"
   ]
  },
  {
   "cell_type": "code",
   "execution_count": 48,
   "id": "b363e822",
   "metadata": {},
   "outputs": [],
   "source": [
    "VERSION = 'v01'\n",
    "VERTEX_DATASET_NAME = 'creditcards'\n",
    "\n",
    "MODEL_DISPLAY_NAME = f'{VERTEX_DATASET_NAME}-classifier-{VERSION}'\n",
    "\n",
    "WORKSPACE = f'gs://{BUCKET}/{VERTEX_DATASET_NAME}'\n",
    "EXPERIMENT_ARTIFACTS_DIR = os.path.join(WORKSPACE, 'experiments')\n",
    "RAW_SCHEMA_LOCATION = 'src/raw_schema/schema.pbtxt'\n",
    "\n",
    "TENSORBOARD_DISPLAY_NAME = f'tb-{VERTEX_DATASET_NAME}'\n",
    "EXPERIMENT_NAME = f'{MODEL_DISPLAY_NAME}'\n",
    "DATAFLOW_REGION = f'{REGION}'\n",
    "DATAFLOW_SERVICE_ACCOUNT = SERVICE_ACCOUNT\n",
    "#DATAFLOW_SUBNETWORK = 'https://www.googleapis.com/compute/v1/projects/cxb1-prj-test-no-vpcsc/regions/europe-west1/subnetworks/default'\n",
    "DATAFLOW_SUBNETWORK = 'https://www.googleapis.com/compute/v1/projects/pbalm-cxb-aa/regions/europe-west4/subnetworks/default'\n",
    "\n",
    "if not REGION in DATAFLOW_SUBNETWORK:\n",
    "    raise Exception(f'{DATAFLOW_SUBNETWORK} is not a valid subnet for {REGION}')\n"
   ]
  },
  {
   "cell_type": "markdown",
   "id": "e2cf63d9",
   "metadata": {},
   "source": [
    "## Create Vertex TensorBoard instance "
   ]
  },
  {
   "cell_type": "code",
   "execution_count": 4,
   "id": "1cf8ef5c",
   "metadata": {},
   "outputs": [
    {
     "name": "stdout",
     "output_type": "stream",
     "text": [
      "Creating Tensorboard\n",
      "Create Tensorboard backing LRO: projects/188940921537/locations/europe-west4/tensorboards/6937971147824693248/operations/1166098601709928448\n",
      "Tensorboard created. Resource name: projects/188940921537/locations/europe-west4/tensorboards/6937971147824693248\n",
      "To use this Tensorboard in another session:\n",
      "tb = aiplatform.Tensorboard('projects/188940921537/locations/europe-west4/tensorboards/6937971147824693248')\n",
      "TensorBoard resource name: projects/188940921537/locations/europe-west4/tensorboards/6937971147824693248\n"
     ]
    }
   ],
   "source": [
    "vertex_ai.init(location=REGION)\n",
    "tensorboard_resource = vertex_ai.Tensorboard.create(display_name=TENSORBOARD_DISPLAY_NAME)\n",
    "tensorboard_resource_name = tensorboard_resource.gca_resource.name\n",
    "print(\"TensorBoard resource name:\", tensorboard_resource_name)"
   ]
  },
  {
   "cell_type": "markdown",
   "id": "670a3859",
   "metadata": {},
   "source": [
    "## Initialize workspace"
   ]
  },
  {
   "cell_type": "code",
   "execution_count": 49,
   "id": "7d03fba1",
   "metadata": {},
   "outputs": [
    {
     "name": "stdout",
     "output_type": "stream",
     "text": [
      "Workspace is ready.\n",
      "Experiment directory: gs://pbalm-cxb-aa-eu/creditcards/experiments\n"
     ]
    }
   ],
   "source": [
    "REMOVE_EXPERIMENT_ARTIFACTS = False\n",
    "\n",
    "if tf.io.gfile.exists(EXPERIMENT_ARTIFACTS_DIR) and REMOVE_EXPERIMENT_ARTIFACTS:\n",
    "    print(\"Removing previous experiment artifacts...\")\n",
    "    tf.io.gfile.rmtree(EXPERIMENT_ARTIFACTS_DIR)\n",
    "\n",
    "if not tf.io.gfile.exists(EXPERIMENT_ARTIFACTS_DIR):\n",
    "    print(\"Creating new experiment artifacts directory...\")\n",
    "    tf.io.gfile.mkdir(EXPERIMENT_ARTIFACTS_DIR)\n",
    "\n",
    "print(\"Workspace is ready.\")\n",
    "print(\"Experiment directory:\", EXPERIMENT_ARTIFACTS_DIR)"
   ]
  },
  {
   "cell_type": "markdown",
   "id": "bd08e503",
   "metadata": {},
   "source": [
    "## Initialize Vertex AI experiment"
   ]
  },
  {
   "cell_type": "code",
   "execution_count": 50,
   "id": "f3aefc2c",
   "metadata": {},
   "outputs": [
    {
     "name": "stdout",
     "output_type": "stream",
     "text": [
      "Experiment run directory: gs://pbalm-cxb-aa-eu/creditcards/experiments/creditcards-classifier-v01/run-local-20220628132213\n"
     ]
    }
   ],
   "source": [
    "vertex_ai.init(\n",
    "    project=PROJECT,\n",
    "    location=REGION,\n",
    "    staging_bucket=BUCKET,\n",
    "    experiment=EXPERIMENT_NAME\n",
    ")\n",
    "\n",
    "run_id = f\"run-local-{datetime.now().strftime('%Y%m%d%H%M%S')}\"\n",
    "vertex_ai.start_run(run_id)\n",
    "\n",
    "EXPERIMENT_RUN_DIR = os.path.join(EXPERIMENT_ARTIFACTS_DIR, EXPERIMENT_NAME, run_id)\n",
    "print(\"Experiment run directory:\", EXPERIMENT_RUN_DIR)"
   ]
  },
  {
   "cell_type": "markdown",
   "id": "f9c8cee2",
   "metadata": {},
   "source": [
    "## 1. Preprocess the data using Apache Beam\n",
    "\n",
    "The Apache Beam pipeline of data preprocessing is implemented in the [preprocessing](src/preprocessing) directory."
   ]
  },
  {
   "cell_type": "code",
   "execution_count": 51,
   "id": "84a613a2",
   "metadata": {},
   "outputs": [],
   "source": [
    "EXPORTED_DATA_PREFIX = os.path.join(EXPERIMENT_RUN_DIR, 'exported_data')\n",
    "TRANSFORMED_DATA_PREFIX = os.path.join(EXPERIMENT_RUN_DIR, 'transformed_data')\n",
    "TRANSFORM_ARTIFACTS_DIR = os.path.join(EXPERIMENT_RUN_DIR, 'transform_artifacts')"
   ]
  },
  {
   "cell_type": "markdown",
   "id": "264b81f3",
   "metadata": {},
   "source": [
    "### Get Source Query from Managed Dataset"
   ]
  },
  {
   "cell_type": "code",
   "execution_count": 52,
   "id": "c9b8ad0f",
   "metadata": {},
   "outputs": [
    {
     "name": "stdout",
     "output_type": "stream",
     "text": [
      "\n",
      "    SELECT *\n",
      "    \n",
      "    EXCEPT (Time, ML_use)\n",
      "    FROM vertex_eu.creditcards_ml \n",
      "    WHERE ML_use = 'UNASSIGNED'\n",
      "    LIMIT 5120\n"
     ]
    }
   ],
   "source": [
    "ML_USE = 'UNASSIGNED'\n",
    "LIMIT = 5120\n",
    "\n",
    "raw_data_query = datasource_utils.get_training_source_query(\n",
    "    project=PROJECT, \n",
    "    region=REGION, \n",
    "    dataset_display_name=VERTEX_DATASET_NAME, \n",
    "    ml_use=ML_USE, \n",
    "    limit=LIMIT\n",
    ")\n",
    "\n",
    "print(raw_data_query)"
   ]
  },
  {
   "cell_type": "markdown",
   "id": "6047eac1",
   "metadata": {},
   "source": [
    "### Test Data Preprocessing Locally"
   ]
  },
  {
   "cell_type": "code",
   "execution_count": 53,
   "id": "ac9b5b05",
   "metadata": {},
   "outputs": [],
   "source": [
    "args = {\n",
    "    'runner': 'DirectRunner',\n",
    "    'raw_data_query': raw_data_query,\n",
    "    'write_raw_data': True,\n",
    "    'exported_data_prefix': EXPORTED_DATA_PREFIX,\n",
    "    'transformed_data_prefix': TRANSFORMED_DATA_PREFIX,\n",
    "    'transform_artifact_dir': TRANSFORM_ARTIFACTS_DIR,\n",
    "    'temporary_dir': os.path.join(WORKSPACE, 'tmp'),\n",
    "    'gcs_location': f'gs://{BUCKET}/bq_tmp',\n",
    "    'project': PROJECT,\n",
    "    'region': REGION\n",
    "}"
   ]
  },
  {
   "cell_type": "code",
   "execution_count": 54,
   "id": "6c225f37",
   "metadata": {},
   "outputs": [],
   "source": [
    "vertex_ai.log_params(args)"
   ]
  },
  {
   "cell_type": "code",
   "execution_count": 55,
   "id": "56ece730",
   "metadata": {},
   "outputs": [
    {
     "name": "stdout",
     "output_type": "stream",
     "text": [
      "Data preprocessing started...\n",
      "WARNING:tensorflow:You are passing instance dicts and DatasetMetadata to TFT which will not provide optimal performance. Consider following the TFT guide to upgrade to the TFXIO format (Apache Arrow RecordBatch).\n"
     ]
    },
    {
     "name": "stderr",
     "output_type": "stream",
     "text": [
      "WARNING:tensorflow:You are passing instance dicts and DatasetMetadata to TFT which will not provide optimal performance. Consider following the TFT guide to upgrade to the TFXIO format (Apache Arrow RecordBatch).\n"
     ]
    },
    {
     "name": "stdout",
     "output_type": "stream",
     "text": [
      "WARNING:tensorflow:You are passing instance dicts and DatasetMetadata to TFT which will not provide optimal performance. Consider following the TFT guide to upgrade to the TFXIO format (Apache Arrow RecordBatch).\n"
     ]
    },
    {
     "name": "stderr",
     "output_type": "stream",
     "text": [
      "WARNING:tensorflow:You are passing instance dicts and DatasetMetadata to TFT which will not provide optimal performance. Consider following the TFT guide to upgrade to the TFXIO format (Apache Arrow RecordBatch).\n"
     ]
    },
    {
     "name": "stdout",
     "output_type": "stream",
     "text": [
      "WARNING:tensorflow:You are passing instance dicts and DatasetMetadata to TFT which will not provide optimal performance. Consider following the TFT guide to upgrade to the TFXIO format (Apache Arrow RecordBatch).\n"
     ]
    },
    {
     "name": "stderr",
     "output_type": "stream",
     "text": [
      "WARNING:tensorflow:You are passing instance dicts and DatasetMetadata to TFT which will not provide optimal performance. Consider following the TFT guide to upgrade to the TFXIO format (Apache Arrow RecordBatch).\n"
     ]
    },
    {
     "name": "stdout",
     "output_type": "stream",
     "text": [
      "INFO:tensorflow:Assets written to: gs://pbalm-cxb-aa-eu/creditcards/tmp/tftransform_tmp/959a12e58f5e4c289d6817dc4abf7685/assets\n"
     ]
    },
    {
     "name": "stderr",
     "output_type": "stream",
     "text": [
      "INFO:tensorflow:Assets written to: gs://pbalm-cxb-aa-eu/creditcards/tmp/tftransform_tmp/959a12e58f5e4c289d6817dc4abf7685/assets\n"
     ]
    },
    {
     "name": "stdout",
     "output_type": "stream",
     "text": [
      "INFO:tensorflow:struct2tensor is not available.\n"
     ]
    },
    {
     "name": "stderr",
     "output_type": "stream",
     "text": [
      "INFO:tensorflow:struct2tensor is not available.\n"
     ]
    },
    {
     "name": "stdout",
     "output_type": "stream",
     "text": [
      "INFO:tensorflow:tensorflow_decision_forests is not available.\n"
     ]
    },
    {
     "name": "stderr",
     "output_type": "stream",
     "text": [
      "INFO:tensorflow:tensorflow_decision_forests is not available.\n"
     ]
    },
    {
     "name": "stdout",
     "output_type": "stream",
     "text": [
      "INFO:tensorflow:tensorflow_text is not available.\n"
     ]
    },
    {
     "name": "stderr",
     "output_type": "stream",
     "text": [
      "INFO:tensorflow:tensorflow_text is not available.\n"
     ]
    },
    {
     "name": "stdout",
     "output_type": "stream",
     "text": [
      "INFO:tensorflow:Assets written to: gs://pbalm-cxb-aa-eu/creditcards/tmp/tftransform_tmp/196a19992f7e46ac8722750356fff3b9/assets\n"
     ]
    },
    {
     "name": "stderr",
     "output_type": "stream",
     "text": [
      "INFO:tensorflow:Assets written to: gs://pbalm-cxb-aa-eu/creditcards/tmp/tftransform_tmp/196a19992f7e46ac8722750356fff3b9/assets\n"
     ]
    },
    {
     "name": "stdout",
     "output_type": "stream",
     "text": [
      "INFO:tensorflow:struct2tensor is not available.\n"
     ]
    },
    {
     "name": "stderr",
     "output_type": "stream",
     "text": [
      "INFO:tensorflow:struct2tensor is not available.\n"
     ]
    },
    {
     "name": "stdout",
     "output_type": "stream",
     "text": [
      "INFO:tensorflow:tensorflow_decision_forests is not available.\n"
     ]
    },
    {
     "name": "stderr",
     "output_type": "stream",
     "text": [
      "INFO:tensorflow:tensorflow_decision_forests is not available.\n"
     ]
    },
    {
     "name": "stdout",
     "output_type": "stream",
     "text": [
      "INFO:tensorflow:tensorflow_text is not available.\n"
     ]
    },
    {
     "name": "stderr",
     "output_type": "stream",
     "text": [
      "INFO:tensorflow:tensorflow_text is not available.\n"
     ]
    },
    {
     "name": "stdout",
     "output_type": "stream",
     "text": [
      "INFO:tensorflow:struct2tensor is not available.\n"
     ]
    },
    {
     "name": "stderr",
     "output_type": "stream",
     "text": [
      "INFO:tensorflow:struct2tensor is not available.\n"
     ]
    },
    {
     "name": "stdout",
     "output_type": "stream",
     "text": [
      "INFO:tensorflow:tensorflow_decision_forests is not available.\n"
     ]
    },
    {
     "name": "stderr",
     "output_type": "stream",
     "text": [
      "INFO:tensorflow:tensorflow_decision_forests is not available.\n"
     ]
    },
    {
     "name": "stdout",
     "output_type": "stream",
     "text": [
      "INFO:tensorflow:tensorflow_text is not available.\n"
     ]
    },
    {
     "name": "stderr",
     "output_type": "stream",
     "text": [
      "INFO:tensorflow:tensorflow_text is not available.\n"
     ]
    },
    {
     "name": "stdout",
     "output_type": "stream",
     "text": [
      "Data preprocessing completed.\n"
     ]
    }
   ],
   "source": [
    "print(\"Data preprocessing started...\")\n",
    "etl.run_transform_pipeline(args)\n",
    "print(\"Data preprocessing completed.\")"
   ]
  },
  {
   "cell_type": "code",
   "execution_count": 56,
   "id": "a10911e3",
   "metadata": {},
   "outputs": [
    {
     "name": "stdout",
     "output_type": "stream",
     "text": [
      "gs://pbalm-cxb-aa-eu/creditcards/experiments/creditcards-classifier-v01/run-local-20220628132213/exported_data/\n",
      "gs://pbalm-cxb-aa-eu/creditcards/experiments/creditcards-classifier-v01/run-local-20220628132213/transform_artifacts/\n",
      "gs://pbalm-cxb-aa-eu/creditcards/experiments/creditcards-classifier-v01/run-local-20220628132213/transformed_data/\n"
     ]
    }
   ],
   "source": [
    "!gsutil ls {EXPERIMENT_RUN_DIR}"
   ]
  },
  {
   "cell_type": "markdown",
   "id": "74d252ab",
   "metadata": {},
   "source": [
    "## 2. Train a custom model locally using a Keras\n",
    "\n",
    "The `Keras` implementation of the custom model is in the [model_training](src/model_training) directory."
   ]
  },
  {
   "cell_type": "code",
   "execution_count": 57,
   "id": "c59f7710",
   "metadata": {},
   "outputs": [],
   "source": [
    "LOG_DIR = os.path.join(EXPERIMENT_RUN_DIR, 'logs')\n",
    "EXPORT_DIR = os.path.join(EXPERIMENT_RUN_DIR, 'model')"
   ]
  },
  {
   "cell_type": "markdown",
   "id": "7a212f14",
   "metadata": {},
   "source": [
    "### Read transformed data"
   ]
  },
  {
   "cell_type": "code",
   "execution_count": 58,
   "id": "204c8580",
   "metadata": {},
   "outputs": [
    {
     "data": {
      "text/plain": [
       "{'Amount': FixedLenFeature(shape=[1], dtype=tf.float32, default_value=None),\n",
       " 'Class': FixedLenFeature(shape=[1], dtype=tf.float32, default_value=None),\n",
       " 'V1': FixedLenFeature(shape=[1], dtype=tf.float32, default_value=None),\n",
       " 'V10': FixedLenFeature(shape=[1], dtype=tf.float32, default_value=None),\n",
       " 'V11': FixedLenFeature(shape=[1], dtype=tf.float32, default_value=None),\n",
       " 'V12': FixedLenFeature(shape=[1], dtype=tf.float32, default_value=None),\n",
       " 'V13': FixedLenFeature(shape=[1], dtype=tf.float32, default_value=None),\n",
       " 'V14': FixedLenFeature(shape=[1], dtype=tf.float32, default_value=None),\n",
       " 'V15': FixedLenFeature(shape=[1], dtype=tf.float32, default_value=None),\n",
       " 'V16': FixedLenFeature(shape=[1], dtype=tf.float32, default_value=None),\n",
       " 'V17': FixedLenFeature(shape=[1], dtype=tf.float32, default_value=None),\n",
       " 'V18': FixedLenFeature(shape=[1], dtype=tf.float32, default_value=None),\n",
       " 'V19': FixedLenFeature(shape=[1], dtype=tf.float32, default_value=None),\n",
       " 'V2': FixedLenFeature(shape=[1], dtype=tf.float32, default_value=None),\n",
       " 'V20': FixedLenFeature(shape=[1], dtype=tf.float32, default_value=None),\n",
       " 'V21': FixedLenFeature(shape=[1], dtype=tf.float32, default_value=None),\n",
       " 'V22': FixedLenFeature(shape=[1], dtype=tf.float32, default_value=None),\n",
       " 'V23': FixedLenFeature(shape=[1], dtype=tf.float32, default_value=None),\n",
       " 'V24': FixedLenFeature(shape=[1], dtype=tf.float32, default_value=None),\n",
       " 'V25': FixedLenFeature(shape=[1], dtype=tf.float32, default_value=None),\n",
       " 'V26': FixedLenFeature(shape=[1], dtype=tf.float32, default_value=None),\n",
       " 'V27': FixedLenFeature(shape=[1], dtype=tf.float32, default_value=None),\n",
       " 'V28': FixedLenFeature(shape=[1], dtype=tf.float32, default_value=None),\n",
       " 'V3': FixedLenFeature(shape=[1], dtype=tf.float32, default_value=None),\n",
       " 'V4': FixedLenFeature(shape=[1], dtype=tf.float32, default_value=None),\n",
       " 'V5': FixedLenFeature(shape=[1], dtype=tf.float32, default_value=None),\n",
       " 'V6': FixedLenFeature(shape=[1], dtype=tf.float32, default_value=None),\n",
       " 'V7': FixedLenFeature(shape=[1], dtype=tf.float32, default_value=None),\n",
       " 'V8': FixedLenFeature(shape=[1], dtype=tf.float32, default_value=None),\n",
       " 'V9': FixedLenFeature(shape=[1], dtype=tf.float32, default_value=None)}"
      ]
     },
     "execution_count": 58,
     "metadata": {},
     "output_type": "execute_result"
    }
   ],
   "source": [
    "tft_output = tft.TFTransformOutput(TRANSFORM_ARTIFACTS_DIR)\n",
    "transform_feature_spec = tft_output.transformed_feature_spec()\n",
    "transform_feature_spec"
   ]
  },
  {
   "cell_type": "code",
   "execution_count": 59,
   "id": "1918a86e-4210-4919-b79b-22b997a9fb76",
   "metadata": {},
   "outputs": [
    {
     "data": {
      "text/plain": [
       "'gs://pbalm-cxb-aa-eu/creditcards/experiments/creditcards-classifier-v01/run-local-20220628132213/transformed_data/train/data-*.gz'"
      ]
     },
     "execution_count": 59,
     "metadata": {},
     "output_type": "execute_result"
    }
   ],
   "source": [
    "train_data_file_pattern = os.path.join(TRANSFORMED_DATA_PREFIX,'train/data-*.gz')\n",
    "eval_data_file_pattern = os.path.join(TRANSFORMED_DATA_PREFIX,'eval/data-*.gz')\n",
    "\n",
    "train_data_file_pattern"
   ]
  },
  {
   "cell_type": "code",
   "execution_count": 60,
   "id": "0802ce3a",
   "metadata": {},
   "outputs": [
    {
     "name": "stdout",
     "output_type": "stream",
     "text": [
      "Amount <dtype: 'float32'>: [[0.5530469417572021], [-1.2997244596481323], [-0.31157970428466797]]\n",
      "V1 <dtype: 'float32'>: [[0.9349209070205688], [0.891810953617096], [0.9927675724029541]]\n",
      "V10 <dtype: 'float32'>: [[0.5361246466636658], [0.5891866683959961], [0.5728040933609009]]\n",
      "V11 <dtype: 'float32'>: [[0.44999223947525024], [0.13883373141288757], [0.26316753029823303]]\n",
      "V12 <dtype: 'float32'>: [[0.9115099310874939], [0.7992635369300842], [0.7506637573242188]]\n",
      "V13 <dtype: 'float32'>: [[0.6656832098960876], [0.6401777863502502], [0.42388156056404114]]\n",
      "V14 <dtype: 'float32'>: [[0.7040902376174927], [0.703034520149231], [0.7349112629890442]]\n",
      "V15 <dtype: 'float32'>: [[0.5309087038040161], [0.4936237037181854], [0.6177024841308594]]\n",
      "V16 <dtype: 'float32'>: [[0.795793890953064], [0.7409265041351318], [0.8301047682762146]]\n",
      "V17 <dtype: 'float32'>: [[0.7375094294548035], [0.7765122652053833], [0.7727304100990295]]\n",
      "V18 <dtype: 'float32'>: [[0.7343204617500305], [0.6878483891487122], [0.5268481969833374]]\n",
      "V19 <dtype: 'float32'>: [[0.4730876088142395], [0.7207170724868774], [0.5867010354995728]]\n",
      "V2 <dtype: 'float32'>: [[0.7711009383201599], [0.8084413409233093], [0.7511277794837952]]\n",
      "V20 <dtype: 'float32'>: [[0.5647702813148499], [0.576528787612915], [0.5599690079689026]]\n",
      "V21 <dtype: 'float32'>: [[0.42410188913345337], [0.4449847936630249], [0.417707234621048]]\n",
      "V22 <dtype: 'float32'>: [[0.6336013078689575], [0.5336908102035522], [0.5461774468421936]]\n",
      "V23 <dtype: 'float32'>: [[0.6630820035934448], [0.637112557888031], [0.6767818927764893]]\n",
      "V24 <dtype: 'float32'>: [[0.4443848133087158], [0.25299596786499023], [0.3423800766468048]]\n",
      "V25 <dtype: 'float32'>: [[0.6626818776130676], [0.8395645022392273], [0.5730602145195007]]\n",
      "V26 <dtype: 'float32'>: [[0.2311815768480301], [0.4910995066165924], [0.22757065296173096]]\n",
      "V27 <dtype: 'float32'>: [[0.5720524191856384], [0.5786589980125427], [0.5608616471290588]]\n",
      "V28 <dtype: 'float32'>: [[0.36291107535362244], [0.38168761134147644], [0.34847894310951233]]\n",
      "V3 <dtype: 'float32'>: [[0.8471983671188354], [0.8573846220970154], [0.667131245136261]]\n",
      "V4 <dtype: 'float32'>: [[0.41054612398147583], [0.680334210395813], [0.24781553447246552]]\n",
      "V5 <dtype: 'float32'>: [[0.3194628655910492], [0.3777277171611786], [0.3370714485645294]]\n",
      "V6 <dtype: 'float32'>: [[0.6501158475875854], [0.7441077828407288], [0.5603076815605164]]\n",
      "V7 <dtype: 'float32'>: [[0.7910640239715576], [0.8086802363395691], [0.814184308052063]]\n",
      "V8 <dtype: 'float32'>: [[0.7980566620826721], [0.7750007510185242], [0.7833238840103149]]\n",
      "V9 <dtype: 'float32'>: [[0.4955199062824249], [0.37986016273498535], [0.43667060136795044]]\n",
      "target: [[0.0], [0.0], [0.0]]\n"
     ]
    }
   ],
   "source": [
    "for input_features, target in data.get_dataset(train_data_file_pattern, transform_feature_spec, batch_size=3).take(1):\n",
    "    for key in input_features:\n",
    "        print(f\"{key} {input_features[key].dtype}: {input_features[key].numpy().tolist()}\")\n",
    "    print(f\"target: {target.numpy().tolist()}\")"
   ]
  },
  {
   "cell_type": "markdown",
   "id": "d0f363d4",
   "metadata": {},
   "source": [
    "### Create hyperparameters"
   ]
  },
  {
   "cell_type": "code",
   "execution_count": 61,
   "id": "b4fced82",
   "metadata": {},
   "outputs": [
    {
     "data": {
      "text/plain": [
       "{'hidden_units': [64, 32],\n",
       " 'learning_rate': 0.0001,\n",
       " 'batch_size': 512,\n",
       " 'num_epochs': 10}"
      ]
     },
     "execution_count": 61,
     "metadata": {},
     "output_type": "execute_result"
    }
   ],
   "source": [
    "hyperparams = {\n",
    "    \"hidden_units\": [64, 32]\n",
    "}\n",
    "\n",
    "hyperparams = defaults.update_hyperparams(hyperparams)\n",
    "hyperparams"
   ]
  },
  {
   "cell_type": "markdown",
   "id": "3c17b65e",
   "metadata": {},
   "source": [
    "### Create and test model inputs and outputs"
   ]
  },
  {
   "cell_type": "code",
   "execution_count": 62,
   "id": "a05b0f63",
   "metadata": {},
   "outputs": [],
   "source": [
    "classifier = model.create_model(transform_feature_spec.keys(), hyperparams)"
   ]
  },
  {
   "cell_type": "code",
   "execution_count": 63,
   "id": "ad4d33eb",
   "metadata": {},
   "outputs": [
    {
     "data": {
      "image/png": "[encoded data removed]",
      "text/plain": [
       "<IPython.core.display.Image object>"
      ]
     },
     "execution_count": 63,
     "metadata": {},
     "output_type": "execute_result"
    }
   ],
   "source": [
    "keras.utils.plot_model(\n",
    "    classifier, \n",
    "    show_shapes=True, \n",
    "    show_dtype=True\n",
    ")"
   ]
  },
  {
   "cell_type": "code",
   "execution_count": 64,
   "id": "f06e056e",
   "metadata": {},
   "outputs": [
    {
     "data": {
      "text/plain": [
       "<tf.Tensor: shape=(3, 1), dtype=float32, numpy=\n",
       "array([[0.46825898],\n",
       "       [0.42137378],\n",
       "       [0.4523844 ]], dtype=float32)>"
      ]
     },
     "execution_count": 64,
     "metadata": {},
     "output_type": "execute_result"
    }
   ],
   "source": [
    "classifier(input_features)"
   ]
  },
  {
   "cell_type": "code",
   "execution_count": 65,
   "id": "22116478-ed67-486c-b6d0-e1f98745c1cb",
   "metadata": {},
   "outputs": [
    {
     "data": {
      "text/plain": [
       "{'Amount': <tf.Tensor: shape=(3, 1), dtype=float32, numpy=\n",
       " array([[ 0.55304694],\n",
       "        [-1.2997245 ],\n",
       "        [-0.3115797 ]], dtype=float32)>,\n",
       " 'V1': <tf.Tensor: shape=(3, 1), dtype=float32, numpy=\n",
       " array([[0.9349209 ],\n",
       "        [0.89181095],\n",
       "        [0.9927676 ]], dtype=float32)>,\n",
       " 'V10': <tf.Tensor: shape=(3, 1), dtype=float32, numpy=\n",
       " array([[0.53612465],\n",
       "        [0.58918667],\n",
       "        [0.5728041 ]], dtype=float32)>,\n",
       " 'V11': <tf.Tensor: shape=(3, 1), dtype=float32, numpy=\n",
       " array([[0.44999224],\n",
       "        [0.13883373],\n",
       "        [0.26316753]], dtype=float32)>,\n",
       " 'V12': <tf.Tensor: shape=(3, 1), dtype=float32, numpy=\n",
       " array([[0.91150993],\n",
       "        [0.79926354],\n",
       "        [0.75066376]], dtype=float32)>,\n",
       " 'V13': <tf.Tensor: shape=(3, 1), dtype=float32, numpy=\n",
       " array([[0.6656832 ],\n",
       "        [0.6401778 ],\n",
       "        [0.42388156]], dtype=float32)>,\n",
       " 'V14': <tf.Tensor: shape=(3, 1), dtype=float32, numpy=\n",
       " array([[0.70409024],\n",
       "        [0.7030345 ],\n",
       "        [0.73491126]], dtype=float32)>,\n",
       " 'V15': <tf.Tensor: shape=(3, 1), dtype=float32, numpy=\n",
       " array([[0.5309087],\n",
       "        [0.4936237],\n",
       "        [0.6177025]], dtype=float32)>,\n",
       " 'V16': <tf.Tensor: shape=(3, 1), dtype=float32, numpy=\n",
       " array([[0.7957939 ],\n",
       "        [0.7409265 ],\n",
       "        [0.83010477]], dtype=float32)>,\n",
       " 'V17': <tf.Tensor: shape=(3, 1), dtype=float32, numpy=\n",
       " array([[0.7375094 ],\n",
       "        [0.77651227],\n",
       "        [0.7727304 ]], dtype=float32)>,\n",
       " 'V18': <tf.Tensor: shape=(3, 1), dtype=float32, numpy=\n",
       " array([[0.73432046],\n",
       "        [0.6878484 ],\n",
       "        [0.5268482 ]], dtype=float32)>,\n",
       " 'V19': <tf.Tensor: shape=(3, 1), dtype=float32, numpy=\n",
       " array([[0.4730876 ],\n",
       "        [0.7207171 ],\n",
       "        [0.58670104]], dtype=float32)>,\n",
       " 'V2': <tf.Tensor: shape=(3, 1), dtype=float32, numpy=\n",
       " array([[0.77110094],\n",
       "        [0.80844134],\n",
       "        [0.7511278 ]], dtype=float32)>,\n",
       " 'V20': <tf.Tensor: shape=(3, 1), dtype=float32, numpy=\n",
       " array([[0.5647703],\n",
       "        [0.5765288],\n",
       "        [0.559969 ]], dtype=float32)>,\n",
       " 'V21': <tf.Tensor: shape=(3, 1), dtype=float32, numpy=\n",
       " array([[0.4241019 ],\n",
       "        [0.4449848 ],\n",
       "        [0.41770723]], dtype=float32)>,\n",
       " 'V22': <tf.Tensor: shape=(3, 1), dtype=float32, numpy=\n",
       " array([[0.6336013 ],\n",
       "        [0.5336908 ],\n",
       "        [0.54617745]], dtype=float32)>,\n",
       " 'V23': <tf.Tensor: shape=(3, 1), dtype=float32, numpy=\n",
       " array([[0.663082  ],\n",
       "        [0.63711256],\n",
       "        [0.6767819 ]], dtype=float32)>,\n",
       " 'V24': <tf.Tensor: shape=(3, 1), dtype=float32, numpy=\n",
       " array([[0.4443848 ],\n",
       "        [0.25299597],\n",
       "        [0.34238008]], dtype=float32)>,\n",
       " 'V25': <tf.Tensor: shape=(3, 1), dtype=float32, numpy=\n",
       " array([[0.6626819],\n",
       "        [0.8395645],\n",
       "        [0.5730602]], dtype=float32)>,\n",
       " 'V26': <tf.Tensor: shape=(3, 1), dtype=float32, numpy=\n",
       " array([[0.23118158],\n",
       "        [0.4910995 ],\n",
       "        [0.22757065]], dtype=float32)>,\n",
       " 'V27': <tf.Tensor: shape=(3, 1), dtype=float32, numpy=\n",
       " array([[0.5720524 ],\n",
       "        [0.578659  ],\n",
       "        [0.56086165]], dtype=float32)>,\n",
       " 'V28': <tf.Tensor: shape=(3, 1), dtype=float32, numpy=\n",
       " array([[0.36291108],\n",
       "        [0.3816876 ],\n",
       "        [0.34847894]], dtype=float32)>,\n",
       " 'V3': <tf.Tensor: shape=(3, 1), dtype=float32, numpy=\n",
       " array([[0.84719837],\n",
       "        [0.8573846 ],\n",
       "        [0.66713125]], dtype=float32)>,\n",
       " 'V4': <tf.Tensor: shape=(3, 1), dtype=float32, numpy=\n",
       " array([[0.41054612],\n",
       "        [0.6803342 ],\n",
       "        [0.24781553]], dtype=float32)>,\n",
       " 'V5': <tf.Tensor: shape=(3, 1), dtype=float32, numpy=\n",
       " array([[0.31946287],\n",
       "        [0.37772772],\n",
       "        [0.33707145]], dtype=float32)>,\n",
       " 'V6': <tf.Tensor: shape=(3, 1), dtype=float32, numpy=\n",
       " array([[0.65011585],\n",
       "        [0.7441078 ],\n",
       "        [0.5603077 ]], dtype=float32)>,\n",
       " 'V7': <tf.Tensor: shape=(3, 1), dtype=float32, numpy=\n",
       " array([[0.791064  ],\n",
       "        [0.80868024],\n",
       "        [0.8141843 ]], dtype=float32)>,\n",
       " 'V8': <tf.Tensor: shape=(3, 1), dtype=float32, numpy=\n",
       " array([[0.79805666],\n",
       "        [0.77500075],\n",
       "        [0.7833239 ]], dtype=float32)>,\n",
       " 'V9': <tf.Tensor: shape=(3, 1), dtype=float32, numpy=\n",
       " array([[0.4955199 ],\n",
       "        [0.37986016],\n",
       "        [0.4366706 ]], dtype=float32)>}"
      ]
     },
     "execution_count": 65,
     "metadata": {},
     "output_type": "execute_result"
    }
   ],
   "source": [
    "input_features"
   ]
  },
  {
   "cell_type": "markdown",
   "id": "1d451ef7",
   "metadata": {},
   "source": [
    "### Train the model locally."
   ]
  },
  {
   "cell_type": "code",
   "execution_count": 66,
   "id": "153efc48",
   "metadata": {},
   "outputs": [],
   "source": [
    "logging.getLogger().setLevel(logging.INFO)\n",
    "\n",
    "hyperparams[\"learning_rate\"] = 0.001\n",
    "hyperparams[\"num_epochs\"] = 5\n",
    "hyperparams[\"batch_size\"] = 512\n",
    "\n",
    "vertex_ai.log_params(hyperparams)"
   ]
  },
  {
   "cell_type": "code",
   "execution_count": 67,
   "id": "a91c4924",
   "metadata": {},
   "outputs": [
    {
     "name": "stderr",
     "output_type": "stream",
     "text": [
      "INFO:root:Loading tft output from gs://pbalm-cxb-aa-eu/creditcards/experiments/creditcards-classifier-v01/run-local-20220628132213/transform_artifacts\n",
      "INFO:root:Model: \"model_3\"\n",
      "INFO:root:__________________________________________________________________________________________________\n",
      "INFO:root: Layer (type)                   Output Shape         Param #     Connected to                     \n",
      "INFO:root:==================================================================================================\n",
      "INFO:root: Amount (InputLayer)            [(None, 1)]          0           []                               \n",
      "INFO:root:                                                                                                  \n",
      "INFO:root: V1 (InputLayer)                [(None, 1)]          0           []                               \n",
      "INFO:root:                                                                                                  \n",
      "INFO:root: V10 (InputLayer)               [(None, 1)]          0           []                               \n",
      "INFO:root:                                                                                                  \n",
      "INFO:root: V11 (InputLayer)               [(None, 1)]          0           []                               \n",
      "INFO:root:                                                                                                  \n",
      "INFO:root: V12 (InputLayer)               [(None, 1)]          0           []                               \n",
      "INFO:root:                                                                                                  \n",
      "INFO:root: V13 (InputLayer)               [(None, 1)]          0           []                               \n",
      "INFO:root:                                                                                                  \n",
      "INFO:root: V14 (InputLayer)               [(None, 1)]          0           []                               \n",
      "INFO:root:                                                                                                  \n",
      "INFO:root: V15 (InputLayer)               [(None, 1)]          0           []                               \n",
      "INFO:root:                                                                                                  \n",
      "INFO:root: V16 (InputLayer)               [(None, 1)]          0           []                               \n",
      "INFO:root:                                                                                                  \n",
      "INFO:root: V17 (InputLayer)               [(None, 1)]          0           []                               \n",
      "INFO:root:                                                                                                  \n",
      "INFO:root: V18 (InputLayer)               [(None, 1)]          0           []                               \n",
      "INFO:root:                                                                                                  \n",
      "INFO:root: V19 (InputLayer)               [(None, 1)]          0           []                               \n",
      "INFO:root:                                                                                                  \n",
      "INFO:root: V2 (InputLayer)                [(None, 1)]          0           []                               \n",
      "INFO:root:                                                                                                  \n",
      "INFO:root: V20 (InputLayer)               [(None, 1)]          0           []                               \n",
      "INFO:root:                                                                                                  \n",
      "INFO:root: V21 (InputLayer)               [(None, 1)]          0           []                               \n",
      "INFO:root:                                                                                                  \n",
      "INFO:root: V22 (InputLayer)               [(None, 1)]          0           []                               \n",
      "INFO:root:                                                                                                  \n",
      "INFO:root: V23 (InputLayer)               [(None, 1)]          0           []                               \n",
      "INFO:root:                                                                                                  \n",
      "INFO:root: V24 (InputLayer)               [(None, 1)]          0           []                               \n",
      "INFO:root:                                                                                                  \n",
      "INFO:root: V25 (InputLayer)               [(None, 1)]          0           []                               \n",
      "INFO:root:                                                                                                  \n",
      "INFO:root: V26 (InputLayer)               [(None, 1)]          0           []                               \n",
      "INFO:root:                                                                                                  \n",
      "INFO:root: V27 (InputLayer)               [(None, 1)]          0           []                               \n",
      "INFO:root:                                                                                                  \n",
      "INFO:root: V28 (InputLayer)               [(None, 1)]          0           []                               \n",
      "INFO:root:                                                                                                  \n",
      "INFO:root: V3 (InputLayer)                [(None, 1)]          0           []                               \n",
      "INFO:root:                                                                                                  \n",
      "INFO:root: V4 (InputLayer)                [(None, 1)]          0           []                               \n",
      "INFO:root:                                                                                                  \n",
      "INFO:root: V5 (InputLayer)                [(None, 1)]          0           []                               \n",
      "INFO:root:                                                                                                  \n",
      "INFO:root: V6 (InputLayer)                [(None, 1)]          0           []                               \n",
      "INFO:root:                                                                                                  \n",
      "INFO:root: V7 (InputLayer)                [(None, 1)]          0           []                               \n",
      "INFO:root:                                                                                                  \n",
      "INFO:root: V8 (InputLayer)                [(None, 1)]          0           []                               \n",
      "INFO:root:                                                                                                  \n",
      "INFO:root: V9 (InputLayer)                [(None, 1)]          0           []                               \n",
      "INFO:root:                                                                                                  \n",
      "INFO:root: concatenate_3 (Concatenate)    (None, 29)           0           ['Amount[0][0]',                 \n",
      "INFO:root:                                                                  'V1[0][0]',                     \n",
      "INFO:root:                                                                  'V10[0][0]',                    \n",
      "INFO:root:                                                                  'V11[0][0]',                    \n",
      "INFO:root:                                                                  'V12[0][0]',                    \n",
      "INFO:root:                                                                  'V13[0][0]',                    \n",
      "INFO:root:                                                                  'V14[0][0]',                    \n",
      "INFO:root:                                                                  'V15[0][0]',                    \n",
      "INFO:root:                                                                  'V16[0][0]',                    \n",
      "INFO:root:                                                                  'V17[0][0]',                    \n",
      "INFO:root:                                                                  'V18[0][0]',                    \n",
      "INFO:root:                                                                  'V19[0][0]',                    \n",
      "INFO:root:                                                                  'V2[0][0]',                     \n",
      "INFO:root:                                                                  'V20[0][0]',                    \n",
      "INFO:root:                                                                  'V21[0][0]',                    \n",
      "INFO:root:                                                                  'V22[0][0]',                    \n",
      "INFO:root:                                                                  'V23[0][0]',                    \n",
      "INFO:root:                                                                  'V24[0][0]',                    \n",
      "INFO:root:                                                                  'V25[0][0]',                    \n",
      "INFO:root:                                                                  'V26[0][0]',                    \n",
      "INFO:root:                                                                  'V27[0][0]',                    \n",
      "INFO:root:                                                                  'V28[0][0]',                    \n",
      "INFO:root:                                                                  'V3[0][0]',                     \n",
      "INFO:root:                                                                  'V4[0][0]',                     \n",
      "INFO:root:                                                                  'V5[0][0]',                     \n",
      "INFO:root:                                                                  'V6[0][0]',                     \n",
      "INFO:root:                                                                  'V7[0][0]',                     \n",
      "INFO:root:                                                                  'V8[0][0]',                     \n",
      "INFO:root:                                                                  'V9[0][0]']                     \n",
      "INFO:root:                                                                                                  \n",
      "INFO:root: dense_9 (Dense)                (None, 64)           1920        ['concatenate_3[0][0]']          \n",
      "INFO:root:                                                                                                  \n",
      "INFO:root: dense_10 (Dense)               (None, 32)           2080        ['dense_9[0][0]']                \n",
      "INFO:root:                                                                                                  \n",
      "INFO:root: dense_11 (Dense)               (None, 1)            33          ['dense_10[0][0]']               \n",
      "INFO:root:                                                                                                  \n",
      "INFO:root:==================================================================================================\n",
      "INFO:root:Total params: 4,033\n",
      "INFO:root:Trainable params: 4,033\n",
      "INFO:root:Non-trainable params: 0\n",
      "INFO:root:__________________________________________________________________________________________________\n",
      "INFO:root:Model training started...\n"
     ]
    },
    {
     "name": "stdout",
     "output_type": "stream",
     "text": [
      "Epoch 1/5\n"
     ]
    },
    {
     "name": "stderr",
     "output_type": "stream",
     "text": [
      "/opt/conda/lib/python3.7/site-packages/tensorflow/python/util/dispatch.py:1082: UserWarning: \"`binary_crossentropy` received `from_logits=True`, but the `output` argument was produced by a sigmoid or softmax activation and thus does not represent logits. Was this intended?\"\n",
      "  return dispatch_target(*args, **kwargs)\n"
     ]
    },
    {
     "name": "stdout",
     "output_type": "stream",
     "text": [
      "7/7 [==============================] - 3s 278ms/step - loss: 0.5457 - accuracy: 0.9194 - val_loss: 0.4010 - val_accuracy: 0.9961\n",
      "Epoch 2/5\n",
      "7/7 [==============================] - 1s 186ms/step - loss: 0.3275 - accuracy: 0.9939 - val_loss: 0.2303 - val_accuracy: 0.9961\n",
      "Epoch 3/5\n",
      "7/7 [==============================] - 1s 176ms/step - loss: 0.1859 - accuracy: 0.9939 - val_loss: 0.1256 - val_accuracy: 0.9961\n",
      "Epoch 4/5\n",
      "7/7 [==============================] - 1s 176ms/step - loss: 0.1018 - accuracy: 0.9950 - val_loss: 0.0681 - val_accuracy: 0.9961\n",
      "Epoch 5/5\n",
      "7/7 [==============================] - 5s 750ms/step - loss: 0.0587 - accuracy: 0.9944 - val_loss: 0.0399 - val_accuracy: 0.9961\n"
     ]
    },
    {
     "name": "stderr",
     "output_type": "stream",
     "text": [
      "2022-06-28 13:24:35.273233: I tensorflow/core/platform/cloud/gcs_file_system.cc:581] ### RequestUploadSessionStatus: completed = 1, already_uploaded = 0, file = gs://pbalm-cxb-aa-eu/creditcards/experiments/creditcards-classifier-v01/run-local-20220628132213/logs/validation/events.out.tfevents.1656422665.mlops2.9926.3.v2\n",
      "INFO:root:Model training completed.\n"
     ]
    }
   ],
   "source": [
    "classifier = trainer.train(\n",
    "    train_data_dir=train_data_file_pattern,\n",
    "    eval_data_dir=eval_data_file_pattern,\n",
    "    tft_output_dir=TRANSFORM_ARTIFACTS_DIR,\n",
    "    hyperparams=hyperparams,\n",
    "    log_dir=LOG_DIR,\n",
    ")"
   ]
  },
  {
   "cell_type": "code",
   "execution_count": 68,
   "id": "ebbce8e8",
   "metadata": {},
   "outputs": [
    {
     "name": "stderr",
     "output_type": "stream",
     "text": [
      "INFO:root:Loading raw schema from src/raw_schema/schema.pbtxt\n",
      "INFO:root:Loading tft output from gs://pbalm-cxb-aa-eu/creditcards/experiments/creditcards-classifier-v01/run-local-20220628132213/transform_artifacts\n",
      "INFO:root:Model evaluation started...\n"
     ]
    },
    {
     "name": "stdout",
     "output_type": "stream",
     "text": [
      "2/2 [==============================] - 0s 46ms/step - loss: 0.0399 - accuracy: 0.9961\n"
     ]
    },
    {
     "name": "stderr",
     "output_type": "stream",
     "text": [
      "INFO:root:Model evaluation completed.\n"
     ]
    }
   ],
   "source": [
    "val_loss, val_accuracy = trainer.evaluate(\n",
    "    model=classifier,\n",
    "    data_dir=eval_data_file_pattern,\n",
    "    raw_schema_location=RAW_SCHEMA_LOCATION,\n",
    "    tft_output_dir=TRANSFORM_ARTIFACTS_DIR,\n",
    "    hyperparams=hyperparams,\n",
    ")"
   ]
  },
  {
   "cell_type": "code",
   "execution_count": 69,
   "id": "30e58239",
   "metadata": {},
   "outputs": [],
   "source": [
    "vertex_ai.log_metrics(\n",
    "    {\"val_loss\": val_loss, \"val_accuracy\": val_accuracy})"
   ]
  },
  {
   "cell_type": "code",
   "execution_count": 70,
   "id": "cff3c829",
   "metadata": {},
   "outputs": [
    {
     "name": "stdout",
     "output_type": "stream",
     "text": [
      "View your Tensorboard at https://europe-west4.tensorboard.googleusercontent.com/experiment/projects+188940921537+locations+europe-west4+tensorboards+6937971147824693248+experiments+creditcards-classifier-v01\n",
      "W0628 13:33:42.031495 140358635493184 uploader.py:379] Please consider uploading to a new experiment instead of an existing one, as the former allows for better upload performance.\n",
      "\u001b[1m[2022-06-28T13:33:42]\u001b[0m Started scanning logdir.\n",
      "\u001b[1m[2022-06-28T13:33:44]\u001b[0m Total uploaded: 30 scalars, 0 tensors, 1 binary objects (35.8 kB)\n",
      "\u001b[2K\u001b[33mListening for new data in logdir...\u001b[0m\r"
     ]
    }
   ],
   "source": [
    "!tb-gcp-uploader --tensorboard_resource_name={tensorboard_resource_name} \\\n",
    "  --logdir={LOG_DIR} \\\n",
    "  --experiment_name={EXPERIMENT_NAME} --one_shot=True"
   ]
  },
  {
   "cell_type": "markdown",
   "id": "44268d04",
   "metadata": {},
   "source": [
    "### Export the trained model"
   ]
  },
  {
   "cell_type": "code",
   "execution_count": 71,
   "id": "e2cf46d6",
   "metadata": {},
   "outputs": [
    {
     "name": "stdout",
     "output_type": "stream",
     "text": [
      "INFO:tensorflow:struct2tensor is not available.\n"
     ]
    },
    {
     "name": "stderr",
     "output_type": "stream",
     "text": [
      "INFO:tensorflow:struct2tensor is not available.\n"
     ]
    },
    {
     "name": "stdout",
     "output_type": "stream",
     "text": [
      "INFO:tensorflow:tensorflow_decision_forests is not available.\n"
     ]
    },
    {
     "name": "stderr",
     "output_type": "stream",
     "text": [
      "INFO:tensorflow:tensorflow_decision_forests is not available.\n"
     ]
    },
    {
     "name": "stdout",
     "output_type": "stream",
     "text": [
      "INFO:tensorflow:tensorflow_text is not available.\n"
     ]
    },
    {
     "name": "stderr",
     "output_type": "stream",
     "text": [
      "INFO:tensorflow:tensorflow_text is not available.\n",
      "INFO:root:Model export started...\n",
      "WARNING:absl:Function `serve_features_fn` contains input name(s) Amount, V1, V10, V11, V12, V13, V14, V15, V16, V17, V18, V19, V2, V20, V21, V22, V23, V24, V25, V26, V27, V28, V3, V4, V5, V6, V7, V8, V9 with unsupported characters which will be renamed to amount, v1, v10, v11, v12, v13, v14, v15, v16, v17, v18, v19, v2, v20, v21, v22, v23, v24, v25, v26, v27, v28, v3, v4, v5, v6, v7, v8, v9 in the SavedModel.\n"
     ]
    },
    {
     "name": "stdout",
     "output_type": "stream",
     "text": [
      "INFO:tensorflow:Assets written to: gs://pbalm-cxb-aa-eu/creditcards/experiments/creditcards-classifier-v01/run-local-20220628132213/model/assets\n"
     ]
    },
    {
     "name": "stderr",
     "output_type": "stream",
     "text": [
      "INFO:tensorflow:Assets written to: gs://pbalm-cxb-aa-eu/creditcards/experiments/creditcards-classifier-v01/run-local-20220628132213/model/assets\n",
      "INFO:root:Model export completed.\n"
     ]
    }
   ],
   "source": [
    "saved_model_dir = os.path.join(EXPORT_DIR)\n",
    "\n",
    "exporter.export_serving_model(\n",
    "    classifier=classifier,\n",
    "    serving_model_dir=saved_model_dir,\n",
    "    raw_schema_location=RAW_SCHEMA_LOCATION,\n",
    "    tft_output_dir=TRANSFORM_ARTIFACTS_DIR,\n",
    ")"
   ]
  },
  {
   "cell_type": "markdown",
   "id": "dba1ba3e",
   "metadata": {},
   "source": [
    "### Inspect model serving signatures"
   ]
  },
  {
   "cell_type": "code",
   "execution_count": 72,
   "id": "cb8989c2",
   "metadata": {},
   "outputs": [
    {
     "name": "stdout",
     "output_type": "stream",
     "text": [
      "The given SavedModel SignatureDef contains the following input(s):\n",
      "  inputs['examples'] tensor_info:\n",
      "      dtype: DT_STRING\n",
      "      shape: (-1)\n",
      "      name: serving_tf_example_examples:0\n",
      "The given SavedModel SignatureDef contains the following output(s):\n",
      "  outputs['probabilities'] tensor_info:\n",
      "      dtype: DT_FLOAT\n",
      "      shape: (-1, 1)\n",
      "      name: StatefulPartitionedCall_1:0\n",
      "Method name is: tensorflow/serving/predict\n"
     ]
    }
   ],
   "source": [
    "!saved_model_cli show --dir={saved_model_dir} --tag_set=serve --signature_def=serving_tf_example"
   ]
  },
  {
   "cell_type": "code",
   "execution_count": 73,
   "id": "7517a78b",
   "metadata": {},
   "outputs": [
    {
     "name": "stdout",
     "output_type": "stream",
     "text": [
      "The given SavedModel SignatureDef contains the following input(s):\n",
      "  inputs['Amount'] tensor_info:\n",
      "      dtype: DT_FLOAT\n",
      "      shape: (-1, 1)\n",
      "      name: serving_default_Amount:0\n",
      "  inputs['V1'] tensor_info:\n",
      "      dtype: DT_FLOAT\n",
      "      shape: (-1, 1)\n",
      "      name: serving_default_V1:0\n",
      "  inputs['V10'] tensor_info:\n",
      "      dtype: DT_FLOAT\n",
      "      shape: (-1, 1)\n",
      "      name: serving_default_V10:0\n",
      "  inputs['V11'] tensor_info:\n",
      "      dtype: DT_FLOAT\n",
      "      shape: (-1, 1)\n",
      "      name: serving_default_V11:0\n",
      "  inputs['V12'] tensor_info:\n",
      "      dtype: DT_FLOAT\n",
      "      shape: (-1, 1)\n",
      "      name: serving_default_V12:0\n",
      "  inputs['V13'] tensor_info:\n",
      "      dtype: DT_FLOAT\n",
      "      shape: (-1, 1)\n",
      "      name: serving_default_V13:0\n",
      "  inputs['V14'] tensor_info:\n",
      "      dtype: DT_FLOAT\n",
      "      shape: (-1, 1)\n",
      "      name: serving_default_V14:0\n",
      "  inputs['V15'] tensor_info:\n",
      "      dtype: DT_FLOAT\n",
      "      shape: (-1, 1)\n",
      "      name: serving_default_V15:0\n",
      "  inputs['V16'] tensor_info:\n",
      "      dtype: DT_FLOAT\n",
      "      shape: (-1, 1)\n",
      "      name: serving_default_V16:0\n",
      "  inputs['V17'] tensor_info:\n",
      "      dtype: DT_FLOAT\n",
      "      shape: (-1, 1)\n",
      "      name: serving_default_V17:0\n",
      "  inputs['V18'] tensor_info:\n",
      "      dtype: DT_FLOAT\n",
      "      shape: (-1, 1)\n",
      "      name: serving_default_V18:0\n",
      "  inputs['V19'] tensor_info:\n",
      "      dtype: DT_FLOAT\n",
      "      shape: (-1, 1)\n",
      "      name: serving_default_V19:0\n",
      "  inputs['V2'] tensor_info:\n",
      "      dtype: DT_FLOAT\n",
      "      shape: (-1, 1)\n",
      "      name: serving_default_V2:0\n",
      "  inputs['V20'] tensor_info:\n",
      "      dtype: DT_FLOAT\n",
      "      shape: (-1, 1)\n",
      "      name: serving_default_V20:0\n",
      "  inputs['V21'] tensor_info:\n",
      "      dtype: DT_FLOAT\n",
      "      shape: (-1, 1)\n",
      "      name: serving_default_V21:0\n",
      "  inputs['V22'] tensor_info:\n",
      "      dtype: DT_FLOAT\n",
      "      shape: (-1, 1)\n",
      "      name: serving_default_V22:0\n",
      "  inputs['V23'] tensor_info:\n",
      "      dtype: DT_FLOAT\n",
      "      shape: (-1, 1)\n",
      "      name: serving_default_V23:0\n",
      "  inputs['V24'] tensor_info:\n",
      "      dtype: DT_FLOAT\n",
      "      shape: (-1, 1)\n",
      "      name: serving_default_V24:0\n",
      "  inputs['V25'] tensor_info:\n",
      "      dtype: DT_FLOAT\n",
      "      shape: (-1, 1)\n",
      "      name: serving_default_V25:0\n",
      "  inputs['V26'] tensor_info:\n",
      "      dtype: DT_FLOAT\n",
      "      shape: (-1, 1)\n",
      "      name: serving_default_V26:0\n",
      "  inputs['V27'] tensor_info:\n",
      "      dtype: DT_FLOAT\n",
      "      shape: (-1, 1)\n",
      "      name: serving_default_V27:0\n",
      "  inputs['V28'] tensor_info:\n",
      "      dtype: DT_FLOAT\n",
      "      shape: (-1, 1)\n",
      "      name: serving_default_V28:0\n",
      "  inputs['V3'] tensor_info:\n",
      "      dtype: DT_FLOAT\n",
      "      shape: (-1, 1)\n",
      "      name: serving_default_V3:0\n",
      "  inputs['V4'] tensor_info:\n",
      "      dtype: DT_FLOAT\n",
      "      shape: (-1, 1)\n",
      "      name: serving_default_V4:0\n",
      "  inputs['V5'] tensor_info:\n",
      "      dtype: DT_FLOAT\n",
      "      shape: (-1, 1)\n",
      "      name: serving_default_V5:0\n",
      "  inputs['V6'] tensor_info:\n",
      "      dtype: DT_FLOAT\n",
      "      shape: (-1, 1)\n",
      "      name: serving_default_V6:0\n",
      "  inputs['V7'] tensor_info:\n",
      "      dtype: DT_FLOAT\n",
      "      shape: (-1, 1)\n",
      "      name: serving_default_V7:0\n",
      "  inputs['V8'] tensor_info:\n",
      "      dtype: DT_FLOAT\n",
      "      shape: (-1, 1)\n",
      "      name: serving_default_V8:0\n",
      "  inputs['V9'] tensor_info:\n",
      "      dtype: DT_FLOAT\n",
      "      shape: (-1, 1)\n",
      "      name: serving_default_V9:0\n",
      "The given SavedModel SignatureDef contains the following output(s):\n",
      "  outputs['classes'] tensor_info:\n",
      "      dtype: DT_STRING\n",
      "      shape: (-1, 2)\n",
      "      name: StatefulPartitionedCall:0\n",
      "  outputs['scores'] tensor_info:\n",
      "      dtype: DT_FLOAT\n",
      "      shape: (-1, 2)\n",
      "      name: StatefulPartitionedCall:1\n",
      "Method name is: tensorflow/serving/predict\n"
     ]
    }
   ],
   "source": [
    "!saved_model_cli show --dir={saved_model_dir} --tag_set=serve --signature_def=serving_default"
   ]
  },
  {
   "cell_type": "markdown",
   "id": "7f68ecd0",
   "metadata": {},
   "source": [
    "### Test the exported SavedModel"
   ]
  },
  {
   "cell_type": "code",
   "execution_count": 30,
   "id": "965d7d03",
   "metadata": {},
   "outputs": [
    {
     "name": "stdout",
     "output_type": "stream",
     "text": [
      "Saved model is loaded.\n"
     ]
    }
   ],
   "source": [
    "serving_model = tf.saved_model.load(saved_model_dir)\n",
    "print(\"Saved model is loaded.\")"
   ]
  },
  {
   "cell_type": "code",
   "execution_count": 31,
   "id": "395f6ac6",
   "metadata": {},
   "outputs": [
    {
     "name": "stdout",
     "output_type": "stream",
     "text": [
      "probabilities: [[0.5103284 ]\n",
      " [0.51136553]\n",
      " [0.51087755]]\n"
     ]
    }
   ],
   "source": [
    "# Test the serving_tf_example with TF Examples\n",
    "\n",
    "file_names = tf.data.TFRecordDataset.list_files(EXPORTED_DATA_PREFIX + '/data-*.tfrecord')\n",
    "for batch in tf.data.TFRecordDataset(file_names).batch(3).take(1):\n",
    "    predictions = serving_model.signatures['serving_tf_example'](batch)\n",
    "    for key in predictions:\n",
    "        print(f\"{key}: {predictions[key]}\")"
   ]
  },
  {
   "cell_type": "code",
   "execution_count": 32,
   "id": "41f041d6",
   "metadata": {},
   "outputs": [],
   "source": [
    "# Test the serving_default with feature dictionary\n",
    "\n",
    "import tensorflow_data_validation as tfdv\n",
    "from tensorflow_transform.tf_metadata import schema_utils\n",
    "\n",
    "raw_schema = tfdv.load_schema_text(RAW_SCHEMA_LOCATION)\n",
    "raw_feature_spec = schema_utils.schema_as_feature_spec(raw_schema).feature_spec"
   ]
  },
  {
   "cell_type": "code",
   "execution_count": 33,
   "id": "0af3ee32-6941-4428-bfb4-3a5c611e79c2",
   "metadata": {},
   "outputs": [
    {
     "data": {
      "text/plain": [
       "{'Amount': 50.0,\n",
       " 'V1': 1,\n",
       " 'V2': 1,\n",
       " 'V3': 1,\n",
       " 'V4': 1,\n",
       " 'V5': 1,\n",
       " 'V6': 1,\n",
       " 'V7': 1,\n",
       " 'V8': 1,\n",
       " 'V9': 1,\n",
       " 'V10': 1,\n",
       " 'V11': 1,\n",
       " 'V12': 1,\n",
       " 'V13': 1,\n",
       " 'V14': 1,\n",
       " 'V15': 1,\n",
       " 'V16': 1,\n",
       " 'V17': 1,\n",
       " 'V18': 1,\n",
       " 'V19': 1,\n",
       " 'V20': 1,\n",
       " 'V21': 1,\n",
       " 'V22': 1,\n",
       " 'V23': 1,\n",
       " 'V24': 1,\n",
       " 'V25': 1,\n",
       " 'V26': 1,\n",
       " 'V27': 1,\n",
       " 'V28': 1}"
      ]
     },
     "execution_count": 33,
     "metadata": {},
     "output_type": "execute_result"
    }
   ],
   "source": [
    "instance = { 'Amount': 50.0 }\n",
    "\n",
    "for i in range(1,29):\n",
    "    instance[f'V{i}'] = 1\n",
    "    \n",
    "instance"
   ]
  },
  {
   "cell_type": "code",
   "execution_count": null,
   "id": "3d51e9ef",
   "metadata": {},
   "outputs": [],
   "source": [
    "for feature_name in instance:\n",
    "    dtype = raw_feature_spec[feature_name].dtype\n",
    "    instance[feature_name] = tf.constant([[instance[feature_name]]], dtype)"
   ]
  },
  {
   "cell_type": "code",
   "execution_count": 75,
   "id": "6469de0d",
   "metadata": {},
   "outputs": [
    {
     "name": "stdout",
     "output_type": "stream",
     "text": [
      "classes: [[b'legit' b'fraudulent']]\n",
      "scores: [[0.50005734 0.49994266]]\n"
     ]
    }
   ],
   "source": [
    "predictions = serving_model.signatures['serving_default'](**instance)\n",
    "for key in predictions:\n",
    "    print(f\"{key}: {predictions[key].numpy()}\")"
   ]
  },
  {
   "cell_type": "markdown",
   "id": "8cec2080",
   "metadata": {},
   "source": [
    "## Start a new Vertex AI experiment run"
   ]
  },
  {
   "cell_type": "code",
   "execution_count": 76,
   "id": "1d87d0f9",
   "metadata": {},
   "outputs": [
    {
     "name": "stderr",
     "output_type": "stream",
     "text": [
      "INFO:root:Resource creditcards-classifier-v01-run-gcp-20220628133510 not found.\n",
      "INFO:root:Creating Resource creditcards-classifier-v01-run-gcp-20220628133510\n",
      "INFO:root:Resource creditcards-classifier-v01-run-gcp-20220628133510-metrics not found.\n",
      "INFO:root:Creating Resource creditcards-classifier-v01-run-gcp-20220628133510-metrics\n"
     ]
    },
    {
     "name": "stdout",
     "output_type": "stream",
     "text": [
      "Experiment run directory: gs://pbalm-cxb-aa-eu/creditcards/experiments/creditcards-classifier-v01/run-gcp-20220628133510\n"
     ]
    }
   ],
   "source": [
    "vertex_ai.init(\n",
    "    project=PROJECT,\n",
    "    staging_bucket=BUCKET,\n",
    "    experiment=EXPERIMENT_NAME)\n",
    "\n",
    "run_id = f\"run-gcp-{datetime.now().strftime('%Y%m%d%H%M%S')}\"\n",
    "vertex_ai.start_run(run_id)\n",
    "\n",
    "EXPERIMENT_RUN_DIR = os.path.join(EXPERIMENT_ARTIFACTS_DIR, EXPERIMENT_NAME, run_id)\n",
    "print(\"Experiment run directory:\", EXPERIMENT_RUN_DIR)"
   ]
  },
  {
   "cell_type": "code",
   "execution_count": 77,
   "id": "da802846-d5ff-4c0f-8faa-5eef3d680c95",
   "metadata": {},
   "outputs": [
    {
     "name": "stdout",
     "output_type": "stream",
     "text": [
      "pbalm-cxb-aa\n",
      "pbalm-cxb-aa-eu\n",
      "creditcards-classifier-v01\n"
     ]
    }
   ],
   "source": [
    "print(f'{PROJECT}')\n",
    "print(f'{BUCKET}')\n",
    "print(f'{EXPERIMENT_NAME}')"
   ]
  },
  {
   "cell_type": "markdown",
   "id": "8ade27b7",
   "metadata": {},
   "source": [
    "## 3. Submit a Data Processing Job to Dataflow\n",
    "\n",
    "To rebuild the custom container:\n",
    "\n",
    "`gcloud builds submit . --tag europe-west4-docker.pkg.dev/pbalm-cxb-aa/dataflow/creditcards:latest --timeout=30m`"
   ]
  },
  {
   "cell_type": "code",
   "execution_count": 78,
   "id": "174b1fb2-4c5b-46dc-a5e6-fc2719a7ed9e",
   "metadata": {
    "tags": []
   },
   "outputs": [
    {
     "name": "stdout",
     "output_type": "stream",
     "text": [
      "Creating temporary tarball archive of 73 file(s) totalling 1.9 MiB before compression.\n",
      "Uploading tarball of [.] to [gs://pbalm-cxb-aa_cloudbuild/source/1656423315.545447-4351464790464ebbb9689228782289df.tgz]\n",
      "Created [https://cloudbuild.googleapis.com/v1/projects/pbalm-cxb-aa/locations/global/builds/3a63387e-743f-441c-86a8-07bdc380f85f].\n",
      "Logs are available at [https://console.cloud.google.com/cloud-build/builds/3a63387e-743f-441c-86a8-07bdc380f85f?project=188940921537].\n",
      "^C\n",
      "Cancelling...\n"
     ]
    }
   ],
   "source": [
    "!cp build/Dockerfile.dataflow Dockerfile\n",
    "!gcloud builds submit . --tag europe-west4-docker.pkg.dev/pbalm-cxb-aa/creditcards/dataflow:latest --timeout=30m --machine-type=e2-highcpu-8"
   ]
  },
  {
   "cell_type": "code",
   "execution_count": 84,
   "id": "2d903ff5",
   "metadata": {},
   "outputs": [],
   "source": [
    "EXPORTED_DATA_PREFIX = os.path.join(EXPERIMENT_RUN_DIR, 'exported_data')\n",
    "TRANSFORMED_DATA_PREFIX = os.path.join(EXPERIMENT_RUN_DIR, 'transformed_data')\n",
    "TRANSFORM_ARTIFACTS_DIR = os.path.join(EXPERIMENT_RUN_DIR, 'transform_artifacts')"
   ]
  },
  {
   "cell_type": "code",
   "execution_count": 85,
   "id": "e772e2fb-8059-4199-a61b-ce7485b9e0d8",
   "metadata": {},
   "outputs": [
    {
     "data": {
      "text/plain": [
       "'188940921537-compute@developer.gserviceaccount.com'"
      ]
     },
     "execution_count": 85,
     "metadata": {},
     "output_type": "execute_result"
    }
   ],
   "source": [
    "DATAFLOW_SERVICE_ACCOUNT"
   ]
  },
  {
   "cell_type": "code",
   "execution_count": 86,
   "id": "3fac3380",
   "metadata": {},
   "outputs": [
    {
     "name": "stdout",
     "output_type": "stream",
     "text": [
      "job_name: etl-creditcards-classifier-v01-run-gcp-20220628133510-with-sa-private-ips-nat-custom-container\n",
      "runner: DataflowRunner\n",
      "raw_data_query: \n",
      "    SELECT *\n",
      "    \n",
      "    EXCEPT (Time, ML_use)\n",
      "    FROM vertex_eu.creditcards_ml \n",
      "    WHERE ML_use = 'UNASSIGNED'\n",
      "    LIMIT 1000000\n",
      "exported_data_prefix: gs://pbalm-cxb-aa-eu/creditcards/experiments/creditcards-classifier-v01/run-gcp-20220628133510/exported_data\n",
      "transformed_data_prefix: gs://pbalm-cxb-aa-eu/creditcards/experiments/creditcards-classifier-v01/run-gcp-20220628133510/transformed_data\n",
      "transform_artifact_dir: gs://pbalm-cxb-aa-eu/creditcards/experiments/creditcards-classifier-v01/run-gcp-20220628133510/transform_artifacts\n",
      "write_raw_data: False\n",
      "temporary_dir: gs://pbalm-cxb-aa-eu/creditcards/tmp\n",
      "gcs_location: gs://pbalm-cxb-aa-eu/creditcards/bq_tmp\n",
      "project: pbalm-cxb-aa\n",
      "region: europe-west4\n",
      "service_account_email: 188940921537-compute@developer.gserviceaccount.com\n",
      "use_public_ips: False\n",
      "subnetwork: https://www.googleapis.com/compute/v1/projects/pbalm-cxb-aa/regions/europe-west4/subnetworks/default\n",
      "sdk_container_image: europe-west4-docker.pkg.dev/pbalm-cxb-aa/creditcards/dataflow:latest\n"
     ]
    }
   ],
   "source": [
    "ML_USE = 'UNASSIGNED'\n",
    "LIMIT = 1000000\n",
    "raw_data_query = datasource_utils.get_training_source_query(\n",
    "    project=PROJECT, \n",
    "    region=REGION, \n",
    "    dataset_display_name=VERTEX_DATASET_NAME, \n",
    "    ml_use=ML_USE, \n",
    "    limit=LIMIT\n",
    ")\n",
    "\n",
    "etl_job_name = f\"etl-{MODEL_DISPLAY_NAME}-{run_id}\"\n",
    "\n",
    "args = {\n",
    "    'job_name': etl_job_name,\n",
    "    'runner': 'DataflowRunner',\n",
    "    'raw_data_query': raw_data_query,\n",
    "    'exported_data_prefix': EXPORTED_DATA_PREFIX,\n",
    "    'transformed_data_prefix': TRANSFORMED_DATA_PREFIX,\n",
    "    'transform_artifact_dir': TRANSFORM_ARTIFACTS_DIR,\n",
    "    'write_raw_data': False,\n",
    "    'temporary_dir': os.path.join(WORKSPACE, 'tmp'),\n",
    "    'gcs_location': os.path.join(WORKSPACE, 'bq_tmp'),\n",
    "    'project': PROJECT,\n",
    "    'region': DATAFLOW_REGION,\n",
    "    'service_account_email': DATAFLOW_SERVICE_ACCOUNT,\n",
    "    'use_public_ips': False,\n",
    "    'subnetwork': DATAFLOW_SUBNETWORK,\n",
    "    'sdk_container_image': 'europe-west4-docker.pkg.dev/pbalm-cxb-aa/creditcards/dataflow:latest'\n",
    "}\n",
    "\n",
    "for k in args:\n",
    "    print(f'{k}: {args[k]}')\n"
   ]
  },
  {
   "cell_type": "code",
   "execution_count": 89,
   "id": "c909d3ca",
   "metadata": {},
   "outputs": [],
   "source": [
    "vertex_ai.log_params(args)"
   ]
  },
  {
   "cell_type": "code",
   "execution_count": 90,
   "id": "014e5512",
   "metadata": {},
   "outputs": [
    {
     "name": "stdout",
     "output_type": "stream",
     "text": [
      "Data preprocessing started...\n",
      "WARNING:tensorflow:You are passing instance dicts and DatasetMetadata to TFT which will not provide optimal performance. Consider following the TFT guide to upgrade to the TFXIO format (Apache Arrow RecordBatch).\n"
     ]
    },
    {
     "name": "stderr",
     "output_type": "stream",
     "text": [
      "WARNING:tensorflow:You are passing instance dicts and DatasetMetadata to TFT which will not provide optimal performance. Consider following the TFT guide to upgrade to the TFXIO format (Apache Arrow RecordBatch).\n"
     ]
    },
    {
     "name": "stdout",
     "output_type": "stream",
     "text": [
      "WARNING:tensorflow:You are passing instance dicts and DatasetMetadata to TFT which will not provide optimal performance. Consider following the TFT guide to upgrade to the TFXIO format (Apache Arrow RecordBatch).\n"
     ]
    },
    {
     "name": "stderr",
     "output_type": "stream",
     "text": [
      "WARNING:tensorflow:You are passing instance dicts and DatasetMetadata to TFT which will not provide optimal performance. Consider following the TFT guide to upgrade to the TFXIO format (Apache Arrow RecordBatch).\n"
     ]
    },
    {
     "name": "stdout",
     "output_type": "stream",
     "text": [
      "WARNING:tensorflow:You are passing instance dicts and DatasetMetadata to TFT which will not provide optimal performance. Consider following the TFT guide to upgrade to the TFXIO format (Apache Arrow RecordBatch).\n"
     ]
    },
    {
     "name": "stderr",
     "output_type": "stream",
     "text": [
      "WARNING:tensorflow:You are passing instance dicts and DatasetMetadata to TFT which will not provide optimal performance. Consider following the TFT guide to upgrade to the TFXIO format (Apache Arrow RecordBatch).\n"
     ]
    },
    {
     "ename": "KeyboardInterrupt",
     "evalue": "",
     "output_type": "error",
     "traceback": [
      "\u001b[0;31m---------------------------------------------------------------------------\u001b[0m",
      "\u001b[0;31mKeyboardInterrupt\u001b[0m                         Traceback (most recent call last)",
      "\u001b[0;32m/tmp/ipykernel_9926/259245321.py\u001b[0m in \u001b[0;36m<module>\u001b[0;34m\u001b[0m\n\u001b[1;32m      2\u001b[0m \u001b[0;34m\u001b[0m\u001b[0m\n\u001b[1;32m      3\u001b[0m \u001b[0mprint\u001b[0m\u001b[0;34m(\u001b[0m\u001b[0;34m\"Data preprocessing started...\"\u001b[0m\u001b[0;34m)\u001b[0m\u001b[0;34m\u001b[0m\u001b[0;34m\u001b[0m\u001b[0m\n\u001b[0;32m----> 4\u001b[0;31m \u001b[0metl\u001b[0m\u001b[0;34m.\u001b[0m\u001b[0mrun_transform_pipeline\u001b[0m\u001b[0;34m(\u001b[0m\u001b[0margs\u001b[0m\u001b[0;34m)\u001b[0m\u001b[0;34m\u001b[0m\u001b[0;34m\u001b[0m\u001b[0m\n\u001b[0m\u001b[1;32m      5\u001b[0m \u001b[0mprint\u001b[0m\u001b[0;34m(\u001b[0m\u001b[0;34m\"Data preprocessing completed.\"\u001b[0m\u001b[0;34m)\u001b[0m\u001b[0;34m\u001b[0m\u001b[0;34m\u001b[0m\u001b[0m\n",
      "\u001b[0;32m~/mlops-with-vertex-ai/src/preprocessing/etl.py\u001b[0m in \u001b[0;36mrun_transform_pipeline\u001b[0;34m(args)\u001b[0m\n\u001b[1;32m    151\u001b[0m                         \u001b[0mfile_path_prefix\u001b[0m\u001b[0;34m=\u001b[0m\u001b[0mos\u001b[0m\u001b[0;34m.\u001b[0m\u001b[0mpath\u001b[0m\u001b[0;34m.\u001b[0m\u001b[0mjoin\u001b[0m\u001b[0;34m(\u001b[0m\u001b[0mexported_data_prefix\u001b[0m\u001b[0;34m,\u001b[0m \u001b[0;34m\"data\"\u001b[0m\u001b[0;34m)\u001b[0m\u001b[0;34m,\u001b[0m\u001b[0;34m\u001b[0m\u001b[0;34m\u001b[0m\u001b[0m\n\u001b[1;32m    152\u001b[0m                         \u001b[0mfile_name_suffix\u001b[0m\u001b[0;34m=\u001b[0m\u001b[0;34m\".tfrecord\"\u001b[0m\u001b[0;34m,\u001b[0m\u001b[0;34m\u001b[0m\u001b[0;34m\u001b[0m\u001b[0m\n\u001b[0;32m--> 153\u001b[0;31m                         \u001b[0mcoder\u001b[0m\u001b[0;34m=\u001b[0m\u001b[0mtft\u001b[0m\u001b[0;34m.\u001b[0m\u001b[0mcoders\u001b[0m\u001b[0;34m.\u001b[0m\u001b[0mExampleProtoCoder\u001b[0m\u001b[0;34m(\u001b[0m\u001b[0mraw_metadata\u001b[0m\u001b[0;34m.\u001b[0m\u001b[0mschema\u001b[0m\u001b[0;34m)\u001b[0m\u001b[0;34m,\u001b[0m\u001b[0;34m\u001b[0m\u001b[0;34m\u001b[0m\u001b[0m\n\u001b[0m\u001b[1;32m    154\u001b[0m                     )\n\u001b[1;32m    155\u001b[0m                 )\n",
      "\u001b[0;32m/opt/conda/lib/python3.7/site-packages/apache_beam/pipeline.py\u001b[0m in \u001b[0;36m__exit__\u001b[0;34m(self, exc_type, exc_val, exc_tb)\u001b[0m\n\u001b[1;32m    595\u001b[0m       \u001b[0;32mif\u001b[0m \u001b[0;32mnot\u001b[0m \u001b[0mexc_type\u001b[0m\u001b[0;34m:\u001b[0m\u001b[0;34m\u001b[0m\u001b[0;34m\u001b[0m\u001b[0m\n\u001b[1;32m    596\u001b[0m         \u001b[0mself\u001b[0m\u001b[0;34m.\u001b[0m\u001b[0mresult\u001b[0m \u001b[0;34m=\u001b[0m \u001b[0mself\u001b[0m\u001b[0;34m.\u001b[0m\u001b[0mrun\u001b[0m\u001b[0;34m(\u001b[0m\u001b[0;34m)\u001b[0m\u001b[0;34m\u001b[0m\u001b[0;34m\u001b[0m\u001b[0m\n\u001b[0;32m--> 597\u001b[0;31m         \u001b[0mself\u001b[0m\u001b[0;34m.\u001b[0m\u001b[0mresult\u001b[0m\u001b[0;34m.\u001b[0m\u001b[0mwait_until_finish\u001b[0m\u001b[0;34m(\u001b[0m\u001b[0;34m)\u001b[0m\u001b[0;34m\u001b[0m\u001b[0;34m\u001b[0m\u001b[0m\n\u001b[0m\u001b[1;32m    598\u001b[0m     \u001b[0;32mfinally\u001b[0m\u001b[0;34m:\u001b[0m\u001b[0;34m\u001b[0m\u001b[0;34m\u001b[0m\u001b[0m\n\u001b[1;32m    599\u001b[0m       \u001b[0mself\u001b[0m\u001b[0;34m.\u001b[0m\u001b[0m_extra_context\u001b[0m\u001b[0;34m.\u001b[0m\u001b[0m__exit__\u001b[0m\u001b[0;34m(\u001b[0m\u001b[0mexc_type\u001b[0m\u001b[0;34m,\u001b[0m \u001b[0mexc_val\u001b[0m\u001b[0;34m,\u001b[0m \u001b[0mexc_tb\u001b[0m\u001b[0;34m)\u001b[0m\u001b[0;34m\u001b[0m\u001b[0;34m\u001b[0m\u001b[0m\n",
      "\u001b[0;32m/opt/conda/lib/python3.7/site-packages/apache_beam/runners/dataflow/dataflow_runner.py\u001b[0m in \u001b[0;36mwait_until_finish\u001b[0;34m(self, duration)\u001b[0m\n\u001b[1;32m   1652\u001b[0m       \u001b[0mthread\u001b[0m\u001b[0;34m.\u001b[0m\u001b[0mstart\u001b[0m\u001b[0;34m(\u001b[0m\u001b[0;34m)\u001b[0m\u001b[0;34m\u001b[0m\u001b[0;34m\u001b[0m\u001b[0m\n\u001b[1;32m   1653\u001b[0m       \u001b[0;32mwhile\u001b[0m \u001b[0mthread\u001b[0m\u001b[0;34m.\u001b[0m\u001b[0mis_alive\u001b[0m\u001b[0;34m(\u001b[0m\u001b[0;34m)\u001b[0m\u001b[0;34m:\u001b[0m\u001b[0;34m\u001b[0m\u001b[0;34m\u001b[0m\u001b[0m\n\u001b[0;32m-> 1654\u001b[0;31m         \u001b[0mtime\u001b[0m\u001b[0;34m.\u001b[0m\u001b[0msleep\u001b[0m\u001b[0;34m(\u001b[0m\u001b[0;36m5.0\u001b[0m\u001b[0;34m)\u001b[0m\u001b[0;34m\u001b[0m\u001b[0;34m\u001b[0m\u001b[0m\n\u001b[0m\u001b[1;32m   1655\u001b[0m \u001b[0;34m\u001b[0m\u001b[0m\n\u001b[1;32m   1656\u001b[0m       \u001b[0;31m# TODO: Merge the termination code in poll_for_job_completion and\u001b[0m\u001b[0;34m\u001b[0m\u001b[0;34m\u001b[0m\u001b[0;34m\u001b[0m\u001b[0m\n",
      "\u001b[0;31mKeyboardInterrupt\u001b[0m: "
     ]
    }
   ],
   "source": [
    "logging.getLogger().setLevel(logging.ERROR)\n",
    "\n",
    "print(\"Data preprocessing started...\")\n",
    "etl.run_transform_pipeline(args)\n",
    "print(\"Data preprocessing completed.\")"
   ]
  },
  {
   "cell_type": "code",
   "execution_count": null,
   "id": "92a21c21",
   "metadata": {},
   "outputs": [],
   "source": [
    "!gsutil ls {EXPERIMENT_RUN_DIR}"
   ]
  },
  {
   "cell_type": "markdown",
   "id": "e5c4dfa8",
   "metadata": {},
   "source": [
    "## 4. Submit a Custom Training Job to Vertex AI"
   ]
  },
  {
   "cell_type": "code",
   "execution_count": 91,
   "id": "50db6947",
   "metadata": {},
   "outputs": [],
   "source": [
    "LOG_DIR = os.path.join(EXPERIMENT_RUN_DIR, 'logs')\n",
    "EXPORT_DIR = os.path.join(EXPERIMENT_RUN_DIR, 'model')"
   ]
  },
  {
   "cell_type": "code",
   "execution_count": 92,
   "id": "0dfb5741-5c1a-4d66-8d34-828a49e44c74",
   "metadata": {},
   "outputs": [
    {
     "data": {
      "text/plain": [
       "'python -m src.model_training.task     --model-dir=gs://pbalm-cxb-aa-eu/creditcards/experiments/creditcards-classifier-v01/run-gcp-20220628133510/model     --log-dir=gs://pbalm-cxb-aa-eu/creditcards/experiments/creditcards-classifier-v01/run-gcp-20220628133510/logs     --train-data-dir=gs://pbalm-cxb-aa-eu/creditcards/experiments/creditcards-classifier-v01/run-gcp-20220628133510/transformed_data/train/*     --eval-data-dir=gs://pbalm-cxb-aa-eu/creditcards/experiments/creditcards-classifier-v01/run-gcp-20220628133510/transformed_data/eval/*      --tft-output-dir=gs://pbalm-cxb-aa-eu/creditcards/experiments/creditcards-classifier-v01/run-gcp-20220628133510/transform_artifacts     --num-epochs=3     --hidden-units=32,32     --experiment-name=creditcards-classifier-v01     --run-name=run-gcp-20220628133510     --project=pbalm-cxb-aa     --region=europe-west4     --staging-bucket=pbalm-cxb-aa-eu'"
      ]
     },
     "execution_count": 92,
     "metadata": {},
     "output_type": "execute_result"
    }
   ],
   "source": [
    "f'''python -m src.model_training.task \\\n",
    "    --model-dir={EXPORT_DIR} \\\n",
    "    --log-dir={LOG_DIR} \\\n",
    "    --train-data-dir={TRANSFORMED_DATA_PREFIX}/train/* \\\n",
    "    --eval-data-dir={TRANSFORMED_DATA_PREFIX}/eval/*  \\\n",
    "    --tft-output-dir={TRANSFORM_ARTIFACTS_DIR} \\\n",
    "    --num-epochs=3 \\\n",
    "    --hidden-units=32,32 \\\n",
    "    --experiment-name={EXPERIMENT_NAME} \\\n",
    "    --run-name={run_id} \\\n",
    "    --project={PROJECT} \\\n",
    "    --region={REGION} \\\n",
    "    --staging-bucket={BUCKET}'''"
   ]
  },
  {
   "cell_type": "markdown",
   "id": "4e998139",
   "metadata": {},
   "source": [
    "### Test the training task locally\n"
   ]
  },
  {
   "cell_type": "code",
   "execution_count": 93,
   "id": "9382ba6f",
   "metadata": {},
   "outputs": [
    {
     "name": "stdout",
     "output_type": "stream",
     "text": [
      "INFO:root:Python Version = 3.7.12 | packaged by conda-forge | (default, Oct 26 2021, 06:08:53) \n",
      "[GCC 9.4.0]\n",
      "INFO:root:TensorFlow Version = 2.8.1\n",
      "INFO:root:TF_CONFIG = Not found\n",
      "2022-06-28 13:54:30.632072: I tensorflow/core/platform/cpu_feature_guard.cc:151] This TensorFlow binary is optimized with oneAPI Deep Neural Network Library (oneDNN) to use the following CPU instructions in performance-critical operations:  AVX512F\n",
      "To enable them in other operations, rebuild TensorFlow with the appropriate compiler flags.\n",
      "INFO:root:DEVICES = [name: \"/device:CPU:0\"\n",
      "device_type: \"CPU\"\n",
      "memory_limit: 268435456\n",
      "locality {\n",
      "}\n",
      "incarnation: 4665913021352135311\n",
      "xla_global_id: -1\n",
      "]\n",
      "INFO:root:Task started...\n",
      "INFO:root:Hyperparameter: {'model_dir': 'gs://pbalm-cxb-aa-eu/creditcards/experiments/creditcards-classifier-v01/run-gcp-20220628133510/model', 'log_dir': 'gs://pbalm-cxb-aa-eu/creditcards/experiments/creditcards-classifier-v01/run-gcp-20220628133510/logs', 'train_data_dir': 'gs://pbalm-cxb-aa-eu/creditcards/experiments/creditcards-classifier-v01/run-gcp-20220628133510/transformed_data/train/*', 'eval_data_dir': 'gs://pbalm-cxb-aa-eu/creditcards/experiments/creditcards-classifier-v01/run-gcp-20220628133510/transformed_data/eval/*', 'tft_output_dir': 'gs://pbalm-cxb-aa-eu/creditcards/experiments/creditcards-classifier-v01/run-gcp-20220628133510/transform_artifacts', 'learning_rate': 0.001, 'batch_size': 512, 'hidden_units': [32, 32], 'num_epochs': 3, 'project': 'pbalm-cxb-aa', 'region': 'europe-west4', 'staging_bucket': 'pbalm-cxb-aa-eu', 'experiment_name': 'creditcards-classifier-v01', 'run_name': 'run-gcp-20220628133510'}\n",
      "INFO:root:Using Vertex AI experiment: creditcards-classifier-v01\n",
      "INFO:root:Resource creditcards-classifier-v01-run-gcp-20220628133510 not found.\n",
      "INFO:root:Creating Resource creditcards-classifier-v01-run-gcp-20220628133510\n",
      "INFO:root:Resource creditcards-classifier-v01-run-gcp-20220628133510-metrics not found.\n",
      "INFO:root:Creating Resource creditcards-classifier-v01-run-gcp-20220628133510-metrics\n",
      "INFO:root:Run run-gcp-20220628133510 started.\n",
      "INFO:root:Loading tft output from gs://pbalm-cxb-aa-eu/creditcards/experiments/creditcards-classifier-v01/run-gcp-20220628133510/transform_artifacts\n",
      "2022-06-28 13:54:37.188983: I tensorflow/core/common_runtime/process_util.cc:146] Creating new thread pool with default inter op setting: 2. Tune using inter_op_parallelism_threads for best performance.\n",
      "INFO:root:Model: \"model\"\n",
      "INFO:root:__________________________________________________________________________________________________\n",
      "INFO:root: Layer (type)                   Output Shape         Param #     Connected to                     \n",
      "INFO:root:==================================================================================================\n",
      "INFO:root: Amount (InputLayer)            [(None, 1)]          0           []                               \n",
      "INFO:root:                                                                                                  \n",
      "INFO:root: V1 (InputLayer)                [(None, 1)]          0           []                               \n",
      "INFO:root:                                                                                                  \n",
      "INFO:root: V10 (InputLayer)               [(None, 1)]          0           []                               \n",
      "INFO:root:                                                                                                  \n",
      "INFO:root: V11 (InputLayer)               [(None, 1)]          0           []                               \n",
      "INFO:root:                                                                                                  \n",
      "INFO:root: V12 (InputLayer)               [(None, 1)]          0           []                               \n",
      "INFO:root:                                                                                                  \n",
      "INFO:root: V13 (InputLayer)               [(None, 1)]          0           []                               \n",
      "INFO:root:                                                                                                  \n",
      "INFO:root: V14 (InputLayer)               [(None, 1)]          0           []                               \n",
      "INFO:root:                                                                                                  \n",
      "INFO:root: V15 (InputLayer)               [(None, 1)]          0           []                               \n",
      "INFO:root:                                                                                                  \n",
      "INFO:root: V16 (InputLayer)               [(None, 1)]          0           []                               \n",
      "INFO:root:                                                                                                  \n",
      "INFO:root: V17 (InputLayer)               [(None, 1)]          0           []                               \n",
      "INFO:root:                                                                                                  \n",
      "INFO:root: V18 (InputLayer)               [(None, 1)]          0           []                               \n",
      "INFO:root:                                                                                                  \n",
      "INFO:root: V19 (InputLayer)               [(None, 1)]          0           []                               \n",
      "INFO:root:                                                                                                  \n",
      "INFO:root: V2 (InputLayer)                [(None, 1)]          0           []                               \n",
      "INFO:root:                                                                                                  \n",
      "INFO:root: V20 (InputLayer)               [(None, 1)]          0           []                               \n",
      "INFO:root:                                                                                                  \n",
      "INFO:root: V21 (InputLayer)               [(None, 1)]          0           []                               \n",
      "INFO:root:                                                                                                  \n",
      "INFO:root: V22 (InputLayer)               [(None, 1)]          0           []                               \n",
      "INFO:root:                                                                                                  \n",
      "INFO:root: V23 (InputLayer)               [(None, 1)]          0           []                               \n",
      "INFO:root:                                                                                                  \n",
      "INFO:root: V24 (InputLayer)               [(None, 1)]          0           []                               \n",
      "INFO:root:                                                                                                  \n",
      "INFO:root: V25 (InputLayer)               [(None, 1)]          0           []                               \n",
      "INFO:root:                                                                                                  \n",
      "INFO:root: V26 (InputLayer)               [(None, 1)]          0           []                               \n",
      "INFO:root:                                                                                                  \n",
      "INFO:root: V27 (InputLayer)               [(None, 1)]          0           []                               \n",
      "INFO:root:                                                                                                  \n",
      "INFO:root: V28 (InputLayer)               [(None, 1)]          0           []                               \n",
      "INFO:root:                                                                                                  \n",
      "INFO:root: V3 (InputLayer)                [(None, 1)]          0           []                               \n",
      "INFO:root:                                                                                                  \n",
      "INFO:root: V4 (InputLayer)                [(None, 1)]          0           []                               \n",
      "INFO:root:                                                                                                  \n",
      "INFO:root: V5 (InputLayer)                [(None, 1)]          0           []                               \n",
      "INFO:root:                                                                                                  \n",
      "INFO:root: V6 (InputLayer)                [(None, 1)]          0           []                               \n",
      "INFO:root:                                                                                                  \n",
      "INFO:root: V7 (InputLayer)                [(None, 1)]          0           []                               \n",
      "INFO:root:                                                                                                  \n",
      "INFO:root: V8 (InputLayer)                [(None, 1)]          0           []                               \n",
      "INFO:root:                                                                                                  \n",
      "INFO:root: V9 (InputLayer)                [(None, 1)]          0           []                               \n",
      "INFO:root:                                                                                                  \n",
      "INFO:root: concatenate (Concatenate)      (None, 29)           0           ['Amount[0][0]',                 \n",
      "INFO:root:                                                                  'V1[0][0]',                     \n",
      "INFO:root:                                                                  'V10[0][0]',                    \n",
      "INFO:root:                                                                  'V11[0][0]',                    \n",
      "INFO:root:                                                                  'V12[0][0]',                    \n",
      "INFO:root:                                                                  'V13[0][0]',                    \n",
      "INFO:root:                                                                  'V14[0][0]',                    \n",
      "INFO:root:                                                                  'V15[0][0]',                    \n",
      "INFO:root:                                                                  'V16[0][0]',                    \n",
      "INFO:root:                                                                  'V17[0][0]',                    \n",
      "INFO:root:                                                                  'V18[0][0]',                    \n",
      "INFO:root:                                                                  'V19[0][0]',                    \n",
      "INFO:root:                                                                  'V2[0][0]',                     \n",
      "INFO:root:                                                                  'V20[0][0]',                    \n",
      "INFO:root:                                                                  'V21[0][0]',                    \n",
      "INFO:root:                                                                  'V22[0][0]',                    \n",
      "INFO:root:                                                                  'V23[0][0]',                    \n",
      "INFO:root:                                                                  'V24[0][0]',                    \n",
      "INFO:root:                                                                  'V25[0][0]',                    \n",
      "INFO:root:                                                                  'V26[0][0]',                    \n",
      "INFO:root:                                                                  'V27[0][0]',                    \n",
      "INFO:root:                                                                  'V28[0][0]',                    \n",
      "INFO:root:                                                                  'V3[0][0]',                     \n",
      "INFO:root:                                                                  'V4[0][0]',                     \n",
      "INFO:root:                                                                  'V5[0][0]',                     \n",
      "INFO:root:                                                                  'V6[0][0]',                     \n",
      "INFO:root:                                                                  'V7[0][0]',                     \n",
      "INFO:root:                                                                  'V8[0][0]',                     \n",
      "INFO:root:                                                                  'V9[0][0]']                     \n",
      "INFO:root:                                                                                                  \n",
      "INFO:root: dense (Dense)                  (None, 32)           960         ['concatenate[0][0]']            \n",
      "INFO:root:                                                                                                  \n",
      "INFO:root: dense_1 (Dense)                (None, 32)           1056        ['dense[0][0]']                  \n",
      "INFO:root:                                                                                                  \n",
      "INFO:root: dense_2 (Dense)                (None, 1)            33          ['dense_1[0][0]']                \n",
      "INFO:root:                                                                                                  \n",
      "INFO:root:==================================================================================================\n",
      "INFO:root:Total params: 2,049\n",
      "INFO:root:Trainable params: 2,049\n",
      "INFO:root:Non-trainable params: 0\n",
      "INFO:root:__________________________________________________________________________________________________\n",
      "INFO:root:Model training started...\n",
      "Epoch 1/3\n",
      "/opt/conda/lib/python3.7/site-packages/tensorflow/python/util/dispatch.py:1082: UserWarning: \"`binary_crossentropy` received `from_logits=True`, but the `output` argument was produced by a sigmoid or softmax activation and thus does not represent logits. Was this intended?\"\n",
      "  return dispatch_target(*args, **kwargs)\n",
      "361/361 [==============================] - 10s 25ms/step - loss: 0.0345 - accuracy: 0.9982 - val_loss: 0.0111 - val_accuracy: 0.9984\n",
      "Epoch 2/3\n",
      "361/361 [==============================] - 9s 25ms/step - loss: 0.0128 - accuracy: 0.9982 - val_loss: 0.0161 - val_accuracy: 0.9984\n",
      "Epoch 3/3\n",
      "361/361 [==============================] - 8s 23ms/step - loss: 0.0126 - accuracy: 0.9982 - val_loss: 0.0116 - val_accuracy: 0.9984\n",
      "INFO:root:Model training completed.\n",
      "INFO:root:Loading raw schema from /home/jupyter/mlops-with-vertex-ai/src/raw_schema/schema.pbtxt\n",
      "INFO:root:Loading tft output from gs://pbalm-cxb-aa-eu/creditcards/experiments/creditcards-classifier-v01/run-gcp-20220628133510/transform_artifacts\n",
      "INFO:root:Model evaluation started...\n",
      "90/90 [==============================] - 2s 14ms/step - loss: 0.0116 - accuracy: 0.9984\n",
      "INFO:root:Model evaluation completed.\n",
      "INFO:root:Reporting metric ACCURACY=0.9984158277511597 to Vertex hypertuner...\n",
      "INFO:root:Logging metrics to Vertex Experiments...\n",
      "INFO:tensorflow:struct2tensor is not available.\n",
      "INFO:tensorflow:struct2tensor is not available.\n",
      "INFO:tensorflow:tensorflow_decision_forests is not available.\n",
      "INFO:tensorflow:tensorflow_decision_forests is not available.\n",
      "INFO:tensorflow:tensorflow_text is not available.\n",
      "INFO:tensorflow:tensorflow_text is not available.\n",
      "INFO:root:Model export started...\n",
      "WARNING:absl:Function `serve_features_fn` contains input name(s) Amount, V1, V10, V11, V12, V13, V14, V15, V16, V17, V18, V19, V2, V20, V21, V22, V23, V24, V25, V26, V27, V28, V3, V4, V5, V6, V7, V8, V9 with unsupported characters which will be renamed to amount, v1, v10, v11, v12, v13, v14, v15, v16, v17, v18, v19, v2, v20, v21, v22, v23, v24, v25, v26, v27, v28, v3, v4, v5, v6, v7, v8, v9 in the SavedModel.\n",
      "2022-06-28 13:55:13.302477: W tensorflow/python/util/util.cc:368] Sets are not currently considered sequences, but this may change in the future, so consider avoiding using them.\n",
      "INFO:tensorflow:Assets written to: gs://pbalm-cxb-aa-eu/creditcards/experiments/creditcards-classifier-v01/run-gcp-20220628133510/model/assets\n",
      "INFO:tensorflow:Assets written to: gs://pbalm-cxb-aa-eu/creditcards/experiments/creditcards-classifier-v01/run-gcp-20220628133510/model/assets\n",
      "INFO:root:Model export completed.\n",
      "INFO:root:Task completed.\n"
     ]
    }
   ],
   "source": [
    "!python -m src.model_training.task \\\n",
    "    --model-dir={EXPORT_DIR} \\\n",
    "    --log-dir={LOG_DIR} \\\n",
    "    --train-data-dir={TRANSFORMED_DATA_PREFIX}/train/* \\\n",
    "    --eval-data-dir={TRANSFORMED_DATA_PREFIX}/eval/*  \\\n",
    "    --tft-output-dir={TRANSFORM_ARTIFACTS_DIR} \\\n",
    "    --num-epochs=3 \\\n",
    "    --hidden-units=32,32 \\\n",
    "    --experiment-name={EXPERIMENT_NAME} \\\n",
    "    --run-name={run_id} \\\n",
    "    --project={PROJECT} \\\n",
    "    --region={REGION} \\\n",
    "    --staging-bucket={BUCKET}"
   ]
  },
  {
   "cell_type": "markdown",
   "id": "5077e9d4",
   "metadata": {},
   "source": [
    "### Prepare training package"
   ]
  },
  {
   "cell_type": "code",
   "execution_count": 189,
   "id": "d526a189",
   "metadata": {},
   "outputs": [
    {
     "name": "stdout",
     "output_type": "stream",
     "text": [
      "Trainer package upload location: gs://pbalm-cxb-aa-eu/creditcards/trainer_packages\n"
     ]
    }
   ],
   "source": [
    "TRAINER_PACKAGE_DIR = os.path.join(WORKSPACE, 'trainer_packages')\n",
    "TRAINER_PACKAGE_NAME = f'{MODEL_DISPLAY_NAME}_trainer'\n",
    "print(\"Trainer package upload location:\", TRAINER_PACKAGE_DIR)"
   ]
  },
  {
   "cell_type": "code",
   "execution_count": 190,
   "id": "550cc9eb",
   "metadata": {},
   "outputs": [
    {
     "name": "stdout",
     "output_type": "stream",
     "text": [
      "rm: cannot remove 'src/.ipynb_checkpoints/': No such file or directory\n",
      "rm: cannot remove 'src/raw_schema/.ipynb_checkpoints/': No such file or directory\n",
      "creditcards-classifier-v01_trainer/\n",
      "creditcards-classifier-v01_trainer/src/\n",
      "creditcards-classifier-v01_trainer/src/tfx_pipelines/\n",
      "creditcards-classifier-v01_trainer/src/tfx_pipelines/runner.py\n",
      "creditcards-classifier-v01_trainer/src/tfx_pipelines/training_pipeline.py\n",
      "creditcards-classifier-v01_trainer/src/tfx_pipelines/.ipynb_checkpoints/\n",
      "creditcards-classifier-v01_trainer/src/tfx_pipelines/.ipynb_checkpoints/training_pipeline-checkpoint.py\n",
      "creditcards-classifier-v01_trainer/src/tfx_pipelines/.ipynb_checkpoints/runner-checkpoint.py\n",
      "creditcards-classifier-v01_trainer/src/tfx_pipelines/.ipynb_checkpoints/components-checkpoint.py\n",
      "creditcards-classifier-v01_trainer/src/tfx_pipelines/.ipynb_checkpoints/config-checkpoint.py\n",
      "creditcards-classifier-v01_trainer/src/tfx_pipelines/prediction_pipeline.py\n",
      "creditcards-classifier-v01_trainer/src/tfx_pipelines/__init__.py\n",
      "creditcards-classifier-v01_trainer/src/tfx_pipelines/__pycache__/\n",
      "creditcards-classifier-v01_trainer/src/tfx_pipelines/__pycache__/runner.cpython-37.pyc\n",
      "creditcards-classifier-v01_trainer/src/tfx_pipelines/__pycache__/components.cpython-37.pyc\n",
      "creditcards-classifier-v01_trainer/src/tfx_pipelines/__pycache__/training_pipeline.cpython-37.pyc\n",
      "creditcards-classifier-v01_trainer/src/tfx_pipelines/__pycache__/__init__.cpython-37.pyc\n",
      "creditcards-classifier-v01_trainer/src/tfx_pipelines/__pycache__/config.cpython-37.pyc\n",
      "creditcards-classifier-v01_trainer/src/tfx_pipelines/__pycache__/prediction_pipeline.cpython-37.pyc\n",
      "creditcards-classifier-v01_trainer/src/tfx_pipelines/config.py\n",
      "creditcards-classifier-v01_trainer/src/tfx_pipelines/components.py\n",
      "creditcards-classifier-v01_trainer/src/common/\n",
      "creditcards-classifier-v01_trainer/src/common/.ipynb_checkpoints/\n",
      "creditcards-classifier-v01_trainer/src/common/.ipynb_checkpoints/features-checkpoint.py\n",
      "creditcards-classifier-v01_trainer/src/common/.ipynb_checkpoints/datasource_utils-checkpoint.py\n",
      "creditcards-classifier-v01_trainer/src/common/__init__.py\n",
      "creditcards-classifier-v01_trainer/src/common/datasource_utils.py\n",
      "creditcards-classifier-v01_trainer/src/common/__pycache__/\n",
      "creditcards-classifier-v01_trainer/src/common/__pycache__/features.cpython-37.pyc\n",
      "creditcards-classifier-v01_trainer/src/common/__pycache__/datasource_utils.cpython-37.pyc\n",
      "creditcards-classifier-v01_trainer/src/common/__pycache__/__init__.cpython-37.pyc\n",
      "creditcards-classifier-v01_trainer/src/common/features.py\n",
      "creditcards-classifier-v01_trainer/src/raw_schema/\n",
      "creditcards-classifier-v01_trainer/src/raw_schema/schema.pbtxt\n",
      "creditcards-classifier-v01_trainer/src/model_training/\n",
      "creditcards-classifier-v01_trainer/src/model_training/trainer.py\n",
      "creditcards-classifier-v01_trainer/src/model_training/runner.py\n",
      "creditcards-classifier-v01_trainer/src/model_training/model.py\n",
      "creditcards-classifier-v01_trainer/src/model_training/.ipynb_checkpoints/\n",
      "creditcards-classifier-v01_trainer/src/model_training/.ipynb_checkpoints/task-checkpoint.py\n",
      "creditcards-classifier-v01_trainer/src/model_training/.ipynb_checkpoints/model-checkpoint.py\n",
      "creditcards-classifier-v01_trainer/src/model_training/.ipynb_checkpoints/runner-checkpoint.py\n",
      "creditcards-classifier-v01_trainer/src/model_training/.ipynb_checkpoints/trainer-checkpoint.py\n",
      "creditcards-classifier-v01_trainer/src/model_training/__init__.py\n",
      "creditcards-classifier-v01_trainer/src/model_training/defaults.py\n",
      "creditcards-classifier-v01_trainer/src/model_training/__pycache__/\n",
      "creditcards-classifier-v01_trainer/src/model_training/__pycache__/task.cpython-37.pyc\n",
      "creditcards-classifier-v01_trainer/src/model_training/__pycache__/data.cpython-37.pyc\n",
      "creditcards-classifier-v01_trainer/src/model_training/__pycache__/trainer.cpython-37.pyc\n",
      "creditcards-classifier-v01_trainer/src/model_training/__pycache__/model.cpython-37.pyc\n",
      "creditcards-classifier-v01_trainer/src/model_training/__pycache__/defaults.cpython-37.pyc\n",
      "creditcards-classifier-v01_trainer/src/model_training/__pycache__/exporter.cpython-37.pyc\n",
      "creditcards-classifier-v01_trainer/src/model_training/__pycache__/__init__.cpython-37.pyc\n",
      "creditcards-classifier-v01_trainer/src/model_training/exporter.py\n",
      "creditcards-classifier-v01_trainer/src/model_training/data.py\n",
      "creditcards-classifier-v01_trainer/src/model_training/task.py\n",
      "creditcards-classifier-v01_trainer/src/__init__.py\n",
      "creditcards-classifier-v01_trainer/src/test.py\n",
      "creditcards-classifier-v01_trainer/src/tests/\n",
      "creditcards-classifier-v01_trainer/src/tests/model_deployment_tests.py\n",
      "creditcards-classifier-v01_trainer/src/tests/model_tests.py\n",
      "creditcards-classifier-v01_trainer/src/tests/etl_tests.py\n",
      "creditcards-classifier-v01_trainer/src/tests/.ipynb_checkpoints/\n",
      "creditcards-classifier-v01_trainer/src/tests/.ipynb_checkpoints/pipeline_deployment_tests-checkpoint.py\n",
      "creditcards-classifier-v01_trainer/src/tests/.ipynb_checkpoints/datasource_utils_tests-checkpoint.py\n",
      "creditcards-classifier-v01_trainer/src/tests/.ipynb_checkpoints/model_tests-checkpoint.py\n",
      "creditcards-classifier-v01_trainer/src/tests/.ipynb_checkpoints/model_deployment_tests-checkpoint.py\n",
      "creditcards-classifier-v01_trainer/src/tests/__init__.py\n",
      "creditcards-classifier-v01_trainer/src/tests/__pycache__/\n",
      "creditcards-classifier-v01_trainer/src/tests/__pycache__/pipeline_deployment_tests.cpython-37-pytest-7.1.2.pyc\n",
      "creditcards-classifier-v01_trainer/src/tests/__pycache__/model_tests.cpython-37-pytest-7.1.2.pyc\n",
      "creditcards-classifier-v01_trainer/src/tests/__pycache__/model_deployment_tests.cpython-37-pytest-7.1.2.pyc\n",
      "creditcards-classifier-v01_trainer/src/tests/__pycache__/datasource_utils_tests.cpython-37-pytest-7.1.2.pyc\n",
      "creditcards-classifier-v01_trainer/src/tests/__pycache__/__init__.cpython-37.pyc\n",
      "creditcards-classifier-v01_trainer/src/tests/datasource_utils_tests.py\n",
      "creditcards-classifier-v01_trainer/src/tests/pipeline_deployment_tests.py\n",
      "creditcards-classifier-v01_trainer/src/pipeline_triggering/\n",
      "creditcards-classifier-v01_trainer/src/pipeline_triggering/__init__.py\n",
      "creditcards-classifier-v01_trainer/src/pipeline_triggering/requirements.txt\n",
      "creditcards-classifier-v01_trainer/src/pipeline_triggering/main.py\n",
      "creditcards-classifier-v01_trainer/src/preprocessing/\n",
      "creditcards-classifier-v01_trainer/src/preprocessing/.ipynb_checkpoints/\n",
      "creditcards-classifier-v01_trainer/src/preprocessing/.ipynb_checkpoints/etl-checkpoint.py\n",
      "creditcards-classifier-v01_trainer/src/preprocessing/etl.py\n",
      "creditcards-classifier-v01_trainer/src/preprocessing/__init__.py\n",
      "creditcards-classifier-v01_trainer/src/preprocessing/__pycache__/\n",
      "creditcards-classifier-v01_trainer/src/preprocessing/__pycache__/transformations.cpython-37.pyc\n",
      "creditcards-classifier-v01_trainer/src/preprocessing/__pycache__/etl.cpython-37.pyc\n",
      "creditcards-classifier-v01_trainer/src/preprocessing/__pycache__/__init__.cpython-37.pyc\n",
      "creditcards-classifier-v01_trainer/src/preprocessing/transformations.py\n",
      "creditcards-classifier-v01_trainer/setup.py\n",
      "Copying file://creditcards-classifier-v01_trainer.tar.gz [Content-Type=application/x-tar]...\n",
      "/ [1 files][ 50.2 KiB/ 50.2 KiB]                                                \n",
      "Operation completed over 1 objects/50.2 KiB.                                     \n"
     ]
    }
   ],
   "source": [
    "!rm -r src/__pycache__/\n",
    "!rm -r src/.ipynb_checkpoints/\n",
    "!rm -r src/raw_schema/.ipynb_checkpoints/\n",
    "!rm -f {TRAINER_PACKAGE_NAME}.tar {TRAINER_PACKAGE_NAME}.tar.gz\n",
    "\n",
    "!mkdir {TRAINER_PACKAGE_NAME}\n",
    "\n",
    "!cp setup.py {TRAINER_PACKAGE_NAME}/\n",
    "!cp -r src {TRAINER_PACKAGE_NAME}/\n",
    "!tar cvf {TRAINER_PACKAGE_NAME}.tar {TRAINER_PACKAGE_NAME}\n",
    "!gzip {TRAINER_PACKAGE_NAME}.tar\n",
    "!gsutil cp {TRAINER_PACKAGE_NAME}.tar.gz {TRAINER_PACKAGE_DIR}/\n",
    "!rm -r {TRAINER_PACKAGE_NAME}\n",
    "!rm -r {TRAINER_PACKAGE_NAME}.tar.gz"
   ]
  },
  {
   "cell_type": "markdown",
   "id": "7c3af757",
   "metadata": {},
   "source": [
    "### Prepare the training job"
   ]
  },
  {
   "cell_type": "code",
   "execution_count": 191,
   "id": "e01bf43e",
   "metadata": {},
   "outputs": [
    {
     "name": "stdout",
     "output_type": "stream",
     "text": [
      "Training image: europe-docker.pkg.dev/vertex-ai/training/tf-cpu.2-5:latest\n"
     ]
    }
   ],
   "source": [
    "TRAIN_RUNTIME = 'tf-cpu.2-5'\n",
    "TRAIN_IMAGE = f\"europe-docker.pkg.dev/vertex-ai/training/{TRAIN_RUNTIME}:latest\"\n",
    "print(\"Training image:\", TRAIN_IMAGE)"
   ]
  },
  {
   "cell_type": "code",
   "execution_count": 192,
   "id": "6d18dba5",
   "metadata": {},
   "outputs": [
    {
     "name": "stdout",
     "output_type": "stream",
     "text": [
      "--train-data-dir=gs://pbalm-cxb-aa-eu/creditcards/experiments/creditcards-classifier-v01/run-gcp-20220628133510/transformed_data/train/*\n",
      "--eval-data-dir=gs://pbalm-cxb-aa-eu/creditcards/experiments/creditcards-classifier-v01/run-gcp-20220628133510/transformed_data/eval/*\n",
      "--tft-output-dir=gs://pbalm-cxb-aa-eu/creditcards/experiments/creditcards-classifier-v01/run-gcp-20220628133510/transform_artifacts\n",
      "--num-epochs=10\n",
      "--batch-size=64\n",
      "--learning-rate=0.001\n",
      "--project=pbalm-cxb-aa\n",
      "--region=europe-west4\n",
      "--staging-bucket=pbalm-cxb-aa-eu\n",
      "--experiment-name=creditcards-classifier-v01\n"
     ]
    }
   ],
   "source": [
    "num_epochs = 10\n",
    "learning_rate = 0.001\n",
    "hidden_units = \"64,64\"\n",
    "\n",
    "n_examples = 230910 + 402 # from 1st notebook\n",
    "batch_size = 64\n",
    "steps_per_epoch=n_examples//batch_size\n",
    "\n",
    "trainer_args = [\n",
    "    f'--train-data-dir={TRANSFORMED_DATA_PREFIX + \"/train/*\"}',\n",
    "    f'--eval-data-dir={TRANSFORMED_DATA_PREFIX + \"/eval/*\"}',\n",
    "    f'--tft-output-dir={TRANSFORM_ARTIFACTS_DIR}',\n",
    "    f'--num-epochs={num_epochs}',\n",
    "    f'--batch-size={batch_size}',\n",
    "    f'--learning-rate={learning_rate}',\n",
    "    f'--project={PROJECT}',\n",
    "    f'--region={REGION}',\n",
    "    f'--staging-bucket={BUCKET}',\n",
    "    f'--experiment-name={EXPERIMENT_NAME}'\n",
    "]\n",
    "\n",
    "for a in trainer_args:\n",
    "    print(a)"
   ]
  },
  {
   "cell_type": "code",
   "execution_count": 193,
   "id": "0a30d0d3",
   "metadata": {},
   "outputs": [
    {
     "name": "stdout",
     "output_type": "stream",
     "text": [
      "replica_count: 1\n",
      "machine_spec: {'machine_type': 'n1-standard-4', 'accelerator_count': 0}\n",
      "python_package_spec: {'executor_image_uri': 'europe-docker.pkg.dev/vertex-ai/training/tf-cpu.2-5:latest', 'package_uris': ['gs://pbalm-cxb-aa-eu/creditcards/trainer_packages/creditcards-classifier-v01_trainer.tar.gz'], 'python_module': 'src.model_training.task', 'args': ['--train-data-dir=gs://pbalm-cxb-aa-eu/creditcards/experiments/creditcards-classifier-v01/run-gcp-20220628133510/transformed_data/train/*', '--eval-data-dir=gs://pbalm-cxb-aa-eu/creditcards/experiments/creditcards-classifier-v01/run-gcp-20220628133510/transformed_data/eval/*', '--tft-output-dir=gs://pbalm-cxb-aa-eu/creditcards/experiments/creditcards-classifier-v01/run-gcp-20220628133510/transform_artifacts', '--num-epochs=10', '--batch-size=64', '--learning-rate=0.001', '--project=pbalm-cxb-aa', '--region=europe-west4', '--staging-bucket=pbalm-cxb-aa-eu', '--experiment-name=creditcards-classifier-v01']}\n"
     ]
    }
   ],
   "source": [
    "package_uri = os.path.join(TRAINER_PACKAGE_DIR, f'{TRAINER_PACKAGE_NAME}.tar.gz')\n",
    "\n",
    "worker_pool_specs = [\n",
    "    {\n",
    "        \"replica_count\": 1,\n",
    "        \"machine_spec\": {\n",
    "            \"machine_type\": 'n1-standard-4',\n",
    "            \"accelerator_count\": 0\n",
    "        },\n",
    "        \"python_package_spec\": {\n",
    "            \"executor_image_uri\": TRAIN_IMAGE,\n",
    "            \"package_uris\": [package_uri],\n",
    "            \"python_module\": \"src.model_training.task\",\n",
    "            \"args\": trainer_args,\n",
    "        }\n",
    "    }\n",
    "]\n",
    "\n",
    "\n",
    "for a in worker_pool_specs[0]:\n",
    "    print(f'{a}: {worker_pool_specs[0][a]}')"
   ]
  },
  {
   "cell_type": "markdown",
   "id": "788d6e99",
   "metadata": {},
   "source": [
    "### Submit the training job"
   ]
  },
  {
   "cell_type": "code",
   "execution_count": 188,
   "id": "4544105b",
   "metadata": {},
   "outputs": [
    {
     "name": "stdout",
     "output_type": "stream",
     "text": [
      "Submitting a custom training job...\n",
      "Creating CustomJob\n"
     ]
    },
    {
     "name": "stderr",
     "output_type": "stream",
     "text": [
      "INFO:google.cloud.aiplatform.jobs:Creating CustomJob\n"
     ]
    },
    {
     "name": "stdout",
     "output_type": "stream",
     "text": [
      "CustomJob created. Resource name: projects/188940921537/locations/europe-west4/customJobs/7597943106792587264\n"
     ]
    },
    {
     "name": "stderr",
     "output_type": "stream",
     "text": [
      "INFO:google.cloud.aiplatform.jobs:CustomJob created. Resource name: projects/188940921537/locations/europe-west4/customJobs/7597943106792587264\n"
     ]
    },
    {
     "name": "stdout",
     "output_type": "stream",
     "text": [
      "To use this CustomJob in another session:\n"
     ]
    },
    {
     "name": "stderr",
     "output_type": "stream",
     "text": [
      "INFO:google.cloud.aiplatform.jobs:To use this CustomJob in another session:\n"
     ]
    },
    {
     "name": "stdout",
     "output_type": "stream",
     "text": [
      "custom_job = aiplatform.CustomJob.get('projects/188940921537/locations/europe-west4/customJobs/7597943106792587264')\n"
     ]
    },
    {
     "name": "stderr",
     "output_type": "stream",
     "text": [
      "INFO:google.cloud.aiplatform.jobs:custom_job = aiplatform.CustomJob.get('projects/188940921537/locations/europe-west4/customJobs/7597943106792587264')\n"
     ]
    },
    {
     "name": "stdout",
     "output_type": "stream",
     "text": [
      "View Custom Job:\n",
      "https://console.cloud.google.com/ai/platform/locations/europe-west4/training/7597943106792587264?project=188940921537\n"
     ]
    },
    {
     "name": "stderr",
     "output_type": "stream",
     "text": [
      "INFO:google.cloud.aiplatform.jobs:View Custom Job:\n",
      "https://console.cloud.google.com/ai/platform/locations/europe-west4/training/7597943106792587264?project=188940921537\n"
     ]
    },
    {
     "name": "stdout",
     "output_type": "stream",
     "text": [
      "View Tensorboard:\n",
      "https://europe-west4.tensorboard.googleusercontent.com/experiment/projects+188940921537+locations+europe-west4+tensorboards+6937971147824693248+experiments+7597943106792587264\n"
     ]
    },
    {
     "name": "stderr",
     "output_type": "stream",
     "text": [
      "INFO:google.cloud.aiplatform.jobs:View Tensorboard:\n",
      "https://europe-west4.tensorboard.googleusercontent.com/experiment/projects+188940921537+locations+europe-west4+tensorboards+6937971147824693248+experiments+7597943106792587264\n"
     ]
    },
    {
     "name": "stdout",
     "output_type": "stream",
     "text": [
      "CustomJob projects/188940921537/locations/europe-west4/customJobs/7597943106792587264 current state:\n",
      "JobState.JOB_STATE_PENDING\n"
     ]
    },
    {
     "name": "stderr",
     "output_type": "stream",
     "text": [
      "INFO:google.cloud.aiplatform.jobs:CustomJob projects/188940921537/locations/europe-west4/customJobs/7597943106792587264 current state:\n",
      "JobState.JOB_STATE_PENDING\n"
     ]
    },
    {
     "name": "stdout",
     "output_type": "stream",
     "text": [
      "CustomJob projects/188940921537/locations/europe-west4/customJobs/7597943106792587264 current state:\n",
      "JobState.JOB_STATE_PENDING\n"
     ]
    },
    {
     "name": "stderr",
     "output_type": "stream",
     "text": [
      "INFO:google.cloud.aiplatform.jobs:CustomJob projects/188940921537/locations/europe-west4/customJobs/7597943106792587264 current state:\n",
      "JobState.JOB_STATE_PENDING\n"
     ]
    },
    {
     "name": "stdout",
     "output_type": "stream",
     "text": [
      "CustomJob projects/188940921537/locations/europe-west4/customJobs/7597943106792587264 current state:\n",
      "JobState.JOB_STATE_PENDING\n"
     ]
    },
    {
     "name": "stderr",
     "output_type": "stream",
     "text": [
      "INFO:google.cloud.aiplatform.jobs:CustomJob projects/188940921537/locations/europe-west4/customJobs/7597943106792587264 current state:\n",
      "JobState.JOB_STATE_PENDING\n"
     ]
    },
    {
     "name": "stdout",
     "output_type": "stream",
     "text": [
      "CustomJob projects/188940921537/locations/europe-west4/customJobs/7597943106792587264 current state:\n",
      "JobState.JOB_STATE_PENDING\n"
     ]
    },
    {
     "name": "stderr",
     "output_type": "stream",
     "text": [
      "INFO:google.cloud.aiplatform.jobs:CustomJob projects/188940921537/locations/europe-west4/customJobs/7597943106792587264 current state:\n",
      "JobState.JOB_STATE_PENDING\n"
     ]
    },
    {
     "name": "stdout",
     "output_type": "stream",
     "text": [
      "CustomJob projects/188940921537/locations/europe-west4/customJobs/7597943106792587264 current state:\n",
      "JobState.JOB_STATE_PENDING\n"
     ]
    },
    {
     "name": "stderr",
     "output_type": "stream",
     "text": [
      "INFO:google.cloud.aiplatform.jobs:CustomJob projects/188940921537/locations/europe-west4/customJobs/7597943106792587264 current state:\n",
      "JobState.JOB_STATE_PENDING\n"
     ]
    },
    {
     "name": "stdout",
     "output_type": "stream",
     "text": [
      "CustomJob projects/188940921537/locations/europe-west4/customJobs/7597943106792587264 current state:\n",
      "JobState.JOB_STATE_RUNNING\n"
     ]
    },
    {
     "name": "stderr",
     "output_type": "stream",
     "text": [
      "INFO:google.cloud.aiplatform.jobs:CustomJob projects/188940921537/locations/europe-west4/customJobs/7597943106792587264 current state:\n",
      "JobState.JOB_STATE_RUNNING\n"
     ]
    },
    {
     "name": "stdout",
     "output_type": "stream",
     "text": [
      "CustomJob projects/188940921537/locations/europe-west4/customJobs/7597943106792587264 current state:\n",
      "JobState.JOB_STATE_SUCCEEDED\n"
     ]
    },
    {
     "name": "stderr",
     "output_type": "stream",
     "text": [
      "INFO:google.cloud.aiplatform.jobs:CustomJob projects/188940921537/locations/europe-west4/customJobs/7597943106792587264 current state:\n",
      "JobState.JOB_STATE_SUCCEEDED\n"
     ]
    },
    {
     "name": "stdout",
     "output_type": "stream",
     "text": [
      "CustomJob run completed. Resource name: projects/188940921537/locations/europe-west4/customJobs/7597943106792587264\n"
     ]
    },
    {
     "name": "stderr",
     "output_type": "stream",
     "text": [
      "INFO:google.cloud.aiplatform.jobs:CustomJob run completed. Resource name: projects/188940921537/locations/europe-west4/customJobs/7597943106792587264\n"
     ]
    }
   ],
   "source": [
    "print(\"Submitting a custom training job...\")\n",
    "\n",
    "training_job_display_name = f\"{TRAINER_PACKAGE_NAME}_{run_id}\"\n",
    "\n",
    "training_job = vertex_ai.CustomJob(\n",
    "    display_name=training_job_display_name,\n",
    "    worker_pool_specs=worker_pool_specs,\n",
    "    base_output_dir=EXPERIMENT_RUN_DIR,\n",
    ")\n",
    "\n",
    "training_job.run(\n",
    "    service_account=SERVICE_ACCOUNT,\n",
    "    tensorboard=tensorboard_resource_name,\n",
    "    sync=True\n",
    ")"
   ]
  },
  {
   "cell_type": "markdown",
   "id": "c2896b59",
   "metadata": {},
   "source": [
    "## 5. Upload exported model to Vertex AI Models"
   ]
  },
  {
   "cell_type": "code",
   "execution_count": null,
   "id": "e86b288b",
   "metadata": {},
   "outputs": [],
   "source": [
    "!gsutil ls {EXPORT_DIR}"
   ]
  },
  {
   "cell_type": "markdown",
   "id": "f40e0c39",
   "metadata": {},
   "source": [
    "### Generate the Explanation metadata"
   ]
  },
  {
   "cell_type": "code",
   "execution_count": null,
   "id": "e3d5df4c",
   "metadata": {},
   "outputs": [],
   "source": [
    "explanation_config = features.generate_explanation_config(transform_feature_spec)\n",
    "explanation_config"
   ]
  },
  {
   "cell_type": "markdown",
   "id": "85cd0587",
   "metadata": {},
   "source": [
    "### Upload model"
   ]
  },
  {
   "cell_type": "code",
   "execution_count": null,
   "id": "a6d0dbb2",
   "metadata": {},
   "outputs": [],
   "source": [
    "#SERVING_RUNTIME='tf2-cpu.2-5'\n",
    "SERVING_RUNTIME='tf2-cpu.2-8'\n",
    "SERVING_IMAGE = f\"europe-docker.pkg.dev/vertex-ai/prediction/{SERVING_RUNTIME}:latest\"\n",
    "print(\"Serving image:\", SERVING_IMAGE)"
   ]
  },
  {
   "cell_type": "code",
   "execution_count": null,
   "id": "1b24abd6",
   "metadata": {},
   "outputs": [],
   "source": [
    "explanation_metadata = vertex_ai.explain.ExplanationMetadata(\n",
    "    inputs=explanation_config[\"inputs\"],\n",
    "    outputs=explanation_config[\"outputs\"],\n",
    ")\n",
    "explanation_parameters = vertex_ai.explain.ExplanationParameters(\n",
    "    explanation_config[\"params\"]\n",
    ")\n",
    "\n",
    "vertex_model = vertex_ai.Model.upload(\n",
    "    display_name=MODEL_DISPLAY_NAME,\n",
    "    artifact_uri=EXPORT_DIR,\n",
    "    serving_container_image_uri=SERVING_IMAGE,\n",
    "    parameters_schema_uri=None,\n",
    "    instance_schema_uri=None,\n",
    "    explanation_metadata=explanation_metadata,\n",
    "    explanation_parameters=explanation_parameters,\n",
    "    labels={\n",
    "        'dataset_name': VERTEX_DATASET_NAME,\n",
    "        'experiment': run_id\n",
    "    }\n",
    ")"
   ]
  },
  {
   "cell_type": "code",
   "execution_count": null,
   "id": "51756dbb",
   "metadata": {},
   "outputs": [],
   "source": [
    "vertex_model.gca_resource"
   ]
  },
  {
   "cell_type": "markdown",
   "id": "4aa55220",
   "metadata": {},
   "source": [
    "## 6. Extract experiment run parameters"
   ]
  },
  {
   "cell_type": "code",
   "execution_count": null,
   "id": "07808f8a",
   "metadata": {},
   "outputs": [],
   "source": [
    "experiment_df = vertex_ai.get_experiment_df()\n",
    "experiment_df = experiment_df[experiment_df.experiment_name == EXPERIMENT_NAME]\n",
    "experiment_df.T"
   ]
  },
  {
   "cell_type": "code",
   "execution_count": null,
   "id": "367183aa",
   "metadata": {},
   "outputs": [],
   "source": [
    "print(\"Vertex AI Experiments:\")\n",
    "print(\n",
    "    f\"https://console.cloud.google.com/vertex-ai/locations/{REGION}/experiments/{EXPERIMENT_NAME}/metrics?project={PROJECT}\"\n",
    ")"
   ]
  },
  {
   "cell_type": "markdown",
   "id": "c96618f6",
   "metadata": {},
   "source": [
    "## 7. Submit a Hyperparameter Tuning Job to Vertex AI\n",
    "\n",
    "For more information about configuring a hyperparameter study, refer to [Vertex AI Hyperparameter job configuration](https://cloud.google.com/vertex-ai/docs/training/using-hyperparameter-tuning)."
   ]
  },
  {
   "cell_type": "markdown",
   "id": "bc1b87cd",
   "metadata": {},
   "source": [
    "### Configure a hyperparameter job"
   ]
  },
  {
   "cell_type": "code",
   "execution_count": null,
   "id": "66ffa249",
   "metadata": {},
   "outputs": [],
   "source": [
    "metric_spec = {\n",
    "    'ACCURACY': 'maximize'\n",
    "}\n",
    "\n",
    "parameter_spec = {\n",
    "    'learning-rate': hp_tuning.DoubleParameterSpec(min=0.0001, max=0.01, scale='log'),\n",
    "    'hidden-units': hp_tuning.CategoricalParameterSpec(values=[\"32,32\", \"64,64\", \"128,128\"])\n",
    "}"
   ]
  },
  {
   "cell_type": "code",
   "execution_count": null,
   "id": "d2454dc5",
   "metadata": {},
   "outputs": [],
   "source": [
    "tuning_job_display_name = f\"hpt_{TRAINER_PACKAGE_NAME}_{run_id}\"\n",
    "\n",
    "hp_tuning_job = vertex_ai.HyperparameterTuningJob(\n",
    "    display_name=tuning_job_display_name,\n",
    "    custom_job=training_job,\n",
    "    metric_spec=metric_spec,\n",
    "    parameter_spec=parameter_spec,\n",
    "    max_trial_count=4,\n",
    "    parallel_trial_count=2,\n",
    "    search_algorithm=None # Bayesian optimization.\n",
    ")"
   ]
  },
  {
   "cell_type": "markdown",
   "id": "b8e4ee22",
   "metadata": {},
   "source": [
    "### Submit the hyperparameter tuning job"
   ]
  },
  {
   "cell_type": "code",
   "execution_count": null,
   "id": "dc5b434d",
   "metadata": {},
   "outputs": [],
   "source": [
    "print(\"Submitting a hyperparameter tunning job...\")\n",
    "\n",
    "# FIXME: HP tuning job says it has \"no managed dataset\"\n",
    "\n",
    "hp_tuning_job.run(\n",
    "    service_account=SERVICE_ACCOUNT,\n",
    "    tensorboard=tensorboard_resource_name,\n",
    "    restart_job_on_worker_restart=False,\n",
    "    sync=True,\n",
    ")"
   ]
  },
  {
   "cell_type": "markdown",
   "id": "c4fd20da",
   "metadata": {},
   "source": [
    "### Retrieve trial results"
   ]
  },
  {
   "cell_type": "code",
   "execution_count": null,
   "id": "3f8352e3",
   "metadata": {},
   "outputs": [],
   "source": [
    "hp_tuning_job.trials"
   ]
  },
  {
   "cell_type": "code",
   "execution_count": null,
   "id": "311922be",
   "metadata": {},
   "outputs": [],
   "source": [
    "best_trial = sorted(\n",
    "    hp_tuning_job.trials, \n",
    "    key=lambda trial: trial.final_measurement.metrics[0].value, \n",
    "    reverse=True\n",
    ")[0]\n",
    "\n",
    "print(\"Best trial ID:\", best_trial.id)\n",
    "print(\"Validation Accuracy:\", best_trial.final_measurement.metrics[0].value)\n",
    "print(\"Hyperparameter Values:\")\n",
    "for parameter in best_trial.parameters:\n",
    "    print(f\" - {parameter.parameter_id}:{parameter.value}\")"
   ]
  }
 ],
 "metadata": {
  "environment": {
   "kernel": "python3",
   "name": "tf2-gpu.2-8.m93",
   "type": "gcloud",
   "uri": "gcr.io/deeplearning-platform-release/tf2-gpu.2-8:m93"
  },
  "kernelspec": {
   "display_name": "Python 3",
   "language": "python",
   "name": "python3"
  },
  "language_info": {
   "codemirror_mode": {
    "name": "ipython",
    "version": 3
   },
   "file_extension": ".py",
   "mimetype": "text/x-python",
   "name": "python",
   "nbconvert_exporter": "python",
   "pygments_lexer": "ipython3",
   "version": "3.7.12"
  }
 },
 "nbformat": 4,
 "nbformat_minor": 5
}
