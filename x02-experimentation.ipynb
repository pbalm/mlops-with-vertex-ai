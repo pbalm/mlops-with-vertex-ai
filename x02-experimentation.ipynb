{
 "cells": [
  {
   "cell_type": "markdown",
   "id": "1eae86f7",
   "metadata": {},
   "source": [
    "# 02 - ML Experimentation with Custom Model\n",
    "\n",
    "The purpose of this notebook is to use [custom training](https://cloud.google.com/ai-platform-unified/docs/training/custom-training) to train a keras classifier to predict whether a given trip will result in a tip > 20%. The notebook covers the following tasks:\n",
    "1. Preprocess the data locally using Apache Beam.\n",
    "2. Train and test custom model locally using a Keras implementation.\n",
    "3. Submit a Dataflow job to preprocess the data at scale.\n",
    "4. Submit a custom training job to Vertex AI using a [pre-built container](https://cloud.google.com/ai-platform-unified/docs/training/pre-built-containers).\n",
    "5. Upload the trained model to Vertex AI.\n",
    "6. Track experiment parameters from [Vertex AI Metadata](https://cloud.google.com/vertex-ai/docs/ml-metadata/introduction).\n",
    "7. Submit a [hyperparameter tuning job](https://cloud.google.com/vertex-ai/docs/training/hyperparameter-tuning-overview) to Vertex AI.\n",
    "\n",
    "We use [Vertex TensorBoard](https://cloud.google.com/vertex-ai/docs/experiments/tensorboard-overview) \n",
    "and [Vertex ML Metadata](https://cloud.google.com/vertex-ai/docs/ml-metadata/introduction) to  track, visualize, and compare ML experiments."
   ]
  },
  {
   "cell_type": "markdown",
   "id": "b5205917",
   "metadata": {},
   "source": [
    "## Setup"
   ]
  },
  {
   "cell_type": "markdown",
   "id": "624c6cfe",
   "metadata": {},
   "source": [
    "### Import libraries"
   ]
  },
  {
   "cell_type": "code",
   "execution_count": 1,
   "id": "4171d42a",
   "metadata": {},
   "outputs": [
    {
     "name": "stdout",
     "output_type": "stream",
     "text": [
      "TensorFlow: 2.9.1\n",
      "TensorFlow Transform: 1.8.0\n"
     ]
    }
   ],
   "source": [
    "%load_ext autoreload\n",
    "%autoreload 2\n",
    "\n",
    "import os\n",
    "import logging\n",
    "from datetime import datetime\n",
    "import numpy as np\n",
    "\n",
    "import tensorflow as tf\n",
    "import tensorflow_transform as tft\n",
    "import tensorflow.keras as keras\n",
    "\n",
    "from google.cloud import aiplatform as vertex_ai\n",
    "from google.cloud.aiplatform import hyperparameter_tuning as hp_tuning\n",
    "\n",
    "from src.common import features, datasource_utils\n",
    "from src.model_training import data, model, defaults, trainer, exporter\n",
    "from src.preprocessing import etl\n",
    "\n",
    "logging.getLogger().setLevel(logging.INFO)\n",
    "tf.get_logger().setLevel('INFO')\n",
    "\n",
    "print(f\"TensorFlow: {tf.__version__}\")\n",
    "print(f\"TensorFlow Transform: {tft.__version__}\")"
   ]
  },
  {
   "cell_type": "markdown",
   "id": "fde361cf",
   "metadata": {},
   "source": [
    "### Setup Google Cloud project"
   ]
  },
  {
   "cell_type": "code",
   "execution_count": 71,
   "id": "31fce242",
   "metadata": {},
   "outputs": [
    {
     "name": "stdout",
     "output_type": "stream",
     "text": [
      "Project ID: cxb1-prj-test-no-vpcsc\n",
      "Region: europe-west1\n",
      "Bucket name: cxb1-prjtest-novpcsc-eu\n",
      "Service Account: sa-mlops@cxb1-prj-test-no-vpcsc.iam.gserviceaccount.com\n",
      "Vertex API Parent URI: projects/cxb1-prj-test-no-vpcsc/locations/europe-west1\n"
     ]
    }
   ],
   "source": [
    "PROJECT = 'cxb1-prj-test-no-vpcsc'\n",
    "REGION = 'europe-west1'\n",
    "BUCKET = 'cxb1-prjtest-novpcsc-eu'\n",
    "#SERVICE_ACCOUNT = \"1031952735253-compute@developer.gserviceaccount.com\" # GCE default SA\n",
    "SERVICE_ACCOUNT = \"sa-mlops@cxb1-prj-test-no-vpcsc.iam.gserviceaccount.com\"\n",
    "\n",
    "#SERVICE_ACCOUNT = \"\" # This will trigger use of user account\n",
    "\n",
    "if PROJECT == \"\" or PROJECT is None or PROJECT == \"[your-project-id]\":\n",
    "    # Get your GCP project id from gcloud\n",
    "    shell_output = !gcloud config list --format 'value(core.project)' 2>/dev/null\n",
    "    PROJECT = shell_output[0]\n",
    "    \n",
    "if SERVICE_ACCOUNT == \"\" or SERVICE_ACCOUNT is None or SERVICE_ACCOUNT == \"[your-service-account]\":\n",
    "    # Get your GCP project id from gcloud\n",
    "    shell_output = !gcloud config list --format 'value(core.account)' 2>/dev/null\n",
    "    SERVICE_ACCOUNT = shell_output[0]\n",
    "    \n",
    "if BUCKET == \"\" or BUCKET is None or BUCKET == \"[your-bucket-name]\":\n",
    "    # Get your bucket name to GCP projet id\n",
    "    BUCKET = PROJECT\n",
    "    # Try to create the bucket if it doesn'exists\n",
    "    ! gsutil mb -l $REGION gs://$BUCKET\n",
    "    print(\"\")\n",
    "    \n",
    "PARENT = f\"projects/{PROJECT}/locations/{REGION}\"\n",
    "    \n",
    "print(\"Project ID:\", PROJECT)\n",
    "print(\"Region:\", REGION)\n",
    "print(\"Bucket name:\", BUCKET)\n",
    "print(\"Service Account:\", SERVICE_ACCOUNT)\n",
    "print(\"Vertex API Parent URI:\", PARENT)"
   ]
  },
  {
   "cell_type": "markdown",
   "id": "26cfd33f",
   "metadata": {},
   "source": [
    "### Set configurations"
   ]
  },
  {
   "cell_type": "code",
   "execution_count": 72,
   "id": "b363e822",
   "metadata": {},
   "outputs": [],
   "source": [
    "VERSION = 'v01'\n",
    "VERTEX_DATASET_NAME = 'creditcards'\n",
    "\n",
    "MODEL_DISPLAY_NAME = f'{VERTEX_DATASET_NAME}-classifier-{VERSION}'\n",
    "\n",
    "WORKSPACE = f'gs://{BUCKET}/{VERTEX_DATASET_NAME}'\n",
    "EXPERIMENT_ARTIFACTS_DIR = os.path.join(WORKSPACE, 'experiments')\n",
    "RAW_SCHEMA_LOCATION = 'src/raw_schema/schema.pbtxt'\n",
    "\n",
    "TENSORBOARD_DISPLAY_NAME = f'tb-{VERTEX_DATASET_NAME}'\n",
    "EXPERIMENT_NAME = f'{MODEL_DISPLAY_NAME}'\n",
    "DATAFLOW_REGION = f'{REGION}'\n",
    "DATAFLOW_SERVICE_ACCOUNT = SERVICE_ACCOUNT\n",
    "DATAFLOW_SUBNETWORK = 'https://www.googleapis.com/compute/v1/projects/cxb1-prj-test-no-vpcsc/regions/europe-west1/subnetworks/default'\n",
    "\n",
    "if not REGION in DATAFLOW_SUBNETWORK:\n",
    "    raise Exception(f'{DATAFLOW_SUBNETWORK} is not a valid subnet for {REGION}')\n"
   ]
  },
  {
   "cell_type": "markdown",
   "id": "e2cf63d9",
   "metadata": {},
   "source": [
    "## Create Vertex TensorBoard instance "
   ]
  },
  {
   "cell_type": "code",
   "execution_count": 73,
   "id": "1cf8ef5c",
   "metadata": {},
   "outputs": [
    {
     "name": "stdout",
     "output_type": "stream",
     "text": [
      "Creating Tensorboard\n"
     ]
    },
    {
     "name": "stderr",
     "output_type": "stream",
     "text": [
      "INFO:google.cloud.aiplatform.tensorboard.tensorboard_resource:Creating Tensorboard\n"
     ]
    },
    {
     "name": "stdout",
     "output_type": "stream",
     "text": [
      "Create Tensorboard backing LRO: projects/1031952735253/locations/europe-west1/tensorboards/6677149397530181632/operations/8594400808232026112\n"
     ]
    },
    {
     "name": "stderr",
     "output_type": "stream",
     "text": [
      "INFO:google.cloud.aiplatform.tensorboard.tensorboard_resource:Create Tensorboard backing LRO: projects/1031952735253/locations/europe-west1/tensorboards/6677149397530181632/operations/8594400808232026112\n"
     ]
    },
    {
     "name": "stdout",
     "output_type": "stream",
     "text": [
      "Tensorboard created. Resource name: projects/1031952735253/locations/europe-west1/tensorboards/6677149397530181632\n"
     ]
    },
    {
     "name": "stderr",
     "output_type": "stream",
     "text": [
      "INFO:google.cloud.aiplatform.tensorboard.tensorboard_resource:Tensorboard created. Resource name: projects/1031952735253/locations/europe-west1/tensorboards/6677149397530181632\n"
     ]
    },
    {
     "name": "stdout",
     "output_type": "stream",
     "text": [
      "To use this Tensorboard in another session:\n"
     ]
    },
    {
     "name": "stderr",
     "output_type": "stream",
     "text": [
      "INFO:google.cloud.aiplatform.tensorboard.tensorboard_resource:To use this Tensorboard in another session:\n"
     ]
    },
    {
     "name": "stdout",
     "output_type": "stream",
     "text": [
      "tb = aiplatform.Tensorboard('projects/1031952735253/locations/europe-west1/tensorboards/6677149397530181632')\n"
     ]
    },
    {
     "name": "stderr",
     "output_type": "stream",
     "text": [
      "INFO:google.cloud.aiplatform.tensorboard.tensorboard_resource:tb = aiplatform.Tensorboard('projects/1031952735253/locations/europe-west1/tensorboards/6677149397530181632')\n"
     ]
    },
    {
     "name": "stdout",
     "output_type": "stream",
     "text": [
      "TensorBoard resource name: projects/1031952735253/locations/europe-west1/tensorboards/6677149397530181632\n"
     ]
    }
   ],
   "source": [
    "vertex_ai.init(location=REGION)\n",
    "tensorboard_resource = vertex_ai.Tensorboard.create(display_name=TENSORBOARD_DISPLAY_NAME)\n",
    "tensorboard_resource_name = tensorboard_resource.gca_resource.name\n",
    "print(\"TensorBoard resource name:\", tensorboard_resource_name)"
   ]
  },
  {
   "cell_type": "markdown",
   "id": "670a3859",
   "metadata": {},
   "source": [
    "## Initialize workspace"
   ]
  },
  {
   "cell_type": "code",
   "execution_count": 5,
   "id": "7d03fba1",
   "metadata": {},
   "outputs": [
    {
     "name": "stdout",
     "output_type": "stream",
     "text": [
      "Workspace is ready.\n",
      "Experiment directory: gs://cxb1-prjtest-novpcsc-eu/creditcards/experiments\n"
     ]
    }
   ],
   "source": [
    "REMOVE_EXPERIMENT_ARTIFACTS = False\n",
    "\n",
    "if tf.io.gfile.exists(EXPERIMENT_ARTIFACTS_DIR) and REMOVE_EXPERIMENT_ARTIFACTS:\n",
    "    print(\"Removing previous experiment artifacts...\")\n",
    "    tf.io.gfile.rmtree(EXPERIMENT_ARTIFACTS_DIR)\n",
    "\n",
    "if not tf.io.gfile.exists(EXPERIMENT_ARTIFACTS_DIR):\n",
    "    print(\"Creating new experiment artifacts directory...\")\n",
    "    tf.io.gfile.mkdir(EXPERIMENT_ARTIFACTS_DIR)\n",
    "\n",
    "print(\"Workspace is ready.\")\n",
    "print(\"Experiment directory:\", EXPERIMENT_ARTIFACTS_DIR)"
   ]
  },
  {
   "cell_type": "markdown",
   "id": "bd08e503",
   "metadata": {},
   "source": [
    "## Initialize Vertex AI experiment"
   ]
  },
  {
   "cell_type": "code",
   "execution_count": 6,
   "id": "f3aefc2c",
   "metadata": {},
   "outputs": [
    {
     "name": "stderr",
     "output_type": "stream",
     "text": [
      "INFO:root:Resource creditcards-classifier-v01-run-local-20220614103207 not found.\n",
      "INFO:root:Creating Resource creditcards-classifier-v01-run-local-20220614103207\n",
      "INFO:root:Resource creditcards-classifier-v01-run-local-20220614103207-metrics not found.\n",
      "INFO:root:Creating Resource creditcards-classifier-v01-run-local-20220614103207-metrics\n"
     ]
    },
    {
     "name": "stdout",
     "output_type": "stream",
     "text": [
      "Experiment run directory: gs://cxb1-prjtest-novpcsc-eu/creditcards/experiments/creditcards-classifier-v01/run-local-20220614103207\n"
     ]
    }
   ],
   "source": [
    "vertex_ai.init(\n",
    "    project=PROJECT,\n",
    "    location=REGION,\n",
    "    staging_bucket=BUCKET,\n",
    "    experiment=EXPERIMENT_NAME\n",
    ")\n",
    "\n",
    "run_id = f\"run-local-{datetime.now().strftime('%Y%m%d%H%M%S')}\"\n",
    "vertex_ai.start_run(run_id)\n",
    "\n",
    "EXPERIMENT_RUN_DIR = os.path.join(EXPERIMENT_ARTIFACTS_DIR, EXPERIMENT_NAME, run_id)\n",
    "print(\"Experiment run directory:\", EXPERIMENT_RUN_DIR)"
   ]
  },
  {
   "cell_type": "markdown",
   "id": "f9c8cee2",
   "metadata": {},
   "source": [
    "## 1. Preprocess the data using Apache Beam\n",
    "\n",
    "The Apache Beam pipeline of data preprocessing is implemented in the [preprocessing](src/preprocessing) directory."
   ]
  },
  {
   "cell_type": "code",
   "execution_count": 7,
   "id": "84a613a2",
   "metadata": {},
   "outputs": [],
   "source": [
    "EXPORTED_DATA_PREFIX = os.path.join(EXPERIMENT_RUN_DIR, 'exported_data')\n",
    "TRANSFORMED_DATA_PREFIX = os.path.join(EXPERIMENT_RUN_DIR, 'transformed_data')\n",
    "TRANSFORM_ARTIFACTS_DIR = os.path.join(EXPERIMENT_RUN_DIR, 'transform_artifacts')"
   ]
  },
  {
   "cell_type": "markdown",
   "id": "264b81f3",
   "metadata": {},
   "source": [
    "### Get Source Query from Managed Dataset"
   ]
  },
  {
   "cell_type": "code",
   "execution_count": 8,
   "id": "c9b8ad0f",
   "metadata": {},
   "outputs": [
    {
     "name": "stdout",
     "output_type": "stream",
     "text": [
      "\n",
      "    SELECT *\n",
      "    \n",
      "    EXCEPT (Time)\n",
      "    FROM vertex_eu.creditcards_ml \n",
      "    WHERE ML_use = 'UNASSIGNED'\n",
      "    LIMIT 5120\n"
     ]
    }
   ],
   "source": [
    "ML_USE = 'UNASSIGNED'\n",
    "LIMIT = 5120\n",
    "\n",
    "raw_data_query = datasource_utils.get_training_source_query(\n",
    "    project=PROJECT, \n",
    "    region=REGION, \n",
    "    dataset_display_name=VERTEX_DATASET_NAME, \n",
    "    ml_use=ML_USE, \n",
    "    limit=LIMIT\n",
    ")\n",
    "\n",
    "print(raw_data_query)"
   ]
  },
  {
   "cell_type": "markdown",
   "id": "6047eac1",
   "metadata": {},
   "source": [
    "### Test Data Preprocessing Locally"
   ]
  },
  {
   "cell_type": "code",
   "execution_count": 9,
   "id": "ac9b5b05",
   "metadata": {},
   "outputs": [],
   "source": [
    "args = {\n",
    "    'runner': 'DirectRunner',\n",
    "    'raw_data_query': raw_data_query,\n",
    "    'write_raw_data': True,\n",
    "    'exported_data_prefix': EXPORTED_DATA_PREFIX,\n",
    "    'transformed_data_prefix': TRANSFORMED_DATA_PREFIX,\n",
    "    'transform_artifact_dir': TRANSFORM_ARTIFACTS_DIR,\n",
    "    'temporary_dir': os.path.join(WORKSPACE, 'tmp'),\n",
    "    'gcs_location': f'gs://{BUCKET}/bq_tmp',\n",
    "    'project': PROJECT,\n",
    "    'region': REGION\n",
    "}"
   ]
  },
  {
   "cell_type": "code",
   "execution_count": 10,
   "id": "6c225f37",
   "metadata": {},
   "outputs": [],
   "source": [
    "vertex_ai.log_params(args)"
   ]
  },
  {
   "cell_type": "code",
   "execution_count": 11,
   "id": "56ece730",
   "metadata": {},
   "outputs": [
    {
     "name": "stdout",
     "output_type": "stream",
     "text": [
      "Data preprocessing started...\n"
     ]
    },
    {
     "name": "stderr",
     "output_type": "stream",
     "text": [
      "WARNING:apache_beam.runners.interactive.interactive_environment:Dependencies required for Interactive Beam PCollection visualization are not available, please use: `pip install apache-beam[interactive]` to install necessary dependencies to enable all data visualization features.\n"
     ]
    },
    {
     "data": {
      "application/javascript": [
       "\n",
       "        if (typeof window.interactive_beam_jquery == 'undefined') {\n",
       "          var jqueryScript = document.createElement('script');\n",
       "          jqueryScript.src = 'https://code.jquery.com/jquery-3.4.1.slim.min.js';\n",
       "          jqueryScript.type = 'text/javascript';\n",
       "          jqueryScript.onload = function() {\n",
       "            var datatableScript = document.createElement('script');\n",
       "            datatableScript.src = 'https://cdn.datatables.net/1.10.20/js/jquery.dataTables.min.js';\n",
       "            datatableScript.type = 'text/javascript';\n",
       "            datatableScript.onload = function() {\n",
       "              window.interactive_beam_jquery = jQuery.noConflict(true);\n",
       "              window.interactive_beam_jquery(document).ready(function($){\n",
       "                \n",
       "              });\n",
       "            }\n",
       "            document.head.appendChild(datatableScript);\n",
       "          };\n",
       "          document.head.appendChild(jqueryScript);\n",
       "        } else {\n",
       "          window.interactive_beam_jquery(document).ready(function($){\n",
       "            \n",
       "          });\n",
       "        }"
      ]
     },
     "metadata": {},
     "output_type": "display_data"
    },
    {
     "name": "stdout",
     "output_type": "stream",
     "text": [
      "WARNING:tensorflow:You are passing instance dicts and DatasetMetadata to TFT which will not provide optimal performance. Consider following the TFT guide to upgrade to the TFXIO format (Apache Arrow RecordBatch).\n"
     ]
    },
    {
     "name": "stderr",
     "output_type": "stream",
     "text": [
      "/home/jupyter/.local/lib/python3.7/site-packages/apache_beam/io/gcp/bigquery.py:2471: BeamDeprecationWarning: options is deprecated since First stable release. References to <pipeline>.options will not be supported\n",
      "  temp_location = pcoll.pipeline.options.view_as(\n",
      "WARNING:tensorflow:You are passing instance dicts and DatasetMetadata to TFT which will not provide optimal performance. Consider following the TFT guide to upgrade to the TFXIO format (Apache Arrow RecordBatch).\n",
      "INFO:absl:Feature Amount has a shape dim {\n",
      "  size: 1\n",
      "}\n",
      ". Setting to DenseTensor.\n",
      "INFO:absl:Feature Class has a shape dim {\n",
      "  size: 1\n",
      "}\n",
      ". Setting to DenseTensor.\n",
      "INFO:absl:Feature V1 has a shape dim {\n",
      "  size: 1\n",
      "}\n",
      ". Setting to DenseTensor.\n",
      "INFO:absl:Feature V10 has a shape dim {\n",
      "  size: 1\n",
      "}\n",
      ". Setting to DenseTensor.\n",
      "INFO:absl:Feature V11 has a shape dim {\n",
      "  size: 1\n",
      "}\n",
      ". Setting to DenseTensor.\n",
      "INFO:absl:Feature V12 has a shape dim {\n",
      "  size: 1\n",
      "}\n",
      ". Setting to DenseTensor.\n",
      "INFO:absl:Feature V13 has a shape dim {\n",
      "  size: 1\n",
      "}\n",
      ". Setting to DenseTensor.\n",
      "INFO:absl:Feature V14 has a shape dim {\n",
      "  size: 1\n",
      "}\n",
      ". Setting to DenseTensor.\n",
      "INFO:absl:Feature V15 has a shape dim {\n",
      "  size: 1\n",
      "}\n",
      ". Setting to DenseTensor.\n",
      "INFO:absl:Feature V16 has a shape dim {\n",
      "  size: 1\n",
      "}\n",
      ". Setting to DenseTensor.\n",
      "INFO:absl:Feature V17 has a shape dim {\n",
      "  size: 1\n",
      "}\n",
      ". Setting to DenseTensor.\n",
      "INFO:absl:Feature V18 has a shape dim {\n",
      "  size: 1\n",
      "}\n",
      ". Setting to DenseTensor.\n",
      "INFO:absl:Feature V19 has a shape dim {\n",
      "  size: 1\n",
      "}\n",
      ". Setting to DenseTensor.\n",
      "INFO:absl:Feature V2 has a shape dim {\n",
      "  size: 1\n",
      "}\n",
      ". Setting to DenseTensor.\n",
      "INFO:absl:Feature V20 has a shape dim {\n",
      "  size: 1\n",
      "}\n",
      ". Setting to DenseTensor.\n",
      "INFO:absl:Feature V21 has a shape dim {\n",
      "  size: 1\n",
      "}\n",
      ". Setting to DenseTensor.\n",
      "INFO:absl:Feature V22 has a shape dim {\n",
      "  size: 1\n",
      "}\n",
      ". Setting to DenseTensor.\n",
      "INFO:absl:Feature V23 has a shape dim {\n",
      "  size: 1\n",
      "}\n",
      ". Setting to DenseTensor.\n",
      "INFO:absl:Feature V24 has a shape dim {\n",
      "  size: 1\n",
      "}\n",
      ". Setting to DenseTensor.\n",
      "INFO:absl:Feature V25 has a shape dim {\n",
      "  size: 1\n",
      "}\n",
      ". Setting to DenseTensor.\n",
      "INFO:absl:Feature V26 has a shape dim {\n",
      "  size: 1\n",
      "}\n",
      ". Setting to DenseTensor.\n",
      "INFO:absl:Feature V27 has a shape dim {\n",
      "  size: 1\n",
      "}\n",
      ". Setting to DenseTensor.\n",
      "INFO:absl:Feature V28 has a shape dim {\n",
      "  size: 1\n",
      "}\n",
      ". Setting to DenseTensor.\n",
      "INFO:absl:Feature V3 has a shape dim {\n",
      "  size: 1\n",
      "}\n",
      ". Setting to DenseTensor.\n",
      "INFO:absl:Feature V4 has a shape dim {\n",
      "  size: 1\n",
      "}\n",
      ". Setting to DenseTensor.\n",
      "INFO:absl:Feature V5 has a shape dim {\n",
      "  size: 1\n",
      "}\n",
      ". Setting to DenseTensor.\n",
      "INFO:absl:Feature V6 has a shape dim {\n",
      "  size: 1\n",
      "}\n",
      ". Setting to DenseTensor.\n",
      "INFO:absl:Feature V7 has a shape dim {\n",
      "  size: 1\n",
      "}\n",
      ". Setting to DenseTensor.\n",
      "INFO:absl:Feature V8 has a shape dim {\n",
      "  size: 1\n",
      "}\n",
      ". Setting to DenseTensor.\n",
      "INFO:absl:Feature V9 has a shape dim {\n",
      "  size: 1\n",
      "}\n",
      ". Setting to DenseTensor.\n"
     ]
    },
    {
     "name": "stdout",
     "output_type": "stream",
     "text": [
      "WARNING:tensorflow:From /opt/conda/lib/python3.7/site-packages/tensorflow_transform/tf_utils.py:326: Tensor.experimental_ref (from tensorflow.python.framework.ops) is deprecated and will be removed in a future version.\n",
      "Instructions for updating:\n",
      "Use ref() instead.\n"
     ]
    },
    {
     "name": "stderr",
     "output_type": "stream",
     "text": [
      "2022-06-14 10:32:20.423889: W tensorflow/stream_executor/platform/default/dso_loader.cc:64] Could not load dynamic library 'libcuda.so.1'; dlerror: libcuda.so.1: cannot open shared object file: No such file or directory; LD_LIBRARY_PATH: /usr/local/cuda/lib64:/usr/local/cuda/lib:/usr/local/lib/x86_64-linux-gnu:/usr/local/nvidia/lib:/usr/local/nvidia/lib64:/usr/local/nvidia/lib:/usr/local/nvidia/lib64\n",
      "2022-06-14 10:32:20.423940: W tensorflow/stream_executor/cuda/cuda_driver.cc:269] failed call to cuInit: UNKNOWN ERROR (303)\n",
      "2022-06-14 10:32:20.423969: I tensorflow/stream_executor/cuda/cuda_diagnostics.cc:156] kernel driver does not appear to be running on this host (0a9000f0cf2b): /proc/driver/nvidia/version does not exist\n",
      "2022-06-14 10:32:20.439615: I tensorflow/core/platform/cpu_feature_guard.cc:193] This TensorFlow binary is optimized with oneAPI Deep Neural Network Library (oneDNN) to use the following CPU instructions in performance-critical operations:  AVX2 FMA\n",
      "To enable them in other operations, rebuild TensorFlow with the appropriate compiler flags.\n",
      "WARNING:tensorflow:From /opt/conda/lib/python3.7/site-packages/tensorflow_transform/tf_utils.py:326: Tensor.experimental_ref (from tensorflow.python.framework.ops) is deprecated and will be removed in a future version.\n",
      "Instructions for updating:\n",
      "Use ref() instead.\n"
     ]
    },
    {
     "name": "stdout",
     "output_type": "stream",
     "text": [
      "WARNING:tensorflow:You are passing instance dicts and DatasetMetadata to TFT which will not provide optimal performance. Consider following the TFT guide to upgrade to the TFXIO format (Apache Arrow RecordBatch).\n"
     ]
    },
    {
     "name": "stderr",
     "output_type": "stream",
     "text": [
      "WARNING:tensorflow:You are passing instance dicts and DatasetMetadata to TFT which will not provide optimal performance. Consider following the TFT guide to upgrade to the TFXIO format (Apache Arrow RecordBatch).\n",
      "INFO:absl:Feature Amount has a shape dim {\n",
      "  size: 1\n",
      "}\n",
      ". Setting to DenseTensor.\n",
      "INFO:absl:Feature Class has a shape dim {\n",
      "  size: 1\n",
      "}\n",
      ". Setting to DenseTensor.\n",
      "INFO:absl:Feature V1 has a shape dim {\n",
      "  size: 1\n",
      "}\n",
      ". Setting to DenseTensor.\n",
      "INFO:absl:Feature V10 has a shape dim {\n",
      "  size: 1\n",
      "}\n",
      ". Setting to DenseTensor.\n",
      "INFO:absl:Feature V11 has a shape dim {\n",
      "  size: 1\n",
      "}\n",
      ". Setting to DenseTensor.\n",
      "INFO:absl:Feature V12 has a shape dim {\n",
      "  size: 1\n",
      "}\n",
      ". Setting to DenseTensor.\n",
      "INFO:absl:Feature V13 has a shape dim {\n",
      "  size: 1\n",
      "}\n",
      ". Setting to DenseTensor.\n",
      "INFO:absl:Feature V14 has a shape dim {\n",
      "  size: 1\n",
      "}\n",
      ". Setting to DenseTensor.\n",
      "INFO:absl:Feature V15 has a shape dim {\n",
      "  size: 1\n",
      "}\n",
      ". Setting to DenseTensor.\n",
      "INFO:absl:Feature V16 has a shape dim {\n",
      "  size: 1\n",
      "}\n",
      ". Setting to DenseTensor.\n",
      "INFO:absl:Feature V17 has a shape dim {\n",
      "  size: 1\n",
      "}\n",
      ". Setting to DenseTensor.\n",
      "INFO:absl:Feature V18 has a shape dim {\n",
      "  size: 1\n",
      "}\n",
      ". Setting to DenseTensor.\n",
      "INFO:absl:Feature V19 has a shape dim {\n",
      "  size: 1\n",
      "}\n",
      ". Setting to DenseTensor.\n",
      "INFO:absl:Feature V2 has a shape dim {\n",
      "  size: 1\n",
      "}\n",
      ". Setting to DenseTensor.\n",
      "INFO:absl:Feature V20 has a shape dim {\n",
      "  size: 1\n",
      "}\n",
      ". Setting to DenseTensor.\n",
      "INFO:absl:Feature V21 has a shape dim {\n",
      "  size: 1\n",
      "}\n",
      ". Setting to DenseTensor.\n",
      "INFO:absl:Feature V22 has a shape dim {\n",
      "  size: 1\n",
      "}\n",
      ". Setting to DenseTensor.\n",
      "INFO:absl:Feature V23 has a shape dim {\n",
      "  size: 1\n",
      "}\n",
      ". Setting to DenseTensor.\n",
      "INFO:absl:Feature V24 has a shape dim {\n",
      "  size: 1\n",
      "}\n",
      ". Setting to DenseTensor.\n",
      "INFO:absl:Feature V25 has a shape dim {\n",
      "  size: 1\n",
      "}\n",
      ". Setting to DenseTensor.\n",
      "INFO:absl:Feature V26 has a shape dim {\n",
      "  size: 1\n",
      "}\n",
      ". Setting to DenseTensor.\n",
      "INFO:absl:Feature V27 has a shape dim {\n",
      "  size: 1\n",
      "}\n",
      ". Setting to DenseTensor.\n",
      "INFO:absl:Feature V28 has a shape dim {\n",
      "  size: 1\n",
      "}\n",
      ". Setting to DenseTensor.\n",
      "INFO:absl:Feature V3 has a shape dim {\n",
      "  size: 1\n",
      "}\n",
      ". Setting to DenseTensor.\n",
      "INFO:absl:Feature V4 has a shape dim {\n",
      "  size: 1\n",
      "}\n",
      ". Setting to DenseTensor.\n",
      "INFO:absl:Feature V5 has a shape dim {\n",
      "  size: 1\n",
      "}\n",
      ". Setting to DenseTensor.\n",
      "INFO:absl:Feature V6 has a shape dim {\n",
      "  size: 1\n",
      "}\n",
      ". Setting to DenseTensor.\n",
      "INFO:absl:Feature V7 has a shape dim {\n",
      "  size: 1\n",
      "}\n",
      ". Setting to DenseTensor.\n",
      "INFO:absl:Feature V8 has a shape dim {\n",
      "  size: 1\n",
      "}\n",
      ". Setting to DenseTensor.\n",
      "INFO:absl:Feature V9 has a shape dim {\n",
      "  size: 1\n",
      "}\n",
      ". Setting to DenseTensor.\n"
     ]
    },
    {
     "name": "stdout",
     "output_type": "stream",
     "text": [
      "WARNING:tensorflow:You are passing instance dicts and DatasetMetadata to TFT which will not provide optimal performance. Consider following the TFT guide to upgrade to the TFXIO format (Apache Arrow RecordBatch).\n"
     ]
    },
    {
     "name": "stderr",
     "output_type": "stream",
     "text": [
      "WARNING:tensorflow:You are passing instance dicts and DatasetMetadata to TFT which will not provide optimal performance. Consider following the TFT guide to upgrade to the TFXIO format (Apache Arrow RecordBatch).\n",
      "INFO:absl:Feature Amount has a shape dim {\n",
      "  size: 1\n",
      "}\n",
      ". Setting to DenseTensor.\n",
      "INFO:absl:Feature Class has a shape dim {\n",
      "  size: 1\n",
      "}\n",
      ". Setting to DenseTensor.\n",
      "INFO:absl:Feature V1 has a shape dim {\n",
      "  size: 1\n",
      "}\n",
      ". Setting to DenseTensor.\n",
      "INFO:absl:Feature V10 has a shape dim {\n",
      "  size: 1\n",
      "}\n",
      ". Setting to DenseTensor.\n",
      "INFO:absl:Feature V11 has a shape dim {\n",
      "  size: 1\n",
      "}\n",
      ". Setting to DenseTensor.\n",
      "INFO:absl:Feature V12 has a shape dim {\n",
      "  size: 1\n",
      "}\n",
      ". Setting to DenseTensor.\n",
      "INFO:absl:Feature V13 has a shape dim {\n",
      "  size: 1\n",
      "}\n",
      ". Setting to DenseTensor.\n",
      "INFO:absl:Feature V14 has a shape dim {\n",
      "  size: 1\n",
      "}\n",
      ". Setting to DenseTensor.\n",
      "INFO:absl:Feature V15 has a shape dim {\n",
      "  size: 1\n",
      "}\n",
      ". Setting to DenseTensor.\n",
      "INFO:absl:Feature V16 has a shape dim {\n",
      "  size: 1\n",
      "}\n",
      ". Setting to DenseTensor.\n",
      "INFO:absl:Feature V17 has a shape dim {\n",
      "  size: 1\n",
      "}\n",
      ". Setting to DenseTensor.\n",
      "INFO:absl:Feature V18 has a shape dim {\n",
      "  size: 1\n",
      "}\n",
      ". Setting to DenseTensor.\n",
      "INFO:absl:Feature V19 has a shape dim {\n",
      "  size: 1\n",
      "}\n",
      ". Setting to DenseTensor.\n",
      "INFO:absl:Feature V2 has a shape dim {\n",
      "  size: 1\n",
      "}\n",
      ". Setting to DenseTensor.\n",
      "INFO:absl:Feature V20 has a shape dim {\n",
      "  size: 1\n",
      "}\n",
      ". Setting to DenseTensor.\n",
      "INFO:absl:Feature V21 has a shape dim {\n",
      "  size: 1\n",
      "}\n",
      ". Setting to DenseTensor.\n",
      "INFO:absl:Feature V22 has a shape dim {\n",
      "  size: 1\n",
      "}\n",
      ". Setting to DenseTensor.\n",
      "INFO:absl:Feature V23 has a shape dim {\n",
      "  size: 1\n",
      "}\n",
      ". Setting to DenseTensor.\n",
      "INFO:absl:Feature V24 has a shape dim {\n",
      "  size: 1\n",
      "}\n",
      ". Setting to DenseTensor.\n",
      "INFO:absl:Feature V25 has a shape dim {\n",
      "  size: 1\n",
      "}\n",
      ". Setting to DenseTensor.\n",
      "INFO:absl:Feature V26 has a shape dim {\n",
      "  size: 1\n",
      "}\n",
      ". Setting to DenseTensor.\n",
      "INFO:absl:Feature V27 has a shape dim {\n",
      "  size: 1\n",
      "}\n",
      ". Setting to DenseTensor.\n",
      "INFO:absl:Feature V28 has a shape dim {\n",
      "  size: 1\n",
      "}\n",
      ". Setting to DenseTensor.\n",
      "INFO:absl:Feature V3 has a shape dim {\n",
      "  size: 1\n",
      "}\n",
      ". Setting to DenseTensor.\n",
      "INFO:absl:Feature V4 has a shape dim {\n",
      "  size: 1\n",
      "}\n",
      ". Setting to DenseTensor.\n",
      "INFO:absl:Feature V5 has a shape dim {\n",
      "  size: 1\n",
      "}\n",
      ". Setting to DenseTensor.\n",
      "INFO:absl:Feature V6 has a shape dim {\n",
      "  size: 1\n",
      "}\n",
      ". Setting to DenseTensor.\n",
      "INFO:absl:Feature V7 has a shape dim {\n",
      "  size: 1\n",
      "}\n",
      ". Setting to DenseTensor.\n",
      "INFO:absl:Feature V8 has a shape dim {\n",
      "  size: 1\n",
      "}\n",
      ". Setting to DenseTensor.\n",
      "INFO:absl:Feature V9 has a shape dim {\n",
      "  size: 1\n",
      "}\n",
      ". Setting to DenseTensor.\n",
      "WARNING:apache_beam.options.pipeline_options:Discarding invalid overrides: {'raw_data_query': \"\\n    SELECT *\\n    \\n    EXCEPT (Time)\\n    FROM vertex_eu.creditcards_ml \\n    WHERE ML_use = 'UNASSIGNED'\\n    LIMIT 5120\", 'write_raw_data': True, 'exported_data_prefix': 'gs://cxb1-prjtest-novpcsc-eu/creditcards/experiments/creditcards-classifier-v01/run-local-20220614103207/exported_data', 'transformed_data_prefix': 'gs://cxb1-prjtest-novpcsc-eu/creditcards/experiments/creditcards-classifier-v01/run-local-20220614103207/transformed_data', 'transform_artifact_dir': 'gs://cxb1-prjtest-novpcsc-eu/creditcards/experiments/creditcards-classifier-v01/run-local-20220614103207/transform_artifacts', 'temporary_dir': 'gs://cxb1-prjtest-novpcsc-eu/creditcards/tmp', 'gcs_location': 'gs://cxb1-prjtest-novpcsc-eu/bq_tmp'}\n",
      "WARNING:root:Make sure that locally built Python SDK docker image has Python 3.7 interpreter.\n",
      "INFO:root:Default Python SDK image for environment is apache/beam_python3.7_sdk:2.39.0\n",
      "INFO:apache_beam.runners.portability.fn_api_runner.translations:==================== <function annotate_downstream_side_inputs at 0x7fa6e2e3ca70> ====================\n",
      "INFO:apache_beam.runners.portability.fn_api_runner.translations:==================== <function fix_side_input_pcoll_coders at 0x7fa6e2e3cb90> ====================\n",
      "INFO:apache_beam.runners.portability.fn_api_runner.translations:==================== <function pack_combiners at 0x7fa6e2e400e0> ====================\n",
      "INFO:apache_beam.runners.portability.fn_api_runner.translations:==================== <function lift_combiners at 0x7fa6e2e40170> ====================\n",
      "INFO:apache_beam.runners.portability.fn_api_runner.translations:==================== <function expand_sdf at 0x7fa6e2e40320> ====================\n",
      "INFO:apache_beam.runners.portability.fn_api_runner.translations:==================== <function expand_gbk at 0x7fa6e2e403b0> ====================\n",
      "INFO:apache_beam.runners.portability.fn_api_runner.translations:==================== <function sink_flattens at 0x7fa6e2e404d0> ====================\n",
      "INFO:apache_beam.runners.portability.fn_api_runner.translations:==================== <function greedily_fuse at 0x7fa6e2e40560> ====================\n",
      "INFO:apache_beam.runners.portability.fn_api_runner.translations:==================== <function read_to_impulse at 0x7fa6e2e405f0> ====================\n",
      "INFO:apache_beam.runners.portability.fn_api_runner.translations:==================== <function impulse_to_input at 0x7fa6e2e40680> ====================\n",
      "INFO:apache_beam.runners.portability.fn_api_runner.translations:==================== <function sort_stages at 0x7fa6e2e408c0> ====================\n",
      "INFO:apache_beam.runners.portability.fn_api_runner.translations:==================== <function add_impulse_to_dangling_transforms at 0x7fa6e2e409e0> ====================\n",
      "INFO:apache_beam.runners.portability.fn_api_runner.translations:==================== <function setup_timer_mapping at 0x7fa6e2e40830> ====================\n",
      "INFO:apache_beam.runners.portability.fn_api_runner.translations:==================== <function populate_data_channel_coders at 0x7fa6e2e40950> ====================\n",
      "INFO:apache_beam.runners.worker.statecache:Creating state cache with size 100\n",
      "INFO:apache_beam.runners.portability.fn_api_runner.worker_handlers:Created Worker handler <apache_beam.runners.portability.fn_api_runner.worker_handlers.EmbeddedWorkerHandler object at 0x7fa6b9fa3dd0> for environment ref_Environment_default_environment_1 (beam:env:embedded_python:v1, b'')\n",
      "INFO:apache_beam.internal.gcp.auth:Setting socket default timeout to 60 seconds.\n",
      "INFO:apache_beam.internal.gcp.auth:socket default timeout is 60.0 seconds.\n",
      "INFO:apache_beam.io.gcp.bigquery_tools:Started BigQuery job: <JobReference\n",
      " location: 'EU'\n",
      " projectId: 'cxb1-prj-test-no-vpcsc'>\n",
      " bq show -j --format=prettyjson --project_id=cxb1-prj-test-no-vpcsc None\n",
      "INFO:apache_beam.io.gcp.bigquery_tools:Using location 'EU' from table <TableReference\n",
      " datasetId: 'vertex_eu'\n",
      " projectId: 'cxb1-prj-test-no-vpcsc'\n",
      " tableId: 'creditcards_ml'> referenced by query \n",
      "    SELECT *\n",
      "    \n",
      "    EXCEPT (Time)\n",
      "    FROM vertex_eu.creditcards_ml \n",
      "    WHERE ML_use = 'UNASSIGNED'\n",
      "    LIMIT 5120\n",
      "WARNING:apache_beam.io.gcp.bigquery_tools:Dataset cxb1-prj-test-no-vpcsc:beam_temp_dataset_f885af9831d3408d8517254a765c086c does not exist so we will create it as temporary with location=EU\n",
      "INFO:apache_beam.io.gcp.bigquery_tools:Started BigQuery job: <JobReference\n",
      " jobId: 'beam_bq_job_QUERY_BQ_EXPORT_JOB_0a0676f7-c_1655202756_547'\n",
      " location: 'EU'\n",
      " projectId: 'cxb1-prj-test-no-vpcsc'>\n",
      " bq show -j --format=prettyjson --project_id=cxb1-prj-test-no-vpcsc beam_bq_job_QUERY_BQ_EXPORT_JOB_0a0676f7-c_1655202756_547\n",
      "INFO:root:Job status: RUNNING\n",
      "INFO:root:Job status: DONE\n",
      "INFO:apache_beam.io.gcp.bigquery_tools:Started BigQuery job: <JobReference\n",
      " jobId: 'beam_bq_job_EXPORT_BQ_EXPORT_JOB_0a0676f7-c_1655202761_222'\n",
      " location: 'EU'\n",
      " projectId: 'cxb1-prj-test-no-vpcsc'>\n",
      " bq show -j --format=prettyjson --project_id=cxb1-prj-test-no-vpcsc beam_bq_job_EXPORT_BQ_EXPORT_JOB_0a0676f7-c_1655202761_222\n",
      "INFO:root:Job status: RUNNING\n",
      "INFO:root:Job status: DONE\n",
      "INFO:apache_beam.io.gcp.gcsio:Starting the file information of the input\n",
      "INFO:apache_beam.io.gcp.gcsio:Finished listing 1 files in 0.05476641654968262 seconds.\n"
     ]
    },
    {
     "name": "stdout",
     "output_type": "stream",
     "text": [
      "INFO:tensorflow:Assets written to: gs://cxb1-prjtest-novpcsc-eu/creditcards/tmp/tftransform_tmp/b1e65fa90592474492c7dd4d864ce9ab/assets\n"
     ]
    },
    {
     "name": "stderr",
     "output_type": "stream",
     "text": [
      "INFO:tensorflow:Assets written to: gs://cxb1-prjtest-novpcsc-eu/creditcards/tmp/tftransform_tmp/b1e65fa90592474492c7dd4d864ce9ab/assets\n"
     ]
    },
    {
     "name": "stdout",
     "output_type": "stream",
     "text": [
      "INFO:tensorflow:struct2tensor is not available.\n"
     ]
    },
    {
     "name": "stderr",
     "output_type": "stream",
     "text": [
      "INFO:tensorflow:struct2tensor is not available.\n"
     ]
    },
    {
     "name": "stdout",
     "output_type": "stream",
     "text": [
      "INFO:tensorflow:tensorflow_decision_forests is not available.\n"
     ]
    },
    {
     "name": "stderr",
     "output_type": "stream",
     "text": [
      "INFO:tensorflow:tensorflow_decision_forests is not available.\n"
     ]
    },
    {
     "name": "stdout",
     "output_type": "stream",
     "text": [
      "INFO:tensorflow:tensorflow_text is not available.\n"
     ]
    },
    {
     "name": "stderr",
     "output_type": "stream",
     "text": [
      "INFO:tensorflow:tensorflow_text is not available.\n",
      "WARNING:apache_beam.io.tfrecordio:Couldn't find python-snappy so the implementation of _TFRecordUtil._masked_crc32c is not as fast as it could be.\n",
      "INFO:apache_beam.io.gcp.gcsio:Starting the file information of the input\n",
      "INFO:apache_beam.io.gcp.gcsio:Finished listing 1 files in 0.05279898643493652 seconds.\n",
      "INFO:apache_beam.io.gcp.gcsio:Starting the file information of the input\n",
      "INFO:apache_beam.io.gcp.gcsio:Finished listing 0 files in 0.04757952690124512 seconds.\n",
      "INFO:apache_beam.io.gcp.gcsio:Starting the file information of the input\n",
      "INFO:apache_beam.io.gcp.gcsio:Finished listing 1 files in 0.06498146057128906 seconds.\n",
      "INFO:apache_beam.io.gcp.gcsio:Starting the file information of the input\n",
      "INFO:apache_beam.io.gcp.gcsio:Finished listing 0 files in 0.04844045639038086 seconds.\n",
      "INFO:apache_beam.io.filebasedsink:Starting finalize_write threads with num_shards: 1 (skipped: 0), batches: 1, num_threads: 1\n",
      "INFO:apache_beam.io.filebasedsink:Renamed 1 shards in 0.40 seconds.\n"
     ]
    },
    {
     "name": "stdout",
     "output_type": "stream",
     "text": [
      "INFO:tensorflow:Assets written to: gs://cxb1-prjtest-novpcsc-eu/creditcards/tmp/tftransform_tmp/46fb2949f4de4c8b9f3341072adf291a/assets\n"
     ]
    },
    {
     "name": "stderr",
     "output_type": "stream",
     "text": [
      "INFO:tensorflow:Assets written to: gs://cxb1-prjtest-novpcsc-eu/creditcards/tmp/tftransform_tmp/46fb2949f4de4c8b9f3341072adf291a/assets\n"
     ]
    },
    {
     "name": "stdout",
     "output_type": "stream",
     "text": [
      "INFO:tensorflow:struct2tensor is not available.\n"
     ]
    },
    {
     "name": "stderr",
     "output_type": "stream",
     "text": [
      "INFO:tensorflow:struct2tensor is not available.\n"
     ]
    },
    {
     "name": "stdout",
     "output_type": "stream",
     "text": [
      "INFO:tensorflow:tensorflow_decision_forests is not available.\n"
     ]
    },
    {
     "name": "stderr",
     "output_type": "stream",
     "text": [
      "INFO:tensorflow:tensorflow_decision_forests is not available.\n"
     ]
    },
    {
     "name": "stdout",
     "output_type": "stream",
     "text": [
      "INFO:tensorflow:tensorflow_text is not available.\n"
     ]
    },
    {
     "name": "stderr",
     "output_type": "stream",
     "text": [
      "INFO:tensorflow:tensorflow_text is not available.\n"
     ]
    },
    {
     "name": "stdout",
     "output_type": "stream",
     "text": [
      "INFO:tensorflow:struct2tensor is not available.\n"
     ]
    },
    {
     "name": "stderr",
     "output_type": "stream",
     "text": [
      "INFO:tensorflow:struct2tensor is not available.\n"
     ]
    },
    {
     "name": "stdout",
     "output_type": "stream",
     "text": [
      "INFO:tensorflow:tensorflow_decision_forests is not available.\n"
     ]
    },
    {
     "name": "stderr",
     "output_type": "stream",
     "text": [
      "INFO:tensorflow:tensorflow_decision_forests is not available.\n"
     ]
    },
    {
     "name": "stdout",
     "output_type": "stream",
     "text": [
      "INFO:tensorflow:tensorflow_text is not available.\n"
     ]
    },
    {
     "name": "stderr",
     "output_type": "stream",
     "text": [
      "INFO:tensorflow:tensorflow_text is not available.\n",
      "INFO:apache_beam.io.gcp.gcsio:Starting the file information of the input\n",
      "INFO:apache_beam.io.gcp.gcsio:Finished listing 0 files in 0.05330014228820801 seconds.\n",
      "INFO:apache_beam.io.gcp.gcsio:Starting the file information of the input\n",
      "INFO:apache_beam.io.gcp.gcsio:Finished listing 0 files in 0.049700260162353516 seconds.\n",
      "INFO:apache_beam.io.gcp.gcsio:Starting the file information of the input\n",
      "INFO:apache_beam.io.gcp.gcsio:Finished listing 1 files in 0.08015084266662598 seconds.\n",
      "INFO:apache_beam.io.gcp.gcsio:Starting the file information of the input\n",
      "INFO:apache_beam.io.gcp.gcsio:Finished listing 0 files in 0.049607276916503906 seconds.\n",
      "INFO:apache_beam.io.filebasedsink:Starting finalize_write threads with num_shards: 1 (skipped: 0), batches: 1, num_threads: 1\n",
      "INFO:apache_beam.io.filebasedsink:Renamed 1 shards in 0.30 seconds.\n",
      "INFO:apache_beam.io.gcp.gcsio:Starting the file information of the input\n",
      "INFO:apache_beam.io.gcp.gcsio:Finished listing 1 files in 0.040544748306274414 seconds.\n",
      "INFO:apache_beam.io.gcp.gcsio:Starting the file information of the input\n",
      "INFO:apache_beam.io.gcp.gcsio:Finished listing 0 files in 0.04745030403137207 seconds.\n",
      "INFO:apache_beam.io.filebasedsink:Starting finalize_write threads with num_shards: 1 (skipped: 0), batches: 1, num_threads: 1\n",
      "INFO:apache_beam.io.filebasedsink:Renamed 1 shards in 0.30 seconds.\n"
     ]
    },
    {
     "name": "stdout",
     "output_type": "stream",
     "text": [
      "Data preprocessing completed.\n"
     ]
    }
   ],
   "source": [
    "print(\"Data preprocessing started...\")\n",
    "etl.run_transform_pipeline(args)\n",
    "print(\"Data preprocessing completed.\")"
   ]
  },
  {
   "cell_type": "code",
   "execution_count": 12,
   "id": "a10911e3",
   "metadata": {},
   "outputs": [
    {
     "name": "stdout",
     "output_type": "stream",
     "text": [
      "gs://cxb1-prjtest-novpcsc-eu/creditcards/experiments/creditcards-classifier-v01/run-local-20220614103207/exported_data/\n",
      "gs://cxb1-prjtest-novpcsc-eu/creditcards/experiments/creditcards-classifier-v01/run-local-20220614103207/transform_artifacts/\n",
      "gs://cxb1-prjtest-novpcsc-eu/creditcards/experiments/creditcards-classifier-v01/run-local-20220614103207/transformed_data/\n"
     ]
    }
   ],
   "source": [
    "!gsutil ls {EXPERIMENT_RUN_DIR}"
   ]
  },
  {
   "cell_type": "markdown",
   "id": "74d252ab",
   "metadata": {},
   "source": [
    "## 2. Train a custom model locally using a Keras\n",
    "\n",
    "The `Keras` implementation of the custom model is in the [model_training](src/model_training) directory."
   ]
  },
  {
   "cell_type": "code",
   "execution_count": 13,
   "id": "c59f7710",
   "metadata": {},
   "outputs": [],
   "source": [
    "LOG_DIR = os.path.join(EXPERIMENT_RUN_DIR, 'logs')\n",
    "EXPORT_DIR = os.path.join(EXPERIMENT_RUN_DIR, 'model')"
   ]
  },
  {
   "cell_type": "markdown",
   "id": "7a212f14",
   "metadata": {},
   "source": [
    "### Read transformed data"
   ]
  },
  {
   "cell_type": "code",
   "execution_count": 14,
   "id": "204c8580",
   "metadata": {},
   "outputs": [
    {
     "data": {
      "text/plain": [
       "{'Amount': FixedLenFeature(shape=[1], dtype=tf.float32, default_value=None),\n",
       " 'Class': FixedLenFeature(shape=[1], dtype=tf.float32, default_value=None),\n",
       " 'V1': FixedLenFeature(shape=[1], dtype=tf.float32, default_value=None),\n",
       " 'V10': FixedLenFeature(shape=[1], dtype=tf.float32, default_value=None),\n",
       " 'V11': FixedLenFeature(shape=[1], dtype=tf.float32, default_value=None),\n",
       " 'V12': FixedLenFeature(shape=[1], dtype=tf.float32, default_value=None),\n",
       " 'V13': FixedLenFeature(shape=[1], dtype=tf.float32, default_value=None),\n",
       " 'V14': FixedLenFeature(shape=[1], dtype=tf.float32, default_value=None),\n",
       " 'V15': FixedLenFeature(shape=[1], dtype=tf.float32, default_value=None),\n",
       " 'V16': FixedLenFeature(shape=[1], dtype=tf.float32, default_value=None),\n",
       " 'V17': FixedLenFeature(shape=[1], dtype=tf.float32, default_value=None),\n",
       " 'V18': FixedLenFeature(shape=[1], dtype=tf.float32, default_value=None),\n",
       " 'V19': FixedLenFeature(shape=[1], dtype=tf.float32, default_value=None),\n",
       " 'V2': FixedLenFeature(shape=[1], dtype=tf.float32, default_value=None),\n",
       " 'V20': FixedLenFeature(shape=[1], dtype=tf.float32, default_value=None),\n",
       " 'V21': FixedLenFeature(shape=[1], dtype=tf.float32, default_value=None),\n",
       " 'V22': FixedLenFeature(shape=[1], dtype=tf.float32, default_value=None),\n",
       " 'V23': FixedLenFeature(shape=[1], dtype=tf.float32, default_value=None),\n",
       " 'V24': FixedLenFeature(shape=[1], dtype=tf.float32, default_value=None),\n",
       " 'V25': FixedLenFeature(shape=[1], dtype=tf.float32, default_value=None),\n",
       " 'V26': FixedLenFeature(shape=[1], dtype=tf.float32, default_value=None),\n",
       " 'V27': FixedLenFeature(shape=[1], dtype=tf.float32, default_value=None),\n",
       " 'V28': FixedLenFeature(shape=[1], dtype=tf.float32, default_value=None),\n",
       " 'V3': FixedLenFeature(shape=[1], dtype=tf.float32, default_value=None),\n",
       " 'V4': FixedLenFeature(shape=[1], dtype=tf.float32, default_value=None),\n",
       " 'V5': FixedLenFeature(shape=[1], dtype=tf.float32, default_value=None),\n",
       " 'V6': FixedLenFeature(shape=[1], dtype=tf.float32, default_value=None),\n",
       " 'V7': FixedLenFeature(shape=[1], dtype=tf.float32, default_value=None),\n",
       " 'V8': FixedLenFeature(shape=[1], dtype=tf.float32, default_value=None),\n",
       " 'V9': FixedLenFeature(shape=[1], dtype=tf.float32, default_value=None)}"
      ]
     },
     "execution_count": 14,
     "metadata": {},
     "output_type": "execute_result"
    }
   ],
   "source": [
    "tft_output = tft.TFTransformOutput(TRANSFORM_ARTIFACTS_DIR)\n",
    "transform_feature_spec = tft_output.transformed_feature_spec()\n",
    "transform_feature_spec"
   ]
  },
  {
   "cell_type": "code",
   "execution_count": 15,
   "id": "1918a86e-4210-4919-b79b-22b997a9fb76",
   "metadata": {},
   "outputs": [
    {
     "data": {
      "text/plain": [
       "'gs://cxb1-prjtest-novpcsc-eu/creditcards/experiments/creditcards-classifier-v01/run-local-20220614103207/transformed_data/train/data-*.gz'"
      ]
     },
     "execution_count": 15,
     "metadata": {},
     "output_type": "execute_result"
    }
   ],
   "source": [
    "train_data_file_pattern = os.path.join(TRANSFORMED_DATA_PREFIX,'train/data-*.gz')\n",
    "eval_data_file_pattern = os.path.join(TRANSFORMED_DATA_PREFIX,'eval/data-*.gz')\n",
    "\n",
    "train_data_file_pattern"
   ]
  },
  {
   "cell_type": "code",
   "execution_count": 16,
   "id": "0802ce3a",
   "metadata": {},
   "outputs": [
    {
     "name": "stdout",
     "output_type": "stream",
     "text": [
      "Amount <dtype: 'float32'>: [[0.18339350819587708], [0.6776819229125977], [-1.2994717359542847]]\n",
      "V1 <dtype: 'float32'>: [[0.9435696005821228], [0.9422594308853149], [0.8476203083992004]]\n",
      "V10 <dtype: 'float32'>: [[0.5243829488754272], [0.524871826171875], [0.5132873058319092]]\n",
      "V11 <dtype: 'float32'>: [[0.5014089345932007], [0.29430142045021057], [0.16038183867931366]]\n",
      "V12 <dtype: 'float32'>: [[0.6665526032447815], [0.8722473978996277], [0.7931715846061707]]\n",
      "V13 <dtype: 'float32'>: [[0.6060424447059631], [0.685398280620575], [0.46244877576828003]]\n",
      "V14 <dtype: 'float32'>: [[0.828169047832489], [0.7080541849136353], [0.737675130367279]]\n",
      "V15 <dtype: 'float32'>: [[0.5169124007225037], [0.5872588157653809], [0.53821861743927]]\n",
      "V16 <dtype: 'float32'>: [[0.8064317107200623], [0.7624224424362183], [0.7560499906539917]]\n",
      "V17 <dtype: 'float32'>: [[0.7668066620826721], [0.7560155987739563], [0.7438029050827026]]\n",
      "V18 <dtype: 'float32'>: [[0.736179530620575], [0.6116686463356018], [0.6550773978233337]]\n",
      "V19 <dtype: 'float32'>: [[0.5341950058937073], [0.5346192121505737], [0.5514095425605774]]\n",
      "V2 <dtype: 'float32'>: [[0.7722655534744263], [0.7743790149688721], [0.788574755191803]]\n",
      "V20 <dtype: 'float32'>: [[0.556664764881134], [0.5675206780433655], [0.5354885458946228]]\n",
      "V21 <dtype: 'float32'>: [[0.4097840189933777], [0.40683913230895996], [0.4102252721786499]]\n",
      "V22 <dtype: 'float32'>: [[0.5064783692359924], [0.47854018211364746], [0.5167844295501709]]\n",
      "V23 <dtype: 'float32'>: [[0.6642401218414307], [0.6688459515571594], [0.6731119751930237]]\n",
      "V24 <dtype: 'float32'>: [[0.3486707806587219], [0.42265358567237854], [0.21972763538360596]]\n",
      "V25 <dtype: 'float32'>: [[0.6405439376831055], [0.6438245177268982], [0.574026882648468]]\n",
      "V26 <dtype: 'float32'>: [[0.5238035917282104], [0.39648157358169556], [0.2664007246494293]]\n",
      "V27 <dtype: 'float32'>: [[0.5534675121307373], [0.5620501637458801], [0.5238246917724609]]\n",
      "V28 <dtype: 'float32'>: [[0.355017751455307], [0.3604084551334381], [0.30987778306007385]]\n",
      "V3 <dtype: 'float32'>: [[0.7723657488822937], [0.791729211807251], [0.7186608910560608]]\n",
      "V4 <dtype: 'float32'>: [[0.3269708752632141], [0.3505943715572357], [0.24715843796730042]]\n",
      "V5 <dtype: 'float32'>: [[0.34736210107803345], [0.33849748969078064], [0.4045780599117279]]\n",
      "V6 <dtype: 'float32'>: [[0.6132432818412781], [0.5997630953788757], [0.5941385626792908]]\n",
      "V7 <dtype: 'float32'>: [[0.8150888085365295], [0.8292030096054077], [0.8778319358825684]]\n",
      "V8 <dtype: 'float32'>: [[0.790783166885376], [0.7876303195953369], [0.7911425232887268]]\n",
      "V9 <dtype: 'float32'>: [[0.5580478310585022], [0.4891255497932434], [0.488622784614563]]\n",
      "target: [[0.0], [0.0], [0.0]]\n"
     ]
    }
   ],
   "source": [
    "for input_features, target in data.get_dataset(train_data_file_pattern, transform_feature_spec, batch_size=3).take(1):\n",
    "    for key in input_features:\n",
    "        print(f\"{key} {input_features[key].dtype}: {input_features[key].numpy().tolist()}\")\n",
    "    print(f\"target: {target.numpy().tolist()}\")"
   ]
  },
  {
   "cell_type": "markdown",
   "id": "d0f363d4",
   "metadata": {},
   "source": [
    "### Create hyperparameters"
   ]
  },
  {
   "cell_type": "code",
   "execution_count": 17,
   "id": "b4fced82",
   "metadata": {},
   "outputs": [
    {
     "data": {
      "text/plain": [
       "{'hidden_units': [64, 32],\n",
       " 'learning_rate': 0.0001,\n",
       " 'batch_size': 512,\n",
       " 'num_epochs': 10}"
      ]
     },
     "execution_count": 17,
     "metadata": {},
     "output_type": "execute_result"
    }
   ],
   "source": [
    "hyperparams = {\n",
    "    \"hidden_units\": [64, 32]\n",
    "}\n",
    "\n",
    "hyperparams = defaults.update_hyperparams(hyperparams)\n",
    "hyperparams"
   ]
  },
  {
   "cell_type": "markdown",
   "id": "3c17b65e",
   "metadata": {},
   "source": [
    "### Create and test model inputs and outputs"
   ]
  },
  {
   "cell_type": "code",
   "execution_count": 18,
   "id": "a05b0f63",
   "metadata": {},
   "outputs": [
    {
     "name": "stderr",
     "output_type": "stream",
     "text": [
      "INFO:root:Model: \"model\"\n",
      "INFO:root:__________________________________________________________________________________________________\n",
      "INFO:root: Layer (type)                   Output Shape         Param #     Connected to                     \n",
      "INFO:root:==================================================================================================\n",
      "INFO:root: Amount (InputLayer)            [(None, 1)]          0           []                               \n",
      "INFO:root:                                                                                                  \n",
      "INFO:root: V1 (InputLayer)                [(None, 1)]          0           []                               \n",
      "INFO:root:                                                                                                  \n",
      "INFO:root: V10 (InputLayer)               [(None, 1)]          0           []                               \n",
      "INFO:root:                                                                                                  \n",
      "INFO:root: V11 (InputLayer)               [(None, 1)]          0           []                               \n",
      "INFO:root:                                                                                                  \n",
      "INFO:root: V12 (InputLayer)               [(None, 1)]          0           []                               \n",
      "INFO:root:                                                                                                  \n",
      "INFO:root: V13 (InputLayer)               [(None, 1)]          0           []                               \n",
      "INFO:root:                                                                                                  \n",
      "INFO:root: V14 (InputLayer)               [(None, 1)]          0           []                               \n",
      "INFO:root:                                                                                                  \n",
      "INFO:root: V15 (InputLayer)               [(None, 1)]          0           []                               \n",
      "INFO:root:                                                                                                  \n",
      "INFO:root: V16 (InputLayer)               [(None, 1)]          0           []                               \n",
      "INFO:root:                                                                                                  \n",
      "INFO:root: V17 (InputLayer)               [(None, 1)]          0           []                               \n",
      "INFO:root:                                                                                                  \n",
      "INFO:root: V18 (InputLayer)               [(None, 1)]          0           []                               \n",
      "INFO:root:                                                                                                  \n",
      "INFO:root: V19 (InputLayer)               [(None, 1)]          0           []                               \n",
      "INFO:root:                                                                                                  \n",
      "INFO:root: V2 (InputLayer)                [(None, 1)]          0           []                               \n",
      "INFO:root:                                                                                                  \n",
      "INFO:root: V20 (InputLayer)               [(None, 1)]          0           []                               \n",
      "INFO:root:                                                                                                  \n",
      "INFO:root: V21 (InputLayer)               [(None, 1)]          0           []                               \n",
      "INFO:root:                                                                                                  \n",
      "INFO:root: V22 (InputLayer)               [(None, 1)]          0           []                               \n",
      "INFO:root:                                                                                                  \n",
      "INFO:root: V23 (InputLayer)               [(None, 1)]          0           []                               \n",
      "INFO:root:                                                                                                  \n",
      "INFO:root: V24 (InputLayer)               [(None, 1)]          0           []                               \n",
      "INFO:root:                                                                                                  \n",
      "INFO:root: V25 (InputLayer)               [(None, 1)]          0           []                               \n",
      "INFO:root:                                                                                                  \n",
      "INFO:root: V26 (InputLayer)               [(None, 1)]          0           []                               \n",
      "INFO:root:                                                                                                  \n",
      "INFO:root: V27 (InputLayer)               [(None, 1)]          0           []                               \n",
      "INFO:root:                                                                                                  \n",
      "INFO:root: V28 (InputLayer)               [(None, 1)]          0           []                               \n",
      "INFO:root:                                                                                                  \n",
      "INFO:root: V3 (InputLayer)                [(None, 1)]          0           []                               \n",
      "INFO:root:                                                                                                  \n",
      "INFO:root: V4 (InputLayer)                [(None, 1)]          0           []                               \n",
      "INFO:root:                                                                                                  \n",
      "INFO:root: V5 (InputLayer)                [(None, 1)]          0           []                               \n",
      "INFO:root:                                                                                                  \n",
      "INFO:root: V6 (InputLayer)                [(None, 1)]          0           []                               \n",
      "INFO:root:                                                                                                  \n",
      "INFO:root: V7 (InputLayer)                [(None, 1)]          0           []                               \n",
      "INFO:root:                                                                                                  \n",
      "INFO:root: V8 (InputLayer)                [(None, 1)]          0           []                               \n",
      "INFO:root:                                                                                                  \n",
      "INFO:root: V9 (InputLayer)                [(None, 1)]          0           []                               \n",
      "INFO:root:                                                                                                  \n",
      "INFO:root: concatenate (Concatenate)      (None, 29)           0           ['Amount[0][0]',                 \n",
      "INFO:root:                                                                  'V1[0][0]',                     \n",
      "INFO:root:                                                                  'V10[0][0]',                    \n",
      "INFO:root:                                                                  'V11[0][0]',                    \n",
      "INFO:root:                                                                  'V12[0][0]',                    \n",
      "INFO:root:                                                                  'V13[0][0]',                    \n",
      "INFO:root:                                                                  'V14[0][0]',                    \n",
      "INFO:root:                                                                  'V15[0][0]',                    \n",
      "INFO:root:                                                                  'V16[0][0]',                    \n",
      "INFO:root:                                                                  'V17[0][0]',                    \n",
      "INFO:root:                                                                  'V18[0][0]',                    \n",
      "INFO:root:                                                                  'V19[0][0]',                    \n",
      "INFO:root:                                                                  'V2[0][0]',                     \n",
      "INFO:root:                                                                  'V20[0][0]',                    \n",
      "INFO:root:                                                                  'V21[0][0]',                    \n",
      "INFO:root:                                                                  'V22[0][0]',                    \n",
      "INFO:root:                                                                  'V23[0][0]',                    \n",
      "INFO:root:                                                                  'V24[0][0]',                    \n",
      "INFO:root:                                                                  'V25[0][0]',                    \n",
      "INFO:root:                                                                  'V26[0][0]',                    \n",
      "INFO:root:                                                                  'V27[0][0]',                    \n",
      "INFO:root:                                                                  'V28[0][0]',                    \n",
      "INFO:root:                                                                  'V3[0][0]',                     \n",
      "INFO:root:                                                                  'V4[0][0]',                     \n",
      "INFO:root:                                                                  'V5[0][0]',                     \n",
      "INFO:root:                                                                  'V6[0][0]',                     \n",
      "INFO:root:                                                                  'V7[0][0]',                     \n",
      "INFO:root:                                                                  'V8[0][0]',                     \n",
      "INFO:root:                                                                  'V9[0][0]']                     \n",
      "INFO:root:                                                                                                  \n",
      "INFO:root: dense (Dense)                  (None, 64)           1920        ['concatenate[0][0]']            \n",
      "INFO:root:                                                                                                  \n",
      "INFO:root: dense_1 (Dense)                (None, 32)           2080        ['dense[0][0]']                  \n",
      "INFO:root:                                                                                                  \n",
      "INFO:root: dense_2 (Dense)                (None, 1)            33          ['dense_1[0][0]']                \n",
      "INFO:root:                                                                                                  \n",
      "INFO:root:==================================================================================================\n",
      "INFO:root:Total params: 4,033\n",
      "INFO:root:Trainable params: 4,033\n",
      "INFO:root:Non-trainable params: 0\n",
      "INFO:root:__________________________________________________________________________________________________\n"
     ]
    }
   ],
   "source": [
    "classifier = model.create_model(transform_feature_spec.keys(), hyperparams)"
   ]
  },
  {
   "cell_type": "code",
   "execution_count": 19,
   "id": "ad4d33eb",
   "metadata": {},
   "outputs": [
    {
     "data": {
      "image/png": "[encoded data removed]",
      "text/plain": [
       "<IPython.core.display.Image object>"
      ]
     },
     "execution_count": 19,
     "metadata": {},
     "output_type": "execute_result"
    }
   ],
   "source": [
    "keras.utils.plot_model(\n",
    "    classifier, \n",
    "    show_shapes=True, \n",
    "    show_dtype=True\n",
    ")"
   ]
  },
  {
   "cell_type": "code",
   "execution_count": 20,
   "id": "f06e056e",
   "metadata": {},
   "outputs": [
    {
     "data": {
      "text/plain": [
       "<tf.Tensor: shape=(3, 1), dtype=float32, numpy=\n",
       "array([[0.4170205 ],\n",
       "       [0.434174  ],\n",
       "       [0.43848538]], dtype=float32)>"
      ]
     },
     "execution_count": 20,
     "metadata": {},
     "output_type": "execute_result"
    }
   ],
   "source": [
    "classifier(input_features)"
   ]
  },
  {
   "cell_type": "code",
   "execution_count": 21,
   "id": "22116478-ed67-486c-b6d0-e1f98745c1cb",
   "metadata": {},
   "outputs": [
    {
     "data": {
      "text/plain": [
       "{'Amount': <tf.Tensor: shape=(3, 1), dtype=float32, numpy=\n",
       " array([[ 0.18339351],\n",
       "        [ 0.6776819 ],\n",
       "        [-1.2994717 ]], dtype=float32)>,\n",
       " 'V1': <tf.Tensor: shape=(3, 1), dtype=float32, numpy=\n",
       " array([[0.9435696 ],\n",
       "        [0.94225943],\n",
       "        [0.8476203 ]], dtype=float32)>,\n",
       " 'V10': <tf.Tensor: shape=(3, 1), dtype=float32, numpy=\n",
       " array([[0.52438295],\n",
       "        [0.5248718 ],\n",
       "        [0.5132873 ]], dtype=float32)>,\n",
       " 'V11': <tf.Tensor: shape=(3, 1), dtype=float32, numpy=\n",
       " array([[0.50140893],\n",
       "        [0.29430142],\n",
       "        [0.16038184]], dtype=float32)>,\n",
       " 'V12': <tf.Tensor: shape=(3, 1), dtype=float32, numpy=\n",
       " array([[0.6665526],\n",
       "        [0.8722474],\n",
       "        [0.7931716]], dtype=float32)>,\n",
       " 'V13': <tf.Tensor: shape=(3, 1), dtype=float32, numpy=\n",
       " array([[0.60604244],\n",
       "        [0.6853983 ],\n",
       "        [0.46244878]], dtype=float32)>,\n",
       " 'V14': <tf.Tensor: shape=(3, 1), dtype=float32, numpy=\n",
       " array([[0.82816905],\n",
       "        [0.7080542 ],\n",
       "        [0.73767513]], dtype=float32)>,\n",
       " 'V15': <tf.Tensor: shape=(3, 1), dtype=float32, numpy=\n",
       " array([[0.5169124],\n",
       "        [0.5872588],\n",
       "        [0.5382186]], dtype=float32)>,\n",
       " 'V16': <tf.Tensor: shape=(3, 1), dtype=float32, numpy=\n",
       " array([[0.8064317 ],\n",
       "        [0.76242244],\n",
       "        [0.75605   ]], dtype=float32)>,\n",
       " 'V17': <tf.Tensor: shape=(3, 1), dtype=float32, numpy=\n",
       " array([[0.76680666],\n",
       "        [0.7560156 ],\n",
       "        [0.7438029 ]], dtype=float32)>,\n",
       " 'V18': <tf.Tensor: shape=(3, 1), dtype=float32, numpy=\n",
       " array([[0.73617953],\n",
       "        [0.61166865],\n",
       "        [0.6550774 ]], dtype=float32)>,\n",
       " 'V19': <tf.Tensor: shape=(3, 1), dtype=float32, numpy=\n",
       " array([[0.534195  ],\n",
       "        [0.5346192 ],\n",
       "        [0.55140954]], dtype=float32)>,\n",
       " 'V2': <tf.Tensor: shape=(3, 1), dtype=float32, numpy=\n",
       " array([[0.77226555],\n",
       "        [0.774379  ],\n",
       "        [0.78857476]], dtype=float32)>,\n",
       " 'V20': <tf.Tensor: shape=(3, 1), dtype=float32, numpy=\n",
       " array([[0.55666476],\n",
       "        [0.5675207 ],\n",
       "        [0.53548855]], dtype=float32)>,\n",
       " 'V21': <tf.Tensor: shape=(3, 1), dtype=float32, numpy=\n",
       " array([[0.40978402],\n",
       "        [0.40683913],\n",
       "        [0.41022527]], dtype=float32)>,\n",
       " 'V22': <tf.Tensor: shape=(3, 1), dtype=float32, numpy=\n",
       " array([[0.50647837],\n",
       "        [0.47854018],\n",
       "        [0.5167844 ]], dtype=float32)>,\n",
       " 'V23': <tf.Tensor: shape=(3, 1), dtype=float32, numpy=\n",
       " array([[0.6642401 ],\n",
       "        [0.66884595],\n",
       "        [0.673112  ]], dtype=float32)>,\n",
       " 'V24': <tf.Tensor: shape=(3, 1), dtype=float32, numpy=\n",
       " array([[0.34867078],\n",
       "        [0.4226536 ],\n",
       "        [0.21972764]], dtype=float32)>,\n",
       " 'V25': <tf.Tensor: shape=(3, 1), dtype=float32, numpy=\n",
       " array([[0.64054394],\n",
       "        [0.6438245 ],\n",
       "        [0.5740269 ]], dtype=float32)>,\n",
       " 'V26': <tf.Tensor: shape=(3, 1), dtype=float32, numpy=\n",
       " array([[0.5238036 ],\n",
       "        [0.39648157],\n",
       "        [0.26640072]], dtype=float32)>,\n",
       " 'V27': <tf.Tensor: shape=(3, 1), dtype=float32, numpy=\n",
       " array([[0.5534675 ],\n",
       "        [0.56205016],\n",
       "        [0.5238247 ]], dtype=float32)>,\n",
       " 'V28': <tf.Tensor: shape=(3, 1), dtype=float32, numpy=\n",
       " array([[0.35501775],\n",
       "        [0.36040846],\n",
       "        [0.30987778]], dtype=float32)>,\n",
       " 'V3': <tf.Tensor: shape=(3, 1), dtype=float32, numpy=\n",
       " array([[0.77236575],\n",
       "        [0.7917292 ],\n",
       "        [0.7186609 ]], dtype=float32)>,\n",
       " 'V4': <tf.Tensor: shape=(3, 1), dtype=float32, numpy=\n",
       " array([[0.32697088],\n",
       "        [0.35059437],\n",
       "        [0.24715844]], dtype=float32)>,\n",
       " 'V5': <tf.Tensor: shape=(3, 1), dtype=float32, numpy=\n",
       " array([[0.3473621 ],\n",
       "        [0.3384975 ],\n",
       "        [0.40457806]], dtype=float32)>,\n",
       " 'V6': <tf.Tensor: shape=(3, 1), dtype=float32, numpy=\n",
       " array([[0.6132433 ],\n",
       "        [0.5997631 ],\n",
       "        [0.59413856]], dtype=float32)>,\n",
       " 'V7': <tf.Tensor: shape=(3, 1), dtype=float32, numpy=\n",
       " array([[0.8150888 ],\n",
       "        [0.829203  ],\n",
       "        [0.87783194]], dtype=float32)>,\n",
       " 'V8': <tf.Tensor: shape=(3, 1), dtype=float32, numpy=\n",
       " array([[0.79078317],\n",
       "        [0.7876303 ],\n",
       "        [0.7911425 ]], dtype=float32)>,\n",
       " 'V9': <tf.Tensor: shape=(3, 1), dtype=float32, numpy=\n",
       " array([[0.55804783],\n",
       "        [0.48912555],\n",
       "        [0.48862278]], dtype=float32)>}"
      ]
     },
     "execution_count": 21,
     "metadata": {},
     "output_type": "execute_result"
    }
   ],
   "source": [
    "input_features"
   ]
  },
  {
   "cell_type": "markdown",
   "id": "1d451ef7",
   "metadata": {},
   "source": [
    "### Train the model locally."
   ]
  },
  {
   "cell_type": "code",
   "execution_count": 74,
   "id": "153efc48",
   "metadata": {},
   "outputs": [
    {
     "ename": "ValueError",
     "evalue": "No experiment set. Make sure to call aiplatform.init(experiment='my-experiment') before trying to log_params. ",
     "output_type": "error",
     "traceback": [
      "\u001b[0;31m---------------------------------------------------------------------------\u001b[0m",
      "\u001b[0;31mValueError\u001b[0m                                Traceback (most recent call last)",
      "\u001b[0;32m/tmp/ipykernel_1/37128649.py\u001b[0m in \u001b[0;36m<module>\u001b[0;34m\u001b[0m\n\u001b[1;32m      5\u001b[0m \u001b[0mhyperparams\u001b[0m\u001b[0;34m[\u001b[0m\u001b[0;34m\"batch_size\"\u001b[0m\u001b[0;34m]\u001b[0m \u001b[0;34m=\u001b[0m \u001b[0;36m512\u001b[0m\u001b[0;34m\u001b[0m\u001b[0;34m\u001b[0m\u001b[0m\n\u001b[1;32m      6\u001b[0m \u001b[0;34m\u001b[0m\u001b[0m\n\u001b[0;32m----> 7\u001b[0;31m \u001b[0mvertex_ai\u001b[0m\u001b[0;34m.\u001b[0m\u001b[0mlog_params\u001b[0m\u001b[0;34m(\u001b[0m\u001b[0mhyperparams\u001b[0m\u001b[0;34m)\u001b[0m\u001b[0;34m\u001b[0m\u001b[0;34m\u001b[0m\u001b[0m\n\u001b[0m",
      "\u001b[0;32m/opt/conda/lib/python3.7/site-packages/google/cloud/aiplatform/metadata/metadata.py\u001b[0m in \u001b[0;36mlog_params\u001b[0;34m(self, params)\u001b[0m\n\u001b[1;32m    142\u001b[0m         \"\"\"\n\u001b[1;32m    143\u001b[0m \u001b[0;34m\u001b[0m\u001b[0m\n\u001b[0;32m--> 144\u001b[0;31m         \u001b[0mself\u001b[0m\u001b[0;34m.\u001b[0m\u001b[0m_validate_experiment_and_run\u001b[0m\u001b[0;34m(\u001b[0m\u001b[0mmethod_name\u001b[0m\u001b[0;34m=\u001b[0m\u001b[0;34m\"log_params\"\u001b[0m\u001b[0;34m)\u001b[0m\u001b[0;34m\u001b[0m\u001b[0;34m\u001b[0m\u001b[0m\n\u001b[0m\u001b[1;32m    145\u001b[0m         \u001b[0;31m# query the latest run execution resource before logging.\u001b[0m\u001b[0;34m\u001b[0m\u001b[0;34m\u001b[0m\u001b[0;34m\u001b[0m\u001b[0m\n\u001b[1;32m    146\u001b[0m         execution = _Execution.get_or_create(\n",
      "\u001b[0;32m/opt/conda/lib/python3.7/site-packages/google/cloud/aiplatform/metadata/metadata.py\u001b[0m in \u001b[0;36m_validate_experiment_and_run\u001b[0;34m(self, method_name)\u001b[0m\n\u001b[1;32m    252\u001b[0m         \u001b[0;32mif\u001b[0m \u001b[0;32mnot\u001b[0m \u001b[0mself\u001b[0m\u001b[0;34m.\u001b[0m\u001b[0m_experiment\u001b[0m\u001b[0;34m:\u001b[0m\u001b[0;34m\u001b[0m\u001b[0;34m\u001b[0m\u001b[0m\n\u001b[1;32m    253\u001b[0m             raise ValueError(\n\u001b[0;32m--> 254\u001b[0;31m                 \u001b[0;34mf\"No experiment set. Make sure to call aiplatform.init(experiment='my-experiment') \"\u001b[0m\u001b[0;34m\u001b[0m\u001b[0;34m\u001b[0m\u001b[0m\n\u001b[0m\u001b[1;32m    255\u001b[0m                 \u001b[0;34mf\"before trying to {method_name}. \"\u001b[0m\u001b[0;34m\u001b[0m\u001b[0;34m\u001b[0m\u001b[0m\n\u001b[1;32m    256\u001b[0m             )\n",
      "\u001b[0;31mValueError\u001b[0m: No experiment set. Make sure to call aiplatform.init(experiment='my-experiment') before trying to log_params. "
     ]
    }
   ],
   "source": [
    "logging.getLogger().setLevel(logging.INFO)\n",
    "\n",
    "hyperparams[\"learning_rate\"] = 0.001\n",
    "hyperparams[\"num_epochs\"] = 5\n",
    "hyperparams[\"batch_size\"] = 512\n",
    "\n",
    "vertex_ai.log_params(hyperparams)"
   ]
  },
  {
   "cell_type": "code",
   "execution_count": 23,
   "id": "a91c4924",
   "metadata": {},
   "outputs": [
    {
     "name": "stderr",
     "output_type": "stream",
     "text": [
      "INFO:root:Loading tft output from gs://cxb1-prjtest-novpcsc-eu/creditcards/experiments/creditcards-classifier-v01/run-local-20220614103207/transform_artifacts\n",
      "INFO:root:Model: \"model_1\"\n",
      "INFO:root:__________________________________________________________________________________________________\n",
      "INFO:root: Layer (type)                   Output Shape         Param #     Connected to                     \n",
      "INFO:root:==================================================================================================\n",
      "INFO:root: Amount (InputLayer)            [(None, 1)]          0           []                               \n",
      "INFO:root:                                                                                                  \n",
      "INFO:root: V1 (InputLayer)                [(None, 1)]          0           []                               \n",
      "INFO:root:                                                                                                  \n",
      "INFO:root: V10 (InputLayer)               [(None, 1)]          0           []                               \n",
      "INFO:root:                                                                                                  \n",
      "INFO:root: V11 (InputLayer)               [(None, 1)]          0           []                               \n",
      "INFO:root:                                                                                                  \n",
      "INFO:root: V12 (InputLayer)               [(None, 1)]          0           []                               \n",
      "INFO:root:                                                                                                  \n",
      "INFO:root: V13 (InputLayer)               [(None, 1)]          0           []                               \n",
      "INFO:root:                                                                                                  \n",
      "INFO:root: V14 (InputLayer)               [(None, 1)]          0           []                               \n",
      "INFO:root:                                                                                                  \n",
      "INFO:root: V15 (InputLayer)               [(None, 1)]          0           []                               \n",
      "INFO:root:                                                                                                  \n",
      "INFO:root: V16 (InputLayer)               [(None, 1)]          0           []                               \n",
      "INFO:root:                                                                                                  \n",
      "INFO:root: V17 (InputLayer)               [(None, 1)]          0           []                               \n",
      "INFO:root:                                                                                                  \n",
      "INFO:root: V18 (InputLayer)               [(None, 1)]          0           []                               \n",
      "INFO:root:                                                                                                  \n",
      "INFO:root: V19 (InputLayer)               [(None, 1)]          0           []                               \n",
      "INFO:root:                                                                                                  \n",
      "INFO:root: V2 (InputLayer)                [(None, 1)]          0           []                               \n",
      "INFO:root:                                                                                                  \n",
      "INFO:root: V20 (InputLayer)               [(None, 1)]          0           []                               \n",
      "INFO:root:                                                                                                  \n",
      "INFO:root: V21 (InputLayer)               [(None, 1)]          0           []                               \n",
      "INFO:root:                                                                                                  \n",
      "INFO:root: V22 (InputLayer)               [(None, 1)]          0           []                               \n",
      "INFO:root:                                                                                                  \n",
      "INFO:root: V23 (InputLayer)               [(None, 1)]          0           []                               \n",
      "INFO:root:                                                                                                  \n",
      "INFO:root: V24 (InputLayer)               [(None, 1)]          0           []                               \n",
      "INFO:root:                                                                                                  \n",
      "INFO:root: V25 (InputLayer)               [(None, 1)]          0           []                               \n",
      "INFO:root:                                                                                                  \n",
      "INFO:root: V26 (InputLayer)               [(None, 1)]          0           []                               \n",
      "INFO:root:                                                                                                  \n",
      "INFO:root: V27 (InputLayer)               [(None, 1)]          0           []                               \n",
      "INFO:root:                                                                                                  \n",
      "INFO:root: V28 (InputLayer)               [(None, 1)]          0           []                               \n",
      "INFO:root:                                                                                                  \n",
      "INFO:root: V3 (InputLayer)                [(None, 1)]          0           []                               \n",
      "INFO:root:                                                                                                  \n",
      "INFO:root: V4 (InputLayer)                [(None, 1)]          0           []                               \n",
      "INFO:root:                                                                                                  \n",
      "INFO:root: V5 (InputLayer)                [(None, 1)]          0           []                               \n",
      "INFO:root:                                                                                                  \n",
      "INFO:root: V6 (InputLayer)                [(None, 1)]          0           []                               \n",
      "INFO:root:                                                                                                  \n",
      "INFO:root: V7 (InputLayer)                [(None, 1)]          0           []                               \n",
      "INFO:root:                                                                                                  \n",
      "INFO:root: V8 (InputLayer)                [(None, 1)]          0           []                               \n",
      "INFO:root:                                                                                                  \n",
      "INFO:root: V9 (InputLayer)                [(None, 1)]          0           []                               \n",
      "INFO:root:                                                                                                  \n",
      "INFO:root: concatenate_1 (Concatenate)    (None, 29)           0           ['Amount[0][0]',                 \n",
      "INFO:root:                                                                  'V1[0][0]',                     \n",
      "INFO:root:                                                                  'V10[0][0]',                    \n",
      "INFO:root:                                                                  'V11[0][0]',                    \n",
      "INFO:root:                                                                  'V12[0][0]',                    \n",
      "INFO:root:                                                                  'V13[0][0]',                    \n",
      "INFO:root:                                                                  'V14[0][0]',                    \n",
      "INFO:root:                                                                  'V15[0][0]',                    \n",
      "INFO:root:                                                                  'V16[0][0]',                    \n",
      "INFO:root:                                                                  'V17[0][0]',                    \n",
      "INFO:root:                                                                  'V18[0][0]',                    \n",
      "INFO:root:                                                                  'V19[0][0]',                    \n",
      "INFO:root:                                                                  'V2[0][0]',                     \n",
      "INFO:root:                                                                  'V20[0][0]',                    \n",
      "INFO:root:                                                                  'V21[0][0]',                    \n",
      "INFO:root:                                                                  'V22[0][0]',                    \n",
      "INFO:root:                                                                  'V23[0][0]',                    \n",
      "INFO:root:                                                                  'V24[0][0]',                    \n",
      "INFO:root:                                                                  'V25[0][0]',                    \n",
      "INFO:root:                                                                  'V26[0][0]',                    \n",
      "INFO:root:                                                                  'V27[0][0]',                    \n",
      "INFO:root:                                                                  'V28[0][0]',                    \n",
      "INFO:root:                                                                  'V3[0][0]',                     \n",
      "INFO:root:                                                                  'V4[0][0]',                     \n",
      "INFO:root:                                                                  'V5[0][0]',                     \n",
      "INFO:root:                                                                  'V6[0][0]',                     \n",
      "INFO:root:                                                                  'V7[0][0]',                     \n",
      "INFO:root:                                                                  'V8[0][0]',                     \n",
      "INFO:root:                                                                  'V9[0][0]']                     \n",
      "INFO:root:                                                                                                  \n",
      "INFO:root: dense_3 (Dense)                (None, 64)           1920        ['concatenate_1[0][0]']          \n",
      "INFO:root:                                                                                                  \n",
      "INFO:root: dense_4 (Dense)                (None, 32)           2080        ['dense_3[0][0]']                \n",
      "INFO:root:                                                                                                  \n",
      "INFO:root: dense_5 (Dense)                (None, 1)            33          ['dense_4[0][0]']                \n",
      "INFO:root:                                                                                                  \n",
      "INFO:root:==================================================================================================\n",
      "INFO:root:Total params: 4,033\n",
      "INFO:root:Trainable params: 4,033\n",
      "INFO:root:Non-trainable params: 0\n",
      "INFO:root:__________________________________________________________________________________________________\n",
      "INFO:root:Model training started...\n"
     ]
    },
    {
     "name": "stdout",
     "output_type": "stream",
     "text": [
      "Epoch 1/5\n"
     ]
    },
    {
     "name": "stderr",
     "output_type": "stream",
     "text": [
      "/home/jupyter/.local/lib/python3.7/site-packages/tensorflow/python/util/dispatch.py:1082: UserWarning: \"`binary_crossentropy` received `from_logits=True`, but the `output` argument was produced by a sigmoid or softmax activation and thus does not represent logits. Was this intended?\"\n",
      "  return dispatch_target(*args, **kwargs)\n"
     ]
    },
    {
     "name": "stdout",
     "output_type": "stream",
     "text": [
      "7/7 [==============================] - 7s 882ms/step - loss: 0.4731 - accuracy: 0.9919 - val_loss: 0.3412 - val_accuracy: 0.9961\n",
      "Epoch 2/5\n",
      "7/7 [==============================] - 1s 148ms/step - loss: 0.2524 - accuracy: 0.9939 - val_loss: 0.1527 - val_accuracy: 0.9971\n",
      "Epoch 3/5\n",
      "7/7 [==============================] - 1s 140ms/step - loss: 0.1105 - accuracy: 0.9947 - val_loss: 0.0658 - val_accuracy: 0.9961\n",
      "Epoch 4/5\n",
      "7/7 [==============================] - 1s 146ms/step - loss: 0.0554 - accuracy: 0.9941 - val_loss: 0.0364 - val_accuracy: 0.9961\n",
      "Epoch 5/5\n",
      "7/7 [==============================] - 1s 138ms/step - loss: 0.0407 - accuracy: 0.9939 - val_loss: 0.0283 - val_accuracy: 0.9961\n"
     ]
    },
    {
     "name": "stderr",
     "output_type": "stream",
     "text": [
      "INFO:root:Model training completed.\n"
     ]
    }
   ],
   "source": [
    "classifier = trainer.train(\n",
    "    train_data_dir=train_data_file_pattern,\n",
    "    eval_data_dir=eval_data_file_pattern,\n",
    "    tft_output_dir=TRANSFORM_ARTIFACTS_DIR,\n",
    "    hyperparams=hyperparams,\n",
    "    log_dir=LOG_DIR,\n",
    ")"
   ]
  },
  {
   "cell_type": "code",
   "execution_count": 24,
   "id": "ebbce8e8",
   "metadata": {},
   "outputs": [
    {
     "name": "stderr",
     "output_type": "stream",
     "text": [
      "INFO:root:Loading raw schema from src/raw_schema/schema.pbtxt\n",
      "INFO:root:Loading tft output from gs://cxb1-prjtest-novpcsc-eu/creditcards/experiments/creditcards-classifier-v01/run-local-20220614103207/transform_artifacts\n",
      "INFO:root:Model evaluation started...\n"
     ]
    },
    {
     "name": "stdout",
     "output_type": "stream",
     "text": [
      "2/2 [==============================] - 0s 27ms/step - loss: 0.0240 - accuracy: 0.9971\n"
     ]
    },
    {
     "name": "stderr",
     "output_type": "stream",
     "text": [
      "INFO:root:Model evaluation completed.\n"
     ]
    }
   ],
   "source": [
    "val_loss, val_accuracy = trainer.evaluate(\n",
    "    model=classifier,\n",
    "    data_dir=eval_data_file_pattern,\n",
    "    raw_schema_location=RAW_SCHEMA_LOCATION,\n",
    "    tft_output_dir=TRANSFORM_ARTIFACTS_DIR,\n",
    "    hyperparams=hyperparams,\n",
    ")"
   ]
  },
  {
   "cell_type": "code",
   "execution_count": 25,
   "id": "30e58239",
   "metadata": {},
   "outputs": [],
   "source": [
    "vertex_ai.log_metrics(\n",
    "    {\"val_loss\": val_loss, \"val_accuracy\": val_accuracy})"
   ]
  },
  {
   "cell_type": "code",
   "execution_count": 26,
   "id": "cff3c829",
   "metadata": {},
   "outputs": [
    {
     "name": "stdout",
     "output_type": "stream",
     "text": [
      "2022-06-14 10:34:33.587860: W tensorflow/stream_executor/platform/default/dso_loader.cc:64] Could not load dynamic library 'libcuda.so.1'; dlerror: libcuda.so.1: cannot open shared object file: No such file or directory; LD_LIBRARY_PATH: /usr/local/cuda/lib64:/usr/local/cuda/lib:/usr/local/lib/x86_64-linux-gnu:/usr/local/nvidia/lib:/usr/local/nvidia/lib64:/usr/local/nvidia/lib:/usr/local/nvidia/lib64\n",
      "2022-06-14 10:34:33.587912: W tensorflow/stream_executor/cuda/cuda_driver.cc:269] failed call to cuInit: UNKNOWN ERROR (303)\n",
      "2022-06-14 10:34:33.587951: I tensorflow/stream_executor/cuda/cuda_diagnostics.cc:156] kernel driver does not appear to be running on this host (0a9000f0cf2b): /proc/driver/nvidia/version does not exist\n",
      "View your Tensorboard at https://europe-west1.tensorboard.googleusercontent.com/experiment/projects+1031952735253+locations+europe-west1+tensorboards+8883913214941724672+experiments+creditcards-classifier-v01\n",
      "\u001b[1m[2022-06-14T10:34:37]\u001b[0m Started scanning logdir.\n",
      "\u001b[1m[2022-06-14T10:34:38]\u001b[0m Total uploaded: 30 scalars, 0 tensors, 1 binary objects (35.5 kB)\n",
      "\u001b[2K\u001b[33mListening for new data in logdir...\u001b[0m\r"
     ]
    }
   ],
   "source": [
    "!tb-gcp-uploader --tensorboard_resource_name={tensorboard_resource_name} \\\n",
    "  --logdir={LOG_DIR} \\\n",
    "  --experiment_name={EXPERIMENT_NAME} --one_shot=True"
   ]
  },
  {
   "cell_type": "markdown",
   "id": "44268d04",
   "metadata": {},
   "source": [
    "### Export the trained model"
   ]
  },
  {
   "cell_type": "code",
   "execution_count": 27,
   "id": "e2cf46d6",
   "metadata": {},
   "outputs": [
    {
     "name": "stdout",
     "output_type": "stream",
     "text": [
      "INFO:tensorflow:struct2tensor is not available.\n"
     ]
    },
    {
     "name": "stderr",
     "output_type": "stream",
     "text": [
      "INFO:tensorflow:struct2tensor is not available.\n"
     ]
    },
    {
     "name": "stdout",
     "output_type": "stream",
     "text": [
      "INFO:tensorflow:tensorflow_decision_forests is not available.\n"
     ]
    },
    {
     "name": "stderr",
     "output_type": "stream",
     "text": [
      "INFO:tensorflow:tensorflow_decision_forests is not available.\n"
     ]
    },
    {
     "name": "stdout",
     "output_type": "stream",
     "text": [
      "INFO:tensorflow:tensorflow_text is not available.\n"
     ]
    },
    {
     "name": "stderr",
     "output_type": "stream",
     "text": [
      "INFO:tensorflow:tensorflow_text is not available.\n",
      "INFO:root:Model export started...\n",
      "WARNING:absl:Function `serve_features_fn` contains input name(s) Amount, V1, V10, V11, V12, V13, V14, V15, V16, V17, V18, V19, V2, V20, V21, V22, V23, V24, V25, V26, V27, V28, V3, V4, V5, V6, V7, V8, V9 with unsupported characters which will be renamed to amount, v1, v10, v11, v12, v13, v14, v15, v16, v17, v18, v19, v2, v20, v21, v22, v23, v24, v25, v26, v27, v28, v3, v4, v5, v6, v7, v8, v9 in the SavedModel.\n"
     ]
    },
    {
     "name": "stdout",
     "output_type": "stream",
     "text": [
      "INFO:tensorflow:Assets written to: gs://cxb1-prjtest-novpcsc-eu/creditcards/experiments/creditcards-classifier-v01/run-local-20220614103207/model/assets\n"
     ]
    },
    {
     "name": "stderr",
     "output_type": "stream",
     "text": [
      "INFO:tensorflow:Assets written to: gs://cxb1-prjtest-novpcsc-eu/creditcards/experiments/creditcards-classifier-v01/run-local-20220614103207/model/assets\n",
      "INFO:root:Model export completed.\n"
     ]
    }
   ],
   "source": [
    "saved_model_dir = os.path.join(EXPORT_DIR)\n",
    "\n",
    "exporter.export_serving_model(\n",
    "    classifier=classifier,\n",
    "    serving_model_dir=saved_model_dir,\n",
    "    raw_schema_location=RAW_SCHEMA_LOCATION,\n",
    "    tft_output_dir=TRANSFORM_ARTIFACTS_DIR,\n",
    ")"
   ]
  },
  {
   "cell_type": "markdown",
   "id": "dba1ba3e",
   "metadata": {},
   "source": [
    "### Inspect model serving signatures"
   ]
  },
  {
   "cell_type": "code",
   "execution_count": 28,
   "id": "cb8989c2",
   "metadata": {},
   "outputs": [
    {
     "name": "stdout",
     "output_type": "stream",
     "text": [
      "E0614 10:34:49.511869286     894 backup_poller.cc:136]       Run client channel backup poller: {\"created\":\"@1655202889.511675060\",\"description\":\"pollset_work\",\"file\":\"src/core/lib/iomgr/ev_epoll1_linux.cc\",\"file_line\":247,\"referenced_errors\":[{\"created\":\"@1655202889.511651642\",\"description\":\"Bad file descriptor\",\"errno\":9,\"file\":\"src/core/lib/iomgr/ev_epoll1_linux.cc\",\"file_line\":732,\"os_error\":\"Bad file descriptor\",\"syscall\":\"epoll_wait\"}]}\n",
      "The given SavedModel SignatureDef contains the following input(s):\n",
      "  inputs['examples'] tensor_info:\n",
      "      dtype: DT_STRING\n",
      "      shape: (-1)\n",
      "      name: serving_tf_example_examples:0\n",
      "The given SavedModel SignatureDef contains the following output(s):\n",
      "  outputs['probabilities'] tensor_info:\n",
      "      dtype: DT_FLOAT\n",
      "      shape: (-1, 1)\n",
      "      name: StatefulPartitionedCall_1:0\n",
      "Method name is: tensorflow/serving/predict\n"
     ]
    }
   ],
   "source": [
    "!saved_model_cli show --dir={saved_model_dir} --tag_set=serve --signature_def=serving_tf_example"
   ]
  },
  {
   "cell_type": "code",
   "execution_count": 29,
   "id": "7517a78b",
   "metadata": {},
   "outputs": [
    {
     "name": "stdout",
     "output_type": "stream",
     "text": [
      "The given SavedModel SignatureDef contains the following input(s):\n",
      "  inputs['Amount'] tensor_info:\n",
      "      dtype: DT_FLOAT\n",
      "      shape: (-1, 1)\n",
      "      name: serving_default_Amount:0\n",
      "  inputs['V1'] tensor_info:\n",
      "      dtype: DT_FLOAT\n",
      "      shape: (-1, 1)\n",
      "      name: serving_default_V1:0\n",
      "  inputs['V10'] tensor_info:\n",
      "      dtype: DT_FLOAT\n",
      "      shape: (-1, 1)\n",
      "      name: serving_default_V10:0\n",
      "  inputs['V11'] tensor_info:\n",
      "      dtype: DT_FLOAT\n",
      "      shape: (-1, 1)\n",
      "      name: serving_default_V11:0\n",
      "  inputs['V12'] tensor_info:\n",
      "      dtype: DT_FLOAT\n",
      "      shape: (-1, 1)\n",
      "      name: serving_default_V12:0\n",
      "  inputs['V13'] tensor_info:\n",
      "      dtype: DT_FLOAT\n",
      "      shape: (-1, 1)\n",
      "      name: serving_default_V13:0\n",
      "  inputs['V14'] tensor_info:\n",
      "      dtype: DT_FLOAT\n",
      "      shape: (-1, 1)\n",
      "      name: serving_default_V14:0\n",
      "  inputs['V15'] tensor_info:\n",
      "      dtype: DT_FLOAT\n",
      "      shape: (-1, 1)\n",
      "      name: serving_default_V15:0\n",
      "  inputs['V16'] tensor_info:\n",
      "      dtype: DT_FLOAT\n",
      "      shape: (-1, 1)\n",
      "      name: serving_default_V16:0\n",
      "  inputs['V17'] tensor_info:\n",
      "      dtype: DT_FLOAT\n",
      "      shape: (-1, 1)\n",
      "      name: serving_default_V17:0\n",
      "  inputs['V18'] tensor_info:\n",
      "      dtype: DT_FLOAT\n",
      "      shape: (-1, 1)\n",
      "      name: serving_default_V18:0\n",
      "  inputs['V19'] tensor_info:\n",
      "      dtype: DT_FLOAT\n",
      "      shape: (-1, 1)\n",
      "      name: serving_default_V19:0\n",
      "  inputs['V2'] tensor_info:\n",
      "      dtype: DT_FLOAT\n",
      "      shape: (-1, 1)\n",
      "      name: serving_default_V2:0\n",
      "  inputs['V20'] tensor_info:\n",
      "      dtype: DT_FLOAT\n",
      "      shape: (-1, 1)\n",
      "      name: serving_default_V20:0\n",
      "  inputs['V21'] tensor_info:\n",
      "      dtype: DT_FLOAT\n",
      "      shape: (-1, 1)\n",
      "      name: serving_default_V21:0\n",
      "  inputs['V22'] tensor_info:\n",
      "      dtype: DT_FLOAT\n",
      "      shape: (-1, 1)\n",
      "      name: serving_default_V22:0\n",
      "  inputs['V23'] tensor_info:\n",
      "      dtype: DT_FLOAT\n",
      "      shape: (-1, 1)\n",
      "      name: serving_default_V23:0\n",
      "  inputs['V24'] tensor_info:\n",
      "      dtype: DT_FLOAT\n",
      "      shape: (-1, 1)\n",
      "      name: serving_default_V24:0\n",
      "  inputs['V25'] tensor_info:\n",
      "      dtype: DT_FLOAT\n",
      "      shape: (-1, 1)\n",
      "      name: serving_default_V25:0\n",
      "  inputs['V26'] tensor_info:\n",
      "      dtype: DT_FLOAT\n",
      "      shape: (-1, 1)\n",
      "      name: serving_default_V26:0\n",
      "  inputs['V27'] tensor_info:\n",
      "      dtype: DT_FLOAT\n",
      "      shape: (-1, 1)\n",
      "      name: serving_default_V27:0\n",
      "  inputs['V28'] tensor_info:\n",
      "      dtype: DT_FLOAT\n",
      "      shape: (-1, 1)\n",
      "      name: serving_default_V28:0\n",
      "  inputs['V3'] tensor_info:\n",
      "      dtype: DT_FLOAT\n",
      "      shape: (-1, 1)\n",
      "      name: serving_default_V3:0\n",
      "  inputs['V4'] tensor_info:\n",
      "      dtype: DT_FLOAT\n",
      "      shape: (-1, 1)\n",
      "      name: serving_default_V4:0\n",
      "  inputs['V5'] tensor_info:\n",
      "      dtype: DT_FLOAT\n",
      "      shape: (-1, 1)\n",
      "      name: serving_default_V5:0\n",
      "  inputs['V6'] tensor_info:\n",
      "      dtype: DT_FLOAT\n",
      "      shape: (-1, 1)\n",
      "      name: serving_default_V6:0\n",
      "  inputs['V7'] tensor_info:\n",
      "      dtype: DT_FLOAT\n",
      "      shape: (-1, 1)\n",
      "      name: serving_default_V7:0\n",
      "  inputs['V8'] tensor_info:\n",
      "      dtype: DT_FLOAT\n",
      "      shape: (-1, 1)\n",
      "      name: serving_default_V8:0\n",
      "  inputs['V9'] tensor_info:\n",
      "      dtype: DT_FLOAT\n",
      "      shape: (-1, 1)\n",
      "      name: serving_default_V9:0\n",
      "The given SavedModel SignatureDef contains the following output(s):\n",
      "  outputs['classes'] tensor_info:\n",
      "      dtype: DT_STRING\n",
      "      shape: (-1, 2)\n",
      "      name: StatefulPartitionedCall:0\n",
      "  outputs['scores'] tensor_info:\n",
      "      dtype: DT_FLOAT\n",
      "      shape: (-1, 2)\n",
      "      name: StatefulPartitionedCall:1\n",
      "Method name is: tensorflow/serving/predict\n"
     ]
    }
   ],
   "source": [
    "!saved_model_cli show --dir={saved_model_dir} --tag_set=serve --signature_def=serving_default"
   ]
  },
  {
   "cell_type": "markdown",
   "id": "7f68ecd0",
   "metadata": {},
   "source": [
    "### Test the exported SavedModel"
   ]
  },
  {
   "cell_type": "code",
   "execution_count": 30,
   "id": "965d7d03",
   "metadata": {},
   "outputs": [
    {
     "name": "stdout",
     "output_type": "stream",
     "text": [
      "Saved model is loaded.\n"
     ]
    }
   ],
   "source": [
    "serving_model = tf.saved_model.load(saved_model_dir)\n",
    "print(\"Saved model is loaded.\")"
   ]
  },
  {
   "cell_type": "code",
   "execution_count": 31,
   "id": "395f6ac6",
   "metadata": {},
   "outputs": [
    {
     "name": "stdout",
     "output_type": "stream",
     "text": [
      "probabilities: [[0.502081 ]\n",
      " [0.5020416]\n",
      " [0.5019448]]\n"
     ]
    }
   ],
   "source": [
    "# Test the serving_tf_example with TF Examples\n",
    "\n",
    "file_names = tf.data.TFRecordDataset.list_files(EXPORTED_DATA_PREFIX + '/data-*.tfrecord')\n",
    "for batch in tf.data.TFRecordDataset(file_names).batch(3).take(1):\n",
    "    predictions = serving_model.signatures['serving_tf_example'](batch)\n",
    "    for key in predictions:\n",
    "        print(f\"{key}: {predictions[key]}\")"
   ]
  },
  {
   "cell_type": "code",
   "execution_count": 32,
   "id": "41f041d6",
   "metadata": {},
   "outputs": [],
   "source": [
    "# Test the serving_default with feature dictionary\n",
    "\n",
    "import tensorflow_data_validation as tfdv\n",
    "from tensorflow_transform.tf_metadata import schema_utils\n",
    "\n",
    "raw_schema = tfdv.load_schema_text(RAW_SCHEMA_LOCATION)\n",
    "raw_feature_spec = schema_utils.schema_as_feature_spec(raw_schema).feature_spec"
   ]
  },
  {
   "cell_type": "code",
   "execution_count": 33,
   "id": "0af3ee32-6941-4428-bfb4-3a5c611e79c2",
   "metadata": {},
   "outputs": [
    {
     "data": {
      "text/plain": [
       "{'Amount': 50.0,\n",
       " 'V1': 1,\n",
       " 'V2': 1,\n",
       " 'V3': 1,\n",
       " 'V4': 1,\n",
       " 'V5': 1,\n",
       " 'V6': 1,\n",
       " 'V7': 1,\n",
       " 'V8': 1,\n",
       " 'V9': 1,\n",
       " 'V10': 1,\n",
       " 'V11': 1,\n",
       " 'V12': 1,\n",
       " 'V13': 1,\n",
       " 'V14': 1,\n",
       " 'V15': 1,\n",
       " 'V16': 1,\n",
       " 'V17': 1,\n",
       " 'V18': 1,\n",
       " 'V19': 1,\n",
       " 'V20': 1,\n",
       " 'V21': 1,\n",
       " 'V22': 1,\n",
       " 'V23': 1,\n",
       " 'V24': 1,\n",
       " 'V25': 1,\n",
       " 'V26': 1,\n",
       " 'V27': 1,\n",
       " 'V28': 1}"
      ]
     },
     "execution_count": 33,
     "metadata": {},
     "output_type": "execute_result"
    }
   ],
   "source": [
    "instance = { 'Amount': 50.0 }\n",
    "\n",
    "for i in range(1,29):\n",
    "    instance[f'V{i}'] = 1\n",
    "    \n",
    "instance"
   ]
  },
  {
   "cell_type": "code",
   "execution_count": 34,
   "id": "3d51e9ef",
   "metadata": {},
   "outputs": [],
   "source": [
    "for feature_name in instance:\n",
    "    dtype = raw_feature_spec[feature_name].dtype\n",
    "    instance[feature_name] = tf.constant([[instance[feature_name]]], dtype)"
   ]
  },
  {
   "cell_type": "code",
   "execution_count": 35,
   "id": "6469de0d",
   "metadata": {},
   "outputs": [
    {
     "name": "stdout",
     "output_type": "stream",
     "text": [
      "classes: [[b'legit' b'fraudulent']]\n",
      "scores: [[0.50000477 0.49999523]]\n"
     ]
    }
   ],
   "source": [
    "predictions = serving_model.signatures['serving_default'](**instance)\n",
    "for key in predictions:\n",
    "    print(f\"{key}: {predictions[key].numpy()}\")"
   ]
  },
  {
   "cell_type": "markdown",
   "id": "8cec2080",
   "metadata": {},
   "source": [
    "## Start a new Vertex AI experiment run"
   ]
  },
  {
   "cell_type": "code",
   "execution_count": 66,
   "id": "1d87d0f9",
   "metadata": {},
   "outputs": [
    {
     "name": "stdout",
     "output_type": "stream",
     "text": [
      "Experiment run directory: gs://cxb1-prjtest-novpcsc-eu/creditcards/experiments/creditcards-classifier-v01/run-gcp-20220614121952\n"
     ]
    }
   ],
   "source": [
    "vertex_ai.init(\n",
    "    project=PROJECT,\n",
    "    staging_bucket=BUCKET,\n",
    "    experiment=EXPERIMENT_NAME)\n",
    "\n",
    "run_id = f\"run-gcp-{datetime.now().strftime('%Y%m%d%H%M%S')}\"\n",
    "vertex_ai.start_run(run_id)\n",
    "\n",
    "EXPERIMENT_RUN_DIR = os.path.join(EXPERIMENT_ARTIFACTS_DIR, EXPERIMENT_NAME, run_id)\n",
    "print(\"Experiment run directory:\", EXPERIMENT_RUN_DIR)"
   ]
  },
  {
   "cell_type": "markdown",
   "id": "8ade27b7",
   "metadata": {},
   "source": [
    "## 3. Submit a Data Processing Job to Dataflow"
   ]
  },
  {
   "cell_type": "code",
   "execution_count": 67,
   "id": "2d903ff5",
   "metadata": {},
   "outputs": [],
   "source": [
    "EXPORTED_DATA_PREFIX = os.path.join(EXPERIMENT_RUN_DIR, 'exported_data')\n",
    "TRANSFORMED_DATA_PREFIX = os.path.join(EXPERIMENT_RUN_DIR, 'transformed_data')\n",
    "TRANSFORM_ARTIFACTS_DIR = os.path.join(EXPERIMENT_RUN_DIR, 'transform_artifacts')"
   ]
  },
  {
   "cell_type": "code",
   "execution_count": 68,
   "id": "3fac3380",
   "metadata": {},
   "outputs": [
    {
     "ename": "IndexError",
     "evalue": "list index out of range",
     "output_type": "error",
     "traceback": [
      "\u001b[0;31m---------------------------------------------------------------------------\u001b[0m",
      "\u001b[0;31mIndexError\u001b[0m                                Traceback (most recent call last)",
      "\u001b[0;32m/tmp/ipykernel_1/4099053025.py\u001b[0m in \u001b[0;36m<module>\u001b[0;34m\u001b[0m\n\u001b[1;32m      6\u001b[0m     \u001b[0mdataset_display_name\u001b[0m\u001b[0;34m=\u001b[0m\u001b[0mVERTEX_DATASET_NAME\u001b[0m\u001b[0;34m,\u001b[0m\u001b[0;34m\u001b[0m\u001b[0;34m\u001b[0m\u001b[0m\n\u001b[1;32m      7\u001b[0m     \u001b[0mml_use\u001b[0m\u001b[0;34m=\u001b[0m\u001b[0mML_USE\u001b[0m\u001b[0;34m,\u001b[0m\u001b[0;34m\u001b[0m\u001b[0;34m\u001b[0m\u001b[0m\n\u001b[0;32m----> 8\u001b[0;31m     \u001b[0mlimit\u001b[0m\u001b[0;34m=\u001b[0m\u001b[0mLIMIT\u001b[0m\u001b[0;34m\u001b[0m\u001b[0;34m\u001b[0m\u001b[0m\n\u001b[0m\u001b[1;32m      9\u001b[0m )\n\u001b[1;32m     10\u001b[0m \u001b[0;34m\u001b[0m\u001b[0m\n",
      "\u001b[0;32m~/mlops-with-vertex-ai/src/common/datasource_utils.py\u001b[0m in \u001b[0;36mget_training_source_query\u001b[0;34m(project, region, dataset_display_name, ml_use, limit)\u001b[0m\n\u001b[1;32m     48\u001b[0m     dataset = vertex_ai.TabularDataset.list(\n\u001b[1;32m     49\u001b[0m         \u001b[0mfilter\u001b[0m\u001b[0;34m=\u001b[0m\u001b[0;34mf\"display_name={dataset_display_name}\"\u001b[0m\u001b[0;34m,\u001b[0m \u001b[0morder_by\u001b[0m\u001b[0;34m=\u001b[0m\u001b[0;34m\"update_time\"\u001b[0m\u001b[0;34m\u001b[0m\u001b[0;34m\u001b[0m\u001b[0m\n\u001b[0;32m---> 50\u001b[0;31m     )[-1]\n\u001b[0m\u001b[1;32m     51\u001b[0m     bq_source_uri = dataset.gca_resource.metadata[\"inputConfig\"][\"bigquerySource\"][\n\u001b[1;32m     52\u001b[0m         \u001b[0;34m\"uri\"\u001b[0m\u001b[0;34m\u001b[0m\u001b[0;34m\u001b[0m\u001b[0m\n",
      "\u001b[0;31mIndexError\u001b[0m: list index out of range"
     ]
    }
   ],
   "source": [
    "ML_USE = 'UNASSIGNED'\n",
    "LIMIT = 1000000\n",
    "raw_data_query = datasource_utils.get_training_source_query(\n",
    "    project=PROJECT, \n",
    "    region=REGION, \n",
    "    dataset_display_name=VERTEX_DATASET_NAME, \n",
    "    ml_use=ML_USE, \n",
    "    limit=LIMIT\n",
    ")\n",
    "\n",
    "etl_job_name = f\"etl-{MODEL_DISPLAY_NAME}-{run_id}\"\n",
    "\n",
    "args = {\n",
    "    'job_name': etl_job_name,\n",
    "    'runner': 'DataflowRunner',\n",
    "    'raw_data_query': raw_data_query,\n",
    "    'exported_data_prefix': EXPORTED_DATA_PREFIX,\n",
    "    'transformed_data_prefix': TRANSFORMED_DATA_PREFIX,\n",
    "    'transform_artifact_dir': TRANSFORM_ARTIFACTS_DIR,\n",
    "    'write_raw_data': False,\n",
    "    'temporary_dir': os.path.join(WORKSPACE, 'tmp'),\n",
    "    'gcs_location': os.path.join(WORKSPACE, 'bq_tmp'),\n",
    "    'project': PROJECT,\n",
    "    'region': DATAFLOW_REGION,\n",
    "    #'setup_file': './setup.py',\n",
    "    'requirements_file': 'df_requirements.txt',\n",
    "    'service_account_email': DATAFLOW_SERVICE_ACCOUNT,\n",
    "    'use_public_ips': False,\n",
    "    'subnetwork': DATAFLOW_SUBNETWORK\n",
    "}\n",
    "\n",
    "for k in args:\n",
    "    print(f'{k}: {args[k]}')\n"
   ]
  },
  {
   "cell_type": "code",
   "execution_count": 62,
   "id": "c909d3ca",
   "metadata": {},
   "outputs": [],
   "source": [
    "vertex_ai.log_params(args)"
   ]
  },
  {
   "cell_type": "code",
   "execution_count": 63,
   "id": "014e5512",
   "metadata": {},
   "outputs": [
    {
     "name": "stdout",
     "output_type": "stream",
     "text": [
      "Data preprocessing started...\n",
      "WARNING:tensorflow:You are passing instance dicts and DatasetMetadata to TFT which will not provide optimal performance. Consider following the TFT guide to upgrade to the TFXIO format (Apache Arrow RecordBatch).\n"
     ]
    },
    {
     "name": "stderr",
     "output_type": "stream",
     "text": [
      "/home/jupyter/.local/lib/python3.7/site-packages/apache_beam/io/gcp/bigquery.py:2471: BeamDeprecationWarning: options is deprecated since First stable release. References to <pipeline>.options will not be supported\n",
      "  temp_location = pcoll.pipeline.options.view_as(\n",
      "WARNING:tensorflow:You are passing instance dicts and DatasetMetadata to TFT which will not provide optimal performance. Consider following the TFT guide to upgrade to the TFXIO format (Apache Arrow RecordBatch).\n"
     ]
    },
    {
     "name": "stdout",
     "output_type": "stream",
     "text": [
      "WARNING:tensorflow:You are passing instance dicts and DatasetMetadata to TFT which will not provide optimal performance. Consider following the TFT guide to upgrade to the TFXIO format (Apache Arrow RecordBatch).\n"
     ]
    },
    {
     "name": "stderr",
     "output_type": "stream",
     "text": [
      "WARNING:tensorflow:You are passing instance dicts and DatasetMetadata to TFT which will not provide optimal performance. Consider following the TFT guide to upgrade to the TFXIO format (Apache Arrow RecordBatch).\n"
     ]
    },
    {
     "name": "stdout",
     "output_type": "stream",
     "text": [
      "WARNING:tensorflow:You are passing instance dicts and DatasetMetadata to TFT which will not provide optimal performance. Consider following the TFT guide to upgrade to the TFXIO format (Apache Arrow RecordBatch).\n"
     ]
    },
    {
     "name": "stderr",
     "output_type": "stream",
     "text": [
      "WARNING:tensorflow:You are passing instance dicts and DatasetMetadata to TFT which will not provide optimal performance. Consider following the TFT guide to upgrade to the TFXIO format (Apache Arrow RecordBatch).\n"
     ]
    },
    {
     "ename": "KeyboardInterrupt",
     "evalue": "",
     "output_type": "error",
     "traceback": [
      "\u001b[0;31m---------------------------------------------------------------------------\u001b[0m",
      "\u001b[0;31mKeyboardInterrupt\u001b[0m                         Traceback (most recent call last)",
      "\u001b[0;32m/tmp/ipykernel_1/259245321.py\u001b[0m in \u001b[0;36m<module>\u001b[0;34m\u001b[0m\n\u001b[1;32m      2\u001b[0m \u001b[0;34m\u001b[0m\u001b[0m\n\u001b[1;32m      3\u001b[0m \u001b[0mprint\u001b[0m\u001b[0;34m(\u001b[0m\u001b[0;34m\"Data preprocessing started...\"\u001b[0m\u001b[0;34m)\u001b[0m\u001b[0;34m\u001b[0m\u001b[0;34m\u001b[0m\u001b[0m\n\u001b[0;32m----> 4\u001b[0;31m \u001b[0metl\u001b[0m\u001b[0;34m.\u001b[0m\u001b[0mrun_transform_pipeline\u001b[0m\u001b[0;34m(\u001b[0m\u001b[0margs\u001b[0m\u001b[0;34m)\u001b[0m\u001b[0;34m\u001b[0m\u001b[0;34m\u001b[0m\u001b[0m\n\u001b[0m\u001b[1;32m      5\u001b[0m \u001b[0mprint\u001b[0m\u001b[0;34m(\u001b[0m\u001b[0;34m\"Data preprocessing completed.\"\u001b[0m\u001b[0;34m)\u001b[0m\u001b[0;34m\u001b[0m\u001b[0;34m\u001b[0m\u001b[0m\n",
      "\u001b[0;32m~/mlops-with-vertex-ai/src/preprocessing/etl.py\u001b[0m in \u001b[0;36mrun_transform_pipeline\u001b[0;34m(args)\u001b[0m\n\u001b[1;32m    151\u001b[0m                         \u001b[0mfile_path_prefix\u001b[0m\u001b[0;34m=\u001b[0m\u001b[0mos\u001b[0m\u001b[0;34m.\u001b[0m\u001b[0mpath\u001b[0m\u001b[0;34m.\u001b[0m\u001b[0mjoin\u001b[0m\u001b[0;34m(\u001b[0m\u001b[0mexported_data_prefix\u001b[0m\u001b[0;34m,\u001b[0m \u001b[0;34m\"data\"\u001b[0m\u001b[0;34m)\u001b[0m\u001b[0;34m,\u001b[0m\u001b[0;34m\u001b[0m\u001b[0;34m\u001b[0m\u001b[0m\n\u001b[1;32m    152\u001b[0m                         \u001b[0mfile_name_suffix\u001b[0m\u001b[0;34m=\u001b[0m\u001b[0;34m\".tfrecord\"\u001b[0m\u001b[0;34m,\u001b[0m\u001b[0;34m\u001b[0m\u001b[0;34m\u001b[0m\u001b[0m\n\u001b[0;32m--> 153\u001b[0;31m                         \u001b[0mcoder\u001b[0m\u001b[0;34m=\u001b[0m\u001b[0mtft\u001b[0m\u001b[0;34m.\u001b[0m\u001b[0mcoders\u001b[0m\u001b[0;34m.\u001b[0m\u001b[0mExampleProtoCoder\u001b[0m\u001b[0;34m(\u001b[0m\u001b[0mraw_metadata\u001b[0m\u001b[0;34m.\u001b[0m\u001b[0mschema\u001b[0m\u001b[0;34m)\u001b[0m\u001b[0;34m,\u001b[0m\u001b[0;34m\u001b[0m\u001b[0;34m\u001b[0m\u001b[0m\n\u001b[0m\u001b[1;32m    154\u001b[0m                     )\n\u001b[1;32m    155\u001b[0m                 )\n",
      "\u001b[0;32m~/.local/lib/python3.7/site-packages/apache_beam/pipeline.py\u001b[0m in \u001b[0;36m__exit__\u001b[0;34m(self, exc_type, exc_val, exc_tb)\u001b[0m\n\u001b[1;32m    595\u001b[0m       \u001b[0;32mif\u001b[0m \u001b[0;32mnot\u001b[0m \u001b[0mexc_type\u001b[0m\u001b[0;34m:\u001b[0m\u001b[0;34m\u001b[0m\u001b[0;34m\u001b[0m\u001b[0m\n\u001b[1;32m    596\u001b[0m         \u001b[0mself\u001b[0m\u001b[0;34m.\u001b[0m\u001b[0mresult\u001b[0m \u001b[0;34m=\u001b[0m \u001b[0mself\u001b[0m\u001b[0;34m.\u001b[0m\u001b[0mrun\u001b[0m\u001b[0;34m(\u001b[0m\u001b[0;34m)\u001b[0m\u001b[0;34m\u001b[0m\u001b[0;34m\u001b[0m\u001b[0m\n\u001b[0;32m--> 597\u001b[0;31m         \u001b[0mself\u001b[0m\u001b[0;34m.\u001b[0m\u001b[0mresult\u001b[0m\u001b[0;34m.\u001b[0m\u001b[0mwait_until_finish\u001b[0m\u001b[0;34m(\u001b[0m\u001b[0;34m)\u001b[0m\u001b[0;34m\u001b[0m\u001b[0;34m\u001b[0m\u001b[0m\n\u001b[0m\u001b[1;32m    598\u001b[0m     \u001b[0;32mfinally\u001b[0m\u001b[0;34m:\u001b[0m\u001b[0;34m\u001b[0m\u001b[0;34m\u001b[0m\u001b[0m\n\u001b[1;32m    599\u001b[0m       \u001b[0mself\u001b[0m\u001b[0;34m.\u001b[0m\u001b[0m_extra_context\u001b[0m\u001b[0;34m.\u001b[0m\u001b[0m__exit__\u001b[0m\u001b[0;34m(\u001b[0m\u001b[0mexc_type\u001b[0m\u001b[0;34m,\u001b[0m \u001b[0mexc_val\u001b[0m\u001b[0;34m,\u001b[0m \u001b[0mexc_tb\u001b[0m\u001b[0;34m)\u001b[0m\u001b[0;34m\u001b[0m\u001b[0;34m\u001b[0m\u001b[0m\n",
      "\u001b[0;32m~/.local/lib/python3.7/site-packages/apache_beam/runners/dataflow/dataflow_runner.py\u001b[0m in \u001b[0;36mwait_until_finish\u001b[0;34m(self, duration)\u001b[0m\n\u001b[1;32m   1652\u001b[0m       \u001b[0mthread\u001b[0m\u001b[0;34m.\u001b[0m\u001b[0mstart\u001b[0m\u001b[0;34m(\u001b[0m\u001b[0;34m)\u001b[0m\u001b[0;34m\u001b[0m\u001b[0;34m\u001b[0m\u001b[0m\n\u001b[1;32m   1653\u001b[0m       \u001b[0;32mwhile\u001b[0m \u001b[0mthread\u001b[0m\u001b[0;34m.\u001b[0m\u001b[0mis_alive\u001b[0m\u001b[0;34m(\u001b[0m\u001b[0;34m)\u001b[0m\u001b[0;34m:\u001b[0m\u001b[0;34m\u001b[0m\u001b[0;34m\u001b[0m\u001b[0m\n\u001b[0;32m-> 1654\u001b[0;31m         \u001b[0mtime\u001b[0m\u001b[0;34m.\u001b[0m\u001b[0msleep\u001b[0m\u001b[0;34m(\u001b[0m\u001b[0;36m5.0\u001b[0m\u001b[0;34m)\u001b[0m\u001b[0;34m\u001b[0m\u001b[0;34m\u001b[0m\u001b[0m\n\u001b[0m\u001b[1;32m   1655\u001b[0m \u001b[0;34m\u001b[0m\u001b[0m\n\u001b[1;32m   1656\u001b[0m       \u001b[0;31m# TODO: Merge the termination code in poll_for_job_completion and\u001b[0m\u001b[0;34m\u001b[0m\u001b[0;34m\u001b[0m\u001b[0;34m\u001b[0m\u001b[0m\n",
      "\u001b[0;31mKeyboardInterrupt\u001b[0m: "
     ]
    }
   ],
   "source": [
    "logging.getLogger().setLevel(logging.ERROR)\n",
    "\n",
    "print(\"Data preprocessing started...\")\n",
    "etl.run_transform_pipeline(args)\n",
    "print(\"Data preprocessing completed.\")"
   ]
  },
  {
   "cell_type": "code",
   "execution_count": null,
   "id": "92a21c21",
   "metadata": {},
   "outputs": [],
   "source": [
    "!gsutil ls {EXPERIMENT_RUN_DIR}"
   ]
  },
  {
   "cell_type": "markdown",
   "id": "e5c4dfa8",
   "metadata": {},
   "source": [
    "## 4. Submit a Custom Training Job to Vertex AI"
   ]
  },
  {
   "cell_type": "code",
   "execution_count": null,
   "id": "50db6947",
   "metadata": {},
   "outputs": [],
   "source": [
    "LOG_DIR = os.path.join(EXPERIMENT_RUN_DIR, 'logs')\n",
    "EXPORT_DIR = os.path.join(EXPERIMENT_RUN_DIR, 'model')"
   ]
  },
  {
   "cell_type": "markdown",
   "id": "4e998139",
   "metadata": {},
   "source": [
    "### Test the training task locally"
   ]
  },
  {
   "cell_type": "code",
   "execution_count": 75,
   "id": "9382ba6f",
   "metadata": {},
   "outputs": [
    {
     "name": "stdout",
     "output_type": "stream",
     "text": [
      "INFO:root:Python Version = 3.7.12 | packaged by conda-forge | (default, Oct 26 2021, 06:08:53) \n",
      "[GCC 9.4.0]\n",
      "INFO:root:TensorFlow Version = 2.9.1\n",
      "INFO:root:TF_CONFIG = Not found\n",
      "2022-06-14 12:24:46.337449: I tensorflow/core/platform/cpu_feature_guard.cc:193] This TensorFlow binary is optimized with oneAPI Deep Neural Network Library (oneDNN) to use the following CPU instructions in performance-critical operations:  AVX2 FMA\n",
      "To enable them in other operations, rebuild TensorFlow with the appropriate compiler flags.\n",
      "2022-06-14 12:24:46.338623: W tensorflow/stream_executor/platform/default/dso_loader.cc:64] Could not load dynamic library 'libcuda.so.1'; dlerror: libcuda.so.1: cannot open shared object file: No such file or directory; LD_LIBRARY_PATH: /usr/local/cuda/lib64:/usr/local/cuda/lib:/usr/local/lib/x86_64-linux-gnu:/usr/local/nvidia/lib:/usr/local/nvidia/lib64:/usr/local/nvidia/lib:/usr/local/nvidia/lib64\n",
      "2022-06-14 12:24:46.338673: W tensorflow/stream_executor/cuda/cuda_driver.cc:269] failed call to cuInit: UNKNOWN ERROR (303)\n",
      "2022-06-14 12:24:46.338708: I tensorflow/stream_executor/cuda/cuda_diagnostics.cc:156] kernel driver does not appear to be running on this host (0a9000f0cf2b): /proc/driver/nvidia/version does not exist\n",
      "INFO:root:DEVICES = [name: \"/device:CPU:0\"\n",
      "device_type: \"CPU\"\n",
      "memory_limit: 268435456\n",
      "locality {\n",
      "}\n",
      "incarnation: 9547780672724293497\n",
      "xla_global_id: -1\n",
      "]\n",
      "INFO:root:Task started...\n",
      "INFO:root:Hyperparameter: {'model_dir': 'gs://cxb1-prjtest-novpcsc-eu/creditcards/experiments/creditcards-classifier-v01/run-local-20220614103207/model', 'log_dir': 'gs://cxb1-prjtest-novpcsc-eu/creditcards/experiments/creditcards-classifier-v01/run-local-20220614103207/logs', 'train_data_dir': 'gs://cxb1-prjtest-novpcsc-eu/creditcards/experiments/creditcards-classifier-v01/run-gcp-20220614121952/transformed_data/train/*', 'eval_data_dir': 'gs://cxb1-prjtest-novpcsc-eu/creditcards/experiments/creditcards-classifier-v01/run-gcp-20220614121952/transformed_data/eval/*', 'tft_output_dir': 'gs://cxb1-prjtest-novpcsc-eu/creditcards/experiments/creditcards-classifier-v01/run-gcp-20220614121952/transform_artifacts', 'learning_rate': 0.001, 'batch_size': 512, 'hidden_units': [32, 32], 'num_epochs': 3, 'project': 'cxb1-prj-test-no-vpcsc', 'region': 'europe-west1', 'staging_bucket': 'cxb1-prjtest-novpcsc-eu', 'experiment_name': 'creditcards-classifier-v01', 'run_name': 'run-gcp-20220614121952'}\n",
      "INFO:root:MetadataStore default not found.\n",
      "Traceback (most recent call last):\n",
      "  File \"/home/jupyter/.local/lib/python3.7/site-packages/google/api_core/grpc_helpers.py\", line 67, in error_remapped_callable\n",
      "    return callable_(*args, **kwargs)\n",
      "  File \"/opt/conda/lib/python3.7/site-packages/grpc/_channel.py\", line 946, in __call__\n",
      "    return _end_unary_response_blocking(state, call, False, None)\n",
      "  File \"/opt/conda/lib/python3.7/site-packages/grpc/_channel.py\", line 849, in _end_unary_response_blocking\n",
      "    raise _InactiveRpcError(state)\n",
      "grpc._channel._InactiveRpcError: <_InactiveRpcError of RPC that terminated with:\n",
      "\tstatus = StatusCode.FAILED_PRECONDITION\n",
      "\tdetails = \"The request has violated one or more Org Policies: violations {\n",
      "  description: \"The project 1031952735253 failed the org policy enforcement check for `constraints/gcp.resourceLocations`.\"\n",
      "}\n",
      "\"\n",
      "\tdebug_error_string = \"{\"created\":\"@1655209489.473226995\",\"description\":\"Error received from peer ipv4:172.253.120.95:443\",\"file\":\"src/core/lib/surface/call.cc\",\"file_line\":952,\"grpc_message\":\"The request has violated one or more Org Policies: violations {\\n  description: \"The project 1031952735253 failed the org policy enforcement check for `constraints/gcp.resourceLocations`.\"\\n}\\n\",\"grpc_status\":9}\"\n",
      ">\n",
      "\n",
      "The above exception was the direct cause of the following exception:\n",
      "\n",
      "Traceback (most recent call last):\n",
      "  File \"/opt/conda/lib/python3.7/runpy.py\", line 193, in _run_module_as_main\n",
      "    \"__main__\", mod_spec)\n",
      "  File \"/opt/conda/lib/python3.7/runpy.py\", line 85, in _run_code\n",
      "    exec(code, run_globals)\n",
      "  File \"/home/jupyter/mlops-with-vertex-ai/src/model_training/task.py\", line 156, in <module>\n",
      "    main()\n",
      "  File \"/home/jupyter/mlops-with-vertex-ai/src/model_training/task.py\", line 92, in main\n",
      "    experiment=args.experiment_name,\n",
      "  File \"/opt/conda/lib/python3.7/site-packages/google/cloud/aiplatform/initializer.py\", line 111, in init\n",
      "    experiment=experiment, description=experiment_description\n",
      "  File \"/opt/conda/lib/python3.7/site-packages/google/cloud/aiplatform/metadata/metadata.py\", line 65, in set_experiment\n",
      "    _MetadataStore.get_or_create()\n",
      "  File \"/opt/conda/lib/python3.7/site-packages/google/cloud/aiplatform/metadata/metadata_store.py\", line 131, in get_or_create\n",
      "    encryption_spec_key_name=encryption_spec_key_name,\n",
      "  File \"/opt/conda/lib/python3.7/site-packages/google/cloud/aiplatform/metadata/metadata_store.py\", line 193, in _create\n",
      "    metadata_store_id=metadata_store_id,\n",
      "  File \"/opt/conda/lib/python3.7/site-packages/google/cloud/aiplatform_v1/services/metadata_service/client.py\", line 670, in create_metadata_store\n",
      "    metadata=metadata,\n",
      "  File \"/home/jupyter/.local/lib/python3.7/site-packages/google/api_core/gapic_v1/method.py\", line 145, in __call__\n",
      "    return wrapped_func(*args, **kwargs)\n",
      "  File \"/home/jupyter/.local/lib/python3.7/site-packages/google/api_core/grpc_helpers.py\", line 69, in error_remapped_callable\n",
      "    six.raise_from(exceptions.from_grpc_error(exc), exc)\n",
      "  File \"<string>\", line 3, in raise_from\n",
      "google.api_core.exceptions.FailedPrecondition: 400 The request has violated one or more Org Policies: violations {\n",
      "  description: \"The project 1031952735253 failed the org policy enforcement check for `constraints/gcp.resourceLocations`.\"\n",
      "}\n",
      "\n"
     ]
    }
   ],
   "source": [
    "!python -m src.model_training.task \\\n",
    "    --model-dir={EXPORT_DIR} \\\n",
    "    --log-dir={LOG_DIR} \\\n",
    "    --train-data-dir={TRANSFORMED_DATA_PREFIX}/train/* \\\n",
    "    --eval-data-dir={TRANSFORMED_DATA_PREFIX}/eval/*  \\\n",
    "    --tft-output-dir={TRANSFORM_ARTIFACTS_DIR} \\\n",
    "    --num-epochs=3 \\\n",
    "    --hidden-units=32,32 \\\n",
    "    --experiment-name={EXPERIMENT_NAME} \\\n",
    "    --run-name={run_id} \\\n",
    "    --project={PROJECT} \\\n",
    "    --region={REGION} \\\n",
    "    --staging-bucket={BUCKET}"
   ]
  },
  {
   "cell_type": "markdown",
   "id": "5077e9d4",
   "metadata": {},
   "source": [
    "### Prepare training package"
   ]
  },
  {
   "cell_type": "code",
   "execution_count": 70,
   "id": "d526a189",
   "metadata": {},
   "outputs": [
    {
     "name": "stdout",
     "output_type": "stream",
     "text": [
      "Trainer package upload location: gs://cxb1-prjtest-novpcsc-eu/creditcards/trainer_packages\n"
     ]
    }
   ],
   "source": [
    "TRAINER_PACKAGE_DIR = os.path.join(WORKSPACE, 'trainer_packages')\n",
    "TRAINER_PACKAGE_NAME = f'{MODEL_DISPLAY_NAME}_trainer'\n",
    "print(\"Trainer package upload location:\", TRAINER_PACKAGE_DIR)"
   ]
  },
  {
   "cell_type": "code",
   "execution_count": null,
   "id": "550cc9eb",
   "metadata": {},
   "outputs": [],
   "source": [
    "!rm -r src/__pycache__/\n",
    "!rm -r src/.ipynb_checkpoints/\n",
    "!rm -r src/raw_schema/.ipynb_checkpoints/\n",
    "!rm -f {TRAINER_PACKAGE_NAME}.tar {TRAINER_PACKAGE_NAME}.tar.gz\n",
    "\n",
    "!mkdir {TRAINER_PACKAGE_NAME}\n",
    "\n",
    "!cp setup.py {TRAINER_PACKAGE_NAME}/\n",
    "!cp -r src {TRAINER_PACKAGE_NAME}/\n",
    "!tar cvf {TRAINER_PACKAGE_NAME}.tar {TRAINER_PACKAGE_NAME}\n",
    "!gzip {TRAINER_PACKAGE_NAME}.tar\n",
    "!gsutil cp {TRAINER_PACKAGE_NAME}.tar.gz {TRAINER_PACKAGE_DIR}/\n",
    "!rm -r {TRAINER_PACKAGE_NAME}\n",
    "!rm -r {TRAINER_PACKAGE_NAME}.tar.gz"
   ]
  },
  {
   "cell_type": "markdown",
   "id": "7c3af757",
   "metadata": {},
   "source": [
    "### Prepare the training job"
   ]
  },
  {
   "cell_type": "code",
   "execution_count": null,
   "id": "e01bf43e",
   "metadata": {},
   "outputs": [],
   "source": [
    "TRAIN_RUNTIME = 'tf-cpu.2-5'\n",
    "TRAIN_IMAGE = f\"us-docker.pkg.dev/vertex-ai/training/{TRAIN_RUNTIME}:latest\"\n",
    "print(\"Training image:\", TRAIN_IMAGE)"
   ]
  },
  {
   "cell_type": "code",
   "execution_count": null,
   "id": "6d18dba5",
   "metadata": {},
   "outputs": [],
   "source": [
    "num_epochs = 10\n",
    "learning_rate = 0.001\n",
    "hidden_units = \"64,64\"\n",
    "\n",
    "trainer_args = [\n",
    "    f'--train-data-dir={TRANSFORMED_DATA_PREFIX + \"/train/*\"}',\n",
    "    f'--eval-data-dir={TRANSFORMED_DATA_PREFIX + \"/eval/*\"}',\n",
    "    f'--tft-output-dir={TRANSFORM_ARTIFACTS_DIR}',\n",
    "    f'--num-epochs={num_epochs}',\n",
    "    f'--learning-rate={learning_rate}',\n",
    "    f'--project={PROJECT}',\n",
    "    f'--region={REGION}',\n",
    "    f'--staging-bucket={BUCKET}',\n",
    "    f'--experiment-name={EXPERIMENT_NAME}'\n",
    "]"
   ]
  },
  {
   "cell_type": "code",
   "execution_count": null,
   "id": "0a30d0d3",
   "metadata": {},
   "outputs": [],
   "source": [
    "package_uri = os.path.join(TRAINER_PACKAGE_DIR, f'{TRAINER_PACKAGE_NAME}.tar.gz')\n",
    "\n",
    "worker_pool_specs = [\n",
    "    {\n",
    "        \"replica_count\": 1,\n",
    "        \"machine_spec\": {\n",
    "            \"machine_type\": 'n1-standard-4',\n",
    "            \"accelerator_count\": 0\n",
    "    },\n",
    "        \"python_package_spec\": {\n",
    "            \"executor_image_uri\": TRAIN_IMAGE,\n",
    "            \"package_uris\": [package_uri],\n",
    "            \"python_module\": \"src.model_training.task\",\n",
    "            \"args\": trainer_args,\n",
    "        }\n",
    "    }\n",
    "]"
   ]
  },
  {
   "cell_type": "markdown",
   "id": "788d6e99",
   "metadata": {},
   "source": [
    "### Submit the training job"
   ]
  },
  {
   "cell_type": "code",
   "execution_count": null,
   "id": "4544105b",
   "metadata": {},
   "outputs": [],
   "source": [
    "print(\"Submitting a custom training job...\")\n",
    "\n",
    "training_job_display_name = f\"{TRAINER_PACKAGE_NAME}_{run_id}\"\n",
    "\n",
    "training_job = vertex_ai.CustomJob(\n",
    "    display_name=training_job_display_name,\n",
    "    worker_pool_specs=worker_pool_specs,\n",
    "    base_output_dir=EXPERIMENT_RUN_DIR,\n",
    ")\n",
    "\n",
    "training_job.run(\n",
    "    service_account=SERVICE_ACCOUNT,\n",
    "    tensorboard=tensorboard_resource_name,\n",
    "    sync=True\n",
    ")"
   ]
  },
  {
   "cell_type": "markdown",
   "id": "c2896b59",
   "metadata": {},
   "source": [
    "## 5. Upload exported model to Vertex AI Models"
   ]
  },
  {
   "cell_type": "code",
   "execution_count": null,
   "id": "e86b288b",
   "metadata": {},
   "outputs": [],
   "source": [
    "!gsutil ls {EXPORT_DIR}"
   ]
  },
  {
   "cell_type": "markdown",
   "id": "f40e0c39",
   "metadata": {},
   "source": [
    "### Generate the Explanation metadata"
   ]
  },
  {
   "cell_type": "code",
   "execution_count": null,
   "id": "e3d5df4c",
   "metadata": {},
   "outputs": [],
   "source": [
    "explanation_config = features.generate_explanation_config()\n",
    "explanation_config"
   ]
  },
  {
   "cell_type": "markdown",
   "id": "85cd0587",
   "metadata": {},
   "source": [
    "### Upload model"
   ]
  },
  {
   "cell_type": "code",
   "execution_count": null,
   "id": "a6d0dbb2",
   "metadata": {},
   "outputs": [],
   "source": [
    "SERVING_RUNTIME='tf2-cpu.2-5'\n",
    "SERVING_IMAGE = f\"us-docker.pkg.dev/vertex-ai/prediction/{SERVING_RUNTIME}:latest\"\n",
    "print(\"Serving image:\", SERVING_IMAGE)"
   ]
  },
  {
   "cell_type": "code",
   "execution_count": null,
   "id": "1b24abd6",
   "metadata": {},
   "outputs": [],
   "source": [
    "explanation_metadata = vertex_ai.explain.ExplanationMetadata(\n",
    "    inputs=explanation_config[\"inputs\"],\n",
    "    outputs=explanation_config[\"outputs\"],\n",
    ")\n",
    "explanation_parameters = vertex_ai.explain.ExplanationParameters(\n",
    "    explanation_config[\"params\"]\n",
    ")\n",
    "\n",
    "vertex_model = vertex_ai.Model.upload(\n",
    "    display_name=MODEL_DISPLAY_NAME,\n",
    "    artifact_uri=EXPORT_DIR,\n",
    "    serving_container_image_uri=SERVING_IMAGE,\n",
    "    parameters_schema_uri=None,\n",
    "    instance_schema_uri=None,\n",
    "    explanation_metadata=explanation_metadata,\n",
    "    explanation_parameters=explanation_parameters,\n",
    "    labels={\n",
    "        'dataset_name': DATASET_DISPLAY_NAME,\n",
    "        'experiment': run_id\n",
    "    }\n",
    ")"
   ]
  },
  {
   "cell_type": "code",
   "execution_count": null,
   "id": "51756dbb",
   "metadata": {},
   "outputs": [],
   "source": [
    "vertex_model.gca_resource"
   ]
  },
  {
   "cell_type": "markdown",
   "id": "4aa55220",
   "metadata": {},
   "source": [
    "## 6. Extract experiment run parameters"
   ]
  },
  {
   "cell_type": "code",
   "execution_count": null,
   "id": "07808f8a",
   "metadata": {},
   "outputs": [],
   "source": [
    "experiment_df = vertex_ai.get_experiment_df()\n",
    "experiment_df = experiment_df[experiment_df.experiment_name == EXPERIMENT_NAME]\n",
    "experiment_df.T"
   ]
  },
  {
   "cell_type": "code",
   "execution_count": null,
   "id": "367183aa",
   "metadata": {},
   "outputs": [],
   "source": [
    "print(\"Vertex AI Experiments:\")\n",
    "print(\n",
    "    f\"https://console.cloud.google.com/vertex-ai/locations{REGION}/experiments/{EXPERIMENT_NAME}/metrics?project={PROJECT}\"\n",
    ")"
   ]
  },
  {
   "cell_type": "markdown",
   "id": "c96618f6",
   "metadata": {},
   "source": [
    "## 7. Submit a Hyperparameter Tuning Job to Vertex AI\n",
    "\n",
    "For more information about configuring a hyperparameter study, refer to [Vertex AI Hyperparameter job configuration](https://cloud.google.com/vertex-ai/docs/training/using-hyperparameter-tuning)."
   ]
  },
  {
   "cell_type": "markdown",
   "id": "bc1b87cd",
   "metadata": {},
   "source": [
    "### Configure a hyperparameter job"
   ]
  },
  {
   "cell_type": "code",
   "execution_count": null,
   "id": "66ffa249",
   "metadata": {},
   "outputs": [],
   "source": [
    "metric_spec = {\n",
    "    'ACCURACY': 'maximize'\n",
    "}\n",
    "\n",
    "parameter_spec = {\n",
    "    'learning-rate': hp_tuning.DoubleParameterSpec(min=0.0001, max=0.01, scale='log'),\n",
    "    'hidden-units': hp_tuning.CategoricalParameterSpec(values=[\"32,32\", \"64,64\", \"128,128\"])\n",
    "}"
   ]
  },
  {
   "cell_type": "code",
   "execution_count": null,
   "id": "d2454dc5",
   "metadata": {},
   "outputs": [],
   "source": [
    "tuning_job_display_name = f\"hpt_{TRAINER_PACKAGE_NAME}_{run_id}\"\n",
    "\n",
    "hp_tuning_job = vertex_ai.HyperparameterTuningJob(\n",
    "    display_name=tuning_job_display_name,\n",
    "    custom_job=training_job,\n",
    "    metric_spec=metric_spec,\n",
    "    parameter_spec=parameter_spec,\n",
    "    max_trial_count=4,\n",
    "    parallel_trial_count=2,\n",
    "    search_algorithm=None # Bayesian optimization.\n",
    ")"
   ]
  },
  {
   "cell_type": "markdown",
   "id": "b8e4ee22",
   "metadata": {},
   "source": [
    "### Submit the hyperparameter tuning job"
   ]
  },
  {
   "cell_type": "code",
   "execution_count": null,
   "id": "dc5b434d",
   "metadata": {},
   "outputs": [],
   "source": [
    "print(\"Submitting a hyperparameter tunning job...\")\n",
    "\n",
    "hp_tuning_job.run(\n",
    "    service_account=SERVICE_ACCOUNT,\n",
    "    tensorboard=tensorboard_resource_name,\n",
    "    restart_job_on_worker_restart=False,\n",
    "    sync=True,\n",
    ")"
   ]
  },
  {
   "cell_type": "markdown",
   "id": "c4fd20da",
   "metadata": {},
   "source": [
    "### Retrieve trial results"
   ]
  },
  {
   "cell_type": "code",
   "execution_count": null,
   "id": "3f8352e3",
   "metadata": {},
   "outputs": [],
   "source": [
    "hp_tuning_job.trials"
   ]
  },
  {
   "cell_type": "code",
   "execution_count": null,
   "id": "311922be",
   "metadata": {},
   "outputs": [],
   "source": [
    "best_trial = sorted(\n",
    "    hp_tuning_job.trials, \n",
    "    key=lambda trial: trial.final_measurement.metrics[0].value, \n",
    "    reverse=True\n",
    ")[0]\n",
    "\n",
    "print(\"Best trial ID:\", best_trial.id)\n",
    "print(\"Validation Accuracy:\", best_trial.final_measurement.metrics[0].value)\n",
    "print(\"Hyperparameter Values:\")\n",
    "for parameter in best_trial.parameters:\n",
    "    print(f\" - {parameter.parameter_id}:{parameter.value}\")"
   ]
  },
  {
   "cell_type": "code",
   "execution_count": null,
   "id": "3e88555c",
   "metadata": {},
   "outputs": [],
   "source": []
  },
  {
   "cell_type": "code",
   "execution_count": null,
   "id": "3b4cf4b1-6bb3-478c-ac70-79f0dbc12e30",
   "metadata": {},
   "outputs": [],
   "source": [
    "!python -c 'from google.cloud import aiplatform as vertex_ai'"
   ]
  },
  {
   "cell_type": "code",
   "execution_count": null,
   "id": "5149a165-5764-4d35-82eb-129444afdc84",
   "metadata": {},
   "outputs": [],
   "source": [
    "with open('requirements.txt')"
   ]
  }
 ],
 "metadata": {
  "environment": {
   "kernel": "python3",
   "name": "common-cpu.m87",
   "type": "gcloud",
   "uri": "gcr.io/deeplearning-platform-release/base-cpu:m87"
  },
  "kernelspec": {
   "display_name": "TensorFlow 2 (Local)",
   "language": "python",
   "name": "local-tf2"
  },
  "language_info": {
   "codemirror_mode": {
    "name": "ipython",
    "version": 3
   },
   "file_extension": ".py",
   "mimetype": "text/x-python",
   "name": "python",
   "nbconvert_exporter": "python",
   "pygments_lexer": "ipython3",
   "version": "3.7.12"
  }
 },
 "nbformat": 4,
 "nbformat_minor": 5
}
