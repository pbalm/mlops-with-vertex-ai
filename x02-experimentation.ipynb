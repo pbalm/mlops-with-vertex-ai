{
 "cells": [
  {
   "cell_type": "markdown",
   "id": "1eae86f7",
   "metadata": {},
   "source": [
    "# 02 - ML Experimentation with Custom Model\n",
    "\n",
    "The purpose of this notebook is to use [custom training](https://cloud.google.com/ai-platform-unified/docs/training/custom-training) to train a keras classifier to predict whether a given trip will result in a tip > 20%. The notebook covers the following tasks:\n",
    "1. Preprocess the data locally using Apache Beam.\n",
    "2. Train and test custom model locally using a Keras implementation.\n",
    "3. Submit a Dataflow job to preprocess the data at scale.\n",
    "4. Submit a custom training job to Vertex AI using a [pre-built container](https://cloud.google.com/ai-platform-unified/docs/training/pre-built-containers).\n",
    "5. Upload the trained model to Vertex AI.\n",
    "6. Track experiment parameters from [Vertex AI Metadata](https://cloud.google.com/vertex-ai/docs/ml-metadata/introduction).\n",
    "7. Submit a [hyperparameter tuning job](https://cloud.google.com/vertex-ai/docs/training/hyperparameter-tuning-overview) to Vertex AI.\n",
    "\n",
    "We use [Vertex TensorBoard](https://cloud.google.com/vertex-ai/docs/experiments/tensorboard-overview) \n",
    "and [Vertex ML Metadata](https://cloud.google.com/vertex-ai/docs/ml-metadata/introduction) to  track, visualize, and compare ML experiments."
   ]
  },
  {
   "cell_type": "markdown",
   "id": "b5205917",
   "metadata": {},
   "source": [
    "## Setup"
   ]
  },
  {
   "cell_type": "markdown",
   "id": "624c6cfe",
   "metadata": {},
   "source": [
    "### Import libraries"
   ]
  },
  {
   "cell_type": "code",
   "execution_count": 1,
   "id": "4171d42a",
   "metadata": {},
   "outputs": [
    {
     "name": "stdout",
     "output_type": "stream",
     "text": [
      "TensorFlow: 2.8.1\n",
      "TensorFlow Transform: 1.8.0\n"
     ]
    }
   ],
   "source": [
    "%load_ext autoreload\n",
    "%autoreload 2\n",
    "\n",
    "import os\n",
    "import logging\n",
    "from datetime import datetime\n",
    "import numpy as np\n",
    "\n",
    "import tensorflow as tf\n",
    "import tensorflow_transform as tft\n",
    "import tensorflow.keras as keras\n",
    "\n",
    "from google.cloud import aiplatform as vertex_ai\n",
    "from google.cloud.aiplatform import hyperparameter_tuning as hp_tuning\n",
    "\n",
    "from src.common import features, datasource_utils\n",
    "from src.model_training import data, model, defaults, trainer, exporter\n",
    "from src.preprocessing import etl\n",
    "\n",
    "logging.getLogger().setLevel(logging.INFO)\n",
    "tf.get_logger().setLevel('INFO')\n",
    "\n",
    "print(f\"TensorFlow: {tf.__version__}\")\n",
    "print(f\"TensorFlow Transform: {tft.__version__}\")"
   ]
  },
  {
   "cell_type": "markdown",
   "id": "fde361cf",
   "metadata": {},
   "source": [
    "### Setup Google Cloud project"
   ]
  },
  {
   "cell_type": "code",
   "execution_count": 3,
   "id": "31fce242",
   "metadata": {},
   "outputs": [
    {
     "name": "stdout",
     "output_type": "stream",
     "text": [
      "Project ID: pbalm-cxb-aa\n",
      "Region: europe-west1\n",
      "Bucket name: pbalm-cxb-aa-eu\n",
      "Service Account: 188940921537-compute@developer.gserviceaccount.com\n",
      "Vertex API Parent URI: projects/pbalm-cxb-aa/locations/europe-west1\n"
     ]
    }
   ],
   "source": [
    "PROJECT = 'pbalm-cxb-aa'\n",
    "REGION = 'europe-west1'\n",
    "BUCKET = PROJECT + '-eu'\n",
    "SERVICE_ACCOUNT = \"188940921537-compute@developer.gserviceaccount.com\"\n",
    "#SERVICE_ACCOUNT = \"sa-mlops@cxb1-prj-test-no-vpcsc.iam.gserviceaccount.com\"\n",
    "#SERVICE_ACCOUNT = \"\" # This will trigger use of user account\n",
    "\n",
    "\n",
    "if PROJECT == \"\" or PROJECT is None or PROJECT == \"[your-project-id]\":\n",
    "    # Get your GCP project id from gcloud\n",
    "    shell_output = !gcloud config list --format 'value(core.project)' 2>/dev/null\n",
    "    PROJECT = shell_output[0]\n",
    "    \n",
    "if SERVICE_ACCOUNT == \"\" or SERVICE_ACCOUNT is None or SERVICE_ACCOUNT == \"[your-service-account]\":\n",
    "    # Get your GCP project id from gcloud\n",
    "    shell_output = !gcloud config list --format 'value(core.account)' 2>/dev/null\n",
    "    SERVICE_ACCOUNT = shell_output[0]\n",
    "    \n",
    "if BUCKET == \"\" or BUCKET is None or BUCKET == \"[your-bucket-name]\":\n",
    "    # Get your bucket name to GCP projet id\n",
    "    BUCKET = PROJECT\n",
    "    # Try to create the bucket if it doesn'exists\n",
    "    ! gsutil mb -l $REGION gs://$BUCKET\n",
    "    print(\"\")\n",
    "    \n",
    "PARENT = f\"projects/{PROJECT}/locations/{REGION}\"\n",
    "    \n",
    "print(\"Project ID:\", PROJECT)\n",
    "print(\"Region:\", REGION)\n",
    "print(\"Bucket name:\", BUCKET)\n",
    "print(\"Service Account:\", SERVICE_ACCOUNT)\n",
    "print(\"Vertex API Parent URI:\", PARENT)"
   ]
  },
  {
   "cell_type": "markdown",
   "id": "26cfd33f",
   "metadata": {},
   "source": [
    "### Set configurations"
   ]
  },
  {
   "cell_type": "code",
   "execution_count": 5,
   "id": "b363e822",
   "metadata": {},
   "outputs": [],
   "source": [
    "VERSION = 'v01'\n",
    "VERTEX_DATASET_NAME = 'creditcards'\n",
    "\n",
    "MODEL_DISPLAY_NAME = f'{VERTEX_DATASET_NAME}-classifier-{VERSION}'\n",
    "\n",
    "WORKSPACE = f'gs://{BUCKET}/{VERTEX_DATASET_NAME}'\n",
    "EXPERIMENT_ARTIFACTS_DIR = os.path.join(WORKSPACE, 'experiments')\n",
    "RAW_SCHEMA_LOCATION = 'src/raw_schema/schema.pbtxt'\n",
    "\n",
    "TENSORBOARD_DISPLAY_NAME = f'tb-{VERTEX_DATASET_NAME}'\n",
    "EXPERIMENT_NAME = f'{MODEL_DISPLAY_NAME}'\n",
    "DATAFLOW_REGION = f'{REGION}'\n",
    "DATAFLOW_SERVICE_ACCOUNT = SERVICE_ACCOUNT\n",
    "#DATAFLOW_SUBNETWORK = 'https://www.googleapis.com/compute/v1/projects/cxb1-prj-test-no-vpcsc/regions/europe-west1/subnetworks/default'\n",
    "DATAFLOW_SUBNETWORK = f'https://www.googleapis.com/compute/v1/projects/pbalm-cxb-aa/regions/{REGION}/subnetworks/default'\n",
    "\n",
    "if not REGION in DATAFLOW_SUBNETWORK:\n",
    "    raise Exception(f'{DATAFLOW_SUBNETWORK} is not a valid subnet for {REGION}')\n"
   ]
  },
  {
   "cell_type": "markdown",
   "id": "e2cf63d9",
   "metadata": {},
   "source": [
    "## Create Vertex TensorBoard instance "
   ]
  },
  {
   "cell_type": "code",
   "execution_count": 4,
   "id": "1cf8ef5c",
   "metadata": {},
   "outputs": [
    {
     "name": "stdout",
     "output_type": "stream",
     "text": [
      "Creating Tensorboard\n",
      "Create Tensorboard backing LRO: projects/188940921537/locations/europe-west4/tensorboards/8323953933147963392/operations/5219162344482930688\n",
      "Tensorboard created. Resource name: projects/188940921537/locations/europe-west4/tensorboards/8323953933147963392\n",
      "To use this Tensorboard in another session:\n",
      "tb = aiplatform.Tensorboard('projects/188940921537/locations/europe-west4/tensorboards/8323953933147963392')\n",
      "TensorBoard resource name: projects/188940921537/locations/europe-west4/tensorboards/8323953933147963392\n"
     ]
    }
   ],
   "source": [
    "vertex_ai.init(location=REGION)\n",
    "tensorboard_resource = vertex_ai.Tensorboard.create(display_name=TENSORBOARD_DISPLAY_NAME)\n",
    "tensorboard_resource_name = tensorboard_resource.gca_resource.name\n",
    "print(\"TensorBoard resource name:\", tensorboard_resource_name)"
   ]
  },
  {
   "cell_type": "markdown",
   "id": "670a3859",
   "metadata": {},
   "source": [
    "## Initialize workspace"
   ]
  },
  {
   "cell_type": "code",
   "execution_count": 6,
   "id": "7d03fba1",
   "metadata": {},
   "outputs": [
    {
     "name": "stdout",
     "output_type": "stream",
     "text": [
      "Creating new experiment artifacts directory...\n",
      "Workspace is ready.\n",
      "Experiment directory: gs://pbalm-cxb-aa-eu/creditcards/experiments\n"
     ]
    }
   ],
   "source": [
    "REMOVE_EXPERIMENT_ARTIFACTS = False\n",
    "\n",
    "if tf.io.gfile.exists(EXPERIMENT_ARTIFACTS_DIR) and REMOVE_EXPERIMENT_ARTIFACTS:\n",
    "    print(\"Removing previous experiment artifacts...\")\n",
    "    tf.io.gfile.rmtree(EXPERIMENT_ARTIFACTS_DIR)\n",
    "\n",
    "if not tf.io.gfile.exists(EXPERIMENT_ARTIFACTS_DIR):\n",
    "    print(\"Creating new experiment artifacts directory...\")\n",
    "    tf.io.gfile.mkdir(EXPERIMENT_ARTIFACTS_DIR)\n",
    "\n",
    "print(\"Workspace is ready.\")\n",
    "print(\"Experiment directory:\", EXPERIMENT_ARTIFACTS_DIR)"
   ]
  },
  {
   "cell_type": "markdown",
   "id": "bd08e503",
   "metadata": {},
   "source": [
    "## Initialize Vertex AI experiment"
   ]
  },
  {
   "cell_type": "code",
   "execution_count": 6,
   "id": "f3aefc2c",
   "metadata": {},
   "outputs": [
    {
     "name": "stderr",
     "output_type": "stream",
     "text": [
      "INFO:root:Resource creditcards-classifier-v01-run-local-20220630151549 not found.\n",
      "INFO:root:Creating Resource creditcards-classifier-v01-run-local-20220630151549\n",
      "INFO:root:Resource creditcards-classifier-v01-run-local-20220630151549-metrics not found.\n",
      "INFO:root:Creating Resource creditcards-classifier-v01-run-local-20220630151549-metrics\n"
     ]
    },
    {
     "name": "stdout",
     "output_type": "stream",
     "text": [
      "Experiment run directory: gs://pbalm-cxb-aa-eu/creditcards/experiments/creditcards-classifier-v01/run-local-20220630151549\n"
     ]
    }
   ],
   "source": [
    "vertex_ai.init(\n",
    "    project=PROJECT,\n",
    "    location=REGION,\n",
    "    staging_bucket=BUCKET,\n",
    "    experiment=EXPERIMENT_NAME\n",
    ")\n",
    "\n",
    "run_id = f\"run-local-{datetime.now().strftime('%Y%m%d%H%M%S')}\"\n",
    "vertex_ai.start_run(run_id)\n",
    "\n",
    "EXPERIMENT_RUN_DIR = os.path.join(EXPERIMENT_ARTIFACTS_DIR, EXPERIMENT_NAME, run_id)\n",
    "print(\"Experiment run directory:\", EXPERIMENT_RUN_DIR)"
   ]
  },
  {
   "cell_type": "markdown",
   "id": "f9c8cee2",
   "metadata": {},
   "source": [
    "## 1. Preprocess the data using Apache Beam\n",
    "\n",
    "The Apache Beam pipeline of data preprocessing is implemented in the [preprocessing](src/preprocessing) directory."
   ]
  },
  {
   "cell_type": "code",
   "execution_count": 7,
   "id": "84a613a2",
   "metadata": {},
   "outputs": [],
   "source": [
    "EXPORTED_DATA_PREFIX = os.path.join(EXPERIMENT_RUN_DIR, 'exported_data')\n",
    "TRANSFORMED_DATA_PREFIX = os.path.join(EXPERIMENT_RUN_DIR, 'transformed_data')\n",
    "TRANSFORM_ARTIFACTS_DIR = os.path.join(EXPERIMENT_RUN_DIR, 'transform_artifacts')"
   ]
  },
  {
   "cell_type": "markdown",
   "id": "264b81f3",
   "metadata": {},
   "source": [
    "### Get Source Query from Managed Dataset"
   ]
  },
  {
   "cell_type": "code",
   "execution_count": 9,
   "id": "c9b8ad0f",
   "metadata": {},
   "outputs": [
    {
     "name": "stdout",
     "output_type": "stream",
     "text": [
      "\n",
      "    SELECT *\n",
      "    \n",
      "    EXCEPT (Time, ML_use)\n",
      "    FROM vertex_eu.creditcards_ml \n",
      "    WHERE ML_use = 'UNASSIGNED'\n",
      "    LIMIT 5120\n"
     ]
    }
   ],
   "source": [
    "ML_USE = 'UNASSIGNED'\n",
    "LIMIT = 5120\n",
    "\n",
    "raw_data_query = datasource_utils.get_training_source_query(\n",
    "    project=PROJECT, \n",
    "    region=REGION, \n",
    "    dataset_display_name=VERTEX_DATASET_NAME, \n",
    "    ml_use=ML_USE, \n",
    "    limit=LIMIT\n",
    ")\n",
    "\n",
    "print(raw_data_query)"
   ]
  },
  {
   "cell_type": "markdown",
   "id": "6047eac1",
   "metadata": {},
   "source": [
    "### Test Data Preprocessing Locally"
   ]
  },
  {
   "cell_type": "code",
   "execution_count": 10,
   "id": "ac9b5b05",
   "metadata": {},
   "outputs": [],
   "source": [
    "args = {\n",
    "    'runner': 'DirectRunner',\n",
    "    'raw_data_query': raw_data_query,\n",
    "    'write_raw_data': True,\n",
    "    'exported_data_prefix': EXPORTED_DATA_PREFIX,\n",
    "    'transformed_data_prefix': TRANSFORMED_DATA_PREFIX,\n",
    "    'transform_artifact_dir': TRANSFORM_ARTIFACTS_DIR,\n",
    "    'temporary_dir': os.path.join(WORKSPACE, 'tmp'),\n",
    "    'gcs_location': f'gs://{BUCKET}/bq_tmp',\n",
    "    'project': PROJECT,\n",
    "    'region': REGION\n",
    "}"
   ]
  },
  {
   "cell_type": "code",
   "execution_count": 11,
   "id": "6c225f37",
   "metadata": {},
   "outputs": [],
   "source": [
    "vertex_ai.log_params(args)"
   ]
  },
  {
   "cell_type": "code",
   "execution_count": 12,
   "id": "56ece730",
   "metadata": {},
   "outputs": [
    {
     "name": "stderr",
     "output_type": "stream",
     "text": [
      "WARNING:apache_beam.runners.interactive.interactive_environment:Dependencies required for Interactive Beam PCollection visualization are not available, please use: `pip install apache-beam[interactive]` to install necessary dependencies to enable all data visualization features.\n"
     ]
    },
    {
     "name": "stdout",
     "output_type": "stream",
     "text": [
      "Data preprocessing started...\n"
     ]
    },
    {
     "data": {
      "application/javascript": [
       "\n",
       "        if (typeof window.interactive_beam_jquery == 'undefined') {\n",
       "          var jqueryScript = document.createElement('script');\n",
       "          jqueryScript.src = 'https://code.jquery.com/jquery-3.4.1.slim.min.js';\n",
       "          jqueryScript.type = 'text/javascript';\n",
       "          jqueryScript.onload = function() {\n",
       "            var datatableScript = document.createElement('script');\n",
       "            datatableScript.src = 'https://cdn.datatables.net/1.10.20/js/jquery.dataTables.min.js';\n",
       "            datatableScript.type = 'text/javascript';\n",
       "            datatableScript.onload = function() {\n",
       "              window.interactive_beam_jquery = jQuery.noConflict(true);\n",
       "              window.interactive_beam_jquery(document).ready(function($){\n",
       "                \n",
       "              });\n",
       "            }\n",
       "            document.head.appendChild(datatableScript);\n",
       "          };\n",
       "          document.head.appendChild(jqueryScript);\n",
       "        } else {\n",
       "          window.interactive_beam_jquery(document).ready(function($){\n",
       "            \n",
       "          });\n",
       "        }"
      ]
     },
     "metadata": {},
     "output_type": "display_data"
    },
    {
     "name": "stdout",
     "output_type": "stream",
     "text": [
      "WARNING:tensorflow:You are passing instance dicts and DatasetMetadata to TFT which will not provide optimal performance. Consider following the TFT guide to upgrade to the TFXIO format (Apache Arrow RecordBatch).\n"
     ]
    },
    {
     "name": "stderr",
     "output_type": "stream",
     "text": [
      "/opt/conda/lib/python3.7/site-packages/apache_beam/io/gcp/bigquery.py:2471: BeamDeprecationWarning: options is deprecated since First stable release. References to <pipeline>.options will not be supported\n",
      "  temp_location = pcoll.pipeline.options.view_as(\n",
      "WARNING:tensorflow:You are passing instance dicts and DatasetMetadata to TFT which will not provide optimal performance. Consider following the TFT guide to upgrade to the TFXIO format (Apache Arrow RecordBatch).\n",
      "INFO:absl:Feature Amount has a shape dim {\n",
      "  size: 1\n",
      "}\n",
      ". Setting to DenseTensor.\n",
      "INFO:absl:Feature Class has a shape dim {\n",
      "  size: 1\n",
      "}\n",
      ". Setting to DenseTensor.\n",
      "INFO:absl:Feature V1 has a shape dim {\n",
      "  size: 1\n",
      "}\n",
      ". Setting to DenseTensor.\n",
      "INFO:absl:Feature V10 has a shape dim {\n",
      "  size: 1\n",
      "}\n",
      ". Setting to DenseTensor.\n",
      "INFO:absl:Feature V11 has a shape dim {\n",
      "  size: 1\n",
      "}\n",
      ". Setting to DenseTensor.\n",
      "INFO:absl:Feature V12 has a shape dim {\n",
      "  size: 1\n",
      "}\n",
      ". Setting to DenseTensor.\n",
      "INFO:absl:Feature V13 has a shape dim {\n",
      "  size: 1\n",
      "}\n",
      ". Setting to DenseTensor.\n",
      "INFO:absl:Feature V14 has a shape dim {\n",
      "  size: 1\n",
      "}\n",
      ". Setting to DenseTensor.\n",
      "INFO:absl:Feature V15 has a shape dim {\n",
      "  size: 1\n",
      "}\n",
      ". Setting to DenseTensor.\n",
      "INFO:absl:Feature V16 has a shape dim {\n",
      "  size: 1\n",
      "}\n",
      ". Setting to DenseTensor.\n",
      "INFO:absl:Feature V17 has a shape dim {\n",
      "  size: 1\n",
      "}\n",
      ". Setting to DenseTensor.\n",
      "INFO:absl:Feature V18 has a shape dim {\n",
      "  size: 1\n",
      "}\n",
      ". Setting to DenseTensor.\n",
      "INFO:absl:Feature V19 has a shape dim {\n",
      "  size: 1\n",
      "}\n",
      ". Setting to DenseTensor.\n",
      "INFO:absl:Feature V2 has a shape dim {\n",
      "  size: 1\n",
      "}\n",
      ". Setting to DenseTensor.\n",
      "INFO:absl:Feature V20 has a shape dim {\n",
      "  size: 1\n",
      "}\n",
      ". Setting to DenseTensor.\n",
      "INFO:absl:Feature V21 has a shape dim {\n",
      "  size: 1\n",
      "}\n",
      ". Setting to DenseTensor.\n",
      "INFO:absl:Feature V22 has a shape dim {\n",
      "  size: 1\n",
      "}\n",
      ". Setting to DenseTensor.\n",
      "INFO:absl:Feature V23 has a shape dim {\n",
      "  size: 1\n",
      "}\n",
      ". Setting to DenseTensor.\n",
      "INFO:absl:Feature V24 has a shape dim {\n",
      "  size: 1\n",
      "}\n",
      ". Setting to DenseTensor.\n",
      "INFO:absl:Feature V25 has a shape dim {\n",
      "  size: 1\n",
      "}\n",
      ". Setting to DenseTensor.\n",
      "INFO:absl:Feature V26 has a shape dim {\n",
      "  size: 1\n",
      "}\n",
      ". Setting to DenseTensor.\n",
      "INFO:absl:Feature V27 has a shape dim {\n",
      "  size: 1\n",
      "}\n",
      ". Setting to DenseTensor.\n",
      "INFO:absl:Feature V28 has a shape dim {\n",
      "  size: 1\n",
      "}\n",
      ". Setting to DenseTensor.\n",
      "INFO:absl:Feature V3 has a shape dim {\n",
      "  size: 1\n",
      "}\n",
      ". Setting to DenseTensor.\n",
      "INFO:absl:Feature V4 has a shape dim {\n",
      "  size: 1\n",
      "}\n",
      ". Setting to DenseTensor.\n",
      "INFO:absl:Feature V5 has a shape dim {\n",
      "  size: 1\n",
      "}\n",
      ". Setting to DenseTensor.\n",
      "INFO:absl:Feature V6 has a shape dim {\n",
      "  size: 1\n",
      "}\n",
      ". Setting to DenseTensor.\n",
      "INFO:absl:Feature V7 has a shape dim {\n",
      "  size: 1\n",
      "}\n",
      ". Setting to DenseTensor.\n",
      "INFO:absl:Feature V8 has a shape dim {\n",
      "  size: 1\n",
      "}\n",
      ". Setting to DenseTensor.\n",
      "INFO:absl:Feature V9 has a shape dim {\n",
      "  size: 1\n",
      "}\n",
      ". Setting to DenseTensor.\n"
     ]
    },
    {
     "name": "stdout",
     "output_type": "stream",
     "text": [
      "WARNING:tensorflow:From /opt/conda/lib/python3.7/site-packages/tensorflow_transform/tf_utils.py:326: Tensor.experimental_ref (from tensorflow.python.framework.ops) is deprecated and will be removed in a future version.\n",
      "Instructions for updating:\n",
      "Use ref() instead.\n"
     ]
    },
    {
     "name": "stderr",
     "output_type": "stream",
     "text": [
      "2022-06-30 15:16:10.608238: I tensorflow/core/platform/cpu_feature_guard.cc:151] This TensorFlow binary is optimized with oneAPI Deep Neural Network Library (oneDNN) to use the following CPU instructions in performance-critical operations:  AVX512F\n",
      "To enable them in other operations, rebuild TensorFlow with the appropriate compiler flags.\n",
      "2022-06-30 15:16:10.610407: I tensorflow/core/common_runtime/process_util.cc:146] Creating new thread pool with default inter op setting: 2. Tune using inter_op_parallelism_threads for best performance.\n",
      "WARNING:tensorflow:From /opt/conda/lib/python3.7/site-packages/tensorflow_transform/tf_utils.py:326: Tensor.experimental_ref (from tensorflow.python.framework.ops) is deprecated and will be removed in a future version.\n",
      "Instructions for updating:\n",
      "Use ref() instead.\n"
     ]
    },
    {
     "name": "stdout",
     "output_type": "stream",
     "text": [
      "WARNING:tensorflow:You are passing instance dicts and DatasetMetadata to TFT which will not provide optimal performance. Consider following the TFT guide to upgrade to the TFXIO format (Apache Arrow RecordBatch).\n"
     ]
    },
    {
     "name": "stderr",
     "output_type": "stream",
     "text": [
      "WARNING:tensorflow:You are passing instance dicts and DatasetMetadata to TFT which will not provide optimal performance. Consider following the TFT guide to upgrade to the TFXIO format (Apache Arrow RecordBatch).\n",
      "INFO:absl:Feature Amount has a shape dim {\n",
      "  size: 1\n",
      "}\n",
      ". Setting to DenseTensor.\n",
      "INFO:absl:Feature Class has a shape dim {\n",
      "  size: 1\n",
      "}\n",
      ". Setting to DenseTensor.\n",
      "INFO:absl:Feature V1 has a shape dim {\n",
      "  size: 1\n",
      "}\n",
      ". Setting to DenseTensor.\n",
      "INFO:absl:Feature V10 has a shape dim {\n",
      "  size: 1\n",
      "}\n",
      ". Setting to DenseTensor.\n",
      "INFO:absl:Feature V11 has a shape dim {\n",
      "  size: 1\n",
      "}\n",
      ". Setting to DenseTensor.\n",
      "INFO:absl:Feature V12 has a shape dim {\n",
      "  size: 1\n",
      "}\n",
      ". Setting to DenseTensor.\n",
      "INFO:absl:Feature V13 has a shape dim {\n",
      "  size: 1\n",
      "}\n",
      ". Setting to DenseTensor.\n",
      "INFO:absl:Feature V14 has a shape dim {\n",
      "  size: 1\n",
      "}\n",
      ". Setting to DenseTensor.\n",
      "INFO:absl:Feature V15 has a shape dim {\n",
      "  size: 1\n",
      "}\n",
      ". Setting to DenseTensor.\n",
      "INFO:absl:Feature V16 has a shape dim {\n",
      "  size: 1\n",
      "}\n",
      ". Setting to DenseTensor.\n",
      "INFO:absl:Feature V17 has a shape dim {\n",
      "  size: 1\n",
      "}\n",
      ". Setting to DenseTensor.\n",
      "INFO:absl:Feature V18 has a shape dim {\n",
      "  size: 1\n",
      "}\n",
      ". Setting to DenseTensor.\n",
      "INFO:absl:Feature V19 has a shape dim {\n",
      "  size: 1\n",
      "}\n",
      ". Setting to DenseTensor.\n",
      "INFO:absl:Feature V2 has a shape dim {\n",
      "  size: 1\n",
      "}\n",
      ". Setting to DenseTensor.\n",
      "INFO:absl:Feature V20 has a shape dim {\n",
      "  size: 1\n",
      "}\n",
      ". Setting to DenseTensor.\n",
      "INFO:absl:Feature V21 has a shape dim {\n",
      "  size: 1\n",
      "}\n",
      ". Setting to DenseTensor.\n",
      "INFO:absl:Feature V22 has a shape dim {\n",
      "  size: 1\n",
      "}\n",
      ". Setting to DenseTensor.\n",
      "INFO:absl:Feature V23 has a shape dim {\n",
      "  size: 1\n",
      "}\n",
      ". Setting to DenseTensor.\n",
      "INFO:absl:Feature V24 has a shape dim {\n",
      "  size: 1\n",
      "}\n",
      ". Setting to DenseTensor.\n",
      "INFO:absl:Feature V25 has a shape dim {\n",
      "  size: 1\n",
      "}\n",
      ". Setting to DenseTensor.\n",
      "INFO:absl:Feature V26 has a shape dim {\n",
      "  size: 1\n",
      "}\n",
      ". Setting to DenseTensor.\n",
      "INFO:absl:Feature V27 has a shape dim {\n",
      "  size: 1\n",
      "}\n",
      ". Setting to DenseTensor.\n",
      "INFO:absl:Feature V28 has a shape dim {\n",
      "  size: 1\n",
      "}\n",
      ". Setting to DenseTensor.\n",
      "INFO:absl:Feature V3 has a shape dim {\n",
      "  size: 1\n",
      "}\n",
      ". Setting to DenseTensor.\n",
      "INFO:absl:Feature V4 has a shape dim {\n",
      "  size: 1\n",
      "}\n",
      ". Setting to DenseTensor.\n",
      "INFO:absl:Feature V5 has a shape dim {\n",
      "  size: 1\n",
      "}\n",
      ". Setting to DenseTensor.\n",
      "INFO:absl:Feature V6 has a shape dim {\n",
      "  size: 1\n",
      "}\n",
      ". Setting to DenseTensor.\n",
      "INFO:absl:Feature V7 has a shape dim {\n",
      "  size: 1\n",
      "}\n",
      ". Setting to DenseTensor.\n",
      "INFO:absl:Feature V8 has a shape dim {\n",
      "  size: 1\n",
      "}\n",
      ". Setting to DenseTensor.\n",
      "INFO:absl:Feature V9 has a shape dim {\n",
      "  size: 1\n",
      "}\n",
      ". Setting to DenseTensor.\n"
     ]
    },
    {
     "name": "stdout",
     "output_type": "stream",
     "text": [
      "WARNING:tensorflow:You are passing instance dicts and DatasetMetadata to TFT which will not provide optimal performance. Consider following the TFT guide to upgrade to the TFXIO format (Apache Arrow RecordBatch).\n"
     ]
    },
    {
     "name": "stderr",
     "output_type": "stream",
     "text": [
      "WARNING:tensorflow:You are passing instance dicts and DatasetMetadata to TFT which will not provide optimal performance. Consider following the TFT guide to upgrade to the TFXIO format (Apache Arrow RecordBatch).\n",
      "INFO:absl:Feature Amount has a shape dim {\n",
      "  size: 1\n",
      "}\n",
      ". Setting to DenseTensor.\n",
      "INFO:absl:Feature Class has a shape dim {\n",
      "  size: 1\n",
      "}\n",
      ". Setting to DenseTensor.\n",
      "INFO:absl:Feature V1 has a shape dim {\n",
      "  size: 1\n",
      "}\n",
      ". Setting to DenseTensor.\n",
      "INFO:absl:Feature V10 has a shape dim {\n",
      "  size: 1\n",
      "}\n",
      ". Setting to DenseTensor.\n",
      "INFO:absl:Feature V11 has a shape dim {\n",
      "  size: 1\n",
      "}\n",
      ". Setting to DenseTensor.\n",
      "INFO:absl:Feature V12 has a shape dim {\n",
      "  size: 1\n",
      "}\n",
      ". Setting to DenseTensor.\n",
      "INFO:absl:Feature V13 has a shape dim {\n",
      "  size: 1\n",
      "}\n",
      ". Setting to DenseTensor.\n",
      "INFO:absl:Feature V14 has a shape dim {\n",
      "  size: 1\n",
      "}\n",
      ". Setting to DenseTensor.\n",
      "INFO:absl:Feature V15 has a shape dim {\n",
      "  size: 1\n",
      "}\n",
      ". Setting to DenseTensor.\n",
      "INFO:absl:Feature V16 has a shape dim {\n",
      "  size: 1\n",
      "}\n",
      ". Setting to DenseTensor.\n",
      "INFO:absl:Feature V17 has a shape dim {\n",
      "  size: 1\n",
      "}\n",
      ". Setting to DenseTensor.\n",
      "INFO:absl:Feature V18 has a shape dim {\n",
      "  size: 1\n",
      "}\n",
      ". Setting to DenseTensor.\n",
      "INFO:absl:Feature V19 has a shape dim {\n",
      "  size: 1\n",
      "}\n",
      ". Setting to DenseTensor.\n",
      "INFO:absl:Feature V2 has a shape dim {\n",
      "  size: 1\n",
      "}\n",
      ". Setting to DenseTensor.\n",
      "INFO:absl:Feature V20 has a shape dim {\n",
      "  size: 1\n",
      "}\n",
      ". Setting to DenseTensor.\n",
      "INFO:absl:Feature V21 has a shape dim {\n",
      "  size: 1\n",
      "}\n",
      ". Setting to DenseTensor.\n",
      "INFO:absl:Feature V22 has a shape dim {\n",
      "  size: 1\n",
      "}\n",
      ". Setting to DenseTensor.\n",
      "INFO:absl:Feature V23 has a shape dim {\n",
      "  size: 1\n",
      "}\n",
      ". Setting to DenseTensor.\n",
      "INFO:absl:Feature V24 has a shape dim {\n",
      "  size: 1\n",
      "}\n",
      ". Setting to DenseTensor.\n",
      "INFO:absl:Feature V25 has a shape dim {\n",
      "  size: 1\n",
      "}\n",
      ". Setting to DenseTensor.\n",
      "INFO:absl:Feature V26 has a shape dim {\n",
      "  size: 1\n",
      "}\n",
      ". Setting to DenseTensor.\n",
      "INFO:absl:Feature V27 has a shape dim {\n",
      "  size: 1\n",
      "}\n",
      ". Setting to DenseTensor.\n",
      "INFO:absl:Feature V28 has a shape dim {\n",
      "  size: 1\n",
      "}\n",
      ". Setting to DenseTensor.\n",
      "INFO:absl:Feature V3 has a shape dim {\n",
      "  size: 1\n",
      "}\n",
      ". Setting to DenseTensor.\n",
      "INFO:absl:Feature V4 has a shape dim {\n",
      "  size: 1\n",
      "}\n",
      ". Setting to DenseTensor.\n",
      "INFO:absl:Feature V5 has a shape dim {\n",
      "  size: 1\n",
      "}\n",
      ". Setting to DenseTensor.\n",
      "INFO:absl:Feature V6 has a shape dim {\n",
      "  size: 1\n",
      "}\n",
      ". Setting to DenseTensor.\n",
      "INFO:absl:Feature V7 has a shape dim {\n",
      "  size: 1\n",
      "}\n",
      ". Setting to DenseTensor.\n",
      "INFO:absl:Feature V8 has a shape dim {\n",
      "  size: 1\n",
      "}\n",
      ". Setting to DenseTensor.\n",
      "INFO:absl:Feature V9 has a shape dim {\n",
      "  size: 1\n",
      "}\n",
      ". Setting to DenseTensor.\n",
      "WARNING:apache_beam.options.pipeline_options:Discarding invalid overrides: {'raw_data_query': \"\\n    SELECT *\\n    \\n    EXCEPT (Time, ML_use)\\n    FROM vertex_eu.creditcards_ml \\n    WHERE ML_use = 'UNASSIGNED'\\n    LIMIT 5120\", 'write_raw_data': True, 'exported_data_prefix': 'gs://pbalm-cxb-aa-eu/creditcards/experiments/creditcards-classifier-v01/run-local-20220630151549/exported_data', 'transformed_data_prefix': 'gs://pbalm-cxb-aa-eu/creditcards/experiments/creditcards-classifier-v01/run-local-20220630151549/transformed_data', 'transform_artifact_dir': 'gs://pbalm-cxb-aa-eu/creditcards/experiments/creditcards-classifier-v01/run-local-20220630151549/transform_artifacts', 'temporary_dir': 'gs://pbalm-cxb-aa-eu/creditcards/tmp', 'gcs_location': 'gs://pbalm-cxb-aa-eu/bq_tmp'}\n",
      "WARNING:root:Make sure that locally built Python SDK docker image has Python 3.7 interpreter.\n",
      "INFO:root:Default Python SDK image for environment is apache/beam_python3.7_sdk:2.39.0\n",
      "INFO:apache_beam.runners.portability.fn_api_runner.translations:==================== <function annotate_downstream_side_inputs at 0x7f56c8d04680> ====================\n",
      "INFO:apache_beam.runners.portability.fn_api_runner.translations:==================== <function fix_side_input_pcoll_coders at 0x7f56c8d047a0> ====================\n",
      "INFO:apache_beam.runners.portability.fn_api_runner.translations:==================== <function pack_combiners at 0x7f56c8d04cb0> ====================\n",
      "INFO:apache_beam.runners.portability.fn_api_runner.translations:==================== <function lift_combiners at 0x7f56c8d04d40> ====================\n",
      "INFO:apache_beam.runners.portability.fn_api_runner.translations:==================== <function expand_sdf at 0x7f56c8d04ef0> ====================\n",
      "INFO:apache_beam.runners.portability.fn_api_runner.translations:==================== <function expand_gbk at 0x7f56c8d04f80> ====================\n",
      "INFO:apache_beam.runners.portability.fn_api_runner.translations:==================== <function sink_flattens at 0x7f56c8d050e0> ====================\n",
      "INFO:apache_beam.runners.portability.fn_api_runner.translations:==================== <function greedily_fuse at 0x7f56c8d05170> ====================\n",
      "INFO:apache_beam.runners.portability.fn_api_runner.translations:==================== <function read_to_impulse at 0x7f56c8d05200> ====================\n",
      "INFO:apache_beam.runners.portability.fn_api_runner.translations:==================== <function impulse_to_input at 0x7f56c8d05290> ====================\n",
      "INFO:apache_beam.runners.portability.fn_api_runner.translations:==================== <function sort_stages at 0x7f56c8d054d0> ====================\n",
      "INFO:apache_beam.runners.portability.fn_api_runner.translations:==================== <function add_impulse_to_dangling_transforms at 0x7f56c8d055f0> ====================\n",
      "INFO:apache_beam.runners.portability.fn_api_runner.translations:==================== <function setup_timer_mapping at 0x7f56c8d05440> ====================\n",
      "INFO:apache_beam.runners.portability.fn_api_runner.translations:==================== <function populate_data_channel_coders at 0x7f56c8d05560> ====================\n",
      "INFO:apache_beam.runners.worker.statecache:Creating state cache with size 100\n",
      "INFO:apache_beam.runners.portability.fn_api_runner.worker_handlers:Created Worker handler <apache_beam.runners.portability.fn_api_runner.worker_handlers.EmbeddedWorkerHandler object at 0x7f56c733cd50> for environment ref_Environment_default_environment_1 (beam:env:embedded_python:v1, b'')\n",
      "2022-06-30 15:16:21.578748: W tensorflow/python/util/util.cc:368] Sets are not currently considered sequences, but this may change in the future, so consider avoiding using them.\n"
     ]
    },
    {
     "name": "stdout",
     "output_type": "stream",
     "text": [
      "INFO:tensorflow:Assets written to: gs://pbalm-cxb-aa-eu/creditcards/tmp/tftransform_tmp/ed7189af5a58485c865197b8e547e269/assets\n"
     ]
    },
    {
     "name": "stderr",
     "output_type": "stream",
     "text": [
      "INFO:tensorflow:Assets written to: gs://pbalm-cxb-aa-eu/creditcards/tmp/tftransform_tmp/ed7189af5a58485c865197b8e547e269/assets\n",
      "INFO:apache_beam.internal.gcp.auth:Setting socket default timeout to 60 seconds.\n",
      "INFO:apache_beam.internal.gcp.auth:socket default timeout is 60.0 seconds.\n",
      "INFO:apache_beam.io.gcp.bigquery_tools:Started BigQuery job: <JobReference\n",
      " location: 'EU'\n",
      " projectId: 'pbalm-cxb-aa'>\n",
      " bq show -j --format=prettyjson --project_id=pbalm-cxb-aa None\n",
      "INFO:apache_beam.io.gcp.bigquery_tools:Using location 'EU' from table <TableReference\n",
      " datasetId: 'vertex_eu'\n",
      " projectId: 'pbalm-cxb-aa'\n",
      " tableId: 'creditcards_ml'> referenced by query \n",
      "    SELECT *\n",
      "    \n",
      "    EXCEPT (Time, ML_use)\n",
      "    FROM vertex_eu.creditcards_ml \n",
      "    WHERE ML_use = 'UNASSIGNED'\n",
      "    LIMIT 5120\n",
      "WARNING:apache_beam.io.gcp.bigquery_tools:Dataset pbalm-cxb-aa:beam_temp_dataset_95c6a119735044d4988d7c175c1b3f61 does not exist so we will create it as temporary with location=EU\n",
      "INFO:apache_beam.io.gcp.bigquery_tools:Started BigQuery job: <JobReference\n",
      " jobId: 'beam_bq_job_QUERY_BQ_EXPORT_JOB_47349d99-e_1656602187_591'\n",
      " location: 'EU'\n",
      " projectId: 'pbalm-cxb-aa'>\n",
      " bq show -j --format=prettyjson --project_id=pbalm-cxb-aa beam_bq_job_QUERY_BQ_EXPORT_JOB_47349d99-e_1656602187_591\n",
      "INFO:root:Job status: RUNNING\n",
      "INFO:root:Job status: DONE\n",
      "INFO:apache_beam.io.gcp.bigquery_tools:Started BigQuery job: <JobReference\n",
      " jobId: 'beam_bq_job_EXPORT_BQ_EXPORT_JOB_47349d99-e_1656602193_407'\n",
      " location: 'EU'\n",
      " projectId: 'pbalm-cxb-aa'>\n",
      " bq show -j --format=prettyjson --project_id=pbalm-cxb-aa beam_bq_job_EXPORT_BQ_EXPORT_JOB_47349d99-e_1656602193_407\n",
      "INFO:root:Job status: RUNNING\n",
      "INFO:root:Job status: DONE\n",
      "INFO:apache_beam.io.gcp.gcsio:Starting the file information of the input\n",
      "INFO:apache_beam.io.gcp.gcsio:Finished listing 1 files in 0.03950047492980957 seconds.\n"
     ]
    },
    {
     "name": "stdout",
     "output_type": "stream",
     "text": [
      "INFO:tensorflow:struct2tensor is not available.\n"
     ]
    },
    {
     "name": "stderr",
     "output_type": "stream",
     "text": [
      "INFO:tensorflow:struct2tensor is not available.\n"
     ]
    },
    {
     "name": "stdout",
     "output_type": "stream",
     "text": [
      "INFO:tensorflow:tensorflow_decision_forests is not available.\n"
     ]
    },
    {
     "name": "stderr",
     "output_type": "stream",
     "text": [
      "INFO:tensorflow:tensorflow_decision_forests is not available.\n"
     ]
    },
    {
     "name": "stdout",
     "output_type": "stream",
     "text": [
      "INFO:tensorflow:tensorflow_text is not available.\n"
     ]
    },
    {
     "name": "stderr",
     "output_type": "stream",
     "text": [
      "INFO:tensorflow:tensorflow_text is not available.\n",
      "WARNING:apache_beam.io.tfrecordio:Couldn't find python-snappy so the implementation of _TFRecordUtil._masked_crc32c is not as fast as it could be.\n",
      "INFO:apache_beam.io.gcp.gcsio:Starting the file information of the input\n",
      "INFO:apache_beam.io.gcp.gcsio:Finished listing 1 files in 0.033843994140625 seconds.\n",
      "INFO:apache_beam.io.gcp.gcsio:Starting the file information of the input\n",
      "INFO:apache_beam.io.gcp.gcsio:Finished listing 0 files in 0.04165196418762207 seconds.\n",
      "INFO:apache_beam.io.gcp.gcsio:Starting the file information of the input\n",
      "INFO:apache_beam.io.gcp.gcsio:Finished listing 1 files in 0.04454231262207031 seconds.\n",
      "INFO:apache_beam.io.gcp.gcsio:Starting the file information of the input\n",
      "INFO:apache_beam.io.gcp.gcsio:Finished listing 0 files in 0.06319022178649902 seconds.\n",
      "INFO:apache_beam.io.filebasedsink:Starting finalize_write threads with num_shards: 1 (skipped: 0), batches: 1, num_threads: 1\n",
      "INFO:apache_beam.io.filebasedsink:Renamed 1 shards in 0.30 seconds.\n"
     ]
    },
    {
     "name": "stdout",
     "output_type": "stream",
     "text": [
      "INFO:tensorflow:Assets written to: gs://pbalm-cxb-aa-eu/creditcards/tmp/tftransform_tmp/a3ad326d0b6546fe977afbcdfcffd908/assets\n"
     ]
    },
    {
     "name": "stderr",
     "output_type": "stream",
     "text": [
      "INFO:tensorflow:Assets written to: gs://pbalm-cxb-aa-eu/creditcards/tmp/tftransform_tmp/a3ad326d0b6546fe977afbcdfcffd908/assets\n"
     ]
    },
    {
     "name": "stdout",
     "output_type": "stream",
     "text": [
      "INFO:tensorflow:struct2tensor is not available.\n"
     ]
    },
    {
     "name": "stderr",
     "output_type": "stream",
     "text": [
      "INFO:tensorflow:struct2tensor is not available.\n"
     ]
    },
    {
     "name": "stdout",
     "output_type": "stream",
     "text": [
      "INFO:tensorflow:tensorflow_decision_forests is not available.\n"
     ]
    },
    {
     "name": "stderr",
     "output_type": "stream",
     "text": [
      "INFO:tensorflow:tensorflow_decision_forests is not available.\n"
     ]
    },
    {
     "name": "stdout",
     "output_type": "stream",
     "text": [
      "INFO:tensorflow:tensorflow_text is not available.\n"
     ]
    },
    {
     "name": "stderr",
     "output_type": "stream",
     "text": [
      "INFO:tensorflow:tensorflow_text is not available.\n"
     ]
    },
    {
     "name": "stdout",
     "output_type": "stream",
     "text": [
      "INFO:tensorflow:struct2tensor is not available.\n"
     ]
    },
    {
     "name": "stderr",
     "output_type": "stream",
     "text": [
      "INFO:tensorflow:struct2tensor is not available.\n"
     ]
    },
    {
     "name": "stdout",
     "output_type": "stream",
     "text": [
      "INFO:tensorflow:tensorflow_decision_forests is not available.\n"
     ]
    },
    {
     "name": "stderr",
     "output_type": "stream",
     "text": [
      "INFO:tensorflow:tensorflow_decision_forests is not available.\n"
     ]
    },
    {
     "name": "stdout",
     "output_type": "stream",
     "text": [
      "INFO:tensorflow:tensorflow_text is not available.\n"
     ]
    },
    {
     "name": "stderr",
     "output_type": "stream",
     "text": [
      "INFO:tensorflow:tensorflow_text is not available.\n",
      "INFO:apache_beam.io.gcp.gcsio:Starting the file information of the input\n",
      "INFO:apache_beam.io.gcp.gcsio:Finished listing 0 files in 0.04668116569519043 seconds.\n",
      "INFO:apache_beam.io.gcp.gcsio:Starting the file information of the input\n",
      "INFO:apache_beam.io.gcp.gcsio:Finished listing 0 files in 0.041944265365600586 seconds.\n",
      "INFO:apache_beam.io.gcp.gcsio:Starting the file information of the input\n",
      "INFO:apache_beam.io.gcp.gcsio:Finished listing 1 files in 0.03763699531555176 seconds.\n",
      "INFO:apache_beam.io.gcp.gcsio:Starting the file information of the input\n",
      "INFO:apache_beam.io.gcp.gcsio:Finished listing 0 files in 0.03857731819152832 seconds.\n",
      "INFO:apache_beam.io.filebasedsink:Starting finalize_write threads with num_shards: 1 (skipped: 0), batches: 1, num_threads: 1\n",
      "INFO:apache_beam.io.filebasedsink:Renamed 1 shards in 0.30 seconds.\n",
      "INFO:apache_beam.io.gcp.gcsio:Starting the file information of the input\n",
      "INFO:apache_beam.io.gcp.gcsio:Finished listing 1 files in 0.04544425010681152 seconds.\n",
      "INFO:apache_beam.io.gcp.gcsio:Starting the file information of the input\n",
      "INFO:apache_beam.io.gcp.gcsio:Finished listing 0 files in 0.036821603775024414 seconds.\n",
      "INFO:apache_beam.io.filebasedsink:Starting finalize_write threads with num_shards: 1 (skipped: 0), batches: 1, num_threads: 1\n",
      "INFO:apache_beam.io.filebasedsink:Renamed 1 shards in 0.30 seconds.\n"
     ]
    },
    {
     "name": "stdout",
     "output_type": "stream",
     "text": [
      "Data preprocessing completed.\n"
     ]
    }
   ],
   "source": [
    "print(\"Data preprocessing started...\")\n",
    "etl.run_transform_pipeline(args)\n",
    "print(\"Data preprocessing completed.\")"
   ]
  },
  {
   "cell_type": "code",
   "execution_count": 13,
   "id": "a10911e3",
   "metadata": {},
   "outputs": [
    {
     "name": "stdout",
     "output_type": "stream",
     "text": [
      "gs://pbalm-cxb-aa-eu/creditcards/experiments/creditcards-classifier-v01/run-local-20220630151549/exported_data/\n",
      "gs://pbalm-cxb-aa-eu/creditcards/experiments/creditcards-classifier-v01/run-local-20220630151549/transform_artifacts/\n",
      "gs://pbalm-cxb-aa-eu/creditcards/experiments/creditcards-classifier-v01/run-local-20220630151549/transformed_data/\n"
     ]
    }
   ],
   "source": [
    "!gsutil ls {EXPERIMENT_RUN_DIR}"
   ]
  },
  {
   "cell_type": "markdown",
   "id": "74d252ab",
   "metadata": {},
   "source": [
    "## 2. Train a custom model locally using a Keras\n",
    "\n",
    "The `Keras` implementation of the custom model is in the [model_training](src/model_training) directory."
   ]
  },
  {
   "cell_type": "code",
   "execution_count": 14,
   "id": "c59f7710",
   "metadata": {},
   "outputs": [],
   "source": [
    "LOG_DIR = os.path.join(EXPERIMENT_RUN_DIR, 'logs')\n",
    "EXPORT_DIR = os.path.join(EXPERIMENT_RUN_DIR, 'model')"
   ]
  },
  {
   "cell_type": "markdown",
   "id": "7a212f14",
   "metadata": {},
   "source": [
    "### Read transformed data"
   ]
  },
  {
   "cell_type": "code",
   "execution_count": 15,
   "id": "204c8580",
   "metadata": {},
   "outputs": [
    {
     "data": {
      "text/plain": [
       "{'Amount': FixedLenFeature(shape=[1], dtype=tf.float32, default_value=None),\n",
       " 'Class': FixedLenFeature(shape=[1], dtype=tf.float32, default_value=None),\n",
       " 'V1': FixedLenFeature(shape=[1], dtype=tf.float32, default_value=None),\n",
       " 'V10': FixedLenFeature(shape=[1], dtype=tf.float32, default_value=None),\n",
       " 'V11': FixedLenFeature(shape=[1], dtype=tf.float32, default_value=None),\n",
       " 'V12': FixedLenFeature(shape=[1], dtype=tf.float32, default_value=None),\n",
       " 'V13': FixedLenFeature(shape=[1], dtype=tf.float32, default_value=None),\n",
       " 'V14': FixedLenFeature(shape=[1], dtype=tf.float32, default_value=None),\n",
       " 'V15': FixedLenFeature(shape=[1], dtype=tf.float32, default_value=None),\n",
       " 'V16': FixedLenFeature(shape=[1], dtype=tf.float32, default_value=None),\n",
       " 'V17': FixedLenFeature(shape=[1], dtype=tf.float32, default_value=None),\n",
       " 'V18': FixedLenFeature(shape=[1], dtype=tf.float32, default_value=None),\n",
       " 'V19': FixedLenFeature(shape=[1], dtype=tf.float32, default_value=None),\n",
       " 'V2': FixedLenFeature(shape=[1], dtype=tf.float32, default_value=None),\n",
       " 'V20': FixedLenFeature(shape=[1], dtype=tf.float32, default_value=None),\n",
       " 'V21': FixedLenFeature(shape=[1], dtype=tf.float32, default_value=None),\n",
       " 'V22': FixedLenFeature(shape=[1], dtype=tf.float32, default_value=None),\n",
       " 'V23': FixedLenFeature(shape=[1], dtype=tf.float32, default_value=None),\n",
       " 'V24': FixedLenFeature(shape=[1], dtype=tf.float32, default_value=None),\n",
       " 'V25': FixedLenFeature(shape=[1], dtype=tf.float32, default_value=None),\n",
       " 'V26': FixedLenFeature(shape=[1], dtype=tf.float32, default_value=None),\n",
       " 'V27': FixedLenFeature(shape=[1], dtype=tf.float32, default_value=None),\n",
       " 'V28': FixedLenFeature(shape=[1], dtype=tf.float32, default_value=None),\n",
       " 'V3': FixedLenFeature(shape=[1], dtype=tf.float32, default_value=None),\n",
       " 'V4': FixedLenFeature(shape=[1], dtype=tf.float32, default_value=None),\n",
       " 'V5': FixedLenFeature(shape=[1], dtype=tf.float32, default_value=None),\n",
       " 'V6': FixedLenFeature(shape=[1], dtype=tf.float32, default_value=None),\n",
       " 'V7': FixedLenFeature(shape=[1], dtype=tf.float32, default_value=None),\n",
       " 'V8': FixedLenFeature(shape=[1], dtype=tf.float32, default_value=None),\n",
       " 'V9': FixedLenFeature(shape=[1], dtype=tf.float32, default_value=None)}"
      ]
     },
     "execution_count": 15,
     "metadata": {},
     "output_type": "execute_result"
    }
   ],
   "source": [
    "tft_output = tft.TFTransformOutput(TRANSFORM_ARTIFACTS_DIR)\n",
    "transform_feature_spec = tft_output.transformed_feature_spec()\n",
    "transform_feature_spec"
   ]
  },
  {
   "cell_type": "code",
   "execution_count": 16,
   "id": "1918a86e-4210-4919-b79b-22b997a9fb76",
   "metadata": {},
   "outputs": [
    {
     "data": {
      "text/plain": [
       "'gs://pbalm-cxb-aa-eu/creditcards/experiments/creditcards-classifier-v01/run-local-20220630151549/transformed_data/train/data-*.gz'"
      ]
     },
     "execution_count": 16,
     "metadata": {},
     "output_type": "execute_result"
    }
   ],
   "source": [
    "train_data_file_pattern = os.path.join(TRANSFORMED_DATA_PREFIX,'train/data-*.gz')\n",
    "eval_data_file_pattern = os.path.join(TRANSFORMED_DATA_PREFIX,'eval/data-*.gz')\n",
    "\n",
    "train_data_file_pattern"
   ]
  },
  {
   "cell_type": "code",
   "execution_count": 18,
   "id": "0802ce3a",
   "metadata": {},
   "outputs": [
    {
     "name": "stdout",
     "output_type": "stream",
     "text": [
      "Amount <dtype: 'float32'>: [[-1.2997244596481323], [1.1706374883651733], [-0.31157970428466797]]\n",
      "V1 <dtype: 'float32'>: [[0.7587955594062805], [0.9470791816711426], [0.7841660380363464]]\n",
      "V10 <dtype: 'float32'>: [[0.4208252727985382], [0.5261448621749878], [0.5081350803375244]]\n",
      "V11 <dtype: 'float32'>: [[0.6223158836364746], [0.25498834252357483], [0.1751752644777298]]\n",
      "V12 <dtype: 'float32'>: [[0.628913938999176], [0.8574090003967285], [0.7932347655296326]]\n",
      "V13 <dtype: 'float32'>: [[0.4236605167388916], [0.780372142791748], [0.4086707830429077]]\n",
      "V14 <dtype: 'float32'>: [[0.4950592815876007], [0.7107352018356323], [0.7468649744987488]]\n",
      "V15 <dtype: 'float32'>: [[0.6221356987953186], [0.7142480611801147], [0.4935069978237152]]\n",
      "V16 <dtype: 'float32'>: [[0.6954916715621948], [0.8024342060089111], [0.782941997051239]]\n",
      "V17 <dtype: 'float32'>: [[0.6568049192428589], [0.7354120016098022], [0.7553250193595886]]\n",
      "V18 <dtype: 'float32'>: [[0.6877521276473999], [0.6495669484138489], [0.6598981022834778]]\n",
      "V19 <dtype: 'float32'>: [[0.5611733198165894], [0.5553621053695679], [0.4870672821998596]]\n",
      "V2 <dtype: 'float32'>: [[0.8300496339797974], [0.7737769484519958], [0.7467334866523743]]\n",
      "V20 <dtype: 'float32'>: [[0.5793123841285706], [0.5749933123588562], [0.5948842763900757]]\n",
      "V21 <dtype: 'float32'>: [[0.43660396337509155], [0.41037607192993164], [0.4225791096687317]]\n",
      "V22 <dtype: 'float32'>: [[0.5336999297142029], [0.4999215304851532], [0.5319267511367798]]\n",
      "V23 <dtype: 'float32'>: [[0.6476165056228638], [0.6635008454322815], [0.6621267199516296]]\n",
      "V24 <dtype: 'float32'>: [[0.40081891417503357], [0.29082784056663513], [0.34094202518463135]]\n",
      "V25 <dtype: 'float32'>: [[0.5950128436088562], [0.6497880220413208], [0.5208455324172974]]\n",
      "V26 <dtype: 'float32'>: [[0.3370610773563385], [0.5239207744598389], [0.4892098307609558]]\n",
      "V27 <dtype: 'float32'>: [[0.5893368721008301], [0.5584071278572083], [0.5850890874862671]]\n",
      "V28 <dtype: 'float32'>: [[0.33689117431640625], [0.35830244421958923], [0.34243568778038025]]\n",
      "V3 <dtype: 'float32'>: [[0.6540651321411133], [0.7614237666130066], [0.7683799266815186]]\n",
      "V4 <dtype: 'float32'>: [[0.627490222454071], [0.2963796854019165], [0.28441527485847473]]\n",
      "V5 <dtype: 'float32'>: [[0.33655300736427307], [0.35716843605041504], [0.4123172163963318]]\n",
      "V6 <dtype: 'float32'>: [[0.5650354027748108], [0.6140571236610413], [0.539677619934082]]\n",
      "V7 <dtype: 'float32'>: [[0.6763061285018921], [0.829966127872467], [0.8075932264328003]]\n",
      "V8 <dtype: 'float32'>: [[0.8332494497299194], [0.7866228818893433], [0.8060526847839355]]\n",
      "V9 <dtype: 'float32'>: [[0.29598215222358704], [0.47744667530059814], [0.4758791923522949]]\n",
      "target: [[1.0], [0.0], [0.0]]\n"
     ]
    }
   ],
   "source": [
    "for input_features, target in data.get_dataset(train_data_file_pattern, transform_feature_spec, batch_size=3, epochs=10).take(1):\n",
    "    for key in input_features:\n",
    "        print(f\"{key} {input_features[key].dtype}: {input_features[key].numpy().tolist()}\")\n",
    "    print(f\"target: {target.numpy().tolist()}\")"
   ]
  },
  {
   "cell_type": "markdown",
   "id": "d0f363d4",
   "metadata": {},
   "source": [
    "### Create hyperparameters"
   ]
  },
  {
   "cell_type": "code",
   "execution_count": 19,
   "id": "b4fced82",
   "metadata": {},
   "outputs": [
    {
     "data": {
      "text/plain": [
       "{'hidden_units': [64, 32],\n",
       " 'learning_rate': 0.0001,\n",
       " 'batch_size': 512,\n",
       " 'num_epochs': 10}"
      ]
     },
     "execution_count": 19,
     "metadata": {},
     "output_type": "execute_result"
    }
   ],
   "source": [
    "hyperparams = {\n",
    "    \"hidden_units\": [64, 32]\n",
    "}\n",
    "\n",
    "hyperparams = defaults.update_hyperparams(hyperparams)\n",
    "hyperparams"
   ]
  },
  {
   "cell_type": "markdown",
   "id": "3c17b65e",
   "metadata": {},
   "source": [
    "### Create and test model inputs and outputs"
   ]
  },
  {
   "cell_type": "code",
   "execution_count": 20,
   "id": "a05b0f63",
   "metadata": {},
   "outputs": [
    {
     "name": "stderr",
     "output_type": "stream",
     "text": [
      "INFO:root:Model: \"model\"\n",
      "INFO:root:__________________________________________________________________________________________________\n",
      "INFO:root: Layer (type)                   Output Shape         Param #     Connected to                     \n",
      "INFO:root:==================================================================================================\n",
      "INFO:root: Amount (InputLayer)            [(None, 1)]          0           []                               \n",
      "INFO:root:                                                                                                  \n",
      "INFO:root: V1 (InputLayer)                [(None, 1)]          0           []                               \n",
      "INFO:root:                                                                                                  \n",
      "INFO:root: V10 (InputLayer)               [(None, 1)]          0           []                               \n",
      "INFO:root:                                                                                                  \n",
      "INFO:root: V11 (InputLayer)               [(None, 1)]          0           []                               \n",
      "INFO:root:                                                                                                  \n",
      "INFO:root: V12 (InputLayer)               [(None, 1)]          0           []                               \n",
      "INFO:root:                                                                                                  \n",
      "INFO:root: V13 (InputLayer)               [(None, 1)]          0           []                               \n",
      "INFO:root:                                                                                                  \n",
      "INFO:root: V14 (InputLayer)               [(None, 1)]          0           []                               \n",
      "INFO:root:                                                                                                  \n",
      "INFO:root: V15 (InputLayer)               [(None, 1)]          0           []                               \n",
      "INFO:root:                                                                                                  \n",
      "INFO:root: V16 (InputLayer)               [(None, 1)]          0           []                               \n",
      "INFO:root:                                                                                                  \n",
      "INFO:root: V17 (InputLayer)               [(None, 1)]          0           []                               \n",
      "INFO:root:                                                                                                  \n",
      "INFO:root: V18 (InputLayer)               [(None, 1)]          0           []                               \n",
      "INFO:root:                                                                                                  \n",
      "INFO:root: V19 (InputLayer)               [(None, 1)]          0           []                               \n",
      "INFO:root:                                                                                                  \n",
      "INFO:root: V2 (InputLayer)                [(None, 1)]          0           []                               \n",
      "INFO:root:                                                                                                  \n",
      "INFO:root: V20 (InputLayer)               [(None, 1)]          0           []                               \n",
      "INFO:root:                                                                                                  \n",
      "INFO:root: V21 (InputLayer)               [(None, 1)]          0           []                               \n",
      "INFO:root:                                                                                                  \n",
      "INFO:root: V22 (InputLayer)               [(None, 1)]          0           []                               \n",
      "INFO:root:                                                                                                  \n",
      "INFO:root: V23 (InputLayer)               [(None, 1)]          0           []                               \n",
      "INFO:root:                                                                                                  \n",
      "INFO:root: V24 (InputLayer)               [(None, 1)]          0           []                               \n",
      "INFO:root:                                                                                                  \n",
      "INFO:root: V25 (InputLayer)               [(None, 1)]          0           []                               \n",
      "INFO:root:                                                                                                  \n",
      "INFO:root: V26 (InputLayer)               [(None, 1)]          0           []                               \n",
      "INFO:root:                                                                                                  \n",
      "INFO:root: V27 (InputLayer)               [(None, 1)]          0           []                               \n",
      "INFO:root:                                                                                                  \n",
      "INFO:root: V28 (InputLayer)               [(None, 1)]          0           []                               \n",
      "INFO:root:                                                                                                  \n",
      "INFO:root: V3 (InputLayer)                [(None, 1)]          0           []                               \n",
      "INFO:root:                                                                                                  \n",
      "INFO:root: V4 (InputLayer)                [(None, 1)]          0           []                               \n",
      "INFO:root:                                                                                                  \n",
      "INFO:root: V5 (InputLayer)                [(None, 1)]          0           []                               \n",
      "INFO:root:                                                                                                  \n",
      "INFO:root: V6 (InputLayer)                [(None, 1)]          0           []                               \n",
      "INFO:root:                                                                                                  \n",
      "INFO:root: V7 (InputLayer)                [(None, 1)]          0           []                               \n",
      "INFO:root:                                                                                                  \n",
      "INFO:root: V8 (InputLayer)                [(None, 1)]          0           []                               \n",
      "INFO:root:                                                                                                  \n",
      "INFO:root: V9 (InputLayer)                [(None, 1)]          0           []                               \n",
      "INFO:root:                                                                                                  \n",
      "INFO:root: concatenate (Concatenate)      (None, 29)           0           ['Amount[0][0]',                 \n",
      "INFO:root:                                                                  'V1[0][0]',                     \n",
      "INFO:root:                                                                  'V10[0][0]',                    \n",
      "INFO:root:                                                                  'V11[0][0]',                    \n",
      "INFO:root:                                                                  'V12[0][0]',                    \n",
      "INFO:root:                                                                  'V13[0][0]',                    \n",
      "INFO:root:                                                                  'V14[0][0]',                    \n",
      "INFO:root:                                                                  'V15[0][0]',                    \n",
      "INFO:root:                                                                  'V16[0][0]',                    \n",
      "INFO:root:                                                                  'V17[0][0]',                    \n",
      "INFO:root:                                                                  'V18[0][0]',                    \n",
      "INFO:root:                                                                  'V19[0][0]',                    \n",
      "INFO:root:                                                                  'V2[0][0]',                     \n",
      "INFO:root:                                                                  'V20[0][0]',                    \n",
      "INFO:root:                                                                  'V21[0][0]',                    \n",
      "INFO:root:                                                                  'V22[0][0]',                    \n",
      "INFO:root:                                                                  'V23[0][0]',                    \n",
      "INFO:root:                                                                  'V24[0][0]',                    \n",
      "INFO:root:                                                                  'V25[0][0]',                    \n",
      "INFO:root:                                                                  'V26[0][0]',                    \n",
      "INFO:root:                                                                  'V27[0][0]',                    \n",
      "INFO:root:                                                                  'V28[0][0]',                    \n",
      "INFO:root:                                                                  'V3[0][0]',                     \n",
      "INFO:root:                                                                  'V4[0][0]',                     \n",
      "INFO:root:                                                                  'V5[0][0]',                     \n",
      "INFO:root:                                                                  'V6[0][0]',                     \n",
      "INFO:root:                                                                  'V7[0][0]',                     \n",
      "INFO:root:                                                                  'V8[0][0]',                     \n",
      "INFO:root:                                                                  'V9[0][0]']                     \n",
      "INFO:root:                                                                                                  \n",
      "INFO:root: dense (Dense)                  (None, 64)           1920        ['concatenate[0][0]']            \n",
      "INFO:root:                                                                                                  \n",
      "INFO:root: dense_1 (Dense)                (None, 32)           2080        ['dense[0][0]']                  \n",
      "INFO:root:                                                                                                  \n",
      "INFO:root: dense_2 (Dense)                (None, 1)            33          ['dense_1[0][0]']                \n",
      "INFO:root:                                                                                                  \n",
      "INFO:root:==================================================================================================\n",
      "INFO:root:Total params: 4,033\n",
      "INFO:root:Trainable params: 4,033\n",
      "INFO:root:Non-trainable params: 0\n",
      "INFO:root:__________________________________________________________________________________________________\n"
     ]
    }
   ],
   "source": [
    "classifier = model.create_model(transform_feature_spec.keys(), hyperparams)"
   ]
  },
  {
   "cell_type": "code",
   "execution_count": 21,
   "id": "ad4d33eb",
   "metadata": {},
   "outputs": [
    {
     "data": {
      "image/png": "[encoded data removed]",
      "text/plain": [
       "<IPython.core.display.Image object>"
      ]
     },
     "execution_count": 21,
     "metadata": {},
     "output_type": "execute_result"
    }
   ],
   "source": [
    "keras.utils.plot_model(\n",
    "    classifier, \n",
    "    show_shapes=True, \n",
    "    show_dtype=True\n",
    ")"
   ]
  },
  {
   "cell_type": "code",
   "execution_count": 22,
   "id": "f06e056e",
   "metadata": {},
   "outputs": [
    {
     "data": {
      "text/plain": [
       "<tf.Tensor: shape=(3, 1), dtype=float32, numpy=\n",
       "array([[0.4572617 ],\n",
       "       [0.47415653],\n",
       "       [0.46910068]], dtype=float32)>"
      ]
     },
     "execution_count": 22,
     "metadata": {},
     "output_type": "execute_result"
    }
   ],
   "source": [
    "classifier(input_features)"
   ]
  },
  {
   "cell_type": "code",
   "execution_count": 23,
   "id": "22116478-ed67-486c-b6d0-e1f98745c1cb",
   "metadata": {},
   "outputs": [
    {
     "data": {
      "text/plain": [
       "{'Amount': <tf.Tensor: shape=(3, 1), dtype=float32, numpy=\n",
       " array([[-1.2997245],\n",
       "        [ 1.1706375],\n",
       "        [-0.3115797]], dtype=float32)>,\n",
       " 'V1': <tf.Tensor: shape=(3, 1), dtype=float32, numpy=\n",
       " array([[0.75879556],\n",
       "        [0.9470792 ],\n",
       "        [0.78416604]], dtype=float32)>,\n",
       " 'V10': <tf.Tensor: shape=(3, 1), dtype=float32, numpy=\n",
       " array([[0.42082527],\n",
       "        [0.52614486],\n",
       "        [0.5081351 ]], dtype=float32)>,\n",
       " 'V11': <tf.Tensor: shape=(3, 1), dtype=float32, numpy=\n",
       " array([[0.6223159 ],\n",
       "        [0.25498834],\n",
       "        [0.17517526]], dtype=float32)>,\n",
       " 'V12': <tf.Tensor: shape=(3, 1), dtype=float32, numpy=\n",
       " array([[0.62891394],\n",
       "        [0.857409  ],\n",
       "        [0.79323477]], dtype=float32)>,\n",
       " 'V13': <tf.Tensor: shape=(3, 1), dtype=float32, numpy=\n",
       " array([[0.42366052],\n",
       "        [0.78037214],\n",
       "        [0.40867078]], dtype=float32)>,\n",
       " 'V14': <tf.Tensor: shape=(3, 1), dtype=float32, numpy=\n",
       " array([[0.49505928],\n",
       "        [0.7107352 ],\n",
       "        [0.746865  ]], dtype=float32)>,\n",
       " 'V15': <tf.Tensor: shape=(3, 1), dtype=float32, numpy=\n",
       " array([[0.6221357 ],\n",
       "        [0.71424806],\n",
       "        [0.493507  ]], dtype=float32)>,\n",
       " 'V16': <tf.Tensor: shape=(3, 1), dtype=float32, numpy=\n",
       " array([[0.6954917],\n",
       "        [0.8024342],\n",
       "        [0.782942 ]], dtype=float32)>,\n",
       " 'V17': <tf.Tensor: shape=(3, 1), dtype=float32, numpy=\n",
       " array([[0.6568049],\n",
       "        [0.735412 ],\n",
       "        [0.755325 ]], dtype=float32)>,\n",
       " 'V18': <tf.Tensor: shape=(3, 1), dtype=float32, numpy=\n",
       " array([[0.6877521 ],\n",
       "        [0.64956695],\n",
       "        [0.6598981 ]], dtype=float32)>,\n",
       " 'V19': <tf.Tensor: shape=(3, 1), dtype=float32, numpy=\n",
       " array([[0.5611733 ],\n",
       "        [0.5553621 ],\n",
       "        [0.48706728]], dtype=float32)>,\n",
       " 'V2': <tf.Tensor: shape=(3, 1), dtype=float32, numpy=\n",
       " array([[0.83004963],\n",
       "        [0.77377695],\n",
       "        [0.7467335 ]], dtype=float32)>,\n",
       " 'V20': <tf.Tensor: shape=(3, 1), dtype=float32, numpy=\n",
       " array([[0.5793124],\n",
       "        [0.5749933],\n",
       "        [0.5948843]], dtype=float32)>,\n",
       " 'V21': <tf.Tensor: shape=(3, 1), dtype=float32, numpy=\n",
       " array([[0.43660396],\n",
       "        [0.41037607],\n",
       "        [0.4225791 ]], dtype=float32)>,\n",
       " 'V22': <tf.Tensor: shape=(3, 1), dtype=float32, numpy=\n",
       " array([[0.5336999 ],\n",
       "        [0.49992153],\n",
       "        [0.53192675]], dtype=float32)>,\n",
       " 'V23': <tf.Tensor: shape=(3, 1), dtype=float32, numpy=\n",
       " array([[0.6476165 ],\n",
       "        [0.66350085],\n",
       "        [0.6621267 ]], dtype=float32)>,\n",
       " 'V24': <tf.Tensor: shape=(3, 1), dtype=float32, numpy=\n",
       " array([[0.4008189 ],\n",
       "        [0.29082784],\n",
       "        [0.34094203]], dtype=float32)>,\n",
       " 'V25': <tf.Tensor: shape=(3, 1), dtype=float32, numpy=\n",
       " array([[0.59501284],\n",
       "        [0.649788  ],\n",
       "        [0.52084553]], dtype=float32)>,\n",
       " 'V26': <tf.Tensor: shape=(3, 1), dtype=float32, numpy=\n",
       " array([[0.33706108],\n",
       "        [0.5239208 ],\n",
       "        [0.48920983]], dtype=float32)>,\n",
       " 'V27': <tf.Tensor: shape=(3, 1), dtype=float32, numpy=\n",
       " array([[0.5893369],\n",
       "        [0.5584071],\n",
       "        [0.5850891]], dtype=float32)>,\n",
       " 'V28': <tf.Tensor: shape=(3, 1), dtype=float32, numpy=\n",
       " array([[0.33689117],\n",
       "        [0.35830244],\n",
       "        [0.3424357 ]], dtype=float32)>,\n",
       " 'V3': <tf.Tensor: shape=(3, 1), dtype=float32, numpy=\n",
       " array([[0.65406513],\n",
       "        [0.76142377],\n",
       "        [0.7683799 ]], dtype=float32)>,\n",
       " 'V4': <tf.Tensor: shape=(3, 1), dtype=float32, numpy=\n",
       " array([[0.6274902 ],\n",
       "        [0.2963797 ],\n",
       "        [0.28441527]], dtype=float32)>,\n",
       " 'V5': <tf.Tensor: shape=(3, 1), dtype=float32, numpy=\n",
       " array([[0.336553  ],\n",
       "        [0.35716844],\n",
       "        [0.41231722]], dtype=float32)>,\n",
       " 'V6': <tf.Tensor: shape=(3, 1), dtype=float32, numpy=\n",
       " array([[0.5650354],\n",
       "        [0.6140571],\n",
       "        [0.5396776]], dtype=float32)>,\n",
       " 'V7': <tf.Tensor: shape=(3, 1), dtype=float32, numpy=\n",
       " array([[0.6763061],\n",
       "        [0.8299661],\n",
       "        [0.8075932]], dtype=float32)>,\n",
       " 'V8': <tf.Tensor: shape=(3, 1), dtype=float32, numpy=\n",
       " array([[0.83324945],\n",
       "        [0.7866229 ],\n",
       "        [0.8060527 ]], dtype=float32)>,\n",
       " 'V9': <tf.Tensor: shape=(3, 1), dtype=float32, numpy=\n",
       " array([[0.29598215],\n",
       "        [0.47744668],\n",
       "        [0.4758792 ]], dtype=float32)>}"
      ]
     },
     "execution_count": 23,
     "metadata": {},
     "output_type": "execute_result"
    }
   ],
   "source": [
    "input_features"
   ]
  },
  {
   "cell_type": "markdown",
   "id": "1d451ef7",
   "metadata": {},
   "source": [
    "### Train the model locally."
   ]
  },
  {
   "cell_type": "code",
   "execution_count": 26,
   "id": "e45bfbe9-cf62-4ece-bf5f-8c4a5cd832ed",
   "metadata": {},
   "outputs": [],
   "source": [
    "run=0"
   ]
  },
  {
   "cell_type": "code",
   "execution_count": 27,
   "id": "153efc48",
   "metadata": {},
   "outputs": [],
   "source": [
    "logging.getLogger().setLevel(logging.INFO)\n",
    "\n",
    "hyperparams[\"learning_rate\"] = 0.01\n",
    "hyperparams[\"dropout\"] = 0.1\n",
    "\n",
    "hyperparams[\"num_epochs\"] = 10\n",
    "hyperparams[\"batch_size\"] = 64\n",
    "#hyperparams[\"steps_per_epoch\"] = LIMIT // (hyperparams[\"batch_size\"] * hyperparams[\"num_epochs\"])\n",
    "hyperparams[\"steps_per_epoch\"] = LIMIT // hyperparams[\"batch_size\"]\n",
    "\n",
    "vertex_ai.log_params(hyperparams)"
   ]
  },
  {
   "cell_type": "code",
   "execution_count": 29,
   "id": "a91c4924",
   "metadata": {},
   "outputs": [
    {
     "name": "stderr",
     "output_type": "stream",
     "text": [
      "INFO:root:Loading tft output from gs://pbalm-cxb-aa-eu/creditcards/experiments/creditcards-classifier-v01/run-local-20220630151549/transform_artifacts\n",
      "INFO:root:Model: \"model_2\"\n",
      "INFO:root:__________________________________________________________________________________________________\n",
      "INFO:root: Layer (type)                   Output Shape         Param #     Connected to                     \n",
      "INFO:root:==================================================================================================\n",
      "INFO:root: Amount (InputLayer)            [(None, 1)]          0           []                               \n",
      "INFO:root:                                                                                                  \n",
      "INFO:root: V1 (InputLayer)                [(None, 1)]          0           []                               \n",
      "INFO:root:                                                                                                  \n",
      "INFO:root: V10 (InputLayer)               [(None, 1)]          0           []                               \n",
      "INFO:root:                                                                                                  \n",
      "INFO:root: V11 (InputLayer)               [(None, 1)]          0           []                               \n",
      "INFO:root:                                                                                                  \n",
      "INFO:root: V12 (InputLayer)               [(None, 1)]          0           []                               \n",
      "INFO:root:                                                                                                  \n",
      "INFO:root: V13 (InputLayer)               [(None, 1)]          0           []                               \n",
      "INFO:root:                                                                                                  \n",
      "INFO:root: V14 (InputLayer)               [(None, 1)]          0           []                               \n",
      "INFO:root:                                                                                                  \n",
      "INFO:root: V15 (InputLayer)               [(None, 1)]          0           []                               \n",
      "INFO:root:                                                                                                  \n",
      "INFO:root: V16 (InputLayer)               [(None, 1)]          0           []                               \n",
      "INFO:root:                                                                                                  \n",
      "INFO:root: V17 (InputLayer)               [(None, 1)]          0           []                               \n",
      "INFO:root:                                                                                                  \n",
      "INFO:root: V18 (InputLayer)               [(None, 1)]          0           []                               \n",
      "INFO:root:                                                                                                  \n",
      "INFO:root: V19 (InputLayer)               [(None, 1)]          0           []                               \n",
      "INFO:root:                                                                                                  \n",
      "INFO:root: V2 (InputLayer)                [(None, 1)]          0           []                               \n",
      "INFO:root:                                                                                                  \n",
      "INFO:root: V20 (InputLayer)               [(None, 1)]          0           []                               \n",
      "INFO:root:                                                                                                  \n",
      "INFO:root: V21 (InputLayer)               [(None, 1)]          0           []                               \n",
      "INFO:root:                                                                                                  \n",
      "INFO:root: V22 (InputLayer)               [(None, 1)]          0           []                               \n",
      "INFO:root:                                                                                                  \n",
      "INFO:root: V23 (InputLayer)               [(None, 1)]          0           []                               \n",
      "INFO:root:                                                                                                  \n",
      "INFO:root: V24 (InputLayer)               [(None, 1)]          0           []                               \n",
      "INFO:root:                                                                                                  \n",
      "INFO:root: V25 (InputLayer)               [(None, 1)]          0           []                               \n",
      "INFO:root:                                                                                                  \n",
      "INFO:root: V26 (InputLayer)               [(None, 1)]          0           []                               \n",
      "INFO:root:                                                                                                  \n",
      "INFO:root: V27 (InputLayer)               [(None, 1)]          0           []                               \n",
      "INFO:root:                                                                                                  \n",
      "INFO:root: V28 (InputLayer)               [(None, 1)]          0           []                               \n",
      "INFO:root:                                                                                                  \n",
      "INFO:root: V3 (InputLayer)                [(None, 1)]          0           []                               \n",
      "INFO:root:                                                                                                  \n",
      "INFO:root: V4 (InputLayer)                [(None, 1)]          0           []                               \n",
      "INFO:root:                                                                                                  \n",
      "INFO:root: V5 (InputLayer)                [(None, 1)]          0           []                               \n",
      "INFO:root:                                                                                                  \n",
      "INFO:root: V6 (InputLayer)                [(None, 1)]          0           []                               \n",
      "INFO:root:                                                                                                  \n",
      "INFO:root: V7 (InputLayer)                [(None, 1)]          0           []                               \n",
      "INFO:root:                                                                                                  \n",
      "INFO:root: V8 (InputLayer)                [(None, 1)]          0           []                               \n",
      "INFO:root:                                                                                                  \n",
      "INFO:root: V9 (InputLayer)                [(None, 1)]          0           []                               \n",
      "INFO:root:                                                                                                  \n",
      "INFO:root: concatenate_2 (Concatenate)    (None, 29)           0           ['Amount[0][0]',                 \n",
      "INFO:root:                                                                  'V1[0][0]',                     \n",
      "INFO:root:                                                                  'V10[0][0]',                    \n",
      "INFO:root:                                                                  'V11[0][0]',                    \n",
      "INFO:root:                                                                  'V12[0][0]',                    \n",
      "INFO:root:                                                                  'V13[0][0]',                    \n",
      "INFO:root:                                                                  'V14[0][0]',                    \n",
      "INFO:root:                                                                  'V15[0][0]',                    \n",
      "INFO:root:                                                                  'V16[0][0]',                    \n",
      "INFO:root:                                                                  'V17[0][0]',                    \n",
      "INFO:root:                                                                  'V18[0][0]',                    \n",
      "INFO:root:                                                                  'V19[0][0]',                    \n",
      "INFO:root:                                                                  'V2[0][0]',                     \n",
      "INFO:root:                                                                  'V20[0][0]',                    \n",
      "INFO:root:                                                                  'V21[0][0]',                    \n",
      "INFO:root:                                                                  'V22[0][0]',                    \n",
      "INFO:root:                                                                  'V23[0][0]',                    \n",
      "INFO:root:                                                                  'V24[0][0]',                    \n",
      "INFO:root:                                                                  'V25[0][0]',                    \n",
      "INFO:root:                                                                  'V26[0][0]',                    \n",
      "INFO:root:                                                                  'V27[0][0]',                    \n",
      "INFO:root:                                                                  'V28[0][0]',                    \n",
      "INFO:root:                                                                  'V3[0][0]',                     \n",
      "INFO:root:                                                                  'V4[0][0]',                     \n",
      "INFO:root:                                                                  'V5[0][0]',                     \n",
      "INFO:root:                                                                  'V6[0][0]',                     \n",
      "INFO:root:                                                                  'V7[0][0]',                     \n",
      "INFO:root:                                                                  'V8[0][0]',                     \n",
      "INFO:root:                                                                  'V9[0][0]']                     \n",
      "INFO:root:                                                                                                  \n",
      "INFO:root: dense_6 (Dense)                (None, 64)           1920        ['concatenate_2[0][0]']          \n",
      "INFO:root:                                                                                                  \n",
      "INFO:root: dense_7 (Dense)                (None, 32)           2080        ['dense_6[0][0]']                \n",
      "INFO:root:                                                                                                  \n",
      "INFO:root: dropout_1 (Dropout)            (None, 32)           0           ['dense_7[0][0]']                \n",
      "INFO:root:                                                                                                  \n",
      "INFO:root: dense_8 (Dense)                (None, 1)            33          ['dropout_1[0][0]']              \n",
      "INFO:root:                                                                                                  \n",
      "INFO:root:==================================================================================================\n",
      "INFO:root:Total params: 4,033\n",
      "INFO:root:Trainable params: 4,033\n",
      "INFO:root:Non-trainable params: 0\n",
      "INFO:root:__________________________________________________________________________________________________\n",
      "INFO:root:Model training started... steps per epoch = 80\n"
     ]
    },
    {
     "name": "stdout",
     "output_type": "stream",
     "text": [
      "Epoch 1/10\n",
      "80/80 [==============================] - 6s 61ms/step - loss: 0.0501 - accuracy_2: 0.9818 - auc_2: 0.0343 - accuracy: 0.9818 - val_loss: 0.0164 - val_accuracy_2: 0.9962 - val_auc_2: 0.5320 - val_accuracy: 0.9962\n",
      "Epoch 2/10\n",
      "80/80 [==============================] - 5s 60ms/step - loss: 0.0161 - accuracy_2: 0.9951 - auc_2: 0.6510 - accuracy: 0.9951 - val_loss: 0.0129 - val_accuracy_2: 0.9963 - val_auc_2: 0.6375 - val_accuracy: 0.9963\n",
      "Epoch 3/10\n",
      "80/80 [==============================] - 5s 61ms/step - loss: 0.0176 - accuracy_2: 0.9945 - auc_2: 0.6363 - accuracy: 0.9945 - val_loss: 0.0102 - val_accuracy_2: 0.9962 - val_auc_2: 0.7594 - val_accuracy: 0.9962\n",
      "Epoch 4/10\n",
      "80/80 [==============================] - 5s 60ms/step - loss: 0.0135 - accuracy_2: 0.9941 - auc_2: 0.8175 - accuracy: 0.9941 - val_loss: 0.0097 - val_accuracy_2: 0.9962 - val_auc_2: 0.8125 - val_accuracy: 0.9962\n",
      "Epoch 5/10\n",
      "80/80 [==============================] - 5s 59ms/step - loss: 0.0071 - accuracy_2: 0.9980 - auc_2: 0.9182 - accuracy: 0.9980 - val_loss: 0.0109 - val_accuracy_2: 0.9981 - val_auc_2: 0.7157 - val_accuracy: 0.9981\n",
      "Epoch 6/10\n",
      "80/80 [==============================] - 5s 60ms/step - loss: 0.0090 - accuracy_2: 0.9982 - auc_2: 0.9096 - accuracy: 0.9982 - val_loss: 0.0081 - val_accuracy_2: 0.9981 - val_auc_2: 0.7945 - val_accuracy: 0.9981\n",
      "Epoch 7/10\n",
      "80/80 [==============================] - 4s 57ms/step - loss: 0.0133 - accuracy_2: 0.9973 - auc_2: 0.7922 - accuracy: 0.9973 - val_loss: 0.0133 - val_accuracy_2: 0.9981 - val_auc_2: 0.5065 - val_accuracy: 0.9981\n",
      "Epoch 8/10\n",
      "80/80 [==============================] - 4s 54ms/step - loss: 0.0093 - accuracy_2: 0.9980 - auc_2: 0.8318 - accuracy: 0.9980 - val_loss: 0.0077 - val_accuracy_2: 0.9981 - val_auc_2: 0.7945 - val_accuracy: 0.9981\n",
      "Epoch 9/10\n",
      "80/80 [==============================] - 5s 58ms/step - loss: 0.0067 - accuracy_2: 0.9979 - auc_2: 0.9063 - accuracy: 0.9979 - val_loss: 0.0112 - val_accuracy_2: 0.9982 - val_auc_2: 0.6907 - val_accuracy: 0.9982\n",
      "Epoch 10/10\n",
      "80/80 [==============================] - 5s 61ms/step - loss: 0.0069 - accuracy_2: 0.9982 - auc_2: 0.8453 - accuracy: 0.9982 - val_loss: 0.0090 - val_accuracy_2: 0.9981 - val_auc_2: 0.6819 - val_accuracy: 0.9981\n"
     ]
    },
    {
     "name": "stderr",
     "output_type": "stream",
     "text": [
      "INFO:root:Model training completed.\n"
     ]
    }
   ],
   "source": [
    "run = run + 1\n",
    "classifier = trainer.train(\n",
    "    train_data_dir=train_data_file_pattern,\n",
    "    eval_data_dir=eval_data_file_pattern,\n",
    "    tft_output_dir=TRANSFORM_ARTIFACTS_DIR,\n",
    "    hyperparams=hyperparams,\n",
    "    log_dir=LOG_DIR,\n",
    "    run=run\n",
    ")"
   ]
  },
  {
   "cell_type": "code",
   "execution_count": 31,
   "id": "ebbce8e8",
   "metadata": {},
   "outputs": [
    {
     "name": "stderr",
     "output_type": "stream",
     "text": [
      "INFO:root:Loading raw schema from src/raw_schema/schema.pbtxt\n",
      "INFO:root:Loading tft output from gs://pbalm-cxb-aa-eu/creditcards/experiments/creditcards-classifier-v01/run-local-20220630151549/transform_artifacts\n",
      "INFO:root:Model evaluation started...\n"
     ]
    },
    {
     "name": "stdout",
     "output_type": "stream",
     "text": [
      "33/33 [==============================] - 0s 7ms/step - loss: 0.0090 - accuracy_2: 0.9981 - auc_2: 0.6819 - accuracy: 0.9981\n"
     ]
    },
    {
     "name": "stderr",
     "output_type": "stream",
     "text": [
      "INFO:root:Model evaluation completed.\n"
     ]
    }
   ],
   "source": [
    "val_loss, val_accuracy, val_auc, _ = trainer.evaluate(\n",
    "    model=classifier,\n",
    "    data_dir=eval_data_file_pattern,\n",
    "    raw_schema_location=RAW_SCHEMA_LOCATION,\n",
    "    tft_output_dir=TRANSFORM_ARTIFACTS_DIR,\n",
    "    hyperparams=hyperparams,\n",
    ")"
   ]
  },
  {
   "cell_type": "code",
   "execution_count": 32,
   "id": "30e58239",
   "metadata": {},
   "outputs": [],
   "source": [
    "vertex_ai.log_metrics(\n",
    "    {'run': run, \"val_loss\": val_loss, \"val_accuracy\": val_accuracy, 'AUC': val_auc})"
   ]
  },
  {
   "cell_type": "code",
   "execution_count": 33,
   "id": "cff3c829",
   "metadata": {},
   "outputs": [
    {
     "name": "stdout",
     "output_type": "stream",
     "text": [
      "View your Tensorboard at https://europe-west4.tensorboard.googleusercontent.com/experiment/projects+188940921537+locations+europe-west4+tensorboards+8323953933147963392+experiments+creditcards-classifier-v01\n",
      "\u001b[1m[2022-06-30T15:24:23]\u001b[0m Started scanning logdir.\n",
      "\u001b[1m[2022-06-30T15:24:24]\u001b[0m Total uploaded: 174 scalars, 0 tensors, 2 binary objects (129.0 kB)\n",
      "\u001b[2K\u001b[33mListening for new data in logdir...\u001b[0m\r"
     ]
    }
   ],
   "source": [
    "!tb-gcp-uploader --tensorboard_resource_name={tensorboard_resource_name} \\\n",
    "  --logdir={LOG_DIR} \\\n",
    "  --experiment_name={EXPERIMENT_NAME} --one_shot=True"
   ]
  },
  {
   "cell_type": "markdown",
   "id": "44268d04",
   "metadata": {},
   "source": [
    "### Export the trained model"
   ]
  },
  {
   "cell_type": "code",
   "execution_count": 34,
   "id": "e2cf46d6",
   "metadata": {},
   "outputs": [
    {
     "name": "stdout",
     "output_type": "stream",
     "text": [
      "INFO:tensorflow:struct2tensor is not available.\n"
     ]
    },
    {
     "name": "stderr",
     "output_type": "stream",
     "text": [
      "INFO:tensorflow:struct2tensor is not available.\n"
     ]
    },
    {
     "name": "stdout",
     "output_type": "stream",
     "text": [
      "INFO:tensorflow:tensorflow_decision_forests is not available.\n"
     ]
    },
    {
     "name": "stderr",
     "output_type": "stream",
     "text": [
      "INFO:tensorflow:tensorflow_decision_forests is not available.\n"
     ]
    },
    {
     "name": "stdout",
     "output_type": "stream",
     "text": [
      "INFO:tensorflow:tensorflow_text is not available.\n"
     ]
    },
    {
     "name": "stderr",
     "output_type": "stream",
     "text": [
      "INFO:tensorflow:tensorflow_text is not available.\n",
      "INFO:root:Model export started...\n",
      "WARNING:absl:Function `serve_features_fn` contains input name(s) Amount, V1, V10, V11, V12, V13, V14, V15, V16, V17, V18, V19, V2, V20, V21, V22, V23, V24, V25, V26, V27, V28, V3, V4, V5, V6, V7, V8, V9 with unsupported characters which will be renamed to amount, v1, v10, v11, v12, v13, v14, v15, v16, v17, v18, v19, v2, v20, v21, v22, v23, v24, v25, v26, v27, v28, v3, v4, v5, v6, v7, v8, v9 in the SavedModel.\n"
     ]
    },
    {
     "name": "stdout",
     "output_type": "stream",
     "text": [
      "INFO:tensorflow:Assets written to: gs://pbalm-cxb-aa-eu/creditcards/experiments/creditcards-classifier-v01/run-local-20220630151549/model/assets\n"
     ]
    },
    {
     "name": "stderr",
     "output_type": "stream",
     "text": [
      "INFO:tensorflow:Assets written to: gs://pbalm-cxb-aa-eu/creditcards/experiments/creditcards-classifier-v01/run-local-20220630151549/model/assets\n",
      "INFO:root:Model export completed.\n"
     ]
    }
   ],
   "source": [
    "saved_model_dir = os.path.join(EXPORT_DIR)\n",
    "\n",
    "exporter.export_serving_model(\n",
    "    classifier=classifier,\n",
    "    serving_model_dir=saved_model_dir,\n",
    "    raw_schema_location=RAW_SCHEMA_LOCATION,\n",
    "    tft_output_dir=TRANSFORM_ARTIFACTS_DIR,\n",
    ")"
   ]
  },
  {
   "cell_type": "markdown",
   "id": "dba1ba3e",
   "metadata": {},
   "source": [
    "### Inspect model serving signatures"
   ]
  },
  {
   "cell_type": "code",
   "execution_count": 35,
   "id": "cb8989c2",
   "metadata": {},
   "outputs": [
    {
     "name": "stdout",
     "output_type": "stream",
     "text": [
      "The given SavedModel SignatureDef contains the following input(s):\n",
      "  inputs['examples'] tensor_info:\n",
      "      dtype: DT_STRING\n",
      "      shape: (-1)\n",
      "      name: serving_tf_example_examples:0\n",
      "The given SavedModel SignatureDef contains the following output(s):\n",
      "  outputs['probabilities'] tensor_info:\n",
      "      dtype: DT_FLOAT\n",
      "      shape: (-1, 1)\n",
      "      name: StatefulPartitionedCall_1:0\n",
      "Method name is: tensorflow/serving/predict\n"
     ]
    }
   ],
   "source": [
    "!saved_model_cli show --dir={saved_model_dir} --tag_set=serve --signature_def=serving_tf_example"
   ]
  },
  {
   "cell_type": "code",
   "execution_count": 36,
   "id": "7517a78b",
   "metadata": {},
   "outputs": [
    {
     "name": "stdout",
     "output_type": "stream",
     "text": [
      "The given SavedModel SignatureDef contains the following input(s):\n",
      "  inputs['Amount'] tensor_info:\n",
      "      dtype: DT_FLOAT\n",
      "      shape: (-1, 1)\n",
      "      name: serving_default_Amount:0\n",
      "  inputs['V1'] tensor_info:\n",
      "      dtype: DT_FLOAT\n",
      "      shape: (-1, 1)\n",
      "      name: serving_default_V1:0\n",
      "  inputs['V10'] tensor_info:\n",
      "      dtype: DT_FLOAT\n",
      "      shape: (-1, 1)\n",
      "      name: serving_default_V10:0\n",
      "  inputs['V11'] tensor_info:\n",
      "      dtype: DT_FLOAT\n",
      "      shape: (-1, 1)\n",
      "      name: serving_default_V11:0\n",
      "  inputs['V12'] tensor_info:\n",
      "      dtype: DT_FLOAT\n",
      "      shape: (-1, 1)\n",
      "      name: serving_default_V12:0\n",
      "  inputs['V13'] tensor_info:\n",
      "      dtype: DT_FLOAT\n",
      "      shape: (-1, 1)\n",
      "      name: serving_default_V13:0\n",
      "  inputs['V14'] tensor_info:\n",
      "      dtype: DT_FLOAT\n",
      "      shape: (-1, 1)\n",
      "      name: serving_default_V14:0\n",
      "  inputs['V15'] tensor_info:\n",
      "      dtype: DT_FLOAT\n",
      "      shape: (-1, 1)\n",
      "      name: serving_default_V15:0\n",
      "  inputs['V16'] tensor_info:\n",
      "      dtype: DT_FLOAT\n",
      "      shape: (-1, 1)\n",
      "      name: serving_default_V16:0\n",
      "  inputs['V17'] tensor_info:\n",
      "      dtype: DT_FLOAT\n",
      "      shape: (-1, 1)\n",
      "      name: serving_default_V17:0\n",
      "  inputs['V18'] tensor_info:\n",
      "      dtype: DT_FLOAT\n",
      "      shape: (-1, 1)\n",
      "      name: serving_default_V18:0\n",
      "  inputs['V19'] tensor_info:\n",
      "      dtype: DT_FLOAT\n",
      "      shape: (-1, 1)\n",
      "      name: serving_default_V19:0\n",
      "  inputs['V2'] tensor_info:\n",
      "      dtype: DT_FLOAT\n",
      "      shape: (-1, 1)\n",
      "      name: serving_default_V2:0\n",
      "  inputs['V20'] tensor_info:\n",
      "      dtype: DT_FLOAT\n",
      "      shape: (-1, 1)\n",
      "      name: serving_default_V20:0\n",
      "  inputs['V21'] tensor_info:\n",
      "      dtype: DT_FLOAT\n",
      "      shape: (-1, 1)\n",
      "      name: serving_default_V21:0\n",
      "  inputs['V22'] tensor_info:\n",
      "      dtype: DT_FLOAT\n",
      "      shape: (-1, 1)\n",
      "      name: serving_default_V22:0\n",
      "  inputs['V23'] tensor_info:\n",
      "      dtype: DT_FLOAT\n",
      "      shape: (-1, 1)\n",
      "      name: serving_default_V23:0\n",
      "  inputs['V24'] tensor_info:\n",
      "      dtype: DT_FLOAT\n",
      "      shape: (-1, 1)\n",
      "      name: serving_default_V24:0\n",
      "  inputs['V25'] tensor_info:\n",
      "      dtype: DT_FLOAT\n",
      "      shape: (-1, 1)\n",
      "      name: serving_default_V25:0\n",
      "  inputs['V26'] tensor_info:\n",
      "      dtype: DT_FLOAT\n",
      "      shape: (-1, 1)\n",
      "      name: serving_default_V26:0\n",
      "  inputs['V27'] tensor_info:\n",
      "      dtype: DT_FLOAT\n",
      "      shape: (-1, 1)\n",
      "      name: serving_default_V27:0\n",
      "  inputs['V28'] tensor_info:\n",
      "      dtype: DT_FLOAT\n",
      "      shape: (-1, 1)\n",
      "      name: serving_default_V28:0\n",
      "  inputs['V3'] tensor_info:\n",
      "      dtype: DT_FLOAT\n",
      "      shape: (-1, 1)\n",
      "      name: serving_default_V3:0\n",
      "  inputs['V4'] tensor_info:\n",
      "      dtype: DT_FLOAT\n",
      "      shape: (-1, 1)\n",
      "      name: serving_default_V4:0\n",
      "  inputs['V5'] tensor_info:\n",
      "      dtype: DT_FLOAT\n",
      "      shape: (-1, 1)\n",
      "      name: serving_default_V5:0\n",
      "  inputs['V6'] tensor_info:\n",
      "      dtype: DT_FLOAT\n",
      "      shape: (-1, 1)\n",
      "      name: serving_default_V6:0\n",
      "  inputs['V7'] tensor_info:\n",
      "      dtype: DT_FLOAT\n",
      "      shape: (-1, 1)\n",
      "      name: serving_default_V7:0\n",
      "  inputs['V8'] tensor_info:\n",
      "      dtype: DT_FLOAT\n",
      "      shape: (-1, 1)\n",
      "      name: serving_default_V8:0\n",
      "  inputs['V9'] tensor_info:\n",
      "      dtype: DT_FLOAT\n",
      "      shape: (-1, 1)\n",
      "      name: serving_default_V9:0\n",
      "The given SavedModel SignatureDef contains the following output(s):\n",
      "  outputs['classes'] tensor_info:\n",
      "      dtype: DT_STRING\n",
      "      shape: (-1, 2)\n",
      "      name: StatefulPartitionedCall:0\n",
      "  outputs['scores'] tensor_info:\n",
      "      dtype: DT_FLOAT\n",
      "      shape: (-1, 2)\n",
      "      name: StatefulPartitionedCall:1\n",
      "Method name is: tensorflow/serving/predict\n"
     ]
    }
   ],
   "source": [
    "!saved_model_cli show --dir={saved_model_dir} --tag_set=serve --signature_def=serving_default"
   ]
  },
  {
   "cell_type": "markdown",
   "id": "7f68ecd0",
   "metadata": {},
   "source": [
    "### Test the exported SavedModel"
   ]
  },
  {
   "cell_type": "code",
   "execution_count": 37,
   "id": "965d7d03",
   "metadata": {},
   "outputs": [
    {
     "name": "stdout",
     "output_type": "stream",
     "text": [
      "Saved model is loaded.\n"
     ]
    }
   ],
   "source": [
    "serving_model = tf.saved_model.load(saved_model_dir)\n",
    "print(\"Saved model is loaded.\")"
   ]
  },
  {
   "cell_type": "code",
   "execution_count": 38,
   "id": "395f6ac6",
   "metadata": {},
   "outputs": [
    {
     "name": "stdout",
     "output_type": "stream",
     "text": [
      "probabilities: [[0.50049716]\n",
      " [0.5000258 ]\n",
      " [0.50001234]]\n"
     ]
    }
   ],
   "source": [
    "# Test the serving_tf_example with TF Examples\n",
    "\n",
    "file_names = tf.data.TFRecordDataset.list_files(EXPORTED_DATA_PREFIX + '/data-*.tfrecord')\n",
    "for batch in tf.data.TFRecordDataset(file_names).batch(3).take(1):\n",
    "    predictions = serving_model.signatures['serving_tf_example'](batch)\n",
    "    for key in predictions:\n",
    "        print(f\"{key}: {predictions[key]}\")"
   ]
  },
  {
   "cell_type": "code",
   "execution_count": 39,
   "id": "41f041d6",
   "metadata": {},
   "outputs": [],
   "source": [
    "# Test the serving_default with feature dictionary\n",
    "\n",
    "import tensorflow_data_validation as tfdv\n",
    "from tensorflow_transform.tf_metadata import schema_utils\n",
    "\n",
    "raw_schema = tfdv.load_schema_text(RAW_SCHEMA_LOCATION)\n",
    "raw_feature_spec = schema_utils.schema_as_feature_spec(raw_schema).feature_spec"
   ]
  },
  {
   "cell_type": "code",
   "execution_count": 40,
   "id": "0af3ee32-6941-4428-bfb4-3a5c611e79c2",
   "metadata": {},
   "outputs": [
    {
     "data": {
      "text/plain": [
       "{'Amount': 50.0,\n",
       " 'V1': 1,\n",
       " 'V2': 1,\n",
       " 'V3': 1,\n",
       " 'V4': 1,\n",
       " 'V5': 1,\n",
       " 'V6': 1,\n",
       " 'V7': 1,\n",
       " 'V8': 1,\n",
       " 'V9': 1,\n",
       " 'V10': 1,\n",
       " 'V11': 1,\n",
       " 'V12': 1,\n",
       " 'V13': 1,\n",
       " 'V14': 1,\n",
       " 'V15': 1,\n",
       " 'V16': 1,\n",
       " 'V17': 1,\n",
       " 'V18': 1,\n",
       " 'V19': 1,\n",
       " 'V20': 1,\n",
       " 'V21': 1,\n",
       " 'V22': 1,\n",
       " 'V23': 1,\n",
       " 'V24': 1,\n",
       " 'V25': 1,\n",
       " 'V26': 1,\n",
       " 'V27': 1,\n",
       " 'V28': 1}"
      ]
     },
     "execution_count": 40,
     "metadata": {},
     "output_type": "execute_result"
    }
   ],
   "source": [
    "instance = { 'Amount': 50.0 }\n",
    "\n",
    "for i in range(1,29):\n",
    "    instance[f'V{i}'] = 1\n",
    "    \n",
    "instance"
   ]
  },
  {
   "cell_type": "code",
   "execution_count": 41,
   "id": "3d51e9ef",
   "metadata": {},
   "outputs": [],
   "source": [
    "for feature_name in instance:\n",
    "    dtype = raw_feature_spec[feature_name].dtype\n",
    "    instance[feature_name] = tf.constant([[instance[feature_name]]], dtype)"
   ]
  },
  {
   "cell_type": "code",
   "execution_count": 42,
   "id": "6469de0d",
   "metadata": {},
   "outputs": [
    {
     "name": "stdout",
     "output_type": "stream",
     "text": [
      "scores: [[0.5 0.5]]\n",
      "classes: [[b'legit' b'fraudulent']]\n"
     ]
    }
   ],
   "source": [
    "predictions = serving_model.signatures['serving_default'](**instance)\n",
    "for key in predictions:\n",
    "    print(f\"{key}: {predictions[key].numpy()}\")"
   ]
  },
  {
   "cell_type": "markdown",
   "id": "8cec2080",
   "metadata": {},
   "source": [
    "## Start a new Vertex AI experiment run"
   ]
  },
  {
   "cell_type": "code",
   "execution_count": 8,
   "id": "1d87d0f9",
   "metadata": {},
   "outputs": [
    {
     "name": "stdout",
     "output_type": "stream",
     "text": [
      "Associating projects/188940921537/locations/us-central1/metadataStores/default/contexts/creditcards-classifier-v01-run-gcp-20220706164719 to Experiment: creditcards-classifier-v01\n",
      "Experiment run directory: gs://pbalm-cxb-aa-eu/creditcards/experiments/creditcards-classifier-v01/run-gcp-20220706164719\n"
     ]
    }
   ],
   "source": [
    "vertex_ai.init(\n",
    "    project=PROJECT,\n",
    "    staging_bucket=BUCKET,\n",
    "    experiment=EXPERIMENT_NAME)\n",
    "\n",
    "run_id = f\"run-gcp-{datetime.now().strftime('%Y%m%d%H%M%S')}\"\n",
    "vertex_ai.start_run(run_id)\n",
    "\n",
    "EXPERIMENT_RUN_DIR = os.path.join(EXPERIMENT_ARTIFACTS_DIR, EXPERIMENT_NAME, run_id)\n",
    "print(\"Experiment run directory:\", EXPERIMENT_RUN_DIR)"
   ]
  },
  {
   "cell_type": "code",
   "execution_count": 9,
   "id": "da802846-d5ff-4c0f-8faa-5eef3d680c95",
   "metadata": {},
   "outputs": [
    {
     "name": "stdout",
     "output_type": "stream",
     "text": [
      "pbalm-cxb-aa\n",
      "pbalm-cxb-aa-eu\n",
      "creditcards-classifier-v01\n"
     ]
    }
   ],
   "source": [
    "print(f'{PROJECT}')\n",
    "print(f'{BUCKET}')\n",
    "print(f'{EXPERIMENT_NAME}')"
   ]
  },
  {
   "cell_type": "markdown",
   "id": "8ade27b7",
   "metadata": {},
   "source": [
    "## 3. Submit a Data Processing Job to Dataflow\n",
    "\n",
    "To rebuild the custom container:\n",
    "\n",
    "`gcloud builds submit . --tag europe-west4-docker.pkg.dev/pbalm-cxb-aa/dataflow/creditcards:latest --timeout=30m`"
   ]
  },
  {
   "cell_type": "code",
   "execution_count": 19,
   "id": "174b1fb2-4c5b-46dc-a5e6-fc2719a7ed9e",
   "metadata": {
    "collapsed": true,
    "jupyter": {
     "outputs_hidden": true
    },
    "tags": []
   },
   "outputs": [
    {
     "name": "stdout",
     "output_type": "stream",
     "text": [
      "Creating temporary tarball archive of 77 file(s) totalling 3.5 MiB before compression.\n",
      "Uploading tarball of [.] to [gs://pbalm-cxb-aa_cloudbuild/source/1657126533.243448-3af5e3a9189f45fd895bc9e18fae54f5.tgz]\n",
      "Created [https://cloudbuild.googleapis.com/v1/projects/pbalm-cxb-aa/locations/global/builds/36661476-7c56-4994-942f-6140607ebc80].\n",
      "Logs are available at [https://console.cloud.google.com/cloud-build/builds/36661476-7c56-4994-942f-6140607ebc80?project=188940921537].\n",
      "----------------------------- REMOTE BUILD OUTPUT ------------------------------\n",
      "starting build \"36661476-7c56-4994-942f-6140607ebc80\"\n",
      "\n",
      "FETCHSOURCE\n",
      "Fetching storage object: gs://pbalm-cxb-aa_cloudbuild/source/1657126533.243448-3af5e3a9189f45fd895bc9e18fae54f5.tgz#1657126534938089\n",
      "Copying gs://pbalm-cxb-aa_cloudbuild/source/1657126533.243448-3af5e3a9189f45fd895bc9e18fae54f5.tgz#1657126534938089...\n",
      "/ [1 files][597.2 KiB/597.2 KiB]                                                \n",
      "Operation completed over 1 objects/597.2 KiB.\n",
      "BUILD\n",
      "Already have image (with digest): gcr.io/cloud-builders/docker\n",
      "Sending build context to Docker daemon  3.773MB\n",
      "Step 1/5 : FROM apache/beam_python3.7_sdk:2.39.0\n",
      "2.39.0: Pulling from apache/beam_python3.7_sdk\n",
      "67e8aa6c8bbc: Pulling fs layer\n",
      "627e6c1e1055: Pulling fs layer\n",
      "0670968926f6: Pulling fs layer\n",
      "5a8b0e20be4b: Pulling fs layer\n",
      "b0b10a3a2784: Pulling fs layer\n",
      "e16cd24209e8: Pulling fs layer\n",
      "3d88b16bb65a: Pulling fs layer\n",
      "84d1e3bb48af: Pulling fs layer\n",
      "90b15c3c4eec: Pulling fs layer\n",
      "2e0503779a57: Pulling fs layer\n",
      "9f9c11484bb1: Pulling fs layer\n",
      "2df57cb54e4d: Pulling fs layer\n",
      "4bd93539abda: Pulling fs layer\n",
      "79c59d6f0377: Pulling fs layer\n",
      "d2aabfdcaac0: Pulling fs layer\n",
      "9b57857091c3: Pulling fs layer\n",
      "8b9888fec7f1: Pulling fs layer\n",
      "feb65321cdf4: Pulling fs layer\n",
      "e0786fd257d1: Pulling fs layer\n",
      "1904d44a9360: Pulling fs layer\n",
      "e3f57d0327cf: Pulling fs layer\n",
      "e204a3932b86: Pulling fs layer\n",
      "b1bb4d4f1d7b: Pulling fs layer\n",
      "248d84f0406d: Pulling fs layer\n",
      "4bd93539abda: Waiting\n",
      "79c59d6f0377: Waiting\n",
      "1904d44a9360: Waiting\n",
      "e3f57d0327cf: Waiting\n",
      "e204a3932b86: Waiting\n",
      "d2aabfdcaac0: Waiting\n",
      "b1bb4d4f1d7b: Waiting\n",
      "248d84f0406d: Waiting\n",
      "9b57857091c3: Waiting\n",
      "8b9888fec7f1: Waiting\n",
      "84d1e3bb48af: Waiting\n",
      "feb65321cdf4: Waiting\n",
      "90b15c3c4eec: Waiting\n",
      "e0786fd257d1: Waiting\n",
      "2e0503779a57: Waiting\n",
      "9f9c11484bb1: Waiting\n",
      "b0b10a3a2784: Waiting\n",
      "5a8b0e20be4b: Waiting\n",
      "e16cd24209e8: Waiting\n",
      "3d88b16bb65a: Waiting\n",
      "627e6c1e1055: Verifying Checksum\n",
      "627e6c1e1055: Download complete\n",
      "67e8aa6c8bbc: Verifying Checksum\n",
      "67e8aa6c8bbc: Download complete\n",
      "5a8b0e20be4b: Download complete\n",
      "e16cd24209e8: Download complete\n",
      "0670968926f6: Verifying Checksum\n",
      "0670968926f6: Download complete\n",
      "84d1e3bb48af: Download complete\n",
      "3d88b16bb65a: Verifying Checksum\n",
      "3d88b16bb65a: Download complete\n",
      "2e0503779a57: Download complete\n",
      "90b15c3c4eec: Verifying Checksum\n",
      "90b15c3c4eec: Download complete\n",
      "9f9c11484bb1: Verifying Checksum\n",
      "9f9c11484bb1: Download complete\n",
      "67e8aa6c8bbc: Pull complete\n",
      "627e6c1e1055: Pull complete\n",
      "0670968926f6: Pull complete\n",
      "b0b10a3a2784: Download complete\n",
      "79c59d6f0377: Verifying Checksum\n",
      "79c59d6f0377: Download complete\n",
      "d2aabfdcaac0: Download complete\n",
      "9b57857091c3: Verifying Checksum\n",
      "9b57857091c3: Download complete\n",
      "5a8b0e20be4b: Pull complete\n",
      "4bd93539abda: Verifying Checksum\n",
      "4bd93539abda: Download complete\n",
      "feb65321cdf4: Verifying Checksum\n",
      "feb65321cdf4: Download complete\n",
      "8b9888fec7f1: Verifying Checksum\n",
      "e0786fd257d1: Verifying Checksum\n",
      "e0786fd257d1: Download complete\n",
      "1904d44a9360: Verifying Checksum\n",
      "1904d44a9360: Download complete\n",
      "e204a3932b86: Verifying Checksum\n",
      "e204a3932b86: Download complete\n",
      "e3f57d0327cf: Verifying Checksum\n",
      "e3f57d0327cf: Download complete\n",
      "248d84f0406d: Verifying Checksum\n",
      "248d84f0406d: Download complete\n",
      "b1bb4d4f1d7b: Verifying Checksum\n",
      "b1bb4d4f1d7b: Download complete\n",
      "b0b10a3a2784: Pull complete\n",
      "e16cd24209e8: Pull complete\n",
      "3d88b16bb65a: Pull complete\n",
      "84d1e3bb48af: Pull complete\n",
      "90b15c3c4eec: Pull complete\n",
      "2e0503779a57: Pull complete\n",
      "9f9c11484bb1: Pull complete\n",
      "2df57cb54e4d: Verifying Checksum\n",
      "2df57cb54e4d: Download complete\n",
      "2df57cb54e4d: Pull complete\n",
      "4bd93539abda: Pull complete\n",
      "79c59d6f0377: Pull complete\n",
      "d2aabfdcaac0: Pull complete\n",
      "9b57857091c3: Pull complete\n",
      "8b9888fec7f1: Pull complete\n",
      "feb65321cdf4: Pull complete\n",
      "e0786fd257d1: Pull complete\n",
      "1904d44a9360: Pull complete\n",
      "e3f57d0327cf: Pull complete\n",
      "e204a3932b86: Pull complete\n",
      "b1bb4d4f1d7b: Pull complete\n",
      "248d84f0406d: Pull complete\n",
      "Digest: sha256:05cd9456928258316847d3535c2d42a681f0ee7af2c1e9d6e663929c3a7f8c56\n",
      "Status: Downloaded newer image for apache/beam_python3.7_sdk:2.39.0\n",
      " ---> 28a2c07c5ac2\n",
      "Step 2/5 : COPY requirements.txt requirements.txt\n",
      " ---> 9a28c2ae65e7\n",
      "Step 3/5 : RUN pip install -r requirements.txt\n",
      " ---> Running in 6ca97ce5670a\n",
      "Collecting kfp==1.8.12\n",
      "  Downloading kfp-1.8.12.tar.gz (301 kB)\n",
      "     ━━━━━━━━━━━━━━━━━━━━━━━━━━━━━━━━━━━━━━━ 301.2/301.2 KB 8.2 MB/s eta 0:00:00\n",
      "  Preparing metadata (setup.py): started\n",
      "  Preparing metadata (setup.py): finished with status 'done'\n",
      "Collecting google-cloud-bigquery==2.34.3\n",
      "  Downloading google_cloud_bigquery-2.34.3-py2.py3-none-any.whl (206 kB)\n",
      "     ━━━━━━━━━━━━━━━━━━━━━━━━━━━━━━━━━━━━━━ 206.6/206.6 KB 25.8 MB/s eta 0:00:00\n",
      "Collecting google-cloud-bigquery-storage==2.13.2\n",
      "  Downloading google_cloud_bigquery_storage-2.13.2-py2.py3-none-any.whl (180 kB)\n",
      "     ━━━━━━━━━━━━━━━━━━━━━━━━━━━━━━━━━━━━━━ 180.2/180.2 KB 24.3 MB/s eta 0:00:00\n",
      "Collecting google-cloud-aiplatform==1.15.0\n",
      "  Downloading google_cloud_aiplatform-1.15.0-py2.py3-none-any.whl (2.1 MB)\n",
      "     ━━━━━━━━━━━━━━━━━━━━━━━━━━━━━━━━━━━━━━━━ 2.1/2.1 MB 51.3 MB/s eta 0:00:00\n",
      "Requirement already satisfied: google-cloud-pubsub in /usr/local/lib/python3.7/site-packages (from -r requirements.txt (line 6)) (2.11.0)\n",
      "Collecting cloudml-hypertune==0.1.0.dev6\n",
      "  Downloading cloudml-hypertune-0.1.0.dev6.tar.gz (3.2 kB)\n",
      "  Preparing metadata (setup.py): started\n",
      "  Preparing metadata (setup.py): finished with status 'done'\n",
      "Collecting pytest==7.1.2\n",
      "  Downloading pytest-7.1.2-py3-none-any.whl (297 kB)\n",
      "     ━━━━━━━━━━━━━━━━━━━━━━━━━━━━━━━━━━━━━━ 297.0/297.0 KB 28.6 MB/s eta 0:00:00\n",
      "Collecting tensorflow-data-validation==1.8.0\n",
      "  Downloading tensorflow_data_validation-1.8.0-cp37-cp37m-manylinux_2_12_x86_64.manylinux2010_x86_64.whl (1.4 MB)\n",
      "     ━━━━━━━━━━━━━━━━━━━━━━━━━━━━━━━━━━━━━━━━ 1.4/1.4 MB 57.9 MB/s eta 0:00:00\n",
      "Collecting tensorflow-transform==1.8.0\n",
      "  Downloading tensorflow_transform-1.8.0-py3-none-any.whl (435 kB)\n",
      "     ━━━━━━━━━━━━━━━━━━━━━━━━━━━━━━━━━━━━━━ 435.3/435.3 KB 38.7 MB/s eta 0:00:00\n",
      "Collecting tfx==1.8.0\n",
      "  Downloading tfx-1.8.0-py3-none-any.whl (2.5 MB)\n",
      "     ━━━━━━━━━━━━━━━━━━━━━━━━━━━━━━━━━━━━━━━━ 2.5/2.5 MB 69.1 MB/s eta 0:00:00\n",
      "Collecting tensorflow-io==0.26.0\n",
      "  Downloading tensorflow_io-0.26.0-cp37-cp37m-manylinux_2_12_x86_64.manylinux2010_x86_64.whl (25.9 MB)\n",
      "     ━━━━━━━━━━━━━━━━━━━━━━━━━━━━━━━━━━━━━━━━ 25.9/25.9 MB 55.0 MB/s eta 0:00:00\n",
      "Requirement already satisfied: apache-beam[gcp]==2.39.0 in /usr/local/lib/python3.7/site-packages (from -r requirements.txt (line 14)) (2.39.0)\n",
      "Collecting numpy==1.21.6\n",
      "  Downloading numpy-1.21.6-cp37-cp37m-manylinux_2_12_x86_64.manylinux2010_x86_64.whl (15.7 MB)\n",
      "     ━━━━━━━━━━━━━━━━━━━━━━━━━━━━━━━━━━━━━━━━ 15.7/15.7 MB 66.4 MB/s eta 0:00:00\n",
      "Requirement already satisfied: absl-py<2,>=0.9 in /usr/local/lib/python3.7/site-packages (from kfp==1.8.12->-r requirements.txt (line 1)) (1.0.0)\n",
      "Collecting PyYAML<6,>=5.3\n",
      "  Downloading PyYAML-5.4.1-cp37-cp37m-manylinux1_x86_64.whl (636 kB)\n",
      "     ━━━━━━━━━━━━━━━━━━━━━━━━━━━━━━━━━━━━━━ 636.6/636.6 KB 47.6 MB/s eta 0:00:00\n",
      "Requirement already satisfied: google-api-core!=2.0.*,!=2.1.*,!=2.2.*,!=2.3.0,<3.0.0dev,>=1.31.5 in /usr/local/lib/python3.7/site-packages (from kfp==1.8.12->-r requirements.txt (line 1)) (1.31.5)\n",
      "Collecting google-cloud-storage<2,>=1.20.0\n",
      "  Downloading google_cloud_storage-1.44.0-py2.py3-none-any.whl (106 kB)\n",
      "     ━━━━━━━━━━━━━━━━━━━━━━━━━━━━━━━━━━━━━━ 106.8/106.8 KB 17.2 MB/s eta 0:00:00\n",
      "Collecting kubernetes<19,>=8.0.0\n",
      "  Downloading kubernetes-18.20.0-py2.py3-none-any.whl (1.6 MB)\n",
      "     ━━━━━━━━━━━━━━━━━━━━━━━━━━━━━━━━━━━━━━━━ 1.6/1.6 MB 60.8 MB/s eta 0:00:00\n",
      "Collecting google-api-python-client<2,>=1.7.8\n",
      "  Downloading google_api_python_client-1.12.11-py2.py3-none-any.whl (62 kB)\n",
      "     ━━━━━━━━━━━━━━━━━━━━━━━━━━━━━━━━━━━━━━━━ 62.1/62.1 KB 10.1 MB/s eta 0:00:00\n",
      "Requirement already satisfied: google-auth<2,>=1.6.1 in /usr/local/lib/python3.7/site-packages (from kfp==1.8.12->-r requirements.txt (line 1)) (1.35.0)\n",
      "Collecting requests-toolbelt<1,>=0.8.0\n",
      "  Downloading requests_toolbelt-0.9.1-py2.py3-none-any.whl (54 kB)\n",
      "     ━━━━━━━━━━━━━━━━━━━━━━━━━━━━━━━━━━━━━━━━ 54.3/54.3 KB 9.1 MB/s eta 0:00:00\n",
      "Requirement already satisfied: cloudpickle<3,>=2.0.0 in /usr/local/lib/python3.7/site-packages (from kfp==1.8.12->-r requirements.txt (line 1)) (2.0.0)\n",
      "Collecting kfp-server-api<2.0.0,>=1.1.2\n",
      "  Downloading kfp-server-api-1.8.2.tar.gz (57 kB)\n",
      "     ━━━━━━━━━━━━━━━━━━━━━━━━━━━━━━━━━━━━━━━━ 58.0/58.0 KB 9.5 MB/s eta 0:00:00\n",
      "  Preparing metadata (setup.py): started\n",
      "  Preparing metadata (setup.py): finished with status 'done'\n",
      "Collecting jsonschema<4,>=3.0.1\n",
      "  Downloading jsonschema-3.2.0-py2.py3-none-any.whl (56 kB)\n",
      "     ━━━━━━━━━━━━━━━━━━━━━━━━━━━━━━━━━━━━━━━━ 56.3/56.3 KB 9.7 MB/s eta 0:00:00\n",
      "Collecting tabulate<1,>=0.8.6\n",
      "  Downloading tabulate-0.8.10-py3-none-any.whl (29 kB)\n",
      "Requirement already satisfied: click<9,>=7.1.2 in /usr/local/lib/python3.7/site-packages (from kfp==1.8.12->-r requirements.txt (line 1)) (8.0.4)\n",
      "Collecting Deprecated<2,>=1.2.7\n",
      "  Downloading Deprecated-1.2.13-py2.py3-none-any.whl (9.6 kB)\n",
      "Collecting strip-hints<1,>=0.1.8\n",
      "  Downloading strip-hints-0.1.10.tar.gz (29 kB)\n",
      "  Preparing metadata (setup.py): started\n",
      "  Preparing metadata (setup.py): finished with status 'done'\n",
      "Collecting docstring-parser<1,>=0.7.3\n",
      "  Downloading docstring_parser-0.14.1-py3-none-any.whl (33 kB)\n",
      "Collecting kfp-pipeline-spec<0.2.0,>=0.1.14\n",
      "  Downloading kfp_pipeline_spec-0.1.16-py3-none-any.whl (19 kB)\n",
      "Collecting fire<1,>=0.3.1\n",
      "  Downloading fire-0.4.0.tar.gz (87 kB)\n",
      "     ━━━━━━━━━━━━━━━━━━━━━━━━━━━━━━━━━━━━━━━━ 87.7/87.7 KB 13.2 MB/s eta 0:00:00\n",
      "  Preparing metadata (setup.py): started\n",
      "  Preparing metadata (setup.py): finished with status 'done'\n",
      "Requirement already satisfied: protobuf<4,>=3.13.0 in /usr/local/lib/python3.7/site-packages (from kfp==1.8.12->-r requirements.txt (line 1)) (3.19.4)\n",
      "Collecting uritemplate<4,>=3.0.1\n",
      "  Downloading uritemplate-3.0.1-py2.py3-none-any.whl (15 kB)\n",
      "Collecting pydantic<2,>=1.8.2\n",
      "  Downloading pydantic-1.9.1-cp37-cp37m-manylinux_2_17_x86_64.manylinux2014_x86_64.whl (11.1 MB)\n",
      "     ━━━━━━━━━━━━━━━━━━━━━━━━━━━━━━━━━━━━━━━━ 11.1/11.1 MB 71.3 MB/s eta 0:00:00\n",
      "Collecting typer<1.0,>=0.3.2\n",
      "  Downloading typer-0.4.2-py3-none-any.whl (27 kB)\n",
      "Collecting typing-extensions<4,>=3.7.4\n",
      "  Downloading typing_extensions-3.10.0.2-py3-none-any.whl (26 kB)\n",
      "Requirement already satisfied: packaging>=14.3 in /usr/local/lib/python3.7/site-packages (from google-cloud-bigquery==2.34.3->-r requirements.txt (line 2)) (21.3)\n",
      "Requirement already satisfied: requests<3.0.0dev,>=2.18.0 in /usr/local/lib/python3.7/site-packages (from google-cloud-bigquery==2.34.3->-r requirements.txt (line 2)) (2.27.1)\n",
      "Requirement already satisfied: proto-plus>=1.15.0 in /usr/local/lib/python3.7/site-packages (from google-cloud-bigquery==2.34.3->-r requirements.txt (line 2)) (1.20.3)\n",
      "Requirement already satisfied: google-cloud-core<3.0.0dev,>=1.4.1 in /usr/local/lib/python3.7/site-packages (from google-cloud-bigquery==2.34.3->-r requirements.txt (line 2)) (1.7.2)\n",
      "Requirement already satisfied: python-dateutil<3.0dev,>=2.7.2 in /usr/local/lib/python3.7/site-packages (from google-cloud-bigquery==2.34.3->-r requirements.txt (line 2)) (2.8.2)\n",
      "Requirement already satisfied: google-resumable-media<3.0dev,>=0.6.0 in /usr/local/lib/python3.7/site-packages (from google-cloud-bigquery==2.34.3->-r requirements.txt (line 2)) (2.3.2)\n",
      "Requirement already satisfied: grpcio<2.0dev,>=1.38.1 in /usr/local/lib/python3.7/site-packages (from google-cloud-bigquery==2.34.3->-r requirements.txt (line 2)) (1.44.0)\n",
      "Collecting google-cloud-resource-manager<3.0.0dev,>=1.3.3\n",
      "  Downloading google_cloud_resource_manager-1.5.1-py2.py3-none-any.whl (230 kB)\n",
      "     ━━━━━━━━━━━━━━━━━━━━━━━━━━━━━━━━━━━━━━ 230.2/230.2 KB 26.0 MB/s eta 0:00:00\n",
      "Collecting tomli>=1.0.0\n",
      "  Downloading tomli-2.0.1-py3-none-any.whl (12 kB)\n",
      "Requirement already satisfied: importlib-metadata>=0.12 in /usr/local/lib/python3.7/site-packages (from pytest==7.1.2->-r requirements.txt (line 8)) (4.11.3)\n",
      "Requirement already satisfied: pluggy<2.0,>=0.12 in /usr/local/lib/python3.7/site-packages (from pytest==7.1.2->-r requirements.txt (line 8)) (0.13.1)\n",
      "Collecting iniconfig\n",
      "  Downloading iniconfig-1.1.1-py2.py3-none-any.whl (5.0 kB)\n",
      "Requirement already satisfied: attrs>=19.2.0 in /usr/local/lib/python3.7/site-packages (from pytest==7.1.2->-r requirements.txt (line 8)) (21.4.0)\n",
      "Requirement already satisfied: py>=1.8.2 in /usr/local/lib/python3.7/site-packages (from pytest==7.1.2->-r requirements.txt (line 8)) (1.11.0)\n",
      "Requirement already satisfied: tensorflow!=2.0.*,!=2.1.*,!=2.2.*,!=2.3.*,!=2.4.*,!=2.5.*,!=2.6.*,!=2.7.*,<3,>=1.15.5 in /usr/local/lib/python3.7/site-packages (from tensorflow-data-validation==1.8.0->-r requirements.txt (line 10)) (2.8.0)\n",
      "Collecting joblib<0.15,>=0.12\n",
      "  Downloading joblib-0.14.1-py2.py3-none-any.whl (294 kB)\n",
      "     ━━━━━━━━━━━━━━━━━━━━━━━━━━━━━━━━━━━━━━ 294.9/294.9 KB 31.1 MB/s eta 0:00:00\n",
      "Collecting pyfarmhash<0.4,>=0.2\n",
      "  Downloading pyfarmhash-0.3.2.tar.gz (99 kB)\n",
      "     ━━━━━━━━━━━━━━━━━━━━━━━━━━━━━━━━━━━━━━━━ 99.9/99.9 KB 14.4 MB/s eta 0:00:00\n",
      "  Preparing metadata (setup.py): started\n",
      "  Preparing metadata (setup.py): finished with status 'done'\n",
      "Collecting tfx-bsl<1.9,>=1.8.0\n",
      "  Downloading tfx_bsl-1.8.0-cp37-cp37m-manylinux_2_12_x86_64.manylinux2010_x86_64.whl (19.2 MB)\n",
      "     ━━━━━━━━━━━━━━━━━━━━━━━━━━━━━━━━━━━━━━━━ 19.2/19.2 MB 65.0 MB/s eta 0:00:00\n",
      "Requirement already satisfied: six<2,>=1.12 in /usr/local/lib/python3.7/site-packages (from tensorflow-data-validation==1.8.0->-r requirements.txt (line 10)) (1.16.0)\n",
      "Requirement already satisfied: pandas<2,>=1.0 in /usr/local/lib/python3.7/site-packages (from tensorflow-data-validation==1.8.0->-r requirements.txt (line 10)) (1.3.5)\n",
      "Collecting tensorflow-metadata<1.9,>=1.8.0\n",
      "  Downloading tensorflow_metadata-1.8.0-py3-none-any.whl (50 kB)\n",
      "     ━━━━━━━━━━━━━━━━━━━━━━━━━━━━━━━━━━━━━━━━ 50.5/50.5 KB 8.2 MB/s eta 0:00:00\n",
      "Collecting pyarrow<6,>=1\n",
      "  Downloading pyarrow-5.0.0-cp37-cp37m-manylinux2014_x86_64.whl (23.6 MB)\n",
      "     ━━━━━━━━━━━━━━━━━━━━━━━━━━━━━━━━━━━━━━━━ 23.6/23.6 MB 58.6 MB/s eta 0:00:00\n",
      "Requirement already satisfied: pydot<2,>=1.2 in /usr/local/lib/python3.7/site-packages (from tensorflow-transform==1.8.0->-r requirements.txt (line 11)) (1.4.2)\n",
      "Collecting jinja2<4,>=2.7.3\n",
      "  Downloading Jinja2-3.1.2-py3-none-any.whl (133 kB)\n",
      "     ━━━━━━━━━━━━━━━━━━━━━━━━━━━━━━━━━━━━━━ 133.1/133.1 KB 19.8 MB/s eta 0:00:00\n",
      "Collecting keras-tuner<2,>=1.0.4\n",
      "  Downloading keras_tuner-1.1.2-py3-none-any.whl (133 kB)\n",
      "     ━━━━━━━━━━━━━━━━━━━━━━━━━━━━━━━━━━━━━━ 133.7/133.7 KB 20.4 MB/s eta 0:00:00\n",
      "Collecting portpicker<2,>=1.3.1\n",
      "  Downloading portpicker-1.5.2-py3-none-any.whl (14 kB)\n",
      "Collecting click<9,>=7.1.2\n",
      "  Downloading click-7.1.2-py2.py3-none-any.whl (82 kB)\n",
      "     ━━━━━━━━━━━━━━━━━━━━━━━━━━━━━━━━━━━━━━━━ 82.8/82.8 KB 13.9 MB/s eta 0:00:00\n",
      "Collecting tensorflow-model-analysis<0.40,>=0.39.0\n",
      "  Downloading tensorflow_model_analysis-0.39.0-py3-none-any.whl (1.8 MB)\n",
      "     ━━━━━━━━━━━━━━━━━━━━━━━━━━━━━━━━━━━━━━━━ 1.8/1.8 MB 62.3 MB/s eta 0:00:00\n",
      "Collecting kubernetes<19,>=8.0.0\n",
      "  Downloading kubernetes-12.0.1-py2.py3-none-any.whl (1.7 MB)\n",
      "     ━━━━━━━━━━━━━━━━━━━━━━━━━━━━━━━━━━━━━━━━ 1.7/1.7 MB 62.7 MB/s eta 0:00:00\n",
      "Collecting tensorflow-serving-api!=2.0.*,!=2.1.*,!=2.2.*,!=2.3.*,!=2.4.*,!=2.5.*,!=2.6.*,!=2.7.*,<3,>=1.15\n",
      "  Downloading tensorflow_serving_api-2.9.0-py2.py3-none-any.whl (37 kB)\n",
      "Collecting attrs>=19.2.0\n",
      "  Downloading attrs-20.3.0-py2.py3-none-any.whl (49 kB)\n",
      "     ━━━━━━━━━━━━━━━━━━━━━━━━━━━━━━━━━━━━━━━━ 49.3/49.3 KB 7.2 MB/s eta 0:00:00\n",
      "Requirement already satisfied: google-apitools<1,>=0.5 in /usr/local/lib/python3.7/site-packages (from tfx==1.8.0->-r requirements.txt (line 12)) (0.5.31)\n",
      "Collecting tensorflow-hub<0.13,>=0.9.0\n",
      "  Downloading tensorflow_hub-0.12.0-py2.py3-none-any.whl (108 kB)\n",
      "     ━━━━━━━━━━━━━━━━━━━━━━━━━━━━━━━━━━━━━━ 108.8/108.8 KB 17.3 MB/s eta 0:00:00\n",
      "Collecting packaging>=14.3\n",
      "  Downloading packaging-20.9-py2.py3-none-any.whl (40 kB)\n",
      "     ━━━━━━━━━━━━━━━━━━━━━━━━━━━━━━━━━━━━━━━━ 40.9/40.9 KB 6.4 MB/s eta 0:00:00\n",
      "Collecting ml-metadata<1.9.0,>=1.8.0\n",
      "  Downloading ml_metadata-1.8.0-cp37-cp37m-manylinux_2_12_x86_64.manylinux2010_x86_64.whl (6.6 MB)\n",
      "     ━━━━━━━━━━━━━━━━━━━━━━━━━━━━━━━━━━━━━━━━ 6.6/6.6 MB 76.3 MB/s eta 0:00:00\n",
      "Collecting ml-pipelines-sdk==1.8.0\n",
      "  Downloading ml_pipelines_sdk-1.8.0-py3-none-any.whl (1.3 MB)\n",
      "     ━━━━━━━━━━━━━━━━━━━━━━━━━━━━━━━━━━━━━━━━ 1.3/1.3 MB 55.8 MB/s eta 0:00:00\n",
      "Collecting docker<5,>=4.1\n",
      "  Downloading docker-4.4.4-py2.py3-none-any.whl (147 kB)\n",
      "     ━━━━━━━━━━━━━━━━━━━━━━━━━━━━━━━━━━━━━━ 147.0/147.0 KB 21.5 MB/s eta 0:00:00\n",
      "Collecting tensorflow-io-gcs-filesystem==0.26.0\n",
      "  Downloading tensorflow_io_gcs_filesystem-0.26.0-cp37-cp37m-manylinux_2_12_x86_64.manylinux2010_x86_64.whl (2.4 MB)\n",
      "     ━━━━━━━━━━━━━━━━━━━━━━━━━━━━━━━━━━━━━━━━ 2.4/2.4 MB 72.9 MB/s eta 0:00:00\n",
      "Requirement already satisfied: hdfs<3.0.0,>=2.1.0 in /usr/local/lib/python3.7/site-packages (from apache-beam[gcp]==2.39.0->-r requirements.txt (line 14)) (2.6.0)\n",
      "Requirement already satisfied: crcmod<2.0,>=1.7 in /usr/local/lib/python3.7/site-packages (from apache-beam[gcp]==2.39.0->-r requirements.txt (line 14)) (1.7)\n",
      "Requirement already satisfied: pymongo<4.0.0,>=3.8.0 in /usr/local/lib/python3.7/site-packages (from apache-beam[gcp]==2.39.0->-r requirements.txt (line 14)) (3.12.3)\n",
      "Requirement already satisfied: fastavro<2,>=0.23.6 in /usr/local/lib/python3.7/site-packages (from apache-beam[gcp]==2.39.0->-r requirements.txt (line 14)) (1.4.10)\n",
      "Requirement already satisfied: orjson<4.0 in /usr/local/lib/python3.7/site-packages (from apache-beam[gcp]==2.39.0->-r requirements.txt (line 14)) (3.6.7)\n",
      "Requirement already satisfied: dill<0.3.2,>=0.3.1.1 in /usr/local/lib/python3.7/site-packages (from apache-beam[gcp]==2.39.0->-r requirements.txt (line 14)) (0.3.1.1)\n",
      "Requirement already satisfied: httplib2<0.20.0,>=0.8 in /usr/local/lib/python3.7/site-packages (from apache-beam[gcp]==2.39.0->-r requirements.txt (line 14)) (0.19.1)\n",
      "Requirement already satisfied: pytz>=2018.3 in /usr/local/lib/python3.7/site-packages (from apache-beam[gcp]==2.39.0->-r requirements.txt (line 14)) (2021.3)\n",
      "Requirement already satisfied: cachetools<5,>=3.1.0 in /usr/local/lib/python3.7/site-packages (from apache-beam[gcp]==2.39.0->-r requirements.txt (line 14)) (4.2.4)\n",
      "Requirement already satisfied: grpcio-gcp<1,>=0.2.2 in /usr/local/lib/python3.7/site-packages (from apache-beam[gcp]==2.39.0->-r requirements.txt (line 14)) (0.2.2)\n",
      "Requirement already satisfied: google-auth-httplib2<0.2.0,>=0.1.0 in /usr/local/lib/python3.7/site-packages (from apache-beam[gcp]==2.39.0->-r requirements.txt (line 14)) (0.1.0)\n",
      "Requirement already satisfied: google-cloud-videointelligence<2,>=1.8.0 in /usr/local/lib/python3.7/site-packages (from apache-beam[gcp]==2.39.0->-r requirements.txt (line 14)) (1.16.1)\n",
      "Requirement already satisfied: google-cloud-vision<2,>=0.38.0 in /usr/local/lib/python3.7/site-packages (from apache-beam[gcp]==2.39.0->-r requirements.txt (line 14)) (1.0.0)\n",
      "Requirement already satisfied: google-cloud-spanner<2,>=1.13.0 in /usr/local/lib/python3.7/site-packages (from apache-beam[gcp]==2.39.0->-r requirements.txt (line 14)) (1.19.1)\n",
      "Requirement already satisfied: google-cloud-language<2,>=1.3.0 in /usr/local/lib/python3.7/site-packages (from apache-beam[gcp]==2.39.0->-r requirements.txt (line 14)) (1.3.0)\n",
      "Requirement already satisfied: google-cloud-recommendations-ai<=0.2.0,>=0.1.0 in /usr/local/lib/python3.7/site-packages (from apache-beam[gcp]==2.39.0->-r requirements.txt (line 14)) (0.2.0)\n",
      "Requirement already satisfied: google-cloud-pubsublite<2,>=1.2.0 in /usr/local/lib/python3.7/site-packages (from apache-beam[gcp]==2.39.0->-r requirements.txt (line 14)) (1.4.1)\n",
      "Requirement already satisfied: google-cloud-dlp<4,>=3.0.0 in /usr/local/lib/python3.7/site-packages (from apache-beam[gcp]==2.39.0->-r requirements.txt (line 14)) (3.6.2)\n",
      "Requirement already satisfied: google-cloud-datastore<2,>=1.8.0 in /usr/local/lib/python3.7/site-packages (from apache-beam[gcp]==2.39.0->-r requirements.txt (line 14)) (1.15.3)\n",
      "Requirement already satisfied: google-cloud-bigtable<2,>=0.31.1 in /usr/local/lib/python3.7/site-packages (from apache-beam[gcp]==2.39.0->-r requirements.txt (line 14)) (1.7.0)\n",
      "Requirement already satisfied: grpc-google-iam-v1<0.13dev,>=0.12.3 in /usr/local/lib/python3.7/site-packages (from google-cloud-pubsub->-r requirements.txt (line 6)) (0.12.3)\n",
      "Requirement already satisfied: grpcio-status>=1.16.0 in /usr/local/lib/python3.7/site-packages (from google-cloud-pubsub->-r requirements.txt (line 6)) (1.44.0)\n",
      "Requirement already satisfied: wrapt<2,>=1.10 in /usr/local/lib/python3.7/site-packages (from Deprecated<2,>=1.2.7->kfp==1.8.12->-r requirements.txt (line 1)) (1.14.0)\n",
      "Requirement already satisfied: websocket-client>=0.32.0 in /usr/local/lib/python3.7/site-packages (from docker<5,>=4.1->tfx==1.8.0->-r requirements.txt (line 12)) (1.3.1)\n",
      "Requirement already satisfied: termcolor in /usr/local/lib/python3.7/site-packages (from fire<1,>=0.3.1->kfp==1.8.12->-r requirements.txt (line 1)) (1.1.0)\n",
      "Requirement already satisfied: googleapis-common-protos<2.0dev,>=1.6.0 in /usr/local/lib/python3.7/site-packages (from google-api-core!=2.0.*,!=2.1.*,!=2.2.*,!=2.3.0,<3.0.0dev,>=1.31.5->kfp==1.8.12->-r requirements.txt (line 1)) (1.56.0)\n",
      "Requirement already satisfied: setuptools>=40.3.0 in /usr/local/lib/python3.7/site-packages (from google-api-core!=2.0.*,!=2.1.*,!=2.2.*,!=2.3.0,<3.0.0dev,>=1.31.5->kfp==1.8.12->-r requirements.txt (line 1)) (57.5.0)\n",
      "Requirement already satisfied: fasteners>=0.14 in /usr/local/lib/python3.7/site-packages (from google-apitools<1,>=0.5->tfx==1.8.0->-r requirements.txt (line 12)) (0.17.3)\n",
      "Requirement already satisfied: oauth2client>=1.4.12 in /usr/local/lib/python3.7/site-packages (from google-apitools<1,>=0.5->tfx==1.8.0->-r requirements.txt (line 12)) (4.1.3)\n",
      "Requirement already satisfied: pyasn1-modules>=0.2.1 in /usr/local/lib/python3.7/site-packages (from google-auth<2,>=1.6.1->kfp==1.8.12->-r requirements.txt (line 1)) (0.2.8)\n",
      "Requirement already satisfied: rsa<5,>=3.1.4 in /usr/local/lib/python3.7/site-packages (from google-auth<2,>=1.6.1->kfp==1.8.12->-r requirements.txt (line 1)) (4.8)\n",
      "Requirement already satisfied: overrides<7.0.0,>=6.0.1 in /usr/local/lib/python3.7/site-packages (from google-cloud-pubsublite<2,>=1.2.0->apache-beam[gcp]==2.39.0->-r requirements.txt (line 14)) (6.1.0)\n",
      "Collecting grpc-google-iam-v1<0.13dev,>=0.12.3\n",
      "  Downloading grpc_google_iam_v1-0.12.4-py2.py3-none-any.whl (26 kB)\n",
      "Requirement already satisfied: google-crc32c<2.0dev,>=1.0 in /usr/local/lib/python3.7/site-packages (from google-resumable-media<3.0dev,>=0.6.0->google-cloud-bigquery==2.34.3->-r requirements.txt (line 2)) (1.3.0)\n",
      "Requirement already satisfied: docopt in /usr/local/lib/python3.7/site-packages (from hdfs<3.0.0,>=2.1.0->apache-beam[gcp]==2.39.0->-r requirements.txt (line 14)) (0.6.2)\n",
      "Requirement already satisfied: pyparsing<3,>=2.4.2 in /usr/local/lib/python3.7/site-packages (from httplib2<0.20.0,>=0.8->apache-beam[gcp]==2.39.0->-r requirements.txt (line 14)) (2.4.7)\n",
      "Requirement already satisfied: zipp>=0.5 in /usr/local/lib/python3.7/site-packages (from importlib-metadata>=0.12->pytest==7.1.2->-r requirements.txt (line 8)) (3.7.0)\n",
      "Collecting MarkupSafe>=2.0\n",
      "  Downloading MarkupSafe-2.1.1-cp37-cp37m-manylinux_2_17_x86_64.manylinux2014_x86_64.whl (25 kB)\n",
      "Collecting pyrsistent>=0.14.0\n",
      "  Downloading pyrsistent-0.18.1-cp37-cp37m-manylinux_2_17_x86_64.manylinux2014_x86_64.whl (117 kB)\n",
      "     ━━━━━━━━━━━━━━━━━━━━━━━━━━━━━━━━━━━━━━ 117.1/117.1 KB 16.8 MB/s eta 0:00:00\n",
      "Requirement already satisfied: tensorboard in /usr/local/lib/python3.7/site-packages (from keras-tuner<2,>=1.0.4->tfx==1.8.0->-r requirements.txt (line 12)) (2.8.0)\n",
      "Collecting ipython\n",
      "  Downloading ipython-7.34.0-py3-none-any.whl (793 kB)\n",
      "     ━━━━━━━━━━━━━━━━━━━━━━━━━━━━━━━━━━━━━━ 793.8/793.8 KB 46.9 MB/s eta 0:00:00\n",
      "Collecting kt-legacy\n",
      "  Downloading kt_legacy-1.0.4-py3-none-any.whl (9.6 kB)\n",
      "Requirement already satisfied: urllib3>=1.15 in /usr/local/lib/python3.7/site-packages (from kfp-server-api<2.0.0,>=1.1.2->kfp==1.8.12->-r requirements.txt (line 1)) (1.26.9)\n",
      "Requirement already satisfied: certifi in /usr/local/lib/python3.7/site-packages (from kfp-server-api<2.0.0,>=1.1.2->kfp==1.8.12->-r requirements.txt (line 1)) (2021.10.8)\n",
      "Requirement already satisfied: requests-oauthlib in /usr/local/lib/python3.7/site-packages (from kubernetes<19,>=8.0.0->kfp==1.8.12->-r requirements.txt (line 1)) (1.3.1)\n",
      "Collecting psutil\n",
      "  Downloading psutil-5.9.1-cp37-cp37m-manylinux_2_12_x86_64.manylinux2010_x86_64.manylinux_2_17_x86_64.manylinux2014_x86_64.whl (281 kB)\n",
      "     ━━━━━━━━━━━━━━━━━━━━━━━━━━━━━━━━━━━━━━ 281.4/281.4 KB 30.6 MB/s eta 0:00:00\n",
      "Requirement already satisfied: idna<4,>=2.5 in /usr/local/lib/python3.7/site-packages (from requests<3.0.0dev,>=2.18.0->google-cloud-bigquery==2.34.3->-r requirements.txt (line 2)) (3.3)\n",
      "Requirement already satisfied: charset-normalizer~=2.0.0 in /usr/local/lib/python3.7/site-packages (from requests<3.0.0dev,>=2.18.0->google-cloud-bigquery==2.34.3->-r requirements.txt (line 2)) (2.0.12)\n",
      "Requirement already satisfied: wheel in /usr/local/lib/python3.7/site-packages (from strip-hints<1,>=0.1.8->kfp==1.8.12->-r requirements.txt (line 1)) (0.37.1)\n",
      "Requirement already satisfied: libclang>=9.0.1 in /usr/local/lib/python3.7/site-packages (from tensorflow!=2.0.*,!=2.1.*,!=2.2.*,!=2.3.*,!=2.4.*,!=2.5.*,!=2.6.*,!=2.7.*,<3,>=1.15.5->tensorflow-data-validation==1.8.0->-r requirements.txt (line 10)) (13.0.0)\n",
      "Requirement already satisfied: opt-einsum>=2.3.2 in /usr/local/lib/python3.7/site-packages (from tensorflow!=2.0.*,!=2.1.*,!=2.2.*,!=2.3.*,!=2.4.*,!=2.5.*,!=2.6.*,!=2.7.*,<3,>=1.15.5->tensorflow-data-validation==1.8.0->-r requirements.txt (line 10)) (3.3.0)\n",
      "Requirement already satisfied: h5py>=2.9.0 in /usr/local/lib/python3.7/site-packages (from tensorflow!=2.0.*,!=2.1.*,!=2.2.*,!=2.3.*,!=2.4.*,!=2.5.*,!=2.6.*,!=2.7.*,<3,>=1.15.5->tensorflow-data-validation==1.8.0->-r requirements.txt (line 10)) (3.6.0)\n",
      "Requirement already satisfied: gast>=0.2.1 in /usr/local/lib/python3.7/site-packages (from tensorflow!=2.0.*,!=2.1.*,!=2.2.*,!=2.3.*,!=2.4.*,!=2.5.*,!=2.6.*,!=2.7.*,<3,>=1.15.5->tensorflow-data-validation==1.8.0->-r requirements.txt (line 10)) (0.5.3)\n",
      "Requirement already satisfied: astunparse>=1.6.0 in /usr/local/lib/python3.7/site-packages (from tensorflow!=2.0.*,!=2.1.*,!=2.2.*,!=2.3.*,!=2.4.*,!=2.5.*,!=2.6.*,!=2.7.*,<3,>=1.15.5->tensorflow-data-validation==1.8.0->-r requirements.txt (line 10)) (1.6.3)\n",
      "Requirement already satisfied: keras<2.9,>=2.8.0rc0 in /usr/local/lib/python3.7/site-packages (from tensorflow!=2.0.*,!=2.1.*,!=2.2.*,!=2.3.*,!=2.4.*,!=2.5.*,!=2.6.*,!=2.7.*,<3,>=1.15.5->tensorflow-data-validation==1.8.0->-r requirements.txt (line 10)) (2.8.0)\n",
      "Requirement already satisfied: tf-estimator-nightly==2.8.0.dev2021122109 in /usr/local/lib/python3.7/site-packages (from tensorflow!=2.0.*,!=2.1.*,!=2.2.*,!=2.3.*,!=2.4.*,!=2.5.*,!=2.6.*,!=2.7.*,<3,>=1.15.5->tensorflow-data-validation==1.8.0->-r requirements.txt (line 10)) (2.8.0.dev2021122109)\n",
      "Requirement already satisfied: flatbuffers>=1.12 in /usr/local/lib/python3.7/site-packages (from tensorflow!=2.0.*,!=2.1.*,!=2.2.*,!=2.3.*,!=2.4.*,!=2.5.*,!=2.6.*,!=2.7.*,<3,>=1.15.5->tensorflow-data-validation==1.8.0->-r requirements.txt (line 10)) (2.0)\n",
      "Requirement already satisfied: google-pasta>=0.1.1 in /usr/local/lib/python3.7/site-packages (from tensorflow!=2.0.*,!=2.1.*,!=2.2.*,!=2.3.*,!=2.4.*,!=2.5.*,!=2.6.*,!=2.7.*,<3,>=1.15.5->tensorflow-data-validation==1.8.0->-r requirements.txt (line 10)) (0.2.0)\n",
      "Requirement already satisfied: keras-preprocessing>=1.1.1 in /usr/local/lib/python3.7/site-packages (from tensorflow!=2.0.*,!=2.1.*,!=2.2.*,!=2.3.*,!=2.4.*,!=2.5.*,!=2.6.*,!=2.7.*,<3,>=1.15.5->tensorflow-data-validation==1.8.0->-r requirements.txt (line 10)) (1.1.2)\n",
      "Requirement already satisfied: scipy<2,>=1.4.1 in /usr/local/lib/python3.7/site-packages (from tensorflow-model-analysis<0.40,>=0.39.0->tfx==1.8.0->-r requirements.txt (line 12)) (1.7.3)\n",
      "Collecting ipywidgets<8,>=7\n",
      "  Downloading ipywidgets-7.7.1-py2.py3-none-any.whl (123 kB)\n",
      "     ━━━━━━━━━━━━━━━━━━━━━━━━━━━━━━━━━━━━━━ 123.4/123.4 KB 17.1 MB/s eta 0:00:00\n",
      "Collecting tensorflow-serving-api!=2.0.*,!=2.1.*,!=2.2.*,!=2.3.*,!=2.4.*,!=2.5.*,!=2.6.*,!=2.7.*,<3,>=1.15\n",
      "  Downloading tensorflow_serving_api-2.8.2-py2.py3-none-any.whl (37 kB)\n",
      "Collecting tensorflow!=2.0.*,!=2.1.*,!=2.2.*,!=2.3.*,!=2.4.*,!=2.5.*,!=2.6.*,!=2.7.*,<3,>=1.15.5\n",
      "  Downloading tensorflow-2.8.2-cp37-cp37m-manylinux2010_x86_64.whl (497.9 MB)\n",
      "     ━━━━━━━━━━━━━━━━━━━━━━━━━━━━━━━━━━━━━━━ 497.9/497.9 MB 2.3 MB/s eta 0:00:00\n",
      "Collecting tensorflow-estimator<2.9,>=2.8\n",
      "  Downloading tensorflow_estimator-2.8.0-py2.py3-none-any.whl (462 kB)\n",
      "     ━━━━━━━━━━━━━━━━━━━━━━━━━━━━━━━━━━━━━━ 462.3/462.3 KB 35.3 MB/s eta 0:00:00\n",
      "Requirement already satisfied: cached-property in /usr/local/lib/python3.7/site-packages (from h5py>=2.9.0->tensorflow!=2.0.*,!=2.1.*,!=2.2.*,!=2.3.*,!=2.4.*,!=2.5.*,!=2.6.*,!=2.7.*,<3,>=1.15.5->tensorflow-data-validation==1.8.0->-r requirements.txt (line 10)) (1.5.2)\n",
      "Collecting decorator\n",
      "  Downloading decorator-5.1.1-py3-none-any.whl (9.1 kB)\n",
      "Collecting jedi>=0.16\n",
      "  Downloading jedi-0.18.1-py2.py3-none-any.whl (1.6 MB)\n",
      "     ━━━━━━━━━━━━━━━━━━━━━━━━━━━━━━━━━━━━━━━━ 1.6/1.6 MB 64.9 MB/s eta 0:00:00\n",
      "Collecting prompt-toolkit!=3.0.0,!=3.0.1,<3.1.0,>=2.0.0\n",
      "  Downloading prompt_toolkit-3.0.30-py3-none-any.whl (381 kB)\n",
      "     ━━━━━━━━━━━━━━━━━━━━━━━━━━━━━━━━━━━━━━ 381.7/381.7 KB 34.7 MB/s eta 0:00:00\n",
      "Collecting traitlets>=4.2\n",
      "  Downloading traitlets-5.3.0-py3-none-any.whl (106 kB)\n",
      "     ━━━━━━━━━━━━━━━━━━━━━━━━━━━━━━━━━━━━━━ 106.8/106.8 KB 16.6 MB/s eta 0:00:00\n",
      "Collecting pickleshare\n",
      "  Downloading pickleshare-0.7.5-py2.py3-none-any.whl (6.9 kB)\n",
      "Collecting backcall\n",
      "  Downloading backcall-0.2.0-py2.py3-none-any.whl (11 kB)\n",
      "Collecting pexpect>4.3\n",
      "  Downloading pexpect-4.8.0-py2.py3-none-any.whl (59 kB)\n",
      "     ━━━━━━━━━━━━━━━━━━━━━━━━━━━━━━━━━━━━━━━━ 59.0/59.0 KB 9.6 MB/s eta 0:00:00\n",
      "Collecting pygments\n",
      "  Downloading Pygments-2.12.0-py3-none-any.whl (1.1 MB)\n",
      "     ━━━━━━━━━━━━━━━━━━━━━━━━━━━━━━━━━━━━━━━━ 1.1/1.1 MB 54.1 MB/s eta 0:00:00\n",
      "Collecting matplotlib-inline\n",
      "  Downloading matplotlib_inline-0.1.3-py3-none-any.whl (8.2 kB)\n",
      "Collecting ipykernel>=4.5.1\n",
      "  Downloading ipykernel-6.15.0-py3-none-any.whl (133 kB)\n",
      "     ━━━━━━━━━━━━━━━━━━━━━━━━━━━━━━━━━━━━━━ 133.1/133.1 KB 19.3 MB/s eta 0:00:00\n",
      "Collecting widgetsnbextension~=3.6.0\n",
      "  Downloading widgetsnbextension-3.6.1-py2.py3-none-any.whl (1.6 MB)\n",
      "     ━━━━━━━━━━━━━━━━━━━━━━━━━━━━━━━━━━━━━━━━ 1.6/1.6 MB 61.1 MB/s eta 0:00:00\n",
      "Collecting ipython-genutils~=0.2.0\n",
      "  Downloading ipython_genutils-0.2.0-py2.py3-none-any.whl (26 kB)\n",
      "Collecting jupyterlab-widgets>=1.0.0\n",
      "  Downloading jupyterlab_widgets-1.1.1-py3-none-any.whl (245 kB)\n",
      "     ━━━━━━━━━━━━━━━━━━━━━━━━━━━━━━━━━━━━━━ 245.3/245.3 KB 29.1 MB/s eta 0:00:00\n",
      "Requirement already satisfied: pyasn1>=0.1.7 in /usr/local/lib/python3.7/site-packages (from oauth2client>=1.4.12->google-apitools<1,>=0.5->tfx==1.8.0->-r requirements.txt (line 12)) (0.4.8)\n",
      "Requirement already satisfied: typing-utils>=0.0.3 in /usr/local/lib/python3.7/site-packages (from overrides<7.0.0,>=6.0.1->google-cloud-pubsublite<2,>=1.2.0->apache-beam[gcp]==2.39.0->-r requirements.txt (line 14)) (0.1.0)\n",
      "Requirement already satisfied: google-auth-oauthlib<0.5,>=0.4.1 in /usr/local/lib/python3.7/site-packages (from tensorboard->keras-tuner<2,>=1.0.4->tfx==1.8.0->-r requirements.txt (line 12)) (0.4.6)\n",
      "Requirement already satisfied: markdown>=2.6.8 in /usr/local/lib/python3.7/site-packages (from tensorboard->keras-tuner<2,>=1.0.4->tfx==1.8.0->-r requirements.txt (line 12)) (3.3.6)\n",
      "Requirement already satisfied: tensorboard-data-server<0.7.0,>=0.6.0 in /usr/local/lib/python3.7/site-packages (from tensorboard->keras-tuner<2,>=1.0.4->tfx==1.8.0->-r requirements.txt (line 12)) (0.6.1)\n",
      "Requirement already satisfied: werkzeug>=0.11.15 in /usr/local/lib/python3.7/site-packages (from tensorboard->keras-tuner<2,>=1.0.4->tfx==1.8.0->-r requirements.txt (line 12)) (2.0.3)\n",
      "Requirement already satisfied: tensorboard-plugin-wit>=1.6.0 in /usr/local/lib/python3.7/site-packages (from tensorboard->keras-tuner<2,>=1.0.4->tfx==1.8.0->-r requirements.txt (line 12)) (1.8.1)\n",
      "Requirement already satisfied: oauthlib>=3.0.0 in /usr/local/lib/python3.7/site-packages (from requests-oauthlib->kubernetes<19,>=8.0.0->kfp==1.8.12->-r requirements.txt (line 1)) (3.2.0)\n",
      "Collecting pyzmq>=17\n",
      "  Downloading pyzmq-23.2.0-cp37-cp37m-manylinux_2_5_x86_64.manylinux1_x86_64.whl (1.1 MB)\n",
      "     ━━━━━━━━━━━━━━━━━━━━━━━━━━━━━━━━━━━━━━━━ 1.1/1.1 MB 56.8 MB/s eta 0:00:00\n",
      "Collecting tornado>=6.1\n",
      "  Downloading tornado-6.2-cp37-abi3-manylinux_2_5_x86_64.manylinux1_x86_64.manylinux_2_17_x86_64.manylinux2014_x86_64.whl (423 kB)\n",
      "     ━━━━━━━━━━━━━━━━━━━━━━━━━━━━━━━━━━━━━━ 424.0/424.0 KB 37.4 MB/s eta 0:00:00\n",
      "Collecting debugpy>=1.0\n",
      "  Downloading debugpy-1.6.0-cp37-cp37m-manylinux_2_5_x86_64.manylinux1_x86_64.manylinux_2_12_x86_64.manylinux2010_x86_64.whl (1.8 MB)\n",
      "     ━━━━━━━━━━━━━━━━━━━━━━━━━━━━━━━━━━━━━━━━ 1.8/1.8 MB 65.3 MB/s eta 0:00:00\n",
      "Collecting jupyter-client>=6.1.12\n",
      "  Downloading jupyter_client-7.3.4-py3-none-any.whl (132 kB)\n",
      "     ━━━━━━━━━━━━━━━━━━━━━━━━━━━━━━━━━━━━━━ 132.1/132.1 KB 19.0 MB/s eta 0:00:00\n",
      "Collecting nest-asyncio\n",
      "  Downloading nest_asyncio-1.5.5-py3-none-any.whl (5.2 kB)\n",
      "Collecting parso<0.9.0,>=0.8.0\n",
      "  Downloading parso-0.8.3-py2.py3-none-any.whl (100 kB)\n",
      "     ━━━━━━━━━━━━━━━━━━━━━━━━━━━━━━━━━━━━━━ 100.8/100.8 KB 16.3 MB/s eta 0:00:00\n",
      "Collecting ptyprocess>=0.5\n",
      "  Downloading ptyprocess-0.7.0-py2.py3-none-any.whl (13 kB)\n",
      "Requirement already satisfied: wcwidth in /usr/local/lib/python3.7/site-packages (from prompt-toolkit!=3.0.0,!=3.0.1,<3.1.0,>=2.0.0->ipython->keras-tuner<2,>=1.0.4->tfx==1.8.0->-r requirements.txt (line 12)) (0.2.5)\n",
      "Collecting notebook>=4.4.1\n",
      "  Downloading notebook-6.4.12-py3-none-any.whl (9.9 MB)\n",
      "     ━━━━━━━━━━━━━━━━━━━━━━━━━━━━━━━━━━━━━━━━ 9.9/9.9 MB 78.0 MB/s eta 0:00:00\n",
      "Collecting jupyter-core>=4.9.2\n",
      "  Downloading jupyter_core-4.10.0-py3-none-any.whl (87 kB)\n",
      "     ━━━━━━━━━━━━━━━━━━━━━━━━━━━━━━━━━━━━━━━━ 87.3/87.3 KB 14.2 MB/s eta 0:00:00\n",
      "Collecting entrypoints\n",
      "  Downloading entrypoints-0.4-py3-none-any.whl (5.3 kB)\n",
      "Collecting terminado>=0.8.3\n",
      "  Downloading terminado-0.15.0-py3-none-any.whl (16 kB)\n",
      "Collecting prometheus-client\n",
      "  Downloading prometheus_client-0.14.1-py3-none-any.whl (59 kB)\n",
      "     ━━━━━━━━━━━━━━━━━━━━━━━━━━━━━━━━━━━━━━━━ 59.5/59.5 KB 10.3 MB/s eta 0:00:00\n",
      "Collecting Send2Trash>=1.8.0\n",
      "  Downloading Send2Trash-1.8.0-py3-none-any.whl (18 kB)\n",
      "Collecting argon2-cffi\n",
      "  Downloading argon2_cffi-21.3.0-py3-none-any.whl (14 kB)\n",
      "Collecting nbconvert>=5\n",
      "  Downloading nbconvert-6.5.0-py3-none-any.whl (561 kB)\n",
      "     ━━━━━━━━━━━━━━━━━━━━━━━━━━━━━━━━━━━━━━ 561.6/561.6 KB 42.0 MB/s eta 0:00:00\n",
      "Collecting nbformat\n",
      "  Downloading nbformat-5.4.0-py3-none-any.whl (73 kB)\n",
      "     ━━━━━━━━━━━━━━━━━━━━━━━━━━━━━━━━━━━━━━━━ 73.3/73.3 KB 12.1 MB/s eta 0:00:00\n",
      "Requirement already satisfied: beautifulsoup4 in /usr/local/lib/python3.7/site-packages (from nbconvert>=5->notebook>=4.4.1->widgetsnbextension~=3.6.0->ipywidgets<8,>=7->tensorflow-model-analysis<0.40,>=0.39.0->tfx==1.8.0->-r requirements.txt (line 12)) (4.10.0)\n",
      "Collecting pandocfilters>=1.4.1\n",
      "  Downloading pandocfilters-1.5.0-py2.py3-none-any.whl (8.7 kB)\n",
      "Collecting nbclient>=0.5.0\n",
      "  Downloading nbclient-0.6.6-py3-none-any.whl (71 kB)\n",
      "     ━━━━━━━━━━━━━━━━━━━━━━━━━━━━━━━━━━━━━━━━ 71.8/71.8 KB 11.5 MB/s eta 0:00:00\n",
      "Collecting bleach\n",
      "  Downloading bleach-5.0.1-py3-none-any.whl (160 kB)\n",
      "     ━━━━━━━━━━━━━━━━━━━━━━━━━━━━━━━━━━━━━━ 160.9/160.9 KB 20.6 MB/s eta 0:00:00\n",
      "Collecting jupyterlab-pygments\n",
      "  Downloading jupyterlab_pygments-0.2.2-py2.py3-none-any.whl (21 kB)\n",
      "Collecting defusedxml\n",
      "  Downloading defusedxml-0.7.1-py2.py3-none-any.whl (25 kB)\n",
      "Collecting mistune<2,>=0.8.1\n",
      "  Downloading mistune-0.8.4-py2.py3-none-any.whl (16 kB)\n",
      "Collecting tinycss2\n",
      "  Downloading tinycss2-1.1.1-py3-none-any.whl (21 kB)\n",
      "Collecting fastjsonschema\n",
      "  Downloading fastjsonschema-2.15.3-py3-none-any.whl (22 kB)\n",
      "Collecting argon2-cffi-bindings\n",
      "  Downloading argon2_cffi_bindings-21.2.0-cp36-abi3-manylinux_2_17_x86_64.manylinux2014_x86_64.whl (86 kB)\n",
      "     ━━━━━━━━━━━━━━━━━━━━━━━━━━━━━━━━━━━━━━━━ 86.2/86.2 KB 12.3 MB/s eta 0:00:00\n",
      "Requirement already satisfied: cffi>=1.0.1 in /usr/local/lib/python3.7/site-packages (from argon2-cffi-bindings->argon2-cffi->notebook>=4.4.1->widgetsnbextension~=3.6.0->ipywidgets<8,>=7->tensorflow-model-analysis<0.40,>=0.39.0->tfx==1.8.0->-r requirements.txt (line 12)) (1.15.0)\n",
      "Requirement already satisfied: soupsieve>1.2 in /usr/local/lib/python3.7/site-packages (from beautifulsoup4->nbconvert>=5->notebook>=4.4.1->widgetsnbextension~=3.6.0->ipywidgets<8,>=7->tensorflow-model-analysis<0.40,>=0.39.0->tfx==1.8.0->-r requirements.txt (line 12)) (2.3.1)\n",
      "Collecting webencodings\n",
      "  Downloading webencodings-0.5.1-py2.py3-none-any.whl (11 kB)\n",
      "Requirement already satisfied: pycparser in /usr/local/lib/python3.7/site-packages (from cffi>=1.0.1->argon2-cffi-bindings->argon2-cffi->notebook>=4.4.1->widgetsnbextension~=3.6.0->ipywidgets<8,>=7->tensorflow-model-analysis<0.40,>=0.39.0->tfx==1.8.0->-r requirements.txt (line 12)) (2.21)\n",
      "Building wheels for collected packages: kfp, cloudml-hypertune, fire, kfp-server-api, pyfarmhash, strip-hints\n",
      "  Building wheel for kfp (setup.py): started\n",
      "  Building wheel for kfp (setup.py): finished with status 'done'\n",
      "  Created wheel for kfp: filename=kfp-1.8.12-py3-none-any.whl size=419048 sha256=4a94dea90ae3713b7c6a4d0b44ed21f253df12f3c035bd7fb047360e4c046014\n",
      "  Stored in directory: /root/.cache/pip/wheels/54/0c/4a/3fc55077bc88cc17eacaae34c5fd3f6178c1d16d2ee3b0afdf\n",
      "  Building wheel for cloudml-hypertune (setup.py): started\n",
      "  Building wheel for cloudml-hypertune (setup.py): finished with status 'done'\n",
      "  Created wheel for cloudml-hypertune: filename=cloudml_hypertune-0.1.0.dev6-py2.py3-none-any.whl size=3987 sha256=81cc5e472e5571207bd18ec95d266b19fecb5d3cef1cc84b8b4300a014ca59d2\n",
      "  Stored in directory: /root/.cache/pip/wheels/a7/ff/87/e7bed0c2741fe219b3d6da67c2431d7f7fedb183032e00f81e\n",
      "  Building wheel for fire (setup.py): started\n",
      "  Building wheel for fire (setup.py): finished with status 'done'\n",
      "  Created wheel for fire: filename=fire-0.4.0-py2.py3-none-any.whl size=115942 sha256=9541984dfaa66b792d5306536bb1089984da396a3c293baa005be231fb21f917\n",
      "  Stored in directory: /root/.cache/pip/wheels/8a/67/fb/2e8a12fa16661b9d5af1f654bd199366799740a85c64981226\n",
      "  Building wheel for kfp-server-api (setup.py): started\n",
      "  Building wheel for kfp-server-api (setup.py): finished with status 'done'\n",
      "  Created wheel for kfp-server-api: filename=kfp_server_api-1.8.2-py3-none-any.whl size=99716 sha256=c5a677e8c74bd1ba56abf121b416f5410fb7e175f8a4d4068307c67e95317d14\n",
      "  Stored in directory: /root/.cache/pip/wheels/77/36/d3/60e33cc9e15f269fe0e0f71cae6d077a5e43973d514b60b4ad\n",
      "  Building wheel for pyfarmhash (setup.py): started\n",
      "  Building wheel for pyfarmhash (setup.py): finished with status 'done'\n",
      "  Created wheel for pyfarmhash: filename=pyfarmhash-0.3.2-cp37-cp37m-linux_x86_64.whl size=93063 sha256=9d5a05df007da17e917a809321b04199066a022d49b0328acde3a5942763a2f1\n",
      "  Stored in directory: /root/.cache/pip/wheels/53/58/7a/3b040f3a2ee31908e3be916e32660db6db53621ce6eba838dc\n",
      "  Building wheel for strip-hints (setup.py): started\n",
      "  Building wheel for strip-hints (setup.py): finished with status 'done'\n",
      "  Created wheel for strip-hints: filename=strip_hints-0.1.10-py2.py3-none-any.whl size=22302 sha256=7cc15bd6521dfe7df61c544e5a7c0bc1d2f6b4daf6d48e75d5d4b53eb344b612\n",
      "  Stored in directory: /root/.cache/pip/wheels/5e/14/c3/6e44e9b2545f2d570b03f5b6d38c00b7534aa8abb376978363\n",
      "Successfully built kfp cloudml-hypertune fire kfp-server-api pyfarmhash strip-hints\n",
      "Installing collected packages: webencodings, typing-extensions, tensorflow-estimator, Send2Trash, pyfarmhash, ptyprocess, pickleshare, mistune, kt-legacy, joblib, ipython-genutils, iniconfig, fastjsonschema, cloudml-hypertune, backcall, uritemplate, traitlets, tornado, tomli, tinycss2, tensorflow-io-gcs-filesystem, tabulate, strip-hints, pyzmq, PyYAML, pyrsistent, pygments, pydantic, psutil, prompt-toolkit, prometheus-client, pexpect, parso, pandocfilters, packaging, numpy, nest-asyncio, MarkupSafe, kfp-pipeline-spec, jupyterlab-widgets, jupyterlab-pygments, fire, entrypoints, docstring-parser, Deprecated, defusedxml, decorator, debugpy, click, bleach, attrs, typer, terminado, tensorflow-metadata, tensorflow-io, tensorflow-hub, requests-toolbelt, pyarrow, portpicker, ml-metadata, matplotlib-inline, kfp-server-api, jupyter-core, jsonschema, jinja2, jedi, docker, argon2-cffi-bindings, pytest, nbformat, kubernetes, jupyter-client, ipython, grpc-google-iam-v1, argon2-cffi, nbclient, ipykernel, google-api-python-client, tensorflow, nbconvert, ml-pipelines-sdk, keras-tuner, google-cloud-storage, google-cloud-resource-manager, google-cloud-bigquery-storage, google-cloud-bigquery, tensorflow-serving-api, notebook, kfp, google-cloud-aiplatform, widgetsnbextension, tfx-bsl, ipywidgets, tensorflow-transform, tensorflow-model-analysis, tensorflow-data-validation, tfx\n",
      "  Attempting uninstall: typing-extensions\n",
      "    Found existing installation: typing_extensions 4.1.1\n",
      "    Uninstalling typing_extensions-4.1.1:\n",
      "      Successfully uninstalled typing_extensions-4.1.1\n",
      "  Attempting uninstall: joblib\n",
      "    Found existing installation: joblib 1.1.0\n",
      "    Uninstalling joblib-1.1.0:\n",
      "      Successfully uninstalled joblib-1.1.0\n",
      "  Attempting uninstall: uritemplate\n",
      "    Found existing installation: uritemplate 4.1.1\n",
      "    Uninstalling uritemplate-4.1.1:\n",
      "      Successfully uninstalled uritemplate-4.1.1\n",
      "  Attempting uninstall: tensorflow-io-gcs-filesystem\n",
      "    Found existing installation: tensorflow-io-gcs-filesystem 0.24.0\n",
      "    Uninstalling tensorflow-io-gcs-filesystem-0.24.0:\n",
      "      Successfully uninstalled tensorflow-io-gcs-filesystem-0.24.0\n",
      "  Attempting uninstall: PyYAML\n",
      "    Found existing installation: PyYAML 6.0\n",
      "    Uninstalling PyYAML-6.0:\n",
      "      Successfully uninstalled PyYAML-6.0\n",
      "  Attempting uninstall: packaging\n",
      "    Found existing installation: packaging 21.3\n",
      "    Uninstalling packaging-21.3:\n",
      "      Successfully uninstalled packaging-21.3\n",
      "  Attempting uninstall: numpy\n",
      "    Found existing installation: numpy 1.21.5\n",
      "    Uninstalling numpy-1.21.5:\n",
      "      Successfully uninstalled numpy-1.21.5\n",
      "  Attempting uninstall: click\n",
      "    Found existing installation: click 8.0.4\n",
      "    Uninstalling click-8.0.4:\n",
      "      Successfully uninstalled click-8.0.4\n",
      "  Attempting uninstall: attrs\n",
      "    Found existing installation: attrs 21.4.0\n",
      "    Uninstalling attrs-21.4.0:\n",
      "      Successfully uninstalled attrs-21.4.0\n",
      "  Attempting uninstall: pyarrow\n",
      "    Found existing installation: pyarrow 6.0.1\n",
      "    Uninstalling pyarrow-6.0.1:\n",
      "      Successfully uninstalled pyarrow-6.0.1\n",
      "  Attempting uninstall: docker\n",
      "    Found existing installation: docker 5.0.3\n",
      "    Uninstalling docker-5.0.3:\n",
      "      Successfully uninstalled docker-5.0.3\n",
      "  Attempting uninstall: pytest\n",
      "    Found existing installation: pytest 4.6.11\n",
      "    Uninstalling pytest-4.6.11:\n",
      "      Successfully uninstalled pytest-4.6.11\n",
      "  Attempting uninstall: grpc-google-iam-v1\n",
      "    Found existing installation: grpc-google-iam-v1 0.12.3\n",
      "    Uninstalling grpc-google-iam-v1-0.12.3:\n",
      "      Successfully uninstalled grpc-google-iam-v1-0.12.3\n",
      "  Attempting uninstall: google-api-python-client\n",
      "    Found existing installation: google-api-python-client 2.41.0\n",
      "    Uninstalling google-api-python-client-2.41.0:\n",
      "      Successfully uninstalled google-api-python-client-2.41.0\n",
      "  Attempting uninstall: tensorflow\n",
      "    Found existing installation: tensorflow 2.8.0\n",
      "    Uninstalling tensorflow-2.8.0:\n",
      "      Successfully uninstalled tensorflow-2.8.0\n",
      "  Attempting uninstall: google-cloud-bigquery-storage\n",
      "    Found existing installation: google-cloud-bigquery-storage 2.13.0\n",
      "    Uninstalling google-cloud-bigquery-storage-2.13.0:\n",
      "      Successfully uninstalled google-cloud-bigquery-storage-2.13.0\n",
      "  Attempting uninstall: google-cloud-bigquery\n",
      "    Found existing installation: google-cloud-bigquery 2.34.2\n",
      "    Uninstalling google-cloud-bigquery-2.34.2:\n",
      "      Successfully uninstalled google-cloud-bigquery-2.34.2\n",
      "Successfully installed Deprecated-1.2.13 MarkupSafe-2.1.1 PyYAML-5.4.1 Send2Trash-1.8.0 argon2-cffi-21.3.0 argon2-cffi-bindings-21.2.0 attrs-20.3.0 backcall-0.2.0 bleach-5.0.1 click-7.1.2 cloudml-hypertune-0.1.0.dev6 debugpy-1.6.0 decorator-5.1.1 defusedxml-0.7.1 docker-4.4.4 docstring-parser-0.14.1 entrypoints-0.4 fastjsonschema-2.15.3 fire-0.4.0 google-api-python-client-1.12.11 google-cloud-aiplatform-1.15.0 google-cloud-bigquery-2.34.3 google-cloud-bigquery-storage-2.13.2 google-cloud-resource-manager-1.5.1 google-cloud-storage-1.44.0 grpc-google-iam-v1-0.12.4 iniconfig-1.1.1 ipykernel-6.15.0 ipython-7.34.0 ipython-genutils-0.2.0 ipywidgets-7.7.1 jedi-0.18.1 jinja2-3.1.2 joblib-0.14.1 jsonschema-3.2.0 jupyter-client-7.3.4 jupyter-core-4.10.0 jupyterlab-pygments-0.2.2 jupyterlab-widgets-1.1.1 keras-tuner-1.1.2 kfp-1.8.12 kfp-pipeline-spec-0.1.16 kfp-server-api-1.8.2 kt-legacy-1.0.4 kubernetes-12.0.1 matplotlib-inline-0.1.3 mistune-0.8.4 ml-metadata-1.8.0 ml-pipelines-sdk-1.8.0 nbclient-0.6.6 nbconvert-6.5.0 nbformat-5.4.0 nest-asyncio-1.5.5 notebook-6.4.12 numpy-1.21.6 packaging-20.9 pandocfilters-1.5.0 parso-0.8.3 pexpect-4.8.0 pickleshare-0.7.5 portpicker-1.5.2 prometheus-client-0.14.1 prompt-toolkit-3.0.30 psutil-5.9.1 ptyprocess-0.7.0 pyarrow-5.0.0 pydantic-1.9.1 pyfarmhash-0.3.2 pygments-2.12.0 pyrsistent-0.18.1 pytest-7.1.2 pyzmq-23.2.0 requests-toolbelt-0.9.1 strip-hints-0.1.10 tabulate-0.8.10 tensorflow-2.8.2 tensorflow-data-validation-1.8.0 tensorflow-estimator-2.8.0 tensorflow-hub-0.12.0 tensorflow-io-0.26.0 tensorflow-io-gcs-filesystem-0.26.0 tensorflow-metadata-1.8.0 tensorflow-model-analysis-0.39.0 tensorflow-serving-api-2.8.2 tensorflow-transform-1.8.0 terminado-0.15.0 tfx-1.8.0 tfx-bsl-1.8.0 tinycss2-1.1.1 tomli-2.0.1 tornado-6.2 traitlets-5.3.0 typer-0.4.2 typing-extensions-3.10.0.2 uritemplate-3.0.1 webencodings-0.5.1 widgetsnbextension-3.6.1\n",
      "\u001b[91mWARNING: Running pip as the 'root' user can result in broken permissions and conflicting behaviour with the system package manager. It is recommended to use a virtual environment instead: https://pip.pypa.io/warnings/venv\n",
      "\u001b[0m\u001b[91mWARNING: You are using pip version 22.0.4; however, version 22.1.2 is available.\n",
      "You should consider upgrading via the '/usr/local/bin/python -m pip install --upgrade pip' command.\n",
      "\u001b[0mRemoving intermediate container 6ca97ce5670a\n",
      " ---> 5cb4b717b2ac\n",
      "Step 4/5 : COPY src/raw_schema/schema.pbtxt raw_schema/\n",
      " ---> fadba843fbce\n",
      "Step 5/5 : COPY src/ src/\n",
      " ---> 8aafbbf381b0\n",
      "Successfully built 8aafbbf381b0\n",
      "Successfully tagged europe-west1-docker.pkg.dev/pbalm-cxb-aa/creditcards/dataflow:latest\n",
      "PUSH\n",
      "Pushing europe-west1-docker.pkg.dev/pbalm-cxb-aa/creditcards/dataflow:latest\n",
      "The push refers to repository [europe-west1-docker.pkg.dev/pbalm-cxb-aa/creditcards/dataflow]\n",
      "3d74e7cd18d8: Preparing\n",
      "8ff009e5247a: Preparing\n",
      "8b0369ed1e32: Preparing\n",
      "b764df6c12ae: Preparing\n",
      "5576fa104899: Preparing\n",
      "aac977877286: Preparing\n",
      "8916d7e373aa: Preparing\n",
      "b633383b8cbd: Preparing\n",
      "aac977877286: Waiting\n",
      "8916d7e373aa: Waiting\n",
      "bc8b0343917a: Preparing\n",
      "b4f679ce27a6: Preparing\n",
      "e5bdb549ab2a: Preparing\n",
      "b633383b8cbd: Waiting\n",
      "b4f679ce27a6: Waiting\n",
      "e5bdb549ab2a: Waiting\n",
      "bc8b0343917a: Waiting\n",
      "1b5dc3f18d1b: Preparing\n",
      "ec8826c456e8: Preparing\n",
      "606400ec6569: Preparing\n",
      "13818eb3c7f9: Preparing\n",
      "a536757dd580: Preparing\n",
      "1b5dc3f18d1b: Waiting\n",
      "0ec1a320476f: Preparing\n",
      "ec8826c456e8: Waiting\n",
      "59de27832196: Preparing\n",
      "606400ec6569: Waiting\n",
      "8bfd580decfc: Preparing\n",
      "a536757dd580: Waiting\n",
      "d2f91fc4c31e: Preparing\n",
      "13818eb3c7f9: Waiting\n",
      "3f5d38b4936d: Preparing\n",
      "59de27832196: Waiting\n",
      "8bfd580decfc: Waiting\n",
      "7be8268e2fb0: Preparing\n",
      "b889a93a79dd: Preparing\n",
      "9d4550089a93: Preparing\n",
      "a7934564e6b9: Preparing\n",
      "1b7cceb6a07c: Preparing\n",
      "b274e8788e0c: Preparing\n",
      "78658088978a: Preparing\n",
      "b274e8788e0c: Waiting\n",
      "78658088978a: Waiting\n",
      "1b7cceb6a07c: Waiting\n",
      "9d4550089a93: Waiting\n",
      "a7934564e6b9: Waiting\n",
      "b889a93a79dd: Waiting\n",
      "7be8268e2fb0: Waiting\n",
      "b764df6c12ae: Pushed\n",
      "8ff009e5247a: Pushed\n",
      "3d74e7cd18d8: Pushed\n",
      "5576fa104899: Pushed\n",
      "8916d7e373aa: Pushed\n",
      "b633383b8cbd: Pushed\n",
      "aac977877286: Pushed\n",
      "bc8b0343917a: Pushed\n",
      "b4f679ce27a6: Pushed\n",
      "e5bdb549ab2a: Pushed\n",
      "ec8826c456e8: Pushed\n",
      "606400ec6569: Pushed\n",
      "1b5dc3f18d1b: Pushed\n",
      "13818eb3c7f9: Pushed\n",
      "59de27832196: Pushed\n",
      "8bfd580decfc: Pushed\n",
      "d2f91fc4c31e: Pushed\n",
      "3f5d38b4936d: Pushed\n",
      "b889a93a79dd: Pushed\n",
      "7be8268e2fb0: Pushed\n",
      "a7934564e6b9: Pushed\n",
      "1b7cceb6a07c: Pushed\n",
      "b274e8788e0c: Pushed\n",
      "a536757dd580: Pushed\n",
      "78658088978a: Pushed\n",
      "9d4550089a93: Pushed\n",
      "8b0369ed1e32: Pushed\n",
      "0ec1a320476f: Pushed\n",
      "latest: digest: sha256:bc2473e350803c6d8210a4deb029f195d1dd231bd8bf3aa33d69fd4336a2428d size: 6198\n",
      "DONE\n",
      "--------------------------------------------------------------------------------\n",
      "ID                                    CREATE_TIME                DURATION  SOURCE                                                                                      IMAGES                                                                   STATUS\n",
      "36661476-7c56-4994-942f-6140607ebc80  2022-07-06T16:55:35+00:00  5M34S     gs://pbalm-cxb-aa_cloudbuild/source/1657126533.243448-3af5e3a9189f45fd895bc9e18fae54f5.tgz  europe-west1-docker.pkg.dev/pbalm-cxb-aa/creditcards/dataflow (+1 more)  SUCCESS\n"
     ]
    }
   ],
   "source": [
    "!cp build/Dockerfile.dataflow Dockerfile\n",
    "!echo gcloud builds submit . --tag {REGION}-docker.pkg.dev/pbalm-cxb-aa/creditcards/dataflow:latest --timeout=30m --machine-type=e2-highcpu-8"
   ]
  },
  {
   "cell_type": "code",
   "execution_count": 20,
   "id": "2d903ff5",
   "metadata": {},
   "outputs": [],
   "source": [
    "EXPORTED_DATA_PREFIX = os.path.join(EXPERIMENT_RUN_DIR, 'exported_data')\n",
    "TRANSFORMED_DATA_PREFIX = os.path.join(EXPERIMENT_RUN_DIR, 'transformed_data')\n",
    "TRANSFORM_ARTIFACTS_DIR = os.path.join(EXPERIMENT_RUN_DIR, 'transform_artifacts')"
   ]
  },
  {
   "cell_type": "code",
   "execution_count": 21,
   "id": "e772e2fb-8059-4199-a61b-ce7485b9e0d8",
   "metadata": {},
   "outputs": [
    {
     "data": {
      "text/plain": [
       "'188940921537-compute@developer.gserviceaccount.com'"
      ]
     },
     "execution_count": 21,
     "metadata": {},
     "output_type": "execute_result"
    }
   ],
   "source": [
    "DATAFLOW_SERVICE_ACCOUNT"
   ]
  },
  {
   "cell_type": "code",
   "execution_count": 22,
   "id": "3fac3380",
   "metadata": {},
   "outputs": [
    {
     "name": "stdout",
     "output_type": "stream",
     "text": [
      "job_name: etl-creditcards-classifier-v01-run-gcp-20220706164719\n",
      "runner: DataflowRunner\n",
      "raw_data_query: \n",
      "    SELECT *\n",
      "    \n",
      "    EXCEPT (Time, ML_use)\n",
      "    FROM vertex_eu.creditcards_ml \n",
      "    WHERE ML_use = 'UNASSIGNED'\n",
      "    LIMIT 1000000\n",
      "exported_data_prefix: gs://pbalm-cxb-aa-eu/creditcards/experiments/creditcards-classifier-v01/run-gcp-20220706164719/exported_data\n",
      "transformed_data_prefix: gs://pbalm-cxb-aa-eu/creditcards/experiments/creditcards-classifier-v01/run-gcp-20220706164719/transformed_data\n",
      "transform_artifact_dir: gs://pbalm-cxb-aa-eu/creditcards/experiments/creditcards-classifier-v01/run-gcp-20220706164719/transform_artifacts\n",
      "write_raw_data: False\n",
      "temporary_dir: gs://pbalm-cxb-aa-eu/creditcards/tmp\n",
      "gcs_location: gs://pbalm-cxb-aa-eu/creditcards/bq_tmp\n",
      "project: pbalm-cxb-aa\n",
      "region: europe-west1\n",
      "service_account_email: 188940921537-compute@developer.gserviceaccount.com\n",
      "use_public_ips: False\n",
      "subnetwork: https://www.googleapis.com/compute/v1/projects/pbalm-cxb-aa/regions/europe-west1/subnetworks/default\n",
      "sdk_container_image: europe-west1-docker.pkg.dev/pbalm-cxb-aa/creditcards/dataflow:latest\n"
     ]
    }
   ],
   "source": [
    "ML_USE = 'UNASSIGNED'\n",
    "LIMIT = 1000000\n",
    "raw_data_query = datasource_utils.get_training_source_query(\n",
    "    project=PROJECT, \n",
    "    region=REGION, \n",
    "    dataset_display_name=VERTEX_DATASET_NAME, \n",
    "    ml_use=ML_USE, \n",
    "    limit=LIMIT\n",
    ")\n",
    "\n",
    "etl_job_name = f\"etl-{MODEL_DISPLAY_NAME}-{run_id}\"\n",
    "\n",
    "args = {\n",
    "    'job_name': etl_job_name,\n",
    "    'runner': 'DataflowRunner',\n",
    "    'raw_data_query': raw_data_query,\n",
    "    'exported_data_prefix': EXPORTED_DATA_PREFIX,\n",
    "    'transformed_data_prefix': TRANSFORMED_DATA_PREFIX,\n",
    "    'transform_artifact_dir': TRANSFORM_ARTIFACTS_DIR,\n",
    "    'write_raw_data': False,\n",
    "    'temporary_dir': os.path.join(WORKSPACE, 'tmp'),\n",
    "    'gcs_location': os.path.join(WORKSPACE, 'bq_tmp'),\n",
    "    'project': PROJECT,\n",
    "    'region': DATAFLOW_REGION,\n",
    "    'service_account_email': DATAFLOW_SERVICE_ACCOUNT,\n",
    "    'use_public_ips': False,\n",
    "    'subnetwork': DATAFLOW_SUBNETWORK,\n",
    "    'sdk_container_image': f'{REGION}-docker.pkg.dev/pbalm-cxb-aa/creditcards/dataflow:latest'\n",
    "}\n",
    "\n",
    "for k in args:\n",
    "    print(f'{k}: {args[k]}')\n"
   ]
  },
  {
   "cell_type": "code",
   "execution_count": 23,
   "id": "c909d3ca",
   "metadata": {},
   "outputs": [
    {
     "ename": "ValueError",
     "evalue": "No experiment set. Make sure to call aiplatform.init(experiment='my-experiment') before trying to log_params. ",
     "output_type": "error",
     "traceback": [
      "\u001b[0;31m---------------------------------------------------------------------------\u001b[0m",
      "\u001b[0;31mValueError\u001b[0m                                Traceback (most recent call last)",
      "\u001b[0;32m/tmp/ipykernel_21180/2650015049.py\u001b[0m in \u001b[0;36m<module>\u001b[0;34m\u001b[0m\n\u001b[0;32m----> 1\u001b[0;31m \u001b[0mvertex_ai\u001b[0m\u001b[0;34m.\u001b[0m\u001b[0mlog_params\u001b[0m\u001b[0;34m(\u001b[0m\u001b[0margs\u001b[0m\u001b[0;34m)\u001b[0m\u001b[0;34m\u001b[0m\u001b[0;34m\u001b[0m\u001b[0m\n\u001b[0m",
      "\u001b[0;32m/opt/conda/lib/python3.7/site-packages/google/cloud/aiplatform/metadata/metadata.py\u001b[0m in \u001b[0;36mlog_params\u001b[0;34m(self, params)\u001b[0m\n\u001b[1;32m    349\u001b[0m         \"\"\"\n\u001b[1;32m    350\u001b[0m \u001b[0;34m\u001b[0m\u001b[0m\n\u001b[0;32m--> 351\u001b[0;31m         \u001b[0mself\u001b[0m\u001b[0;34m.\u001b[0m\u001b[0m_validate_experiment_and_run\u001b[0m\u001b[0;34m(\u001b[0m\u001b[0mmethod_name\u001b[0m\u001b[0;34m=\u001b[0m\u001b[0;34m\"log_params\"\u001b[0m\u001b[0;34m)\u001b[0m\u001b[0;34m\u001b[0m\u001b[0;34m\u001b[0m\u001b[0m\n\u001b[0m\u001b[1;32m    352\u001b[0m         \u001b[0;31m# query the latest run execution resource before logging.\u001b[0m\u001b[0;34m\u001b[0m\u001b[0;34m\u001b[0m\u001b[0;34m\u001b[0m\u001b[0m\n\u001b[1;32m    353\u001b[0m         \u001b[0mself\u001b[0m\u001b[0;34m.\u001b[0m\u001b[0m_experiment_run\u001b[0m\u001b[0;34m.\u001b[0m\u001b[0mlog_params\u001b[0m\u001b[0;34m(\u001b[0m\u001b[0mparams\u001b[0m\u001b[0;34m=\u001b[0m\u001b[0mparams\u001b[0m\u001b[0;34m)\u001b[0m\u001b[0;34m\u001b[0m\u001b[0;34m\u001b[0m\u001b[0m\n",
      "\u001b[0;32m/opt/conda/lib/python3.7/site-packages/google/cloud/aiplatform/metadata/metadata.py\u001b[0m in \u001b[0;36m_validate_experiment_and_run\u001b[0;34m(self, method_name)\u001b[0m\n\u001b[1;32m    384\u001b[0m         \u001b[0;32mif\u001b[0m \u001b[0;32mnot\u001b[0m \u001b[0mself\u001b[0m\u001b[0;34m.\u001b[0m\u001b[0m_experiment\u001b[0m\u001b[0;34m:\u001b[0m\u001b[0;34m\u001b[0m\u001b[0;34m\u001b[0m\u001b[0m\n\u001b[1;32m    385\u001b[0m             raise ValueError(\n\u001b[0;32m--> 386\u001b[0;31m                 \u001b[0;34mf\"No experiment set. Make sure to call aiplatform.init(experiment='my-experiment') \"\u001b[0m\u001b[0;34m\u001b[0m\u001b[0;34m\u001b[0m\u001b[0m\n\u001b[0m\u001b[1;32m    387\u001b[0m                 \u001b[0;34mf\"before trying to {method_name}. \"\u001b[0m\u001b[0;34m\u001b[0m\u001b[0;34m\u001b[0m\u001b[0m\n\u001b[1;32m    388\u001b[0m             )\n",
      "\u001b[0;31mValueError\u001b[0m: No experiment set. Make sure to call aiplatform.init(experiment='my-experiment') before trying to log_params. "
     ]
    }
   ],
   "source": [
    "vertex_ai.log_params(args)"
   ]
  },
  {
   "cell_type": "code",
   "execution_count": 24,
   "id": "014e5512",
   "metadata": {},
   "outputs": [
    {
     "name": "stdout",
     "output_type": "stream",
     "text": [
      "Data preprocessing started...\n",
      "WARNING:tensorflow:You are passing instance dicts and DatasetMetadata to TFT which will not provide optimal performance. Consider following the TFT guide to upgrade to the TFXIO format (Apache Arrow RecordBatch).\n"
     ]
    },
    {
     "name": "stderr",
     "output_type": "stream",
     "text": [
      "WARNING:tensorflow:You are passing instance dicts and DatasetMetadata to TFT which will not provide optimal performance. Consider following the TFT guide to upgrade to the TFXIO format (Apache Arrow RecordBatch).\n"
     ]
    },
    {
     "name": "stdout",
     "output_type": "stream",
     "text": [
      "WARNING:tensorflow:You are passing instance dicts and DatasetMetadata to TFT which will not provide optimal performance. Consider following the TFT guide to upgrade to the TFXIO format (Apache Arrow RecordBatch).\n"
     ]
    },
    {
     "name": "stderr",
     "output_type": "stream",
     "text": [
      "WARNING:tensorflow:You are passing instance dicts and DatasetMetadata to TFT which will not provide optimal performance. Consider following the TFT guide to upgrade to the TFXIO format (Apache Arrow RecordBatch).\n"
     ]
    },
    {
     "name": "stdout",
     "output_type": "stream",
     "text": [
      "WARNING:tensorflow:You are passing instance dicts and DatasetMetadata to TFT which will not provide optimal performance. Consider following the TFT guide to upgrade to the TFXIO format (Apache Arrow RecordBatch).\n"
     ]
    },
    {
     "name": "stderr",
     "output_type": "stream",
     "text": [
      "WARNING:tensorflow:You are passing instance dicts and DatasetMetadata to TFT which will not provide optimal performance. Consider following the TFT guide to upgrade to the TFXIO format (Apache Arrow RecordBatch).\n"
     ]
    },
    {
     "name": "stdout",
     "output_type": "stream",
     "text": [
      "Data preprocessing completed.\n"
     ]
    }
   ],
   "source": [
    "logging.getLogger().setLevel(logging.ERROR)\n",
    "\n",
    "print(\"Data preprocessing started...\")\n",
    "etl.run_transform_pipeline(args)\n",
    "print(\"Data preprocessing completed.\")"
   ]
  },
  {
   "cell_type": "code",
   "execution_count": null,
   "id": "92a21c21",
   "metadata": {},
   "outputs": [],
   "source": [
    "!gsutil ls {EXPERIMENT_RUN_DIR}"
   ]
  },
  {
   "cell_type": "markdown",
   "id": "e5c4dfa8",
   "metadata": {},
   "source": [
    "## 4. Submit a Custom Training Job to Vertex AI"
   ]
  },
  {
   "cell_type": "code",
   "execution_count": 45,
   "id": "50db6947",
   "metadata": {},
   "outputs": [],
   "source": [
    "LOG_DIR = os.path.join(EXPERIMENT_RUN_DIR, 'logs')\n",
    "EXPORT_DIR = os.path.join(EXPERIMENT_RUN_DIR, 'model')"
   ]
  },
  {
   "cell_type": "markdown",
   "id": "4e998139",
   "metadata": {},
   "source": [
    "### Test the training task locally\n"
   ]
  },
  {
   "cell_type": "code",
   "execution_count": 57,
   "id": "9382ba6f",
   "metadata": {},
   "outputs": [
    {
     "name": "stdout",
     "output_type": "stream",
     "text": [
      "INFO:root:Python Version = 3.7.12 | packaged by conda-forge | (default, Oct 26 2021, 06:08:53) \n",
      "[GCC 9.4.0]\n",
      "INFO:root:TensorFlow Version = 2.8.1\n",
      "INFO:root:TF_CONFIG = Not found\n",
      "2022-06-30 16:40:50.335695: I tensorflow/core/platform/cpu_feature_guard.cc:151] This TensorFlow binary is optimized with oneAPI Deep Neural Network Library (oneDNN) to use the following CPU instructions in performance-critical operations:  AVX512F\n",
      "To enable them in other operations, rebuild TensorFlow with the appropriate compiler flags.\n",
      "INFO:root:DEVICES = [name: \"/device:CPU:0\"\n",
      "device_type: \"CPU\"\n",
      "memory_limit: 268435456\n",
      "locality {\n",
      "}\n",
      "incarnation: 9447803227560924614\n",
      "xla_global_id: -1\n",
      "]\n",
      "INFO:root:Task started...\n",
      "INFO:root:Hyperparameter: {'model_dir': 'gs://pbalm-cxb-aa-eu/creditcards/experiments/creditcards-classifier-v01/run-gcp-20220630152453/model', 'log_dir': 'gs://pbalm-cxb-aa-eu/creditcards/experiments/creditcards-classifier-v01/run-gcp-20220630152453/logs', 'train_data_dir': 'gs://pbalm-cxb-aa-eu/creditcards/experiments/creditcards-classifier-v01/run-local-20220630151549/transformed_data/train/*', 'eval_data_dir': 'gs://pbalm-cxb-aa-eu/creditcards/experiments/creditcards-classifier-v01/run-local-20220630151549/transformed_data/eval/*', 'tft_output_dir': 'gs://pbalm-cxb-aa-eu/creditcards/experiments/creditcards-classifier-v01/run-local-20220630151549/transform_artifacts', 'learning_rate': 0.001, 'batch_size': 512, 'steps_per_epoch': 100, 'num_epochs': 3, 'hidden_units': [32, 32], 'dropout': 0.1, 'project': 'pbalm-cxb-aa', 'region': 'europe-west4', 'staging_bucket': 'pbalm-cxb-aa-eu', 'experiment_name': 'creditcards-classifier-v01', 'run_name': 'run-gcp-20220630152453'}\n",
      "INFO:root:Using Vertex AI experiment: creditcards-classifier-v01\n",
      "INFO:root:Run run-gcp-20220630152453 started.\n",
      "INFO:root:Loading tft output from gs://pbalm-cxb-aa-eu/creditcards/experiments/creditcards-classifier-v01/run-local-20220630151549/transform_artifacts\n",
      "2022-06-30 16:40:54.950784: I tensorflow/core/common_runtime/process_util.cc:146] Creating new thread pool with default inter op setting: 2. Tune using inter_op_parallelism_threads for best performance.\n",
      "INFO:root:Model: \"model\"\n",
      "INFO:root:__________________________________________________________________________________________________\n",
      "INFO:root: Layer (type)                   Output Shape         Param #     Connected to                     \n",
      "INFO:root:==================================================================================================\n",
      "INFO:root: Amount (InputLayer)            [(None, 1)]          0           []                               \n",
      "INFO:root:                                                                                                  \n",
      "INFO:root: V1 (InputLayer)                [(None, 1)]          0           []                               \n",
      "INFO:root:                                                                                                  \n",
      "INFO:root: V10 (InputLayer)               [(None, 1)]          0           []                               \n",
      "INFO:root:                                                                                                  \n",
      "INFO:root: V11 (InputLayer)               [(None, 1)]          0           []                               \n",
      "INFO:root:                                                                                                  \n",
      "INFO:root: V12 (InputLayer)               [(None, 1)]          0           []                               \n",
      "INFO:root:                                                                                                  \n",
      "INFO:root: V13 (InputLayer)               [(None, 1)]          0           []                               \n",
      "INFO:root:                                                                                                  \n",
      "INFO:root: V14 (InputLayer)               [(None, 1)]          0           []                               \n",
      "INFO:root:                                                                                                  \n",
      "INFO:root: V15 (InputLayer)               [(None, 1)]          0           []                               \n",
      "INFO:root:                                                                                                  \n",
      "INFO:root: V16 (InputLayer)               [(None, 1)]          0           []                               \n",
      "INFO:root:                                                                                                  \n",
      "INFO:root: V17 (InputLayer)               [(None, 1)]          0           []                               \n",
      "INFO:root:                                                                                                  \n",
      "INFO:root: V18 (InputLayer)               [(None, 1)]          0           []                               \n",
      "INFO:root:                                                                                                  \n",
      "INFO:root: V19 (InputLayer)               [(None, 1)]          0           []                               \n",
      "INFO:root:                                                                                                  \n",
      "INFO:root: V2 (InputLayer)                [(None, 1)]          0           []                               \n",
      "INFO:root:                                                                                                  \n",
      "INFO:root: V20 (InputLayer)               [(None, 1)]          0           []                               \n",
      "INFO:root:                                                                                                  \n",
      "INFO:root: V21 (InputLayer)               [(None, 1)]          0           []                               \n",
      "INFO:root:                                                                                                  \n",
      "INFO:root: V22 (InputLayer)               [(None, 1)]          0           []                               \n",
      "INFO:root:                                                                                                  \n",
      "INFO:root: V23 (InputLayer)               [(None, 1)]          0           []                               \n",
      "INFO:root:                                                                                                  \n",
      "INFO:root: V24 (InputLayer)               [(None, 1)]          0           []                               \n",
      "INFO:root:                                                                                                  \n",
      "INFO:root: V25 (InputLayer)               [(None, 1)]          0           []                               \n",
      "INFO:root:                                                                                                  \n",
      "INFO:root: V26 (InputLayer)               [(None, 1)]          0           []                               \n",
      "INFO:root:                                                                                                  \n",
      "INFO:root: V27 (InputLayer)               [(None, 1)]          0           []                               \n",
      "INFO:root:                                                                                                  \n",
      "INFO:root: V28 (InputLayer)               [(None, 1)]          0           []                               \n",
      "INFO:root:                                                                                                  \n",
      "INFO:root: V3 (InputLayer)                [(None, 1)]          0           []                               \n",
      "INFO:root:                                                                                                  \n",
      "INFO:root: V4 (InputLayer)                [(None, 1)]          0           []                               \n",
      "INFO:root:                                                                                                  \n",
      "INFO:root: V5 (InputLayer)                [(None, 1)]          0           []                               \n",
      "INFO:root:                                                                                                  \n",
      "INFO:root: V6 (InputLayer)                [(None, 1)]          0           []                               \n",
      "INFO:root:                                                                                                  \n",
      "INFO:root: V7 (InputLayer)                [(None, 1)]          0           []                               \n",
      "INFO:root:                                                                                                  \n",
      "INFO:root: V8 (InputLayer)                [(None, 1)]          0           []                               \n",
      "INFO:root:                                                                                                  \n",
      "INFO:root: V9 (InputLayer)                [(None, 1)]          0           []                               \n",
      "INFO:root:                                                                                                  \n",
      "INFO:root: concatenate (Concatenate)      (None, 29)           0           ['Amount[0][0]',                 \n",
      "INFO:root:                                                                  'V1[0][0]',                     \n",
      "INFO:root:                                                                  'V10[0][0]',                    \n",
      "INFO:root:                                                                  'V11[0][0]',                    \n",
      "INFO:root:                                                                  'V12[0][0]',                    \n",
      "INFO:root:                                                                  'V13[0][0]',                    \n",
      "INFO:root:                                                                  'V14[0][0]',                    \n",
      "INFO:root:                                                                  'V15[0][0]',                    \n",
      "INFO:root:                                                                  'V16[0][0]',                    \n",
      "INFO:root:                                                                  'V17[0][0]',                    \n",
      "INFO:root:                                                                  'V18[0][0]',                    \n",
      "INFO:root:                                                                  'V19[0][0]',                    \n",
      "INFO:root:                                                                  'V2[0][0]',                     \n",
      "INFO:root:                                                                  'V20[0][0]',                    \n",
      "INFO:root:                                                                  'V21[0][0]',                    \n",
      "INFO:root:                                                                  'V22[0][0]',                    \n",
      "INFO:root:                                                                  'V23[0][0]',                    \n",
      "INFO:root:                                                                  'V24[0][0]',                    \n",
      "INFO:root:                                                                  'V25[0][0]',                    \n",
      "INFO:root:                                                                  'V26[0][0]',                    \n",
      "INFO:root:                                                                  'V27[0][0]',                    \n",
      "INFO:root:                                                                  'V28[0][0]',                    \n",
      "INFO:root:                                                                  'V3[0][0]',                     \n",
      "INFO:root:                                                                  'V4[0][0]',                     \n",
      "INFO:root:                                                                  'V5[0][0]',                     \n",
      "INFO:root:                                                                  'V6[0][0]',                     \n",
      "INFO:root:                                                                  'V7[0][0]',                     \n",
      "INFO:root:                                                                  'V8[0][0]',                     \n",
      "INFO:root:                                                                  'V9[0][0]']                     \n",
      "INFO:root:                                                                                                  \n",
      "INFO:root: dense (Dense)                  (None, 32)           960         ['concatenate[0][0]']            \n",
      "INFO:root:                                                                                                  \n",
      "INFO:root: dense_1 (Dense)                (None, 32)           1056        ['dense[0][0]']                  \n",
      "INFO:root:                                                                                                  \n",
      "INFO:root: dropout (Dropout)              (None, 32)           0           ['dense_1[0][0]']                \n",
      "INFO:root:                                                                                                  \n",
      "INFO:root: dense_2 (Dense)                (None, 1)            33          ['dropout[0][0]']                \n",
      "INFO:root:                                                                                                  \n",
      "INFO:root:==================================================================================================\n",
      "INFO:root:Total params: 2,049\n",
      "INFO:root:Trainable params: 2,049\n",
      "INFO:root:Non-trainable params: 0\n",
      "INFO:root:__________________________________________________________________________________________________\n",
      "INFO:root:Model training started... steps per epoch = 100\n",
      "Epoch 1/3\n",
      "/opt/conda/lib/python3.7/site-packages/tensorflow/python/util/dispatch.py:1082: UserWarning: \"`binary_crossentropy` received `from_logits=True`, but the `output` argument was produced by a sigmoid or softmax activation and thus does not represent logits. Was this intended?\"\n",
      "  return dispatch_target(*args, **kwargs)\n",
      " 42/100 [===========>..................] - ETA: 1s - loss: 0.2018 - accuracy_run-gcp-20220630152453: 0.9666 - auc_run-gcp-20220630152453: 0.0056 - accuracy: 0.9666WARNING:tensorflow:Your input ran out of data; interrupting training. Make sure that your dataset or generator can generate at least `steps_per_epoch * epochs` batches (in this case, 300 batches). You may need to use the repeat() function when building your dataset.\n",
      "WARNING:tensorflow:Your input ran out of data; interrupting training. Make sure that your dataset or generator can generate at least `steps_per_epoch * epochs` batches (in this case, 300 batches). You may need to use the repeat() function when building your dataset.\n",
      "100/100 [==============================] - 5s 34ms/step - loss: 0.1847 - accuracy_run-gcp-20220630152453: 0.9695 - auc_run-gcp-20220630152453: 0.0056 - accuracy: 0.9695 - val_loss: 0.0278 - val_accuracy_run-gcp-20220630152453: 0.9961 - val_auc_run-gcp-20220630152453: 0.2552 - val_accuracy: 0.9961\n",
      "INFO:root:Model training completed.\n",
      "INFO:root:Loading raw schema from /home/jupyter/mlops-with-vertex-ai/src/raw_schema/schema.pbtxt\n",
      "INFO:root:Loading tft output from gs://pbalm-cxb-aa-eu/creditcards/experiments/creditcards-classifier-v01/run-local-20220630151549/transform_artifacts\n",
      "INFO:root:Model evaluation started...\n",
      "4/4 [==============================] - 0s 12ms/step - loss: 0.0237 - accuracy_run-gcp-20220630152453: 0.9971 - auc_run-gcp-20220630152453: 0.1710 - accuracy: 0.9971\n",
      "INFO:root:Model evaluation completed.\n",
      "INFO:root:Reporting metric ACCURACY=0.9970703125 to Vertex hypertuner...\n",
      "INFO:root:Logging metrics to Vertex Experiments...\n",
      "INFO:tensorflow:struct2tensor is not available.\n",
      "INFO:tensorflow:struct2tensor is not available.\n",
      "INFO:tensorflow:tensorflow_decision_forests is not available.\n",
      "INFO:tensorflow:tensorflow_decision_forests is not available.\n",
      "INFO:tensorflow:tensorflow_text is not available.\n",
      "INFO:tensorflow:tensorflow_text is not available.\n",
      "INFO:root:Model export started...\n",
      "WARNING:absl:Function `serve_features_fn` contains input name(s) Amount, V1, V10, V11, V12, V13, V14, V15, V16, V17, V18, V19, V2, V20, V21, V22, V23, V24, V25, V26, V27, V28, V3, V4, V5, V6, V7, V8, V9 with unsupported characters which will be renamed to amount, v1, v10, v11, v12, v13, v14, v15, v16, v17, v18, v19, v2, v20, v21, v22, v23, v24, v25, v26, v27, v28, v3, v4, v5, v6, v7, v8, v9 in the SavedModel.\n",
      "2022-06-30 16:41:06.804439: W tensorflow/python/util/util.cc:368] Sets are not currently considered sequences, but this may change in the future, so consider avoiding using them.\n",
      "INFO:tensorflow:Assets written to: gs://pbalm-cxb-aa-eu/creditcards/experiments/creditcards-classifier-v01/run-gcp-20220630152453/model/assets\n",
      "INFO:tensorflow:Assets written to: gs://pbalm-cxb-aa-eu/creditcards/experiments/creditcards-classifier-v01/run-gcp-20220630152453/model/assets\n",
      "INFO:root:Model export completed.\n",
      "INFO:root:Task completed.\n"
     ]
    }
   ],
   "source": [
    "!python -m src.model_training.task \\\n",
    "    --model-dir={EXPORT_DIR} \\\n",
    "    --log-dir={LOG_DIR} \\\n",
    "    --train-data-dir={TRANSFORMED_DATA_PREFIX}/train/* \\\n",
    "    --eval-data-dir={TRANSFORMED_DATA_PREFIX}/eval/*  \\\n",
    "    --tft-output-dir={TRANSFORM_ARTIFACTS_DIR} \\\n",
    "    --num-epochs=3 \\\n",
    "    --steps_per_epoch=100 \\\n",
    "    --hidden-units=32,32 \\\n",
    "    --experiment-name={EXPERIMENT_NAME} \\\n",
    "    --run-name={run_id} \\\n",
    "    --project={PROJECT} \\\n",
    "    --region={REGION} \\\n",
    "    --staging-bucket={BUCKET}"
   ]
  },
  {
   "cell_type": "markdown",
   "id": "5077e9d4",
   "metadata": {},
   "source": [
    "### Prepare training package"
   ]
  },
  {
   "cell_type": "code",
   "execution_count": 58,
   "id": "d526a189",
   "metadata": {},
   "outputs": [
    {
     "name": "stdout",
     "output_type": "stream",
     "text": [
      "Trainer package upload location: gs://pbalm-cxb-aa-eu/creditcards/trainer_packages\n"
     ]
    }
   ],
   "source": [
    "TRAINER_PACKAGE_DIR = os.path.join(WORKSPACE, 'trainer_packages')\n",
    "TRAINER_PACKAGE_NAME = f'{MODEL_DISPLAY_NAME}_trainer'\n",
    "print(\"Trainer package upload location:\", TRAINER_PACKAGE_DIR)"
   ]
  },
  {
   "cell_type": "code",
   "execution_count": 59,
   "id": "550cc9eb",
   "metadata": {},
   "outputs": [
    {
     "name": "stdout",
     "output_type": "stream",
     "text": [
      "rm: cannot remove 'src/.ipynb_checkpoints/': No such file or directory\n",
      "rm: cannot remove 'src/raw_schema/.ipynb_checkpoints/': No such file or directory\n",
      "creditcards-classifier-v01_trainer/\n",
      "creditcards-classifier-v01_trainer/src/\n",
      "creditcards-classifier-v01_trainer/src/tfx_pipelines/\n",
      "creditcards-classifier-v01_trainer/src/tfx_pipelines/runner.py\n",
      "creditcards-classifier-v01_trainer/src/tfx_pipelines/training_pipeline.py\n",
      "creditcards-classifier-v01_trainer/src/tfx_pipelines/.ipynb_checkpoints/\n",
      "creditcards-classifier-v01_trainer/src/tfx_pipelines/.ipynb_checkpoints/training_pipeline-checkpoint.py\n",
      "creditcards-classifier-v01_trainer/src/tfx_pipelines/.ipynb_checkpoints/runner-checkpoint.py\n",
      "creditcards-classifier-v01_trainer/src/tfx_pipelines/.ipynb_checkpoints/components-checkpoint.py\n",
      "creditcards-classifier-v01_trainer/src/tfx_pipelines/.ipynb_checkpoints/config-checkpoint.py\n",
      "creditcards-classifier-v01_trainer/src/tfx_pipelines/prediction_pipeline.py\n",
      "creditcards-classifier-v01_trainer/src/tfx_pipelines/__init__.py\n",
      "creditcards-classifier-v01_trainer/src/tfx_pipelines/__pycache__/\n",
      "creditcards-classifier-v01_trainer/src/tfx_pipelines/__pycache__/runner.cpython-37.pyc\n",
      "creditcards-classifier-v01_trainer/src/tfx_pipelines/__pycache__/components.cpython-37.pyc\n",
      "creditcards-classifier-v01_trainer/src/tfx_pipelines/__pycache__/training_pipeline.cpython-37.pyc\n",
      "creditcards-classifier-v01_trainer/src/tfx_pipelines/__pycache__/__init__.cpython-37.pyc\n",
      "creditcards-classifier-v01_trainer/src/tfx_pipelines/__pycache__/config.cpython-37.pyc\n",
      "creditcards-classifier-v01_trainer/src/tfx_pipelines/__pycache__/prediction_pipeline.cpython-37.pyc\n",
      "creditcards-classifier-v01_trainer/src/tfx_pipelines/config.py\n",
      "creditcards-classifier-v01_trainer/src/tfx_pipelines/components.py\n",
      "creditcards-classifier-v01_trainer/src/common/\n",
      "creditcards-classifier-v01_trainer/src/common/.ipynb_checkpoints/\n",
      "creditcards-classifier-v01_trainer/src/common/.ipynb_checkpoints/features-checkpoint.py\n",
      "creditcards-classifier-v01_trainer/src/common/.ipynb_checkpoints/datasource_utils-checkpoint.py\n",
      "creditcards-classifier-v01_trainer/src/common/__init__.py\n",
      "creditcards-classifier-v01_trainer/src/common/datasource_utils.py\n",
      "creditcards-classifier-v01_trainer/src/common/__pycache__/\n",
      "creditcards-classifier-v01_trainer/src/common/__pycache__/features.cpython-37.pyc\n",
      "creditcards-classifier-v01_trainer/src/common/__pycache__/datasource_utils.cpython-37.pyc\n",
      "creditcards-classifier-v01_trainer/src/common/__pycache__/__init__.cpython-37.pyc\n",
      "creditcards-classifier-v01_trainer/src/common/features.py\n",
      "creditcards-classifier-v01_trainer/src/raw_schema/\n",
      "creditcards-classifier-v01_trainer/src/raw_schema/schema.pbtxt\n",
      "creditcards-classifier-v01_trainer/src/model_training/\n",
      "creditcards-classifier-v01_trainer/src/model_training/trainer.py\n",
      "creditcards-classifier-v01_trainer/src/model_training/runner.py\n",
      "creditcards-classifier-v01_trainer/src/model_training/model.py\n",
      "creditcards-classifier-v01_trainer/src/model_training/.ipynb_checkpoints/\n",
      "creditcards-classifier-v01_trainer/src/model_training/.ipynb_checkpoints/task-checkpoint.py\n",
      "creditcards-classifier-v01_trainer/src/model_training/.ipynb_checkpoints/data-checkpoint.py\n",
      "creditcards-classifier-v01_trainer/src/model_training/.ipynb_checkpoints/model-checkpoint.py\n",
      "creditcards-classifier-v01_trainer/src/model_training/.ipynb_checkpoints/runner-checkpoint.py\n",
      "creditcards-classifier-v01_trainer/src/model_training/.ipynb_checkpoints/trainer-checkpoint.py\n",
      "creditcards-classifier-v01_trainer/src/model_training/.ipynb_checkpoints/defaults-checkpoint.py\n",
      "creditcards-classifier-v01_trainer/src/model_training/__init__.py\n",
      "creditcards-classifier-v01_trainer/src/model_training/defaults.py\n",
      "creditcards-classifier-v01_trainer/src/model_training/__pycache__/\n",
      "creditcards-classifier-v01_trainer/src/model_training/__pycache__/task.cpython-37.pyc\n",
      "creditcards-classifier-v01_trainer/src/model_training/__pycache__/data.cpython-37.pyc\n",
      "creditcards-classifier-v01_trainer/src/model_training/__pycache__/trainer.cpython-37.pyc\n",
      "creditcards-classifier-v01_trainer/src/model_training/__pycache__/model.cpython-37.pyc\n",
      "creditcards-classifier-v01_trainer/src/model_training/__pycache__/defaults.cpython-37.pyc\n",
      "creditcards-classifier-v01_trainer/src/model_training/__pycache__/exporter.cpython-37.pyc\n",
      "creditcards-classifier-v01_trainer/src/model_training/__pycache__/__init__.cpython-37.pyc\n",
      "creditcards-classifier-v01_trainer/src/model_training/exporter.py\n",
      "creditcards-classifier-v01_trainer/src/model_training/data.py\n",
      "creditcards-classifier-v01_trainer/src/model_training/task.py\n",
      "creditcards-classifier-v01_trainer/src/__init__.py\n",
      "creditcards-classifier-v01_trainer/src/test.py\n",
      "creditcards-classifier-v01_trainer/src/tests/\n",
      "creditcards-classifier-v01_trainer/src/tests/model_deployment_tests.py\n",
      "creditcards-classifier-v01_trainer/src/tests/model_tests.py\n",
      "creditcards-classifier-v01_trainer/src/tests/etl_tests.py\n",
      "creditcards-classifier-v01_trainer/src/tests/.ipynb_checkpoints/\n",
      "creditcards-classifier-v01_trainer/src/tests/.ipynb_checkpoints/pipeline_deployment_tests-checkpoint.py\n",
      "creditcards-classifier-v01_trainer/src/tests/.ipynb_checkpoints/datasource_utils_tests-checkpoint.py\n",
      "creditcards-classifier-v01_trainer/src/tests/.ipynb_checkpoints/model_tests-checkpoint.py\n",
      "creditcards-classifier-v01_trainer/src/tests/.ipynb_checkpoints/model_deployment_tests-checkpoint.py\n",
      "creditcards-classifier-v01_trainer/src/tests/__init__.py\n",
      "creditcards-classifier-v01_trainer/src/tests/__pycache__/\n",
      "creditcards-classifier-v01_trainer/src/tests/__pycache__/pipeline_deployment_tests.cpython-37-pytest-7.1.2.pyc\n",
      "creditcards-classifier-v01_trainer/src/tests/__pycache__/model_tests.cpython-37-pytest-7.1.2.pyc\n",
      "creditcards-classifier-v01_trainer/src/tests/__pycache__/model_deployment_tests.cpython-37-pytest-7.1.2.pyc\n",
      "creditcards-classifier-v01_trainer/src/tests/__pycache__/datasource_utils_tests.cpython-37-pytest-7.1.2.pyc\n",
      "creditcards-classifier-v01_trainer/src/tests/__pycache__/__init__.cpython-37.pyc\n",
      "creditcards-classifier-v01_trainer/src/tests/datasource_utils_tests.py\n",
      "creditcards-classifier-v01_trainer/src/tests/pipeline_deployment_tests.py\n",
      "creditcards-classifier-v01_trainer/src/pipeline_triggering/\n",
      "creditcards-classifier-v01_trainer/src/pipeline_triggering/__init__.py\n",
      "creditcards-classifier-v01_trainer/src/pipeline_triggering/requirements.txt\n",
      "creditcards-classifier-v01_trainer/src/pipeline_triggering/main.py\n",
      "creditcards-classifier-v01_trainer/src/preprocessing/\n",
      "creditcards-classifier-v01_trainer/src/preprocessing/.ipynb_checkpoints/\n",
      "creditcards-classifier-v01_trainer/src/preprocessing/.ipynb_checkpoints/etl-checkpoint.py\n",
      "creditcards-classifier-v01_trainer/src/preprocessing/etl.py\n",
      "creditcards-classifier-v01_trainer/src/preprocessing/__init__.py\n",
      "creditcards-classifier-v01_trainer/src/preprocessing/__pycache__/\n",
      "creditcards-classifier-v01_trainer/src/preprocessing/__pycache__/transformations.cpython-37.pyc\n",
      "creditcards-classifier-v01_trainer/src/preprocessing/__pycache__/etl.cpython-37.pyc\n",
      "creditcards-classifier-v01_trainer/src/preprocessing/__pycache__/__init__.cpython-37.pyc\n",
      "creditcards-classifier-v01_trainer/src/preprocessing/transformations.py\n",
      "creditcards-classifier-v01_trainer/setup.py\n",
      "Copying file://creditcards-classifier-v01_trainer.tar.gz [Content-Type=application/x-tar]...\n",
      "/ [1 files][ 52.0 KiB/ 52.0 KiB]                                                \n",
      "Operation completed over 1 objects/52.0 KiB.                                     \n"
     ]
    }
   ],
   "source": [
    "!rm -r src/__pycache__/\n",
    "!rm -r src/.ipynb_checkpoints/\n",
    "!rm -r src/raw_schema/.ipynb_checkpoints/\n",
    "!rm -f {TRAINER_PACKAGE_NAME}.tar {TRAINER_PACKAGE_NAME}.tar.gz\n",
    "\n",
    "!mkdir {TRAINER_PACKAGE_NAME}\n",
    "\n",
    "!cp setup.py {TRAINER_PACKAGE_NAME}/\n",
    "!cp -r src {TRAINER_PACKAGE_NAME}/\n",
    "!tar cvf {TRAINER_PACKAGE_NAME}.tar {TRAINER_PACKAGE_NAME}\n",
    "!gzip {TRAINER_PACKAGE_NAME}.tar\n",
    "!gsutil cp {TRAINER_PACKAGE_NAME}.tar.gz {TRAINER_PACKAGE_DIR}/\n",
    "!rm -r {TRAINER_PACKAGE_NAME}\n",
    "!rm -r {TRAINER_PACKAGE_NAME}.tar.gz"
   ]
  },
  {
   "cell_type": "markdown",
   "id": "7c3af757",
   "metadata": {},
   "source": [
    "### Prepare the training job"
   ]
  },
  {
   "cell_type": "code",
   "execution_count": 60,
   "id": "e01bf43e",
   "metadata": {},
   "outputs": [
    {
     "name": "stdout",
     "output_type": "stream",
     "text": [
      "Training image: europe-docker.pkg.dev/vertex-ai/training/tf-cpu.2-5:latest\n"
     ]
    }
   ],
   "source": [
    "TRAIN_RUNTIME = 'tf-cpu.2-5'\n",
    "TRAIN_IMAGE = f\"europe-docker.pkg.dev/vertex-ai/training/{TRAIN_RUNTIME}:latest\"\n",
    "print(\"Training image:\", TRAIN_IMAGE)"
   ]
  },
  {
   "cell_type": "code",
   "execution_count": 62,
   "id": "6d18dba5",
   "metadata": {},
   "outputs": [
    {
     "name": "stdout",
     "output_type": "stream",
     "text": [
      "--train-data-dir=gs://pbalm-cxb-aa-eu/creditcards/experiments/creditcards-classifier-v01/run-local-20220630151549/transformed_data/train/*\n",
      "--eval-data-dir=gs://pbalm-cxb-aa-eu/creditcards/experiments/creditcards-classifier-v01/run-local-20220630151549/transformed_data/eval/*\n",
      "--tft-output-dir=gs://pbalm-cxb-aa-eu/creditcards/experiments/creditcards-classifier-v01/run-local-20220630151549/transform_artifacts\n",
      "--num-epochs=10\n",
      "--steps_per_epoch=3614\n",
      "--batch-size=64\n",
      "--learning-rate=0.001\n",
      "--project=pbalm-cxb-aa\n",
      "--region=europe-west4\n",
      "--staging-bucket=pbalm-cxb-aa-eu\n",
      "--experiment-name=creditcards-classifier-v01\n"
     ]
    }
   ],
   "source": [
    "num_epochs = 10\n",
    "learning_rate = 0.001\n",
    "hidden_units = \"64,64\"\n",
    "\n",
    "n_examples = 230910 + 402 # from 1st notebook\n",
    "batch_size = 64\n",
    "steps_per_epoch=n_examples//batch_size\n",
    "\n",
    "trainer_args = [\n",
    "    f'--train-data-dir={TRANSFORMED_DATA_PREFIX + \"/train/*\"}',\n",
    "    f'--eval-data-dir={TRANSFORMED_DATA_PREFIX + \"/eval/*\"}',\n",
    "    f'--tft-output-dir={TRANSFORM_ARTIFACTS_DIR}',\n",
    "    f'--num-epochs={num_epochs}',\n",
    "    f'--steps_per_epoch={steps_per_epoch}',\n",
    "    f'--batch-size={batch_size}',\n",
    "    f'--learning-rate={learning_rate}',\n",
    "    f'--project={PROJECT}',\n",
    "    f'--region={REGION}',\n",
    "    f'--staging-bucket={BUCKET}',\n",
    "    f'--experiment-name={EXPERIMENT_NAME}'\n",
    "]\n",
    "\n",
    "for a in trainer_args:\n",
    "    print(a)"
   ]
  },
  {
   "cell_type": "code",
   "execution_count": 63,
   "id": "0a30d0d3",
   "metadata": {},
   "outputs": [
    {
     "name": "stdout",
     "output_type": "stream",
     "text": [
      "replica_count: 1\n",
      "machine_spec: {'machine_type': 'n1-standard-4', 'accelerator_count': 0}\n",
      "python_package_spec: {'executor_image_uri': 'europe-docker.pkg.dev/vertex-ai/training/tf-cpu.2-5:latest', 'package_uris': ['gs://pbalm-cxb-aa-eu/creditcards/trainer_packages/creditcards-classifier-v01_trainer.tar.gz'], 'python_module': 'src.model_training.task', 'args': ['--train-data-dir=gs://pbalm-cxb-aa-eu/creditcards/experiments/creditcards-classifier-v01/run-local-20220630151549/transformed_data/train/*', '--eval-data-dir=gs://pbalm-cxb-aa-eu/creditcards/experiments/creditcards-classifier-v01/run-local-20220630151549/transformed_data/eval/*', '--tft-output-dir=gs://pbalm-cxb-aa-eu/creditcards/experiments/creditcards-classifier-v01/run-local-20220630151549/transform_artifacts', '--num-epochs=10', '--steps_per_epoch=3614', '--batch-size=64', '--learning-rate=0.001', '--project=pbalm-cxb-aa', '--region=europe-west4', '--staging-bucket=pbalm-cxb-aa-eu', '--experiment-name=creditcards-classifier-v01']}\n"
     ]
    }
   ],
   "source": [
    "package_uri = os.path.join(TRAINER_PACKAGE_DIR, f'{TRAINER_PACKAGE_NAME}.tar.gz')\n",
    "\n",
    "worker_pool_specs = [\n",
    "    {\n",
    "        \"replica_count\": 1,\n",
    "        \"machine_spec\": {\n",
    "            \"machine_type\": 'n1-standard-4',\n",
    "            \"accelerator_count\": 0\n",
    "        },\n",
    "        \"python_package_spec\": {\n",
    "            \"executor_image_uri\": TRAIN_IMAGE,\n",
    "            \"package_uris\": [package_uri],\n",
    "            \"python_module\": \"src.model_training.task\",\n",
    "            \"args\": trainer_args,\n",
    "        }\n",
    "    }\n",
    "]\n",
    "\n",
    "\n",
    "for a in worker_pool_specs[0]:\n",
    "    print(f'{a}: {worker_pool_specs[0][a]}')"
   ]
  },
  {
   "cell_type": "markdown",
   "id": "788d6e99",
   "metadata": {},
   "source": [
    "### Submit the training job"
   ]
  },
  {
   "cell_type": "code",
   "execution_count": 64,
   "id": "4544105b",
   "metadata": {},
   "outputs": [
    {
     "name": "stdout",
     "output_type": "stream",
     "text": [
      "Submitting a custom training job...\n",
      "Creating CustomJob\n"
     ]
    },
    {
     "name": "stderr",
     "output_type": "stream",
     "text": [
      "INFO:google.cloud.aiplatform.jobs:Creating CustomJob\n"
     ]
    },
    {
     "name": "stdout",
     "output_type": "stream",
     "text": [
      "CustomJob created. Resource name: projects/188940921537/locations/europe-west4/customJobs/2360116002672345088\n"
     ]
    },
    {
     "name": "stderr",
     "output_type": "stream",
     "text": [
      "INFO:google.cloud.aiplatform.jobs:CustomJob created. Resource name: projects/188940921537/locations/europe-west4/customJobs/2360116002672345088\n"
     ]
    },
    {
     "name": "stdout",
     "output_type": "stream",
     "text": [
      "To use this CustomJob in another session:\n"
     ]
    },
    {
     "name": "stderr",
     "output_type": "stream",
     "text": [
      "INFO:google.cloud.aiplatform.jobs:To use this CustomJob in another session:\n"
     ]
    },
    {
     "name": "stdout",
     "output_type": "stream",
     "text": [
      "custom_job = aiplatform.CustomJob.get('projects/188940921537/locations/europe-west4/customJobs/2360116002672345088')\n"
     ]
    },
    {
     "name": "stderr",
     "output_type": "stream",
     "text": [
      "INFO:google.cloud.aiplatform.jobs:custom_job = aiplatform.CustomJob.get('projects/188940921537/locations/europe-west4/customJobs/2360116002672345088')\n"
     ]
    },
    {
     "name": "stdout",
     "output_type": "stream",
     "text": [
      "View Custom Job:\n",
      "https://console.cloud.google.com/ai/platform/locations/europe-west4/training/2360116002672345088?project=188940921537\n"
     ]
    },
    {
     "name": "stderr",
     "output_type": "stream",
     "text": [
      "INFO:google.cloud.aiplatform.jobs:View Custom Job:\n",
      "https://console.cloud.google.com/ai/platform/locations/europe-west4/training/2360116002672345088?project=188940921537\n"
     ]
    },
    {
     "name": "stdout",
     "output_type": "stream",
     "text": [
      "View Tensorboard:\n",
      "https://europe-west4.tensorboard.googleusercontent.com/experiment/projects+188940921537+locations+europe-west4+tensorboards+8323953933147963392+experiments+2360116002672345088\n"
     ]
    },
    {
     "name": "stderr",
     "output_type": "stream",
     "text": [
      "INFO:google.cloud.aiplatform.jobs:View Tensorboard:\n",
      "https://europe-west4.tensorboard.googleusercontent.com/experiment/projects+188940921537+locations+europe-west4+tensorboards+8323953933147963392+experiments+2360116002672345088\n"
     ]
    },
    {
     "name": "stdout",
     "output_type": "stream",
     "text": [
      "CustomJob projects/188940921537/locations/europe-west4/customJobs/2360116002672345088 current state:\n",
      "JobState.JOB_STATE_PENDING\n"
     ]
    },
    {
     "name": "stderr",
     "output_type": "stream",
     "text": [
      "INFO:google.cloud.aiplatform.jobs:CustomJob projects/188940921537/locations/europe-west4/customJobs/2360116002672345088 current state:\n",
      "JobState.JOB_STATE_PENDING\n"
     ]
    },
    {
     "name": "stdout",
     "output_type": "stream",
     "text": [
      "CustomJob projects/188940921537/locations/europe-west4/customJobs/2360116002672345088 current state:\n",
      "JobState.JOB_STATE_PENDING\n"
     ]
    },
    {
     "name": "stderr",
     "output_type": "stream",
     "text": [
      "INFO:google.cloud.aiplatform.jobs:CustomJob projects/188940921537/locations/europe-west4/customJobs/2360116002672345088 current state:\n",
      "JobState.JOB_STATE_PENDING\n"
     ]
    },
    {
     "name": "stdout",
     "output_type": "stream",
     "text": [
      "CustomJob projects/188940921537/locations/europe-west4/customJobs/2360116002672345088 current state:\n",
      "JobState.JOB_STATE_PENDING\n"
     ]
    },
    {
     "name": "stderr",
     "output_type": "stream",
     "text": [
      "INFO:google.cloud.aiplatform.jobs:CustomJob projects/188940921537/locations/europe-west4/customJobs/2360116002672345088 current state:\n",
      "JobState.JOB_STATE_PENDING\n"
     ]
    },
    {
     "name": "stdout",
     "output_type": "stream",
     "text": [
      "CustomJob projects/188940921537/locations/europe-west4/customJobs/2360116002672345088 current state:\n",
      "JobState.JOB_STATE_PENDING\n"
     ]
    },
    {
     "name": "stderr",
     "output_type": "stream",
     "text": [
      "INFO:google.cloud.aiplatform.jobs:CustomJob projects/188940921537/locations/europe-west4/customJobs/2360116002672345088 current state:\n",
      "JobState.JOB_STATE_PENDING\n"
     ]
    },
    {
     "name": "stdout",
     "output_type": "stream",
     "text": [
      "CustomJob projects/188940921537/locations/europe-west4/customJobs/2360116002672345088 current state:\n",
      "JobState.JOB_STATE_PENDING\n"
     ]
    },
    {
     "name": "stderr",
     "output_type": "stream",
     "text": [
      "INFO:google.cloud.aiplatform.jobs:CustomJob projects/188940921537/locations/europe-west4/customJobs/2360116002672345088 current state:\n",
      "JobState.JOB_STATE_PENDING\n"
     ]
    },
    {
     "name": "stdout",
     "output_type": "stream",
     "text": [
      "CustomJob projects/188940921537/locations/europe-west4/customJobs/2360116002672345088 current state:\n",
      "JobState.JOB_STATE_FAILED\n"
     ]
    },
    {
     "name": "stderr",
     "output_type": "stream",
     "text": [
      "INFO:google.cloud.aiplatform.jobs:CustomJob projects/188940921537/locations/europe-west4/customJobs/2360116002672345088 current state:\n",
      "JobState.JOB_STATE_FAILED\n"
     ]
    },
    {
     "ename": "RuntimeError",
     "evalue": "Job failed with:\ncode: 3\nmessage: \"The replica workerpool0-0 exited with a non-zero status of 1. \\nTraceback (most recent call last):\\n  File \\\"/opt/conda/lib/python3.7/runpy.py\\\", line 193, in _run_module_as_main\\n    \\\"__main__\\\", mod_spec)\\n  File \\\"/opt/conda/lib/python3.7/runpy.py\\\", line 85, in _run_code\\n    exec(code, run_globals)\\n  File \\\"/root/.local/lib/python3.7/site-packages/src/model_training/task.py\\\", line 28, in <module>\\n    from src.model_training import defaults, trainer, exporter\\n  File \\\"/root/.local/lib/python3.7/site-packages/src/model_training/trainer.py\\\", line 20, in <module>\\n    import keras.backend as K\\n  File \\\"/opt/conda/lib/python3.7/site-packages/keras/__init__.py\\\", line 12, in <module>\\n    from . import initializers\\n  File \\\"/opt/conda/lib/python3.7/site-packages/keras/initializers/__init__.py\\\", line 124, in <module>\\n    populate_deserializable_objects()\\n  File \\\"/opt/conda/lib/python3.7/site-packages/keras/initializers/__init__.py\\\", line 49, in populate_deserializable_objects\\n    LOCAL.GENERATED_WITH_V2 = tf.__internal__.tf2.enabled()\\n  File \\\"/root/.local/lib/python3.7/site-packages/tensorflow_core/python/util/module_wrapper.py\\\", line 193, in __getattr__\\n    attr = getattr(self._tfmw_wrapped_module, name)\\nAttributeError: module \\'tensorflow._api.v1.compat.v2\\' has no attribute \\'__internal__\\'\\n\\nTo find out more about why your job exited please check the logs: https://console.cloud.google.com/logs/viewer?project=188940921537&resource=ml_job%2Fjob_id%2F2360116002672345088&advancedFilter=resource.type%3D%22ml_job%22%0Aresource.labels.job_id%3D%222360116002672345088%22\"\n",
     "output_type": "error",
     "traceback": [
      "\u001b[0;31m---------------------------------------------------------------------------\u001b[0m",
      "\u001b[0;31mRuntimeError\u001b[0m                              Traceback (most recent call last)",
      "\u001b[0;32m/tmp/ipykernel_2486/715272727.py\u001b[0m in \u001b[0;36m<module>\u001b[0;34m\u001b[0m\n\u001b[1;32m     12\u001b[0m     \u001b[0mservice_account\u001b[0m\u001b[0;34m=\u001b[0m\u001b[0mSERVICE_ACCOUNT\u001b[0m\u001b[0;34m,\u001b[0m\u001b[0;34m\u001b[0m\u001b[0;34m\u001b[0m\u001b[0m\n\u001b[1;32m     13\u001b[0m     \u001b[0mtensorboard\u001b[0m\u001b[0;34m=\u001b[0m\u001b[0mtensorboard_resource_name\u001b[0m\u001b[0;34m,\u001b[0m\u001b[0;34m\u001b[0m\u001b[0;34m\u001b[0m\u001b[0m\n\u001b[0;32m---> 14\u001b[0;31m     \u001b[0msync\u001b[0m\u001b[0;34m=\u001b[0m\u001b[0;32mTrue\u001b[0m\u001b[0;34m\u001b[0m\u001b[0;34m\u001b[0m\u001b[0m\n\u001b[0m\u001b[1;32m     15\u001b[0m )\n",
      "\u001b[0;32m/opt/conda/lib/python3.7/site-packages/google/cloud/aiplatform/base.py\u001b[0m in \u001b[0;36mwrapper\u001b[0;34m(*args, **kwargs)\u001b[0m\n\u001b[1;32m    748\u001b[0m                 \u001b[0;32mif\u001b[0m \u001b[0mself\u001b[0m\u001b[0;34m:\u001b[0m\u001b[0;34m\u001b[0m\u001b[0;34m\u001b[0m\u001b[0m\n\u001b[1;32m    749\u001b[0m                     \u001b[0mVertexAiResourceNounWithFutureManager\u001b[0m\u001b[0;34m.\u001b[0m\u001b[0mwait\u001b[0m\u001b[0;34m(\u001b[0m\u001b[0mself\u001b[0m\u001b[0;34m)\u001b[0m\u001b[0;34m\u001b[0m\u001b[0;34m\u001b[0m\u001b[0m\n\u001b[0;32m--> 750\u001b[0;31m                 \u001b[0;32mreturn\u001b[0m \u001b[0mmethod\u001b[0m\u001b[0;34m(\u001b[0m\u001b[0;34m*\u001b[0m\u001b[0margs\u001b[0m\u001b[0;34m,\u001b[0m \u001b[0;34m**\u001b[0m\u001b[0mkwargs\u001b[0m\u001b[0;34m)\u001b[0m\u001b[0;34m\u001b[0m\u001b[0;34m\u001b[0m\u001b[0m\n\u001b[0m\u001b[1;32m    751\u001b[0m \u001b[0;34m\u001b[0m\u001b[0m\n\u001b[1;32m    752\u001b[0m             \u001b[0;31m# callbacks to call within the Future (in same Thread)\u001b[0m\u001b[0;34m\u001b[0m\u001b[0;34m\u001b[0m\u001b[0;34m\u001b[0m\u001b[0m\n",
      "\u001b[0;32m/opt/conda/lib/python3.7/site-packages/google/cloud/aiplatform/jobs.py\u001b[0m in \u001b[0;36mrun\u001b[0;34m(self, service_account, network, timeout, restart_job_on_worker_restart, enable_web_access, tensorboard, sync, create_request_timeout)\u001b[0m\n\u001b[1;32m   1513\u001b[0m             )\n\u001b[1;32m   1514\u001b[0m \u001b[0;34m\u001b[0m\u001b[0m\n\u001b[0;32m-> 1515\u001b[0;31m         \u001b[0mself\u001b[0m\u001b[0;34m.\u001b[0m\u001b[0m_block_until_complete\u001b[0m\u001b[0;34m(\u001b[0m\u001b[0;34m)\u001b[0m\u001b[0;34m\u001b[0m\u001b[0;34m\u001b[0m\u001b[0m\n\u001b[0m\u001b[1;32m   1516\u001b[0m \u001b[0;34m\u001b[0m\u001b[0m\n\u001b[1;32m   1517\u001b[0m     \u001b[0;34m@\u001b[0m\u001b[0mproperty\u001b[0m\u001b[0;34m\u001b[0m\u001b[0;34m\u001b[0m\u001b[0m\n",
      "\u001b[0;32m/opt/conda/lib/python3.7/site-packages/google/cloud/aiplatform/jobs.py\u001b[0m in \u001b[0;36m_block_until_complete\u001b[0;34m(self)\u001b[0m\n\u001b[1;32m    976\u001b[0m         \u001b[0;31m# JOB_STATE_FAILED or JOB_STATE_CANCELLED.\u001b[0m\u001b[0;34m\u001b[0m\u001b[0;34m\u001b[0m\u001b[0;34m\u001b[0m\u001b[0m\n\u001b[1;32m    977\u001b[0m         \u001b[0;32mif\u001b[0m \u001b[0mself\u001b[0m\u001b[0;34m.\u001b[0m\u001b[0m_gca_resource\u001b[0m\u001b[0;34m.\u001b[0m\u001b[0mstate\u001b[0m \u001b[0;32min\u001b[0m \u001b[0m_JOB_ERROR_STATES\u001b[0m\u001b[0;34m:\u001b[0m\u001b[0;34m\u001b[0m\u001b[0;34m\u001b[0m\u001b[0m\n\u001b[0;32m--> 978\u001b[0;31m             \u001b[0;32mraise\u001b[0m \u001b[0mRuntimeError\u001b[0m\u001b[0;34m(\u001b[0m\u001b[0;34m\"Job failed with:\\n%s\"\u001b[0m \u001b[0;34m%\u001b[0m \u001b[0mself\u001b[0m\u001b[0;34m.\u001b[0m\u001b[0m_gca_resource\u001b[0m\u001b[0;34m.\u001b[0m\u001b[0merror\u001b[0m\u001b[0;34m)\u001b[0m\u001b[0;34m\u001b[0m\u001b[0;34m\u001b[0m\u001b[0m\n\u001b[0m\u001b[1;32m    979\u001b[0m         \u001b[0;32melse\u001b[0m\u001b[0;34m:\u001b[0m\u001b[0;34m\u001b[0m\u001b[0;34m\u001b[0m\u001b[0m\n\u001b[1;32m    980\u001b[0m             \u001b[0m_LOGGER\u001b[0m\u001b[0;34m.\u001b[0m\u001b[0mlog_action_completed_against_resource\u001b[0m\u001b[0;34m(\u001b[0m\u001b[0;34m\"run\"\u001b[0m\u001b[0;34m,\u001b[0m \u001b[0;34m\"completed\"\u001b[0m\u001b[0;34m,\u001b[0m \u001b[0mself\u001b[0m\u001b[0;34m)\u001b[0m\u001b[0;34m\u001b[0m\u001b[0;34m\u001b[0m\u001b[0m\n",
      "\u001b[0;31mRuntimeError\u001b[0m: Job failed with:\ncode: 3\nmessage: \"The replica workerpool0-0 exited with a non-zero status of 1. \\nTraceback (most recent call last):\\n  File \\\"/opt/conda/lib/python3.7/runpy.py\\\", line 193, in _run_module_as_main\\n    \\\"__main__\\\", mod_spec)\\n  File \\\"/opt/conda/lib/python3.7/runpy.py\\\", line 85, in _run_code\\n    exec(code, run_globals)\\n  File \\\"/root/.local/lib/python3.7/site-packages/src/model_training/task.py\\\", line 28, in <module>\\n    from src.model_training import defaults, trainer, exporter\\n  File \\\"/root/.local/lib/python3.7/site-packages/src/model_training/trainer.py\\\", line 20, in <module>\\n    import keras.backend as K\\n  File \\\"/opt/conda/lib/python3.7/site-packages/keras/__init__.py\\\", line 12, in <module>\\n    from . import initializers\\n  File \\\"/opt/conda/lib/python3.7/site-packages/keras/initializers/__init__.py\\\", line 124, in <module>\\n    populate_deserializable_objects()\\n  File \\\"/opt/conda/lib/python3.7/site-packages/keras/initializers/__init__.py\\\", line 49, in populate_deserializable_objects\\n    LOCAL.GENERATED_WITH_V2 = tf.__internal__.tf2.enabled()\\n  File \\\"/root/.local/lib/python3.7/site-packages/tensorflow_core/python/util/module_wrapper.py\\\", line 193, in __getattr__\\n    attr = getattr(self._tfmw_wrapped_module, name)\\nAttributeError: module \\'tensorflow._api.v1.compat.v2\\' has no attribute \\'__internal__\\'\\n\\nTo find out more about why your job exited please check the logs: https://console.cloud.google.com/logs/viewer?project=188940921537&resource=ml_job%2Fjob_id%2F2360116002672345088&advancedFilter=resource.type%3D%22ml_job%22%0Aresource.labels.job_id%3D%222360116002672345088%22\"\n"
     ]
    }
   ],
   "source": [
    "print(\"Submitting a custom training job...\")\n",
    "\n",
    "training_job_display_name = f\"{TRAINER_PACKAGE_NAME}_{run_id}\"\n",
    "\n",
    "training_job = vertex_ai.CustomJob(\n",
    "    display_name=training_job_display_name,\n",
    "    worker_pool_specs=worker_pool_specs,\n",
    "    base_output_dir=EXPERIMENT_RUN_DIR,\n",
    ")\n",
    "\n",
    "training_job.run(\n",
    "    service_account=SERVICE_ACCOUNT,\n",
    "    tensorboard=tensorboard_resource_name,\n",
    "    sync=True\n",
    ")"
   ]
  },
  {
   "cell_type": "markdown",
   "id": "c2896b59",
   "metadata": {},
   "source": [
    "## 5. Upload exported model to Vertex AI Models"
   ]
  },
  {
   "cell_type": "code",
   "execution_count": null,
   "id": "e86b288b",
   "metadata": {},
   "outputs": [],
   "source": [
    "!gsutil ls {EXPORT_DIR}"
   ]
  },
  {
   "cell_type": "markdown",
   "id": "f40e0c39",
   "metadata": {},
   "source": [
    "### Generate the Explanation metadata"
   ]
  },
  {
   "cell_type": "code",
   "execution_count": null,
   "id": "e3d5df4c",
   "metadata": {},
   "outputs": [],
   "source": [
    "explanation_config = features.generate_explanation_config(transform_feature_spec)\n",
    "explanation_config"
   ]
  },
  {
   "cell_type": "markdown",
   "id": "85cd0587",
   "metadata": {},
   "source": [
    "### Upload model"
   ]
  },
  {
   "cell_type": "code",
   "execution_count": null,
   "id": "a6d0dbb2",
   "metadata": {},
   "outputs": [],
   "source": [
    "#SERVING_RUNTIME='tf2-cpu.2-5'\n",
    "SERVING_RUNTIME='tf2-cpu.2-8'\n",
    "SERVING_IMAGE = f\"europe-docker.pkg.dev/vertex-ai/prediction/{SERVING_RUNTIME}:latest\"\n",
    "print(\"Serving image:\", SERVING_IMAGE)"
   ]
  },
  {
   "cell_type": "code",
   "execution_count": null,
   "id": "1b24abd6",
   "metadata": {},
   "outputs": [],
   "source": [
    "explanation_metadata = vertex_ai.explain.ExplanationMetadata(\n",
    "    inputs=explanation_config[\"inputs\"],\n",
    "    outputs=explanation_config[\"outputs\"],\n",
    ")\n",
    "explanation_parameters = vertex_ai.explain.ExplanationParameters(\n",
    "    explanation_config[\"params\"]\n",
    ")\n",
    "\n",
    "vertex_model = vertex_ai.Model.upload(\n",
    "    display_name=MODEL_DISPLAY_NAME,\n",
    "    artifact_uri=EXPORT_DIR,\n",
    "    serving_container_image_uri=SERVING_IMAGE,\n",
    "    parameters_schema_uri=None,\n",
    "    instance_schema_uri=None,\n",
    "    explanation_metadata=explanation_metadata,\n",
    "    explanation_parameters=explanation_parameters,\n",
    "    labels={\n",
    "        'dataset_name': VERTEX_DATASET_NAME,\n",
    "        'experiment': run_id\n",
    "    }\n",
    ")"
   ]
  },
  {
   "cell_type": "code",
   "execution_count": null,
   "id": "51756dbb",
   "metadata": {},
   "outputs": [],
   "source": [
    "vertex_model.gca_resource"
   ]
  },
  {
   "cell_type": "markdown",
   "id": "4aa55220",
   "metadata": {},
   "source": [
    "## 6. Extract experiment run parameters"
   ]
  },
  {
   "cell_type": "code",
   "execution_count": null,
   "id": "07808f8a",
   "metadata": {},
   "outputs": [],
   "source": [
    "experiment_df = vertex_ai.get_experiment_df()\n",
    "experiment_df = experiment_df[experiment_df.experiment_name == EXPERIMENT_NAME]\n",
    "experiment_df"
   ]
  },
  {
   "cell_type": "code",
   "execution_count": null,
   "id": "367183aa",
   "metadata": {},
   "outputs": [],
   "source": [
    "print(\"Vertex AI Experiments:\")\n",
    "print(\n",
    "    f\"https://console.cloud.google.com/vertex-ai/locations/{REGION}/experiments/{EXPERIMENT_NAME}/metrics?project={PROJECT}\"\n",
    ")"
   ]
  },
  {
   "cell_type": "markdown",
   "id": "c96618f6",
   "metadata": {},
   "source": [
    "## 7. Submit a Hyperparameter Tuning Job to Vertex AI\n",
    "\n",
    "For more information about configuring a hyperparameter study, refer to [Vertex AI Hyperparameter job configuration](https://cloud.google.com/vertex-ai/docs/training/using-hyperparameter-tuning)."
   ]
  },
  {
   "cell_type": "markdown",
   "id": "bc1b87cd",
   "metadata": {},
   "source": [
    "### Configure a hyperparameter job"
   ]
  },
  {
   "cell_type": "code",
   "execution_count": null,
   "id": "66ffa249",
   "metadata": {},
   "outputs": [],
   "source": [
    "metric_spec = {\n",
    "    'accuracy': 'maximize'\n",
    "}\n",
    "\n",
    "parameter_spec = {\n",
    "    'learning-rate': hp_tuning.DoubleParameterSpec(min=0.0001, max=0.1, scale='log'),\n",
    "    'hidden-units': hp_tuning.CategoricalParameterSpec(values=[\"32,32\", \"64,64\", \"128,128\"]),\n",
    "    'dropout': hp_tuning.DoubleParameterSpec(min=0.01, max=0.5, scale='log'),\n",
    "}"
   ]
  },
  {
   "cell_type": "code",
   "execution_count": null,
   "id": "d2454dc5",
   "metadata": {},
   "outputs": [],
   "source": [
    "tuning_job_display_name = f\"hpt_{TRAINER_PACKAGE_NAME}_{run_id}\"\n",
    "\n",
    "hp_tuning_job = vertex_ai.HyperparameterTuningJob(\n",
    "    display_name=tuning_job_display_name,\n",
    "    custom_job=training_job,\n",
    "    metric_spec=metric_spec,\n",
    "    parameter_spec=parameter_spec,\n",
    "    max_trial_count=3,\n",
    "    parallel_trial_count=2,\n",
    "    search_algorithm=None # Bayesian optimization.\n",
    ")"
   ]
  },
  {
   "cell_type": "markdown",
   "id": "b8e4ee22",
   "metadata": {},
   "source": [
    "### Submit the hyperparameter tuning job"
   ]
  },
  {
   "cell_type": "code",
   "execution_count": null,
   "id": "dc5b434d",
   "metadata": {},
   "outputs": [],
   "source": [
    "print(\"Submitting a hyperparameter tunning job...\")\n",
    "\n",
    "# FIXME: HP tuning job says it has \"no managed dataset\"\n",
    "\n",
    "hp_tuning_job.run(\n",
    "    service_account=SERVICE_ACCOUNT,\n",
    "    tensorboard=tensorboard_resource_name,\n",
    "    restart_job_on_worker_restart=False,\n",
    "    sync=True,\n",
    ")"
   ]
  },
  {
   "cell_type": "markdown",
   "id": "c4fd20da",
   "metadata": {},
   "source": [
    "### Retrieve trial results"
   ]
  },
  {
   "cell_type": "code",
   "execution_count": null,
   "id": "3f8352e3",
   "metadata": {},
   "outputs": [],
   "source": [
    "hp_tuning_job.trials"
   ]
  },
  {
   "cell_type": "code",
   "execution_count": null,
   "id": "311922be",
   "metadata": {},
   "outputs": [],
   "source": [
    "best_trial = sorted(\n",
    "    hp_tuning_job.trials, \n",
    "    key=lambda trial: trial.final_measurement.metrics[0].value, \n",
    "    reverse=True\n",
    ")[0]\n",
    "\n",
    "print(\"Best trial ID:\", best_trial.id)\n",
    "print(\"Validation Accuracy:\", best_trial.final_measurement.metrics[0].value)\n",
    "print(\"Hyperparameter Values:\")\n",
    "for parameter in best_trial.parameters:\n",
    "    print(f\" - {parameter.parameter_id}:{parameter.value}\")"
   ]
  },
  {
   "cell_type": "code",
   "execution_count": null,
   "id": "e79e2021-145c-48b4-a32b-1fee6a8039f2",
   "metadata": {},
   "outputs": [],
   "source": []
  }
 ],
 "metadata": {
  "environment": {
   "kernel": "python3",
   "name": "tf2-gpu.2-8.m93",
   "type": "gcloud",
   "uri": "gcr.io/deeplearning-platform-release/tf2-gpu.2-8:m93"
  },
  "kernelspec": {
   "display_name": "Python 3",
   "language": "python",
   "name": "python3"
  },
  "language_info": {
   "codemirror_mode": {
    "name": "ipython",
    "version": 3
   },
   "file_extension": ".py",
   "mimetype": "text/x-python",
   "name": "python",
   "nbconvert_exporter": "python",
   "pygments_lexer": "ipython3",
   "version": "3.7.12"
  }
 },
 "nbformat": 4,
 "nbformat_minor": 5
}
