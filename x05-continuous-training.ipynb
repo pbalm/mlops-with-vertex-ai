{
 "cells": [
  {
   "cell_type": "markdown",
   "id": "5043bfb9",
   "metadata": {},
   "source": [
    "# 05 - Continuous Training\n",
    "\n",
    "After testing, compiling, and uploading the pipeline definition to Cloud Storage, the pipeline is executed with respect to a trigger. We use [Cloud Functions](https://cloud.google.com/functions) and [Cloud Pub/Sub](https://cloud.google.com/pubsub) as a triggering mechanism. The triggering can be scheduled using [Cloud Scheduler](https://cloud.google.com/scheduler). The trigger source sends a message to a Cloud Pub/Sub topic that the Cloud Function listens to, and then it submits the pipeline to AI Platform Managed Pipelines to be executed.\n",
    "\n",
    "This notebook covers the following steps:\n",
    "1. Create the Cloud Pub/Sub topic.\n",
    "2. Deploy the Cloud Function \n",
    "3. Test triggering a pipeline.\n",
    "4. Extracting pipeline run metadata."
   ]
  },
  {
   "cell_type": "markdown",
   "id": "6f2f9013",
   "metadata": {},
   "source": [
    "## Setup"
   ]
  },
  {
   "cell_type": "markdown",
   "id": "a0e71c08",
   "metadata": {},
   "source": [
    "### Import libraries"
   ]
  },
  {
   "cell_type": "code",
   "execution_count": 7,
   "id": "37cefa26",
   "metadata": {},
   "outputs": [
    {
     "name": "stdout",
     "output_type": "stream",
     "text": [
      "The autoreload extension is already loaded. To reload it, use:\n",
      "  %reload_ext autoreload\n",
      "Tensorflow Version: 1.8.0\n"
     ]
    }
   ],
   "source": [
    "%load_ext autoreload\n",
    "%autoreload 2\n",
    "\n",
    "import json\n",
    "import os\n",
    "import logging\n",
    "import tensorflow as tf\n",
    "import tfx\n",
    "import IPython \n",
    "\n",
    "logging.getLogger().setLevel(logging.INFO)\n",
    "\n",
    "print(\"Tensorflow Version:\", tfx.__version__)"
   ]
  },
  {
   "cell_type": "markdown",
   "id": "ab763d6d",
   "metadata": {},
   "source": [
    "### Setup Google Cloud project"
   ]
  },
  {
   "cell_type": "code",
   "execution_count": 8,
   "id": "5260d069",
   "metadata": {},
   "outputs": [
    {
     "name": "stdout",
     "output_type": "stream",
     "text": [
      "Project ID: pbalm-cxb-aa\n",
      "Region: europe-west4\n",
      "Bucket name: pbalm-cxb-aa-eu\n",
      "Service Account: 188940921537-compute@developer.gserviceaccount.com\n"
     ]
    }
   ],
   "source": [
    "PROJECT = 'pbalm-cxb-aa'\n",
    "REGION = 'europe-west4'\n",
    "CF_REGION = 'europe-west1' # No Cloud Functions in europe-west4\n",
    "\n",
    "BUCKET =  PROJECT + '-eu'\n",
    "SERVICE_ACCOUNT = \"188940921537-compute@developer.gserviceaccount.com\"\n",
    "\n",
    "if PROJECT == \"\" or PROJECT is None or PROJECT == \"[your-project-id]\":\n",
    "    # Get your GCP project id from gcloud\n",
    "    shell_output = !gcloud config list --format 'value(core.project)' 2>/dev/null\n",
    "    PROJECT = shell_output[0]\n",
    "    \n",
    "if BUCKET == \"\" or BUCKET is None or BUCKET == \"[your-bucket-name]\":\n",
    "    # Get your bucket name to GCP projet id\n",
    "    BUCKET = PROJECT\n",
    "    \n",
    "if SERVICE_ACCOUNT == \"\" or SERVICE_ACCOUNT is None or SERVICE_ACCOUNT == \"[your-service-account]\":\n",
    "    # Get your GCP project id from gcloud\n",
    "    shell_output = !gcloud config list --format 'value(core.account)' 2>/dev/null\n",
    "    SERVICE_ACCOUNT = shell_output[0]\n",
    "\n",
    "print(\"Project ID:\", PROJECT)\n",
    "print(\"Region:\", REGION)\n",
    "print(\"Bucket name:\", BUCKET)\n",
    "print(\"Service Account:\", SERVICE_ACCOUNT)"
   ]
  },
  {
   "cell_type": "markdown",
   "id": "85dd5e16",
   "metadata": {},
   "source": [
    "### Set configurations"
   ]
  },
  {
   "cell_type": "code",
   "execution_count": 9,
   "id": "171a800f",
   "metadata": {},
   "outputs": [],
   "source": [
    "VERSION = 'v02'\n",
    "DATASET_DISPLAY_NAME = 'creditcards'\n",
    "MODEL_DISPLAY_NAME = f'{DATASET_DISPLAY_NAME}-classifier-{VERSION}'\n",
    "PIPELINE_NAME = f'{MODEL_DISPLAY_NAME}-train-pipeline'\n",
    "\n",
    "PIPELINES_STORE = f'gs://{BUCKET}/{DATASET_DISPLAY_NAME}/compiled_pipelines/'\n",
    "GCS_PIPELINE_FILE_LOCATION = os.path.join(PIPELINES_STORE, f'{PIPELINE_NAME}.json')\n",
    "PUBSUB_TOPIC = f'trigger-{PIPELINE_NAME}'\n",
    "CLOUD_FUNCTION_NAME = f'trigger-{PIPELINE_NAME}-fn'"
   ]
  },
  {
   "cell_type": "code",
   "execution_count": 10,
   "id": "016df25c",
   "metadata": {},
   "outputs": [
    {
     "name": "stdout",
     "output_type": "stream",
     "text": [
      "gs://pbalm-cxb-aa-eu/creditcards/compiled_pipelines/creditcards-classifier-v02-train-pipeline.json\n"
     ]
    }
   ],
   "source": [
    "!gsutil ls {GCS_PIPELINE_FILE_LOCATION}"
   ]
  },
  {
   "cell_type": "markdown",
   "id": "76d82223",
   "metadata": {},
   "source": [
    "## 1. Create a Pub/Sub topic"
   ]
  },
  {
   "cell_type": "code",
   "execution_count": null,
   "id": "0c1032c6",
   "metadata": {},
   "outputs": [],
   "source": [
    "!gcloud pubsub topics create {PUBSUB_TOPIC}"
   ]
  },
  {
   "cell_type": "markdown",
   "id": "08de54ef",
   "metadata": {},
   "source": [
    "## 2. Deploy the Cloud Function\n",
    "\n",
    "The Cloud Function is going to be deployed to `CF_REGION` and the pipeline will be triggered in `REGION`."
   ]
  },
  {
   "cell_type": "code",
   "execution_count": 17,
   "id": "8597ad8d",
   "metadata": {},
   "outputs": [
    {
     "name": "stdout",
     "output_type": "stream",
     "text": [
      "PROJECT=pbalm-cxb-aa,REGION=europe-west4,GCS_PIPELINE_FILE_LOCATION=gs://pbalm-cxb-aa-eu/creditcards/compiled_pipelines/creditcards-classifier-v02-train-pipeline.json,SERVICE_ACCOUNT=188940921537-compute@developer.gserviceaccount.com,PIPELINE_NAME=creditcards-classifier-v02-train-pipeline\n"
     ]
    }
   ],
   "source": [
    "ENV_VARS=f\"\"\"\\\n",
    "PROJECT={PROJECT},\\\n",
    "REGION={REGION},\\\n",
    "GCS_PIPELINE_FILE_LOCATION={GCS_PIPELINE_FILE_LOCATION},\\\n",
    "SERVICE_ACCOUNT={SERVICE_ACCOUNT},\\\n",
    "PIPELINE_NAME={PIPELINE_NAME}\n",
    "\"\"\"\n",
    "\n",
    "!echo {ENV_VARS}"
   ]
  },
  {
   "cell_type": "code",
   "execution_count": 18,
   "id": "01a3d62a",
   "metadata": {},
   "outputs": [],
   "source": [
    "!rm -rf src/pipeline_triggering/.ipynb_checkpoints"
   ]
  },
  {
   "cell_type": "code",
   "execution_count": 21,
   "id": "b5acdb73",
   "metadata": {},
   "outputs": [
    {
     "name": "stdout",
     "output_type": "stream",
     "text": [
      "Deploying function (may take a while - up to 2 minutes)...⠹                    \n",
      "For Cloud Build Logs, visit: https://console.cloud.google.com/cloud-build/builds;region=europe-west1/3449375a-e5ee-4e3a-8599-97bc78a17b7b?project=188940921537\n",
      "Deploying function (may take a while - up to 2 minutes)...done.                \n",
      "availableMemoryMb: 256\n",
      "buildId: 3449375a-e5ee-4e3a-8599-97bc78a17b7b\n",
      "buildName: projects/188940921537/locations/europe-west1/builds/3449375a-e5ee-4e3a-8599-97bc78a17b7b\n",
      "dockerRegistry: CONTAINER_REGISTRY\n",
      "entryPoint: trigger_pipeline\n",
      "environmentVariables:\n",
      "  GCS_PIPELINE_FILE_LOCATION: gs://pbalm-cxb-aa-eu/creditcards/compiled_pipelines/creditcards-classifier-v02-train-pipeline.json\n",
      "  PIPELINE_NAME: creditcards-classifier-v02-train-pipeline\n",
      "  PROJECT: pbalm-cxb-aa\n",
      "  REGION: europe-west4\n",
      "  SERVICE_ACCOUNT: 188940921537-compute@developer.gserviceaccount.com\n",
      "eventTrigger:\n",
      "  eventType: google.pubsub.topic.publish\n",
      "  failurePolicy: {}\n",
      "  resource: projects/pbalm-cxb-aa/topics/trigger-creditcards-classifier-v02-train-pipeline\n",
      "  service: pubsub.googleapis.com\n",
      "ingressSettings: ALLOW_INTERNAL_ONLY\n",
      "labels:\n",
      "  deployment-tool: cli-gcloud\n",
      "name: projects/pbalm-cxb-aa/locations/europe-west1/functions/trigger-creditcards-classifier-v02-train-pipeline-fn\n",
      "runtime: python37\n",
      "serviceAccountEmail: 188940921537-compute@developer.gserviceaccount.com\n",
      "sourceArchiveUrl: gs://pbalm-cxb-aa-eu/europe-west1-projects/pbalm-cxb-aa/locations/europe-west1/functions/trigger-creditcards-classifier-v02-train-pipeline-fn-egdcuaesyxyd.zip\n",
      "status: ACTIVE\n",
      "timeout: 60s\n",
      "updateTime: '2022-06-23T16:04:46.641Z'\n",
      "versionId: '5'\n"
     ]
    }
   ],
   "source": [
    "!gcloud functions deploy {CLOUD_FUNCTION_NAME} \\\n",
    "    --region={CF_REGION} \\\n",
    "    --trigger-topic={PUBSUB_TOPIC} \\\n",
    "    --runtime=python37 \\\n",
    "    --source=src/pipeline_triggering\\\n",
    "    --entry-point=trigger_pipeline\\\n",
    "    --stage-bucket={BUCKET}\\\n",
    "    --ingress-settings=internal-only\\\n",
    "    --service-account={SERVICE_ACCOUNT}\\\n",
    "    --update-env-vars={ENV_VARS}"
   ]
  },
  {
   "cell_type": "code",
   "execution_count": 23,
   "id": "5a5c41af",
   "metadata": {},
   "outputs": [
    {
     "data": {
      "text/html": [
       "See the Cloud Function details <a href=\"https://console.cloud.google.com/functions/details/europe-west1/trigger-creditcards-classifier-v02-train-pipeline-fn\" target=\"_blank\">here</a>."
      ],
      "text/plain": [
       "<IPython.core.display.HTML object>"
      ]
     },
     "metadata": {},
     "output_type": "display_data"
    }
   ],
   "source": [
    "cloud_fn_url = f\"https://console.cloud.google.com/functions/details/{CF_REGION}/{CLOUD_FUNCTION_NAME}\"\n",
    "html = f'See the Cloud Function details <a href=\"{cloud_fn_url}\" target=\"_blank\">here</a>.'\n",
    "IPython.display.display(IPython.display.HTML(html))"
   ]
  },
  {
   "cell_type": "markdown",
   "id": "ebbe047a",
   "metadata": {},
   "source": [
    "## 3. Trigger the pipeline"
   ]
  },
  {
   "cell_type": "code",
   "execution_count": 39,
   "id": "0c30028d",
   "metadata": {},
   "outputs": [],
   "source": [
    "from google.cloud import pubsub\n",
    "\n",
    "publish_client = pubsub.PublisherClient()\n",
    "topic = f'projects/{PROJECT}/topics/{PUBSUB_TOPIC}'\n",
    "data = {\n",
    "    'num_epochs': 7,\n",
    "    'learning_rate': 0.0015,\n",
    "    'batch_size': 512,\n",
    "    'hidden_units': '256,126'\n",
    "}\n",
    "message = json.dumps(data)\n",
    "\n",
    "_ = publish_client.publish(topic, message.encode())"
   ]
  },
  {
   "cell_type": "markdown",
   "id": "7ba049fe",
   "metadata": {},
   "source": [
    "Wait for a few seconds for the pipeline run to be submitted, then you can see the run in the Cloud Console"
   ]
  },
  {
   "cell_type": "code",
   "execution_count": 38,
   "id": "72debcdc-52a7-4e61-a40e-e68fbd702ba3",
   "metadata": {},
   "outputs": [
    {
     "data": {
      "text/html": [
       "See the Pipeline job <a href=\"https://console.cloud.google.com/vertex-ai/locations/europe-west4/pipelines/runs/creditcards-classifier-v02-train-pipeline-20220623161410\" target=\"_blank\">here</a>."
      ],
      "text/plain": [
       "<IPython.core.display.HTML object>"
      ]
     },
     "metadata": {},
     "output_type": "display_data"
    }
   ],
   "source": [
    "import google.cloud.aiplatform as vertex_ai\n",
    "\n",
    "vertex_ai.init(project=PROJECT, location=REGION)\n",
    "job = vertex_ai.PipelineJob.list(filter=f'display_name=\"{PIPELINE_NAME}\"',\n",
    "order_by='create_time desc')[0]\n",
    "\n",
    "job_display_name = job.resource_name.split('/')[-1]\n",
    "job_url = f\"https://console.cloud.google.com/vertex-ai/locations/{REGION}/pipelines/runs/{job_display_name}\"\n",
    "html = f'See the Pipeline job <a href=\"{job_url}\" target=\"_blank\">here</a>.'\n",
    "IPython.display.display(IPython.display.HTML(html))\n"
   ]
  },
  {
   "cell_type": "markdown",
   "id": "b4b3ff42",
   "metadata": {},
   "source": [
    "## 4. Extracting pipeline runs metadata"
   ]
  },
  {
   "cell_type": "code",
   "execution_count": 40,
   "id": "b13c1b19",
   "metadata": {},
   "outputs": [
    {
     "data": {
      "text/html": [
       "<div>\n",
       "<style scoped>\n",
       "    .dataframe tbody tr th:only-of-type {\n",
       "        vertical-align: middle;\n",
       "    }\n",
       "\n",
       "    .dataframe tbody tr th {\n",
       "        vertical-align: top;\n",
       "    }\n",
       "\n",
       "    .dataframe thead th {\n",
       "        text-align: right;\n",
       "    }\n",
       "</style>\n",
       "<table border=\"1\" class=\"dataframe\">\n",
       "  <thead>\n",
       "    <tr style=\"text-align: right;\">\n",
       "      <th></th>\n",
       "      <th>0</th>\n",
       "      <th>1</th>\n",
       "      <th>2</th>\n",
       "      <th>3</th>\n",
       "      <th>4</th>\n",
       "      <th>5</th>\n",
       "      <th>6</th>\n",
       "      <th>7</th>\n",
       "      <th>8</th>\n",
       "      <th>9</th>\n",
       "      <th>10</th>\n",
       "      <th>11</th>\n",
       "    </tr>\n",
       "  </thead>\n",
       "  <tbody>\n",
       "    <tr>\n",
       "      <th>pipeline_name</th>\n",
       "      <td>creditcards-classifier-v02-train-pipeline</td>\n",
       "      <td>creditcards-classifier-v02-train-pipeline</td>\n",
       "      <td>creditcards-classifier-v02-train-pipeline</td>\n",
       "      <td>creditcards-classifier-v02-train-pipeline</td>\n",
       "      <td>creditcards-classifier-v02-train-pipeline</td>\n",
       "      <td>creditcards-classifier-v02-train-pipeline</td>\n",
       "      <td>creditcards-classifier-v02-train-pipeline</td>\n",
       "      <td>creditcards-classifier-v02-train-pipeline</td>\n",
       "      <td>creditcards-classifier-v02-train-pipeline</td>\n",
       "      <td>creditcards-classifier-v02-train-pipeline</td>\n",
       "      <td>creditcards-classifier-v02-train-pipeline</td>\n",
       "      <td>creditcards-classifier-v02-train-pipeline</td>\n",
       "    </tr>\n",
       "    <tr>\n",
       "      <th>run_name</th>\n",
       "      <td>creditcards-classifier-v02-train-pipeline-2022...</td>\n",
       "      <td>creditcards-classifier-v02-train-pipeline-2022...</td>\n",
       "      <td>creditcards-classifier-v02-train-pipeline-2022...</td>\n",
       "      <td>creditcards-classifier-v02-train-pipeline-2022...</td>\n",
       "      <td>creditcards-classifier-v02-train-pipeline-2022...</td>\n",
       "      <td>creditcards-classifier-v02-train-pipeline-2022...</td>\n",
       "      <td>creditcards-classifier-v02-train-pipeline-2022...</td>\n",
       "      <td>creditcards-classifier-v02-train-pipeline-2022...</td>\n",
       "      <td>creditcards-classifier-v02-train-pipeline-2022...</td>\n",
       "      <td>creditcards-classifier-v02-train-pipeline-2022...</td>\n",
       "      <td>creditcards-classifier-v02-train-pipeline-2022...</td>\n",
       "      <td>creditcards-classifier-v02-train-pipeline-2022...</td>\n",
       "    </tr>\n",
       "    <tr>\n",
       "      <th>param.input:batch_size</th>\n",
       "      <td>512</td>\n",
       "      <td>512</td>\n",
       "      <td>512</td>\n",
       "      <td>512</td>\n",
       "      <td>NaN</td>\n",
       "      <td>NaN</td>\n",
       "      <td>NaN</td>\n",
       "      <td>512</td>\n",
       "      <td>512</td>\n",
       "      <td>512</td>\n",
       "      <td>512</td>\n",
       "      <td>512</td>\n",
       "    </tr>\n",
       "    <tr>\n",
       "      <th>param.input:hidden_units</th>\n",
       "      <td>256,126</td>\n",
       "      <td>256,126</td>\n",
       "      <td>128,128</td>\n",
       "      <td>128,128</td>\n",
       "      <td>NaN</td>\n",
       "      <td>NaN</td>\n",
       "      <td>NaN</td>\n",
       "      <td>128,128</td>\n",
       "      <td>128,128</td>\n",
       "      <td>128,128</td>\n",
       "      <td>128,128</td>\n",
       "      <td>128,128</td>\n",
       "    </tr>\n",
       "    <tr>\n",
       "      <th>param.input:learning_rate</th>\n",
       "      <td>0.0015</td>\n",
       "      <td>0.0015</td>\n",
       "      <td>0.003</td>\n",
       "      <td>0.003</td>\n",
       "      <td>NaN</td>\n",
       "      <td>NaN</td>\n",
       "      <td>NaN</td>\n",
       "      <td>0.003</td>\n",
       "      <td>0.003</td>\n",
       "      <td>0.003</td>\n",
       "      <td>0.003</td>\n",
       "      <td>0.003</td>\n",
       "    </tr>\n",
       "    <tr>\n",
       "      <th>param.input:num_epochs</th>\n",
       "      <td>7</td>\n",
       "      <td>7</td>\n",
       "      <td>30</td>\n",
       "      <td>30</td>\n",
       "      <td>NaN</td>\n",
       "      <td>NaN</td>\n",
       "      <td>NaN</td>\n",
       "      <td>30</td>\n",
       "      <td>30</td>\n",
       "      <td>30</td>\n",
       "      <td>30</td>\n",
       "      <td>30</td>\n",
       "    </tr>\n",
       "  </tbody>\n",
       "</table>\n",
       "</div>"
      ],
      "text/plain": [
       "                                                                          0   \\\n",
       "pipeline_name                      creditcards-classifier-v02-train-pipeline   \n",
       "run_name                   creditcards-classifier-v02-train-pipeline-2022...   \n",
       "param.input:batch_size                                                   512   \n",
       "param.input:hidden_units                                             256,126   \n",
       "param.input:learning_rate                                             0.0015   \n",
       "param.input:num_epochs                                                     7   \n",
       "\n",
       "                                                                          1   \\\n",
       "pipeline_name                      creditcards-classifier-v02-train-pipeline   \n",
       "run_name                   creditcards-classifier-v02-train-pipeline-2022...   \n",
       "param.input:batch_size                                                   512   \n",
       "param.input:hidden_units                                             256,126   \n",
       "param.input:learning_rate                                             0.0015   \n",
       "param.input:num_epochs                                                     7   \n",
       "\n",
       "                                                                          2   \\\n",
       "pipeline_name                      creditcards-classifier-v02-train-pipeline   \n",
       "run_name                   creditcards-classifier-v02-train-pipeline-2022...   \n",
       "param.input:batch_size                                                   512   \n",
       "param.input:hidden_units                                             128,128   \n",
       "param.input:learning_rate                                              0.003   \n",
       "param.input:num_epochs                                                    30   \n",
       "\n",
       "                                                                          3   \\\n",
       "pipeline_name                      creditcards-classifier-v02-train-pipeline   \n",
       "run_name                   creditcards-classifier-v02-train-pipeline-2022...   \n",
       "param.input:batch_size                                                   512   \n",
       "param.input:hidden_units                                             128,128   \n",
       "param.input:learning_rate                                              0.003   \n",
       "param.input:num_epochs                                                    30   \n",
       "\n",
       "                                                                          4   \\\n",
       "pipeline_name                      creditcards-classifier-v02-train-pipeline   \n",
       "run_name                   creditcards-classifier-v02-train-pipeline-2022...   \n",
       "param.input:batch_size                                                   NaN   \n",
       "param.input:hidden_units                                                 NaN   \n",
       "param.input:learning_rate                                                NaN   \n",
       "param.input:num_epochs                                                   NaN   \n",
       "\n",
       "                                                                          5   \\\n",
       "pipeline_name                      creditcards-classifier-v02-train-pipeline   \n",
       "run_name                   creditcards-classifier-v02-train-pipeline-2022...   \n",
       "param.input:batch_size                                                   NaN   \n",
       "param.input:hidden_units                                                 NaN   \n",
       "param.input:learning_rate                                                NaN   \n",
       "param.input:num_epochs                                                   NaN   \n",
       "\n",
       "                                                                          6   \\\n",
       "pipeline_name                      creditcards-classifier-v02-train-pipeline   \n",
       "run_name                   creditcards-classifier-v02-train-pipeline-2022...   \n",
       "param.input:batch_size                                                   NaN   \n",
       "param.input:hidden_units                                                 NaN   \n",
       "param.input:learning_rate                                                NaN   \n",
       "param.input:num_epochs                                                   NaN   \n",
       "\n",
       "                                                                          7   \\\n",
       "pipeline_name                      creditcards-classifier-v02-train-pipeline   \n",
       "run_name                   creditcards-classifier-v02-train-pipeline-2022...   \n",
       "param.input:batch_size                                                   512   \n",
       "param.input:hidden_units                                             128,128   \n",
       "param.input:learning_rate                                              0.003   \n",
       "param.input:num_epochs                                                    30   \n",
       "\n",
       "                                                                          8   \\\n",
       "pipeline_name                      creditcards-classifier-v02-train-pipeline   \n",
       "run_name                   creditcards-classifier-v02-train-pipeline-2022...   \n",
       "param.input:batch_size                                                   512   \n",
       "param.input:hidden_units                                             128,128   \n",
       "param.input:learning_rate                                              0.003   \n",
       "param.input:num_epochs                                                    30   \n",
       "\n",
       "                                                                          9   \\\n",
       "pipeline_name                      creditcards-classifier-v02-train-pipeline   \n",
       "run_name                   creditcards-classifier-v02-train-pipeline-2022...   \n",
       "param.input:batch_size                                                   512   \n",
       "param.input:hidden_units                                             128,128   \n",
       "param.input:learning_rate                                              0.003   \n",
       "param.input:num_epochs                                                    30   \n",
       "\n",
       "                                                                          10  \\\n",
       "pipeline_name                      creditcards-classifier-v02-train-pipeline   \n",
       "run_name                   creditcards-classifier-v02-train-pipeline-2022...   \n",
       "param.input:batch_size                                                   512   \n",
       "param.input:hidden_units                                             128,128   \n",
       "param.input:learning_rate                                              0.003   \n",
       "param.input:num_epochs                                                    30   \n",
       "\n",
       "                                                                          11  \n",
       "pipeline_name                      creditcards-classifier-v02-train-pipeline  \n",
       "run_name                   creditcards-classifier-v02-train-pipeline-2022...  \n",
       "param.input:batch_size                                                   512  \n",
       "param.input:hidden_units                                             128,128  \n",
       "param.input:learning_rate                                              0.003  \n",
       "param.input:num_epochs                                                    30  "
      ]
     },
     "execution_count": 40,
     "metadata": {},
     "output_type": "execute_result"
    }
   ],
   "source": [
    "from google.cloud import aiplatform as vertex_ai\n",
    "\n",
    "pipeline_df = vertex_ai.get_pipeline_df(PIPELINE_NAME)\n",
    "pipeline_df = pipeline_df[pipeline_df.pipeline_name == PIPELINE_NAME]\n",
    "pipeline_df.T"
   ]
  },
  {
   "cell_type": "code",
   "execution_count": null,
   "id": "9254cbc3",
   "metadata": {},
   "outputs": [],
   "source": []
  }
 ],
 "metadata": {
  "environment": {
   "kernel": "python3",
   "name": "tf2-gpu.2-8.m93",
   "type": "gcloud",
   "uri": "gcr.io/deeplearning-platform-release/tf2-gpu.2-8:m93"
  },
  "kernelspec": {
   "display_name": "Python 3",
   "language": "python",
   "name": "python3"
  },
  "language_info": {
   "codemirror_mode": {
    "name": "ipython",
    "version": 3
   },
   "file_extension": ".py",
   "mimetype": "text/x-python",
   "name": "python",
   "nbconvert_exporter": "python",
   "pygments_lexer": "ipython3",
   "version": "3.7.12"
  }
 },
 "nbformat": 4,
 "nbformat_minor": 5
}
