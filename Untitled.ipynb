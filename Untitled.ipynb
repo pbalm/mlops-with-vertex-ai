{
 "cells": [
  {
   "cell_type": "code",
   "execution_count": 1,
   "id": "45a8b617-858d-4197-8e54-6aa99fa8122e",
   "metadata": {},
   "outputs": [],
   "source": [
    "!python -c 'from google.cloud import aiplatform as vertex_ai'"
   ]
  },
  {
   "cell_type": "code",
   "execution_count": 4,
   "id": "1ad51942-42a9-438c-ae08-310f5f3137b5",
   "metadata": {},
   "outputs": [
    {
     "name": "stdout",
     "output_type": "stream",
     "text": [
      "INFO:root:Python Version = 3.7.12 | packaged by conda-forge | (default, Oct 26 2021, 06:08:53) \n",
      "[GCC 9.4.0]\n",
      "INFO:root:TensorFlow Version = 2.9.1\n",
      "INFO:root:TF_CONFIG = Not found\n",
      "2022-06-13 12:41:12.285495: I tensorflow/core/platform/cpu_feature_guard.cc:193] This TensorFlow binary is optimized with oneAPI Deep Neural Network Library (oneDNN) to use the following CPU instructions in performance-critical operations:  AVX2 FMA\n",
      "To enable them in other operations, rebuild TensorFlow with the appropriate compiler flags.\n",
      "2022-06-13 12:41:12.286938: W tensorflow/stream_executor/platform/default/dso_loader.cc:64] Could not load dynamic library 'libcuda.so.1'; dlerror: libcuda.so.1: cannot open shared object file: No such file or directory; LD_LIBRARY_PATH: /usr/local/cuda/lib64:/usr/local/cuda/lib:/usr/local/lib/x86_64-linux-gnu:/usr/local/nvidia/lib:/usr/local/nvidia/lib64:/usr/local/nvidia/lib:/usr/local/nvidia/lib64\n",
      "2022-06-13 12:41:12.286973: W tensorflow/stream_executor/cuda/cuda_driver.cc:269] failed call to cuInit: UNKNOWN ERROR (303)\n",
      "2022-06-13 12:41:12.287013: I tensorflow/stream_executor/cuda/cuda_diagnostics.cc:156] kernel driver does not appear to be running on this host (6c77c6543aef): /proc/driver/nvidia/version does not exist\n",
      "INFO:root:DEVICES = [name: \"/device:CPU:0\"\n",
      "device_type: \"CPU\"\n",
      "memory_limit: 268435456\n",
      "locality {\n",
      "}\n",
      "incarnation: 13841061967141778667\n",
      "xla_global_id: -1\n",
      "]\n",
      "INFO:root:Task started...\n",
      "INFO:root:Hyperparameter: {'model_dir': None, 'log_dir': None, 'train_data_dir': None, 'eval_data_dir': None, 'tft_output_dir': None, 'learning_rate': 0.001, 'batch_size': 512, 'hidden_units': [64, 32], 'num_epochs': 10, 'project': None, 'region': None, 'staging_bucket': None, 'experiment_name': None, 'run_name': None}\n",
      "INFO:root:Loading tft output from None\n",
      "Traceback (most recent call last):\n",
      "  File \"/opt/conda/lib/python3.7/runpy.py\", line 193, in _run_module_as_main\n",
      "    \"__main__\", mod_spec)\n",
      "  File \"/opt/conda/lib/python3.7/runpy.py\", line 85, in _run_code\n",
      "    exec(code, run_globals)\n",
      "  File \"/home/jupyter/mlops-with-vertex-ai/src/model_training/task.py\", line 157, in <module>\n",
      "    main()\n",
      "  File \"/home/jupyter/mlops-with-vertex-ai/src/model_training/task.py\", line 112, in main\n",
      "    log_dir=args.log_dir,\n",
      "  File \"/home/jupyter/mlops-with-vertex-ai/src/model_training/trainer.py\", line 36, in train\n",
      "    transformed_feature_spec = tft_output.transformed_feature_spec()\n",
      "  File \"/opt/conda/lib/python3.7/site-packages/tensorflow_transform/output_wrapper.py\", line 122, in transformed_feature_spec\n",
      "    self.transformed_metadata.schema).feature_spec\n",
      "  File \"/opt/conda/lib/python3.7/site-packages/tensorflow_transform/output_wrapper.py\", line 91, in transformed_metadata\n",
      "    self._transformed_metadata_dir)\n",
      "  File \"/opt/conda/lib/python3.7/site-packages/tensorflow_transform/output_wrapper.py\", line 113, in _transformed_metadata_dir\n",
      "    self.TRANSFORMED_METADATA_DIR)\n",
      "  File \"/opt/conda/lib/python3.7/posixpath.py\", line 80, in join\n",
      "    a = os.fspath(a)\n",
      "TypeError: expected str, bytes or os.PathLike object, not NoneType\n"
     ]
    }
   ],
   "source": [
    "!python -m src.model_training.task"
   ]
  },
  {
   "cell_type": "code",
   "execution_count": 6,
   "id": "7e9fbe77-4a6c-4369-9933-5ca3cdfd0453",
   "metadata": {},
   "outputs": [
    {
     "name": "stdout",
     "output_type": "stream",
     "text": [
      "Traceback (most recent call last):\n",
      "  File \"/opt/conda/lib/python3.7/runpy.py\", line 193, in _run_module_as_main\n",
      "    \"__main__\", mod_spec)\n",
      "  File \"/opt/conda/lib/python3.7/runpy.py\", line 85, in _run_code\n",
      "    exec(code, run_globals)\n",
      "  File \"/home/jupyter/mlops-with-vertex-ai/src/test.py\", line 5, in <module>\n",
      "    import grpc\n",
      "  File \"/opt/conda/lib/python3.7/site-packages/grpc/__init__.py\", line 22, in <module>\n",
      "    from grpc import _compression\n",
      "  File \"/opt/conda/lib/python3.7/site-packages/grpc/_compression.py\", line 15, in <module>\n",
      "    from grpc._cython import cygrpc\n",
      "ImportError: /lib/x86_64-linux-gnu/libstdc++.so.6: version `GLIBCXX_3.4.30' not found (required by /opt/conda/lib/python3.7/site-packages/grpc/_cython/cygrpc.cpython-37m-x86_64-linux-gnu.so)\n"
     ]
    }
   ],
   "source": [
    "!python -m src.test"
   ]
  },
  {
   "cell_type": "code",
   "execution_count": 1,
   "id": "ff83b981-7fa3-4ed3-9baf-e7411d961b8f",
   "metadata": {},
   "outputs": [],
   "source": [
    "args = {'job_name': 'etl-creditcards-classifier-v01-run-gcp-20220614103510', 'runner': 'DataflowRunner', 'raw_data_query': \"\\n    SELECT *\\n    \\n    EXCEPT (Time)\\n    FROM vertex_eu.creditcards_ml \\n    WHERE ML_use = 'UNASSIGNED'\\n    LIMIT 1000000\", 'exported_data_prefix': 'gs://cxb1-prjtest-novpcsc-eu/creditcards/experiments/creditcards-classifier-v01/run-gcp-20220614103510/exported_data', 'transformed_data_prefix': 'gs://cxb1-prjtest-novpcsc-eu/creditcards/experiments/creditcards-classifier-v01/run-gcp-20220614103510/transformed_data', 'transform_artifact_dir': 'gs://cxb1-prjtest-novpcsc-eu/creditcards/experiments/creditcards-classifier-v01/run-gcp-20220614103510/transform_artifacts', 'write_raw_data': False, 'temporary_dir': 'gs://cxb1-prjtest-novpcsc-eu/creditcards/tmp', 'gcs_location': 'gs://cxb1-prjtest-novpcsc-eu/creditcards/bq_tmp', 'project': 'cxb1-prj-test-no-vpcsc', 'region': 'europe-west1', 'setup_file': './setup.py', 'service_account_email': 'sa-mlops@cxb1-prj-test-no-vpcsc.iam.gserviceaccount.com', 'use_public_ips': False, 'subnetwork': 'https://www.googleapis.com/compute/v1/projects/cxb1-prj-test-no-vpcsc/regions/europe-west1/subnetworks/default'}"
   ]
  },
  {
   "cell_type": "code",
   "execution_count": 3,
   "id": "9bb71536-d68d-49e9-bdb0-e6f3c419b12b",
   "metadata": {},
   "outputs": [
    {
     "name": "stdout",
     "output_type": "stream",
     "text": [
      "job_name: etl-creditcards-classifier-v01-run-gcp-20220614103510\n",
      "runner: DataflowRunner\n",
      "raw_data_query: \n",
      "    SELECT *\n",
      "    \n",
      "    EXCEPT (Time)\n",
      "    FROM vertex_eu.creditcards_ml \n",
      "    WHERE ML_use = 'UNASSIGNED'\n",
      "    LIMIT 1000000\n",
      "exported_data_prefix: gs://cxb1-prjtest-novpcsc-eu/creditcards/experiments/creditcards-classifier-v01/run-gcp-20220614103510/exported_data\n",
      "transformed_data_prefix: gs://cxb1-prjtest-novpcsc-eu/creditcards/experiments/creditcards-classifier-v01/run-gcp-20220614103510/transformed_data\n",
      "transform_artifact_dir: gs://cxb1-prjtest-novpcsc-eu/creditcards/experiments/creditcards-classifier-v01/run-gcp-20220614103510/transform_artifacts\n",
      "write_raw_data: False\n",
      "temporary_dir: gs://cxb1-prjtest-novpcsc-eu/creditcards/tmp\n",
      "gcs_location: gs://cxb1-prjtest-novpcsc-eu/creditcards/bq_tmp\n",
      "project: cxb1-prj-test-no-vpcsc\n",
      "region: europe-west1\n",
      "setup_file: ./setup.py\n",
      "service_account_email: sa-mlops@cxb1-prj-test-no-vpcsc.iam.gserviceaccount.com\n",
      "use_public_ips: False\n",
      "subnetwork: https://www.googleapis.com/compute/v1/projects/cxb1-prj-test-no-vpcsc/regions/europe-west1/subnetworks/default\n"
     ]
    }
   ],
   "source": [
    "\n",
    "for k in args:\n",
    "    print(f'{k}: {args[k]}')\n"
   ]
  },
  {
   "cell_type": "code",
   "execution_count": null,
   "id": "8664909c-5cf2-47b2-b47e-7e212de0083b",
   "metadata": {},
   "outputs": [],
   "source": []
  }
 ],
 "metadata": {
  "kernelspec": {
   "display_name": "TensorFlow 2 (Local)",
   "language": "python",
   "name": "local-tf2"
  },
  "language_info": {
   "codemirror_mode": {
    "name": "ipython",
    "version": 3
   },
   "file_extension": ".py",
   "mimetype": "text/x-python",
   "name": "python",
   "nbconvert_exporter": "python",
   "pygments_lexer": "ipython3",
   "version": "3.7.12"
  }
 },
 "nbformat": 4,
 "nbformat_minor": 5
}
