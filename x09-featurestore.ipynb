{
 "cells": [
  {
   "cell_type": "markdown",
   "id": "a12e6d23-b0bc-463e-885c-ccfedccd9aac",
   "metadata": {},
   "source": [
    "# Feature Store\n",
    "\n",
    "The purpose of this notebook is to:\n",
    "\n",
    "* Create a Feature Store\n",
    "* Create an entity with some features\n",
    "* Batch ingest some feature data\n",
    "* Deploy a Cloud Function that can read this data and feed it to the model\n",
    "\n",
    "## Imports"
   ]
  },
  {
   "cell_type": "code",
   "execution_count": 1,
   "id": "6080f973-5159-4967-acff-8b3add013d57",
   "metadata": {},
   "outputs": [],
   "source": [
    "from google.api_core import operations_v1\n",
    "from google.cloud.aiplatform_v1beta1 import FeaturestoreOnlineServingServiceClient\n",
    "from google.cloud.aiplatform_v1beta1 import FeaturestoreServiceClient\n",
    "from google.cloud.aiplatform_v1beta1.types import featurestore_online_service as featurestore_online_service_pb2\n",
    "from google.cloud.aiplatform_v1beta1.types import entity_type as entity_type_pb2\n",
    "from google.cloud.aiplatform_v1beta1.types import feature as feature_pb2\n",
    "from google.cloud.aiplatform_v1beta1.types import featurestore as featurestore_pb2\n",
    "from google.cloud.aiplatform_v1beta1.types import featurestore_service as featurestore_service_pb2\n",
    "from google.cloud.aiplatform_v1beta1.types import io as io_pb2\n",
    "from google.cloud.aiplatform_v1beta1.types import ListFeaturestoresRequest, CreateFeaturestoreRequest, Featurestore\n",
    "\n",
    "from google.protobuf.timestamp_pb2 import Timestamp\n",
    "from google.cloud.aiplatform_v1beta1.types import featurestore_monitoring as featurestore_monitoring_pb2\n",
    "from google.protobuf.duration_pb2 import Duration\n",
    "\n",
    "import yaml"
   ]
  },
  {
   "cell_type": "markdown",
   "id": "d299592a-4705-4537-8356-228b05dd65b3",
   "metadata": {},
   "source": [
    "## Configuration"
   ]
  },
  {
   "cell_type": "code",
   "execution_count": 2,
   "id": "b1f0b2ac-442c-4caf-8778-cef2b543bd7a",
   "metadata": {},
   "outputs": [],
   "source": [
    "with open('mainconfig.yaml') as f:\n",
    "    main_config = yaml.safe_load(f)\n",
    "main_config = main_config['personal']"
   ]
  },
  {
   "cell_type": "code",
   "execution_count": 3,
   "id": "4e037bf4-51f5-4da6-a314-fe9670bfe3a2",
   "metadata": {},
   "outputs": [
    {
     "name": "stdout",
     "output_type": "stream",
     "text": [
      "Project ID: pbalm-cxb-aa\n",
      "Region: europe-west4\n"
     ]
    }
   ],
   "source": [
    "PROJECT = main_config['project'] \n",
    "REGION = main_config['region'] \n",
    "\n",
    "SERVICE_ACCOUNT = main_config['service_account']\n",
    "\n",
    "print(\"Project ID:\", PROJECT)\n",
    "print(\"Region:\", REGION)\n",
    "\n",
    "API_ENDPOINT = f\"{REGION}-aiplatform.googleapis.com\"  \n",
    "FEATURESTORE_ID = main_config['featurestore_id']"
   ]
  },
  {
   "cell_type": "code",
   "execution_count": 4,
   "id": "744f7719-ecbd-47c0-8d66-2463f0ba6a8d",
   "metadata": {},
   "outputs": [],
   "source": [
    "admin_client = FeaturestoreServiceClient(\n",
    "    client_options={\"api_endpoint\": API_ENDPOINT})\n",
    "data_client = FeaturestoreOnlineServingServiceClient(\n",
    "    client_options={\"api_endpoint\": API_ENDPOINT})"
   ]
  },
  {
   "cell_type": "code",
   "execution_count": 5,
   "id": "872313b2-38dd-40d3-8c72-22bce8861672",
   "metadata": {},
   "outputs": [
    {
     "name": "stdout",
     "output_type": "stream",
     "text": [
      "Existing feature stores in project pbalm-cxb-aa and region europe-west4:\n",
      "\tprojects/188940921537/locations/europe-west4/featurestores/creditcards\n",
      "\tprojects/188940921537/locations/europe-west4/featurestores/creditcards2\n",
      "\tprojects/188940921537/locations/europe-west4/featurestores/test\n"
     ]
    }
   ],
   "source": [
    "print(f'Existing feature stores in project {PROJECT} and region {REGION}:')\n",
    "for f in admin_client.list_featurestores(ListFeaturestoresRequest(parent=admin_client.common_location_path(PROJECT, REGION))):\n",
    "      print('\\t' + f.name)"
   ]
  },
  {
   "cell_type": "markdown",
   "id": "a81d9b3b-a752-4ddb-8872-ea630b814571",
   "metadata": {},
   "source": [
    "## Move this stuff to source code files"
   ]
  },
  {
   "cell_type": "code",
   "execution_count": 29,
   "id": "a446f126-5d41-4089-856b-f6482db724de",
   "metadata": {},
   "outputs": [],
   "source": [
    "def create_fs(project, region, store_id, store_name=None):\n",
    "    base_path = admin_client.common_location_path(project, region)\n",
    "    \n",
    "    for f in admin_client.list_featurestores(ListFeaturestoresRequest(parent=admin_client.common_location_path(project, region))):\n",
    "        existing_id = f.name.split('/')[-1]\n",
    "        if store_id == existing_id:\n",
    "            print(f'Feature Store \"{store_id}\" already exists in {region}')\n",
    "            return\n",
    "    \n",
    "    if store_name is None:\n",
    "        store_name = f'{base_path}/{store_id}'\n",
    "    \n",
    "    req = CreateFeaturestoreRequest(\n",
    "        parent = base_path,\n",
    "        featurestore = Featurestore(\n",
    "            name=store_name,\n",
    "            online_serving_config=Featurestore.OnlineServingConfig(fixed_node_count=3)),\n",
    "        featurestore_id = store_id)\n",
    "    \n",
    "    lro = admin_client.create_featurestore(req)\n",
    "    name = lro.result()\n",
    "    print(f'Created Feature Store {name} in {region}')\n",
    "    return name\n",
    "\n",
    "\n",
    "def create_entity(project, region, store_id, entity, entity_descr, features, features_descr=None):\n",
    "    \n",
    "    if features_descr is None:\n",
    "        features_descr = features\n",
    "    \n",
    "    if len(features) != len(features_descr):\n",
    "        print(f'ERROR: Got {len(features)} features and {len(features_descr)} descriptions')\n",
    "        return\n",
    "    \n",
    "    print(f'Creating entity {entity} in Feature Store {store_id} ({region})')\n",
    "    \n",
    "    snapshot_analysis = featurestore_monitoring_pb2.FeaturestoreMonitoringConfig.SnapshotAnalysis(\n",
    "                    monitoring_interval=Duration(seconds=3600))  # 1 hour\n",
    "    \n",
    "    lro = admin_client.create_entity_type(\n",
    "        featurestore_service_pb2.CreateEntityTypeRequest(\n",
    "            parent=admin_client.featurestore_path(project, region, store_id),\n",
    "            entity_type_id=entity,\n",
    "            entity_type=entity_type_pb2.EntityType(\n",
    "             description=entity_descr,\n",
    "             monitoring_config=featurestore_monitoring_pb2.FeaturestoreMonitoringConfig(\n",
    "                snapshot_analysis=snapshot_analysis))\n",
    "        )\n",
    "    ).result()\n",
    "    \n",
    "    print(lro)\n",
    "    \n",
    "    def _create_f_request(name, descr):\n",
    "        return featurestore_service_pb2.CreateFeatureRequest(\n",
    "                feature=feature_pb2.Feature(\n",
    "                    value_type=feature_pb2.Feature.ValueType.DOUBLE,\n",
    "                    description=descr,\n",
    "                    monitoring_config=featurestore_monitoring_pb2.FeaturestoreMonitoringConfig(\n",
    "                        snapshot_analysis=snapshot_analysis)),\n",
    "                feature_id=name)\n",
    "    \n",
    "    requests = [_create_f_request(x[0], x[1]) for x in zip(features, features_descr)]\n",
    "    \n",
    "    print(f'\\nCreating features: {\",\".join(features)}')\n",
    "\n",
    "    lro = admin_client.batch_create_features(\n",
    "        parent=admin_client.entity_type_path(PROJECT, REGION, FEATURESTORE_ID, entity),\n",
    "        requests=requests).result()\n",
    "    \n",
    "    return lro\n",
    "\n",
    "\n",
    "def ingest_entities_csv(project, region, store_id, entity, features, gcs_uris):\n",
    "\n",
    "    timestamp = Timestamp()\n",
    "    timestamp.GetCurrentTime()\n",
    "    timestamp.nanos = 0\n",
    "    \n",
    "    specs = [featurestore_service_pb2.ImportFeatureValuesRequest.FeatureSpec(id=f) for f in features]\n",
    "    \n",
    "    import_request_transaction = featurestore_service_pb2.ImportFeatureValuesRequest(\n",
    "        entity_type=admin_client.entity_type_path(project, region, store_id, entity),\n",
    "        csv_source=io_pb2.CsvSource(gcs_source=io_pb2.GcsSource(uris=gcs_uris)),\n",
    "        feature_specs=specs,\n",
    "        entity_id_field=entity,\n",
    "        feature_time=timestamp, # unique timestamp for all\n",
    "        worker_count=5)\n",
    "    \n",
    "    print(f'Ingesting features for \"{entity}\" entity...')\n",
    "    ingestion_lro = admin_client.import_feature_values(import_request_transaction).result()\n",
    "    print('done')\n",
    "    \n",
    "    return ingestion_lro\n"
   ]
  },
  {
   "cell_type": "markdown",
   "id": "070b4fb3-0186-4d1d-87d0-b7fb7dd02be8",
   "metadata": {},
   "source": [
    "## Create Feature Store and entity with features"
   ]
  },
  {
   "cell_type": "code",
   "execution_count": 28,
   "id": "fa460e5f-9f32-47dd-ac8c-418e19703c59",
   "metadata": {},
   "outputs": [
    {
     "name": "stdout",
     "output_type": "stream",
     "text": [
      "Feature Store \"creditcards\" already exists in europe-west4\n"
     ]
    }
   ],
   "source": [
    "create_fs(PROJECT, REGION, FEATURESTORE_ID, \"Feature Store for credit card use case\")"
   ]
  },
  {
   "cell_type": "code",
   "execution_count": 17,
   "id": "a1218e2c-af83-4b51-bd57-678ef6ef46dd",
   "metadata": {},
   "outputs": [
    {
     "data": {
      "text/plain": [
       "name: \"projects/188940921537/locations/europe-west4/featurestores/creditcards\"\n",
       "create_time {\n",
       "  seconds: 1657035029\n",
       "  nanos: 610160000\n",
       "}\n",
       "update_time {\n",
       "  seconds: 1657035029\n",
       "  nanos: 696023000\n",
       "}\n",
       "etag: \"AMEw9yNySvrvNngonhD6dilmNq2AXx-RvqOGGff-RkRKjWx8tLu6Xn9ckikiNWQSPlWv\"\n",
       "online_serving_config {\n",
       "}\n",
       "state: STABLE"
      ]
     },
     "execution_count": 17,
     "metadata": {},
     "output_type": "execute_result"
    }
   ],
   "source": [
    "admin_client.get_featurestore(name = admin_client.featurestore_path(PROJECT, REGION, FEATURESTORE_ID))"
   ]
  },
  {
   "cell_type": "code",
   "execution_count": 9,
   "id": "44b4e1aa-c093-4a74-8477-8be70f99139b",
   "metadata": {},
   "outputs": [],
   "source": [
    "entity = 'user'\n",
    "entity_descr = 'User ID'\n",
    "features = ['v27', 'v28']"
   ]
  },
  {
   "cell_type": "code",
   "execution_count": 10,
   "id": "0d9185f4-c5bf-4f55-9405-5bc4f19b34fc",
   "metadata": {},
   "outputs": [
    {
     "name": "stdout",
     "output_type": "stream",
     "text": [
      "Creating entity user in Feature Store creditcards (europe-west4)\n",
      "name: \"projects/188940921537/locations/europe-west4/featurestores/creditcards/entityTypes/user\"\n",
      "\n",
      "\n",
      "Creating features: v27,v28\n"
     ]
    },
    {
     "data": {
      "text/plain": [
       "features {\n",
       "  name: \"projects/188940921537/locations/europe-west4/featurestores/creditcards/entityTypes/user/features/v27\"\n",
       "}\n",
       "features {\n",
       "  name: \"projects/188940921537/locations/europe-west4/featurestores/creditcards/entityTypes/user/features/v28\"\n",
       "}"
      ]
     },
     "execution_count": 10,
     "metadata": {},
     "output_type": "execute_result"
    }
   ],
   "source": [
    "create_entity(PROJECT, REGION, FEATURESTORE_ID, entity, entity_descr, features)"
   ]
  },
  {
   "cell_type": "markdown",
   "id": "0e961e97-3688-41b6-a7e8-bb80cd41141c",
   "metadata": {},
   "source": [
    "### Create the feature data"
   ]
  },
  {
   "cell_type": "code",
   "execution_count": 11,
   "id": "95c67eb0-b478-4321-a588-be6809f67bd6",
   "metadata": {},
   "outputs": [],
   "source": [
    "import random\n",
    "\n",
    "filename = f'features_{entity}.csv'\n",
    "\n",
    "with open(filename, 'w') as f:\n",
    "    line = f'{entity},{\",\".join(features)}\\n'\n",
    "    f.write(line)\n",
    "    for i in range(100):\n",
    "        f.write(f'user{i},{random.random()},{random.random()}\\n')"
   ]
  },
  {
   "cell_type": "code",
   "execution_count": 12,
   "id": "c93334b1-8735-4601-8acd-04e9f9615ccd",
   "metadata": {},
   "outputs": [
    {
     "name": "stdout",
     "output_type": "stream",
     "text": [
      "user,v27,v28\n",
      "user0,0.2537841741063718,0.4725219862181388\n",
      "user1,0.4810778527830739,0.0786319167096956\n",
      "user2,0.004904066853428257,0.3434039028889927\n",
      "user3,0.7045713577509266,0.35689834052375913\n",
      "user4,0.41586271469651037,0.9700960978855925\n",
      "user5,0.8007234844415386,0.03692566040140699\n",
      "user6,0.11798145197018117,0.368267817548818\n",
      "user7,0.4952975897425108,0.42654906642857726\n",
      "user8,0.6653288204799798,0.313446231144191\n",
      "user9,0.28504358696270937,0.7493597310211866\n",
      "user10,0.7759283260982069,0.3909505895184139\n",
      "user11,0.1238925934372278,0.19601401428670318\n",
      "user12,0.6712875432868881,0.4779527492476682\n",
      "user13,0.8870078995851961,0.3732385206666021\n",
      "user14,0.040853895614664126,0.04240994262733466\n",
      "user15,0.8742151246808288,0.3911840027947241\n",
      "user16,0.15559454391882577,0.6753152510561594\n",
      "user17,0.3356751580588465,0.4761193973489124\n",
      "user18,0.3573400856356008,0.03229923286861136\n",
      "user19,0.5560426397340824,0.5024599144871117\n",
      "user20,0.0018353537561167643,0.887748403003119\n",
      "user21,0.15287021036343185,0.7665668314712526\n",
      "user22,0.07129824582053035,0.32258381242748513\n",
      "user23,0.6856493775956597,0.04575684151719139\n",
      "user24,0.07961426402285166,0.525468280114071\n",
      "user25,0.41992309290392316,0.831794653061631\n",
      "user26,0.046814543978138445,0.3698366256826351\n",
      "user27,0.7424153397854169,0.08181882237749416\n",
      "user28,0.2104652780281978,0.4841957838714106\n",
      "user29,0.9180403664805803,0.6795447852909907\n",
      "user30,0.1494078555692303,0.20277553567760653\n",
      "user31,0.12442173360430298,0.23286618775897294\n",
      "user32,0.05991186331072107,0.4957601940795696\n",
      "user33,0.6355618286768061,0.29349153800063466\n",
      "user34,0.798837362990583,0.1409661485091377\n",
      "user35,0.8413106002096644,0.8227389042027974\n",
      "user36,0.6154810522738426,0.5128235238815348\n",
      "user37,0.748008986369264,0.6527684061611353\n",
      "user38,0.39442268436805283,0.26144222827423647\n",
      "user39,0.867983040738378,0.7819030844566114\n",
      "user40,0.6673313981275159,0.6742095161064826\n",
      "user41,0.008840899716402784,0.39695773078024565\n",
      "user42,0.5585627110591804,0.6741944083005328\n",
      "user43,0.8548979715170609,0.29856561433648265\n",
      "user44,0.9873967540163591,0.6710166993026576\n",
      "user45,0.5939578927214596,0.7586803514932219\n",
      "user46,0.3163607933446434,0.18217173184433244\n",
      "user47,0.24284826130510861,0.5105353962680873\n",
      "user48,0.2503680660115457,0.7089262185362728\n",
      "user49,0.5549910597903781,0.5292004056063095\n",
      "user50,0.4733650794270009,0.6211975134816259\n",
      "user51,0.3381094744658798,0.7657247487557125\n",
      "user52,0.7787783640864753,0.005856995567249279\n",
      "user53,0.030931053388446372,0.3548888459097229\n",
      "user54,0.4619526073455906,0.03366095224272603\n",
      "user55,0.0036805675638884594,0.9919427176188869\n",
      "user56,0.3701955394937052,0.9385400180875552\n",
      "user57,0.7331095468770923,0.9540569736470874\n",
      "user58,0.6237042411470951,0.5065154364678484\n",
      "user59,0.39085437598549744,0.6202073148243382\n",
      "user60,0.6933425801901889,0.46628310715691945\n",
      "user61,0.19198065528323338,0.1938741905684146\n",
      "user62,0.4340788395883026,0.04579889785360125\n",
      "user63,0.03255302356366718,0.2717970264008114\n",
      "user64,0.9212029618969673,0.9347972680938753\n",
      "user65,0.977533986507692,0.8060925406535054\n",
      "user66,0.4111498942985917,0.3215972340160862\n",
      "user67,0.544134426203063,0.4544112443786006\n",
      "user68,0.06142344433821112,0.9869131836341907\n",
      "user69,0.4044027552183812,0.11513518152381785\n",
      "user70,0.9549219106769993,0.4815949791389621\n",
      "user71,0.2720289566613687,0.8783410342158656\n",
      "user72,0.8650539615203617,0.131349351273075\n",
      "user73,0.8273192667254251,0.6914667623338672\n",
      "user74,0.044564197703817365,0.21014602589937514\n",
      "user75,0.759855330556695,0.2720200079578883\n",
      "user76,0.7314181165783353,0.30112293117644484\n",
      "user77,0.28096437247376793,0.14063765611905932\n",
      "user78,0.926611502787663,0.6023126380511473\n",
      "user79,0.03396992519014952,0.9797913589616967\n",
      "user80,0.5107792397983046,0.17093253871971126\n",
      "user81,0.2914457959041973,0.5413117514387737\n",
      "user82,0.7898885430623597,0.35054443727429796\n",
      "user83,0.4719199126851207,0.48761556180402976\n",
      "user84,0.4349228817813573,0.8000530766411367\n",
      "user85,0.31162925866422564,0.8414474194542262\n",
      "user86,0.7874137429271593,0.39135091752773365\n",
      "user87,0.7232422742514089,0.2147688231969641\n",
      "user88,0.058266688793663035,0.5322506580566745\n",
      "user89,0.512622255250436,0.23910495321242475\n",
      "user90,0.9454552934672691,0.544386372431124\n",
      "user91,0.478690825154086,0.8980611050054296\n",
      "user92,0.16849674788568592,0.07755964079086408\n",
      "user93,0.9190014160846727,0.91372921763242\n",
      "user94,0.8561591713645833,0.8817356081942758\n",
      "user95,0.9767176669926086,0.5776181705492918\n",
      "user96,0.28666043992515444,0.1561137340923181\n",
      "user97,0.47443616585304504,0.3322154240070302\n",
      "user98,0.2992500756281242,0.3859691527063951\n",
      "user99,0.13018073805552777,0.33538263260462886\n"
     ]
    }
   ],
   "source": [
    "!cat {filename}"
   ]
  },
  {
   "cell_type": "code",
   "execution_count": 13,
   "id": "72bd5954-9c5d-46ce-ac3a-2c00d9843029",
   "metadata": {},
   "outputs": [
    {
     "data": {
      "text/plain": [
       "'pbalm-cxb-aa-eu'"
      ]
     },
     "execution_count": 13,
     "metadata": {},
     "output_type": "execute_result"
    }
   ],
   "source": [
    "BUCKET = main_config['bucket']\n",
    "BUCKET"
   ]
  },
  {
   "cell_type": "code",
   "execution_count": 14,
   "id": "b1fa733e-a077-4054-84a5-8be3f36bdc3b",
   "metadata": {},
   "outputs": [
    {
     "name": "stdout",
     "output_type": "stream",
     "text": [
      "Copying file://features_user.csv [Content-Type=text/csv]...\n",
      "/ [1 files][  4.4 KiB/  4.4 KiB]                                                \n",
      "Operation completed over 1 objects/4.4 KiB.                                      \n"
     ]
    }
   ],
   "source": [
    "!gsutil cp {filename} gs://{BUCKET}/{filename} "
   ]
  },
  {
   "cell_type": "markdown",
   "id": "e228def0-6b85-4158-8549-abfe049120c4",
   "metadata": {},
   "source": [
    "## Ingest feature data"
   ]
  },
  {
   "cell_type": "code",
   "execution_count": 15,
   "id": "d6902667-c8ff-4475-aa65-f65d37c406c1",
   "metadata": {},
   "outputs": [
    {
     "name": "stdout",
     "output_type": "stream",
     "text": [
      "Batch ingestion for \"user\" entity...\n",
      "done\n"
     ]
    },
    {
     "data": {
      "text/plain": [
       "imported_entity_count: 100\n",
       "imported_feature_value_count: 200"
      ]
     },
     "execution_count": 15,
     "metadata": {},
     "output_type": "execute_result"
    }
   ],
   "source": [
    "gcs_uris = [f'gs://{BUCKET}/{filename}']\n",
    "\n",
    "ingest_entities_csv(PROJECT, REGION, FEATURESTORE_ID, entity, features, gcs_uris)"
   ]
  },
  {
   "cell_type": "code",
   "execution_count": null,
   "id": "41908e48-5883-4e2d-9e1f-8f1b1b2118be",
   "metadata": {},
   "outputs": [],
   "source": []
  }
 ],
 "metadata": {
  "environment": {
   "kernel": "python3",
   "name": "tf2-gpu.2-8.m93",
   "type": "gcloud",
   "uri": "gcr.io/deeplearning-platform-release/tf2-gpu.2-8:m93"
  },
  "kernelspec": {
   "display_name": "Python 3",
   "language": "python",
   "name": "python3"
  },
  "language_info": {
   "codemirror_mode": {
    "name": "ipython",
    "version": 3
   },
   "file_extension": ".py",
   "mimetype": "text/x-python",
   "name": "python",
   "nbconvert_exporter": "python",
   "pygments_lexer": "ipython3",
   "version": "3.7.12"
  }
 },
 "nbformat": 4,
 "nbformat_minor": 5
}
