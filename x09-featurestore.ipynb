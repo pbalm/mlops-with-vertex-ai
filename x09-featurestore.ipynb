{
 "cells": [
  {
   "cell_type": "markdown",
   "id": "a12e6d23-b0bc-463e-885c-ccfedccd9aac",
   "metadata": {},
   "source": [
    "# Feature Store\n",
    "\n",
    "The purpose of this notebook is to:\n",
    "\n",
    "* Create a Feature Store\n",
    "* Create an entity with some features\n",
    "* Batch ingest some feature data\n",
    "* Deploy a Cloud Function that can read this data and feed it to the model\n",
    "\n",
    "## Imports"
   ]
  },
  {
   "cell_type": "code",
   "execution_count": 66,
   "id": "6080f973-5159-4967-acff-8b3add013d57",
   "metadata": {},
   "outputs": [],
   "source": [
    "from google.api_core import operations_v1\n",
    "from google.cloud.aiplatform_v1beta1 import FeaturestoreOnlineServingServiceClient, FeaturestoreServiceClient, FeatureSelector\n",
    "from google.cloud.aiplatform_v1beta1.types import featurestore_online_service as featurestore_online_service_pb2\n",
    "from google.cloud.aiplatform_v1beta1.types import entity_type as entity_type_pb2\n",
    "from google.cloud.aiplatform_v1beta1.types import feature as feature_pb2\n",
    "from google.cloud.aiplatform_v1beta1.types import featurestore as featurestore_pb2\n",
    "from google.cloud.aiplatform_v1beta1.types import featurestore_service as featurestore_service_pb2\n",
    "from google.cloud.aiplatform_v1beta1.types import io as io_pb2\n",
    "from google.cloud.aiplatform_v1beta1.types import ListFeaturestoresRequest, CreateFeaturestoreRequest, Featurestore\n",
    "\n",
    "from google.protobuf.timestamp_pb2 import Timestamp\n",
    "from google.cloud.aiplatform_v1beta1.types import featurestore_monitoring as featurestore_monitoring_pb2\n",
    "from google.protobuf.duration_pb2 import Duration\n",
    "\n",
    "import yaml"
   ]
  },
  {
   "cell_type": "markdown",
   "id": "d299592a-4705-4537-8356-228b05dd65b3",
   "metadata": {},
   "source": [
    "## Configuration"
   ]
  },
  {
   "cell_type": "code",
   "execution_count": 67,
   "id": "b1f0b2ac-442c-4caf-8778-cef2b543bd7a",
   "metadata": {},
   "outputs": [],
   "source": [
    "with open('mainconfig.yaml') as f:\n",
    "    main_config = yaml.safe_load(f)\n",
    "main_config = main_config['personal']"
   ]
  },
  {
   "cell_type": "code",
   "execution_count": 68,
   "id": "4e037bf4-51f5-4da6-a314-fe9670bfe3a2",
   "metadata": {},
   "outputs": [
    {
     "name": "stdout",
     "output_type": "stream",
     "text": [
      "Project ID: pbalm-cxb-aa\n",
      "Region: europe-west4\n"
     ]
    }
   ],
   "source": [
    "PROJECT = main_config['project'] \n",
    "REGION = main_config['region'] \n",
    "\n",
    "SERVICE_ACCOUNT = main_config['service_account']\n",
    "\n",
    "print(\"Project ID:\", PROJECT)\n",
    "print(\"Region:\", REGION)\n",
    "\n",
    "API_ENDPOINT = f\"{REGION}-aiplatform.googleapis.com\"  \n",
    "FEATURESTORE_ID = main_config['featurestore_id']"
   ]
  },
  {
   "cell_type": "code",
   "execution_count": 69,
   "id": "744f7719-ecbd-47c0-8d66-2463f0ba6a8d",
   "metadata": {},
   "outputs": [],
   "source": [
    "admin_client = FeaturestoreServiceClient(\n",
    "    client_options={\"api_endpoint\": API_ENDPOINT})\n",
    "data_client = FeaturestoreOnlineServingServiceClient(\n",
    "    client_options={\"api_endpoint\": API_ENDPOINT})"
   ]
  },
  {
   "cell_type": "code",
   "execution_count": 70,
   "id": "872313b2-38dd-40d3-8c72-22bce8861672",
   "metadata": {},
   "outputs": [
    {
     "name": "stdout",
     "output_type": "stream",
     "text": [
      "Existing feature stores in project pbalm-cxb-aa and region europe-west4:\n",
      "name: \"projects/188940921537/locations/europe-west4/featurestores/creditcards\"\n",
      "create_time {\n",
      "  seconds: 1657035029\n",
      "  nanos: 610160000\n",
      "}\n",
      "update_time {\n",
      "  seconds: 1657035029\n",
      "  nanos: 696023000\n",
      "}\n",
      "etag: \"AMEw9yO-PbGrqGZL4xp1CperXKp3TvgOoS2NRM7ju3Gu41lzSjm2II2URSwBy9SEvEC9\"\n",
      "online_serving_config {\n",
      "}\n",
      "state: STABLE\n",
      "\n",
      "name: \"projects/188940921537/locations/europe-west4/featurestores/creditcards2\"\n",
      "create_time {\n",
      "  seconds: 1657035022\n",
      "  nanos: 511480000\n",
      "}\n",
      "update_time {\n",
      "  seconds: 1657035022\n",
      "  nanos: 553038000\n",
      "}\n",
      "etag: \"AMEw9yNAqFGzMo13ZTgAItY9e921ZaS9shSxi8RuE_WrPcoW1EI7kgDaOBFC_bx3qhau\"\n",
      "online_serving_config {\n",
      "}\n",
      "state: STABLE\n",
      "\n",
      "name: \"projects/188940921537/locations/europe-west4/featurestores/test\"\n",
      "create_time {\n",
      "  seconds: 1657035465\n",
      "  nanos: 984207000\n",
      "}\n",
      "update_time {\n",
      "  seconds: 1657035466\n",
      "  nanos: 28958000\n",
      "}\n",
      "etag: \"AMEw9yP3D37TbhESt51aznRiVNtEO42jXpeDB_7lx6eD4x2fUDyLbMw_eskCSsgUpcQ=\"\n",
      "online_serving_config {\n",
      "  fixed_node_count: 3\n",
      "}\n",
      "state: STABLE\n",
      "\n"
     ]
    }
   ],
   "source": [
    "print(f'Existing feature stores in project {PROJECT} and region {REGION}:')\n",
    "for f in admin_client.list_featurestores(ListFeaturestoresRequest(parent=admin_client.common_location_path(PROJECT, REGION))):\n",
    "      print(f)"
   ]
  },
  {
   "cell_type": "markdown",
   "id": "a81d9b3b-a752-4ddb-8872-ea630b814571",
   "metadata": {},
   "source": [
    "## Move this stuff to source code files"
   ]
  },
  {
   "cell_type": "code",
   "execution_count": 104,
   "id": "a446f126-5d41-4089-856b-f6482db724de",
   "metadata": {},
   "outputs": [],
   "source": [
    "def create_fs(project, region, store_id, store_name=None):\n",
    "    base_path = admin_client.common_location_path(project, region)\n",
    "    \n",
    "    for f in admin_client.list_featurestores(ListFeaturestoresRequest(parent=admin_client.common_location_path(project, region))):\n",
    "        existing_id = f.name.split('/')[-1]\n",
    "        if store_id == existing_id:\n",
    "            print(f'Feature Store \"{store_id}\" already exists in {region}')\n",
    "            return\n",
    "    \n",
    "    if store_name is None:\n",
    "        store_name = f'{base_path}/{store_id}'\n",
    "    \n",
    "    req = CreateFeaturestoreRequest(\n",
    "        parent = base_path,\n",
    "        featurestore = Featurestore(\n",
    "            name=store_name,\n",
    "            online_serving_config=Featurestore.OnlineServingConfig(fixed_node_count=3)),\n",
    "        featurestore_id = store_id)\n",
    "    \n",
    "    lro = admin_client.create_featurestore(req)\n",
    "    name = lro.result()\n",
    "    print(f'Created Feature Store {name} in {region}')\n",
    "    return name\n",
    "\n",
    "\n",
    "def create_entity(project, region, store_id, entity, entity_descr, features, features_descr=None):\n",
    "    \n",
    "    if features_descr is None:\n",
    "        features_descr = features\n",
    "    \n",
    "    if len(features) != len(features_descr):\n",
    "        print(f'ERROR: Got {len(features)} features and {len(features_descr)} descriptions')\n",
    "        return\n",
    "    \n",
    "    print(f'Creating entity {entity} in Feature Store {store_id} ({region})')\n",
    "    \n",
    "    snapshot_analysis = featurestore_monitoring_pb2.FeaturestoreMonitoringConfig.SnapshotAnalysis(\n",
    "                    monitoring_interval=Duration(seconds=3600))  # 1 hour\n",
    "    \n",
    "    lro = admin_client.create_entity_type(\n",
    "        featurestore_service_pb2.CreateEntityTypeRequest(\n",
    "            parent=admin_client.featurestore_path(project, region, store_id),\n",
    "            entity_type_id=entity,\n",
    "            entity_type=entity_type_pb2.EntityType(\n",
    "             description=entity_descr,\n",
    "             monitoring_config=featurestore_monitoring_pb2.FeaturestoreMonitoringConfig(\n",
    "                snapshot_analysis=snapshot_analysis))\n",
    "        )\n",
    "    ).result()\n",
    "    \n",
    "    print(lro)\n",
    "    \n",
    "    def _create_f_request(name, descr):\n",
    "        return featurestore_service_pb2.CreateFeatureRequest(\n",
    "                feature=feature_pb2.Feature(\n",
    "                    value_type=feature_pb2.Feature.ValueType.DOUBLE,\n",
    "                    description=descr,\n",
    "                    monitoring_config=featurestore_monitoring_pb2.FeaturestoreMonitoringConfig(\n",
    "                        snapshot_analysis=snapshot_analysis)),\n",
    "                feature_id=name)\n",
    "    \n",
    "    requests = [_create_f_request(x[0], x[1]) for x in zip(features, features_descr)]\n",
    "    \n",
    "    print(f'\\nCreating features: {\",\".join(features)}')\n",
    "\n",
    "    lro = admin_client.batch_create_features(\n",
    "        parent=admin_client.entity_type_path(PROJECT, REGION, FEATURESTORE_ID, entity),\n",
    "        requests=requests).result()\n",
    "    \n",
    "    return lro\n",
    "\n",
    "\n",
    "def ingest_entities_csv(project, region, store_id, entity, features, gcs_uris):\n",
    "\n",
    "    timestamp = Timestamp()\n",
    "    timestamp.GetCurrentTime()\n",
    "    timestamp.nanos = 0\n",
    "    \n",
    "    specs = [featurestore_service_pb2.ImportFeatureValuesRequest.FeatureSpec(id=f) for f in features]\n",
    "    \n",
    "    import_request_transaction = featurestore_service_pb2.ImportFeatureValuesRequest(\n",
    "        entity_type=admin_client.entity_type_path(project, region, store_id, entity),\n",
    "        csv_source=io_pb2.CsvSource(gcs_source=io_pb2.GcsSource(uris=gcs_uris)),\n",
    "        feature_specs=specs,\n",
    "        entity_id_field=entity,\n",
    "        feature_time=timestamp, # unique timestamp for all\n",
    "        worker_count=5)\n",
    "    \n",
    "    print(f'Ingesting features for \"{entity}\" entity...')\n",
    "    ingestion_lro = admin_client.import_feature_values(import_request_transaction).result()\n",
    "    print('done')\n",
    "    \n",
    "    return ingestion_lro\n",
    "\n",
    "\n",
    "# entity is the name of the entity type you want to read, for example: user\n",
    "# entity_value is the specific instance of the entity that you want to have the feature of, for example a user ID\n",
    "def read_features(project, region, store_id, entity, features, entity_value):\n",
    "    feature_selector = FeatureSelector()\n",
    "    feature_selector.id_matcher.ids = features\n",
    "    \n",
    "    read_request = featurestore_online_service_pb2.ReadFeatureValuesRequest(\n",
    "        entity_type = admin_client.entity_type_path(project, region, store_id, entity),\n",
    "        entity_id = entity_value,\n",
    "        feature_selector=feature_selector)\n",
    "    \n",
    "    res = data_client.read_feature_values(read_request)\n",
    "    values = [d.value.double_value for d in res.entity_view.data]\n",
    "    \n",
    "    # return a dict with { 'feature1': val1, 'feature2': val2, ... }\n",
    "    return {f:v for (f,v) in zip(features, values)}\n"
   ]
  },
  {
   "cell_type": "markdown",
   "id": "070b4fb3-0186-4d1d-87d0-b7fb7dd02be8",
   "metadata": {},
   "source": [
    "## Create Feature Store and entity with features"
   ]
  },
  {
   "cell_type": "code",
   "execution_count": 28,
   "id": "fa460e5f-9f32-47dd-ac8c-418e19703c59",
   "metadata": {},
   "outputs": [
    {
     "name": "stdout",
     "output_type": "stream",
     "text": [
      "Feature Store \"creditcards\" already exists in europe-west4\n"
     ]
    }
   ],
   "source": [
    "create_fs(PROJECT, REGION, FEATURESTORE_ID, \"Feature Store for credit card use case\")"
   ]
  },
  {
   "cell_type": "code",
   "execution_count": 72,
   "id": "a1218e2c-af83-4b51-bd57-678ef6ef46dd",
   "metadata": {},
   "outputs": [
    {
     "data": {
      "text/plain": [
       "name: \"projects/188940921537/locations/europe-west4/featurestores/test\"\n",
       "create_time {\n",
       "  seconds: 1657035465\n",
       "  nanos: 984207000\n",
       "}\n",
       "update_time {\n",
       "  seconds: 1657035466\n",
       "  nanos: 28958000\n",
       "}\n",
       "etag: \"AMEw9yOyDHnppzyRW6XhXJDDjcScpZ7nmneJXMZ14nry8PnwdCT5lxnmsqSBN-hMNXQ=\"\n",
       "online_serving_config {\n",
       "  fixed_node_count: 3\n",
       "}\n",
       "state: STABLE"
      ]
     },
     "execution_count": 72,
     "metadata": {},
     "output_type": "execute_result"
    }
   ],
   "source": [
    "admin_client.get_featurestore(name = admin_client.featurestore_path(PROJECT, REGION, FEATURESTORE_ID))"
   ]
  },
  {
   "cell_type": "code",
   "execution_count": 108,
   "id": "44b4e1aa-c093-4a74-8477-8be70f99139b",
   "metadata": {},
   "outputs": [],
   "source": [
    "entity = 'user'\n",
    "entity_descr = 'User ID'\n",
    "features = ['v27', 'v28']"
   ]
  },
  {
   "cell_type": "code",
   "execution_count": 74,
   "id": "0d9185f4-c5bf-4f55-9405-5bc4f19b34fc",
   "metadata": {},
   "outputs": [
    {
     "name": "stdout",
     "output_type": "stream",
     "text": [
      "Creating entity user in Feature Store test (europe-west4)\n",
      "name: \"projects/188940921537/locations/europe-west4/featurestores/test/entityTypes/user\"\n",
      "\n",
      "\n",
      "Creating features: v27,v28\n"
     ]
    },
    {
     "data": {
      "text/plain": [
       "features {\n",
       "  name: \"projects/188940921537/locations/europe-west4/featurestores/test/entityTypes/user/features/v27\"\n",
       "}\n",
       "features {\n",
       "  name: \"projects/188940921537/locations/europe-west4/featurestores/test/entityTypes/user/features/v28\"\n",
       "}"
      ]
     },
     "execution_count": 74,
     "metadata": {},
     "output_type": "execute_result"
    }
   ],
   "source": [
    "create_entity(PROJECT, REGION, FEATURESTORE_ID, entity, entity_descr, features)"
   ]
  },
  {
   "cell_type": "markdown",
   "id": "0e961e97-3688-41b6-a7e8-bb80cd41141c",
   "metadata": {},
   "source": [
    "### Create the feature data"
   ]
  },
  {
   "cell_type": "code",
   "execution_count": 75,
   "id": "95c67eb0-b478-4321-a588-be6809f67bd6",
   "metadata": {},
   "outputs": [],
   "source": [
    "import random\n",
    "\n",
    "filename = f'features_{entity}.csv'\n",
    "\n",
    "with open(filename, 'w') as f:\n",
    "    line = f'{entity},{\",\".join(features)}\\n'\n",
    "    f.write(line)\n",
    "    for i in range(100):\n",
    "        f.write(f'user{i},{random.random()},{random.random()}\\n')"
   ]
  },
  {
   "cell_type": "code",
   "execution_count": 76,
   "id": "c93334b1-8735-4601-8acd-04e9f9615ccd",
   "metadata": {
    "tags": []
   },
   "outputs": [
    {
     "name": "stdout",
     "output_type": "stream",
     "text": [
      "user,v27,v28\n",
      "user0,0.05278513767900106,0.2733072156716301\n",
      "user1,0.8876808002457176,0.37118132639832957\n",
      "user2,0.6484678858556028,0.884864632636418\n",
      "user3,0.6538130756571675,0.016524449856715306\n",
      "user4,0.03522969451299729,0.6717350357901456\n",
      "user5,0.6659553008066724,0.3192681293317895\n",
      "user6,0.4971542465546237,0.13951232914755796\n",
      "user7,0.5524238508287338,0.28355391635374705\n",
      "user8,0.6484548871018954,0.8760327594578065\n",
      "user9,0.4915989114590842,0.23367455263702874\n",
      "user10,0.49673724207577596,0.7815007872377936\n",
      "user11,0.3871640207275481,0.7227514344241577\n",
      "user12,0.04762816971189521,0.3967234982055644\n",
      "user13,0.628006736594944,0.5886541010985723\n",
      "user14,0.816720419139756,0.8804032399086309\n",
      "user15,0.7546682954880937,0.9836800765345006\n",
      "user16,0.9976384063954794,0.9084957628088213\n",
      "user17,0.2175272730081298,0.8620769974508634\n",
      "user18,0.9504168066705266,0.024318760115989546\n",
      "user19,0.4979103297647449,0.8880661928433115\n",
      "user20,0.7542035168199034,0.8375506772064244\n",
      "user21,0.5703134504084629,0.17776711934945977\n",
      "user22,0.3164841605759746,0.9531195300339332\n",
      "user23,0.288949221480167,0.5326451139672863\n",
      "user24,0.4727869124488584,0.07630240590726389\n",
      "user25,0.6840913921323167,0.4722007624326031\n",
      "user26,0.9521520729597913,0.0983624619440282\n",
      "user27,0.8865183717439367,0.333702121716253\n",
      "user28,0.02479958354128753,0.25721743920436624\n",
      "user29,0.39569229175765375,0.668015551377095\n",
      "user30,0.323567175918689,0.7420376892211569\n",
      "user31,0.3036646878342085,0.8346479202633824\n",
      "user32,0.23288023312587336,0.21025494742994044\n",
      "user33,0.5261354265405884,0.36360637070445445\n",
      "user34,0.11445491403064845,0.6113181913477738\n",
      "user35,0.6617414825198273,0.37531345762428936\n",
      "user36,0.4860776781161722,0.8796714555012146\n",
      "user37,0.18350073443764625,0.9682922474116487\n",
      "user38,0.06692494337122079,0.7382280325363475\n",
      "user39,0.18023383132414528,0.4121134168774264\n",
      "user40,0.5000100653372899,0.9790139056881958\n",
      "user41,0.824856053091926,0.05504633086800226\n",
      "user42,0.6969305120562397,0.10090606185003093\n",
      "user43,0.6609614012839946,0.8215661403173997\n",
      "user44,0.7235278249763586,0.768631325843436\n",
      "user45,0.5442385850966432,0.8027306651545943\n",
      "user46,0.16275787065316594,0.8916403683424898\n",
      "user47,0.9910402226411933,0.3925668064778701\n",
      "user48,0.04660195859240257,0.581611740816775\n",
      "user49,0.7296084029872345,0.25687402424104966\n",
      "user50,0.39307317526153496,0.558810498803071\n",
      "user51,0.3231949023231123,0.6760006484979971\n",
      "user52,0.6610246268734827,0.8368332825565122\n",
      "user53,0.8299219191496491,0.1263986684011824\n",
      "user54,0.7505660871419713,0.18650829250944478\n",
      "user55,0.12182763358801052,0.674142383478978\n",
      "user56,0.9408538903992335,0.16024918116511244\n",
      "user57,0.7510925452293793,0.33066191485484353\n",
      "user58,0.3462006873316751,0.13753981183050445\n",
      "user59,0.3413099973374083,0.45998406456506824\n",
      "user60,0.5797565402524285,0.7224821548505452\n",
      "user61,0.3798417339073312,0.49048892291020607\n",
      "user62,0.4855119013551401,0.5242651774512292\n",
      "user63,0.940954530956785,0.2039091122949227\n",
      "user64,0.5663674412602117,0.1365788897372302\n",
      "user65,0.2187151573020807,0.3262568169056539\n",
      "user66,0.8012071765077843,0.11937837396077455\n",
      "user67,0.44570238571282783,0.2823438823523431\n",
      "user68,0.03455430841602325,0.6349603376151274\n",
      "user69,0.6629274553242928,0.6984514804975416\n",
      "user70,0.011542408864048115,0.07231921296425747\n",
      "user71,0.09546120108525769,0.6623231014846132\n",
      "user72,0.3843550928492063,0.056716323455734186\n",
      "user73,0.7376893189420394,0.4494849550654221\n",
      "user74,0.39083934549252075,0.81640555299892\n",
      "user75,0.9992068685662393,0.6829358047307053\n",
      "user76,0.4372154532516781,0.7926828417167305\n",
      "user77,0.15449397137999554,0.3000676789157124\n",
      "user78,0.1382386864793934,0.38745918421597114\n",
      "user79,0.26147796904431975,0.2367307226037857\n",
      "user80,0.12594385357813997,0.3556414804514565\n",
      "user81,0.8435775696084481,0.8909717489645886\n",
      "user82,0.5124368148666556,0.18083703999968836\n",
      "user83,0.855782464490978,0.25847720354113846\n",
      "user84,0.6214943215953311,0.9506116520872893\n",
      "user85,0.12978299323657005,0.7036604095082315\n",
      "user86,0.8591683258267706,0.9451351030018013\n",
      "user87,0.7412700325366199,0.5887680194093514\n",
      "user88,0.6029402234470657,0.6475243844345764\n",
      "user89,0.19363615195795147,0.43605483120078603\n",
      "user90,0.1799766660815415,0.5034024037219565\n",
      "user91,0.9104607795780705,0.7522889373632377\n",
      "user92,0.47501841324168304,0.7189647069679109\n",
      "user93,0.047793919967654586,0.07699106480235007\n",
      "user94,0.5024908053355615,0.5322711139626671\n",
      "user95,0.4984407680204491,0.23219261975122873\n",
      "user96,0.07877193063213983,0.696556036005365\n",
      "user97,0.94991781533993,0.5263697093647477\n",
      "user98,0.4975465905451488,0.30645728591572285\n",
      "user99,0.5172086169388093,0.8556641244117467\n"
     ]
    }
   ],
   "source": [
    "!cat {filename}"
   ]
  },
  {
   "cell_type": "code",
   "execution_count": 77,
   "id": "72bd5954-9c5d-46ce-ac3a-2c00d9843029",
   "metadata": {},
   "outputs": [
    {
     "data": {
      "text/plain": [
       "'pbalm-cxb-aa-eu'"
      ]
     },
     "execution_count": 77,
     "metadata": {},
     "output_type": "execute_result"
    }
   ],
   "source": [
    "BUCKET = main_config['bucket']\n",
    "BUCKET"
   ]
  },
  {
   "cell_type": "code",
   "execution_count": 78,
   "id": "b1fa733e-a077-4054-84a5-8be3f36bdc3b",
   "metadata": {},
   "outputs": [
    {
     "name": "stdout",
     "output_type": "stream",
     "text": [
      "Copying file://features_user.csv [Content-Type=text/csv]...\n",
      "/ [1 files][  4.4 KiB/  4.4 KiB]                                                \n",
      "Operation completed over 1 objects/4.4 KiB.                                      \n"
     ]
    }
   ],
   "source": [
    "!gsutil cp {filename} gs://{BUCKET}/{filename} "
   ]
  },
  {
   "cell_type": "markdown",
   "id": "e228def0-6b85-4158-8549-abfe049120c4",
   "metadata": {},
   "source": [
    "## Ingest feature data"
   ]
  },
  {
   "cell_type": "code",
   "execution_count": 79,
   "id": "d6902667-c8ff-4475-aa65-f65d37c406c1",
   "metadata": {},
   "outputs": [
    {
     "name": "stdout",
     "output_type": "stream",
     "text": [
      "Ingesting features for \"user\" entity...\n",
      "done\n"
     ]
    },
    {
     "data": {
      "text/plain": [
       "imported_entity_count: 100\n",
       "imported_feature_value_count: 200"
      ]
     },
     "execution_count": 79,
     "metadata": {},
     "output_type": "execute_result"
    }
   ],
   "source": [
    "gcs_uris = [f'gs://{BUCKET}/{filename}']\n",
    "\n",
    "ingest_entities_csv(PROJECT, REGION, FEATURESTORE_ID, entity, features, gcs_uris)"
   ]
  },
  {
   "cell_type": "markdown",
   "id": "6b4397d4-6586-4541-a85b-42b7c84ffd31",
   "metadata": {},
   "source": [
    "## Test Feature Store: Read values"
   ]
  },
  {
   "cell_type": "code",
   "execution_count": 109,
   "id": "5edad53f-e3fb-4c0b-900d-e6a89458bd72",
   "metadata": {},
   "outputs": [
    {
     "data": {
      "text/plain": [
       "{'user90': {'v27': 0.1799766660815415, 'v28': 0.5034024037219565},\n",
       " 'user91': {'v27': 0.9104607795780705, 'v28': 0.7522889373632377},\n",
       " 'user92': {'v27': 0.47501841324168304, 'v28': 0.7189647069679109},\n",
       " 'user93': {'v27': 0.047793919967654586, 'v28': 0.07699106480235007},\n",
       " 'user94': {'v27': 0.5024908053355615, 'v28': 0.5322711139626671},\n",
       " 'user95': {'v27': 0.4984407680204491, 'v28': 0.23219261975122873},\n",
       " 'user96': {'v27': 0.07877193063213983, 'v28': 0.696556036005365},\n",
       " 'user97': {'v27': 0.94991781533993, 'v28': 0.5263697093647477},\n",
       " 'user98': {'v27': 0.4975465905451488, 'v28': 0.30645728591572285},\n",
       " 'user99': {'v27': 0.5172086169388093, 'v28': 0.8556641244117467}}"
      ]
     },
     "execution_count": 109,
     "metadata": {},
     "output_type": "execute_result"
    }
   ],
   "source": [
    "features_data = {}\n",
    "for i in range(90,100):\n",
    "    entity_id = f'user{i}'\n",
    "    features_data[entity_id] = read_features(PROJECT, REGION, FEATURESTORE_ID, entity, features, entity_id)\n",
    "\n",
    "features_data"
   ]
  },
  {
   "cell_type": "code",
   "execution_count": 110,
   "id": "21c880ad-d5fc-45ac-ac41-89d30cd224c6",
   "metadata": {},
   "outputs": [
    {
     "data": {
      "text/plain": [
       "'test'"
      ]
     },
     "execution_count": 110,
     "metadata": {},
     "output_type": "execute_result"
    }
   ],
   "source": [
    "FEATURESTORE_ID"
   ]
  },
  {
   "cell_type": "code",
   "execution_count": 39,
   "id": "ea507bd6-a735-40a6-999d-7e85372d446c",
   "metadata": {},
   "outputs": [
    {
     "data": {
      "text/plain": [
       "[<ValueType.VALUE_TYPE_UNSPECIFIED: 0>,\n",
       " <ValueType.BOOL: 1>,\n",
       " <ValueType.BOOL_ARRAY: 2>,\n",
       " <ValueType.DOUBLE: 3>,\n",
       " <ValueType.DOUBLE_ARRAY: 4>,\n",
       " <ValueType.INT64: 9>,\n",
       " <ValueType.INT64_ARRAY: 10>,\n",
       " <ValueType.STRING: 11>,\n",
       " <ValueType.STRING_ARRAY: 12>,\n",
       " <ValueType.BYTES: 13>]"
      ]
     },
     "execution_count": 39,
     "metadata": {},
     "output_type": "execute_result"
    }
   ],
   "source": [
    "list(feature_pb2.Feature.ValueType)"
   ]
  },
  {
   "cell_type": "code",
   "execution_count": 83,
   "id": "53ed8e98-b1d6-4295-aed1-145a870f3791",
   "metadata": {},
   "outputs": [
    {
     "data": {
      "text/plain": [
       "'test'"
      ]
     },
     "execution_count": 83,
     "metadata": {},
     "output_type": "execute_result"
    }
   ],
   "source": [
    "FEATURESTORE_ID"
   ]
  },
  {
   "cell_type": "code",
   "execution_count": 84,
   "id": "a0f79a59-3bab-462a-93e1-a55057e256c4",
   "metadata": {},
   "outputs": [
    {
     "data": {
      "text/plain": [
       "'europe-west4'"
      ]
     },
     "execution_count": 84,
     "metadata": {},
     "output_type": "execute_result"
    }
   ],
   "source": [
    "REGION"
   ]
  },
  {
   "cell_type": "code",
   "execution_count": null,
   "id": "f7a74edf-1f36-43cd-8869-797e50edd447",
   "metadata": {},
   "outputs": [],
   "source": []
  }
 ],
 "metadata": {
  "environment": {
   "kernel": "python3",
   "name": "tf2-gpu.2-8.m93",
   "type": "gcloud",
   "uri": "gcr.io/deeplearning-platform-release/tf2-gpu.2-8:m93"
  },
  "kernelspec": {
   "display_name": "Python 3",
   "language": "python",
   "name": "python3"
  },
  "language_info": {
   "codemirror_mode": {
    "name": "ipython",
    "version": 3
   },
   "file_extension": ".py",
   "mimetype": "text/x-python",
   "name": "python",
   "nbconvert_exporter": "python",
   "pygments_lexer": "ipython3",
   "version": "3.7.12"
  }
 },
 "nbformat": 4,
 "nbformat_minor": 5
}
