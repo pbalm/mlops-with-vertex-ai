{
 "cells": [
  {
   "cell_type": "markdown",
   "id": "4004af63",
   "metadata": {},
   "source": [
    "# 07 - Prediction Serving\n",
    "\n",
    "The purpose of the notebook is to show how to use the deployed model for online and batch prediction.\n",
    "The notebook covers the following tasks:\n",
    "1. Test the endpoints for online prediction.\n",
    "2. Use the uploaded custom model for batch prediction.\n",
    "3. Run a the batch prediction pipeline using `Vertex Pipelines`."
   ]
  },
  {
   "cell_type": "markdown",
   "id": "3dad1f75",
   "metadata": {},
   "source": [
    "## Setup"
   ]
  },
  {
   "cell_type": "markdown",
   "id": "6d02a9d5",
   "metadata": {},
   "source": [
    "### Import libraries"
   ]
  },
  {
   "cell_type": "code",
   "execution_count": 2,
   "id": "c7f3ce81",
   "metadata": {},
   "outputs": [],
   "source": [
    "import os\n",
    "from datetime import datetime\n",
    "import tensorflow as tf\n",
    "\n",
    "from google.cloud import aiplatform as vertex_ai"
   ]
  },
  {
   "cell_type": "markdown",
   "id": "8e73bc25",
   "metadata": {},
   "source": [
    "### Setup Google Cloud project"
   ]
  },
  {
   "cell_type": "code",
   "execution_count": 9,
   "id": "29ea9b0a",
   "metadata": {},
   "outputs": [
    {
     "name": "stdout",
     "output_type": "stream",
     "text": [
      "Project ID: pbalm-cxb-aa\n",
      "Region: europe-west4\n",
      "Bucket name: pbalm-cxb-aa-eu\n",
      "Service Account: pbalm@google.com\n"
     ]
    }
   ],
   "source": [
    "PROJECT = 'pbalm-cxb-aa'\n",
    "REGION = 'europe-west4' \n",
    "BUCKET = PROJECT + '-eu'\n",
    "SERVICE_ACCOUNT = \"188940921537-compute@developer.gserviceaccount.com\"\n",
    "\n",
    "if PROJECT == \"\" or PROJECT is None or PROJECT == \"[your-project-id]\":\n",
    "    # Get your GCP project id from gcloud\n",
    "    shell_output = !gcloud config list --format 'value(core.project)' 2>/dev/null\n",
    "    PROJECT = shell_output[0]\n",
    "    \n",
    "if BUCKET == \"\" or BUCKET is None or BUCKET == \"[your-bucket-name]\":\n",
    "    # Get your bucket name to GCP project id\n",
    "    BUCKET = PROJECT\n",
    "    # Try to create the bucket if it doesn't exists\n",
    "    ! gsutil mb -l $REGION gs://$BUCKET\n",
    "    print(\"\")\n",
    "\n",
    "if SERVICE_ACCOUNT == \"\" or SERVICE_ACCOUNT is None or SERVICE_ACCOUNT == \"[your-service-account]\":\n",
    "    # Get your GCP project id from gcloud\n",
    "    shell_output = !gcloud config list --format 'value(core.account)' 2>/dev/null\n",
    "    SERVICE_ACCOUNT = shell_output[0]\n",
    "    \n",
    "print(\"Project ID:\", PROJECT)\n",
    "print(\"Region:\", REGION)\n",
    "print(\"Bucket name:\", BUCKET)\n",
    "print(\"Service Account:\", SERVICE_ACCOUNT)"
   ]
  },
  {
   "cell_type": "markdown",
   "id": "ecba79b0",
   "metadata": {},
   "source": [
    "### Set configurations"
   ]
  },
  {
   "cell_type": "code",
   "execution_count": 37,
   "id": "537732be",
   "metadata": {},
   "outputs": [],
   "source": [
    "VERSION = 'v02'\n",
    "DATASET_DISPLAY_NAME = 'creditcards'\n",
    "MODEL_DISPLAY_NAME = f'{DATASET_DISPLAY_NAME}-classifier-{VERSION}'\n",
    "ENDPOINT_DISPLAY_NAME = f'{DATASET_DISPLAY_NAME}-classifier'\n",
    "\n",
    "SERVE_BQ_DATASET_NAME = 'vertex_eu'\n",
    "SERVE_BQ_TABLE_NAME = 'creditcards_ml' # Change to your serving BigQuery table name."
   ]
  },
  {
   "cell_type": "markdown",
   "id": "4e508dd0",
   "metadata": {},
   "source": [
    "## 1. Making Online Predicitons\n"
   ]
  },
  {
   "cell_type": "code",
   "execution_count": 38,
   "id": "38be76f5",
   "metadata": {},
   "outputs": [],
   "source": [
    "vertex_ai.init(\n",
    "    project=PROJECT,\n",
    "    location=REGION,\n",
    "    staging_bucket=BUCKET\n",
    ")\n",
    "\n",
    "endpoint_name = vertex_ai.Endpoint.list(\n",
    "    filter=f'display_name={ENDPOINT_DISPLAY_NAME}', \n",
    "    order_by=\"update_time\")[-1].gca_resource.name\n",
    "\n",
    "endpoint = vertex_ai.Endpoint(endpoint_name)"
   ]
  },
  {
   "cell_type": "code",
   "execution_count": 39,
   "id": "f6b8053d",
   "metadata": {},
   "outputs": [],
   "source": [
    "test_instances = [{\n",
    "    'V1': [-0.906611],\n",
    "    'V2': [-0.906611],\n",
    "    'V3': [-0.906611],\n",
    "    'V4': [-0.906611],\n",
    "    'V5': [-0.906611],\n",
    "    'V6': [-0.906611],\n",
    "    'V7': [-0.906611],\n",
    "    'V8': [-0.906611],\n",
    "    'V9': [-0.906611],\n",
    "    'V10': [-0.906611],\n",
    "    'V11': [-0.906611],\n",
    "    'V12': [-0.906611],\n",
    "    'V13': [-0.906611],\n",
    "    'V14': [-0.906611],\n",
    "    'V15': [-0.906611],\n",
    "    'V16': [-0.906611],\n",
    "    'V17': [-0.906611],\n",
    "    'V18': [-0.906611],\n",
    "    'V19': [-0.906611],\n",
    "    'V20': [-0.906611],\n",
    "    'V21': [-0.906611],\n",
    "    'V22': [-0.906611],\n",
    "    'V23': [-0.906611],\n",
    "    'V24': [-0.906611],\n",
    "    'V25': [-0.906611],\n",
    "    'V26': [-0.906611],\n",
    "    'V27': [-0.906611],\n",
    "    'V28': [-0.906611],\n",
    "    'Amount': [15.99]\n",
    "}]\n"
   ]
  },
  {
   "cell_type": "code",
   "execution_count": 40,
   "id": "f7cb447e",
   "metadata": {},
   "outputs": [
    {
     "name": "stdout",
     "output_type": "stream",
     "text": [
      "{'classes': ['legit', 'fraudulent'], 'scores': [0.580836713, 0.419163287]}\n"
     ]
    }
   ],
   "source": [
    "predictions = endpoint.predict(test_instances).predictions\n",
    "\n",
    "for prediction in predictions:\n",
    "    print(prediction)"
   ]
  },
  {
   "cell_type": "code",
   "execution_count": 41,
   "id": "330d9dfc",
   "metadata": {},
   "outputs": [
    {
     "name": "stdout",
     "output_type": "stream",
     "text": [
      "attributions {\n",
      "  baseline_output_value: 0.6099663972854614\n",
      "  instance_output_value: 0.5808367133140564\n",
      "  feature_attributions {\n",
      "    struct_value {\n",
      "      fields {\n",
      "        key: \"Amount\"\n",
      "        value {\n",
      "          list_value {\n",
      "            values {\n",
      "              number_value: -0.0299752414226532\n",
      "            }\n",
      "          }\n",
      "        }\n",
      "      }\n",
      "      fields {\n",
      "        key: \"V1\"\n",
      "        value {\n",
      "          list_value {\n",
      "            values {\n",
      "              number_value: 6.837844848632813e-05\n",
      "            }\n",
      "          }\n",
      "        }\n",
      "      }\n",
      "      fields {\n",
      "        key: \"V10\"\n",
      "        value {\n",
      "          list_value {\n",
      "            values {\n",
      "              number_value: -0.0001080513000488281\n",
      "            }\n",
      "          }\n",
      "        }\n",
      "      }\n",
      "      fields {\n",
      "        key: \"V11\"\n",
      "        value {\n",
      "          list_value {\n",
      "            values {\n",
      "              number_value: 0.0001684725284576416\n",
      "            }\n",
      "          }\n",
      "        }\n",
      "      }\n",
      "      fields {\n",
      "        key: \"V12\"\n",
      "        value {\n",
      "          list_value {\n",
      "            values {\n",
      "              number_value: 3.741979598999023e-05\n",
      "            }\n",
      "          }\n",
      "        }\n",
      "      }\n",
      "      fields {\n",
      "        key: \"V13\"\n",
      "        value {\n",
      "          list_value {\n",
      "            values {\n",
      "              number_value: -0.000101083517074585\n",
      "            }\n",
      "          }\n",
      "        }\n",
      "      }\n",
      "      fields {\n",
      "        key: \"V14\"\n",
      "        value {\n",
      "          list_value {\n",
      "            values {\n",
      "              number_value: -0.0002253353595733643\n",
      "            }\n",
      "          }\n",
      "        }\n",
      "      }\n",
      "      fields {\n",
      "        key: \"V15\"\n",
      "        value {\n",
      "          list_value {\n",
      "            values {\n",
      "              number_value: -0.001017987728118896\n",
      "            }\n",
      "          }\n",
      "        }\n",
      "      }\n",
      "      fields {\n",
      "        key: \"V16\"\n",
      "        value {\n",
      "          list_value {\n",
      "            values {\n",
      "              number_value: -0.0001254558563232422\n",
      "            }\n",
      "          }\n",
      "        }\n",
      "      }\n",
      "      fields {\n",
      "        key: \"V17\"\n",
      "        value {\n",
      "          list_value {\n",
      "            values {\n",
      "              number_value: 0.0001109778881072998\n",
      "            }\n",
      "          }\n",
      "        }\n",
      "      }\n",
      "      fields {\n",
      "        key: \"V18\"\n",
      "        value {\n",
      "          list_value {\n",
      "            values {\n",
      "              number_value: 0.0001046061515808105\n",
      "            }\n",
      "          }\n",
      "        }\n",
      "      }\n",
      "      fields {\n",
      "        key: \"V19\"\n",
      "        value {\n",
      "          list_value {\n",
      "            values {\n",
      "              number_value: 0.000171661376953125\n",
      "            }\n",
      "          }\n",
      "        }\n",
      "      }\n",
      "      fields {\n",
      "        key: \"V2\"\n",
      "        value {\n",
      "          list_value {\n",
      "            values {\n",
      "              number_value: 3.246665000915528e-05\n",
      "            }\n",
      "          }\n",
      "        }\n",
      "      }\n",
      "      fields {\n",
      "        key: \"V20\"\n",
      "        value {\n",
      "          list_value {\n",
      "            values {\n",
      "              number_value: 0.0004324138164520264\n",
      "            }\n",
      "          }\n",
      "        }\n",
      "      }\n",
      "      fields {\n",
      "        key: \"V21\"\n",
      "        value {\n",
      "          list_value {\n",
      "            values {\n",
      "              number_value: -0.0001774072647094727\n",
      "            }\n",
      "          }\n",
      "        }\n",
      "      }\n",
      "      fields {\n",
      "        key: \"V22\"\n",
      "        value {\n",
      "          list_value {\n",
      "            values {\n",
      "              number_value: 8.6212158203125e-05\n",
      "            }\n",
      "          }\n",
      "        }\n",
      "      }\n",
      "      fields {\n",
      "        key: \"V23\"\n",
      "        value {\n",
      "          list_value {\n",
      "            values {\n",
      "              number_value: -0.0002772390842437744\n",
      "            }\n",
      "          }\n",
      "        }\n",
      "      }\n",
      "      fields {\n",
      "        key: \"V24\"\n",
      "        value {\n",
      "          list_value {\n",
      "            values {\n",
      "              number_value: -0.0006273627281188965\n",
      "            }\n",
      "          }\n",
      "        }\n",
      "      }\n",
      "      fields {\n",
      "        key: \"V25\"\n",
      "        value {\n",
      "          list_value {\n",
      "            values {\n",
      "              number_value: 0.0004054069519042969\n",
      "            }\n",
      "          }\n",
      "        }\n",
      "      }\n",
      "      fields {\n",
      "        key: \"V26\"\n",
      "        value {\n",
      "          list_value {\n",
      "            values {\n",
      "              number_value: 0.001222771406173706\n",
      "            }\n",
      "          }\n",
      "        }\n",
      "      }\n",
      "      fields {\n",
      "        key: \"V27\"\n",
      "        value {\n",
      "          list_value {\n",
      "            values {\n",
      "              number_value: 0.0001970469951629639\n",
      "            }\n",
      "          }\n",
      "        }\n",
      "      }\n",
      "      fields {\n",
      "        key: \"V28\"\n",
      "        value {\n",
      "          list_value {\n",
      "            values {\n",
      "              number_value: -5.183219909667969e-05\n",
      "            }\n",
      "          }\n",
      "        }\n",
      "      }\n",
      "      fields {\n",
      "        key: \"V3\"\n",
      "        value {\n",
      "          list_value {\n",
      "            values {\n",
      "              number_value: 3.928542137145996e-05\n",
      "            }\n",
      "          }\n",
      "        }\n",
      "      }\n",
      "      fields {\n",
      "        key: \"V4\"\n",
      "        value {\n",
      "          list_value {\n",
      "            values {\n",
      "              number_value: 0.0003175556659698486\n",
      "            }\n",
      "          }\n",
      "        }\n",
      "      }\n",
      "      fields {\n",
      "        key: \"V5\"\n",
      "        value {\n",
      "          list_value {\n",
      "            values {\n",
      "              number_value: 7.718801498413086e-06\n",
      "            }\n",
      "          }\n",
      "        }\n",
      "      }\n",
      "      fields {\n",
      "        key: \"V6\"\n",
      "        value {\n",
      "          list_value {\n",
      "            values {\n",
      "              number_value: 0.0001825690269470215\n",
      "            }\n",
      "          }\n",
      "        }\n",
      "      }\n",
      "      fields {\n",
      "        key: \"V7\"\n",
      "        value {\n",
      "          list_value {\n",
      "            values {\n",
      "              number_value: 0.0002971053123474121\n",
      "            }\n",
      "          }\n",
      "        }\n",
      "      }\n",
      "      fields {\n",
      "        key: \"V8\"\n",
      "        value {\n",
      "          list_value {\n",
      "            values {\n",
      "              number_value: -0.0001673340797424316\n",
      "            }\n",
      "          }\n",
      "        }\n",
      "      }\n",
      "      fields {\n",
      "        key: \"V9\"\n",
      "        value {\n",
      "          list_value {\n",
      "            values {\n",
      "              number_value: -0.0001574218273162842\n",
      "            }\n",
      "          }\n",
      "        }\n",
      "      }\n",
      "    }\n",
      "  }\n",
      "  output_index: 0\n",
      "  approximation_error: 0.0012432297299456632\n",
      "  output_name: \"scores\"\n",
      "}\n",
      "\n"
     ]
    }
   ],
   "source": [
    "explanations = endpoint.explain(test_instances).explanations\n",
    "\n",
    "for explanation in explanations:\n",
    "    print(explanation)"
   ]
  },
  {
   "cell_type": "markdown",
   "id": "ddc90ffa",
   "metadata": {},
   "source": [
    "## 2. Batch Prediction"
   ]
  },
  {
   "cell_type": "code",
   "execution_count": 42,
   "id": "046757e2",
   "metadata": {},
   "outputs": [],
   "source": [
    "WORKSPACE = f\"gs://{BUCKET}/{DATASET_DISPLAY_NAME}/\"\n",
    "SERVING_DATA_DIR = os.path.join(WORKSPACE, 'serving_data')\n",
    "SERVING_INPUT_DATA_DIR = os.path.join(SERVING_DATA_DIR, 'input_data')\n",
    "SERVING_OUTPUT_DATA_DIR = os.path.join(SERVING_DATA_DIR, 'output_predictions')"
   ]
  },
  {
   "cell_type": "code",
   "execution_count": 43,
   "id": "0e8fbc4d",
   "metadata": {},
   "outputs": [
    {
     "name": "stdout",
     "output_type": "stream",
     "text": [
      "Removing previous serving data...\n",
      "Creating serving data directory...\n",
      "Serving data directory is ready.\n"
     ]
    }
   ],
   "source": [
    "if tf.io.gfile.exists(SERVING_DATA_DIR):\n",
    "    print(\"Removing previous serving data...\")\n",
    "    tf.io.gfile.rmtree(SERVING_DATA_DIR)\n",
    "    \n",
    "print(\"Creating serving data directory...\")\n",
    "tf.io.gfile.mkdir(SERVING_DATA_DIR)\n",
    "print(\"Serving data directory is ready.\")"
   ]
  },
  {
   "cell_type": "markdown",
   "id": "6f7b60fa",
   "metadata": {},
   "source": [
    "### Extract serving data to Cloud Storage as JSONL"
   ]
  },
  {
   "cell_type": "code",
   "execution_count": 44,
   "id": "04bb69ff",
   "metadata": {},
   "outputs": [],
   "source": [
    "from src.common import datasource_utils\n",
    "from src.preprocessing import etl"
   ]
  },
  {
   "cell_type": "code",
   "execution_count": 45,
   "id": "dfd4cf91",
   "metadata": {},
   "outputs": [
    {
     "name": "stdout",
     "output_type": "stream",
     "text": [
      "\n",
      "    SELECT *\n",
      "    \n",
      "    EXCEPT (Time, ML_use, Class)\n",
      "    FROM vertex_eu.creditcards_ml \n",
      "    LIMIT 10000\n"
     ]
    }
   ],
   "source": [
    "LIMIT = 10000\n",
    "\n",
    "sql_query = datasource_utils.get_serving_source_query(\n",
    "    bq_dataset_name=SERVE_BQ_DATASET_NAME, \n",
    "    bq_table_name=SERVE_BQ_TABLE_NAME,\n",
    "    limit=LIMIT\n",
    ")\n",
    "\n",
    "print(sql_query)"
   ]
  },
  {
   "cell_type": "code",
   "execution_count": 46,
   "id": "5f5afb73",
   "metadata": {},
   "outputs": [],
   "source": [
    "job_name = f\"extract-{DATASET_DISPLAY_NAME}-serving-{datetime.now().strftime('%Y%m%d%H%M%S')}\"\n",
    "\n",
    "args = {\n",
    "    'job_name': job_name,\n",
    "    #'runner': 'DataflowRunner',\n",
    "    'sql_query': sql_query,\n",
    "    'exported_data_prefix': os.path.join(SERVING_INPUT_DATA_DIR, \"data-\"),\n",
    "    'temporary_dir': os.path.join(WORKSPACE, 'tmp'),\n",
    "    'gcs_location': os.path.join(WORKSPACE, 'bq_tmp'),\n",
    "    'project': PROJECT,\n",
    "    'region': REGION,\n",
    "    'setup_file': './setup.py'\n",
    "}"
   ]
  },
  {
   "cell_type": "code",
   "execution_count": 47,
   "id": "588e1949",
   "metadata": {},
   "outputs": [
    {
     "name": "stderr",
     "output_type": "stream",
     "text": [
      "WARNING:apache_beam.options.pipeline_options:Discarding invalid overrides: {'sql_query': '\\n    SELECT *\\n    \\n    EXCEPT (Time, ML_use, Class)\\n    FROM vertex_eu.creditcards_ml \\n    LIMIT 10000', 'exported_data_prefix': 'gs://pbalm-cxb-aa-eu/creditcards/serving_data/input_data/data-', 'temporary_dir': 'gs://pbalm-cxb-aa-eu/creditcards/tmp', 'gcs_location': 'gs://pbalm-cxb-aa-eu/creditcards/bq_tmp'}\n",
      "WARNING:root:Make sure that locally built Python SDK docker image has Python 3.7 interpreter.\n"
     ]
    },
    {
     "name": "stdout",
     "output_type": "stream",
     "text": [
      "Data extraction started...\n"
     ]
    },
    {
     "name": "stderr",
     "output_type": "stream",
     "text": [
      "WARNING:apache_beam.io.gcp.bigquery_tools:Dataset pbalm-cxb-aa:beam_temp_dataset_859bf494534d4a1db1637c8b46330216 does not exist so we will create it as temporary with location=EU\n"
     ]
    },
    {
     "name": "stdout",
     "output_type": "stream",
     "text": [
      "Data extraction completed.\n"
     ]
    }
   ],
   "source": [
    "tf.get_logger().setLevel('ERROR')\n",
    "\n",
    "print(\"Data extraction started...\")\n",
    "etl.run_extract_pipeline(args)\n",
    "print(\"Data extraction completed.\")"
   ]
  },
  {
   "cell_type": "code",
   "execution_count": 48,
   "id": "a036944a",
   "metadata": {},
   "outputs": [
    {
     "name": "stdout",
     "output_type": "stream",
     "text": [
      "gs://pbalm-cxb-aa-eu/creditcards/serving_data/input_data/data--00000-of-00001.jsonl\n"
     ]
    }
   ],
   "source": [
    "!gsutil ls {SERVING_INPUT_DATA_DIR}"
   ]
  },
  {
   "cell_type": "markdown",
   "id": "5ff0d72b",
   "metadata": {},
   "source": [
    "### Submit the batch prediction job"
   ]
  },
  {
   "cell_type": "code",
   "execution_count": 49,
   "id": "eb72b16e",
   "metadata": {},
   "outputs": [],
   "source": [
    "model_name =  vertex_ai.Model.list(\n",
    "    filter=f'display_name={MODEL_DISPLAY_NAME}',\n",
    "    order_by=\"update_time\")[-1].gca_resource.name"
   ]
  },
  {
   "cell_type": "code",
   "execution_count": null,
   "id": "dac58bf2",
   "metadata": {},
   "outputs": [
    {
     "name": "stdout",
     "output_type": "stream",
     "text": [
      "Creating BatchPredictionJob\n"
     ]
    },
    {
     "name": "stderr",
     "output_type": "stream",
     "text": [
      "INFO:google.cloud.aiplatform.jobs:Creating BatchPredictionJob\n"
     ]
    },
    {
     "name": "stdout",
     "output_type": "stream",
     "text": [
      "BatchPredictionJob created. Resource name: projects/188940921537/locations/europe-west4/batchPredictionJobs/3192367140061577216\n"
     ]
    },
    {
     "name": "stderr",
     "output_type": "stream",
     "text": [
      "INFO:google.cloud.aiplatform.jobs:BatchPredictionJob created. Resource name: projects/188940921537/locations/europe-west4/batchPredictionJobs/3192367140061577216\n"
     ]
    },
    {
     "name": "stdout",
     "output_type": "stream",
     "text": [
      "To use this BatchPredictionJob in another session:\n"
     ]
    },
    {
     "name": "stderr",
     "output_type": "stream",
     "text": [
      "INFO:google.cloud.aiplatform.jobs:To use this BatchPredictionJob in another session:\n"
     ]
    },
    {
     "name": "stdout",
     "output_type": "stream",
     "text": [
      "bpj = aiplatform.BatchPredictionJob('projects/188940921537/locations/europe-west4/batchPredictionJobs/3192367140061577216')\n"
     ]
    },
    {
     "name": "stderr",
     "output_type": "stream",
     "text": [
      "INFO:google.cloud.aiplatform.jobs:bpj = aiplatform.BatchPredictionJob('projects/188940921537/locations/europe-west4/batchPredictionJobs/3192367140061577216')\n"
     ]
    },
    {
     "name": "stdout",
     "output_type": "stream",
     "text": [
      "View Batch Prediction Job:\n",
      "https://console.cloud.google.com/ai/platform/locations/europe-west4/batch-predictions/3192367140061577216?project=188940921537\n"
     ]
    },
    {
     "name": "stderr",
     "output_type": "stream",
     "text": [
      "INFO:google.cloud.aiplatform.jobs:View Batch Prediction Job:\n",
      "https://console.cloud.google.com/ai/platform/locations/europe-west4/batch-predictions/3192367140061577216?project=188940921537\n"
     ]
    },
    {
     "name": "stdout",
     "output_type": "stream",
     "text": [
      "BatchPredictionJob projects/188940921537/locations/europe-west4/batchPredictionJobs/3192367140061577216 current state:\n",
      "JobState.JOB_STATE_PENDING\n"
     ]
    },
    {
     "name": "stderr",
     "output_type": "stream",
     "text": [
      "INFO:google.cloud.aiplatform.jobs:BatchPredictionJob projects/188940921537/locations/europe-west4/batchPredictionJobs/3192367140061577216 current state:\n",
      "JobState.JOB_STATE_PENDING\n"
     ]
    },
    {
     "name": "stdout",
     "output_type": "stream",
     "text": [
      "BatchPredictionJob projects/188940921537/locations/europe-west4/batchPredictionJobs/3192367140061577216 current state:\n",
      "JobState.JOB_STATE_RUNNING\n"
     ]
    },
    {
     "name": "stderr",
     "output_type": "stream",
     "text": [
      "INFO:google.cloud.aiplatform.jobs:BatchPredictionJob projects/188940921537/locations/europe-west4/batchPredictionJobs/3192367140061577216 current state:\n",
      "JobState.JOB_STATE_RUNNING\n"
     ]
    },
    {
     "name": "stdout",
     "output_type": "stream",
     "text": [
      "BatchPredictionJob projects/188940921537/locations/europe-west4/batchPredictionJobs/3192367140061577216 current state:\n",
      "JobState.JOB_STATE_RUNNING\n"
     ]
    },
    {
     "name": "stderr",
     "output_type": "stream",
     "text": [
      "INFO:google.cloud.aiplatform.jobs:BatchPredictionJob projects/188940921537/locations/europe-west4/batchPredictionJobs/3192367140061577216 current state:\n",
      "JobState.JOB_STATE_RUNNING\n"
     ]
    },
    {
     "name": "stdout",
     "output_type": "stream",
     "text": [
      "BatchPredictionJob projects/188940921537/locations/europe-west4/batchPredictionJobs/3192367140061577216 current state:\n",
      "JobState.JOB_STATE_RUNNING\n"
     ]
    },
    {
     "name": "stderr",
     "output_type": "stream",
     "text": [
      "INFO:google.cloud.aiplatform.jobs:BatchPredictionJob projects/188940921537/locations/europe-west4/batchPredictionJobs/3192367140061577216 current state:\n",
      "JobState.JOB_STATE_RUNNING\n"
     ]
    },
    {
     "name": "stdout",
     "output_type": "stream",
     "text": [
      "BatchPredictionJob projects/188940921537/locations/europe-west4/batchPredictionJobs/3192367140061577216 current state:\n",
      "JobState.JOB_STATE_RUNNING\n"
     ]
    },
    {
     "name": "stderr",
     "output_type": "stream",
     "text": [
      "INFO:google.cloud.aiplatform.jobs:BatchPredictionJob projects/188940921537/locations/europe-west4/batchPredictionJobs/3192367140061577216 current state:\n",
      "JobState.JOB_STATE_RUNNING\n"
     ]
    },
    {
     "name": "stdout",
     "output_type": "stream",
     "text": [
      "BatchPredictionJob projects/188940921537/locations/europe-west4/batchPredictionJobs/3192367140061577216 current state:\n",
      "JobState.JOB_STATE_RUNNING\n"
     ]
    },
    {
     "name": "stderr",
     "output_type": "stream",
     "text": [
      "INFO:google.cloud.aiplatform.jobs:BatchPredictionJob projects/188940921537/locations/europe-west4/batchPredictionJobs/3192367140061577216 current state:\n",
      "JobState.JOB_STATE_RUNNING\n"
     ]
    },
    {
     "name": "stdout",
     "output_type": "stream",
     "text": [
      "BatchPredictionJob projects/188940921537/locations/europe-west4/batchPredictionJobs/3192367140061577216 current state:\n",
      "JobState.JOB_STATE_RUNNING\n"
     ]
    },
    {
     "name": "stderr",
     "output_type": "stream",
     "text": [
      "INFO:google.cloud.aiplatform.jobs:BatchPredictionJob projects/188940921537/locations/europe-west4/batchPredictionJobs/3192367140061577216 current state:\n",
      "JobState.JOB_STATE_RUNNING\n"
     ]
    },
    {
     "name": "stdout",
     "output_type": "stream",
     "text": [
      "BatchPredictionJob projects/188940921537/locations/europe-west4/batchPredictionJobs/3192367140061577216 current state:\n",
      "JobState.JOB_STATE_RUNNING\n"
     ]
    },
    {
     "name": "stderr",
     "output_type": "stream",
     "text": [
      "INFO:google.cloud.aiplatform.jobs:BatchPredictionJob projects/188940921537/locations/europe-west4/batchPredictionJobs/3192367140061577216 current state:\n",
      "JobState.JOB_STATE_RUNNING\n"
     ]
    }
   ],
   "source": [
    "job_resources =  {\n",
    "    \"machine_type\": 'n1-standard-2',\n",
    "    #'accelerator_count': 1,\n",
    "    #'accelerator_type': 'NVIDIA_TESLA_T4'\n",
    "    \"starting_replica_count\": 1,\n",
    "    \"max_replica_count\": 10,\n",
    "}\n",
    "\n",
    "job_display_name = f\"{MODEL_DISPLAY_NAME}-prediction-job-{datetime.now().strftime('%Y%m%d%H%M%S')}\"\n",
    "\n",
    "vertex_ai.BatchPredictionJob.create(\n",
    "    job_display_name=job_display_name,\n",
    "    model_name=model_name,\n",
    "    gcs_source=SERVING_INPUT_DATA_DIR + '/*.jsonl',\n",
    "    gcs_destination_prefix=SERVING_OUTPUT_DATA_DIR,\n",
    "    instances_format='jsonl',\n",
    "    predictions_format='jsonl',\n",
    "    sync=True,\n",
    "    **job_resources,\n",
    ")"
   ]
  },
  {
   "cell_type": "markdown",
   "id": "a4f281a9",
   "metadata": {},
   "source": [
    "## 3. Run the batch prediction pipeline using Vertex Pipelines"
   ]
  },
  {
   "cell_type": "code",
   "execution_count": null,
   "id": "809ba028",
   "metadata": {},
   "outputs": [],
   "source": [
    "WORKSPACE = f\"gs://{BUCKET}/{DATASET_DISPLAY_NAME}/\"\n",
    "ARTIFACT_STORE = os.path.join(WORKSPACE, 'tfx_artifacts')\n",
    "PIPELINE_NAME = f'{MODEL_DISPLAY_NAME}-predict-pipeline'"
   ]
  },
  {
   "cell_type": "markdown",
   "id": "769a1d9e",
   "metadata": {},
   "source": [
    "### Set the pipeline configurations for the Vertex AI run"
   ]
  },
  {
   "cell_type": "code",
   "execution_count": null,
   "id": "c5add19d",
   "metadata": {},
   "outputs": [],
   "source": [
    "os.environ[\"PROJECT\"] = PROJECT\n",
    "os.environ[\"REGION\"] = REGION\n",
    "os.environ[\"GCS_LOCATION\"] = f\"gs://{BUCKET}/{DATASET_DISPLAY_NAME}\"\n",
    "os.environ[\"MODEL_DISPLAY_NAME\"] = MODEL_DISPLAY_NAME\n",
    "os.environ[\"PIPELINE_NAME\"] = PIPELINE_NAME\n",
    "os.environ[\"ARTIFACT_STORE_URI\"] = ARTIFACT_STORE\n",
    "os.environ[\"BATCH_PREDICTION_BQ_DATASET_NAME\"] = SERVE_BQ_DATASET_NAME\n",
    "os.environ[\"BATCH_PREDICTION_BQ_TABLE_NAME\"] = SERVE_BQ_TABLE_NAME\n",
    "os.environ[\"SERVE_LIMIT\"] = \"1000\"\n",
    "os.environ[\"BEAM_RUNNER\"] = \"DirectRunner\"\n",
    "os.environ[\"TFX_IMAGE_URI\"] = f\"gcr.io/{PROJECT}/{DATASET_DISPLAY_NAME}:{VERSION}\""
   ]
  },
  {
   "cell_type": "code",
   "execution_count": null,
   "id": "f6d0e2ec",
   "metadata": {},
   "outputs": [],
   "source": [
    "import importlib\n",
    "from src.tfx_pipelines import config\n",
    "importlib.reload(config)\n",
    "\n",
    "for key, value in config.__dict__.items():\n",
    "    if key.isupper(): print(f'{key}: {value}')"
   ]
  },
  {
   "cell_type": "markdown",
   "id": "f128b46e",
   "metadata": {},
   "source": [
    "### (Optional) Build the ML container image\n",
    "\n",
    "This is the `TFX` runtime environment for the training pipeline steps."
   ]
  },
  {
   "cell_type": "code",
   "execution_count": null,
   "id": "f24fa5e6",
   "metadata": {},
   "outputs": [],
   "source": [
    "!echo $TFX_IMAGE_URI"
   ]
  },
  {
   "cell_type": "code",
   "execution_count": null,
   "id": "3949cc7e",
   "metadata": {},
   "outputs": [],
   "source": [
    "!gcloud builds submit --tag $TFX_IMAGE_URI . --timeout=15m --machine-type=e2-highcpu-8"
   ]
  },
  {
   "cell_type": "markdown",
   "id": "98a9890d",
   "metadata": {},
   "source": [
    "### Compile pipeline"
   ]
  },
  {
   "cell_type": "code",
   "execution_count": null,
   "id": "09c8a3a0",
   "metadata": {},
   "outputs": [],
   "source": [
    "from src.tfx_pipelines import runner\n",
    "\n",
    "pipeline_definition_file = f'{config.PIPELINE_NAME}.json'\n",
    "pipeline_definition = runner.compile_prediction_pipeline(pipeline_definition_file)"
   ]
  },
  {
   "cell_type": "markdown",
   "id": "2bc2792a",
   "metadata": {},
   "source": [
    "### Submit run to Vertex Pipelines"
   ]
  },
  {
   "cell_type": "code",
   "execution_count": null,
   "id": "37dcc92d",
   "metadata": {},
   "outputs": [],
   "source": [
    "from kfp.v2.google.client import AIPlatformClient\n",
    "\n",
    "pipeline_client = AIPlatformClient(\n",
    "    project_id=PROJECT, region=REGION)\n",
    "                 \n",
    "pipeline_client.create_run_from_job_spec(\n",
    "    job_spec_path=pipeline_definition_file,\n",
    "    service_account=SERVICE_ACCOUNT\n",
    ")"
   ]
  },
  {
   "cell_type": "code",
   "execution_count": null,
   "id": "5e0d5bef",
   "metadata": {},
   "outputs": [],
   "source": []
  },
  {
   "cell_type": "code",
   "execution_count": null,
   "id": "99d6be0d-7e79-4a37-8f5f-479b08569b2d",
   "metadata": {},
   "outputs": [],
   "source": []
  }
 ],
 "metadata": {
  "environment": {
   "kernel": "python3",
   "name": "tf2-gpu.2-8.m93",
   "type": "gcloud",
   "uri": "gcr.io/deeplearning-platform-release/tf2-gpu.2-8:m93"
  },
  "kernelspec": {
   "display_name": "Python 3",
   "language": "python",
   "name": "python3"
  },
  "language_info": {
   "codemirror_mode": {
    "name": "ipython",
    "version": 3
   },
   "file_extension": ".py",
   "mimetype": "text/x-python",
   "name": "python",
   "nbconvert_exporter": "python",
   "pygments_lexer": "ipython3",
   "version": "3.7.12"
  }
 },
 "nbformat": 4,
 "nbformat_minor": 5
}
